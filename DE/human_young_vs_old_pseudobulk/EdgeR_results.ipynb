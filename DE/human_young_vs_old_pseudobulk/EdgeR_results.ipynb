{
 "cells": [
  {
   "cell_type": "code",
   "execution_count": 28,
   "id": "dae9e900",
   "metadata": {},
   "outputs": [],
   "source": [
    "import warnings\n",
    "import scanpy as sc\n",
    "import squidpy as sq\n",
    "import anndata as an\n",
    "import pandas as pd\n",
    "import numpy as np\n",
    "import matplotlib as mpl\n",
    "import matplotlib.pyplot as plt\n",
    "import seaborn as sns\n",
    "from urllib import request\n",
    "import json\n",
    "import os\n",
    "\n",
    "sc.settings.set_figure_params(dpi=80)\n",
    "#sc.set_figure_params(facecolor=\"white\", figsize=(8, 8))\n",
    "warnings.simplefilter(action='ignore', category=FutureWarning)\n",
    "sc.settings.verbosity = 3"
   ]
  },
  {
   "cell_type": "markdown",
   "id": "2b8075c0",
   "metadata": {},
   "source": [
    "## Global variables"
   ]
  },
  {
   "cell_type": "code",
   "execution_count": 36,
   "id": "d5833832",
   "metadata": {},
   "outputs": [],
   "source": [
    "dir_path = '../../results/'"
   ]
  },
  {
   "cell_type": "code",
   "execution_count": 25,
   "id": "c4f4126f",
   "metadata": {},
   "outputs": [],
   "source": [
    "de_dir_path = '../../results/DiffExpr/young_vs_old/'"
   ]
  },
  {
   "cell_type": "code",
   "execution_count": 37,
   "id": "4223c5ff",
   "metadata": {},
   "outputs": [
    {
     "data": {
      "text/plain": [
       "['edgeR', 'scanpy']"
      ]
     },
     "execution_count": 37,
     "metadata": {},
     "output_type": "execute_result"
    }
   ],
   "source": [
    "os.listdir(de_dir_path)"
   ]
  },
  {
   "cell_type": "markdown",
   "id": "22169059",
   "metadata": {},
   "source": [
    "### DE results"
   ]
  },
  {
   "cell_type": "code",
   "execution_count": 13,
   "id": "8e42d1eb",
   "metadata": {},
   "outputs": [
    {
     "data": {
      "text/plain": [
       "dict_keys(['L1', 'L2', 'L3', 'L4', 'L5', 'L6', 'WM'])"
      ]
     },
     "execution_count": 13,
     "metadata": {},
     "output_type": "execute_result"
    }
   ],
   "source": [
    "# Load EdgeR results\n",
    "edgeR_DE = dict()\n",
    "\n",
    "for file in os.listdir(de_dir_path + 'edgeR'):\n",
    "    layer = file.split('_')[0]\n",
    "    df = pd.read_csv(de_dir_path + 'edgeR/' + file, index_col=0)\n",
    "    edgeR_DE[layer] = df\n",
    "\n",
    "edgeR_DE.keys()"
   ]
  },
  {
   "cell_type": "code",
   "execution_count": 14,
   "id": "217f65b6",
   "metadata": {},
   "outputs": [
    {
     "data": {
      "text/html": [
       "<div>\n",
       "<style scoped>\n",
       "    .dataframe tbody tr th:only-of-type {\n",
       "        vertical-align: middle;\n",
       "    }\n",
       "\n",
       "    .dataframe tbody tr th {\n",
       "        vertical-align: top;\n",
       "    }\n",
       "\n",
       "    .dataframe thead th {\n",
       "        text-align: right;\n",
       "    }\n",
       "</style>\n",
       "<table border=\"1\" class=\"dataframe\">\n",
       "  <thead>\n",
       "    <tr style=\"text-align: right;\">\n",
       "      <th></th>\n",
       "      <th>logFC</th>\n",
       "      <th>logCPM</th>\n",
       "      <th>F</th>\n",
       "      <th>PValue</th>\n",
       "      <th>FDR</th>\n",
       "    </tr>\n",
       "  </thead>\n",
       "  <tbody>\n",
       "    <tr>\n",
       "      <th>NLRP1</th>\n",
       "      <td>-12.290117</td>\n",
       "      <td>7.616894</td>\n",
       "      <td>8.849669e+02</td>\n",
       "      <td>4.300965e-52</td>\n",
       "      <td>5.082880e-48</td>\n",
       "    </tr>\n",
       "    <tr>\n",
       "      <th>DPYSL3</th>\n",
       "      <td>3.618613</td>\n",
       "      <td>8.494822</td>\n",
       "      <td>6.061350e+02</td>\n",
       "      <td>1.164502e-45</td>\n",
       "      <td>6.881043e-42</td>\n",
       "    </tr>\n",
       "    <tr>\n",
       "      <th>VXN</th>\n",
       "      <td>-11.139452</td>\n",
       "      <td>6.644319</td>\n",
       "      <td>5.611696e+02</td>\n",
       "      <td>2.859678e-43</td>\n",
       "      <td>1.126522e-39</td>\n",
       "    </tr>\n",
       "    <tr>\n",
       "      <th>YBX1</th>\n",
       "      <td>3.958872</td>\n",
       "      <td>8.784563</td>\n",
       "      <td>5.298523e+02</td>\n",
       "      <td>4.782240e-43</td>\n",
       "      <td>1.412913e-39</td>\n",
       "    </tr>\n",
       "    <tr>\n",
       "      <th>TUBA1A</th>\n",
       "      <td>3.208877</td>\n",
       "      <td>11.739539</td>\n",
       "      <td>4.999432e+02</td>\n",
       "      <td>6.182635e-42</td>\n",
       "      <td>1.461328e-38</td>\n",
       "    </tr>\n",
       "    <tr>\n",
       "      <th>...</th>\n",
       "      <td>...</td>\n",
       "      <td>...</td>\n",
       "      <td>...</td>\n",
       "      <td>...</td>\n",
       "      <td>...</td>\n",
       "    </tr>\n",
       "    <tr>\n",
       "      <th>HUS1</th>\n",
       "      <td>0.000509</td>\n",
       "      <td>3.249055</td>\n",
       "      <td>1.254909e-06</td>\n",
       "      <td>9.991083e-01</td>\n",
       "      <td>9.992944e-01</td>\n",
       "    </tr>\n",
       "    <tr>\n",
       "      <th>TUBGCP2</th>\n",
       "      <td>0.013668</td>\n",
       "      <td>5.847461</td>\n",
       "      <td>9.082083e-03</td>\n",
       "      <td>9.991178e-01</td>\n",
       "      <td>9.992944e-01</td>\n",
       "    </tr>\n",
       "    <tr>\n",
       "      <th>UBE2G2</th>\n",
       "      <td>0.000170</td>\n",
       "      <td>5.152333</td>\n",
       "      <td>9.525497e-07</td>\n",
       "      <td>9.992231e-01</td>\n",
       "      <td>9.992944e-01</td>\n",
       "    </tr>\n",
       "    <tr>\n",
       "      <th>PGS1</th>\n",
       "      <td>0.059686</td>\n",
       "      <td>4.460213</td>\n",
       "      <td>7.521595e-02</td>\n",
       "      <td>9.992876e-01</td>\n",
       "      <td>9.992944e-01</td>\n",
       "    </tr>\n",
       "    <tr>\n",
       "      <th>FAM114A2</th>\n",
       "      <td>0.000340</td>\n",
       "      <td>3.383864</td>\n",
       "      <td>7.857817e-07</td>\n",
       "      <td>9.992944e-01</td>\n",
       "      <td>9.992944e-01</td>\n",
       "    </tr>\n",
       "  </tbody>\n",
       "</table>\n",
       "<p>11818 rows × 5 columns</p>\n",
       "</div>"
      ],
      "text/plain": [
       "              logFC     logCPM             F        PValue           FDR\n",
       "NLRP1    -12.290117   7.616894  8.849669e+02  4.300965e-52  5.082880e-48\n",
       "DPYSL3     3.618613   8.494822  6.061350e+02  1.164502e-45  6.881043e-42\n",
       "VXN      -11.139452   6.644319  5.611696e+02  2.859678e-43  1.126522e-39\n",
       "YBX1       3.958872   8.784563  5.298523e+02  4.782240e-43  1.412913e-39\n",
       "TUBA1A     3.208877  11.739539  4.999432e+02  6.182635e-42  1.461328e-38\n",
       "...             ...        ...           ...           ...           ...\n",
       "HUS1       0.000509   3.249055  1.254909e-06  9.991083e-01  9.992944e-01\n",
       "TUBGCP2    0.013668   5.847461  9.082083e-03  9.991178e-01  9.992944e-01\n",
       "UBE2G2     0.000170   5.152333  9.525497e-07  9.992231e-01  9.992944e-01\n",
       "PGS1       0.059686   4.460213  7.521595e-02  9.992876e-01  9.992944e-01\n",
       "FAM114A2   0.000340   3.383864  7.857817e-07  9.992944e-01  9.992944e-01\n",
       "\n",
       "[11818 rows x 5 columns]"
      ]
     },
     "execution_count": 14,
     "metadata": {},
     "output_type": "execute_result"
    }
   ],
   "source": [
    "edgeR_DE['L1']"
   ]
  },
  {
   "cell_type": "markdown",
   "id": "5b584eef",
   "metadata": {},
   "source": [
    "### Load adata"
   ]
  },
  {
   "cell_type": "code",
   "execution_count": 43,
   "id": "4928c865",
   "metadata": {},
   "outputs": [
    {
     "name": "stdout",
     "output_type": "stream",
     "text": [
      "AnnData object with n_obs × n_vars = 15417 × 19966\n",
      "    obs: 'in_tissue', 'array_row', 'array_col', 'label', 'sample_id', 'n_genes_by_counts', 'total_counts', 'total_counts_mt', 'pct_counts_mt', 'total_counts_hb', 'pct_counts_hb', 'total_counts_ribo', 'pct_counts_ribo'\n",
      "    var: 'gene_ids', 'feature_types', 'mt', 'hb', 'ribo'\n",
      "    uns: 'qc_good_spots_colors', 'qc_n_genes_by_counts_colors', 'qc_pct_counts_ribo_colors', 'qc_total_counts_colors', 'spatial'\n",
      "    obsm: 'spatial'\n"
     ]
    },
    {
     "name": "stderr",
     "output_type": "stream",
     "text": [
      "C:\\Users\\aleks\\anaconda3\\envs\\scanorama39\\lib\\site-packages\\anndata\\_core\\anndata.py:1828: UserWarning: Observation names are not unique. To make them unique, call `.obs_names_make_unique`.\n",
      "  utils.warn_names_duplicates(\"obs\")\n"
     ]
    }
   ],
   "source": [
    "# read young human adata object\n",
    "human_young = sc.read_h5ad(dir_path + 'filtered_samples/concated/human.h5ad')\n",
    "print(human_young)\n",
    "\n",
    "# add _young sufix to layer name\n",
    "human_young.obs.label.replace({\"L6a\": \"L6\", \"L6b\": \"L6\"}, inplace=True)\n",
    "human_young.obs.label = human_young.obs.label.astype('str') + '_young'"
   ]
  },
  {
   "cell_type": "code",
   "execution_count": 46,
   "id": "341da302",
   "metadata": {},
   "outputs": [
    {
     "name": "stdout",
     "output_type": "stream",
     "text": [
      "AnnData object with n_obs × n_vars = 42588 × 33538\n",
      "    obs: 'in_tissue', 'array_row', 'array_col', 'label', 'sample_id', 'n_genes_by_counts', 'total_counts', 'total_counts_mt', 'pct_counts_mt', 'total_counts_hb', 'pct_counts_hb', 'total_counts_ribo', 'pct_counts_ribo'\n",
      "    var: 'gene_ids', 'feature_types', 'genome', 'mt', 'hb', 'ribo'\n",
      "    uns: 'qc_good_spots_colors', 'qc_n_genes_by_counts_colors', 'qc_pct_counts_mt_colors', 'qc_pct_counts_ribo_colors', 'qc_total_counts_colors', 'spatial'\n",
      "    obsm: 'spatial'\n"
     ]
    },
    {
     "name": "stderr",
     "output_type": "stream",
     "text": [
      "C:\\Users\\aleks\\anaconda3\\envs\\scanorama39\\lib\\site-packages\\anndata\\_core\\anndata.py:1828: UserWarning: Observation names are not unique. To make them unique, call `.obs_names_make_unique`.\n",
      "  utils.warn_names_duplicates(\"obs\")\n"
     ]
    }
   ],
   "source": [
    "# read young human adata object\n",
    "human_old = sc.read_h5ad(dir_path + 'filtered_samples/concated/spatial_libd_human.h5ad')\n",
    "print(human_old)\n",
    "\n",
    "# add _young sufix to layer name\n",
    "human_old.obs.label = human_old.obs.label.astype('str') + '_old'"
   ]
  },
  {
   "cell_type": "code",
   "execution_count": 47,
   "id": "b7b8143f",
   "metadata": {},
   "outputs": [
    {
     "name": "stderr",
     "output_type": "stream",
     "text": [
      "C:\\Users\\aleks\\anaconda3\\envs\\scanorama39\\lib\\site-packages\\anndata\\_core\\anndata.py:1828: UserWarning: Observation names are not unique. To make them unique, call `.obs_names_make_unique`.\n",
      "  utils.warn_names_duplicates(\"obs\")\n"
     ]
    },
    {
     "data": {
      "text/plain": [
       "AnnData object with n_obs × n_vars = 58005 × 19404\n",
       "    obs: 'in_tissue', 'array_row', 'array_col', 'label', 'sample_id', 'n_genes_by_counts', 'total_counts', 'total_counts_mt', 'pct_counts_mt', 'total_counts_hb', 'pct_counts_hb', 'total_counts_ribo', 'pct_counts_ribo'\n",
       "    var: 'feature_types', 'mt', 'hb', 'ribo'\n",
       "    uns: 'qc_good_spots_colors', 'qc_n_genes_by_counts_colors', 'qc_total_counts_colors', 'spatial', 'qc_pct_counts_mt_colors'\n",
       "    obsm: 'spatial'"
      ]
     },
     "execution_count": 47,
     "metadata": {},
     "output_type": "execute_result"
    }
   ],
   "source": [
    "# concat old and young files\n",
    "adata = an.concat([human_young, human_old], merge='same',uns_merge=\"unique\")\n",
    "adata.obs_names_make_unique()\n",
    "adata"
   ]
  },
  {
   "cell_type": "code",
   "execution_count": 48,
   "id": "9d6d5521",
   "metadata": {},
   "outputs": [
    {
     "data": {
      "text/plain": [
       "['human_759',\n",
       " 'human_j12',\n",
       " 'human_j3',\n",
       " 'human_j4',\n",
       " 'human_j6',\n",
       " '151507',\n",
       " '151508',\n",
       " '151509',\n",
       " '151510',\n",
       " '151669',\n",
       " '151670',\n",
       " '151671',\n",
       " '151672',\n",
       " '151673',\n",
       " '151674',\n",
       " '151675',\n",
       " '151676']"
      ]
     },
     "execution_count": 48,
     "metadata": {},
     "output_type": "execute_result"
    }
   ],
   "source": [
    "samples = list(adata.uns['spatial'].keys())\n",
    "samples"
   ]
  },
  {
   "cell_type": "code",
   "execution_count": 49,
   "id": "795bfc23",
   "metadata": {},
   "outputs": [],
   "source": [
    "del human_young, human_old"
   ]
  },
  {
   "cell_type": "code",
   "execution_count": null,
   "id": "706f1083",
   "metadata": {},
   "outputs": [],
   "source": []
  }
 ],
 "metadata": {
  "kernelspec": {
   "display_name": "Python 3 (ipykernel)",
   "language": "python",
   "name": "python3"
  },
  "language_info": {
   "codemirror_mode": {
    "name": "ipython",
    "version": 3
   },
   "file_extension": ".py",
   "mimetype": "text/x-python",
   "name": "python",
   "nbconvert_exporter": "python",
   "pygments_lexer": "ipython3",
   "version": "3.9.13"
  }
 },
 "nbformat": 4,
 "nbformat_minor": 5
}
