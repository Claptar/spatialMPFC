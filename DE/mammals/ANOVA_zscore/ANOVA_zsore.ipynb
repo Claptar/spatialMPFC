{
 "cells": [
  {
   "cell_type": "code",
   "execution_count": 1,
   "id": "67f38c7c",
   "metadata": {},
   "outputs": [],
   "source": [
    "import warnings\n",
    "import scanpy as sc\n",
    "import anndata as an\n",
    "import pandas as pd\n",
    "import numpy as np\n",
    "import matplotlib as mpl\n",
    "import matplotlib.pyplot as plt\n",
    "import seaborn as sns\n",
    "from urllib import request\n",
    "import json\n",
    "import os\n",
    "from tqdm.notebook import tqdm\n",
    "\n",
    "import statsmodels.api as sm\n",
    "from statsmodels.formula.api import ols\n",
    "from tqdm.notebook import tqdm\n",
    "from statsmodels.stats.multitest import multipletests\n",
    "\n",
    "sc.settings.set_figure_params(dpi=80)\n",
    "#sc.set_figure_params(facecolor=\"white\", figsize=(8, 8))\n",
    "warnings.simplefilter(action='ignore', category=FutureWarning)\n",
    "sc.settings.verbosity = 3"
   ]
  },
  {
   "cell_type": "markdown",
   "id": "35fd8fad",
   "metadata": {},
   "source": [
    "## Global variables"
   ]
  },
  {
   "cell_type": "code",
   "execution_count": 2,
   "id": "34c4fbf8-e6e3-47b5-86be-7569e0f99c5e",
   "metadata": {},
   "outputs": [],
   "source": [
    "os.makedirs('results', exist_ok=True)"
   ]
  },
  {
   "cell_type": "code",
   "execution_count": 3,
   "id": "f6e781a2",
   "metadata": {},
   "outputs": [],
   "source": [
    "dir_path = '../../../data/pseudobulks/'"
   ]
  },
  {
   "cell_type": "code",
   "execution_count": 4,
   "id": "c50a730b",
   "metadata": {},
   "outputs": [
    {
     "data": {
      "text/plain": [
       "['pb_age.h5ad', 'pb_mammals.h5ad']"
      ]
     },
     "execution_count": 4,
     "metadata": {},
     "output_type": "execute_result"
    }
   ],
   "source": [
    "os.listdir(dir_path)"
   ]
  },
  {
   "cell_type": "markdown",
   "id": "b05dd527",
   "metadata": {},
   "source": [
    "# ANOVA"
   ]
  },
  {
   "cell_type": "markdown",
   "id": "09278915",
   "metadata": {},
   "source": [
    "Load pseudobulk data"
   ]
  },
  {
   "cell_type": "code",
   "execution_count": 5,
   "id": "663aca25",
   "metadata": {},
   "outputs": [
    {
     "data": {
      "text/plain": [
       "AnnData object with n_obs × n_vars = 94 × 14963\n",
       "    obs: 'layer', 'sample_id', 'psbulk_n_cells', 'psbulk_counts', 'condition'\n",
       "    var: 'feature_types', 'mt', 'hb', 'ribo'\n",
       "    layers: 'psbulk_props'"
      ]
     },
     "execution_count": 5,
     "metadata": {},
     "output_type": "execute_result"
    }
   ],
   "source": [
    "file_name = 'pb_mammals.h5ad'\n",
    "adata_pb = sc.read_h5ad(dir_path + file_name)\n",
    "adata_pb"
   ]
  },
  {
   "cell_type": "markdown",
   "id": "4d9e4e49",
   "metadata": {},
   "source": [
    "Remove technical repeats"
   ]
  },
  {
   "cell_type": "code",
   "execution_count": 6,
   "id": "6c9f39da",
   "metadata": {},
   "outputs": [
    {
     "data": {
      "text/plain": [
       "AnnData object with n_obs × n_vars = 89 × 14963\n",
       "    obs: 'layer', 'sample_id', 'psbulk_n_cells', 'psbulk_counts', 'condition'\n",
       "    var: 'feature_types', 'mt', 'hb', 'ribo'\n",
       "    layers: 'psbulk_props'"
      ]
     },
     "execution_count": 6,
     "metadata": {},
     "output_type": "execute_result"
    }
   ],
   "source": [
    "adata_pb = adata_pb[adata_pb.obs.sample_id != 'chimp_13302'].copy()\n",
    "adata_pb"
   ]
  },
  {
   "cell_type": "markdown",
   "id": "85f2d38b",
   "metadata": {},
   "source": [
    "Calculate library size"
   ]
  },
  {
   "cell_type": "code",
   "execution_count": 7,
   "id": "1994056b",
   "metadata": {},
   "outputs": [],
   "source": [
    "adata_pb.obs[\"lib_size\"] = adata_pb.X.sum(axis=1)\n",
    "adata_pb.obs[\"log_lib_size\"] = np.log(adata_pb.obs[\"lib_size\"])"
   ]
  },
  {
   "cell_type": "markdown",
   "id": "0768f8af",
   "metadata": {},
   "source": [
    "## Gene filltering"
   ]
  },
  {
   "cell_type": "markdown",
   "id": "6a66385e",
   "metadata": {},
   "source": [
    "Fillter low expressed genes"
   ]
  },
  {
   "cell_type": "code",
   "execution_count": 8,
   "id": "464432d8",
   "metadata": {},
   "outputs": [
    {
     "data": {
      "text/plain": [
       "View of AnnData object with n_obs × n_vars = 89 × 9208\n",
       "    obs: 'layer', 'sample_id', 'psbulk_n_cells', 'psbulk_counts', 'condition', 'lib_size', 'log_lib_size'\n",
       "    var: 'feature_types', 'mt', 'hb', 'ribo'\n",
       "    layers: 'psbulk_props'"
      ]
     },
     "execution_count": 8,
     "metadata": {},
     "output_type": "execute_result"
    }
   ],
   "source": [
    "adata_pb = adata_pb[:, adata_pb.X.mean(axis=0) > 0.05]\n",
    "adata_pb"
   ]
  },
  {
   "cell_type": "code",
   "execution_count": 9,
   "id": "cc6d3a04",
   "metadata": {},
   "outputs": [],
   "source": [
    "adata_pb.write_h5ad('results/pb_mammals_filtered.h5ad')"
   ]
  },
  {
   "cell_type": "markdown",
   "id": "1cf9d95c",
   "metadata": {},
   "source": [
    "## Sample normalization"
   ]
  },
  {
   "cell_type": "code",
   "execution_count": 10,
   "id": "0fcab9da",
   "metadata": {},
   "outputs": [],
   "source": [
    "def z_score(adata):\n",
    "    pb_df = pd.DataFrame(adata.X, columns=adata.var_names, index=adata.obs_names)\n",
    "    pb_df['sample_id'] = adata.obs['sample_id']\n",
    "    pb_df.head()\n",
    "    # calculate statistics\n",
    "    sample_mean = pb_df.groupby('sample_id').mean()\n",
    "    sample_std = pb_df.groupby('sample_id').std()\n",
    "    # calculate z-score\n",
    "    columns = pb_df.columns.tolist()[:-1]\n",
    "    for sample in tqdm(sample_mean.index.tolist()):\n",
    "        pb_df.loc[pb_df.sample_id == sample, columns] = ((pb_df.loc[pb_df.sample_id == sample, columns] - sample_mean.loc[sample])\n",
    "                                                         / sample_std.loc[sample]).fillna(0)\n",
    "    # write adata\n",
    "    adata.X = pb_df[columns].values\n",
    "    return adata"
   ]
  },
  {
   "cell_type": "markdown",
   "id": "db0cf173",
   "metadata": {},
   "source": [
    "Library normalization"
   ]
  },
  {
   "cell_type": "code",
   "execution_count": 11,
   "id": "43eeed5d",
   "metadata": {},
   "outputs": [
    {
     "name": "stdout",
     "output_type": "stream",
     "text": [
      "normalizing counts per cell\n",
      "    finished (0:00:00)\n"
     ]
    },
    {
     "name": "stderr",
     "output_type": "stream",
     "text": [
      "d:\\projects\\diploma\\venv_stats2\\lib\\site-packages\\scanpy\\preprocessing\\_normalization.py:170: UserWarning: Received a view of an AnnData. Making a copy.\n",
      "  view_to_actual(adata)\n"
     ]
    }
   ],
   "source": [
    "sc.pp.normalize_total(adata_pb, target_sum=1e4)\n",
    "sc.pp.log1p(adata_pb)"
   ]
  },
  {
   "cell_type": "markdown",
   "id": "d625728c",
   "metadata": {},
   "source": [
    "Sample normalization"
   ]
  },
  {
   "cell_type": "code",
   "execution_count": 12,
   "id": "09f62928",
   "metadata": {},
   "outputs": [
    {
     "data": {
      "application/vnd.jupyter.widget-view+json": {
       "model_id": "6c9ffaaf16b946329eb39beb0bc35590",
       "version_major": 2,
       "version_minor": 0
      },
      "text/plain": [
       "  0%|          | 0/13 [00:00<?, ?it/s]"
      ]
     },
     "metadata": {},
     "output_type": "display_data"
    }
   ],
   "source": [
    "adata_norm = z_score(adata_pb)"
   ]
  },
  {
   "cell_type": "code",
   "execution_count": 13,
   "id": "5cac9576",
   "metadata": {},
   "outputs": [
    {
     "name": "stdout",
     "output_type": "stream",
     "text": [
      "computing PCA\n",
      "    with n_comps=50\n",
      "    finished (0:00:00)\n"
     ]
    }
   ],
   "source": [
    "sc.pp.pca(adata_norm)"
   ]
  },
  {
   "cell_type": "code",
   "execution_count": 14,
   "id": "74081e1e",
   "metadata": {},
   "outputs": [],
   "source": [
    "# save results\n",
    "adata_norm.write_h5ad('results/pb_mammals_samplenorm_zscore.h5ad')"
   ]
  },
  {
   "cell_type": "code",
   "execution_count": 15,
   "id": "98040f3a",
   "metadata": {},
   "outputs": [
    {
     "name": "stderr",
     "output_type": "stream",
     "text": [
      "d:\\projects\\diploma\\venv_stats2\\lib\\site-packages\\scanpy\\plotting\\_tools\\scatterplots.py:392: UserWarning: No data for colormapping provided via 'c'. Parameters 'cmap' will be ignored\n",
      "  cax = scatter(\n",
      "d:\\projects\\diploma\\venv_stats2\\lib\\site-packages\\scanpy\\plotting\\_tools\\scatterplots.py:392: UserWarning: No data for colormapping provided via 'c'. Parameters 'cmap' will be ignored\n",
      "  cax = scatter(\n"
     ]
    },
    {
     "data": {
      "image/png": "[encoded data removed]",
      "text/plain": [
       "<Figure size 832x320 with 2 Axes>"
      ]
     },
     "metadata": {
      "image/png": {
       "height": 299,
       "width": 760
      }
     },
     "output_type": "display_data"
    }
   ],
   "source": [
    "sc.pl.pca(adata_norm, color=['layer', 'condition'], size=200, ncols=3, wspace=0.3)"
   ]
  },
  {
   "cell_type": "markdown",
   "id": "333eabce",
   "metadata": {},
   "source": [
    "## ANOVA"
   ]
  },
  {
   "cell_type": "code",
   "execution_count": 16,
   "id": "33cc81b3",
   "metadata": {},
   "outputs": [
    {
     "data": {
      "text/plain": [
       "AnnData object with n_obs × n_vars = 89 × 9208\n",
       "    obs: 'layer', 'sample_id', 'psbulk_n_cells', 'psbulk_counts', 'condition', 'lib_size', 'log_lib_size'\n",
       "    var: 'feature_types', 'mt', 'hb', 'ribo'\n",
       "    uns: 'log1p', 'pca'\n",
       "    obsm: 'X_pca'\n",
       "    varm: 'PCs'\n",
       "    layers: 'psbulk_props'"
      ]
     },
     "execution_count": 16,
     "metadata": {},
     "output_type": "execute_result"
    }
   ],
   "source": [
    "adata = sc.read_h5ad('results/pb_mammals_samplenorm_zscore.h5ad')\n",
    "adata"
   ]
  },
  {
   "cell_type": "code",
   "execution_count": 17,
   "id": "92afdd52",
   "metadata": {},
   "outputs": [
    {
     "data": {
      "text/html": [
       "<div>\n",
       "<style scoped>\n",
       "    .dataframe tbody tr th:only-of-type {\n",
       "        vertical-align: middle;\n",
       "    }\n",
       "\n",
       "    .dataframe tbody tr th {\n",
       "        vertical-align: top;\n",
       "    }\n",
       "\n",
       "    .dataframe thead th {\n",
       "        text-align: right;\n",
       "    }\n",
       "</style>\n",
       "<table border=\"1\" class=\"dataframe\">\n",
       "  <thead>\n",
       "    <tr style=\"text-align: right;\">\n",
       "      <th></th>\n",
       "      <th>A1BG</th>\n",
       "      <th>AAAS</th>\n",
       "      <th>AACS</th>\n",
       "      <th>AADAT</th>\n",
       "      <th>AAGAB</th>\n",
       "      <th>AAK1</th>\n",
       "      <th>AAMDC</th>\n",
       "      <th>AAMP</th>\n",
       "      <th>AAR2</th>\n",
       "      <th>AARS1</th>\n",
       "      <th>...</th>\n",
       "      <th>ZSWIM7</th>\n",
       "      <th>ZSWIM8</th>\n",
       "      <th>ZUP1</th>\n",
       "      <th>ZWILCH</th>\n",
       "      <th>ZYG11B</th>\n",
       "      <th>ZYX</th>\n",
       "      <th>ZZEF1</th>\n",
       "      <th>ZZZ3</th>\n",
       "      <th>condition</th>\n",
       "      <th>layer</th>\n",
       "    </tr>\n",
       "  </thead>\n",
       "  <tbody>\n",
       "    <tr>\n",
       "      <th>chimp_11454_L1</th>\n",
       "      <td>0.067607</td>\n",
       "      <td>1.677290</td>\n",
       "      <td>-1.534315</td>\n",
       "      <td>0.929936</td>\n",
       "      <td>-1.891263</td>\n",
       "      <td>-1.121907</td>\n",
       "      <td>2.229827</td>\n",
       "      <td>0.418000</td>\n",
       "      <td>-0.182887</td>\n",
       "      <td>0.048899</td>\n",
       "      <td>...</td>\n",
       "      <td>-1.395130</td>\n",
       "      <td>-1.446030</td>\n",
       "      <td>-2.058029</td>\n",
       "      <td>0.766767</td>\n",
       "      <td>-0.871571</td>\n",
       "      <td>2.119675</td>\n",
       "      <td>-1.825826</td>\n",
       "      <td>0.044699</td>\n",
       "      <td>chimp</td>\n",
       "      <td>L1</td>\n",
       "    </tr>\n",
       "    <tr>\n",
       "      <th>chimp_13309_L1</th>\n",
       "      <td>-0.620890</td>\n",
       "      <td>-0.837512</td>\n",
       "      <td>-0.035323</td>\n",
       "      <td>-0.156411</td>\n",
       "      <td>1.389692</td>\n",
       "      <td>0.899977</td>\n",
       "      <td>-1.379352</td>\n",
       "      <td>0.203313</td>\n",
       "      <td>1.537268</td>\n",
       "      <td>0.551155</td>\n",
       "      <td>...</td>\n",
       "      <td>-0.679872</td>\n",
       "      <td>0.606861</td>\n",
       "      <td>-2.148551</td>\n",
       "      <td>-0.496705</td>\n",
       "      <td>-0.991205</td>\n",
       "      <td>-0.377964</td>\n",
       "      <td>-1.916228</td>\n",
       "      <td>0.735414</td>\n",
       "      <td>chimp</td>\n",
       "      <td>L1</td>\n",
       "    </tr>\n",
       "    <tr>\n",
       "      <th>chimp_j8_L1</th>\n",
       "      <td>0.180522</td>\n",
       "      <td>1.164354</td>\n",
       "      <td>-0.967539</td>\n",
       "      <td>0.124353</td>\n",
       "      <td>1.043396</td>\n",
       "      <td>-0.044744</td>\n",
       "      <td>0.921149</td>\n",
       "      <td>-0.260578</td>\n",
       "      <td>0.199490</td>\n",
       "      <td>0.714291</td>\n",
       "      <td>...</td>\n",
       "      <td>0.406670</td>\n",
       "      <td>1.972330</td>\n",
       "      <td>1.190047</td>\n",
       "      <td>-0.278057</td>\n",
       "      <td>-0.758739</td>\n",
       "      <td>-0.983870</td>\n",
       "      <td>1.912076</td>\n",
       "      <td>0.256580</td>\n",
       "      <td>chimp</td>\n",
       "      <td>L1</td>\n",
       "    </tr>\n",
       "    <tr>\n",
       "      <th>human_759_L1</th>\n",
       "      <td>-1.331822</td>\n",
       "      <td>2.137584</td>\n",
       "      <td>-1.205822</td>\n",
       "      <td>0.901628</td>\n",
       "      <td>-1.817619</td>\n",
       "      <td>-1.699446</td>\n",
       "      <td>1.991166</td>\n",
       "      <td>-0.914848</td>\n",
       "      <td>-0.788294</td>\n",
       "      <td>-0.647242</td>\n",
       "      <td>...</td>\n",
       "      <td>-0.452875</td>\n",
       "      <td>-0.346116</td>\n",
       "      <td>-0.100112</td>\n",
       "      <td>-1.887466</td>\n",
       "      <td>-1.363774</td>\n",
       "      <td>1.315433</td>\n",
       "      <td>0.350686</td>\n",
       "      <td>0.344768</td>\n",
       "      <td>human</td>\n",
       "      <td>L1</td>\n",
       "    </tr>\n",
       "    <tr>\n",
       "      <th>human_j12_L1</th>\n",
       "      <td>-0.233744</td>\n",
       "      <td>0.324173</td>\n",
       "      <td>-2.036622</td>\n",
       "      <td>-0.808470</td>\n",
       "      <td>-0.009232</td>\n",
       "      <td>-1.925505</td>\n",
       "      <td>1.342983</td>\n",
       "      <td>-1.619777</td>\n",
       "      <td>-1.418294</td>\n",
       "      <td>-1.010445</td>\n",
       "      <td>...</td>\n",
       "      <td>1.806208</td>\n",
       "      <td>0.183947</td>\n",
       "      <td>-1.941861</td>\n",
       "      <td>-1.789864</td>\n",
       "      <td>-1.398794</td>\n",
       "      <td>0.664080</td>\n",
       "      <td>-1.271133</td>\n",
       "      <td>1.354874</td>\n",
       "      <td>human</td>\n",
       "      <td>L1</td>\n",
       "    </tr>\n",
       "  </tbody>\n",
       "</table>\n",
       "<p>5 rows × 9210 columns</p>\n",
       "</div>"
      ],
      "text/plain": [
       "                    A1BG      AAAS      AACS     AADAT     AAGAB      AAK1  \\\n",
       "chimp_11454_L1  0.067607  1.677290 -1.534315  0.929936 -1.891263 -1.121907   \n",
       "chimp_13309_L1 -0.620890 -0.837512 -0.035323 -0.156411  1.389692  0.899977   \n",
       "chimp_j8_L1     0.180522  1.164354 -0.967539  0.124353  1.043396 -0.044744   \n",
       "human_759_L1   -1.331822  2.137584 -1.205822  0.901628 -1.817619 -1.699446   \n",
       "human_j12_L1   -0.233744  0.324173 -2.036622 -0.808470 -0.009232 -1.925505   \n",
       "\n",
       "                   AAMDC      AAMP      AAR2     AARS1  ...    ZSWIM7  \\\n",
       "chimp_11454_L1  2.229827  0.418000 -0.182887  0.048899  ... -1.395130   \n",
       "chimp_13309_L1 -1.379352  0.203313  1.537268  0.551155  ... -0.679872   \n",
       "chimp_j8_L1     0.921149 -0.260578  0.199490  0.714291  ...  0.406670   \n",
       "human_759_L1    1.991166 -0.914848 -0.788294 -0.647242  ... -0.452875   \n",
       "human_j12_L1    1.342983 -1.619777 -1.418294 -1.010445  ...  1.806208   \n",
       "\n",
       "                  ZSWIM8      ZUP1    ZWILCH    ZYG11B       ZYX     ZZEF1  \\\n",
       "chimp_11454_L1 -1.446030 -2.058029  0.766767 -0.871571  2.119675 -1.825826   \n",
       "chimp_13309_L1  0.606861 -2.148551 -0.496705 -0.991205 -0.377964 -1.916228   \n",
       "chimp_j8_L1     1.972330  1.190047 -0.278057 -0.758739 -0.983870  1.912076   \n",
       "human_759_L1   -0.346116 -0.100112 -1.887466 -1.363774  1.315433  0.350686   \n",
       "human_j12_L1    0.183947 -1.941861 -1.789864 -1.398794  0.664080 -1.271133   \n",
       "\n",
       "                    ZZZ3  condition  layer  \n",
       "chimp_11454_L1  0.044699      chimp     L1  \n",
       "chimp_13309_L1  0.735414      chimp     L1  \n",
       "chimp_j8_L1     0.256580      chimp     L1  \n",
       "human_759_L1    0.344768      human     L1  \n",
       "human_j12_L1    1.354874      human     L1  \n",
       "\n",
       "[5 rows x 9210 columns]"
      ]
     },
     "execution_count": 17,
     "metadata": {},
     "output_type": "execute_result"
    }
   ],
   "source": [
    "# Make df for ANOVA\n",
    "df = pd.DataFrame(adata.X, index=adata.obs_names, columns=adata.var_names)\n",
    "df['condition'] = adata.obs.condition\n",
    "df['layer'] = adata.obs.layer\n",
    "df.head()"
   ]
  },
  {
   "cell_type": "markdown",
   "id": "fe8cb70b",
   "metadata": {},
   "source": [
    "Replace gene names to `gene{i}` as `statsmodels` may fail"
   ]
  },
  {
   "cell_type": "code",
   "execution_count": 18,
   "id": "498b7319",
   "metadata": {},
   "outputs": [],
   "source": [
    "df_var_num = df.copy()\n",
    "df_var_num.columns = [f'gene{i}' for i in range(1, df_var_num.shape[1] - 1)] + ['condition', 'layer']"
   ]
  },
  {
   "cell_type": "code",
   "execution_count": 19,
   "id": "37741df9",
   "metadata": {
    "scrolled": true
   },
   "outputs": [
    {
     "data": {
      "application/vnd.jupyter.widget-view+json": {
       "model_id": "58ef9db4a740454d872c5b135323f164",
       "version_major": 2,
       "version_minor": 0
      },
      "text/plain": [
       "  0%|          | 0/9208 [00:00<?, ?it/s]"
      ]
     },
     "metadata": {},
     "output_type": "display_data"
    },
    {
     "data": {
      "text/html": [
       "<div>\n",
       "<style scoped>\n",
       "    .dataframe tbody tr th:only-of-type {\n",
       "        vertical-align: middle;\n",
       "    }\n",
       "\n",
       "    .dataframe tbody tr th {\n",
       "        vertical-align: top;\n",
       "    }\n",
       "\n",
       "    .dataframe thead th {\n",
       "        text-align: right;\n",
       "    }\n",
       "</style>\n",
       "<table border=\"1\" class=\"dataframe\">\n",
       "  <thead>\n",
       "    <tr style=\"text-align: right;\">\n",
       "      <th></th>\n",
       "      <th>sum_sq</th>\n",
       "      <th>df</th>\n",
       "      <th>F</th>\n",
       "      <th>PR(&gt;F)</th>\n",
       "    </tr>\n",
       "  </thead>\n",
       "  <tbody>\n",
       "    <tr>\n",
       "      <th>A1BG</th>\n",
       "      <td>16.406416</td>\n",
       "      <td>12.0</td>\n",
       "      <td>2.634814</td>\n",
       "      <td>0.005952</td>\n",
       "    </tr>\n",
       "    <tr>\n",
       "      <th>AAAS</th>\n",
       "      <td>11.650260</td>\n",
       "      <td>12.0</td>\n",
       "      <td>1.203083</td>\n",
       "      <td>0.299204</td>\n",
       "    </tr>\n",
       "    <tr>\n",
       "      <th>AACS</th>\n",
       "      <td>7.838514</td>\n",
       "      <td>12.0</td>\n",
       "      <td>1.515760</td>\n",
       "      <td>0.140030</td>\n",
       "    </tr>\n",
       "    <tr>\n",
       "      <th>AADAT</th>\n",
       "      <td>11.017067</td>\n",
       "      <td>12.0</td>\n",
       "      <td>1.720198</td>\n",
       "      <td>0.081496</td>\n",
       "    </tr>\n",
       "    <tr>\n",
       "      <th>AAGAB</th>\n",
       "      <td>13.101967</td>\n",
       "      <td>12.0</td>\n",
       "      <td>1.491386</td>\n",
       "      <td>0.149069</td>\n",
       "    </tr>\n",
       "  </tbody>\n",
       "</table>\n",
       "</div>"
      ],
      "text/plain": [
       "          sum_sq    df         F    PR(>F)\n",
       "A1BG   16.406416  12.0  2.634814  0.005952\n",
       "AAAS   11.650260  12.0  1.203083  0.299204\n",
       "AACS    7.838514  12.0  1.515760  0.140030\n",
       "AADAT  11.017067  12.0  1.720198  0.081496\n",
       "AAGAB  13.101967  12.0  1.491386  0.149069"
      ]
     },
     "execution_count": 19,
     "metadata": {},
     "output_type": "execute_result"
    }
   ],
   "source": [
    "# ANOVA for each gene\n",
    "results = []\n",
    "\n",
    "for gene in tqdm(df_var_num.columns.tolist()[:-2]):\n",
    "    formula = f'{gene} ~ condition + layer + condition:layer'\n",
    "    model = ols(formula, data=df_var_num).fit()\n",
    "    aov_table = sm.stats.anova_lm(model, typ=2)\n",
    "    results.append(aov_table.loc['condition:layer'].tolist())\n",
    "\n",
    "# save results to df\n",
    "columns = ['sum_sq', 'df', 'F', 'PR(>F)']\n",
    "res = pd.DataFrame(results, columns=columns, index=adata.var_names)\n",
    "res.head()"
   ]
  },
  {
   "cell_type": "markdown",
   "id": "e08a7a10",
   "metadata": {},
   "source": [
    "## Multiple comparison correction"
   ]
  },
  {
   "cell_type": "code",
   "execution_count": 20,
   "id": "9e7daeeb",
   "metadata": {},
   "outputs": [],
   "source": [
    "# Multiple comparison correction\n",
    "mult_test = multipletests(res['PR(>F)'], method='fdr_bh')\n",
    "res['p_val_adj'] = mult_test[1]\n",
    "res.to_csv(f'results/anova_mamm_zscore.csv')"
   ]
  },
  {
   "cell_type": "code",
   "execution_count": 21,
   "id": "1dcc99d4",
   "metadata": {},
   "outputs": [
    {
     "data": {
      "text/html": [
       "<div>\n",
       "<style scoped>\n",
       "    .dataframe tbody tr th:only-of-type {\n",
       "        vertical-align: middle;\n",
       "    }\n",
       "\n",
       "    .dataframe tbody tr th {\n",
       "        vertical-align: top;\n",
       "    }\n",
       "\n",
       "    .dataframe thead th {\n",
       "        text-align: right;\n",
       "    }\n",
       "</style>\n",
       "<table border=\"1\" class=\"dataframe\">\n",
       "  <thead>\n",
       "    <tr style=\"text-align: right;\">\n",
       "      <th></th>\n",
       "      <th>sum_sq</th>\n",
       "      <th>df</th>\n",
       "      <th>F</th>\n",
       "      <th>PR(&gt;F)</th>\n",
       "      <th>p_val_adj</th>\n",
       "    </tr>\n",
       "  </thead>\n",
       "  <tbody>\n",
       "    <tr>\n",
       "      <th>A1BG</th>\n",
       "      <td>16.406416</td>\n",
       "      <td>12.0</td>\n",
       "      <td>2.634814</td>\n",
       "      <td>0.005952</td>\n",
       "      <td>0.024619</td>\n",
       "    </tr>\n",
       "    <tr>\n",
       "      <th>AAAS</th>\n",
       "      <td>11.650260</td>\n",
       "      <td>12.0</td>\n",
       "      <td>1.203083</td>\n",
       "      <td>0.299204</td>\n",
       "      <td>0.420750</td>\n",
       "    </tr>\n",
       "    <tr>\n",
       "      <th>AACS</th>\n",
       "      <td>7.838514</td>\n",
       "      <td>12.0</td>\n",
       "      <td>1.515760</td>\n",
       "      <td>0.140030</td>\n",
       "      <td>0.245693</td>\n",
       "    </tr>\n",
       "    <tr>\n",
       "      <th>AADAT</th>\n",
       "      <td>11.017067</td>\n",
       "      <td>12.0</td>\n",
       "      <td>1.720198</td>\n",
       "      <td>0.081496</td>\n",
       "      <td>0.166637</td>\n",
       "    </tr>\n",
       "    <tr>\n",
       "      <th>AAGAB</th>\n",
       "      <td>13.101967</td>\n",
       "      <td>12.0</td>\n",
       "      <td>1.491386</td>\n",
       "      <td>0.149069</td>\n",
       "      <td>0.256374</td>\n",
       "    </tr>\n",
       "  </tbody>\n",
       "</table>\n",
       "</div>"
      ],
      "text/plain": [
       "          sum_sq    df         F    PR(>F)  p_val_adj\n",
       "A1BG   16.406416  12.0  2.634814  0.005952   0.024619\n",
       "AAAS   11.650260  12.0  1.203083  0.299204   0.420750\n",
       "AACS    7.838514  12.0  1.515760  0.140030   0.245693\n",
       "AADAT  11.017067  12.0  1.720198  0.081496   0.166637\n",
       "AAGAB  13.101967  12.0  1.491386  0.149069   0.256374"
      ]
     },
     "execution_count": 21,
     "metadata": {},
     "output_type": "execute_result"
    }
   ],
   "source": [
    "res.head()"
   ]
  },
  {
   "cell_type": "code",
   "execution_count": 22,
   "id": "a0788d71",
   "metadata": {},
   "outputs": [
    {
     "data": {
      "text/plain": [
       "<Axes: >"
      ]
     },
     "execution_count": 22,
     "metadata": {},
     "output_type": "execute_result"
    },
    {
     "data": {
      "image/png": "[encoded data removed]",
      "text/plain": [
       "<Figure size 320x320 with 1 Axes>"
      ]
     },
     "metadata": {
      "image/png": {
       "height": 281,
       "width": 311
      }
     },
     "output_type": "display_data"
    }
   ],
   "source": [
    "res['PR(>F)'].hist(bins=20)"
   ]
  },
  {
   "cell_type": "markdown",
   "id": "a9cab8d4",
   "metadata": {},
   "source": [
    "## t-test"
   ]
  },
  {
   "cell_type": "code",
   "execution_count": 23,
   "id": "c16123a4",
   "metadata": {},
   "outputs": [
    {
     "data": {
      "text/html": [
       "<div>\n",
       "<style scoped>\n",
       "    .dataframe tbody tr th:only-of-type {\n",
       "        vertical-align: middle;\n",
       "    }\n",
       "\n",
       "    .dataframe tbody tr th {\n",
       "        vertical-align: top;\n",
       "    }\n",
       "\n",
       "    .dataframe thead th {\n",
       "        text-align: right;\n",
       "    }\n",
       "</style>\n",
       "<table border=\"1\" class=\"dataframe\">\n",
       "  <thead>\n",
       "    <tr style=\"text-align: right;\">\n",
       "      <th></th>\n",
       "      <th>sum_sq</th>\n",
       "      <th>df</th>\n",
       "      <th>F</th>\n",
       "      <th>PR(&gt;F)</th>\n",
       "      <th>p_val_adj</th>\n",
       "    </tr>\n",
       "  </thead>\n",
       "  <tbody>\n",
       "    <tr>\n",
       "      <th>A1BG</th>\n",
       "      <td>16.406416</td>\n",
       "      <td>12.0</td>\n",
       "      <td>2.634814</td>\n",
       "      <td>0.005952</td>\n",
       "      <td>0.024619</td>\n",
       "    </tr>\n",
       "    <tr>\n",
       "      <th>AAAS</th>\n",
       "      <td>11.650260</td>\n",
       "      <td>12.0</td>\n",
       "      <td>1.203083</td>\n",
       "      <td>0.299204</td>\n",
       "      <td>0.420750</td>\n",
       "    </tr>\n",
       "    <tr>\n",
       "      <th>AACS</th>\n",
       "      <td>7.838514</td>\n",
       "      <td>12.0</td>\n",
       "      <td>1.515760</td>\n",
       "      <td>0.140030</td>\n",
       "      <td>0.245693</td>\n",
       "    </tr>\n",
       "    <tr>\n",
       "      <th>AADAT</th>\n",
       "      <td>11.017067</td>\n",
       "      <td>12.0</td>\n",
       "      <td>1.720198</td>\n",
       "      <td>0.081496</td>\n",
       "      <td>0.166637</td>\n",
       "    </tr>\n",
       "    <tr>\n",
       "      <th>AAGAB</th>\n",
       "      <td>13.101967</td>\n",
       "      <td>12.0</td>\n",
       "      <td>1.491386</td>\n",
       "      <td>0.149069</td>\n",
       "      <td>0.256374</td>\n",
       "    </tr>\n",
       "  </tbody>\n",
       "</table>\n",
       "</div>"
      ],
      "text/plain": [
       "          sum_sq    df         F    PR(>F)  p_val_adj\n",
       "A1BG   16.406416  12.0  2.634814  0.005952   0.024619\n",
       "AAAS   11.650260  12.0  1.203083  0.299204   0.420750\n",
       "AACS    7.838514  12.0  1.515760  0.140030   0.245693\n",
       "AADAT  11.017067  12.0  1.720198  0.081496   0.166637\n",
       "AAGAB  13.101967  12.0  1.491386  0.149069   0.256374"
      ]
     },
     "execution_count": 23,
     "metadata": {},
     "output_type": "execute_result"
    }
   ],
   "source": [
    "anova_res = pd.read_csv(f'results/anova_mamm_zscore.csv', index_col=0)\n",
    "anova_res.head()"
   ]
  },
  {
   "cell_type": "markdown",
   "id": "d403134e",
   "metadata": {},
   "source": [
    "Leave only significant genes"
   ]
  },
  {
   "cell_type": "code",
   "execution_count": 24,
   "id": "0c192021",
   "metadata": {},
   "outputs": [
    {
     "data": {
      "text/plain": [
       "Index(['A1BG', 'AARS1', 'AATK', 'ABAT', 'ABCA2', 'ABCA3', 'ABCB1', 'ABCC8',\n",
       "       'ABCD2', 'ABCD4',\n",
       "       ...\n",
       "       'ZNF770', 'ZNF771', 'ZNF791', 'ZNFX1', 'ZNHIT3', 'ZSCAN26', 'ZSWIM6',\n",
       "       'ZSWIM7', 'ZWILCH', 'ZYX'],\n",
       "      dtype='object', length=2836)"
      ]
     },
     "execution_count": 24,
     "metadata": {},
     "output_type": "execute_result"
    }
   ],
   "source": [
    "sig_genes = anova_res[anova_res.p_val_adj < 0.05].index\n",
    "sig_genes"
   ]
  },
  {
   "cell_type": "code",
   "execution_count": 25,
   "id": "a89538c0",
   "metadata": {},
   "outputs": [],
   "source": [
    "from itertools import combinations\n",
    "layers = ['L1', 'L2', 'L3', 'L4', 'L5', 'L6', 'WM']\n",
    "conditions = ['human', 'chimp', 'macaque']"
   ]
  },
  {
   "cell_type": "code",
   "execution_count": 26,
   "id": "0f513cfb",
   "metadata": {},
   "outputs": [
    {
     "data": {
      "application/vnd.jupyter.widget-view+json": {
       "model_id": "081f6dd246e742d0a3a628ef833a6d70",
       "version_major": 2,
       "version_minor": 0
      },
      "text/plain": [
       "  0%|          | 0/7 [00:00<?, ?it/s]"
      ]
     },
     "metadata": {},
     "output_type": "display_data"
    }
   ],
   "source": [
    "from scipy.stats import ttest_ind\n",
    "from itertools import combinations\n",
    "\n",
    "columns = ['gene', 'layer', 'group1', 'group2', 'score', 'pvalue']\n",
    "results = []\n",
    "\n",
    "\n",
    "for layer in tqdm(layers):\n",
    "    layer_results = []\n",
    "    for group1, group2 in combinations(conditions, 2):\n",
    "        for gene in sig_genes.tolist():\n",
    "            values1 = df.loc[(df['layer'] == layer) & (df['condition'] == group1), gene].values\n",
    "            values2 = df.loc[(df['layer'] == layer) & (df['condition'] == group2), gene].values\n",
    "            ttest_res = ttest_ind(values1, values2)\n",
    "            layer_results.append([gene, layer, group1, group2, ttest_res.statistic, ttest_res.pvalue])\n",
    "    # Multiple comparison correction\n",
    "    layer_results = pd.DataFrame(layer_results, columns=columns)\n",
    "    layer_results.dropna(subset='pvalue', inplace=True)\n",
    "    mult_test = multipletests(layer_results['pvalue'], method='fdr_bh')\n",
    "    layer_results['p_val_adj'] = mult_test[1]\n",
    "    results.append(layer_results)"
   ]
  },
  {
   "cell_type": "code",
   "execution_count": 27,
   "id": "e9d2daeb",
   "metadata": {},
   "outputs": [
    {
     "data": {
      "text/html": [
       "<div>\n",
       "<style scoped>\n",
       "    .dataframe tbody tr th:only-of-type {\n",
       "        vertical-align: middle;\n",
       "    }\n",
       "\n",
       "    .dataframe tbody tr th {\n",
       "        vertical-align: top;\n",
       "    }\n",
       "\n",
       "    .dataframe thead th {\n",
       "        text-align: right;\n",
       "    }\n",
       "</style>\n",
       "<table border=\"1\" class=\"dataframe\">\n",
       "  <thead>\n",
       "    <tr style=\"text-align: right;\">\n",
       "      <th></th>\n",
       "      <th>gene</th>\n",
       "      <th>layer</th>\n",
       "      <th>group1</th>\n",
       "      <th>group2</th>\n",
       "      <th>score</th>\n",
       "      <th>pvalue</th>\n",
       "      <th>p_val_adj</th>\n",
       "    </tr>\n",
       "  </thead>\n",
       "  <tbody>\n",
       "    <tr>\n",
       "      <th>0</th>\n",
       "      <td>A1BG</td>\n",
       "      <td>L1</td>\n",
       "      <td>human</td>\n",
       "      <td>chimp</td>\n",
       "      <td>-2.069551</td>\n",
       "      <td>0.083940</td>\n",
       "      <td>0.280856</td>\n",
       "    </tr>\n",
       "    <tr>\n",
       "      <th>1</th>\n",
       "      <td>AARS1</td>\n",
       "      <td>L1</td>\n",
       "      <td>human</td>\n",
       "      <td>chimp</td>\n",
       "      <td>-0.106135</td>\n",
       "      <td>0.918935</td>\n",
       "      <td>0.963909</td>\n",
       "    </tr>\n",
       "    <tr>\n",
       "      <th>2</th>\n",
       "      <td>AATK</td>\n",
       "      <td>L1</td>\n",
       "      <td>human</td>\n",
       "      <td>chimp</td>\n",
       "      <td>-0.913975</td>\n",
       "      <td>0.395972</td>\n",
       "      <td>0.625443</td>\n",
       "    </tr>\n",
       "    <tr>\n",
       "      <th>3</th>\n",
       "      <td>ABAT</td>\n",
       "      <td>L1</td>\n",
       "      <td>human</td>\n",
       "      <td>chimp</td>\n",
       "      <td>0.435186</td>\n",
       "      <td>0.678645</td>\n",
       "      <td>0.828286</td>\n",
       "    </tr>\n",
       "    <tr>\n",
       "      <th>4</th>\n",
       "      <td>ABCA2</td>\n",
       "      <td>L1</td>\n",
       "      <td>human</td>\n",
       "      <td>chimp</td>\n",
       "      <td>-0.600076</td>\n",
       "      <td>0.570409</td>\n",
       "      <td>0.752111</td>\n",
       "    </tr>\n",
       "    <tr>\n",
       "      <th>...</th>\n",
       "      <td>...</td>\n",
       "      <td>...</td>\n",
       "      <td>...</td>\n",
       "      <td>...</td>\n",
       "      <td>...</td>\n",
       "      <td>...</td>\n",
       "      <td>...</td>\n",
       "    </tr>\n",
       "    <tr>\n",
       "      <th>8503</th>\n",
       "      <td>ZSCAN26</td>\n",
       "      <td>WM</td>\n",
       "      <td>chimp</td>\n",
       "      <td>macaque</td>\n",
       "      <td>2.619356</td>\n",
       "      <td>0.039620</td>\n",
       "      <td>0.160143</td>\n",
       "    </tr>\n",
       "    <tr>\n",
       "      <th>8504</th>\n",
       "      <td>ZSWIM6</td>\n",
       "      <td>WM</td>\n",
       "      <td>chimp</td>\n",
       "      <td>macaque</td>\n",
       "      <td>2.479042</td>\n",
       "      <td>0.047867</td>\n",
       "      <td>0.176066</td>\n",
       "    </tr>\n",
       "    <tr>\n",
       "      <th>8505</th>\n",
       "      <td>ZSWIM7</td>\n",
       "      <td>WM</td>\n",
       "      <td>chimp</td>\n",
       "      <td>macaque</td>\n",
       "      <td>7.172113</td>\n",
       "      <td>0.000371</td>\n",
       "      <td>0.016568</td>\n",
       "    </tr>\n",
       "    <tr>\n",
       "      <th>8506</th>\n",
       "      <td>ZWILCH</td>\n",
       "      <td>WM</td>\n",
       "      <td>chimp</td>\n",
       "      <td>macaque</td>\n",
       "      <td>1.732985</td>\n",
       "      <td>0.133802</td>\n",
       "      <td>0.313901</td>\n",
       "    </tr>\n",
       "    <tr>\n",
       "      <th>8507</th>\n",
       "      <td>ZYX</td>\n",
       "      <td>WM</td>\n",
       "      <td>chimp</td>\n",
       "      <td>macaque</td>\n",
       "      <td>-0.228667</td>\n",
       "      <td>0.826722</td>\n",
       "      <td>0.911374</td>\n",
       "    </tr>\n",
       "  </tbody>\n",
       "</table>\n",
       "<p>59524 rows × 7 columns</p>\n",
       "</div>"
      ],
      "text/plain": [
       "         gene layer group1   group2     score    pvalue  p_val_adj\n",
       "0        A1BG    L1  human    chimp -2.069551  0.083940   0.280856\n",
       "1       AARS1    L1  human    chimp -0.106135  0.918935   0.963909\n",
       "2        AATK    L1  human    chimp -0.913975  0.395972   0.625443\n",
       "3        ABAT    L1  human    chimp  0.435186  0.678645   0.828286\n",
       "4       ABCA2    L1  human    chimp -0.600076  0.570409   0.752111\n",
       "...       ...   ...    ...      ...       ...       ...        ...\n",
       "8503  ZSCAN26    WM  chimp  macaque  2.619356  0.039620   0.160143\n",
       "8504   ZSWIM6    WM  chimp  macaque  2.479042  0.047867   0.176066\n",
       "8505   ZSWIM7    WM  chimp  macaque  7.172113  0.000371   0.016568\n",
       "8506   ZWILCH    WM  chimp  macaque  1.732985  0.133802   0.313901\n",
       "8507      ZYX    WM  chimp  macaque -0.228667  0.826722   0.911374\n",
       "\n",
       "[59524 rows x 7 columns]"
      ]
     },
     "execution_count": 27,
     "metadata": {},
     "output_type": "execute_result"
    }
   ],
   "source": [
    "ttest_results = pd.concat(results)\n",
    "ttest_results"
   ]
  },
  {
   "cell_type": "code",
   "execution_count": 28,
   "id": "fc3c687e",
   "metadata": {},
   "outputs": [],
   "source": [
    "ttest_results.to_csv('results/ttest_mamm_zscore.csv')"
   ]
  },
  {
   "cell_type": "markdown",
   "id": "f1d4ae10",
   "metadata": {},
   "source": [
    "## t-test human vs monkeys (as one group)"
   ]
  },
  {
   "cell_type": "code",
   "execution_count": 29,
   "id": "ea83d3a3",
   "metadata": {},
   "outputs": [
    {
     "data": {
      "application/vnd.jupyter.widget-view+json": {
       "model_id": "23881d0618f04d4f8fd3eb243ddec3ad",
       "version_major": 2,
       "version_minor": 0
      },
      "text/plain": [
       "  0%|          | 0/7 [00:00<?, ?it/s]"
      ]
     },
     "metadata": {},
     "output_type": "display_data"
    }
   ],
   "source": [
    "columns = ['gene', 'layer', 'group1', 'group2', 'score', 'pvalue']\n",
    "results = []\n",
    "\n",
    "\n",
    "for layer in tqdm(layers):\n",
    "    layer_results = []\n",
    "    for gene in sig_genes.tolist():\n",
    "        values1 = df.loc[(df['layer'] == layer) & (df['condition'] == 'human'), gene].values\n",
    "        values2 = df.loc[(df['layer'] == layer) & ((df['condition'] == 'chimp') | (df['condition'] == 'macaque')), gene].values\n",
    "        ttest_res = ttest_ind(values1, values2)\n",
    "        layer_results.append([gene, layer, 'human', 'monkeys', ttest_res.statistic, ttest_res.pvalue])\n",
    "    # поправка на множественное сравнение\n",
    "    layer_results = pd.DataFrame(layer_results, columns=columns)\n",
    "    layer_results.dropna(subset='pvalue', inplace=True)\n",
    "    mult_test = multipletests(layer_results['pvalue'], method='fdr_bh')\n",
    "    layer_results['p_val_adj'] = mult_test[1]\n",
    "    results.append(layer_results)"
   ]
  },
  {
   "cell_type": "code",
   "execution_count": 30,
   "id": "ce3e808e",
   "metadata": {},
   "outputs": [
    {
     "data": {
      "text/html": [
       "<div>\n",
       "<style scoped>\n",
       "    .dataframe tbody tr th:only-of-type {\n",
       "        vertical-align: middle;\n",
       "    }\n",
       "\n",
       "    .dataframe tbody tr th {\n",
       "        vertical-align: top;\n",
       "    }\n",
       "\n",
       "    .dataframe thead th {\n",
       "        text-align: right;\n",
       "    }\n",
       "</style>\n",
       "<table border=\"1\" class=\"dataframe\">\n",
       "  <thead>\n",
       "    <tr style=\"text-align: right;\">\n",
       "      <th></th>\n",
       "      <th>gene</th>\n",
       "      <th>layer</th>\n",
       "      <th>group1</th>\n",
       "      <th>group2</th>\n",
       "      <th>score</th>\n",
       "      <th>pvalue</th>\n",
       "      <th>p_val_adj</th>\n",
       "    </tr>\n",
       "  </thead>\n",
       "  <tbody>\n",
       "    <tr>\n",
       "      <th>0</th>\n",
       "      <td>A1BG</td>\n",
       "      <td>L1</td>\n",
       "      <td>human</td>\n",
       "      <td>monkeys</td>\n",
       "      <td>-2.198628</td>\n",
       "      <td>0.052563</td>\n",
       "      <td>0.218518</td>\n",
       "    </tr>\n",
       "    <tr>\n",
       "      <th>1</th>\n",
       "      <td>AARS1</td>\n",
       "      <td>L1</td>\n",
       "      <td>human</td>\n",
       "      <td>monkeys</td>\n",
       "      <td>0.765832</td>\n",
       "      <td>0.461470</td>\n",
       "      <td>0.667424</td>\n",
       "    </tr>\n",
       "    <tr>\n",
       "      <th>2</th>\n",
       "      <td>AATK</td>\n",
       "      <td>L1</td>\n",
       "      <td>human</td>\n",
       "      <td>monkeys</td>\n",
       "      <td>0.229462</td>\n",
       "      <td>0.823135</td>\n",
       "      <td>0.906567</td>\n",
       "    </tr>\n",
       "    <tr>\n",
       "      <th>3</th>\n",
       "      <td>ABAT</td>\n",
       "      <td>L1</td>\n",
       "      <td>human</td>\n",
       "      <td>monkeys</td>\n",
       "      <td>-1.085934</td>\n",
       "      <td>0.302991</td>\n",
       "      <td>0.525877</td>\n",
       "    </tr>\n",
       "    <tr>\n",
       "      <th>4</th>\n",
       "      <td>ABCA2</td>\n",
       "      <td>L1</td>\n",
       "      <td>human</td>\n",
       "      <td>monkeys</td>\n",
       "      <td>-0.122700</td>\n",
       "      <td>0.904775</td>\n",
       "      <td>0.945329</td>\n",
       "    </tr>\n",
       "    <tr>\n",
       "      <th>...</th>\n",
       "      <td>...</td>\n",
       "      <td>...</td>\n",
       "      <td>...</td>\n",
       "      <td>...</td>\n",
       "      <td>...</td>\n",
       "      <td>...</td>\n",
       "      <td>...</td>\n",
       "    </tr>\n",
       "    <tr>\n",
       "      <th>2831</th>\n",
       "      <td>ZSCAN26</td>\n",
       "      <td>WM</td>\n",
       "      <td>human</td>\n",
       "      <td>monkeys</td>\n",
       "      <td>-0.848271</td>\n",
       "      <td>0.414365</td>\n",
       "      <td>0.647869</td>\n",
       "    </tr>\n",
       "    <tr>\n",
       "      <th>2832</th>\n",
       "      <td>ZSWIM6</td>\n",
       "      <td>WM</td>\n",
       "      <td>human</td>\n",
       "      <td>monkeys</td>\n",
       "      <td>-0.193272</td>\n",
       "      <td>0.850269</td>\n",
       "      <td>0.925760</td>\n",
       "    </tr>\n",
       "    <tr>\n",
       "      <th>2833</th>\n",
       "      <td>ZSWIM7</td>\n",
       "      <td>WM</td>\n",
       "      <td>human</td>\n",
       "      <td>monkeys</td>\n",
       "      <td>0.725175</td>\n",
       "      <td>0.483487</td>\n",
       "      <td>0.694966</td>\n",
       "    </tr>\n",
       "    <tr>\n",
       "      <th>2834</th>\n",
       "      <td>ZWILCH</td>\n",
       "      <td>WM</td>\n",
       "      <td>human</td>\n",
       "      <td>monkeys</td>\n",
       "      <td>0.813045</td>\n",
       "      <td>0.433438</td>\n",
       "      <td>0.658057</td>\n",
       "    </tr>\n",
       "    <tr>\n",
       "      <th>2835</th>\n",
       "      <td>ZYX</td>\n",
       "      <td>WM</td>\n",
       "      <td>human</td>\n",
       "      <td>monkeys</td>\n",
       "      <td>-2.135667</td>\n",
       "      <td>0.056026</td>\n",
       "      <td>0.263130</td>\n",
       "    </tr>\n",
       "  </tbody>\n",
       "</table>\n",
       "<p>19852 rows × 7 columns</p>\n",
       "</div>"
      ],
      "text/plain": [
       "         gene layer group1   group2     score    pvalue  p_val_adj\n",
       "0        A1BG    L1  human  monkeys -2.198628  0.052563   0.218518\n",
       "1       AARS1    L1  human  monkeys  0.765832  0.461470   0.667424\n",
       "2        AATK    L1  human  monkeys  0.229462  0.823135   0.906567\n",
       "3        ABAT    L1  human  monkeys -1.085934  0.302991   0.525877\n",
       "4       ABCA2    L1  human  monkeys -0.122700  0.904775   0.945329\n",
       "...       ...   ...    ...      ...       ...       ...        ...\n",
       "2831  ZSCAN26    WM  human  monkeys -0.848271  0.414365   0.647869\n",
       "2832   ZSWIM6    WM  human  monkeys -0.193272  0.850269   0.925760\n",
       "2833   ZSWIM7    WM  human  monkeys  0.725175  0.483487   0.694966\n",
       "2834   ZWILCH    WM  human  monkeys  0.813045  0.433438   0.658057\n",
       "2835      ZYX    WM  human  monkeys -2.135667  0.056026   0.263130\n",
       "\n",
       "[19852 rows x 7 columns]"
      ]
     },
     "execution_count": 30,
     "metadata": {},
     "output_type": "execute_result"
    }
   ],
   "source": [
    "ttest_results = pd.concat(results)\n",
    "ttest_results"
   ]
  },
  {
   "cell_type": "code",
   "execution_count": 31,
   "id": "8f10ae4b",
   "metadata": {},
   "outputs": [],
   "source": [
    "ttest_results.to_csv('results/ttest_human_monkey_zscore.csv')"
   ]
  }
 ],
 "metadata": {
  "kernelspec": {
   "display_name": "Python 3 (ipykernel)",
   "language": "python",
   "name": "python3"
  },
  "language_info": {
   "codemirror_mode": {
    "name": "ipython",
    "version": 3
   },
   "file_extension": ".py",
   "mimetype": "text/x-python",
   "name": "python",
   "nbconvert_exporter": "python",
   "pygments_lexer": "ipython3",
   "version": "3.10.11"
  }
 },
 "nbformat": 4,
 "nbformat_minor": 5
}
