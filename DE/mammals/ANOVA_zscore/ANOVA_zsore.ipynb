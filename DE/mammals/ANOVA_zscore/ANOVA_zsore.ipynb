{
 "cells": [
  {
   "cell_type": "code",
   "execution_count": 1,
   "id": "67f38c7c",
   "metadata": {},
   "outputs": [],
   "source": [
    "import warnings\n",
    "import scanpy as sc\n",
    "import anndata as an\n",
    "import pandas as pd\n",
    "import numpy as np\n",
    "import matplotlib as mpl\n",
    "import matplotlib.pyplot as plt\n",
    "import seaborn as sns\n",
    "from urllib import request\n",
    "import json\n",
    "import os\n",
    "from tqdm.notebook import tqdm\n",
    "\n",
    "import statsmodels.api as sm\n",
    "from statsmodels.formula.api import ols\n",
    "from tqdm.notebook import tqdm\n",
    "from statsmodels.stats.multitest import multipletests\n",
    "\n",
    "sc.settings.set_figure_params(dpi=80)\n",
    "#sc.set_figure_params(facecolor=\"white\", figsize=(8, 8))\n",
    "warnings.simplefilter(action='ignore', category=FutureWarning)\n",
    "sc.settings.verbosity = 3"
   ]
  },
  {
   "cell_type": "markdown",
   "id": "35fd8fad",
   "metadata": {},
   "source": [
    "## Global variables"
   ]
  },
  {
   "cell_type": "code",
   "execution_count": 2,
   "id": "f6e781a2",
   "metadata": {},
   "outputs": [],
   "source": [
    "dir_path = '../../../data/pseudobulks/'"
   ]
  },
  {
   "cell_type": "code",
   "execution_count": 3,
   "id": "c50a730b",
   "metadata": {},
   "outputs": [
    {
     "data": {
      "text/plain": [
       "['annotation_chimp.csv',\n",
       " 'annotation_human.csv',\n",
       " 'annotation_macaque.csv',\n",
       " 'annotation_spatial_libd_human.csv',\n",
       " 'expression_chimp.csv',\n",
       " 'expression_human.csv',\n",
       " 'expression_macaque.csv',\n",
       " 'expression_mean_chimp.csv',\n",
       " 'expression_mean_human.csv',\n",
       " 'expression_mean_macaque.csv',\n",
       " 'expression_mean_spatial_libd_human.csv',\n",
       " 'expression_spatial_libd_human.csv',\n",
       " 'expression_sum_chimp.csv',\n",
       " 'expression_sum_human.csv',\n",
       " 'expression_sum_macaque.csv',\n",
       " 'expression_sum_spatial_libd_human.csv',\n",
       " 'gene_sample_mean_chimp.csv',\n",
       " 'gene_sample_mean_human.csv',\n",
       " 'gene_sample_mean_macaque.csv',\n",
       " 'gene_sample_mean_spatial_libd_human.csv',\n",
       " 'pb_age.h5ad',\n",
       " 'pb_age_sample_norm.h5ad',\n",
       " 'pb_age_sample_norm_zscore.h5ad',\n",
       " 'pb_mamm.h5ad',\n",
       " 'pb_mamm_filtered.h5ad',\n",
       " 'pb_mamm_laminar_filtered.h5ad',\n",
       " 'pb_mamm_laminar_sample_zscore_filtered.h5ad',\n",
       " 'pb_mamm_sample_norm.h5ad',\n",
       " 'pb_mamm_sample_norm_filtered.h5ad',\n",
       " 'pb_mamm_sample_norm_zscore.h5ad',\n",
       " 'pb_mamm_sample_zscore_filtered.h5ad']"
      ]
     },
     "execution_count": 3,
     "metadata": {},
     "output_type": "execute_result"
    }
   ],
   "source": [
    "os.listdir(dir_path)"
   ]
  },
  {
   "cell_type": "markdown",
   "id": "b05dd527",
   "metadata": {},
   "source": [
    "# ANOVA"
   ]
  },
  {
   "cell_type": "markdown",
   "id": "09278915",
   "metadata": {},
   "source": [
    "Load pseudobulk data"
   ]
  },
  {
   "cell_type": "code",
   "execution_count": 4,
   "id": "663aca25",
   "metadata": {},
   "outputs": [
    {
     "data": {
      "text/plain": [
       "AnnData object with n_obs × n_vars = 94 × 15585\n",
       "    obs: 'layer', 'sample_id', 'condition'"
      ]
     },
     "execution_count": 4,
     "metadata": {},
     "output_type": "execute_result"
    }
   ],
   "source": [
    "file_name = 'pb_mamm.h5ad'\n",
    "adata_pb = sc.read_h5ad(dir_path + file_name)\n",
    "adata_pb"
   ]
  },
  {
   "cell_type": "markdown",
   "id": "4d9e4e49",
   "metadata": {},
   "source": [
    "Remove technical repeats"
   ]
  },
  {
   "cell_type": "code",
   "execution_count": 5,
   "id": "6c9f39da",
   "metadata": {},
   "outputs": [
    {
     "data": {
      "text/plain": [
       "AnnData object with n_obs × n_vars = 89 × 15585\n",
       "    obs: 'layer', 'sample_id', 'condition'"
      ]
     },
     "execution_count": 5,
     "metadata": {},
     "output_type": "execute_result"
    }
   ],
   "source": [
    "adata_pb = adata_pb[adata_pb.obs.sample_id != 'chimp_13302'].copy()\n",
    "adata_pb"
   ]
  },
  {
   "cell_type": "markdown",
   "id": "85f2d38b",
   "metadata": {},
   "source": [
    "Calculate library size"
   ]
  },
  {
   "cell_type": "code",
   "execution_count": 6,
   "id": "1994056b",
   "metadata": {},
   "outputs": [],
   "source": [
    "adata_pb.obs[\"lib_size\"] = adata_pb.X.sum(axis=1)\n",
    "adata_pb.obs[\"log_lib_size\"] = np.log(adata_pb.obs[\"lib_size\"])"
   ]
  },
  {
   "cell_type": "markdown",
   "id": "0768f8af",
   "metadata": {},
   "source": [
    "## Gene filltering"
   ]
  },
  {
   "cell_type": "markdown",
   "id": "6a66385e",
   "metadata": {},
   "source": [
    "Fillter low expressed genes"
   ]
  },
  {
   "cell_type": "code",
   "execution_count": 7,
   "id": "464432d8",
   "metadata": {},
   "outputs": [
    {
     "data": {
      "text/plain": [
       "View of AnnData object with n_obs × n_vars = 89 × 9208\n",
       "    obs: 'layer', 'sample_id', 'condition', 'lib_size', 'log_lib_size'"
      ]
     },
     "execution_count": 7,
     "metadata": {},
     "output_type": "execute_result"
    }
   ],
   "source": [
    "adata_pb = adata_pb[:, adata_pb.X.mean(axis=0) > 0.05]\n",
    "adata_pb"
   ]
  },
  {
   "cell_type": "code",
   "execution_count": 8,
   "id": "93765d30",
   "metadata": {},
   "outputs": [
    {
     "data": {
      "text/plain": [
       "0"
      ]
     },
     "execution_count": 8,
     "metadata": {},
     "output_type": "execute_result"
    }
   ],
   "source": [
    "df = pd.DataFrame(adata_pb.X, index=adata_pb.obs_names, columns=adata_pb.var_names)\n",
    "df[df < 0].notna().sum().sum()"
   ]
  },
  {
   "cell_type": "code",
   "execution_count": 9,
   "id": "cc6d3a04",
   "metadata": {},
   "outputs": [],
   "source": [
    "adata_pb.write_h5ad('../../../data/pseudobulks/pb_mamm_filtered.h5ad')"
   ]
  },
  {
   "cell_type": "markdown",
   "id": "1cf9d95c",
   "metadata": {},
   "source": [
    "## Sample normalization"
   ]
  },
  {
   "cell_type": "code",
   "execution_count": 10,
   "id": "0fcab9da",
   "metadata": {},
   "outputs": [],
   "source": [
    "def z_score(adata):\n",
    "    pb_df = pd.DataFrame(adata.X, columns=adata.var_names, index=adata.obs_names)\n",
    "    pb_df['sample_id'] = adata.obs['sample_id']\n",
    "    pb_df.head()\n",
    "    # calculate statistics\n",
    "    sample_mean = pb_df.groupby('sample_id').mean()\n",
    "    sample_std = pb_df.groupby('sample_id').std()\n",
    "    # calculate z-score\n",
    "    columns = pb_df.columns.tolist()[:-1]\n",
    "    for sample in tqdm(sample_mean.index.tolist()):\n",
    "        pb_df.loc[pb_df.sample_id == sample, columns] = ((pb_df.loc[pb_df.sample_id == sample, columns] - sample_mean.loc[sample])\n",
    "                                                         / sample_std.loc[sample]).fillna(0)\n",
    "    # write adata\n",
    "    adata.X = pb_df[columns].values\n",
    "    return adata"
   ]
  },
  {
   "cell_type": "markdown",
   "id": "db0cf173",
   "metadata": {},
   "source": [
    "Library normalization"
   ]
  },
  {
   "cell_type": "code",
   "execution_count": 11,
   "id": "43eeed5d",
   "metadata": {},
   "outputs": [
    {
     "name": "stdout",
     "output_type": "stream",
     "text": [
      "normalizing counts per cell\n",
      "    finished (0:00:00)\n"
     ]
    },
    {
     "name": "stderr",
     "output_type": "stream",
     "text": [
      "D:\\Projects\\diploma\\venv_stats2\\lib\\site-packages\\scanpy\\preprocessing\\_normalization.py:170: UserWarning: Received a view of an AnnData. Making a copy.\n",
      "  view_to_actual(adata)\n"
     ]
    }
   ],
   "source": [
    "sc.pp.normalize_total(adata_pb, target_sum=1e4)\n",
    "sc.pp.log1p(adata_pb)"
   ]
  },
  {
   "cell_type": "markdown",
   "id": "d625728c",
   "metadata": {},
   "source": [
    "Sample normalization"
   ]
  },
  {
   "cell_type": "code",
   "execution_count": 12,
   "id": "09f62928",
   "metadata": {},
   "outputs": [
    {
     "data": {
      "application/vnd.jupyter.widget-view+json": {
       "model_id": "d7746964bed24a1cb919018893cc5c4a",
       "version_major": 2,
       "version_minor": 0
      },
      "text/plain": [
       "  0%|          | 0/13 [00:00<?, ?it/s]"
      ]
     },
     "metadata": {},
     "output_type": "display_data"
    }
   ],
   "source": [
    "adata_norm = z_score(adata_pb)"
   ]
  },
  {
   "cell_type": "code",
   "execution_count": 13,
   "id": "78436cc9",
   "metadata": {
    "scrolled": true
   },
   "outputs": [],
   "source": [
    "df = pd.DataFrame(adata_norm.X, index=adata_norm.obs_names, columns=adata_norm.var_names)\n",
    "df['condition'] = adata_norm.obs.condition\n",
    "df['layer'] = adata_norm.obs.layer\n",
    "grouped_mean = df.groupby(['layer', 'condition'][::-1]).mean()\n",
    "grouped_mean_sum = (grouped_mean[grouped_mean == 0] + 1).sum()\n",
    "zero_genes = grouped_mean_sum[grouped_mean_sum > 0].index"
   ]
  },
  {
   "cell_type": "code",
   "execution_count": 14,
   "id": "5cac9576",
   "metadata": {},
   "outputs": [
    {
     "name": "stdout",
     "output_type": "stream",
     "text": [
      "computing PCA\n",
      "    with n_comps=50\n",
      "    finished (0:00:00)\n"
     ]
    }
   ],
   "source": [
    "sc.pp.pca(adata_norm)"
   ]
  },
  {
   "cell_type": "code",
   "execution_count": 15,
   "id": "74081e1e",
   "metadata": {},
   "outputs": [],
   "source": [
    "# save results\n",
    "adata_norm.write_h5ad('../../../data/pseudobulks/pb_mamm_sample_zscore_filtered.h5ad')"
   ]
  },
  {
   "cell_type": "code",
   "execution_count": 16,
   "id": "98040f3a",
   "metadata": {},
   "outputs": [
    {
     "name": "stderr",
     "output_type": "stream",
     "text": [
      "D:\\Projects\\diploma\\venv_stats2\\lib\\site-packages\\scanpy\\plotting\\_tools\\scatterplots.py:392: UserWarning: No data for colormapping provided via 'c'. Parameters 'cmap' will be ignored\n",
      "  cax = scatter(\n",
      "D:\\Projects\\diploma\\venv_stats2\\lib\\site-packages\\scanpy\\plotting\\_tools\\scatterplots.py:392: UserWarning: No data for colormapping provided via 'c'. Parameters 'cmap' will be ignored\n",
      "  cax = scatter(\n"
     ]
    },
    {
     "data": {
      "image/png": "[encoded data removed]",
      "text/plain": [
       "<Figure size 832x320 with 2 Axes>"
      ]
     },
     "metadata": {
      "image/png": {
       "height": 299,
       "width": 760
      }
     },
     "output_type": "display_data"
    }
   ],
   "source": [
    "sc.pl.pca(adata_norm, color=['layer', 'condition'], size=200, ncols=3, wspace=0.3)"
   ]
  },
  {
   "cell_type": "markdown",
   "id": "333eabce",
   "metadata": {},
   "source": [
    "## ANOVA"
   ]
  },
  {
   "cell_type": "code",
   "execution_count": 17,
   "id": "33cc81b3",
   "metadata": {},
   "outputs": [
    {
     "data": {
      "text/plain": [
       "AnnData object with n_obs × n_vars = 89 × 9208\n",
       "    obs: 'layer', 'sample_id', 'condition', 'lib_size', 'log_lib_size'\n",
       "    uns: 'log1p', 'pca'\n",
       "    obsm: 'X_pca'\n",
       "    varm: 'PCs'"
      ]
     },
     "execution_count": 17,
     "metadata": {},
     "output_type": "execute_result"
    }
   ],
   "source": [
    "file_name = 'pb_mamm_sample_zscore_filtered.h5ad'\n",
    "adata = sc.read_h5ad(dir_path + file_name)\n",
    "adata"
   ]
  },
  {
   "cell_type": "code",
   "execution_count": 18,
   "id": "92afdd52",
   "metadata": {},
   "outputs": [
    {
     "data": {
      "text/html": [
       "<div>\n",
       "<style scoped>\n",
       "    .dataframe tbody tr th:only-of-type {\n",
       "        vertical-align: middle;\n",
       "    }\n",
       "\n",
       "    .dataframe tbody tr th {\n",
       "        vertical-align: top;\n",
       "    }\n",
       "\n",
       "    .dataframe thead th {\n",
       "        text-align: right;\n",
       "    }\n",
       "</style>\n",
       "<table border=\"1\" class=\"dataframe\">\n",
       "  <thead>\n",
       "    <tr style=\"text-align: right;\">\n",
       "      <th></th>\n",
       "      <th>NOC2L</th>\n",
       "      <th>HES4</th>\n",
       "      <th>AGRN</th>\n",
       "      <th>SDF4</th>\n",
       "      <th>B3GALT6</th>\n",
       "      <th>UBE2J2</th>\n",
       "      <th>SCNN1D</th>\n",
       "      <th>ACAP3</th>\n",
       "      <th>PUSL1</th>\n",
       "      <th>INTS11</th>\n",
       "      <th>...</th>\n",
       "      <th>SPATC1L</th>\n",
       "      <th>LSS</th>\n",
       "      <th>MCM3AP</th>\n",
       "      <th>YBEY</th>\n",
       "      <th>PCNT</th>\n",
       "      <th>DIP2A</th>\n",
       "      <th>S100B</th>\n",
       "      <th>PRMT2</th>\n",
       "      <th>condition</th>\n",
       "      <th>layer</th>\n",
       "    </tr>\n",
       "  </thead>\n",
       "  <tbody>\n",
       "    <tr>\n",
       "      <th>WM.human_759</th>\n",
       "      <td>-0.650878</td>\n",
       "      <td>0.001029</td>\n",
       "      <td>-0.587605</td>\n",
       "      <td>-0.980993</td>\n",
       "      <td>0.472367</td>\n",
       "      <td>1.702099</td>\n",
       "      <td>-0.763371</td>\n",
       "      <td>2.107840</td>\n",
       "      <td>-0.168666</td>\n",
       "      <td>1.413201</td>\n",
       "      <td>...</td>\n",
       "      <td>1.371567</td>\n",
       "      <td>0.091970</td>\n",
       "      <td>0.263215</td>\n",
       "      <td>-1.660742</td>\n",
       "      <td>1.229293</td>\n",
       "      <td>2.069564</td>\n",
       "      <td>-0.043002</td>\n",
       "      <td>1.253314</td>\n",
       "      <td>human</td>\n",
       "      <td>WM</td>\n",
       "    </tr>\n",
       "    <tr>\n",
       "      <th>L5.human_759</th>\n",
       "      <td>0.915017</td>\n",
       "      <td>-1.205565</td>\n",
       "      <td>1.094584</td>\n",
       "      <td>-0.735551</td>\n",
       "      <td>1.957271</td>\n",
       "      <td>0.575298</td>\n",
       "      <td>-1.325118</td>\n",
       "      <td>-0.153488</td>\n",
       "      <td>1.188971</td>\n",
       "      <td>-1.648704</td>\n",
       "      <td>...</td>\n",
       "      <td>0.680849</td>\n",
       "      <td>-0.169549</td>\n",
       "      <td>0.190831</td>\n",
       "      <td>1.336182</td>\n",
       "      <td>0.303885</td>\n",
       "      <td>-0.040874</td>\n",
       "      <td>-0.537251</td>\n",
       "      <td>-0.525737</td>\n",
       "      <td>human</td>\n",
       "      <td>L5</td>\n",
       "    </tr>\n",
       "    <tr>\n",
       "      <th>L2.human_759</th>\n",
       "      <td>0.078276</td>\n",
       "      <td>1.329032</td>\n",
       "      <td>-1.277674</td>\n",
       "      <td>1.001606</td>\n",
       "      <td>-0.366053</td>\n",
       "      <td>-0.971476</td>\n",
       "      <td>1.537086</td>\n",
       "      <td>-0.364400</td>\n",
       "      <td>-0.362555</td>\n",
       "      <td>0.192616</td>\n",
       "      <td>...</td>\n",
       "      <td>0.223001</td>\n",
       "      <td>-1.230772</td>\n",
       "      <td>-1.508703</td>\n",
       "      <td>0.411800</td>\n",
       "      <td>-0.635369</td>\n",
       "      <td>-0.781407</td>\n",
       "      <td>-0.326476</td>\n",
       "      <td>0.482834</td>\n",
       "      <td>human</td>\n",
       "      <td>L2</td>\n",
       "    </tr>\n",
       "    <tr>\n",
       "      <th>L3.human_759</th>\n",
       "      <td>0.314214</td>\n",
       "      <td>0.062098</td>\n",
       "      <td>0.755363</td>\n",
       "      <td>-0.503540</td>\n",
       "      <td>-0.740480</td>\n",
       "      <td>-0.135018</td>\n",
       "      <td>-0.612045</td>\n",
       "      <td>-0.777390</td>\n",
       "      <td>0.168894</td>\n",
       "      <td>0.687944</td>\n",
       "      <td>...</td>\n",
       "      <td>-1.226639</td>\n",
       "      <td>-0.094421</td>\n",
       "      <td>1.691777</td>\n",
       "      <td>-0.449152</td>\n",
       "      <td>-0.432952</td>\n",
       "      <td>-0.828458</td>\n",
       "      <td>-0.521913</td>\n",
       "      <td>-0.859364</td>\n",
       "      <td>human</td>\n",
       "      <td>L3</td>\n",
       "    </tr>\n",
       "    <tr>\n",
       "      <th>L1.human_759</th>\n",
       "      <td>-1.874858</td>\n",
       "      <td>1.294498</td>\n",
       "      <td>-0.816885</td>\n",
       "      <td>1.145918</td>\n",
       "      <td>-0.526890</td>\n",
       "      <td>-1.202880</td>\n",
       "      <td>-0.098583</td>\n",
       "      <td>-0.504741</td>\n",
       "      <td>-1.933483</td>\n",
       "      <td>0.422461</td>\n",
       "      <td>...</td>\n",
       "      <td>-1.033139</td>\n",
       "      <td>1.874758</td>\n",
       "      <td>-0.846384</td>\n",
       "      <td>0.646753</td>\n",
       "      <td>1.406117</td>\n",
       "      <td>0.104341</td>\n",
       "      <td>2.236617</td>\n",
       "      <td>0.875557</td>\n",
       "      <td>human</td>\n",
       "      <td>L1</td>\n",
       "    </tr>\n",
       "  </tbody>\n",
       "</table>\n",
       "<p>5 rows × 9210 columns</p>\n",
       "</div>"
      ],
      "text/plain": [
       "                 NOC2L      HES4      AGRN      SDF4   B3GALT6    UBE2J2  \\\n",
       "WM.human_759 -0.650878  0.001029 -0.587605 -0.980993  0.472367  1.702099   \n",
       "L5.human_759  0.915017 -1.205565  1.094584 -0.735551  1.957271  0.575298   \n",
       "L2.human_759  0.078276  1.329032 -1.277674  1.001606 -0.366053 -0.971476   \n",
       "L3.human_759  0.314214  0.062098  0.755363 -0.503540 -0.740480 -0.135018   \n",
       "L1.human_759 -1.874858  1.294498 -0.816885  1.145918 -0.526890 -1.202880   \n",
       "\n",
       "                SCNN1D     ACAP3     PUSL1    INTS11  ...   SPATC1L       LSS  \\\n",
       "WM.human_759 -0.763371  2.107840 -0.168666  1.413201  ...  1.371567  0.091970   \n",
       "L5.human_759 -1.325118 -0.153488  1.188971 -1.648704  ...  0.680849 -0.169549   \n",
       "L2.human_759  1.537086 -0.364400 -0.362555  0.192616  ...  0.223001 -1.230772   \n",
       "L3.human_759 -0.612045 -0.777390  0.168894  0.687944  ... -1.226639 -0.094421   \n",
       "L1.human_759 -0.098583 -0.504741 -1.933483  0.422461  ... -1.033139  1.874758   \n",
       "\n",
       "                MCM3AP      YBEY      PCNT     DIP2A     S100B     PRMT2  \\\n",
       "WM.human_759  0.263215 -1.660742  1.229293  2.069564 -0.043002  1.253314   \n",
       "L5.human_759  0.190831  1.336182  0.303885 -0.040874 -0.537251 -0.525737   \n",
       "L2.human_759 -1.508703  0.411800 -0.635369 -0.781407 -0.326476  0.482834   \n",
       "L3.human_759  1.691777 -0.449152 -0.432952 -0.828458 -0.521913 -0.859364   \n",
       "L1.human_759 -0.846384  0.646753  1.406117  0.104341  2.236617  0.875557   \n",
       "\n",
       "              condition  layer  \n",
       "WM.human_759      human     WM  \n",
       "L5.human_759      human     L5  \n",
       "L2.human_759      human     L2  \n",
       "L3.human_759      human     L3  \n",
       "L1.human_759      human     L1  \n",
       "\n",
       "[5 rows x 9210 columns]"
      ]
     },
     "execution_count": 18,
     "metadata": {},
     "output_type": "execute_result"
    }
   ],
   "source": [
    "# Make df for ANOVA\n",
    "df = pd.DataFrame(adata.X, index=adata.obs_names, columns=adata.var_names)\n",
    "df['condition'] = adata.obs.condition\n",
    "df['layer'] = adata.obs.layer\n",
    "df.head()"
   ]
  },
  {
   "cell_type": "markdown",
   "id": "fe8cb70b",
   "metadata": {},
   "source": [
    "Replace gene names to `gene{i}` as `statsmodels` may fail"
   ]
  },
  {
   "cell_type": "code",
   "execution_count": 19,
   "id": "498b7319",
   "metadata": {},
   "outputs": [],
   "source": [
    "df_var_num = df.copy()\n",
    "df_var_num.columns = [f'gene{i}' for i in range(1, df_var_num.shape[1] - 1)] + ['condition', 'layer']"
   ]
  },
  {
   "cell_type": "code",
   "execution_count": 20,
   "id": "37741df9",
   "metadata": {
    "scrolled": true
   },
   "outputs": [
    {
     "data": {
      "application/vnd.jupyter.widget-view+json": {
       "model_id": "1e9cfafe33b5435f9502c5a259ee6b3f",
       "version_major": 2,
       "version_minor": 0
      },
      "text/plain": [
       "  0%|          | 0/9208 [00:00<?, ?it/s]"
      ]
     },
     "metadata": {},
     "output_type": "display_data"
    },
    {
     "data": {
      "text/html": [
       "<div>\n",
       "<style scoped>\n",
       "    .dataframe tbody tr th:only-of-type {\n",
       "        vertical-align: middle;\n",
       "    }\n",
       "\n",
       "    .dataframe tbody tr th {\n",
       "        vertical-align: top;\n",
       "    }\n",
       "\n",
       "    .dataframe thead th {\n",
       "        text-align: right;\n",
       "    }\n",
       "</style>\n",
       "<table border=\"1\" class=\"dataframe\">\n",
       "  <thead>\n",
       "    <tr style=\"text-align: right;\">\n",
       "      <th></th>\n",
       "      <th>sum_sq</th>\n",
       "      <th>df</th>\n",
       "      <th>F</th>\n",
       "      <th>PR(&gt;F)</th>\n",
       "    </tr>\n",
       "  </thead>\n",
       "  <tbody>\n",
       "    <tr>\n",
       "      <th>NOC2L</th>\n",
       "      <td>6.384890</td>\n",
       "      <td>12.0</td>\n",
       "      <td>0.813337</td>\n",
       "      <td>0.635908</td>\n",
       "    </tr>\n",
       "    <tr>\n",
       "      <th>HES4</th>\n",
       "      <td>15.058197</td>\n",
       "      <td>12.0</td>\n",
       "      <td>1.878258</td>\n",
       "      <td>0.052758</td>\n",
       "    </tr>\n",
       "    <tr>\n",
       "      <th>AGRN</th>\n",
       "      <td>15.583493</td>\n",
       "      <td>12.0</td>\n",
       "      <td>3.171660</td>\n",
       "      <td>0.001230</td>\n",
       "    </tr>\n",
       "    <tr>\n",
       "      <th>SDF4</th>\n",
       "      <td>14.214074</td>\n",
       "      <td>12.0</td>\n",
       "      <td>1.574430</td>\n",
       "      <td>0.120231</td>\n",
       "    </tr>\n",
       "    <tr>\n",
       "      <th>B3GALT6</th>\n",
       "      <td>12.113356</td>\n",
       "      <td>12.0</td>\n",
       "      <td>1.676662</td>\n",
       "      <td>0.091658</td>\n",
       "    </tr>\n",
       "  </tbody>\n",
       "</table>\n",
       "</div>"
      ],
      "text/plain": [
       "            sum_sq    df         F    PR(>F)\n",
       "NOC2L     6.384890  12.0  0.813337  0.635908\n",
       "HES4     15.058197  12.0  1.878258  0.052758\n",
       "AGRN     15.583493  12.0  3.171660  0.001230\n",
       "SDF4     14.214074  12.0  1.574430  0.120231\n",
       "B3GALT6  12.113356  12.0  1.676662  0.091658"
      ]
     },
     "execution_count": 20,
     "metadata": {},
     "output_type": "execute_result"
    }
   ],
   "source": [
    "# ANOVA for each gene\n",
    "results = []\n",
    "\n",
    "for gene in tqdm(df_var_num.columns.tolist()[:-2]):\n",
    "    formula = f'{gene} ~ condition + layer + condition:layer'\n",
    "    model = ols(formula, data=df_var_num).fit()\n",
    "    aov_table = sm.stats.anova_lm(model, typ=2)\n",
    "    results.append(aov_table.loc['condition:layer'].tolist())\n",
    "\n",
    "# save results to df\n",
    "columns = ['sum_sq', 'df', 'F', 'PR(>F)']\n",
    "res = pd.DataFrame(results, columns=columns, index=adata.var_names)\n",
    "res.head()"
   ]
  },
  {
   "cell_type": "markdown",
   "id": "e08a7a10",
   "metadata": {},
   "source": [
    "## Multiple comparison correction"
   ]
  },
  {
   "cell_type": "code",
   "execution_count": 21,
   "id": "9e7daeeb",
   "metadata": {},
   "outputs": [],
   "source": [
    "# Multiple comparison correction\n",
    "mult_test = multipletests(res['PR(>F)'], method='fdr_bh')\n",
    "res['p_val_adj'] = mult_test[1]\n",
    "res.to_csv(f'./results/anova_zscore_mamm.csv')"
   ]
  },
  {
   "cell_type": "code",
   "execution_count": 22,
   "id": "1dcc99d4",
   "metadata": {},
   "outputs": [
    {
     "data": {
      "text/html": [
       "<div>\n",
       "<style scoped>\n",
       "    .dataframe tbody tr th:only-of-type {\n",
       "        vertical-align: middle;\n",
       "    }\n",
       "\n",
       "    .dataframe tbody tr th {\n",
       "        vertical-align: top;\n",
       "    }\n",
       "\n",
       "    .dataframe thead th {\n",
       "        text-align: right;\n",
       "    }\n",
       "</style>\n",
       "<table border=\"1\" class=\"dataframe\">\n",
       "  <thead>\n",
       "    <tr style=\"text-align: right;\">\n",
       "      <th></th>\n",
       "      <th>sum_sq</th>\n",
       "      <th>df</th>\n",
       "      <th>F</th>\n",
       "      <th>PR(&gt;F)</th>\n",
       "      <th>p_val_adj</th>\n",
       "    </tr>\n",
       "  </thead>\n",
       "  <tbody>\n",
       "    <tr>\n",
       "      <th>NOC2L</th>\n",
       "      <td>6.384890</td>\n",
       "      <td>12.0</td>\n",
       "      <td>0.813337</td>\n",
       "      <td>0.635908</td>\n",
       "      <td>0.716158</td>\n",
       "    </tr>\n",
       "    <tr>\n",
       "      <th>HES4</th>\n",
       "      <td>15.058197</td>\n",
       "      <td>12.0</td>\n",
       "      <td>1.878258</td>\n",
       "      <td>0.052758</td>\n",
       "      <td>0.121203</td>\n",
       "    </tr>\n",
       "    <tr>\n",
       "      <th>AGRN</th>\n",
       "      <td>15.583493</td>\n",
       "      <td>12.0</td>\n",
       "      <td>3.171660</td>\n",
       "      <td>0.001230</td>\n",
       "      <td>0.007732</td>\n",
       "    </tr>\n",
       "    <tr>\n",
       "      <th>SDF4</th>\n",
       "      <td>14.214074</td>\n",
       "      <td>12.0</td>\n",
       "      <td>1.574430</td>\n",
       "      <td>0.120231</td>\n",
       "      <td>0.220228</td>\n",
       "    </tr>\n",
       "    <tr>\n",
       "      <th>B3GALT6</th>\n",
       "      <td>12.113356</td>\n",
       "      <td>12.0</td>\n",
       "      <td>1.676662</td>\n",
       "      <td>0.091658</td>\n",
       "      <td>0.181660</td>\n",
       "    </tr>\n",
       "  </tbody>\n",
       "</table>\n",
       "</div>"
      ],
      "text/plain": [
       "            sum_sq    df         F    PR(>F)  p_val_adj\n",
       "NOC2L     6.384890  12.0  0.813337  0.635908   0.716158\n",
       "HES4     15.058197  12.0  1.878258  0.052758   0.121203\n",
       "AGRN     15.583493  12.0  3.171660  0.001230   0.007732\n",
       "SDF4     14.214074  12.0  1.574430  0.120231   0.220228\n",
       "B3GALT6  12.113356  12.0  1.676662  0.091658   0.181660"
      ]
     },
     "execution_count": 22,
     "metadata": {},
     "output_type": "execute_result"
    }
   ],
   "source": [
    "res.head()"
   ]
  },
  {
   "cell_type": "code",
   "execution_count": 23,
   "id": "a0788d71",
   "metadata": {},
   "outputs": [
    {
     "data": {
      "text/plain": [
       "<Axes: >"
      ]
     },
     "execution_count": 23,
     "metadata": {},
     "output_type": "execute_result"
    },
    {
     "data": {
      "image/png": "[encoded data removed]",
      "text/plain": [
       "<Figure size 320x320 with 1 Axes>"
      ]
     },
     "metadata": {
      "image/png": {
       "height": 281,
       "width": 311
      }
     },
     "output_type": "display_data"
    }
   ],
   "source": [
    "res['PR(>F)'].hist(bins=20)"
   ]
  },
  {
   "cell_type": "markdown",
   "id": "a9cab8d4",
   "metadata": {},
   "source": [
    "## t-test"
   ]
  },
  {
   "cell_type": "code",
   "execution_count": 24,
   "id": "c16123a4",
   "metadata": {},
   "outputs": [
    {
     "data": {
      "text/html": [
       "<div>\n",
       "<style scoped>\n",
       "    .dataframe tbody tr th:only-of-type {\n",
       "        vertical-align: middle;\n",
       "    }\n",
       "\n",
       "    .dataframe tbody tr th {\n",
       "        vertical-align: top;\n",
       "    }\n",
       "\n",
       "    .dataframe thead th {\n",
       "        text-align: right;\n",
       "    }\n",
       "</style>\n",
       "<table border=\"1\" class=\"dataframe\">\n",
       "  <thead>\n",
       "    <tr style=\"text-align: right;\">\n",
       "      <th></th>\n",
       "      <th>sum_sq</th>\n",
       "      <th>df</th>\n",
       "      <th>F</th>\n",
       "      <th>PR(&gt;F)</th>\n",
       "      <th>p_val_adj</th>\n",
       "    </tr>\n",
       "  </thead>\n",
       "  <tbody>\n",
       "    <tr>\n",
       "      <th>NOC2L</th>\n",
       "      <td>6.384890</td>\n",
       "      <td>12.0</td>\n",
       "      <td>0.813337</td>\n",
       "      <td>0.635908</td>\n",
       "      <td>0.716158</td>\n",
       "    </tr>\n",
       "    <tr>\n",
       "      <th>HES4</th>\n",
       "      <td>15.058197</td>\n",
       "      <td>12.0</td>\n",
       "      <td>1.878258</td>\n",
       "      <td>0.052758</td>\n",
       "      <td>0.121203</td>\n",
       "    </tr>\n",
       "    <tr>\n",
       "      <th>AGRN</th>\n",
       "      <td>15.583493</td>\n",
       "      <td>12.0</td>\n",
       "      <td>3.171660</td>\n",
       "      <td>0.001230</td>\n",
       "      <td>0.007732</td>\n",
       "    </tr>\n",
       "    <tr>\n",
       "      <th>SDF4</th>\n",
       "      <td>14.214074</td>\n",
       "      <td>12.0</td>\n",
       "      <td>1.574430</td>\n",
       "      <td>0.120231</td>\n",
       "      <td>0.220228</td>\n",
       "    </tr>\n",
       "    <tr>\n",
       "      <th>B3GALT6</th>\n",
       "      <td>12.113356</td>\n",
       "      <td>12.0</td>\n",
       "      <td>1.676662</td>\n",
       "      <td>0.091658</td>\n",
       "      <td>0.181660</td>\n",
       "    </tr>\n",
       "  </tbody>\n",
       "</table>\n",
       "</div>"
      ],
      "text/plain": [
       "            sum_sq    df         F    PR(>F)  p_val_adj\n",
       "NOC2L     6.384890  12.0  0.813337  0.635908   0.716158\n",
       "HES4     15.058197  12.0  1.878258  0.052758   0.121203\n",
       "AGRN     15.583493  12.0  3.171660  0.001230   0.007732\n",
       "SDF4     14.214074  12.0  1.574430  0.120231   0.220228\n",
       "B3GALT6  12.113356  12.0  1.676662  0.091658   0.181660"
      ]
     },
     "execution_count": 24,
     "metadata": {},
     "output_type": "execute_result"
    }
   ],
   "source": [
    "anova_res = pd.read_csv(f'./results/anova_zscore_mamm.csv', index_col=0)\n",
    "anova_res.head()"
   ]
  },
  {
   "cell_type": "markdown",
   "id": "d403134e",
   "metadata": {},
   "source": [
    "Leave only significant genes"
   ]
  },
  {
   "cell_type": "code",
   "execution_count": 25,
   "id": "0c192021",
   "metadata": {},
   "outputs": [
    {
     "data": {
      "text/plain": [
       "Index(['AGRN', 'ANKRD65', 'TMEM240', 'NADK', 'GNB1', 'GABRD', 'TP73', 'CHD5',\n",
       "       'GPR153', 'PLEKHG5',\n",
       "       ...\n",
       "       'BACE2', 'RSPH1', 'NDUFV3', 'RRP1', 'PFKL', 'COL18A1', 'COL6A2', 'LSS',\n",
       "       'S100B', 'PRMT2'],\n",
       "      dtype='object', length=2836)"
      ]
     },
     "execution_count": 25,
     "metadata": {},
     "output_type": "execute_result"
    }
   ],
   "source": [
    "sig_genes = anova_res[anova_res.p_val_adj < 0.05].index\n",
    "sig_genes"
   ]
  },
  {
   "cell_type": "code",
   "execution_count": 26,
   "id": "a89538c0",
   "metadata": {},
   "outputs": [],
   "source": [
    "from itertools import combinations\n",
    "layers = ['L1', 'L2', 'L3', 'L4', 'L5', 'L6', 'WM']\n",
    "conditions = ['human', 'chimp', 'macaque']"
   ]
  },
  {
   "cell_type": "code",
   "execution_count": 27,
   "id": "0f513cfb",
   "metadata": {},
   "outputs": [
    {
     "data": {
      "application/vnd.jupyter.widget-view+json": {
       "model_id": "a241b79c2ea349fe907a567242b2d406",
       "version_major": 2,
       "version_minor": 0
      },
      "text/plain": [
       "  0%|          | 0/7 [00:00<?, ?it/s]"
      ]
     },
     "metadata": {},
     "output_type": "display_data"
    }
   ],
   "source": [
    "from scipy.stats import ttest_ind\n",
    "from itertools import combinations\n",
    "\n",
    "columns = ['gene', 'layer', 'group1', 'group2', 'score', 'pvalue']\n",
    "results = []\n",
    "\n",
    "\n",
    "for layer in tqdm(layers):\n",
    "    layer_results = []\n",
    "    for group1, group2 in combinations(conditions, 2):\n",
    "        for gene in sig_genes.tolist():\n",
    "            values1 = df.loc[(df['layer'] == layer) & (df['condition'] == group1), gene].values\n",
    "            values2 = df.loc[(df['layer'] == layer) & (df['condition'] == group2), gene].values\n",
    "            ttest_res = ttest_ind(values1, values2)\n",
    "            layer_results.append([gene, layer, group1, group2, ttest_res.statistic, ttest_res.pvalue])\n",
    "    # Multiple comparison correction\n",
    "    layer_results = pd.DataFrame(layer_results, columns=columns)\n",
    "    layer_results.dropna(subset='pvalue', inplace=True)\n",
    "    mult_test = multipletests(layer_results['pvalue'], method='fdr_bh')\n",
    "    layer_results['p_val_adj'] = mult_test[1]\n",
    "    results.append(layer_results)"
   ]
  },
  {
   "cell_type": "code",
   "execution_count": 28,
   "id": "e9d2daeb",
   "metadata": {
    "scrolled": false
   },
   "outputs": [
    {
     "data": {
      "text/html": [
       "<div>\n",
       "<style scoped>\n",
       "    .dataframe tbody tr th:only-of-type {\n",
       "        vertical-align: middle;\n",
       "    }\n",
       "\n",
       "    .dataframe tbody tr th {\n",
       "        vertical-align: top;\n",
       "    }\n",
       "\n",
       "    .dataframe thead th {\n",
       "        text-align: right;\n",
       "    }\n",
       "</style>\n",
       "<table border=\"1\" class=\"dataframe\">\n",
       "  <thead>\n",
       "    <tr style=\"text-align: right;\">\n",
       "      <th></th>\n",
       "      <th>gene</th>\n",
       "      <th>layer</th>\n",
       "      <th>group1</th>\n",
       "      <th>group2</th>\n",
       "      <th>score</th>\n",
       "      <th>pvalue</th>\n",
       "      <th>p_val_adj</th>\n",
       "    </tr>\n",
       "  </thead>\n",
       "  <tbody>\n",
       "    <tr>\n",
       "      <th>0</th>\n",
       "      <td>AGRN</td>\n",
       "      <td>L1</td>\n",
       "      <td>human</td>\n",
       "      <td>chimp</td>\n",
       "      <td>0.334627</td>\n",
       "      <td>0.749294</td>\n",
       "      <td>0.871771</td>\n",
       "    </tr>\n",
       "    <tr>\n",
       "      <th>1</th>\n",
       "      <td>ANKRD65</td>\n",
       "      <td>L1</td>\n",
       "      <td>human</td>\n",
       "      <td>chimp</td>\n",
       "      <td>-0.558470</td>\n",
       "      <td>0.596733</td>\n",
       "      <td>0.772328</td>\n",
       "    </tr>\n",
       "    <tr>\n",
       "      <th>2</th>\n",
       "      <td>TMEM240</td>\n",
       "      <td>L1</td>\n",
       "      <td>human</td>\n",
       "      <td>chimp</td>\n",
       "      <td>2.100247</td>\n",
       "      <td>0.080450</td>\n",
       "      <td>0.274743</td>\n",
       "    </tr>\n",
       "    <tr>\n",
       "      <th>3</th>\n",
       "      <td>NADK</td>\n",
       "      <td>L1</td>\n",
       "      <td>human</td>\n",
       "      <td>chimp</td>\n",
       "      <td>-5.641027</td>\n",
       "      <td>0.001330</td>\n",
       "      <td>0.038326</td>\n",
       "    </tr>\n",
       "    <tr>\n",
       "      <th>4</th>\n",
       "      <td>GNB1</td>\n",
       "      <td>L1</td>\n",
       "      <td>human</td>\n",
       "      <td>chimp</td>\n",
       "      <td>0.164405</td>\n",
       "      <td>0.874811</td>\n",
       "      <td>0.941712</td>\n",
       "    </tr>\n",
       "    <tr>\n",
       "      <th>...</th>\n",
       "      <td>...</td>\n",
       "      <td>...</td>\n",
       "      <td>...</td>\n",
       "      <td>...</td>\n",
       "      <td>...</td>\n",
       "      <td>...</td>\n",
       "      <td>...</td>\n",
       "    </tr>\n",
       "    <tr>\n",
       "      <th>8503</th>\n",
       "      <td>COL18A1</td>\n",
       "      <td>WM</td>\n",
       "      <td>chimp</td>\n",
       "      <td>macaque</td>\n",
       "      <td>-1.142775</td>\n",
       "      <td>0.296673</td>\n",
       "      <td>0.493044</td>\n",
       "    </tr>\n",
       "    <tr>\n",
       "      <th>8504</th>\n",
       "      <td>COL6A2</td>\n",
       "      <td>WM</td>\n",
       "      <td>chimp</td>\n",
       "      <td>macaque</td>\n",
       "      <td>2.558945</td>\n",
       "      <td>0.042970</td>\n",
       "      <td>0.167021</td>\n",
       "    </tr>\n",
       "    <tr>\n",
       "      <th>8505</th>\n",
       "      <td>LSS</td>\n",
       "      <td>WM</td>\n",
       "      <td>chimp</td>\n",
       "      <td>macaque</td>\n",
       "      <td>-7.631691</td>\n",
       "      <td>0.000264</td>\n",
       "      <td>0.013946</td>\n",
       "    </tr>\n",
       "    <tr>\n",
       "      <th>8506</th>\n",
       "      <td>S100B</td>\n",
       "      <td>WM</td>\n",
       "      <td>chimp</td>\n",
       "      <td>macaque</td>\n",
       "      <td>-1.584508</td>\n",
       "      <td>0.164170</td>\n",
       "      <td>0.350163</td>\n",
       "    </tr>\n",
       "    <tr>\n",
       "      <th>8507</th>\n",
       "      <td>PRMT2</td>\n",
       "      <td>WM</td>\n",
       "      <td>chimp</td>\n",
       "      <td>macaque</td>\n",
       "      <td>2.862022</td>\n",
       "      <td>0.028726</td>\n",
       "      <td>0.137750</td>\n",
       "    </tr>\n",
       "  </tbody>\n",
       "</table>\n",
       "<p>59524 rows × 7 columns</p>\n",
       "</div>"
      ],
      "text/plain": [
       "         gene layer group1   group2     score    pvalue  p_val_adj\n",
       "0        AGRN    L1  human    chimp  0.334627  0.749294   0.871771\n",
       "1     ANKRD65    L1  human    chimp -0.558470  0.596733   0.772328\n",
       "2     TMEM240    L1  human    chimp  2.100247  0.080450   0.274743\n",
       "3        NADK    L1  human    chimp -5.641027  0.001330   0.038326\n",
       "4        GNB1    L1  human    chimp  0.164405  0.874811   0.941712\n",
       "...       ...   ...    ...      ...       ...       ...        ...\n",
       "8503  COL18A1    WM  chimp  macaque -1.142775  0.296673   0.493044\n",
       "8504   COL6A2    WM  chimp  macaque  2.558945  0.042970   0.167021\n",
       "8505      LSS    WM  chimp  macaque -7.631691  0.000264   0.013946\n",
       "8506    S100B    WM  chimp  macaque -1.584508  0.164170   0.350163\n",
       "8507    PRMT2    WM  chimp  macaque  2.862022  0.028726   0.137750\n",
       "\n",
       "[59524 rows x 7 columns]"
      ]
     },
     "execution_count": 28,
     "metadata": {},
     "output_type": "execute_result"
    }
   ],
   "source": [
    "ttest_results = pd.concat(results)\n",
    "ttest_results"
   ]
  },
  {
   "cell_type": "code",
   "execution_count": 29,
   "id": "fc3c687e",
   "metadata": {},
   "outputs": [],
   "source": [
    "ttest_results.to_csv('./results/ttest_zscore_mamm.csv')"
   ]
  },
  {
   "cell_type": "markdown",
   "id": "f1d4ae10",
   "metadata": {},
   "source": [
    "## t-test human vs monkeys (as one group)"
   ]
  },
  {
   "cell_type": "code",
   "execution_count": 30,
   "id": "ea83d3a3",
   "metadata": {},
   "outputs": [
    {
     "data": {
      "application/vnd.jupyter.widget-view+json": {
       "model_id": "b665438c8d2d4857aa85463af30ee7e5",
       "version_major": 2,
       "version_minor": 0
      },
      "text/plain": [
       "  0%|          | 0/7 [00:00<?, ?it/s]"
      ]
     },
     "metadata": {},
     "output_type": "display_data"
    }
   ],
   "source": [
    "columns = ['gene', 'layer', 'group1', 'group2', 'score', 'pvalue']\n",
    "results = []\n",
    "\n",
    "\n",
    "for layer in tqdm(layers):\n",
    "    layer_results = []\n",
    "    for gene in sig_genes.tolist():\n",
    "        values1 = df.loc[(df['layer'] == layer) & (df['condition'] == 'human'), gene].values\n",
    "        values2 = df.loc[(df['layer'] == layer) & ((df['condition'] == 'chimp') | (df['condition'] == 'macaque')), gene].values\n",
    "        ttest_res = ttest_ind(values1, values2)\n",
    "        layer_results.append([gene, layer, 'human', 'monkeys', ttest_res.statistic, ttest_res.pvalue])\n",
    "    # поправка на множественное сравнение\n",
    "    layer_results = pd.DataFrame(layer_results, columns=columns)\n",
    "    layer_results.dropna(subset='pvalue', inplace=True)\n",
    "    mult_test = multipletests(layer_results['pvalue'], method='fdr_bh')\n",
    "    layer_results['p_val_adj'] = mult_test[1]\n",
    "    results.append(layer_results)"
   ]
  },
  {
   "cell_type": "code",
   "execution_count": 31,
   "id": "ce3e808e",
   "metadata": {},
   "outputs": [
    {
     "data": {
      "text/html": [
       "<div>\n",
       "<style scoped>\n",
       "    .dataframe tbody tr th:only-of-type {\n",
       "        vertical-align: middle;\n",
       "    }\n",
       "\n",
       "    .dataframe tbody tr th {\n",
       "        vertical-align: top;\n",
       "    }\n",
       "\n",
       "    .dataframe thead th {\n",
       "        text-align: right;\n",
       "    }\n",
       "</style>\n",
       "<table border=\"1\" class=\"dataframe\">\n",
       "  <thead>\n",
       "    <tr style=\"text-align: right;\">\n",
       "      <th></th>\n",
       "      <th>gene</th>\n",
       "      <th>layer</th>\n",
       "      <th>group1</th>\n",
       "      <th>group2</th>\n",
       "      <th>score</th>\n",
       "      <th>pvalue</th>\n",
       "      <th>p_val_adj</th>\n",
       "    </tr>\n",
       "  </thead>\n",
       "  <tbody>\n",
       "    <tr>\n",
       "      <th>0</th>\n",
       "      <td>AGRN</td>\n",
       "      <td>L1</td>\n",
       "      <td>human</td>\n",
       "      <td>monkeys</td>\n",
       "      <td>-0.885076</td>\n",
       "      <td>0.396898</td>\n",
       "      <td>0.615757</td>\n",
       "    </tr>\n",
       "    <tr>\n",
       "      <th>1</th>\n",
       "      <td>ANKRD65</td>\n",
       "      <td>L1</td>\n",
       "      <td>human</td>\n",
       "      <td>monkeys</td>\n",
       "      <td>-1.125119</td>\n",
       "      <td>0.286818</td>\n",
       "      <td>0.510668</td>\n",
       "    </tr>\n",
       "    <tr>\n",
       "      <th>2</th>\n",
       "      <td>TMEM240</td>\n",
       "      <td>L1</td>\n",
       "      <td>human</td>\n",
       "      <td>monkeys</td>\n",
       "      <td>-0.417102</td>\n",
       "      <td>0.685416</td>\n",
       "      <td>0.821573</td>\n",
       "    </tr>\n",
       "    <tr>\n",
       "      <th>3</th>\n",
       "      <td>NADK</td>\n",
       "      <td>L1</td>\n",
       "      <td>human</td>\n",
       "      <td>monkeys</td>\n",
       "      <td>-2.353651</td>\n",
       "      <td>0.040388</td>\n",
       "      <td>0.197606</td>\n",
       "    </tr>\n",
       "    <tr>\n",
       "      <th>4</th>\n",
       "      <td>GNB1</td>\n",
       "      <td>L1</td>\n",
       "      <td>human</td>\n",
       "      <td>monkeys</td>\n",
       "      <td>-1.598049</td>\n",
       "      <td>0.141116</td>\n",
       "      <td>0.348914</td>\n",
       "    </tr>\n",
       "    <tr>\n",
       "      <th>...</th>\n",
       "      <td>...</td>\n",
       "      <td>...</td>\n",
       "      <td>...</td>\n",
       "      <td>...</td>\n",
       "      <td>...</td>\n",
       "      <td>...</td>\n",
       "      <td>...</td>\n",
       "    </tr>\n",
       "    <tr>\n",
       "      <th>2831</th>\n",
       "      <td>COL18A1</td>\n",
       "      <td>WM</td>\n",
       "      <td>human</td>\n",
       "      <td>monkeys</td>\n",
       "      <td>1.290104</td>\n",
       "      <td>0.223476</td>\n",
       "      <td>0.477601</td>\n",
       "    </tr>\n",
       "    <tr>\n",
       "      <th>2832</th>\n",
       "      <td>COL6A2</td>\n",
       "      <td>WM</td>\n",
       "      <td>human</td>\n",
       "      <td>monkeys</td>\n",
       "      <td>-1.045765</td>\n",
       "      <td>0.318106</td>\n",
       "      <td>0.571248</td>\n",
       "    </tr>\n",
       "    <tr>\n",
       "      <th>2833</th>\n",
       "      <td>LSS</td>\n",
       "      <td>WM</td>\n",
       "      <td>human</td>\n",
       "      <td>monkeys</td>\n",
       "      <td>-2.248164</td>\n",
       "      <td>0.046038</td>\n",
       "      <td>0.243588</td>\n",
       "    </tr>\n",
       "    <tr>\n",
       "      <th>2834</th>\n",
       "      <td>S100B</td>\n",
       "      <td>WM</td>\n",
       "      <td>human</td>\n",
       "      <td>monkeys</td>\n",
       "      <td>-0.543128</td>\n",
       "      <td>0.597875</td>\n",
       "      <td>0.772471</td>\n",
       "    </tr>\n",
       "    <tr>\n",
       "      <th>2835</th>\n",
       "      <td>PRMT2</td>\n",
       "      <td>WM</td>\n",
       "      <td>human</td>\n",
       "      <td>monkeys</td>\n",
       "      <td>-0.378224</td>\n",
       "      <td>0.712462</td>\n",
       "      <td>0.845061</td>\n",
       "    </tr>\n",
       "  </tbody>\n",
       "</table>\n",
       "<p>19852 rows × 7 columns</p>\n",
       "</div>"
      ],
      "text/plain": [
       "         gene layer group1   group2     score    pvalue  p_val_adj\n",
       "0        AGRN    L1  human  monkeys -0.885076  0.396898   0.615757\n",
       "1     ANKRD65    L1  human  monkeys -1.125119  0.286818   0.510668\n",
       "2     TMEM240    L1  human  monkeys -0.417102  0.685416   0.821573\n",
       "3        NADK    L1  human  monkeys -2.353651  0.040388   0.197606\n",
       "4        GNB1    L1  human  monkeys -1.598049  0.141116   0.348914\n",
       "...       ...   ...    ...      ...       ...       ...        ...\n",
       "2831  COL18A1    WM  human  monkeys  1.290104  0.223476   0.477601\n",
       "2832   COL6A2    WM  human  monkeys -1.045765  0.318106   0.571248\n",
       "2833      LSS    WM  human  monkeys -2.248164  0.046038   0.243588\n",
       "2834    S100B    WM  human  monkeys -0.543128  0.597875   0.772471\n",
       "2835    PRMT2    WM  human  monkeys -0.378224  0.712462   0.845061\n",
       "\n",
       "[19852 rows x 7 columns]"
      ]
     },
     "execution_count": 31,
     "metadata": {},
     "output_type": "execute_result"
    }
   ],
   "source": [
    "ttest_results = pd.concat(results)\n",
    "ttest_results"
   ]
  },
  {
   "cell_type": "code",
   "execution_count": 32,
   "id": "8f10ae4b",
   "metadata": {},
   "outputs": [],
   "source": [
    "ttest_results.to_csv('./results/ttest_zscore_human_monkeys.csv')"
   ]
  }
 ],
 "metadata": {
  "kernelspec": {
   "display_name": "Python 3 (ipykernel)",
   "language": "python",
   "name": "python3"
  },
  "language_info": {
   "codemirror_mode": {
    "name": "ipython",
    "version": 3
   },
   "file_extension": ".py",
   "mimetype": "text/x-python",
   "name": "python",
   "nbconvert_exporter": "python",
   "pygments_lexer": "ipython3",
   "version": "3.10.11"
  }
 },
 "nbformat": 4,
 "nbformat_minor": 5
}
