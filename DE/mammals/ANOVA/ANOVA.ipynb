{
 "cells": [
  {
   "cell_type": "code",
   "execution_count": 1,
   "id": "67f38c7c",
   "metadata": {},
   "outputs": [],
   "source": [
    "import warnings\n",
    "import scanpy as sc\n",
    "import squidpy as sq\n",
    "import anndata as an\n",
    "import pandas as pd\n",
    "import numpy as np\n",
    "import matplotlib as mpl\n",
    "import matplotlib.pyplot as plt\n",
    "import seaborn as sns\n",
    "from urllib import request\n",
    "import json\n",
    "import os\n",
    "from tqdm.notebook import tqdm\n",
    "\n",
    "import statsmodels.api as sm\n",
    "from statsmodels.formula.api import ols\n",
    "from tqdm.notebook import tqdm\n",
    "from statsmodels.stats.multitest import multipletests\n",
    "\n",
    "sc.settings.set_figure_params(dpi=80)\n",
    "#sc.set_figure_params(facecolor=\"white\", figsize=(8, 8))\n",
    "warnings.simplefilter(action='ignore', category=FutureWarning)\n",
    "sc.settings.verbosity = 3"
   ]
  },
  {
   "cell_type": "markdown",
   "id": "35fd8fad",
   "metadata": {},
   "source": [
    "## Global variables"
   ]
  },
  {
   "cell_type": "code",
   "execution_count": 2,
   "id": "f6e781a2",
   "metadata": {},
   "outputs": [],
   "source": [
    "dir_path = '../../../data/pseudobulks/'"
   ]
  },
  {
   "cell_type": "code",
   "execution_count": 3,
   "id": "c50a730b",
   "metadata": {},
   "outputs": [
    {
     "data": {
      "text/plain": [
       "['annotation_chimp.csv',\n",
       " 'annotation_human.csv',\n",
       " 'annotation_macaque.csv',\n",
       " 'annotation_spatial_libd_human.csv',\n",
       " 'expression_chimp.csv',\n",
       " 'expression_human.csv',\n",
       " 'expression_macaque.csv',\n",
       " 'expression_mean_chimp.csv',\n",
       " 'expression_mean_human.csv',\n",
       " 'expression_mean_macaque.csv',\n",
       " 'expression_mean_spatial_libd_human.csv',\n",
       " 'expression_spatial_libd_human.csv',\n",
       " 'expression_sum_chimp.csv',\n",
       " 'expression_sum_human.csv',\n",
       " 'expression_sum_macaque.csv',\n",
       " 'expression_sum_spatial_libd_human.csv',\n",
       " 'gene_sample_mean_chimp.csv',\n",
       " 'gene_sample_mean_human.csv',\n",
       " 'gene_sample_mean_macaque.csv',\n",
       " 'gene_sample_mean_spatial_libd_human.csv',\n",
       " 'pb_age.h5ad',\n",
       " 'pb_age_sample_norm.h5ad',\n",
       " 'pb_age_sample_norm_zscore.h5ad',\n",
       " 'pb_mamm.h5ad',\n",
       " 'pb_mamm_sample_norm.h5ad',\n",
       " 'pb_mamm_sample_norm_filtered.h5ad',\n",
       " 'pb_mamm_sample_norm_zscore.h5ad']"
      ]
     },
     "execution_count": 3,
     "metadata": {},
     "output_type": "execute_result"
    }
   ],
   "source": [
    "os.listdir(dir_path)"
   ]
  },
  {
   "cell_type": "markdown",
   "id": "b05dd527",
   "metadata": {},
   "source": [
    "# ANOVA"
   ]
  },
  {
   "cell_type": "markdown",
   "id": "65709841",
   "metadata": {},
   "source": [
    "Загрузим файл псевдобалк экспрессий"
   ]
  },
  {
   "cell_type": "code",
   "execution_count": 4,
   "id": "4313137d",
   "metadata": {},
   "outputs": [
    {
     "data": {
      "text/plain": [
       "AnnData object with n_obs × n_vars = 94 × 15585\n",
       "    obs: 'layer', 'sample_id', 'condition'"
      ]
     },
     "execution_count": 4,
     "metadata": {},
     "output_type": "execute_result"
    }
   ],
   "source": [
    "file_name = 'pb_mamm.h5ad'\n",
    "adata_pb = sc.read_h5ad(dir_path + file_name)\n",
    "adata_pb"
   ]
  },
  {
   "cell_type": "markdown",
   "id": "9bf1aecd",
   "metadata": {},
   "source": [
    "Посчитаем размер библиотек"
   ]
  },
  {
   "cell_type": "code",
   "execution_count": 5,
   "id": "c603c99d",
   "metadata": {},
   "outputs": [],
   "source": [
    "adata_pb.obs[\"lib_size\"] = adata_pb.X.sum(axis=1)\n",
    "adata_pb.obs[\"log_lib_size\"] = np.log(adata_pb.obs[\"lib_size\"])"
   ]
  },
  {
   "cell_type": "markdown",
   "id": "7120f43b",
   "metadata": {},
   "source": [
    "## Фильтрация данных"
   ]
  },
  {
   "cell_type": "markdown",
   "id": "b2abcc0f",
   "metadata": {},
   "source": [
    "Отберём слабо экспрессирующиеся гены"
   ]
  },
  {
   "cell_type": "code",
   "execution_count": 6,
   "id": "bf959cd3",
   "metadata": {},
   "outputs": [
    {
     "data": {
      "text/plain": [
       "View of AnnData object with n_obs × n_vars = 94 × 9177\n",
       "    obs: 'layer', 'sample_id', 'condition', 'lib_size', 'log_lib_size'"
      ]
     },
     "execution_count": 6,
     "metadata": {},
     "output_type": "execute_result"
    }
   ],
   "source": [
    "adata_pb = adata_pb[:, adata_pb.X.mean(axis=0) > 0.05]\n",
    "adata_pb"
   ]
  },
  {
   "cell_type": "markdown",
   "id": "dc28f8ba",
   "metadata": {},
   "source": [
    "## Нормализация данных"
   ]
  },
  {
   "cell_type": "code",
   "execution_count": 7,
   "id": "d62707bd",
   "metadata": {},
   "outputs": [],
   "source": [
    "def subtract_mean(adata):\n",
    "    # calculate mean gene expr for each sample\n",
    "    gene_mean_list = []\n",
    "    sample_layer_list = adata.obs.sample_id.unique().tolist()\n",
    "    for sample in sample_layer_list:\n",
    "        gene_mean_list.append(adata[adata.obs.sample_id == sample].X.mean(axis=0).reshape(-1, 1))\n",
    "    # convert to DataFrame\n",
    "    gene_mean_df = pd.DataFrame(np.concatenate(gene_mean_list, axis=1), columns=sample_layer_list, index=adata.var_names)\n",
    "    gene_mean_df.head()\n",
    "    \n",
    "    # subtract mean and return adata\n",
    "    for sample in sample_layer_list:\n",
    "        columns = adata.obs[adata.obs.sample_id == sample].index.to_list()\n",
    "        for column in columns:\n",
    "            adata[column].X = adata[column].X - gene_mean_df.loc[:, sample].values\n",
    "    return adata"
   ]
  },
  {
   "cell_type": "markdown",
   "id": "7422a1bf",
   "metadata": {},
   "source": [
    "Нормализация на размер библиотеки"
   ]
  },
  {
   "cell_type": "code",
   "execution_count": 8,
   "id": "0aa99215",
   "metadata": {},
   "outputs": [
    {
     "name": "stdout",
     "output_type": "stream",
     "text": [
      "normalizing counts per cell\n",
      "    finished (0:00:00)\n"
     ]
    },
    {
     "name": "stderr",
     "output_type": "stream",
     "text": [
      "C:\\Users\\aleks\\anaconda3\\envs\\scanorama39\\lib\\site-packages\\scanpy\\preprocessing\\_normalization.py:170: UserWarning: Received a view of an AnnData. Making a copy.\n",
      "  view_to_actual(adata)\n"
     ]
    }
   ],
   "source": [
    "sc.pp.normalize_total(adata_pb, target_sum=1e4)\n",
    "sc.pp.log1p(adata_pb)"
   ]
  },
  {
   "cell_type": "markdown",
   "id": "4fb84297",
   "metadata": {},
   "source": [
    "Нормализация на образец"
   ]
  },
  {
   "cell_type": "code",
   "execution_count": 9,
   "id": "9cb814b2",
   "metadata": {},
   "outputs": [],
   "source": [
    "adata_norm = subtract_mean(adata_pb)"
   ]
  },
  {
   "cell_type": "code",
   "execution_count": 10,
   "id": "9a97f2d2",
   "metadata": {},
   "outputs": [
    {
     "name": "stdout",
     "output_type": "stream",
     "text": [
      "computing PCA\n",
      "    with n_comps=50\n",
      "    finished (0:00:00)\n"
     ]
    }
   ],
   "source": [
    "sc.pp.pca(adata_norm)"
   ]
  },
  {
   "cell_type": "code",
   "execution_count": 11,
   "id": "d6d35d7b",
   "metadata": {},
   "outputs": [],
   "source": [
    "# сохраним результаты\n",
    "adata_norm.write_h5ad('../../../data/pseudobulks/pb_mamm_sample_norm_filtered.h5ad')"
   ]
  },
  {
   "cell_type": "markdown",
   "id": "d2833906",
   "metadata": {},
   "source": [
    "Построим PCA"
   ]
  },
  {
   "cell_type": "code",
   "execution_count": 12,
   "id": "46eae872",
   "metadata": {},
   "outputs": [
    {
     "name": "stderr",
     "output_type": "stream",
     "text": [
      "C:\\Users\\aleks\\anaconda3\\envs\\scanorama39\\lib\\site-packages\\scanpy\\plotting\\_tools\\scatterplots.py:392: UserWarning: No data for colormapping provided via 'c'. Parameters 'cmap' will be ignored\n",
      "  cax = scatter(\n",
      "C:\\Users\\aleks\\anaconda3\\envs\\scanorama39\\lib\\site-packages\\scanpy\\plotting\\_tools\\scatterplots.py:392: UserWarning: No data for colormapping provided via 'c'. Parameters 'cmap' will be ignored\n",
      "  cax = scatter(\n"
     ]
    },
    {
     "data": {
      "image/png": "[encoded data removed]",
      "text/plain": [
       "<Figure size 1159.2x320 with 4 Axes>"
      ]
     },
     "metadata": {
      "image/png": {
       "height": 303,
       "width": 978
      }
     },
     "output_type": "display_data"
    }
   ],
   "source": [
    "sc.pl.pca(adata_norm, color=['layer', 'condition', 'log_lib_size'], size=200, ncols=3)"
   ]
  },
  {
   "cell_type": "markdown",
   "id": "c58bbbcb",
   "metadata": {},
   "source": [
    "## ANOVA"
   ]
  },
  {
   "cell_type": "markdown",
   "id": "41b0493a",
   "metadata": {},
   "source": [
    "Загрузим файл нормлизованных экспрессий и уберём слабо экспрессирующиеся геныУберём слабо экспрессирующиеся гены"
   ]
  },
  {
   "cell_type": "code",
   "execution_count": 13,
   "id": "33cc81b3",
   "metadata": {},
   "outputs": [
    {
     "data": {
      "text/plain": [
       "AnnData object with n_obs × n_vars = 94 × 9177\n",
       "    obs: 'layer', 'sample_id', 'condition', 'lib_size', 'log_lib_size'\n",
       "    uns: 'log1p', 'pca'\n",
       "    obsm: 'X_pca'\n",
       "    varm: 'PCs'"
      ]
     },
     "execution_count": 13,
     "metadata": {},
     "output_type": "execute_result"
    }
   ],
   "source": [
    "file_name = 'pb_mamm_sample_norm_filtered.h5ad'\n",
    "adata = sc.read_h5ad(dir_path + file_name)\n",
    "adata"
   ]
  },
  {
   "cell_type": "code",
   "execution_count": 14,
   "id": "98d138ef",
   "metadata": {},
   "outputs": [
    {
     "data": {
      "text/html": [
       "<div>\n",
       "<style scoped>\n",
       "    .dataframe tbody tr th:only-of-type {\n",
       "        vertical-align: middle;\n",
       "    }\n",
       "\n",
       "    .dataframe tbody tr th {\n",
       "        vertical-align: top;\n",
       "    }\n",
       "\n",
       "    .dataframe thead th {\n",
       "        text-align: right;\n",
       "    }\n",
       "</style>\n",
       "<table border=\"1\" class=\"dataframe\">\n",
       "  <thead>\n",
       "    <tr style=\"text-align: right;\">\n",
       "      <th></th>\n",
       "      <th>NOC2L</th>\n",
       "      <th>HES4</th>\n",
       "      <th>AGRN</th>\n",
       "      <th>SDF4</th>\n",
       "      <th>B3GALT6</th>\n",
       "      <th>UBE2J2</th>\n",
       "      <th>SCNN1D</th>\n",
       "      <th>ACAP3</th>\n",
       "      <th>PUSL1</th>\n",
       "      <th>INTS11</th>\n",
       "      <th>...</th>\n",
       "      <th>SPATC1L</th>\n",
       "      <th>LSS</th>\n",
       "      <th>MCM3AP</th>\n",
       "      <th>YBEY</th>\n",
       "      <th>PCNT</th>\n",
       "      <th>DIP2A</th>\n",
       "      <th>S100B</th>\n",
       "      <th>PRMT2</th>\n",
       "      <th>condition</th>\n",
       "      <th>layer</th>\n",
       "    </tr>\n",
       "  </thead>\n",
       "  <tbody>\n",
       "    <tr>\n",
       "      <th>WM.human_759</th>\n",
       "      <td>-0.029441</td>\n",
       "      <td>0.000065</td>\n",
       "      <td>-0.043517</td>\n",
       "      <td>-0.047363</td>\n",
       "      <td>0.019739</td>\n",
       "      <td>0.073402</td>\n",
       "      <td>-0.025437</td>\n",
       "      <td>0.066414</td>\n",
       "      <td>-0.005996</td>\n",
       "      <td>0.083758</td>\n",
       "      <td>...</td>\n",
       "      <td>0.062820</td>\n",
       "      <td>0.006484</td>\n",
       "      <td>0.006105</td>\n",
       "      <td>-0.060444</td>\n",
       "      <td>0.043885</td>\n",
       "      <td>0.194320</td>\n",
       "      <td>-0.013049</td>\n",
       "      <td>0.086257</td>\n",
       "      <td>human</td>\n",
       "      <td>WM</td>\n",
       "    </tr>\n",
       "    <tr>\n",
       "      <th>L5.human_759</th>\n",
       "      <td>0.041376</td>\n",
       "      <td>-0.070898</td>\n",
       "      <td>0.081046</td>\n",
       "      <td>-0.035533</td>\n",
       "      <td>0.081751</td>\n",
       "      <td>0.024792</td>\n",
       "      <td>-0.044160</td>\n",
       "      <td>-0.004856</td>\n",
       "      <td>0.042265</td>\n",
       "      <td>-0.097728</td>\n",
       "      <td>...</td>\n",
       "      <td>0.031169</td>\n",
       "      <td>-0.011958</td>\n",
       "      <td>0.004413</td>\n",
       "      <td>0.048625</td>\n",
       "      <td>0.010839</td>\n",
       "      <td>-0.003846</td>\n",
       "      <td>-0.163199</td>\n",
       "      <td>-0.036209</td>\n",
       "      <td>human</td>\n",
       "      <td>L5</td>\n",
       "    </tr>\n",
       "    <tr>\n",
       "      <th>L2.human_759</th>\n",
       "      <td>0.003571</td>\n",
       "      <td>0.078188</td>\n",
       "      <td>-0.094585</td>\n",
       "      <td>0.048401</td>\n",
       "      <td>-0.015252</td>\n",
       "      <td>-0.041863</td>\n",
       "      <td>0.051233</td>\n",
       "      <td>-0.011440</td>\n",
       "      <td>-0.012877</td>\n",
       "      <td>0.011447</td>\n",
       "      <td>...</td>\n",
       "      <td>0.010243</td>\n",
       "      <td>-0.086682</td>\n",
       "      <td>-0.034960</td>\n",
       "      <td>0.014999</td>\n",
       "      <td>-0.022664</td>\n",
       "      <td>-0.073351</td>\n",
       "      <td>-0.099099</td>\n",
       "      <td>0.033290</td>\n",
       "      <td>human</td>\n",
       "      <td>L2</td>\n",
       "    </tr>\n",
       "    <tr>\n",
       "      <th>L3.human_759</th>\n",
       "      <td>0.014237</td>\n",
       "      <td>0.003693</td>\n",
       "      <td>0.055989</td>\n",
       "      <td>-0.024284</td>\n",
       "      <td>-0.030906</td>\n",
       "      <td>-0.005798</td>\n",
       "      <td>-0.020388</td>\n",
       "      <td>-0.024462</td>\n",
       "      <td>0.006017</td>\n",
       "      <td>0.040797</td>\n",
       "      <td>...</td>\n",
       "      <td>-0.056161</td>\n",
       "      <td>-0.006626</td>\n",
       "      <td>0.039248</td>\n",
       "      <td>-0.016340</td>\n",
       "      <td>-0.015441</td>\n",
       "      <td>-0.077773</td>\n",
       "      <td>-0.158475</td>\n",
       "      <td>-0.059096</td>\n",
       "      <td>human</td>\n",
       "      <td>L3</td>\n",
       "    </tr>\n",
       "    <tr>\n",
       "      <th>L1.human_759</th>\n",
       "      <td>-0.084829</td>\n",
       "      <td>0.076060</td>\n",
       "      <td>-0.060537</td>\n",
       "      <td>0.055300</td>\n",
       "      <td>-0.022040</td>\n",
       "      <td>-0.051892</td>\n",
       "      <td>-0.003293</td>\n",
       "      <td>-0.015931</td>\n",
       "      <td>-0.068753</td>\n",
       "      <td>0.025015</td>\n",
       "      <td>...</td>\n",
       "      <td>-0.047335</td>\n",
       "      <td>0.132053</td>\n",
       "      <td>-0.019641</td>\n",
       "      <td>0.023532</td>\n",
       "      <td>0.050180</td>\n",
       "      <td>0.009784</td>\n",
       "      <td>0.679253</td>\n",
       "      <td>0.060213</td>\n",
       "      <td>human</td>\n",
       "      <td>L1</td>\n",
       "    </tr>\n",
       "  </tbody>\n",
       "</table>\n",
       "<p>5 rows × 9179 columns</p>\n",
       "</div>"
      ],
      "text/plain": [
       "                 NOC2L      HES4      AGRN      SDF4   B3GALT6    UBE2J2  \\\n",
       "WM.human_759 -0.029441  0.000065 -0.043517 -0.047363  0.019739  0.073402   \n",
       "L5.human_759  0.041376 -0.070898  0.081046 -0.035533  0.081751  0.024792   \n",
       "L2.human_759  0.003571  0.078188 -0.094585  0.048401 -0.015252 -0.041863   \n",
       "L3.human_759  0.014237  0.003693  0.055989 -0.024284 -0.030906 -0.005798   \n",
       "L1.human_759 -0.084829  0.076060 -0.060537  0.055300 -0.022040 -0.051892   \n",
       "\n",
       "                SCNN1D     ACAP3     PUSL1    INTS11  ...   SPATC1L       LSS  \\\n",
       "WM.human_759 -0.025437  0.066414 -0.005996  0.083758  ...  0.062820  0.006484   \n",
       "L5.human_759 -0.044160 -0.004856  0.042265 -0.097728  ...  0.031169 -0.011958   \n",
       "L2.human_759  0.051233 -0.011440 -0.012877  0.011447  ...  0.010243 -0.086682   \n",
       "L3.human_759 -0.020388 -0.024462  0.006017  0.040797  ... -0.056161 -0.006626   \n",
       "L1.human_759 -0.003293 -0.015931 -0.068753  0.025015  ... -0.047335  0.132053   \n",
       "\n",
       "                MCM3AP      YBEY      PCNT     DIP2A     S100B     PRMT2  \\\n",
       "WM.human_759  0.006105 -0.060444  0.043885  0.194320 -0.013049  0.086257   \n",
       "L5.human_759  0.004413  0.048625  0.010839 -0.003846 -0.163199 -0.036209   \n",
       "L2.human_759 -0.034960  0.014999 -0.022664 -0.073351 -0.099099  0.033290   \n",
       "L3.human_759  0.039248 -0.016340 -0.015441 -0.077773 -0.158475 -0.059096   \n",
       "L1.human_759 -0.019641  0.023532  0.050180  0.009784  0.679253  0.060213   \n",
       "\n",
       "              condition  layer  \n",
       "WM.human_759      human     WM  \n",
       "L5.human_759      human     L5  \n",
       "L2.human_759      human     L2  \n",
       "L3.human_759      human     L3  \n",
       "L1.human_759      human     L1  \n",
       "\n",
       "[5 rows x 9179 columns]"
      ]
     },
     "execution_count": 14,
     "metadata": {},
     "output_type": "execute_result"
    }
   ],
   "source": [
    "# Сделаем датафрейм с сэмплами для ановы\n",
    "df = pd.DataFrame(adata.X, index=adata.obs_names, columns=adata.var_names)\n",
    "df['condition'] = adata.obs.condition\n",
    "df['layer'] = adata.obs.layer\n",
    "df.head()"
   ]
  },
  {
   "cell_type": "markdown",
   "id": "f89d089b",
   "metadata": {},
   "source": [
    "Заменим названия генов на `gene{i}` а то `statsmodels` ругается"
   ]
  },
  {
   "cell_type": "code",
   "execution_count": 15,
   "id": "498b7319",
   "metadata": {},
   "outputs": [],
   "source": [
    "df_var_num = df.copy()\n",
    "df_var_num.columns = [f'gene{i}' for i in range(1, df_var_num.shape[1] - 1)] + ['condition', 'layer']"
   ]
  },
  {
   "cell_type": "code",
   "execution_count": 16,
   "id": "37741df9",
   "metadata": {
    "scrolled": true
   },
   "outputs": [
    {
     "data": {
      "application/vnd.jupyter.widget-view+json": {
       "model_id": "6bf76bb63fd74d4f92173494af333122",
       "version_major": 2,
       "version_minor": 0
      },
      "text/plain": [
       "  0%|          | 0/9177 [00:00<?, ?it/s]"
      ]
     },
     "metadata": {},
     "output_type": "display_data"
    },
    {
     "data": {
      "text/html": [
       "<div>\n",
       "<style scoped>\n",
       "    .dataframe tbody tr th:only-of-type {\n",
       "        vertical-align: middle;\n",
       "    }\n",
       "\n",
       "    .dataframe tbody tr th {\n",
       "        vertical-align: top;\n",
       "    }\n",
       "\n",
       "    .dataframe thead th {\n",
       "        text-align: right;\n",
       "    }\n",
       "</style>\n",
       "<table border=\"1\" class=\"dataframe\">\n",
       "  <thead>\n",
       "    <tr style=\"text-align: right;\">\n",
       "      <th></th>\n",
       "      <th>sum_sq</th>\n",
       "      <th>df</th>\n",
       "      <th>F</th>\n",
       "      <th>PR(&gt;F)</th>\n",
       "    </tr>\n",
       "  </thead>\n",
       "  <tbody>\n",
       "    <tr>\n",
       "      <th>NOC2L</th>\n",
       "      <td>0.050934</td>\n",
       "      <td>12.0</td>\n",
       "      <td>1.331623</td>\n",
       "      <td>2.198446e-01</td>\n",
       "    </tr>\n",
       "    <tr>\n",
       "      <th>HES4</th>\n",
       "      <td>0.047967</td>\n",
       "      <td>12.0</td>\n",
       "      <td>1.869576</td>\n",
       "      <td>5.257696e-02</td>\n",
       "    </tr>\n",
       "    <tr>\n",
       "      <th>AGRN</th>\n",
       "      <td>0.200630</td>\n",
       "      <td>12.0</td>\n",
       "      <td>3.592408</td>\n",
       "      <td>3.153396e-04</td>\n",
       "    </tr>\n",
       "    <tr>\n",
       "      <th>SDF4</th>\n",
       "      <td>0.014974</td>\n",
       "      <td>12.0</td>\n",
       "      <td>1.326877</td>\n",
       "      <td>2.223945e-01</td>\n",
       "    </tr>\n",
       "    <tr>\n",
       "      <th>B3GALT6</th>\n",
       "      <td>0.079358</td>\n",
       "      <td>12.0</td>\n",
       "      <td>6.536443</td>\n",
       "      <td>9.170559e-08</td>\n",
       "    </tr>\n",
       "  </tbody>\n",
       "</table>\n",
       "</div>"
      ],
      "text/plain": [
       "           sum_sq    df         F        PR(>F)\n",
       "NOC2L    0.050934  12.0  1.331623  2.198446e-01\n",
       "HES4     0.047967  12.0  1.869576  5.257696e-02\n",
       "AGRN     0.200630  12.0  3.592408  3.153396e-04\n",
       "SDF4     0.014974  12.0  1.326877  2.223945e-01\n",
       "B3GALT6  0.079358  12.0  6.536443  9.170559e-08"
      ]
     },
     "execution_count": 16,
     "metadata": {},
     "output_type": "execute_result"
    }
   ],
   "source": [
    "# Anova для каждого гена\n",
    "results = []\n",
    "\n",
    "for gene in tqdm(df_var_num.columns.tolist()[:-2]):\n",
    "    formula = f'{gene} ~ condition + layer + condition:layer'\n",
    "    model = ols(formula, data=df_var_num).fit()\n",
    "    aov_table = sm.stats.anova_lm(model, typ=2)\n",
    "    results.append(aov_table.loc['condition:layer'].tolist())\n",
    "\n",
    "# запишем результаты в датасет\n",
    "columns = ['sum_sq', 'df', 'F', 'PR(>F)']\n",
    "res = pd.DataFrame(results, columns=columns, index=adata.var_names)\n",
    "res.head()"
   ]
  },
  {
   "cell_type": "markdown",
   "id": "de34f00a",
   "metadata": {},
   "source": [
    "## Поправка на множественное сравнение"
   ]
  },
  {
   "cell_type": "code",
   "execution_count": 17,
   "id": "b1d0363d",
   "metadata": {},
   "outputs": [],
   "source": [
    "# поправка на множественые сравнения\n",
    "mult_test = multipletests(res['PR(>F)'], method='fdr_bh')\n",
    "res['p_val_adj'] = mult_test[1]\n",
    "res.to_csv(f'../../../results/DE/mammals/ANOVA/anova_mamm.csv')"
   ]
  },
  {
   "cell_type": "code",
   "execution_count": 18,
   "id": "1dcc99d4",
   "metadata": {},
   "outputs": [
    {
     "data": {
      "text/html": [
       "<div>\n",
       "<style scoped>\n",
       "    .dataframe tbody tr th:only-of-type {\n",
       "        vertical-align: middle;\n",
       "    }\n",
       "\n",
       "    .dataframe tbody tr th {\n",
       "        vertical-align: top;\n",
       "    }\n",
       "\n",
       "    .dataframe thead th {\n",
       "        text-align: right;\n",
       "    }\n",
       "</style>\n",
       "<table border=\"1\" class=\"dataframe\">\n",
       "  <thead>\n",
       "    <tr style=\"text-align: right;\">\n",
       "      <th></th>\n",
       "      <th>sum_sq</th>\n",
       "      <th>df</th>\n",
       "      <th>F</th>\n",
       "      <th>PR(&gt;F)</th>\n",
       "      <th>p_val_adj</th>\n",
       "    </tr>\n",
       "  </thead>\n",
       "  <tbody>\n",
       "    <tr>\n",
       "      <th>NOC2L</th>\n",
       "      <td>0.050934</td>\n",
       "      <td>12.0</td>\n",
       "      <td>1.331623</td>\n",
       "      <td>2.198446e-01</td>\n",
       "      <td>2.964752e-01</td>\n",
       "    </tr>\n",
       "    <tr>\n",
       "      <th>HES4</th>\n",
       "      <td>0.047967</td>\n",
       "      <td>12.0</td>\n",
       "      <td>1.869576</td>\n",
       "      <td>5.257696e-02</td>\n",
       "      <td>9.164269e-02</td>\n",
       "    </tr>\n",
       "    <tr>\n",
       "      <th>AGRN</th>\n",
       "      <td>0.200630</td>\n",
       "      <td>12.0</td>\n",
       "      <td>3.592408</td>\n",
       "      <td>3.153396e-04</td>\n",
       "      <td>1.161898e-03</td>\n",
       "    </tr>\n",
       "    <tr>\n",
       "      <th>SDF4</th>\n",
       "      <td>0.014974</td>\n",
       "      <td>12.0</td>\n",
       "      <td>1.326877</td>\n",
       "      <td>2.223945e-01</td>\n",
       "      <td>2.993420e-01</td>\n",
       "    </tr>\n",
       "    <tr>\n",
       "      <th>B3GALT6</th>\n",
       "      <td>0.079358</td>\n",
       "      <td>12.0</td>\n",
       "      <td>6.536443</td>\n",
       "      <td>9.170559e-08</td>\n",
       "      <td>9.258330e-07</td>\n",
       "    </tr>\n",
       "  </tbody>\n",
       "</table>\n",
       "</div>"
      ],
      "text/plain": [
       "           sum_sq    df         F        PR(>F)     p_val_adj\n",
       "NOC2L    0.050934  12.0  1.331623  2.198446e-01  2.964752e-01\n",
       "HES4     0.047967  12.0  1.869576  5.257696e-02  9.164269e-02\n",
       "AGRN     0.200630  12.0  3.592408  3.153396e-04  1.161898e-03\n",
       "SDF4     0.014974  12.0  1.326877  2.223945e-01  2.993420e-01\n",
       "B3GALT6  0.079358  12.0  6.536443  9.170559e-08  9.258330e-07"
      ]
     },
     "execution_count": 18,
     "metadata": {},
     "output_type": "execute_result"
    }
   ],
   "source": [
    "res.head()"
   ]
  },
  {
   "cell_type": "code",
   "execution_count": 19,
   "id": "a0788d71",
   "metadata": {},
   "outputs": [
    {
     "data": {
      "text/plain": [
       "<AxesSubplot: >"
      ]
     },
     "execution_count": 19,
     "metadata": {},
     "output_type": "execute_result"
    },
    {
     "data": {
      "image/png": "[encoded data removed]",
      "text/plain": [
       "<Figure size 320x320 with 1 Axes>"
      ]
     },
     "metadata": {
      "image/png": {
       "height": 281,
       "width": 311
      }
     },
     "output_type": "display_data"
    }
   ],
   "source": [
    "res['PR(>F)'].hist(bins=20)"
   ]
  },
  {
   "cell_type": "markdown",
   "id": "79580bf9",
   "metadata": {},
   "source": [
    "## t-test"
   ]
  },
  {
   "cell_type": "code",
   "execution_count": 20,
   "id": "6cbd92f4",
   "metadata": {},
   "outputs": [
    {
     "data": {
      "text/html": [
       "<div>\n",
       "<style scoped>\n",
       "    .dataframe tbody tr th:only-of-type {\n",
       "        vertical-align: middle;\n",
       "    }\n",
       "\n",
       "    .dataframe tbody tr th {\n",
       "        vertical-align: top;\n",
       "    }\n",
       "\n",
       "    .dataframe thead th {\n",
       "        text-align: right;\n",
       "    }\n",
       "</style>\n",
       "<table border=\"1\" class=\"dataframe\">\n",
       "  <thead>\n",
       "    <tr style=\"text-align: right;\">\n",
       "      <th></th>\n",
       "      <th>sum_sq</th>\n",
       "      <th>df</th>\n",
       "      <th>F</th>\n",
       "      <th>PR(&gt;F)</th>\n",
       "      <th>p_val_adj</th>\n",
       "    </tr>\n",
       "  </thead>\n",
       "  <tbody>\n",
       "    <tr>\n",
       "      <th>NOC2L</th>\n",
       "      <td>0.050934</td>\n",
       "      <td>12.0</td>\n",
       "      <td>1.331623</td>\n",
       "      <td>2.198446e-01</td>\n",
       "      <td>2.964752e-01</td>\n",
       "    </tr>\n",
       "    <tr>\n",
       "      <th>HES4</th>\n",
       "      <td>0.047967</td>\n",
       "      <td>12.0</td>\n",
       "      <td>1.869576</td>\n",
       "      <td>5.257696e-02</td>\n",
       "      <td>9.164269e-02</td>\n",
       "    </tr>\n",
       "    <tr>\n",
       "      <th>AGRN</th>\n",
       "      <td>0.200630</td>\n",
       "      <td>12.0</td>\n",
       "      <td>3.592408</td>\n",
       "      <td>3.153396e-04</td>\n",
       "      <td>1.161898e-03</td>\n",
       "    </tr>\n",
       "    <tr>\n",
       "      <th>SDF4</th>\n",
       "      <td>0.014974</td>\n",
       "      <td>12.0</td>\n",
       "      <td>1.326877</td>\n",
       "      <td>2.223945e-01</td>\n",
       "      <td>2.993420e-01</td>\n",
       "    </tr>\n",
       "    <tr>\n",
       "      <th>B3GALT6</th>\n",
       "      <td>0.079358</td>\n",
       "      <td>12.0</td>\n",
       "      <td>6.536443</td>\n",
       "      <td>9.170559e-08</td>\n",
       "      <td>9.258330e-07</td>\n",
       "    </tr>\n",
       "  </tbody>\n",
       "</table>\n",
       "</div>"
      ],
      "text/plain": [
       "           sum_sq    df         F        PR(>F)     p_val_adj\n",
       "NOC2L    0.050934  12.0  1.331623  2.198446e-01  2.964752e-01\n",
       "HES4     0.047967  12.0  1.869576  5.257696e-02  9.164269e-02\n",
       "AGRN     0.200630  12.0  3.592408  3.153396e-04  1.161898e-03\n",
       "SDF4     0.014974  12.0  1.326877  2.223945e-01  2.993420e-01\n",
       "B3GALT6  0.079358  12.0  6.536443  9.170559e-08  9.258330e-07"
      ]
     },
     "execution_count": 20,
     "metadata": {},
     "output_type": "execute_result"
    }
   ],
   "source": [
    "anova_res = pd.read_csv(f'../../../results/DE/mammals/ANOVA/anova_mamm.csv', index_col=0)\n",
    "anova_res.head()"
   ]
  },
  {
   "cell_type": "markdown",
   "id": "a25ec471",
   "metadata": {},
   "source": [
    "Оставим только значимые по взаимодействию гены"
   ]
  },
  {
   "cell_type": "code",
   "execution_count": 21,
   "id": "1284a4d2",
   "metadata": {},
   "outputs": [
    {
     "data": {
      "text/plain": [
       "Index(['AGRN', 'B3GALT6', 'UBE2J2', 'DVL1', 'ANKRD65', 'VWA1', 'TMEM240',\n",
       "       'SSU72', 'GNB1', 'TMEM52',\n",
       "       ...\n",
       "       'PFKL', 'CFAP410', 'ADARB1', 'COL18A1', 'COL6A2', 'SPATC1L', 'LSS',\n",
       "       'DIP2A', 'S100B', 'PRMT2'],\n",
       "      dtype='object', length=4680)"
      ]
     },
     "execution_count": 21,
     "metadata": {},
     "output_type": "execute_result"
    }
   ],
   "source": [
    "sig_genes = anova_res[res.p_val_adj < 0.05].index\n",
    "sig_genes"
   ]
  },
  {
   "cell_type": "code",
   "execution_count": 22,
   "id": "50c87cbb",
   "metadata": {},
   "outputs": [],
   "source": [
    "from itertools import combinations\n",
    "layers = ['L1', 'L2', 'L3', 'L4', 'L5', 'L6', 'WM']\n",
    "conditions = ['human', 'chimp', 'macaque']"
   ]
  },
  {
   "cell_type": "code",
   "execution_count": 23,
   "id": "8cd342a7",
   "metadata": {},
   "outputs": [
    {
     "data": {
      "application/vnd.jupyter.widget-view+json": {
       "model_id": "567f3ebcba644b959893c1076dfb5fa5",
       "version_major": 2,
       "version_minor": 0
      },
      "text/plain": [
       "  0%|          | 0/7 [00:00<?, ?it/s]"
      ]
     },
     "metadata": {},
     "output_type": "display_data"
    }
   ],
   "source": [
    "from scipy.stats import ttest_ind\n",
    "from itertools import combinations\n",
    "\n",
    "columns = ['gene', 'layer', 'group1', 'group2', 'score', 'pvalue']\n",
    "results = []\n",
    "\n",
    "\n",
    "for layer in tqdm(layers):\n",
    "    layer_results = []\n",
    "    for group1, group2 in combinations(conditions, 2):\n",
    "        for gene in sig_genes.tolist():\n",
    "            values1 = df.loc[(df['layer'] == layer) & (df['condition'] == group1), gene].values\n",
    "            values2 = df.loc[(df['layer'] == layer) & (df['condition'] == group2), gene].values\n",
    "            ttest_res = ttest_ind(values1, values2)\n",
    "            layer_results.append([gene, layer, group1, group2, ttest_res.statistic, ttest_res.pvalue])\n",
    "    # поправка на множественное сравнение\n",
    "    layer_results = pd.DataFrame(layer_results, columns=columns)\n",
    "    layer_results.dropna(subset='pvalue', inplace=True)\n",
    "    mult_test = multipletests(layer_results['pvalue'], method='fdr_bh')\n",
    "    layer_results['p_val_adj'] = mult_test[1]\n",
    "    results.append(layer_results)"
   ]
  },
  {
   "cell_type": "code",
   "execution_count": 24,
   "id": "2d42327b",
   "metadata": {
    "scrolled": false
   },
   "outputs": [
    {
     "data": {
      "text/html": [
       "<div>\n",
       "<style scoped>\n",
       "    .dataframe tbody tr th:only-of-type {\n",
       "        vertical-align: middle;\n",
       "    }\n",
       "\n",
       "    .dataframe tbody tr th {\n",
       "        vertical-align: top;\n",
       "    }\n",
       "\n",
       "    .dataframe thead th {\n",
       "        text-align: right;\n",
       "    }\n",
       "</style>\n",
       "<table border=\"1\" class=\"dataframe\">\n",
       "  <thead>\n",
       "    <tr style=\"text-align: right;\">\n",
       "      <th></th>\n",
       "      <th>gene</th>\n",
       "      <th>layer</th>\n",
       "      <th>group1</th>\n",
       "      <th>group2</th>\n",
       "      <th>score</th>\n",
       "      <th>pvalue</th>\n",
       "      <th>p_val_adj</th>\n",
       "    </tr>\n",
       "  </thead>\n",
       "  <tbody>\n",
       "    <tr>\n",
       "      <th>0</th>\n",
       "      <td>AGRN</td>\n",
       "      <td>L1</td>\n",
       "      <td>human</td>\n",
       "      <td>chimp</td>\n",
       "      <td>0.205461</td>\n",
       "      <td>0.844006</td>\n",
       "      <td>0.927178</td>\n",
       "    </tr>\n",
       "    <tr>\n",
       "      <th>1</th>\n",
       "      <td>B3GALT6</td>\n",
       "      <td>L1</td>\n",
       "      <td>human</td>\n",
       "      <td>chimp</td>\n",
       "      <td>-1.994417</td>\n",
       "      <td>0.093144</td>\n",
       "      <td>0.309415</td>\n",
       "    </tr>\n",
       "    <tr>\n",
       "      <th>2</th>\n",
       "      <td>UBE2J2</td>\n",
       "      <td>L1</td>\n",
       "      <td>human</td>\n",
       "      <td>chimp</td>\n",
       "      <td>-1.303683</td>\n",
       "      <td>0.240125</td>\n",
       "      <td>0.497293</td>\n",
       "    </tr>\n",
       "    <tr>\n",
       "      <th>3</th>\n",
       "      <td>DVL1</td>\n",
       "      <td>L1</td>\n",
       "      <td>human</td>\n",
       "      <td>chimp</td>\n",
       "      <td>0.616069</td>\n",
       "      <td>0.560478</td>\n",
       "      <td>0.761871</td>\n",
       "    </tr>\n",
       "    <tr>\n",
       "      <th>4</th>\n",
       "      <td>ANKRD65</td>\n",
       "      <td>L1</td>\n",
       "      <td>human</td>\n",
       "      <td>chimp</td>\n",
       "      <td>-0.598616</td>\n",
       "      <td>0.571321</td>\n",
       "      <td>0.767981</td>\n",
       "    </tr>\n",
       "    <tr>\n",
       "      <th>...</th>\n",
       "      <td>...</td>\n",
       "      <td>...</td>\n",
       "      <td>...</td>\n",
       "      <td>...</td>\n",
       "      <td>...</td>\n",
       "      <td>...</td>\n",
       "      <td>...</td>\n",
       "    </tr>\n",
       "    <tr>\n",
       "      <th>14035</th>\n",
       "      <td>SPATC1L</td>\n",
       "      <td>WM</td>\n",
       "      <td>chimp</td>\n",
       "      <td>macaque</td>\n",
       "      <td>1.808135</td>\n",
       "      <td>0.113524</td>\n",
       "      <td>0.262710</td>\n",
       "    </tr>\n",
       "    <tr>\n",
       "      <th>14036</th>\n",
       "      <td>LSS</td>\n",
       "      <td>WM</td>\n",
       "      <td>chimp</td>\n",
       "      <td>macaque</td>\n",
       "      <td>-3.293661</td>\n",
       "      <td>0.013236</td>\n",
       "      <td>0.090368</td>\n",
       "    </tr>\n",
       "    <tr>\n",
       "      <th>14037</th>\n",
       "      <td>DIP2A</td>\n",
       "      <td>WM</td>\n",
       "      <td>chimp</td>\n",
       "      <td>macaque</td>\n",
       "      <td>2.495369</td>\n",
       "      <td>0.041271</td>\n",
       "      <td>0.156435</td>\n",
       "    </tr>\n",
       "    <tr>\n",
       "      <th>14038</th>\n",
       "      <td>S100B</td>\n",
       "      <td>WM</td>\n",
       "      <td>chimp</td>\n",
       "      <td>macaque</td>\n",
       "      <td>-2.689585</td>\n",
       "      <td>0.031104</td>\n",
       "      <td>0.135165</td>\n",
       "    </tr>\n",
       "    <tr>\n",
       "      <th>14039</th>\n",
       "      <td>PRMT2</td>\n",
       "      <td>WM</td>\n",
       "      <td>chimp</td>\n",
       "      <td>macaque</td>\n",
       "      <td>2.385315</td>\n",
       "      <td>0.048502</td>\n",
       "      <td>0.169839</td>\n",
       "    </tr>\n",
       "  </tbody>\n",
       "</table>\n",
       "<p>98250 rows × 7 columns</p>\n",
       "</div>"
      ],
      "text/plain": [
       "          gene layer group1   group2     score    pvalue  p_val_adj\n",
       "0         AGRN    L1  human    chimp  0.205461  0.844006   0.927178\n",
       "1      B3GALT6    L1  human    chimp -1.994417  0.093144   0.309415\n",
       "2       UBE2J2    L1  human    chimp -1.303683  0.240125   0.497293\n",
       "3         DVL1    L1  human    chimp  0.616069  0.560478   0.761871\n",
       "4      ANKRD65    L1  human    chimp -0.598616  0.571321   0.767981\n",
       "...        ...   ...    ...      ...       ...       ...        ...\n",
       "14035  SPATC1L    WM  chimp  macaque  1.808135  0.113524   0.262710\n",
       "14036      LSS    WM  chimp  macaque -3.293661  0.013236   0.090368\n",
       "14037    DIP2A    WM  chimp  macaque  2.495369  0.041271   0.156435\n",
       "14038    S100B    WM  chimp  macaque -2.689585  0.031104   0.135165\n",
       "14039    PRMT2    WM  chimp  macaque  2.385315  0.048502   0.169839\n",
       "\n",
       "[98250 rows x 7 columns]"
      ]
     },
     "execution_count": 24,
     "metadata": {},
     "output_type": "execute_result"
    }
   ],
   "source": [
    "ttest_results = pd.concat(results)\n",
    "ttest_results"
   ]
  },
  {
   "cell_type": "code",
   "execution_count": 25,
   "id": "f8384ed9",
   "metadata": {},
   "outputs": [],
   "source": [
    "ttest_results.to_csv('../../../results/DE/mammals/ANOVA/ttest_mamm.csv')"
   ]
  }
 ],
 "metadata": {
  "kernelspec": {
   "display_name": "Python 3 (ipykernel)",
   "language": "python",
   "name": "python3"
  },
  "language_info": {
   "codemirror_mode": {
    "name": "ipython",
    "version": 3
   },
   "file_extension": ".py",
   "mimetype": "text/x-python",
   "name": "python",
   "nbconvert_exporter": "python",
   "pygments_lexer": "ipython3",
   "version": "3.9.13"
  }
 },
 "nbformat": 4,
 "nbformat_minor": 5
}
