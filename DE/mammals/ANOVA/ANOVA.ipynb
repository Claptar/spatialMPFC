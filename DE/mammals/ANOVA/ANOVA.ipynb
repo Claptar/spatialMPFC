{
 "cells": [
  {
   "cell_type": "code",
   "execution_count": 1,
   "id": "67f38c7c",
   "metadata": {},
   "outputs": [],
   "source": [
    "import warnings\n",
    "import scanpy as sc\n",
    "import squidpy as sq\n",
    "import anndata as an\n",
    "import pandas as pd\n",
    "import numpy as np\n",
    "import matplotlib as mpl\n",
    "import matplotlib.pyplot as plt\n",
    "import seaborn as sns\n",
    "from urllib import request\n",
    "import json\n",
    "import os\n",
    "from tqdm.notebook import tqdm\n",
    "\n",
    "import statsmodels.api as sm\n",
    "from statsmodels.formula.api import ols\n",
    "from tqdm.notebook import tqdm\n",
    "from statsmodels.stats.multitest import multipletests\n",
    "\n",
    "sc.settings.set_figure_params(dpi=80)\n",
    "#sc.set_figure_params(facecolor=\"white\", figsize=(8, 8))\n",
    "warnings.simplefilter(action='ignore', category=FutureWarning)\n",
    "sc.settings.verbosity = 3"
   ]
  },
  {
   "cell_type": "markdown",
   "id": "35fd8fad",
   "metadata": {},
   "source": [
    "## Global variables"
   ]
  },
  {
   "cell_type": "code",
   "execution_count": 2,
   "id": "64766f8c-7d13-4977-9638-c38698cba0ac",
   "metadata": {},
   "outputs": [],
   "source": [
    "os.makedirs('results', exist_ok=True)"
   ]
  },
  {
   "cell_type": "code",
   "execution_count": 3,
   "id": "f6e781a2",
   "metadata": {},
   "outputs": [],
   "source": [
    "dir_path = '../../../data/pseudobulks/'"
   ]
  },
  {
   "cell_type": "code",
   "execution_count": 4,
   "id": "c50a730b",
   "metadata": {},
   "outputs": [
    {
     "data": {
      "text/plain": [
       "['pb_age.h5ad',\n",
       " 'pb_mammals.h5ad',\n",
       " 'pb_mammals_filtered.h5ad',\n",
       " 'pb_mammals_samplenorm_mean.h5ad',\n",
       " 'pb_mammals_samplenorm_zscore.h5ad']"
      ]
     },
     "execution_count": 4,
     "metadata": {},
     "output_type": "execute_result"
    }
   ],
   "source": [
    "os.listdir(dir_path)"
   ]
  },
  {
   "cell_type": "markdown",
   "id": "b05dd527",
   "metadata": {},
   "source": [
    "# ANOVA"
   ]
  },
  {
   "cell_type": "markdown",
   "id": "09278915",
   "metadata": {},
   "source": [
    "Load pseudobulk data"
   ]
  },
  {
   "cell_type": "code",
   "execution_count": 5,
   "id": "663aca25",
   "metadata": {},
   "outputs": [
    {
     "data": {
      "text/plain": [
       "AnnData object with n_obs × n_vars = 94 × 14963\n",
       "    obs: 'layer', 'sample_id', 'psbulk_n_cells', 'psbulk_counts', 'condition'\n",
       "    var: 'feature_types', 'mt', 'hb', 'ribo'\n",
       "    layers: 'psbulk_props'"
      ]
     },
     "execution_count": 5,
     "metadata": {},
     "output_type": "execute_result"
    }
   ],
   "source": [
    "file_name = 'pb_mammals.h5ad'\n",
    "adata_pb = sc.read_h5ad(dir_path + file_name)\n",
    "adata_pb"
   ]
  },
  {
   "cell_type": "markdown",
   "id": "2300a237-57b2-4ea2-b688-161931a935d3",
   "metadata": {},
   "source": [
    "Remove technical replicate"
   ]
  },
  {
   "cell_type": "code",
   "execution_count": 6,
   "id": "712ca421-9f0a-4fd8-b44a-78f1dd8fbc87",
   "metadata": {},
   "outputs": [
    {
     "data": {
      "text/plain": [
       "AnnData object with n_obs × n_vars = 89 × 14963\n",
       "    obs: 'layer', 'sample_id', 'psbulk_n_cells', 'psbulk_counts', 'condition'\n",
       "    var: 'feature_types', 'mt', 'hb', 'ribo'\n",
       "    layers: 'psbulk_props'"
      ]
     },
     "execution_count": 6,
     "metadata": {},
     "output_type": "execute_result"
    }
   ],
   "source": [
    "adata_pb = adata_pb[adata_pb.obs.sample_id != 'chimp_13302'].copy()\n",
    "adata_pb"
   ]
  },
  {
   "cell_type": "markdown",
   "id": "85f2d38b",
   "metadata": {},
   "source": [
    "Calculate library size"
   ]
  },
  {
   "cell_type": "code",
   "execution_count": 7,
   "id": "1994056b",
   "metadata": {},
   "outputs": [],
   "source": [
    "adata_pb.obs[\"lib_size\"] = adata_pb.X.sum(axis=1)\n",
    "adata_pb.obs[\"log_lib_size\"] = np.log(adata_pb.obs[\"lib_size\"])"
   ]
  },
  {
   "cell_type": "markdown",
   "id": "0768f8af",
   "metadata": {},
   "source": [
    "## Gene filltering"
   ]
  },
  {
   "cell_type": "markdown",
   "id": "6a66385e",
   "metadata": {},
   "source": [
    "Fillter low expressed genes"
   ]
  },
  {
   "cell_type": "code",
   "execution_count": 8,
   "id": "464432d8",
   "metadata": {},
   "outputs": [
    {
     "data": {
      "text/plain": [
       "View of AnnData object with n_obs × n_vars = 89 × 9208\n",
       "    obs: 'layer', 'sample_id', 'psbulk_n_cells', 'psbulk_counts', 'condition', 'lib_size', 'log_lib_size'\n",
       "    var: 'feature_types', 'mt', 'hb', 'ribo'\n",
       "    layers: 'psbulk_props'"
      ]
     },
     "execution_count": 8,
     "metadata": {},
     "output_type": "execute_result"
    }
   ],
   "source": [
    "adata_pb = adata_pb[:, adata_pb.X.mean(axis=0) > 0.05]\n",
    "adata_pb"
   ]
  },
  {
   "cell_type": "code",
   "execution_count": 9,
   "id": "4c456d14-98a8-49ee-acac-87040075f7e6",
   "metadata": {},
   "outputs": [],
   "source": [
    "adata_pb.write_h5ad('results/pb_mammals_filtered.h5ad')"
   ]
  },
  {
   "cell_type": "markdown",
   "id": "1cf9d95c",
   "metadata": {},
   "source": [
    "## Sample normalization"
   ]
  },
  {
   "cell_type": "code",
   "execution_count": 10,
   "id": "0fcab9da",
   "metadata": {},
   "outputs": [],
   "source": [
    "def subtract_mean(adata):\n",
    "    # calculate mean gene expr for each sample\n",
    "    gene_mean_list = []\n",
    "    sample_layer_list = adata.obs.sample_id.unique().tolist()\n",
    "    for sample in sample_layer_list:\n",
    "        gene_mean_list.append(adata[adata.obs.sample_id == sample].X.mean(axis=0).reshape(-1, 1))\n",
    "    # convert to DataFrame\n",
    "    gene_mean_df = pd.DataFrame(np.concatenate(gene_mean_list, axis=1), columns=sample_layer_list, index=adata.var_names)\n",
    "    gene_mean_df.head()\n",
    "    \n",
    "    # subtract mean and return adata\n",
    "    for sample in sample_layer_list:\n",
    "        columns = adata.obs[adata.obs.sample_id == sample].index.to_list()\n",
    "        for column in columns:\n",
    "            adata[column].X = adata[column].X - gene_mean_df.loc[:, sample].values\n",
    "    return adata"
   ]
  },
  {
   "cell_type": "markdown",
   "id": "db0cf173",
   "metadata": {},
   "source": [
    "Library size normalization"
   ]
  },
  {
   "cell_type": "code",
   "execution_count": 11,
   "id": "43eeed5d",
   "metadata": {},
   "outputs": [
    {
     "name": "stdout",
     "output_type": "stream",
     "text": [
      "normalizing counts per cell\n",
      "    finished (0:00:00)\n"
     ]
    },
    {
     "name": "stderr",
     "output_type": "stream",
     "text": [
      "D:\\Projects\\spatialMPFC\\venv\\lib\\site-packages\\scanpy\\preprocessing\\_normalization.py:169: UserWarning: Received a view of an AnnData. Making a copy.\n",
      "  view_to_actual(adata)\n"
     ]
    }
   ],
   "source": [
    "sc.pp.normalize_total(adata_pb, target_sum=1e4)\n",
    "sc.pp.log1p(adata_pb)"
   ]
  },
  {
   "cell_type": "markdown",
   "id": "d625728c",
   "metadata": {},
   "source": [
    "Sample normalization"
   ]
  },
  {
   "cell_type": "code",
   "execution_count": 12,
   "id": "09f62928",
   "metadata": {},
   "outputs": [],
   "source": [
    "adata_norm = subtract_mean(adata_pb)"
   ]
  },
  {
   "cell_type": "code",
   "execution_count": 13,
   "id": "5cac9576",
   "metadata": {},
   "outputs": [
    {
     "name": "stdout",
     "output_type": "stream",
     "text": [
      "computing PCA\n",
      "    with n_comps=50\n",
      "    finished (0:00:00)\n"
     ]
    }
   ],
   "source": [
    "sc.pp.pca(adata_norm)"
   ]
  },
  {
   "cell_type": "code",
   "execution_count": 14,
   "id": "74081e1e",
   "metadata": {},
   "outputs": [],
   "source": [
    "# save results\n",
    "adata_norm.write_h5ad('results/pb_mammals_samplenorm_mean.h5ad')"
   ]
  },
  {
   "cell_type": "code",
   "execution_count": 15,
   "id": "98040f3a",
   "metadata": {},
   "outputs": [
    {
     "name": "stderr",
     "output_type": "stream",
     "text": [
      "D:\\Projects\\spatialMPFC\\venv\\lib\\site-packages\\scanpy\\plotting\\_tools\\scatterplots.py:391: UserWarning: No data for colormapping provided via 'c'. Parameters 'cmap' will be ignored\n",
      "  cax = scatter(\n",
      "D:\\Projects\\spatialMPFC\\venv\\lib\\site-packages\\scanpy\\plotting\\_tools\\scatterplots.py:391: UserWarning: No data for colormapping provided via 'c'. Parameters 'cmap' will be ignored\n",
      "  cax = scatter(\n"
     ]
    },
    {
     "data": {
      "image/png": "[encoded data removed]",
      "text/plain": [
       "<Figure size 1159.2x320 with 4 Axes>"
      ]
     },
     "metadata": {
      "image/png": {
       "height": 299,
       "width": 974
      }
     },
     "output_type": "display_data"
    }
   ],
   "source": [
    "sc.pl.pca(adata_norm, color=['layer', 'condition', 'log_lib_size'], size=200, ncols=3)"
   ]
  },
  {
   "cell_type": "markdown",
   "id": "333eabce",
   "metadata": {},
   "source": [
    "## ANOVA"
   ]
  },
  {
   "cell_type": "code",
   "execution_count": 16,
   "id": "33cc81b3",
   "metadata": {},
   "outputs": [
    {
     "data": {
      "text/plain": [
       "AnnData object with n_obs × n_vars = 89 × 9208\n",
       "    obs: 'layer', 'sample_id', 'psbulk_n_cells', 'psbulk_counts', 'condition', 'lib_size', 'log_lib_size'\n",
       "    var: 'feature_types', 'mt', 'hb', 'ribo'\n",
       "    uns: 'log1p', 'pca'\n",
       "    obsm: 'X_pca'\n",
       "    varm: 'PCs'\n",
       "    layers: 'psbulk_props'"
      ]
     },
     "execution_count": 16,
     "metadata": {},
     "output_type": "execute_result"
    }
   ],
   "source": [
    "adata = sc.read_h5ad('results/pb_mammals_samplenorm_mean.h5ad')\n",
    "adata"
   ]
  },
  {
   "cell_type": "code",
   "execution_count": 17,
   "id": "92afdd52",
   "metadata": {},
   "outputs": [
    {
     "data": {
      "text/html": [
       "<div>\n",
       "<style scoped>\n",
       "    .dataframe tbody tr th:only-of-type {\n",
       "        vertical-align: middle;\n",
       "    }\n",
       "\n",
       "    .dataframe tbody tr th {\n",
       "        vertical-align: top;\n",
       "    }\n",
       "\n",
       "    .dataframe thead th {\n",
       "        text-align: right;\n",
       "    }\n",
       "</style>\n",
       "<table border=\"1\" class=\"dataframe\">\n",
       "  <thead>\n",
       "    <tr style=\"text-align: right;\">\n",
       "      <th></th>\n",
       "      <th>A1BG</th>\n",
       "      <th>AAAS</th>\n",
       "      <th>AACS</th>\n",
       "      <th>AADAT</th>\n",
       "      <th>AAGAB</th>\n",
       "      <th>AAK1</th>\n",
       "      <th>AAMDC</th>\n",
       "      <th>AAMP</th>\n",
       "      <th>AAR2</th>\n",
       "      <th>AARS1</th>\n",
       "      <th>...</th>\n",
       "      <th>ZSWIM7</th>\n",
       "      <th>ZSWIM8</th>\n",
       "      <th>ZUP1</th>\n",
       "      <th>ZWILCH</th>\n",
       "      <th>ZYG11B</th>\n",
       "      <th>ZYX</th>\n",
       "      <th>ZZEF1</th>\n",
       "      <th>ZZZ3</th>\n",
       "      <th>condition</th>\n",
       "      <th>layer</th>\n",
       "    </tr>\n",
       "  </thead>\n",
       "  <tbody>\n",
       "    <tr>\n",
       "      <th>chimp_11454_L1</th>\n",
       "      <td>0.005079</td>\n",
       "      <td>0.073186</td>\n",
       "      <td>-0.108424</td>\n",
       "      <td>0.013291</td>\n",
       "      <td>-0.095572</td>\n",
       "      <td>-0.069955</td>\n",
       "      <td>0.114797</td>\n",
       "      <td>0.029699</td>\n",
       "      <td>-0.004369</td>\n",
       "      <td>0.002562</td>\n",
       "      <td>...</td>\n",
       "      <td>-0.106296</td>\n",
       "      <td>-0.133235</td>\n",
       "      <td>-0.152825</td>\n",
       "      <td>0.028279</td>\n",
       "      <td>-0.013137</td>\n",
       "      <td>0.022066</td>\n",
       "      <td>-0.128826</td>\n",
       "      <td>0.001813</td>\n",
       "      <td>chimp</td>\n",
       "      <td>L1</td>\n",
       "    </tr>\n",
       "    <tr>\n",
       "      <th>chimp_13309_L1</th>\n",
       "      <td>-0.014054</td>\n",
       "      <td>-0.035632</td>\n",
       "      <td>-0.004051</td>\n",
       "      <td>-0.002748</td>\n",
       "      <td>0.075461</td>\n",
       "      <td>0.055413</td>\n",
       "      <td>-0.038396</td>\n",
       "      <td>0.008712</td>\n",
       "      <td>0.051290</td>\n",
       "      <td>0.014893</td>\n",
       "      <td>...</td>\n",
       "      <td>-0.049720</td>\n",
       "      <td>0.024958</td>\n",
       "      <td>-0.182668</td>\n",
       "      <td>-0.016176</td>\n",
       "      <td>-0.005356</td>\n",
       "      <td>-0.000944</td>\n",
       "      <td>-0.092394</td>\n",
       "      <td>0.029591</td>\n",
       "      <td>chimp</td>\n",
       "      <td>L1</td>\n",
       "    </tr>\n",
       "    <tr>\n",
       "      <th>chimp_j8_L1</th>\n",
       "      <td>0.009907</td>\n",
       "      <td>0.029165</td>\n",
       "      <td>-0.088813</td>\n",
       "      <td>0.001865</td>\n",
       "      <td>0.038888</td>\n",
       "      <td>-0.002917</td>\n",
       "      <td>0.017374</td>\n",
       "      <td>-0.006275</td>\n",
       "      <td>0.011932</td>\n",
       "      <td>0.029188</td>\n",
       "      <td>...</td>\n",
       "      <td>0.021254</td>\n",
       "      <td>0.060017</td>\n",
       "      <td>0.032458</td>\n",
       "      <td>-0.003124</td>\n",
       "      <td>-0.003501</td>\n",
       "      <td>-0.004307</td>\n",
       "      <td>0.111807</td>\n",
       "      <td>0.006668</td>\n",
       "      <td>chimp</td>\n",
       "      <td>L1</td>\n",
       "    </tr>\n",
       "    <tr>\n",
       "      <th>human_759_L1</th>\n",
       "      <td>-0.142812</td>\n",
       "      <td>0.114319</td>\n",
       "      <td>-0.068295</td>\n",
       "      <td>0.029625</td>\n",
       "      <td>-0.090127</td>\n",
       "      <td>-0.167612</td>\n",
       "      <td>0.092342</td>\n",
       "      <td>-0.045720</td>\n",
       "      <td>-0.024548</td>\n",
       "      <td>-0.043530</td>\n",
       "      <td>...</td>\n",
       "      <td>-0.010275</td>\n",
       "      <td>-0.013808</td>\n",
       "      <td>-0.004590</td>\n",
       "      <td>-0.084963</td>\n",
       "      <td>-0.053720</td>\n",
       "      <td>0.083597</td>\n",
       "      <td>0.012983</td>\n",
       "      <td>0.007762</td>\n",
       "      <td>human</td>\n",
       "      <td>L1</td>\n",
       "    </tr>\n",
       "    <tr>\n",
       "      <th>human_j12_L1</th>\n",
       "      <td>-0.018240</td>\n",
       "      <td>0.003840</td>\n",
       "      <td>-0.116677</td>\n",
       "      <td>-0.055486</td>\n",
       "      <td>-0.000218</td>\n",
       "      <td>-0.126356</td>\n",
       "      <td>0.105158</td>\n",
       "      <td>-0.083792</td>\n",
       "      <td>-0.032703</td>\n",
       "      <td>-0.054107</td>\n",
       "      <td>...</td>\n",
       "      <td>0.074993</td>\n",
       "      <td>0.006322</td>\n",
       "      <td>-0.068134</td>\n",
       "      <td>-0.132802</td>\n",
       "      <td>-0.138752</td>\n",
       "      <td>0.050423</td>\n",
       "      <td>-0.035598</td>\n",
       "      <td>0.056095</td>\n",
       "      <td>human</td>\n",
       "      <td>L1</td>\n",
       "    </tr>\n",
       "  </tbody>\n",
       "</table>\n",
       "<p>5 rows × 9210 columns</p>\n",
       "</div>"
      ],
      "text/plain": [
       "                    A1BG      AAAS      AACS     AADAT     AAGAB      AAK1  \\\n",
       "chimp_11454_L1  0.005079  0.073186 -0.108424  0.013291 -0.095572 -0.069955   \n",
       "chimp_13309_L1 -0.014054 -0.035632 -0.004051 -0.002748  0.075461  0.055413   \n",
       "chimp_j8_L1     0.009907  0.029165 -0.088813  0.001865  0.038888 -0.002917   \n",
       "human_759_L1   -0.142812  0.114319 -0.068295  0.029625 -0.090127 -0.167612   \n",
       "human_j12_L1   -0.018240  0.003840 -0.116677 -0.055486 -0.000218 -0.126356   \n",
       "\n",
       "                   AAMDC      AAMP      AAR2     AARS1  ...    ZSWIM7  \\\n",
       "chimp_11454_L1  0.114797  0.029699 -0.004369  0.002562  ... -0.106296   \n",
       "chimp_13309_L1 -0.038396  0.008712  0.051290  0.014893  ... -0.049720   \n",
       "chimp_j8_L1     0.017374 -0.006275  0.011932  0.029188  ...  0.021254   \n",
       "human_759_L1    0.092342 -0.045720 -0.024548 -0.043530  ... -0.010275   \n",
       "human_j12_L1    0.105158 -0.083792 -0.032703 -0.054107  ...  0.074993   \n",
       "\n",
       "                  ZSWIM8      ZUP1    ZWILCH    ZYG11B       ZYX     ZZEF1  \\\n",
       "chimp_11454_L1 -0.133235 -0.152825  0.028279 -0.013137  0.022066 -0.128826   \n",
       "chimp_13309_L1  0.024958 -0.182668 -0.016176 -0.005356 -0.000944 -0.092394   \n",
       "chimp_j8_L1     0.060017  0.032458 -0.003124 -0.003501 -0.004307  0.111807   \n",
       "human_759_L1   -0.013808 -0.004590 -0.084963 -0.053720  0.083597  0.012983   \n",
       "human_j12_L1    0.006322 -0.068134 -0.132802 -0.138752  0.050423 -0.035598   \n",
       "\n",
       "                    ZZZ3  condition  layer  \n",
       "chimp_11454_L1  0.001813      chimp     L1  \n",
       "chimp_13309_L1  0.029591      chimp     L1  \n",
       "chimp_j8_L1     0.006668      chimp     L1  \n",
       "human_759_L1    0.007762      human     L1  \n",
       "human_j12_L1    0.056095      human     L1  \n",
       "\n",
       "[5 rows x 9210 columns]"
      ]
     },
     "execution_count": 17,
     "metadata": {},
     "output_type": "execute_result"
    }
   ],
   "source": [
    "# Make df for ANOVA\n",
    "df = pd.DataFrame(adata.X, index=adata.obs_names, columns=adata.var_names)\n",
    "df['condition'] = adata.obs.condition\n",
    "df['layer'] = adata.obs.layer\n",
    "df.head()"
   ]
  },
  {
   "cell_type": "markdown",
   "id": "fe8cb70b",
   "metadata": {},
   "source": [
    "Replace gene names to `gene{i}` as `statsmodels` may fail"
   ]
  },
  {
   "cell_type": "code",
   "execution_count": 18,
   "id": "498b7319",
   "metadata": {},
   "outputs": [],
   "source": [
    "df_var_num = df.copy()\n",
    "df_var_num.columns = [f'gene{i}' for i in range(1, df_var_num.shape[1] - 1)] + ['condition', 'layer']"
   ]
  },
  {
   "cell_type": "code",
   "execution_count": 19,
   "id": "37741df9",
   "metadata": {
    "scrolled": true
   },
   "outputs": [
    {
     "data": {
      "application/vnd.jupyter.widget-view+json": {
       "model_id": "16bc7ea703294f358cc78841fcf28747",
       "version_major": 2,
       "version_minor": 0
      },
      "text/plain": [
       "  0%|          | 0/9208 [00:00<?, ?it/s]"
      ]
     },
     "metadata": {},
     "output_type": "display_data"
    },
    {
     "data": {
      "text/html": [
       "<div>\n",
       "<style scoped>\n",
       "    .dataframe tbody tr th:only-of-type {\n",
       "        vertical-align: middle;\n",
       "    }\n",
       "\n",
       "    .dataframe tbody tr th {\n",
       "        vertical-align: top;\n",
       "    }\n",
       "\n",
       "    .dataframe thead th {\n",
       "        text-align: right;\n",
       "    }\n",
       "</style>\n",
       "<table border=\"1\" class=\"dataframe\">\n",
       "  <thead>\n",
       "    <tr style=\"text-align: right;\">\n",
       "      <th></th>\n",
       "      <th>sum_sq</th>\n",
       "      <th>df</th>\n",
       "      <th>F</th>\n",
       "      <th>PR(&gt;F)</th>\n",
       "    </tr>\n",
       "  </thead>\n",
       "  <tbody>\n",
       "    <tr>\n",
       "      <th>A1BG</th>\n",
       "      <td>0.122578</td>\n",
       "      <td>12.0</td>\n",
       "      <td>2.796490</td>\n",
       "      <td>0.003701</td>\n",
       "    </tr>\n",
       "    <tr>\n",
       "      <th>AAAS</th>\n",
       "      <td>0.017527</td>\n",
       "      <td>12.0</td>\n",
       "      <td>0.944161</td>\n",
       "      <td>0.509517</td>\n",
       "    </tr>\n",
       "    <tr>\n",
       "      <th>AACS</th>\n",
       "      <td>0.136394</td>\n",
       "      <td>12.0</td>\n",
       "      <td>2.729393</td>\n",
       "      <td>0.004508</td>\n",
       "    </tr>\n",
       "    <tr>\n",
       "      <th>AADAT</th>\n",
       "      <td>0.057031</td>\n",
       "      <td>12.0</td>\n",
       "      <td>5.478881</td>\n",
       "      <td>0.000002</td>\n",
       "    </tr>\n",
       "    <tr>\n",
       "      <th>AAGAB</th>\n",
       "      <td>0.043359</td>\n",
       "      <td>12.0</td>\n",
       "      <td>2.127609</td>\n",
       "      <td>0.026045</td>\n",
       "    </tr>\n",
       "  </tbody>\n",
       "</table>\n",
       "</div>"
      ],
      "text/plain": [
       "         sum_sq    df         F    PR(>F)\n",
       "A1BG   0.122578  12.0  2.796490  0.003701\n",
       "AAAS   0.017527  12.0  0.944161  0.509517\n",
       "AACS   0.136394  12.0  2.729393  0.004508\n",
       "AADAT  0.057031  12.0  5.478881  0.000002\n",
       "AAGAB  0.043359  12.0  2.127609  0.026045"
      ]
     },
     "execution_count": 19,
     "metadata": {},
     "output_type": "execute_result"
    }
   ],
   "source": [
    "# ANOVA for each gene\n",
    "results = []\n",
    "\n",
    "for gene in tqdm(df_var_num.columns.tolist()[:-2]):\n",
    "    formula = f'{gene} ~ condition + layer + condition:layer'\n",
    "    model = ols(formula, data=df_var_num).fit()\n",
    "    aov_table = sm.stats.anova_lm(model, typ=2)\n",
    "    results.append(aov_table.loc['condition:layer'].tolist())\n",
    "\n",
    "# save results to df\n",
    "columns = ['sum_sq', 'df', 'F', 'PR(>F)']\n",
    "res = pd.DataFrame(results, columns=columns, index=adata.var_names)\n",
    "res.head()"
   ]
  },
  {
   "cell_type": "markdown",
   "id": "e08a7a10",
   "metadata": {},
   "source": [
    "## Multiple comparison correction"
   ]
  },
  {
   "cell_type": "code",
   "execution_count": 20,
   "id": "9e7daeeb",
   "metadata": {},
   "outputs": [],
   "source": [
    "# Multiple comparison correction\n",
    "mult_test = multipletests(res['PR(>F)'], method='fdr_bh')\n",
    "res['p_val_adj'] = mult_test[1]\n",
    "res.to_csv(f'results/anova_mamm_mean.csv')"
   ]
  },
  {
   "cell_type": "code",
   "execution_count": 21,
   "id": "1dcc99d4",
   "metadata": {},
   "outputs": [
    {
     "data": {
      "text/html": [
       "<div>\n",
       "<style scoped>\n",
       "    .dataframe tbody tr th:only-of-type {\n",
       "        vertical-align: middle;\n",
       "    }\n",
       "\n",
       "    .dataframe tbody tr th {\n",
       "        vertical-align: top;\n",
       "    }\n",
       "\n",
       "    .dataframe thead th {\n",
       "        text-align: right;\n",
       "    }\n",
       "</style>\n",
       "<table border=\"1\" class=\"dataframe\">\n",
       "  <thead>\n",
       "    <tr style=\"text-align: right;\">\n",
       "      <th></th>\n",
       "      <th>sum_sq</th>\n",
       "      <th>df</th>\n",
       "      <th>F</th>\n",
       "      <th>PR(&gt;F)</th>\n",
       "      <th>p_val_adj</th>\n",
       "    </tr>\n",
       "  </thead>\n",
       "  <tbody>\n",
       "    <tr>\n",
       "      <th>A1BG</th>\n",
       "      <td>0.122578</td>\n",
       "      <td>12.0</td>\n",
       "      <td>2.796490</td>\n",
       "      <td>0.003701</td>\n",
       "      <td>0.010364</td>\n",
       "    </tr>\n",
       "    <tr>\n",
       "      <th>AAAS</th>\n",
       "      <td>0.017527</td>\n",
       "      <td>12.0</td>\n",
       "      <td>0.944161</td>\n",
       "      <td>0.509517</td>\n",
       "      <td>0.596369</td>\n",
       "    </tr>\n",
       "    <tr>\n",
       "      <th>AACS</th>\n",
       "      <td>0.136394</td>\n",
       "      <td>12.0</td>\n",
       "      <td>2.729393</td>\n",
       "      <td>0.004508</td>\n",
       "      <td>0.012212</td>\n",
       "    </tr>\n",
       "    <tr>\n",
       "      <th>AADAT</th>\n",
       "      <td>0.057031</td>\n",
       "      <td>12.0</td>\n",
       "      <td>5.478881</td>\n",
       "      <td>0.000002</td>\n",
       "      <td>0.000016</td>\n",
       "    </tr>\n",
       "    <tr>\n",
       "      <th>AAGAB</th>\n",
       "      <td>0.043359</td>\n",
       "      <td>12.0</td>\n",
       "      <td>2.127609</td>\n",
       "      <td>0.026045</td>\n",
       "      <td>0.053640</td>\n",
       "    </tr>\n",
       "  </tbody>\n",
       "</table>\n",
       "</div>"
      ],
      "text/plain": [
       "         sum_sq    df         F    PR(>F)  p_val_adj\n",
       "A1BG   0.122578  12.0  2.796490  0.003701   0.010364\n",
       "AAAS   0.017527  12.0  0.944161  0.509517   0.596369\n",
       "AACS   0.136394  12.0  2.729393  0.004508   0.012212\n",
       "AADAT  0.057031  12.0  5.478881  0.000002   0.000016\n",
       "AAGAB  0.043359  12.0  2.127609  0.026045   0.053640"
      ]
     },
     "execution_count": 21,
     "metadata": {},
     "output_type": "execute_result"
    }
   ],
   "source": [
    "res.head()"
   ]
  },
  {
   "cell_type": "code",
   "execution_count": 22,
   "id": "a0788d71",
   "metadata": {},
   "outputs": [
    {
     "data": {
      "text/plain": [
       "<Axes: >"
      ]
     },
     "execution_count": 22,
     "metadata": {},
     "output_type": "execute_result"
    },
    {
     "data": {
      "image/png": "[encoded data removed]",
      "text/plain": [
       "<Figure size 320x320 with 1 Axes>"
      ]
     },
     "metadata": {
      "image/png": {
       "height": 281,
       "width": 311
      }
     },
     "output_type": "display_data"
    }
   ],
   "source": [
    "res['PR(>F)'].hist(bins=20)"
   ]
  },
  {
   "cell_type": "code",
   "execution_count": 23,
   "id": "6a203c14-536f-4129-8c66-02260c99d39a",
   "metadata": {},
   "outputs": [
    {
     "data": {
      "text/plain": [
       "(4387, 5)"
      ]
     },
     "execution_count": 23,
     "metadata": {},
     "output_type": "execute_result"
    }
   ],
   "source": [
    "res[res.p_val_adj < 0.05].shape"
   ]
  },
  {
   "cell_type": "markdown",
   "id": "a9cab8d4",
   "metadata": {},
   "source": [
    "## t-test"
   ]
  },
  {
   "cell_type": "code",
   "execution_count": 24,
   "id": "c16123a4",
   "metadata": {},
   "outputs": [
    {
     "data": {
      "text/html": [
       "<div>\n",
       "<style scoped>\n",
       "    .dataframe tbody tr th:only-of-type {\n",
       "        vertical-align: middle;\n",
       "    }\n",
       "\n",
       "    .dataframe tbody tr th {\n",
       "        vertical-align: top;\n",
       "    }\n",
       "\n",
       "    .dataframe thead th {\n",
       "        text-align: right;\n",
       "    }\n",
       "</style>\n",
       "<table border=\"1\" class=\"dataframe\">\n",
       "  <thead>\n",
       "    <tr style=\"text-align: right;\">\n",
       "      <th></th>\n",
       "      <th>sum_sq</th>\n",
       "      <th>df</th>\n",
       "      <th>F</th>\n",
       "      <th>PR(&gt;F)</th>\n",
       "      <th>p_val_adj</th>\n",
       "    </tr>\n",
       "  </thead>\n",
       "  <tbody>\n",
       "    <tr>\n",
       "      <th>A1BG</th>\n",
       "      <td>0.122578</td>\n",
       "      <td>12.0</td>\n",
       "      <td>2.796490</td>\n",
       "      <td>0.003701</td>\n",
       "      <td>0.010364</td>\n",
       "    </tr>\n",
       "    <tr>\n",
       "      <th>AAAS</th>\n",
       "      <td>0.017527</td>\n",
       "      <td>12.0</td>\n",
       "      <td>0.944161</td>\n",
       "      <td>0.509517</td>\n",
       "      <td>0.596369</td>\n",
       "    </tr>\n",
       "    <tr>\n",
       "      <th>AACS</th>\n",
       "      <td>0.136394</td>\n",
       "      <td>12.0</td>\n",
       "      <td>2.729393</td>\n",
       "      <td>0.004508</td>\n",
       "      <td>0.012212</td>\n",
       "    </tr>\n",
       "    <tr>\n",
       "      <th>AADAT</th>\n",
       "      <td>0.057031</td>\n",
       "      <td>12.0</td>\n",
       "      <td>5.478881</td>\n",
       "      <td>0.000002</td>\n",
       "      <td>0.000016</td>\n",
       "    </tr>\n",
       "    <tr>\n",
       "      <th>AAGAB</th>\n",
       "      <td>0.043359</td>\n",
       "      <td>12.0</td>\n",
       "      <td>2.127609</td>\n",
       "      <td>0.026045</td>\n",
       "      <td>0.053640</td>\n",
       "    </tr>\n",
       "  </tbody>\n",
       "</table>\n",
       "</div>"
      ],
      "text/plain": [
       "         sum_sq    df         F    PR(>F)  p_val_adj\n",
       "A1BG   0.122578  12.0  2.796490  0.003701   0.010364\n",
       "AAAS   0.017527  12.0  0.944161  0.509517   0.596369\n",
       "AACS   0.136394  12.0  2.729393  0.004508   0.012212\n",
       "AADAT  0.057031  12.0  5.478881  0.000002   0.000016\n",
       "AAGAB  0.043359  12.0  2.127609  0.026045   0.053640"
      ]
     },
     "execution_count": 24,
     "metadata": {},
     "output_type": "execute_result"
    }
   ],
   "source": [
    "anova_res = pd.read_csv(f'results/anova_mamm_mean.csv', index_col=0)\n",
    "anova_res.head()"
   ]
  },
  {
   "cell_type": "markdown",
   "id": "d403134e",
   "metadata": {},
   "source": [
    "Leave only significant genes"
   ]
  },
  {
   "cell_type": "code",
   "execution_count": 25,
   "id": "0c192021",
   "metadata": {},
   "outputs": [
    {
     "data": {
      "text/plain": [
       "Index(['A1BG', 'AACS', 'AADAT', 'AAK1', 'AARS1', 'AATK', 'ABAT', 'ABCA2',\n",
       "       'ABCA3', 'ABCA5',\n",
       "       ...\n",
       "       'ZNF771', 'ZNF791', 'ZNF92', 'ZNFX1', 'ZNRF3', 'ZSWIM5', 'ZSWIM6',\n",
       "       'ZWILCH', 'ZYG11B', 'ZYX'],\n",
       "      dtype='object', length=4387)"
      ]
     },
     "execution_count": 25,
     "metadata": {},
     "output_type": "execute_result"
    }
   ],
   "source": [
    "sig_genes = anova_res[res.p_val_adj < 0.05].index\n",
    "sig_genes"
   ]
  },
  {
   "cell_type": "code",
   "execution_count": 26,
   "id": "a89538c0",
   "metadata": {},
   "outputs": [],
   "source": [
    "from itertools import combinations\n",
    "layers = ['L1', 'L2', 'L3', 'L4', 'L5', 'L6', 'WM']\n",
    "conditions = ['human', 'chimp', 'macaque']"
   ]
  },
  {
   "cell_type": "code",
   "execution_count": 27,
   "id": "0f513cfb",
   "metadata": {},
   "outputs": [
    {
     "data": {
      "application/vnd.jupyter.widget-view+json": {
       "model_id": "2a086152feb845d3a03f6613ccfc45e1",
       "version_major": 2,
       "version_minor": 0
      },
      "text/plain": [
       "  0%|          | 0/7 [00:00<?, ?it/s]"
      ]
     },
     "metadata": {},
     "output_type": "display_data"
    }
   ],
   "source": [
    "from scipy.stats import ttest_ind\n",
    "from itertools import combinations\n",
    "\n",
    "columns = ['gene', 'layer', 'group1', 'group2', 'score', 'pvalue']\n",
    "results = []\n",
    "\n",
    "\n",
    "for layer in tqdm(layers):\n",
    "    layer_results = []\n",
    "    for group1, group2 in combinations(conditions, 2):\n",
    "        for gene in sig_genes.tolist():\n",
    "            values1 = df.loc[(df['layer'] == layer) & (df['condition'] == group1), gene].values\n",
    "            values2 = df.loc[(df['layer'] == layer) & (df['condition'] == group2), gene].values\n",
    "            ttest_res = ttest_ind(values1, values2)\n",
    "            layer_results.append([gene, layer, group1, group2, ttest_res.statistic, ttest_res.pvalue])\n",
    "    # поправка на множественное сравнение\n",
    "    layer_results = pd.DataFrame(layer_results, columns=columns)\n",
    "    layer_results.dropna(subset='pvalue', inplace=True)\n",
    "    mult_test = multipletests(layer_results['pvalue'], method='fdr_bh')\n",
    "    layer_results['p_val_adj'] = mult_test[1]\n",
    "    results.append(layer_results)"
   ]
  },
  {
   "cell_type": "code",
   "execution_count": 28,
   "id": "e9d2daeb",
   "metadata": {},
   "outputs": [
    {
     "data": {
      "text/html": [
       "<div>\n",
       "<style scoped>\n",
       "    .dataframe tbody tr th:only-of-type {\n",
       "        vertical-align: middle;\n",
       "    }\n",
       "\n",
       "    .dataframe tbody tr th {\n",
       "        vertical-align: top;\n",
       "    }\n",
       "\n",
       "    .dataframe thead th {\n",
       "        text-align: right;\n",
       "    }\n",
       "</style>\n",
       "<table border=\"1\" class=\"dataframe\">\n",
       "  <thead>\n",
       "    <tr style=\"text-align: right;\">\n",
       "      <th></th>\n",
       "      <th>gene</th>\n",
       "      <th>layer</th>\n",
       "      <th>group1</th>\n",
       "      <th>group2</th>\n",
       "      <th>score</th>\n",
       "      <th>pvalue</th>\n",
       "      <th>p_val_adj</th>\n",
       "    </tr>\n",
       "  </thead>\n",
       "  <tbody>\n",
       "    <tr>\n",
       "      <th>0</th>\n",
       "      <td>A1BG</td>\n",
       "      <td>L1</td>\n",
       "      <td>human</td>\n",
       "      <td>chimp</td>\n",
       "      <td>-1.790136</td>\n",
       "      <td>0.123630</td>\n",
       "      <td>0.345077</td>\n",
       "    </tr>\n",
       "    <tr>\n",
       "      <th>1</th>\n",
       "      <td>AACS</td>\n",
       "      <td>L1</td>\n",
       "      <td>human</td>\n",
       "      <td>chimp</td>\n",
       "      <td>0.363287</td>\n",
       "      <td>0.728846</td>\n",
       "      <td>0.861269</td>\n",
       "    </tr>\n",
       "    <tr>\n",
       "      <th>2</th>\n",
       "      <td>AADAT</td>\n",
       "      <td>L1</td>\n",
       "      <td>human</td>\n",
       "      <td>chimp</td>\n",
       "      <td>0.869717</td>\n",
       "      <td>0.417885</td>\n",
       "      <td>0.645979</td>\n",
       "    </tr>\n",
       "    <tr>\n",
       "      <th>3</th>\n",
       "      <td>AAK1</td>\n",
       "      <td>L1</td>\n",
       "      <td>human</td>\n",
       "      <td>chimp</td>\n",
       "      <td>-2.016288</td>\n",
       "      <td>0.090364</td>\n",
       "      <td>0.295232</td>\n",
       "    </tr>\n",
       "    <tr>\n",
       "      <th>4</th>\n",
       "      <td>AARS1</td>\n",
       "      <td>L1</td>\n",
       "      <td>human</td>\n",
       "      <td>chimp</td>\n",
       "      <td>-0.056056</td>\n",
       "      <td>0.957117</td>\n",
       "      <td>0.981898</td>\n",
       "    </tr>\n",
       "    <tr>\n",
       "      <th>...</th>\n",
       "      <td>...</td>\n",
       "      <td>...</td>\n",
       "      <td>...</td>\n",
       "      <td>...</td>\n",
       "      <td>...</td>\n",
       "      <td>...</td>\n",
       "      <td>...</td>\n",
       "    </tr>\n",
       "    <tr>\n",
       "      <th>13156</th>\n",
       "      <td>ZSWIM5</td>\n",
       "      <td>WM</td>\n",
       "      <td>chimp</td>\n",
       "      <td>macaque</td>\n",
       "      <td>2.255914</td>\n",
       "      <td>0.064911</td>\n",
       "      <td>0.208051</td>\n",
       "    </tr>\n",
       "    <tr>\n",
       "      <th>13157</th>\n",
       "      <td>ZSWIM6</td>\n",
       "      <td>WM</td>\n",
       "      <td>chimp</td>\n",
       "      <td>macaque</td>\n",
       "      <td>1.573619</td>\n",
       "      <td>0.166640</td>\n",
       "      <td>0.338888</td>\n",
       "    </tr>\n",
       "    <tr>\n",
       "      <th>13158</th>\n",
       "      <td>ZWILCH</td>\n",
       "      <td>WM</td>\n",
       "      <td>chimp</td>\n",
       "      <td>macaque</td>\n",
       "      <td>2.727262</td>\n",
       "      <td>0.034310</td>\n",
       "      <td>0.155395</td>\n",
       "    </tr>\n",
       "    <tr>\n",
       "      <th>13159</th>\n",
       "      <td>ZYG11B</td>\n",
       "      <td>WM</td>\n",
       "      <td>chimp</td>\n",
       "      <td>macaque</td>\n",
       "      <td>1.650053</td>\n",
       "      <td>0.150025</td>\n",
       "      <td>0.319604</td>\n",
       "    </tr>\n",
       "    <tr>\n",
       "      <th>13160</th>\n",
       "      <td>ZYX</td>\n",
       "      <td>WM</td>\n",
       "      <td>chimp</td>\n",
       "      <td>macaque</td>\n",
       "      <td>0.381429</td>\n",
       "      <td>0.716027</td>\n",
       "      <td>0.830878</td>\n",
       "    </tr>\n",
       "  </tbody>\n",
       "</table>\n",
       "<p>92095 rows × 7 columns</p>\n",
       "</div>"
      ],
      "text/plain": [
       "         gene layer group1   group2     score    pvalue  p_val_adj\n",
       "0        A1BG    L1  human    chimp -1.790136  0.123630   0.345077\n",
       "1        AACS    L1  human    chimp  0.363287  0.728846   0.861269\n",
       "2       AADAT    L1  human    chimp  0.869717  0.417885   0.645979\n",
       "3        AAK1    L1  human    chimp -2.016288  0.090364   0.295232\n",
       "4       AARS1    L1  human    chimp -0.056056  0.957117   0.981898\n",
       "...       ...   ...    ...      ...       ...       ...        ...\n",
       "13156  ZSWIM5    WM  chimp  macaque  2.255914  0.064911   0.208051\n",
       "13157  ZSWIM6    WM  chimp  macaque  1.573619  0.166640   0.338888\n",
       "13158  ZWILCH    WM  chimp  macaque  2.727262  0.034310   0.155395\n",
       "13159  ZYG11B    WM  chimp  macaque  1.650053  0.150025   0.319604\n",
       "13160     ZYX    WM  chimp  macaque  0.381429  0.716027   0.830878\n",
       "\n",
       "[92095 rows x 7 columns]"
      ]
     },
     "execution_count": 28,
     "metadata": {},
     "output_type": "execute_result"
    }
   ],
   "source": [
    "ttest_results = pd.concat(results)\n",
    "ttest_results"
   ]
  },
  {
   "cell_type": "code",
   "execution_count": 29,
   "id": "fc3c687e",
   "metadata": {},
   "outputs": [],
   "source": [
    "ttest_results.to_csv('results/ttest_mamm_mean.csv')"
   ]
  }
 ],
 "metadata": {
  "kernelspec": {
   "display_name": "Python 3 (ipykernel)",
   "language": "python",
   "name": "python3"
  },
  "language_info": {
   "codemirror_mode": {
    "name": "ipython",
    "version": 3
   },
   "file_extension": ".py",
   "mimetype": "text/x-python",
   "name": "python",
   "nbconvert_exporter": "python",
   "pygments_lexer": "ipython3",
   "version": "3.10.11"
  }
 },
 "nbformat": 4,
 "nbformat_minor": 5
}
