{
 "cells": [
  {
   "cell_type": "code",
   "execution_count": 1,
   "id": "67f38c7c",
   "metadata": {},
   "outputs": [],
   "source": [
    "import warnings\n",
    "import scanpy as sc\n",
    "import anndata as an\n",
    "import pandas as pd\n",
    "import numpy as np\n",
    "import matplotlib as mpl\n",
    "import matplotlib.pyplot as plt\n",
    "import seaborn as sns\n",
    "from urllib import request\n",
    "import json\n",
    "import os\n",
    "from tqdm.notebook import tqdm\n",
    "\n",
    "import statsmodels.api as sm\n",
    "from statsmodels.formula.api import ols\n",
    "from tqdm.notebook import tqdm\n",
    "from statsmodels.stats.multitest import multipletests\n",
    "\n",
    "sc.settings.set_figure_params(dpi=80)\n",
    "#sc.set_figure_params(facecolor=\"white\", figsize=(8, 8))\n",
    "warnings.simplefilter(action='ignore', category=FutureWarning)\n",
    "sc.settings.verbosity = 3"
   ]
  },
  {
   "cell_type": "markdown",
   "id": "35fd8fad",
   "metadata": {},
   "source": [
    "## Global variables"
   ]
  },
  {
   "cell_type": "code",
   "execution_count": 2,
   "id": "f6e781a2",
   "metadata": {},
   "outputs": [],
   "source": [
    "dir_path = '../../../data/pseudobulks/'"
   ]
  },
  {
   "cell_type": "code",
   "execution_count": 3,
   "id": "c50a730b",
   "metadata": {},
   "outputs": [
    {
     "data": {
      "text/plain": [
       "['annotation_chimp.csv',\n",
       " 'annotation_human.csv',\n",
       " 'annotation_macaque.csv',\n",
       " 'annotation_spatial_libd_human.csv',\n",
       " 'expression_chimp.csv',\n",
       " 'expression_human.csv',\n",
       " 'expression_macaque.csv',\n",
       " 'expression_mean_chimp.csv',\n",
       " 'expression_mean_human.csv',\n",
       " 'expression_mean_macaque.csv',\n",
       " 'expression_mean_spatial_libd_human.csv',\n",
       " 'expression_spatial_libd_human.csv',\n",
       " 'expression_sum_chimp.csv',\n",
       " 'expression_sum_human.csv',\n",
       " 'expression_sum_macaque.csv',\n",
       " 'expression_sum_spatial_libd_human.csv',\n",
       " 'gene_sample_mean_chimp.csv',\n",
       " 'gene_sample_mean_human.csv',\n",
       " 'gene_sample_mean_macaque.csv',\n",
       " 'gene_sample_mean_spatial_libd_human.csv',\n",
       " 'pb_age.h5ad',\n",
       " 'pb_age_sample_norm.h5ad',\n",
       " 'pb_age_sample_norm_zscore.h5ad',\n",
       " 'pb_mamm.h5ad',\n",
       " 'pb_mamm_filtered.h5ad',\n",
       " 'pb_mamm_sample_norm.h5ad',\n",
       " 'pb_mamm_sample_norm_filtered.h5ad',\n",
       " 'pb_mamm_sample_norm_zscore.h5ad',\n",
       " 'pb_mamm_sample_zscore_filtered.h5ad']"
      ]
     },
     "execution_count": 3,
     "metadata": {},
     "output_type": "execute_result"
    }
   ],
   "source": [
    "os.listdir(dir_path)"
   ]
  },
  {
   "cell_type": "markdown",
   "id": "b05dd527",
   "metadata": {},
   "source": [
    "# ANOVA"
   ]
  },
  {
   "cell_type": "markdown",
   "id": "09278915",
   "metadata": {},
   "source": [
    "Load pseudobulk data"
   ]
  },
  {
   "cell_type": "code",
   "execution_count": 4,
   "id": "663aca25",
   "metadata": {},
   "outputs": [
    {
     "data": {
      "text/plain": [
       "AnnData object with n_obs × n_vars = 94 × 15585\n",
       "    obs: 'layer', 'sample_id', 'condition'"
      ]
     },
     "execution_count": 4,
     "metadata": {},
     "output_type": "execute_result"
    }
   ],
   "source": [
    "file_name = 'pb_mamm.h5ad'\n",
    "adata_pb = sc.read_h5ad(dir_path + file_name)\n",
    "adata_pb"
   ]
  },
  {
   "cell_type": "markdown",
   "id": "4d9e4e49",
   "metadata": {},
   "source": [
    "Remove technical repeats and WM layers"
   ]
  },
  {
   "cell_type": "code",
   "execution_count": 5,
   "id": "6c9f39da",
   "metadata": {},
   "outputs": [],
   "source": [
    "adata_pb = adata_pb[(adata_pb.obs.sample_id != 'chimp_13302') & (adata_pb.obs.layer != 'WM')].copy()"
   ]
  },
  {
   "cell_type": "code",
   "execution_count": 6,
   "id": "0658c06c",
   "metadata": {},
   "outputs": [
    {
     "data": {
      "text/plain": [
       "AnnData object with n_obs × n_vars = 76 × 15585\n",
       "    obs: 'layer', 'sample_id', 'condition'"
      ]
     },
     "execution_count": 6,
     "metadata": {},
     "output_type": "execute_result"
    }
   ],
   "source": [
    "adata_pb"
   ]
  },
  {
   "cell_type": "markdown",
   "id": "85f2d38b",
   "metadata": {},
   "source": [
    "Calculate library size"
   ]
  },
  {
   "cell_type": "code",
   "execution_count": 7,
   "id": "1994056b",
   "metadata": {},
   "outputs": [],
   "source": [
    "adata_pb.obs[\"lib_size\"] = adata_pb.X.sum(axis=1)\n",
    "adata_pb.obs[\"log_lib_size\"] = np.log(adata_pb.obs[\"lib_size\"])"
   ]
  },
  {
   "cell_type": "markdown",
   "id": "0768f8af",
   "metadata": {},
   "source": [
    "## Gene filltering"
   ]
  },
  {
   "cell_type": "markdown",
   "id": "6a66385e",
   "metadata": {},
   "source": [
    "Fillter low expressed genes"
   ]
  },
  {
   "cell_type": "code",
   "execution_count": 8,
   "id": "464432d8",
   "metadata": {},
   "outputs": [
    {
     "data": {
      "text/plain": [
       "View of AnnData object with n_obs × n_vars = 76 × 9435\n",
       "    obs: 'layer', 'sample_id', 'condition', 'lib_size', 'log_lib_size'"
      ]
     },
     "execution_count": 8,
     "metadata": {},
     "output_type": "execute_result"
    }
   ],
   "source": [
    "adata_pb = adata_pb[:, adata_pb.X.mean(axis=0) > 0.05]\n",
    "adata_pb"
   ]
  },
  {
   "cell_type": "code",
   "execution_count": 9,
   "id": "cc6d3a04",
   "metadata": {},
   "outputs": [],
   "source": [
    "adata_pb.write_h5ad('../../../data/pseudobulks/pb_mamm_laminar_filtered.h5ad')"
   ]
  },
  {
   "cell_type": "markdown",
   "id": "1cf9d95c",
   "metadata": {},
   "source": [
    "## Sample normalization"
   ]
  },
  {
   "cell_type": "code",
   "execution_count": 10,
   "id": "0fcab9da",
   "metadata": {},
   "outputs": [],
   "source": [
    "def z_score(adata):\n",
    "    pb_df = pd.DataFrame(adata.X, columns=adata.var_names, index=adata.obs_names)\n",
    "    pb_df['sample_id'] = adata.obs['sample_id']\n",
    "    pb_df.head()\n",
    "    # calculate statistics\n",
    "    sample_mean = pb_df.groupby('sample_id').mean()\n",
    "    sample_std = pb_df.groupby('sample_id').std()\n",
    "    # calculate z-score\n",
    "    columns = pb_df.columns.tolist()[:-1]\n",
    "    for sample in tqdm(sample_mean.index.tolist()):\n",
    "        pb_df.loc[pb_df.sample_id == sample, columns] = ((pb_df.loc[pb_df.sample_id == sample, columns] - sample_mean.loc[sample])\n",
    "                                                         / sample_std.loc[sample]).fillna(0)\n",
    "    # write adata\n",
    "    adata.X = pb_df[columns].values\n",
    "    return adata"
   ]
  },
  {
   "cell_type": "markdown",
   "id": "db0cf173",
   "metadata": {},
   "source": [
    "Library normalization"
   ]
  },
  {
   "cell_type": "code",
   "execution_count": 11,
   "id": "43eeed5d",
   "metadata": {},
   "outputs": [
    {
     "name": "stdout",
     "output_type": "stream",
     "text": [
      "normalizing counts per cell\n",
      "    finished (0:00:00)\n"
     ]
    },
    {
     "name": "stderr",
     "output_type": "stream",
     "text": [
      "D:\\Projects\\diploma\\venv_stats2\\lib\\site-packages\\scanpy\\preprocessing\\_normalization.py:170: UserWarning: Received a view of an AnnData. Making a copy.\n",
      "  view_to_actual(adata)\n"
     ]
    }
   ],
   "source": [
    "sc.pp.normalize_total(adata_pb, target_sum=1e4)\n",
    "sc.pp.log1p(adata_pb)"
   ]
  },
  {
   "cell_type": "markdown",
   "id": "d625728c",
   "metadata": {},
   "source": [
    "Sample normalization"
   ]
  },
  {
   "cell_type": "code",
   "execution_count": 12,
   "id": "09f62928",
   "metadata": {},
   "outputs": [
    {
     "data": {
      "application/vnd.jupyter.widget-view+json": {
       "model_id": "3f97596e6a3c4dd6b988197a54ac7bfa",
       "version_major": 2,
       "version_minor": 0
      },
      "text/plain": [
       "  0%|          | 0/13 [00:00<?, ?it/s]"
      ]
     },
     "metadata": {},
     "output_type": "display_data"
    }
   ],
   "source": [
    "adata_norm = z_score(adata_pb)"
   ]
  },
  {
   "cell_type": "code",
   "execution_count": 13,
   "id": "5cac9576",
   "metadata": {},
   "outputs": [
    {
     "name": "stdout",
     "output_type": "stream",
     "text": [
      "computing PCA\n",
      "    with n_comps=50\n",
      "    finished (0:00:00)\n"
     ]
    }
   ],
   "source": [
    "sc.pp.pca(adata_norm)"
   ]
  },
  {
   "cell_type": "code",
   "execution_count": 14,
   "id": "74081e1e",
   "metadata": {},
   "outputs": [],
   "source": [
    "# save results\n",
    "adata_norm.write_h5ad('../../../data/pseudobulks/pb_mamm_laminar_sample_zscore_filtered.h5ad')"
   ]
  },
  {
   "cell_type": "code",
   "execution_count": 15,
   "id": "98040f3a",
   "metadata": {},
   "outputs": [
    {
     "name": "stderr",
     "output_type": "stream",
     "text": [
      "D:\\Projects\\diploma\\venv_stats2\\lib\\site-packages\\scanpy\\plotting\\_tools\\scatterplots.py:392: UserWarning: No data for colormapping provided via 'c'. Parameters 'cmap' will be ignored\n",
      "  cax = scatter(\n",
      "D:\\Projects\\diploma\\venv_stats2\\lib\\site-packages\\scanpy\\plotting\\_tools\\scatterplots.py:392: UserWarning: No data for colormapping provided via 'c'. Parameters 'cmap' will be ignored\n",
      "  cax = scatter(\n"
     ]
    },
    {
     "data": {
      "image/png": "[encoded data removed]",
      "text/plain": [
       "<Figure size 1248x320 with 4 Axes>"
      ]
     },
     "metadata": {
      "image/png": {
       "height": 299,
       "width": 1044
      }
     },
     "output_type": "display_data"
    }
   ],
   "source": [
    "sc.pl.pca(adata_norm, color=['layer', 'condition', 'log_lib_size'], size=200, ncols=3, wspace=0.3)"
   ]
  },
  {
   "cell_type": "markdown",
   "id": "333eabce",
   "metadata": {},
   "source": [
    "## ANOVA"
   ]
  },
  {
   "cell_type": "code",
   "execution_count": 16,
   "id": "33cc81b3",
   "metadata": {},
   "outputs": [
    {
     "data": {
      "text/plain": [
       "AnnData object with n_obs × n_vars = 76 × 9435\n",
       "    obs: 'layer', 'sample_id', 'condition', 'lib_size', 'log_lib_size'\n",
       "    uns: 'log1p', 'pca'\n",
       "    obsm: 'X_pca'\n",
       "    varm: 'PCs'"
      ]
     },
     "execution_count": 16,
     "metadata": {},
     "output_type": "execute_result"
    }
   ],
   "source": [
    "file_name = 'pb_mamm_laminar_sample_zscore_filtered.h5ad'\n",
    "adata = sc.read_h5ad(dir_path + file_name)\n",
    "adata"
   ]
  },
  {
   "cell_type": "code",
   "execution_count": 17,
   "id": "92afdd52",
   "metadata": {},
   "outputs": [
    {
     "data": {
      "text/html": [
       "<div>\n",
       "<style scoped>\n",
       "    .dataframe tbody tr th:only-of-type {\n",
       "        vertical-align: middle;\n",
       "    }\n",
       "\n",
       "    .dataframe tbody tr th {\n",
       "        vertical-align: top;\n",
       "    }\n",
       "\n",
       "    .dataframe thead th {\n",
       "        text-align: right;\n",
       "    }\n",
       "</style>\n",
       "<table border=\"1\" class=\"dataframe\">\n",
       "  <thead>\n",
       "    <tr style=\"text-align: right;\">\n",
       "      <th></th>\n",
       "      <th>NOC2L</th>\n",
       "      <th>KLHL17</th>\n",
       "      <th>HES4</th>\n",
       "      <th>AGRN</th>\n",
       "      <th>SDF4</th>\n",
       "      <th>B3GALT6</th>\n",
       "      <th>UBE2J2</th>\n",
       "      <th>SCNN1D</th>\n",
       "      <th>ACAP3</th>\n",
       "      <th>PUSL1</th>\n",
       "      <th>...</th>\n",
       "      <th>SPATC1L</th>\n",
       "      <th>LSS</th>\n",
       "      <th>MCM3AP</th>\n",
       "      <th>YBEY</th>\n",
       "      <th>PCNT</th>\n",
       "      <th>DIP2A</th>\n",
       "      <th>S100B</th>\n",
       "      <th>PRMT2</th>\n",
       "      <th>condition</th>\n",
       "      <th>layer</th>\n",
       "    </tr>\n",
       "  </thead>\n",
       "  <tbody>\n",
       "    <tr>\n",
       "      <th>L5.human_759</th>\n",
       "      <td>0.767870</td>\n",
       "      <td>1.279255</td>\n",
       "      <td>-1.101649</td>\n",
       "      <td>0.941529</td>\n",
       "      <td>-0.910852</td>\n",
       "      <td>1.900370</td>\n",
       "      <td>1.184966</td>\n",
       "      <td>-1.407523</td>\n",
       "      <td>0.493433</td>\n",
       "      <td>1.062110</td>\n",
       "      <td>...</td>\n",
       "      <td>1.042475</td>\n",
       "      <td>-0.140429</td>\n",
       "      <td>0.216547</td>\n",
       "      <td>1.421607</td>\n",
       "      <td>0.554831</td>\n",
       "      <td>0.680244</td>\n",
       "      <td>-0.497133</td>\n",
       "      <td>-0.346517</td>\n",
       "      <td>human</td>\n",
       "      <td>L5</td>\n",
       "    </tr>\n",
       "    <tr>\n",
       "      <th>L2.human_759</th>\n",
       "      <td>-0.028992</td>\n",
       "      <td>-1.612652</td>\n",
       "      <td>1.216243</td>\n",
       "      <td>-1.298306</td>\n",
       "      <td>0.850277</td>\n",
       "      <td>-0.268092</td>\n",
       "      <td>-0.947844</td>\n",
       "      <td>1.366723</td>\n",
       "      <td>-0.032614</td>\n",
       "      <td>-0.357564</td>\n",
       "      <td>...</td>\n",
       "      <td>0.516995</td>\n",
       "      <td>-1.111851</td>\n",
       "      <td>-1.343580</td>\n",
       "      <td>0.181097</td>\n",
       "      <td>-0.468474</td>\n",
       "      <td>-0.975243</td>\n",
       "      <td>-0.304843</td>\n",
       "      <td>0.759532</td>\n",
       "      <td>human</td>\n",
       "      <td>L2</td>\n",
       "    </tr>\n",
       "    <tr>\n",
       "      <th>L3.human_759</th>\n",
       "      <td>0.197133</td>\n",
       "      <td>-0.310825</td>\n",
       "      <td>0.059265</td>\n",
       "      <td>0.622130</td>\n",
       "      <td>-0.674575</td>\n",
       "      <td>-0.614929</td>\n",
       "      <td>0.207339</td>\n",
       "      <td>-0.715946</td>\n",
       "      <td>-1.044522</td>\n",
       "      <td>0.129490</td>\n",
       "      <td>...</td>\n",
       "      <td>-1.141345</td>\n",
       "      <td>-0.071219</td>\n",
       "      <td>1.594507</td>\n",
       "      <td>-0.972681</td>\n",
       "      <td>-0.246727</td>\n",
       "      <td>-1.079287</td>\n",
       "      <td>-0.482943</td>\n",
       "      <td>-0.711799</td>\n",
       "      <td>human</td>\n",
       "      <td>L3</td>\n",
       "    </tr>\n",
       "    <tr>\n",
       "      <th>L1.human_759</th>\n",
       "      <td>-1.890431</td>\n",
       "      <td>-0.357519</td>\n",
       "      <td>1.177696</td>\n",
       "      <td>-0.868319</td>\n",
       "      <td>0.989991</td>\n",
       "      <td>-0.424973</td>\n",
       "      <td>-1.273895</td>\n",
       "      <td>-0.221358</td>\n",
       "      <td>-0.404024</td>\n",
       "      <td>-1.795936</td>\n",
       "      <td>...</td>\n",
       "      <td>-0.926332</td>\n",
       "      <td>1.725510</td>\n",
       "      <td>-0.743337</td>\n",
       "      <td>0.492949</td>\n",
       "      <td>1.748707</td>\n",
       "      <td>0.999744</td>\n",
       "      <td>2.035575</td>\n",
       "      <td>1.183187</td>\n",
       "      <td>human</td>\n",
       "      <td>L1</td>\n",
       "    </tr>\n",
       "    <tr>\n",
       "      <th>L6.human_759</th>\n",
       "      <td>0.890422</td>\n",
       "      <td>0.365434</td>\n",
       "      <td>-0.635215</td>\n",
       "      <td>1.044826</td>\n",
       "      <td>-1.122353</td>\n",
       "      <td>0.243501</td>\n",
       "      <td>-0.171655</td>\n",
       "      <td>0.724665</td>\n",
       "      <td>-0.733619</td>\n",
       "      <td>0.340789</td>\n",
       "      <td>...</td>\n",
       "      <td>1.077530</td>\n",
       "      <td>0.382436</td>\n",
       "      <td>0.051769</td>\n",
       "      <td>-1.312018</td>\n",
       "      <td>-0.579182</td>\n",
       "      <td>1.009366</td>\n",
       "      <td>-0.401652</td>\n",
       "      <td>0.559139</td>\n",
       "      <td>human</td>\n",
       "      <td>L6</td>\n",
       "    </tr>\n",
       "  </tbody>\n",
       "</table>\n",
       "<p>5 rows × 9437 columns</p>\n",
       "</div>"
      ],
      "text/plain": [
       "                 NOC2L    KLHL17      HES4      AGRN      SDF4   B3GALT6  \\\n",
       "L5.human_759  0.767870  1.279255 -1.101649  0.941529 -0.910852  1.900370   \n",
       "L2.human_759 -0.028992 -1.612652  1.216243 -1.298306  0.850277 -0.268092   \n",
       "L3.human_759  0.197133 -0.310825  0.059265  0.622130 -0.674575 -0.614929   \n",
       "L1.human_759 -1.890431 -0.357519  1.177696 -0.868319  0.989991 -0.424973   \n",
       "L6.human_759  0.890422  0.365434 -0.635215  1.044826 -1.122353  0.243501   \n",
       "\n",
       "                UBE2J2    SCNN1D     ACAP3     PUSL1  ...   SPATC1L       LSS  \\\n",
       "L5.human_759  1.184966 -1.407523  0.493433  1.062110  ...  1.042475 -0.140429   \n",
       "L2.human_759 -0.947844  1.366723 -0.032614 -0.357564  ...  0.516995 -1.111851   \n",
       "L3.human_759  0.207339 -0.715946 -1.044522  0.129490  ... -1.141345 -0.071219   \n",
       "L1.human_759 -1.273895 -0.221358 -0.404024 -1.795936  ... -0.926332  1.725510   \n",
       "L6.human_759 -0.171655  0.724665 -0.733619  0.340789  ...  1.077530  0.382436   \n",
       "\n",
       "                MCM3AP      YBEY      PCNT     DIP2A     S100B     PRMT2  \\\n",
       "L5.human_759  0.216547  1.421607  0.554831  0.680244 -0.497133 -0.346517   \n",
       "L2.human_759 -1.343580  0.181097 -0.468474 -0.975243 -0.304843  0.759532   \n",
       "L3.human_759  1.594507 -0.972681 -0.246727 -1.079287 -0.482943 -0.711799   \n",
       "L1.human_759 -0.743337  0.492949  1.748707  0.999744  2.035575  1.183187   \n",
       "L6.human_759  0.051769 -1.312018 -0.579182  1.009366 -0.401652  0.559139   \n",
       "\n",
       "              condition  layer  \n",
       "L5.human_759      human     L5  \n",
       "L2.human_759      human     L2  \n",
       "L3.human_759      human     L3  \n",
       "L1.human_759      human     L1  \n",
       "L6.human_759      human     L6  \n",
       "\n",
       "[5 rows x 9437 columns]"
      ]
     },
     "execution_count": 17,
     "metadata": {},
     "output_type": "execute_result"
    }
   ],
   "source": [
    "# Make df for ANOVA\n",
    "df = pd.DataFrame(adata.X, index=adata.obs_names, columns=adata.var_names)\n",
    "df['condition'] = adata.obs.condition\n",
    "df['layer'] = adata.obs.layer\n",
    "df.head()"
   ]
  },
  {
   "cell_type": "markdown",
   "id": "fe8cb70b",
   "metadata": {},
   "source": [
    "Replace gene names to `gene{i}` as `statsmodels` may fail"
   ]
  },
  {
   "cell_type": "code",
   "execution_count": 18,
   "id": "498b7319",
   "metadata": {},
   "outputs": [],
   "source": [
    "df_var_num = df.copy()\n",
    "df_var_num.columns = [f'gene{i}' for i in range(1, df_var_num.shape[1] - 1)] + ['condition', 'layer']"
   ]
  },
  {
   "cell_type": "code",
   "execution_count": 19,
   "id": "37741df9",
   "metadata": {
    "scrolled": true
   },
   "outputs": [
    {
     "data": {
      "application/vnd.jupyter.widget-view+json": {
       "model_id": "1c815b35dcab4080b5feec0097643c0a",
       "version_major": 2,
       "version_minor": 0
      },
      "text/plain": [
       "  0%|          | 0/9435 [00:00<?, ?it/s]"
      ]
     },
     "metadata": {},
     "output_type": "display_data"
    },
    {
     "data": {
      "text/html": [
       "<div>\n",
       "<style scoped>\n",
       "    .dataframe tbody tr th:only-of-type {\n",
       "        vertical-align: middle;\n",
       "    }\n",
       "\n",
       "    .dataframe tbody tr th {\n",
       "        vertical-align: top;\n",
       "    }\n",
       "\n",
       "    .dataframe thead th {\n",
       "        text-align: right;\n",
       "    }\n",
       "</style>\n",
       "<table border=\"1\" class=\"dataframe\">\n",
       "  <thead>\n",
       "    <tr style=\"text-align: right;\">\n",
       "      <th></th>\n",
       "      <th>sum_sq</th>\n",
       "      <th>df</th>\n",
       "      <th>F</th>\n",
       "      <th>PR(&gt;F)</th>\n",
       "    </tr>\n",
       "  </thead>\n",
       "  <tbody>\n",
       "    <tr>\n",
       "      <th>NOC2L</th>\n",
       "      <td>5.221104</td>\n",
       "      <td>10.0</td>\n",
       "      <td>0.842126</td>\n",
       "      <td>0.590729</td>\n",
       "    </tr>\n",
       "    <tr>\n",
       "      <th>KLHL17</th>\n",
       "      <td>7.392538</td>\n",
       "      <td>10.0</td>\n",
       "      <td>1.756889</td>\n",
       "      <td>0.089652</td>\n",
       "    </tr>\n",
       "    <tr>\n",
       "      <th>HES4</th>\n",
       "      <td>10.147366</td>\n",
       "      <td>10.0</td>\n",
       "      <td>1.476590</td>\n",
       "      <td>0.171623</td>\n",
       "    </tr>\n",
       "    <tr>\n",
       "      <th>AGRN</th>\n",
       "      <td>11.209840</td>\n",
       "      <td>10.0</td>\n",
       "      <td>2.786144</td>\n",
       "      <td>0.006975</td>\n",
       "    </tr>\n",
       "    <tr>\n",
       "      <th>SDF4</th>\n",
       "      <td>12.915461</td>\n",
       "      <td>10.0</td>\n",
       "      <td>1.824119</td>\n",
       "      <td>0.076337</td>\n",
       "    </tr>\n",
       "  </tbody>\n",
       "</table>\n",
       "</div>"
      ],
      "text/plain": [
       "           sum_sq    df         F    PR(>F)\n",
       "NOC2L    5.221104  10.0  0.842126  0.590729\n",
       "KLHL17   7.392538  10.0  1.756889  0.089652\n",
       "HES4    10.147366  10.0  1.476590  0.171623\n",
       "AGRN    11.209840  10.0  2.786144  0.006975\n",
       "SDF4    12.915461  10.0  1.824119  0.076337"
      ]
     },
     "execution_count": 19,
     "metadata": {},
     "output_type": "execute_result"
    }
   ],
   "source": [
    "# ANOVA for each gene\n",
    "results = []\n",
    "\n",
    "for gene in tqdm(df_var_num.columns.tolist()[:-2]):\n",
    "    formula = f'{gene} ~ condition + layer + condition:layer'\n",
    "    model = ols(formula, data=df_var_num).fit()\n",
    "    aov_table = sm.stats.anova_lm(model, typ=2)\n",
    "    results.append(aov_table.loc['condition:layer'].tolist())\n",
    "\n",
    "# save results to df\n",
    "columns = ['sum_sq', 'df', 'F', 'PR(>F)']\n",
    "res = pd.DataFrame(results, columns=columns, index=adata.var_names)\n",
    "res.head()"
   ]
  },
  {
   "cell_type": "markdown",
   "id": "e08a7a10",
   "metadata": {},
   "source": [
    "## Multiple comparison correction"
   ]
  },
  {
   "cell_type": "code",
   "execution_count": 20,
   "id": "9e7daeeb",
   "metadata": {},
   "outputs": [],
   "source": [
    "# Multiple comparison correction\n",
    "mult_test = multipletests(res['PR(>F)'], method='fdr_bh')\n",
    "res['p_val_adj'] = mult_test[1]\n",
    "res.to_csv(f'../../../results/DE/mammals/ANOVA_zscore_laminar/anova_zscore_mamm.csv')"
   ]
  },
  {
   "cell_type": "code",
   "execution_count": 21,
   "id": "1dcc99d4",
   "metadata": {},
   "outputs": [
    {
     "data": {
      "text/html": [
       "<div>\n",
       "<style scoped>\n",
       "    .dataframe tbody tr th:only-of-type {\n",
       "        vertical-align: middle;\n",
       "    }\n",
       "\n",
       "    .dataframe tbody tr th {\n",
       "        vertical-align: top;\n",
       "    }\n",
       "\n",
       "    .dataframe thead th {\n",
       "        text-align: right;\n",
       "    }\n",
       "</style>\n",
       "<table border=\"1\" class=\"dataframe\">\n",
       "  <thead>\n",
       "    <tr style=\"text-align: right;\">\n",
       "      <th></th>\n",
       "      <th>sum_sq</th>\n",
       "      <th>df</th>\n",
       "      <th>F</th>\n",
       "      <th>PR(&gt;F)</th>\n",
       "      <th>p_val_adj</th>\n",
       "    </tr>\n",
       "  </thead>\n",
       "  <tbody>\n",
       "    <tr>\n",
       "      <th>NOC2L</th>\n",
       "      <td>5.221104</td>\n",
       "      <td>10.0</td>\n",
       "      <td>0.842126</td>\n",
       "      <td>0.590729</td>\n",
       "      <td>0.673788</td>\n",
       "    </tr>\n",
       "    <tr>\n",
       "      <th>KLHL17</th>\n",
       "      <td>7.392538</td>\n",
       "      <td>10.0</td>\n",
       "      <td>1.756889</td>\n",
       "      <td>0.089652</td>\n",
       "      <td>0.181595</td>\n",
       "    </tr>\n",
       "    <tr>\n",
       "      <th>HES4</th>\n",
       "      <td>10.147366</td>\n",
       "      <td>10.0</td>\n",
       "      <td>1.476590</td>\n",
       "      <td>0.171623</td>\n",
       "      <td>0.282792</td>\n",
       "    </tr>\n",
       "    <tr>\n",
       "      <th>AGRN</th>\n",
       "      <td>11.209840</td>\n",
       "      <td>10.0</td>\n",
       "      <td>2.786144</td>\n",
       "      <td>0.006975</td>\n",
       "      <td>0.029890</td>\n",
       "    </tr>\n",
       "    <tr>\n",
       "      <th>SDF4</th>\n",
       "      <td>12.915461</td>\n",
       "      <td>10.0</td>\n",
       "      <td>1.824119</td>\n",
       "      <td>0.076337</td>\n",
       "      <td>0.162215</td>\n",
       "    </tr>\n",
       "  </tbody>\n",
       "</table>\n",
       "</div>"
      ],
      "text/plain": [
       "           sum_sq    df         F    PR(>F)  p_val_adj\n",
       "NOC2L    5.221104  10.0  0.842126  0.590729   0.673788\n",
       "KLHL17   7.392538  10.0  1.756889  0.089652   0.181595\n",
       "HES4    10.147366  10.0  1.476590  0.171623   0.282792\n",
       "AGRN    11.209840  10.0  2.786144  0.006975   0.029890\n",
       "SDF4    12.915461  10.0  1.824119  0.076337   0.162215"
      ]
     },
     "execution_count": 21,
     "metadata": {},
     "output_type": "execute_result"
    }
   ],
   "source": [
    "res.head()"
   ]
  },
  {
   "cell_type": "code",
   "execution_count": 22,
   "id": "a0788d71",
   "metadata": {},
   "outputs": [
    {
     "data": {
      "text/plain": [
       "<Axes: >"
      ]
     },
     "execution_count": 22,
     "metadata": {},
     "output_type": "execute_result"
    },
    {
     "data": {
      "image/png": "[encoded data removed]",
      "text/plain": [
       "<Figure size 320x320 with 1 Axes>"
      ]
     },
     "metadata": {
      "image/png": {
       "height": 281,
       "width": 311
      }
     },
     "output_type": "display_data"
    }
   ],
   "source": [
    "res['PR(>F)'].hist(bins=20)"
   ]
  },
  {
   "cell_type": "markdown",
   "id": "a9cab8d4",
   "metadata": {},
   "source": [
    "## t-test"
   ]
  },
  {
   "cell_type": "code",
   "execution_count": 23,
   "id": "c16123a4",
   "metadata": {},
   "outputs": [
    {
     "data": {
      "text/html": [
       "<div>\n",
       "<style scoped>\n",
       "    .dataframe tbody tr th:only-of-type {\n",
       "        vertical-align: middle;\n",
       "    }\n",
       "\n",
       "    .dataframe tbody tr th {\n",
       "        vertical-align: top;\n",
       "    }\n",
       "\n",
       "    .dataframe thead th {\n",
       "        text-align: right;\n",
       "    }\n",
       "</style>\n",
       "<table border=\"1\" class=\"dataframe\">\n",
       "  <thead>\n",
       "    <tr style=\"text-align: right;\">\n",
       "      <th></th>\n",
       "      <th>sum_sq</th>\n",
       "      <th>df</th>\n",
       "      <th>F</th>\n",
       "      <th>PR(&gt;F)</th>\n",
       "      <th>p_val_adj</th>\n",
       "    </tr>\n",
       "  </thead>\n",
       "  <tbody>\n",
       "    <tr>\n",
       "      <th>NOC2L</th>\n",
       "      <td>5.221104</td>\n",
       "      <td>10.0</td>\n",
       "      <td>0.842126</td>\n",
       "      <td>0.590729</td>\n",
       "      <td>0.673788</td>\n",
       "    </tr>\n",
       "    <tr>\n",
       "      <th>KLHL17</th>\n",
       "      <td>7.392538</td>\n",
       "      <td>10.0</td>\n",
       "      <td>1.756889</td>\n",
       "      <td>0.089652</td>\n",
       "      <td>0.181595</td>\n",
       "    </tr>\n",
       "    <tr>\n",
       "      <th>HES4</th>\n",
       "      <td>10.147366</td>\n",
       "      <td>10.0</td>\n",
       "      <td>1.476590</td>\n",
       "      <td>0.171623</td>\n",
       "      <td>0.282792</td>\n",
       "    </tr>\n",
       "    <tr>\n",
       "      <th>AGRN</th>\n",
       "      <td>11.209840</td>\n",
       "      <td>10.0</td>\n",
       "      <td>2.786144</td>\n",
       "      <td>0.006975</td>\n",
       "      <td>0.029890</td>\n",
       "    </tr>\n",
       "    <tr>\n",
       "      <th>SDF4</th>\n",
       "      <td>12.915461</td>\n",
       "      <td>10.0</td>\n",
       "      <td>1.824119</td>\n",
       "      <td>0.076337</td>\n",
       "      <td>0.162215</td>\n",
       "    </tr>\n",
       "  </tbody>\n",
       "</table>\n",
       "</div>"
      ],
      "text/plain": [
       "           sum_sq    df         F    PR(>F)  p_val_adj\n",
       "NOC2L    5.221104  10.0  0.842126  0.590729   0.673788\n",
       "KLHL17   7.392538  10.0  1.756889  0.089652   0.181595\n",
       "HES4    10.147366  10.0  1.476590  0.171623   0.282792\n",
       "AGRN    11.209840  10.0  2.786144  0.006975   0.029890\n",
       "SDF4    12.915461  10.0  1.824119  0.076337   0.162215"
      ]
     },
     "execution_count": 23,
     "metadata": {},
     "output_type": "execute_result"
    }
   ],
   "source": [
    "anova_res = pd.read_csv(f'../../../results/DE/mammals/ANOVA_zscore_laminar/anova_zscore_mamm.csv', index_col=0)\n",
    "anova_res.head()"
   ]
  },
  {
   "cell_type": "markdown",
   "id": "d403134e",
   "metadata": {},
   "source": [
    "Leave only significant genes"
   ]
  },
  {
   "cell_type": "code",
   "execution_count": 27,
   "id": "0c192021",
   "metadata": {
    "scrolled": false
   },
   "outputs": [
    {
     "data": {
      "text/plain": [
       "Index(['AGRN', 'UBE2J2', 'ANKRD65', 'TMEM240', 'NADK', 'GNB1', 'GABRD',\n",
       "       'PRXL2B', 'TP73', 'CHD5',\n",
       "       ...\n",
       "       'PDE9A', 'NDUFV3', 'AGPAT3', 'PFKL', 'COL18A1', 'SLC19A1', 'COL6A2',\n",
       "       'LSS', 'DIP2A', 'PRMT2'],\n",
       "      dtype='object', length=2740)"
      ]
     },
     "execution_count": 27,
     "metadata": {},
     "output_type": "execute_result"
    }
   ],
   "source": [
    "sig_genes = anova_res[anova_res.p_val_adj < 0.05].index\n",
    "sig_genes"
   ]
  },
  {
   "cell_type": "code",
   "execution_count": 28,
   "id": "a89538c0",
   "metadata": {},
   "outputs": [],
   "source": [
    "from itertools import combinations\n",
    "layers = ['L1', 'L2', 'L3', 'L4', 'L5', 'L6']\n",
    "conditions = ['human', 'chimp', 'macaque']"
   ]
  },
  {
   "cell_type": "code",
   "execution_count": 29,
   "id": "0f513cfb",
   "metadata": {},
   "outputs": [],
   "source": [
    "from scipy.stats import ttest_ind\n",
    "from itertools import combinations\n",
    "\n",
    "columns = ['gene', 'layer', 'group1', 'group2', 'score', 'pvalue']\n",
    "results = []\n",
    "\n",
    "\n",
    "for layer in tqdm(layers):\n",
    "    layer_results = []\n",
    "    for group1, group2 in combinations(conditions, 2):\n",
    "        for gene in sig_genes.tolist():\n",
    "            values1 = df.loc[(df['layer'] == layer) & (df['condition'] == group1), gene].values\n",
    "            values2 = df.loc[(df['layer'] == layer) & (df['condition'] == group2), gene].values\n",
    "            ttest_res = ttest_ind(values1, values2)\n",
    "            layer_results.append([gene, layer, group1, group2, ttest_res.statistic, ttest_res.pvalue])\n",
    "    # Multiple comparison correction\n",
    "    layer_results = pd.DataFrame(layer_results, columns=columns)\n",
    "    layer_results.dropna(subset='pvalue', inplace=True)\n",
    "    mult_test = multipletests(layer_results['pvalue'], method='fdr_bh')\n",
    "    layer_results['p_val_adj'] = mult_test[1]\n",
    "    results.append(layer_results)"
   ]
  },
  {
   "cell_type": "code",
   "execution_count": 30,
   "id": "e9d2daeb",
   "metadata": {
    "scrolled": false
   },
   "outputs": [],
   "source": [
    "ttest_results = pd.concat(results)\n",
    "ttest_results"
   ]
  },
  {
   "cell_type": "code",
   "execution_count": 31,
   "id": "fc3c687e",
   "metadata": {},
   "outputs": [],
   "source": [
    "ttest_results.to_csv('../../../results/DE/mammals/ANOVA_zscore_laminar/ttest_zscore_mamm.csv')"
   ]
  },
  {
   "cell_type": "markdown",
   "id": "f1d4ae10",
   "metadata": {},
   "source": [
    "## t-test human vs monkeys (as one group)"
   ]
  },
  {
   "cell_type": "code",
   "execution_count": null,
   "id": "ea83d3a3",
   "metadata": {},
   "outputs": [],
   "source": [
    "columns = ['gene', 'layer', 'group1', 'group2', 'score', 'pvalue']\n",
    "results = []\n",
    "\n",
    "\n",
    "for layer in tqdm(layers):\n",
    "    layer_results = []\n",
    "    for gene in sig_genes.tolist():\n",
    "        values1 = df.loc[(df['layer'] == layer) & (df['condition'] == 'human'), gene].values\n",
    "        values2 = df.loc[(df['layer'] == layer) & ((df['condition'] == 'chimp') | (df['condition'] == 'macaque')), gene].values\n",
    "        ttest_res = ttest_ind(values1, values2)\n",
    "        layer_results.append([gene, layer, group1, group2, ttest_res.statistic, ttest_res.pvalue])\n",
    "    # поправка на множественное сравнение\n",
    "    layer_results = pd.DataFrame(layer_results, columns=columns)\n",
    "    layer_results.dropna(subset='pvalue', inplace=True)\n",
    "    mult_test = multipletests(layer_results['pvalue'], method='fdr_bh')\n",
    "    layer_results['p_val_adj'] = mult_test[1]\n",
    "    results.append(layer_results)"
   ]
  },
  {
   "cell_type": "code",
   "execution_count": null,
   "id": "ce3e808e",
   "metadata": {},
   "outputs": [],
   "source": [
    "ttest_results = pd.concat(results)\n",
    "ttest_results"
   ]
  },
  {
   "cell_type": "code",
   "execution_count": null,
   "id": "8f10ae4b",
   "metadata": {},
   "outputs": [],
   "source": [
    "ttest_results.to_csv('../../../results/DE/mammals/ANOVA_zscore_laminar/ttest_zscore_human_monkeys.csv')"
   ]
  }
 ],
 "metadata": {
  "kernelspec": {
   "display_name": "Python 3 (ipykernel)",
   "language": "python",
   "name": "python3"
  },
  "language_info": {
   "codemirror_mode": {
    "name": "ipython",
    "version": 3
   },
   "file_extension": ".py",
   "mimetype": "text/x-python",
   "name": "python",
   "nbconvert_exporter": "python",
   "pygments_lexer": "ipython3",
   "version": "3.10.11"
  }
 },
 "nbformat": 4,
 "nbformat_minor": 5
}
