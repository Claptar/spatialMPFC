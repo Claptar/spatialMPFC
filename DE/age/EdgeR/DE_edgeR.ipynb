{
 "cells": [
  {
   "cell_type": "code",
   "execution_count": 1,
   "id": "f806fa86",
   "metadata": {},
   "outputs": [
    {
     "name": "stderr",
     "output_type": "stream",
     "text": [
      "Loading required package: limma\n",
      "\n",
      "Warning message:\n",
      "\"package 'ggplot2' was built under R version 4.2.3\"\n",
      "Warning message:\n",
      "\"package 'tidyr' was built under R version 4.2.3\"\n"
     ]
    }
   ],
   "source": [
    "library(edgeR)\n",
    "library(ggplot2)\n",
    "library(tidyr)"
   ]
  },
  {
   "cell_type": "markdown",
   "id": "41c58bd6",
   "metadata": {},
   "source": [
    "## Load data"
   ]
  },
  {
   "cell_type": "code",
   "execution_count": 2,
   "id": "a6697127",
   "metadata": {},
   "outputs": [
    {
     "data": {
      "text/html": [
       "<style>\n",
       ".list-inline {list-style: none; margin:0; padding: 0}\n",
       ".list-inline>li {display: inline-block}\n",
       ".list-inline>li:not(:last-child)::after {content: \"\\00b7\"; padding: 0 .5ex}\n",
       "</style>\n",
       "<ol class=list-inline><li>'annotation_chimp.csv'</li><li>'annotation_human.csv'</li><li>'annotation_macaque.csv'</li><li>'annotation_spatial_libd_human.csv'</li><li>'expression_chimp.csv'</li><li>'expression_human.csv'</li><li>'expression_macaque.csv'</li><li>'expression_mean_chimp.csv'</li><li>'expression_mean_human.csv'</li><li>'expression_mean_macaque.csv'</li><li>'expression_mean_spatial_libd_human.csv'</li><li>'expression_spatial_libd_human.csv'</li><li>'expression_sum_chimp.csv'</li><li>'expression_sum_human.csv'</li><li>'expression_sum_macaque.csv'</li><li>'expression_sum_spatial_libd_human.csv'</li></ol>\n"
      ],
      "text/latex": [
       "\\begin{enumerate*}\n",
       "\\item 'annotation\\_chimp.csv'\n",
       "\\item 'annotation\\_human.csv'\n",
       "\\item 'annotation\\_macaque.csv'\n",
       "\\item 'annotation\\_spatial\\_libd\\_human.csv'\n",
       "\\item 'expression\\_chimp.csv'\n",
       "\\item 'expression\\_human.csv'\n",
       "\\item 'expression\\_macaque.csv'\n",
       "\\item 'expression\\_mean\\_chimp.csv'\n",
       "\\item 'expression\\_mean\\_human.csv'\n",
       "\\item 'expression\\_mean\\_macaque.csv'\n",
       "\\item 'expression\\_mean\\_spatial\\_libd\\_human.csv'\n",
       "\\item 'expression\\_spatial\\_libd\\_human.csv'\n",
       "\\item 'expression\\_sum\\_chimp.csv'\n",
       "\\item 'expression\\_sum\\_human.csv'\n",
       "\\item 'expression\\_sum\\_macaque.csv'\n",
       "\\item 'expression\\_sum\\_spatial\\_libd\\_human.csv'\n",
       "\\end{enumerate*}\n"
      ],
      "text/markdown": [
       "1. 'annotation_chimp.csv'\n",
       "2. 'annotation_human.csv'\n",
       "3. 'annotation_macaque.csv'\n",
       "4. 'annotation_spatial_libd_human.csv'\n",
       "5. 'expression_chimp.csv'\n",
       "6. 'expression_human.csv'\n",
       "7. 'expression_macaque.csv'\n",
       "8. 'expression_mean_chimp.csv'\n",
       "9. 'expression_mean_human.csv'\n",
       "10. 'expression_mean_macaque.csv'\n",
       "11. 'expression_mean_spatial_libd_human.csv'\n",
       "12. 'expression_spatial_libd_human.csv'\n",
       "13. 'expression_sum_chimp.csv'\n",
       "14. 'expression_sum_human.csv'\n",
       "15. 'expression_sum_macaque.csv'\n",
       "16. 'expression_sum_spatial_libd_human.csv'\n",
       "\n",
       "\n"
      ],
      "text/plain": [
       " [1] \"annotation_chimp.csv\"                  \n",
       " [2] \"annotation_human.csv\"                  \n",
       " [3] \"annotation_macaque.csv\"                \n",
       " [4] \"annotation_spatial_libd_human.csv\"     \n",
       " [5] \"expression_chimp.csv\"                  \n",
       " [6] \"expression_human.csv\"                  \n",
       " [7] \"expression_macaque.csv\"                \n",
       " [8] \"expression_mean_chimp.csv\"             \n",
       " [9] \"expression_mean_human.csv\"             \n",
       "[10] \"expression_mean_macaque.csv\"           \n",
       "[11] \"expression_mean_spatial_libd_human.csv\"\n",
       "[12] \"expression_spatial_libd_human.csv\"     \n",
       "[13] \"expression_sum_chimp.csv\"              \n",
       "[14] \"expression_sum_human.csv\"              \n",
       "[15] \"expression_sum_macaque.csv\"            \n",
       "[16] \"expression_sum_spatial_libd_human.csv\" "
      ]
     },
     "metadata": {},
     "output_type": "display_data"
    }
   ],
   "source": [
    "list.files(\"../../results/DiffExpr/pseudobulks/\")"
   ]
  },
  {
   "cell_type": "markdown",
   "id": "7eb93017",
   "metadata": {},
   "source": [
    "### Expression table"
   ]
  },
  {
   "cell_type": "code",
   "execution_count": 3,
   "id": "c8344c70",
   "metadata": {},
   "outputs": [
    {
     "data": {
      "text/html": [
       "<table class=\"dataframe\">\n",
       "<caption>A data.frame: 6 × 36</caption>\n",
       "<thead>\n",
       "\t<tr><th></th><th scope=col>X</th><th scope=col>WM.human_759</th><th scope=col>L5.human_759</th><th scope=col>L2.human_759</th><th scope=col>L3.human_759</th><th scope=col>L1.human_759</th><th scope=col>L6.human_759</th><th scope=col>L4.human_759</th><th scope=col>WM.human_j12</th><th scope=col>L3.human_j12</th><th scope=col>⋯</th><th scope=col>L2.human_j4</th><th scope=col>L1.human_j4</th><th scope=col>L6.human_j4</th><th scope=col>WM.human_j6</th><th scope=col>L2.human_j6</th><th scope=col>L3.human_j6</th><th scope=col>L5.human_j6</th><th scope=col>L6.human_j6</th><th scope=col>L1.human_j6</th><th scope=col>L4.human_j6</th></tr>\n",
       "\t<tr><th></th><th scope=col>&lt;chr&gt;</th><th scope=col>&lt;dbl&gt;</th><th scope=col>&lt;dbl&gt;</th><th scope=col>&lt;dbl&gt;</th><th scope=col>&lt;dbl&gt;</th><th scope=col>&lt;dbl&gt;</th><th scope=col>&lt;dbl&gt;</th><th scope=col>&lt;dbl&gt;</th><th scope=col>&lt;dbl&gt;</th><th scope=col>&lt;dbl&gt;</th><th scope=col>⋯</th><th scope=col>&lt;dbl&gt;</th><th scope=col>&lt;dbl&gt;</th><th scope=col>&lt;dbl&gt;</th><th scope=col>&lt;dbl&gt;</th><th scope=col>&lt;dbl&gt;</th><th scope=col>&lt;dbl&gt;</th><th scope=col>&lt;dbl&gt;</th><th scope=col>&lt;dbl&gt;</th><th scope=col>&lt;dbl&gt;</th><th scope=col>&lt;dbl&gt;</th></tr>\n",
       "</thead>\n",
       "<tbody>\n",
       "\t<tr><th scope=row>1</th><td>OR4F5 </td><td> 0</td><td> 0</td><td> 0</td><td>  0</td><td> 0</td><td> 0</td><td> 0</td><td>  0</td><td>  0</td><td>⋯</td><td>  0</td><td> 0</td><td> 0</td><td> 0</td><td> 0</td><td>  0</td><td>  0</td><td>  0</td><td> 0</td><td>  0</td></tr>\n",
       "\t<tr><th scope=row>2</th><td>OR4F29</td><td> 0</td><td> 0</td><td> 0</td><td>  0</td><td> 0</td><td> 0</td><td> 0</td><td>  0</td><td>  0</td><td>⋯</td><td>  0</td><td> 0</td><td> 0</td><td> 0</td><td> 0</td><td>  0</td><td>  0</td><td>  0</td><td> 0</td><td>  0</td></tr>\n",
       "\t<tr><th scope=row>3</th><td>OR4F16</td><td> 0</td><td> 0</td><td> 0</td><td>  0</td><td> 0</td><td> 0</td><td> 0</td><td>  0</td><td>  0</td><td>⋯</td><td>  0</td><td> 0</td><td> 0</td><td> 0</td><td> 0</td><td>  0</td><td>  0</td><td>  0</td><td> 0</td><td>  0</td></tr>\n",
       "\t<tr><th scope=row>4</th><td>SAMD11</td><td> 1</td><td> 4</td><td> 1</td><td>  4</td><td> 6</td><td> 4</td><td> 0</td><td>  9</td><td>  5</td><td>⋯</td><td>  1</td><td> 5</td><td> 0</td><td> 0</td><td> 0</td><td>  1</td><td>  7</td><td>  0</td><td> 0</td><td>  4</td></tr>\n",
       "\t<tr><th scope=row>5</th><td>NOC2L </td><td>25</td><td>75</td><td>75</td><td>217</td><td>37</td><td>94</td><td>91</td><td>115</td><td>414</td><td>⋯</td><td>156</td><td>48</td><td>82</td><td>62</td><td>43</td><td>163</td><td>361</td><td>145</td><td>18</td><td>205</td></tr>\n",
       "\t<tr><th scope=row>6</th><td>KLHL17</td><td> 5</td><td>31</td><td>12</td><td> 61</td><td>14</td><td>30</td><td>35</td><td> 40</td><td>179</td><td>⋯</td><td> 23</td><td> 6</td><td>20</td><td>13</td><td>10</td><td> 49</td><td> 81</td><td> 43</td><td> 1</td><td> 42</td></tr>\n",
       "</tbody>\n",
       "</table>\n"
      ],
      "text/latex": [
       "A data.frame: 6 × 36\n",
       "\\begin{tabular}{r|lllllllllllllllllllll}\n",
       "  & X & WM.human\\_759 & L5.human\\_759 & L2.human\\_759 & L3.human\\_759 & L1.human\\_759 & L6.human\\_759 & L4.human\\_759 & WM.human\\_j12 & L3.human\\_j12 & ⋯ & L2.human\\_j4 & L1.human\\_j4 & L6.human\\_j4 & WM.human\\_j6 & L2.human\\_j6 & L3.human\\_j6 & L5.human\\_j6 & L6.human\\_j6 & L1.human\\_j6 & L4.human\\_j6\\\\\n",
       "  & <chr> & <dbl> & <dbl> & <dbl> & <dbl> & <dbl> & <dbl> & <dbl> & <dbl> & <dbl> & ⋯ & <dbl> & <dbl> & <dbl> & <dbl> & <dbl> & <dbl> & <dbl> & <dbl> & <dbl> & <dbl>\\\\\n",
       "\\hline\n",
       "\t1 & OR4F5  &  0 &  0 &  0 &   0 &  0 &  0 &  0 &   0 &   0 & ⋯ &   0 &  0 &  0 &  0 &  0 &   0 &   0 &   0 &  0 &   0\\\\\n",
       "\t2 & OR4F29 &  0 &  0 &  0 &   0 &  0 &  0 &  0 &   0 &   0 & ⋯ &   0 &  0 &  0 &  0 &  0 &   0 &   0 &   0 &  0 &   0\\\\\n",
       "\t3 & OR4F16 &  0 &  0 &  0 &   0 &  0 &  0 &  0 &   0 &   0 & ⋯ &   0 &  0 &  0 &  0 &  0 &   0 &   0 &   0 &  0 &   0\\\\\n",
       "\t4 & SAMD11 &  1 &  4 &  1 &   4 &  6 &  4 &  0 &   9 &   5 & ⋯ &   1 &  5 &  0 &  0 &  0 &   1 &   7 &   0 &  0 &   4\\\\\n",
       "\t5 & NOC2L  & 25 & 75 & 75 & 217 & 37 & 94 & 91 & 115 & 414 & ⋯ & 156 & 48 & 82 & 62 & 43 & 163 & 361 & 145 & 18 & 205\\\\\n",
       "\t6 & KLHL17 &  5 & 31 & 12 &  61 & 14 & 30 & 35 &  40 & 179 & ⋯ &  23 &  6 & 20 & 13 & 10 &  49 &  81 &  43 &  1 &  42\\\\\n",
       "\\end{tabular}\n"
      ],
      "text/markdown": [
       "\n",
       "A data.frame: 6 × 36\n",
       "\n",
       "| <!--/--> | X &lt;chr&gt; | WM.human_759 &lt;dbl&gt; | L5.human_759 &lt;dbl&gt; | L2.human_759 &lt;dbl&gt; | L3.human_759 &lt;dbl&gt; | L1.human_759 &lt;dbl&gt; | L6.human_759 &lt;dbl&gt; | L4.human_759 &lt;dbl&gt; | WM.human_j12 &lt;dbl&gt; | L3.human_j12 &lt;dbl&gt; | ⋯ ⋯ | L2.human_j4 &lt;dbl&gt; | L1.human_j4 &lt;dbl&gt; | L6.human_j4 &lt;dbl&gt; | WM.human_j6 &lt;dbl&gt; | L2.human_j6 &lt;dbl&gt; | L3.human_j6 &lt;dbl&gt; | L5.human_j6 &lt;dbl&gt; | L6.human_j6 &lt;dbl&gt; | L1.human_j6 &lt;dbl&gt; | L4.human_j6 &lt;dbl&gt; |\n",
       "|---|---|---|---|---|---|---|---|---|---|---|---|---|---|---|---|---|---|---|---|---|---|\n",
       "| 1 | OR4F5  |  0 |  0 |  0 |   0 |  0 |  0 |  0 |   0 |   0 | ⋯ |   0 |  0 |  0 |  0 |  0 |   0 |   0 |   0 |  0 |   0 |\n",
       "| 2 | OR4F29 |  0 |  0 |  0 |   0 |  0 |  0 |  0 |   0 |   0 | ⋯ |   0 |  0 |  0 |  0 |  0 |   0 |   0 |   0 |  0 |   0 |\n",
       "| 3 | OR4F16 |  0 |  0 |  0 |   0 |  0 |  0 |  0 |   0 |   0 | ⋯ |   0 |  0 |  0 |  0 |  0 |   0 |   0 |   0 |  0 |   0 |\n",
       "| 4 | SAMD11 |  1 |  4 |  1 |   4 |  6 |  4 |  0 |   9 |   5 | ⋯ |   1 |  5 |  0 |  0 |  0 |   1 |   7 |   0 |  0 |   4 |\n",
       "| 5 | NOC2L  | 25 | 75 | 75 | 217 | 37 | 94 | 91 | 115 | 414 | ⋯ | 156 | 48 | 82 | 62 | 43 | 163 | 361 | 145 | 18 | 205 |\n",
       "| 6 | KLHL17 |  5 | 31 | 12 |  61 | 14 | 30 | 35 |  40 | 179 | ⋯ |  23 |  6 | 20 | 13 | 10 |  49 |  81 |  43 |  1 |  42 |\n",
       "\n"
      ],
      "text/plain": [
       "  X      WM.human_759 L5.human_759 L2.human_759 L3.human_759 L1.human_759\n",
       "1 OR4F5   0            0            0             0           0          \n",
       "2 OR4F29  0            0            0             0           0          \n",
       "3 OR4F16  0            0            0             0           0          \n",
       "4 SAMD11  1            4            1             4           6          \n",
       "5 NOC2L  25           75           75           217          37          \n",
       "6 KLHL17  5           31           12            61          14          \n",
       "  L6.human_759 L4.human_759 WM.human_j12 L3.human_j12 ⋯ L2.human_j4 L1.human_j4\n",
       "1  0            0             0            0          ⋯   0          0         \n",
       "2  0            0             0            0          ⋯   0          0         \n",
       "3  0            0             0            0          ⋯   0          0         \n",
       "4  4            0             9            5          ⋯   1          5         \n",
       "5 94           91           115          414          ⋯ 156         48         \n",
       "6 30           35            40          179          ⋯  23          6         \n",
       "  L6.human_j4 WM.human_j6 L2.human_j6 L3.human_j6 L5.human_j6 L6.human_j6\n",
       "1  0           0           0            0           0           0        \n",
       "2  0           0           0            0           0           0        \n",
       "3  0           0           0            0           0           0        \n",
       "4  0           0           0            1           7           0        \n",
       "5 82          62          43          163         361         145        \n",
       "6 20          13          10           49          81          43        \n",
       "  L1.human_j6 L4.human_j6\n",
       "1  0            0        \n",
       "2  0            0        \n",
       "3  0            0        \n",
       "4  0            4        \n",
       "5 18          205        \n",
       "6  1           42        "
      ]
     },
     "metadata": {},
     "output_type": "display_data"
    }
   ],
   "source": [
    "expression_human <- read.csv('../../results/DiffExpr/pseudobulks/expression_sum_human.csv')\n",
    "head(expression_human)"
   ]
  },
  {
   "cell_type": "code",
   "execution_count": 4,
   "id": "6f68d9e9",
   "metadata": {},
   "outputs": [
    {
     "data": {
      "text/html": [
       "<table class=\"dataframe\">\n",
       "<caption>A data.frame: 6 × 77</caption>\n",
       "<thead>\n",
       "\t<tr><th></th><th scope=col>X</th><th scope=col>L1.151507</th><th scope=col>L3.151507</th><th scope=col>WM.151507</th><th scope=col>L6.151507</th><th scope=col>L5.151507</th><th scope=col>L2.151507</th><th scope=col>L4.151507</th><th scope=col>L3.151508</th><th scope=col>L1.151508</th><th scope=col>⋯</th><th scope=col>L2.151675</th><th scope=col>L4.151675</th><th scope=col>L6.151675</th><th scope=col>L3.151676</th><th scope=col>L1.151676</th><th scope=col>WM.151676</th><th scope=col>L6.151676</th><th scope=col>L5.151676</th><th scope=col>L2.151676</th><th scope=col>L4.151676</th></tr>\n",
       "\t<tr><th></th><th scope=col>&lt;chr&gt;</th><th scope=col>&lt;dbl&gt;</th><th scope=col>&lt;dbl&gt;</th><th scope=col>&lt;dbl&gt;</th><th scope=col>&lt;dbl&gt;</th><th scope=col>&lt;dbl&gt;</th><th scope=col>&lt;dbl&gt;</th><th scope=col>&lt;dbl&gt;</th><th scope=col>&lt;dbl&gt;</th><th scope=col>&lt;dbl&gt;</th><th scope=col>⋯</th><th scope=col>&lt;dbl&gt;</th><th scope=col>&lt;dbl&gt;</th><th scope=col>&lt;dbl&gt;</th><th scope=col>&lt;dbl&gt;</th><th scope=col>&lt;dbl&gt;</th><th scope=col>&lt;dbl&gt;</th><th scope=col>&lt;dbl&gt;</th><th scope=col>&lt;dbl&gt;</th><th scope=col>&lt;dbl&gt;</th><th scope=col>&lt;dbl&gt;</th></tr>\n",
       "</thead>\n",
       "<tbody>\n",
       "\t<tr><th scope=row>1</th><td>MIR1302-2HG</td><td>0</td><td>1</td><td>0</td><td>0</td><td>0</td><td>0</td><td>0</td><td>0</td><td>0</td><td>⋯</td><td>1</td><td>0</td><td>0</td><td>0</td><td>0</td><td>0</td><td>0</td><td>0</td><td>0</td><td>0</td></tr>\n",
       "\t<tr><th scope=row>2</th><td>FAM138A    </td><td>0</td><td>0</td><td>0</td><td>0</td><td>0</td><td>0</td><td>0</td><td>0</td><td>0</td><td>⋯</td><td>0</td><td>0</td><td>0</td><td>0</td><td>0</td><td>0</td><td>0</td><td>0</td><td>0</td><td>0</td></tr>\n",
       "\t<tr><th scope=row>3</th><td>OR4F5      </td><td>0</td><td>0</td><td>0</td><td>0</td><td>0</td><td>0</td><td>0</td><td>0</td><td>0</td><td>⋯</td><td>0</td><td>0</td><td>0</td><td>0</td><td>0</td><td>0</td><td>0</td><td>0</td><td>0</td><td>0</td></tr>\n",
       "\t<tr><th scope=row>4</th><td>AL627309.1 </td><td>2</td><td>1</td><td>0</td><td>0</td><td>1</td><td>0</td><td>2</td><td>1</td><td>1</td><td>⋯</td><td>0</td><td>1</td><td>1</td><td>2</td><td>1</td><td>0</td><td>0</td><td>2</td><td>1</td><td>0</td></tr>\n",
       "\t<tr><th scope=row>5</th><td>AL627309.3 </td><td>0</td><td>0</td><td>0</td><td>0</td><td>0</td><td>0</td><td>0</td><td>0</td><td>0</td><td>⋯</td><td>0</td><td>0</td><td>0</td><td>0</td><td>0</td><td>0</td><td>0</td><td>0</td><td>0</td><td>0</td></tr>\n",
       "\t<tr><th scope=row>6</th><td>AL627309.2 </td><td>0</td><td>0</td><td>0</td><td>0</td><td>0</td><td>0</td><td>0</td><td>0</td><td>0</td><td>⋯</td><td>0</td><td>0</td><td>0</td><td>0</td><td>0</td><td>0</td><td>0</td><td>0</td><td>0</td><td>0</td></tr>\n",
       "</tbody>\n",
       "</table>\n"
      ],
      "text/latex": [
       "A data.frame: 6 × 77\n",
       "\\begin{tabular}{r|lllllllllllllllllllll}\n",
       "  & X & L1.151507 & L3.151507 & WM.151507 & L6.151507 & L5.151507 & L2.151507 & L4.151507 & L3.151508 & L1.151508 & ⋯ & L2.151675 & L4.151675 & L6.151675 & L3.151676 & L1.151676 & WM.151676 & L6.151676 & L5.151676 & L2.151676 & L4.151676\\\\\n",
       "  & <chr> & <dbl> & <dbl> & <dbl> & <dbl> & <dbl> & <dbl> & <dbl> & <dbl> & <dbl> & ⋯ & <dbl> & <dbl> & <dbl> & <dbl> & <dbl> & <dbl> & <dbl> & <dbl> & <dbl> & <dbl>\\\\\n",
       "\\hline\n",
       "\t1 & MIR1302-2HG & 0 & 1 & 0 & 0 & 0 & 0 & 0 & 0 & 0 & ⋯ & 1 & 0 & 0 & 0 & 0 & 0 & 0 & 0 & 0 & 0\\\\\n",
       "\t2 & FAM138A     & 0 & 0 & 0 & 0 & 0 & 0 & 0 & 0 & 0 & ⋯ & 0 & 0 & 0 & 0 & 0 & 0 & 0 & 0 & 0 & 0\\\\\n",
       "\t3 & OR4F5       & 0 & 0 & 0 & 0 & 0 & 0 & 0 & 0 & 0 & ⋯ & 0 & 0 & 0 & 0 & 0 & 0 & 0 & 0 & 0 & 0\\\\\n",
       "\t4 & AL627309.1  & 2 & 1 & 0 & 0 & 1 & 0 & 2 & 1 & 1 & ⋯ & 0 & 1 & 1 & 2 & 1 & 0 & 0 & 2 & 1 & 0\\\\\n",
       "\t5 & AL627309.3  & 0 & 0 & 0 & 0 & 0 & 0 & 0 & 0 & 0 & ⋯ & 0 & 0 & 0 & 0 & 0 & 0 & 0 & 0 & 0 & 0\\\\\n",
       "\t6 & AL627309.2  & 0 & 0 & 0 & 0 & 0 & 0 & 0 & 0 & 0 & ⋯ & 0 & 0 & 0 & 0 & 0 & 0 & 0 & 0 & 0 & 0\\\\\n",
       "\\end{tabular}\n"
      ],
      "text/markdown": [
       "\n",
       "A data.frame: 6 × 77\n",
       "\n",
       "| <!--/--> | X &lt;chr&gt; | L1.151507 &lt;dbl&gt; | L3.151507 &lt;dbl&gt; | WM.151507 &lt;dbl&gt; | L6.151507 &lt;dbl&gt; | L5.151507 &lt;dbl&gt; | L2.151507 &lt;dbl&gt; | L4.151507 &lt;dbl&gt; | L3.151508 &lt;dbl&gt; | L1.151508 &lt;dbl&gt; | ⋯ ⋯ | L2.151675 &lt;dbl&gt; | L4.151675 &lt;dbl&gt; | L6.151675 &lt;dbl&gt; | L3.151676 &lt;dbl&gt; | L1.151676 &lt;dbl&gt; | WM.151676 &lt;dbl&gt; | L6.151676 &lt;dbl&gt; | L5.151676 &lt;dbl&gt; | L2.151676 &lt;dbl&gt; | L4.151676 &lt;dbl&gt; |\n",
       "|---|---|---|---|---|---|---|---|---|---|---|---|---|---|---|---|---|---|---|---|---|---|\n",
       "| 1 | MIR1302-2HG | 0 | 1 | 0 | 0 | 0 | 0 | 0 | 0 | 0 | ⋯ | 1 | 0 | 0 | 0 | 0 | 0 | 0 | 0 | 0 | 0 |\n",
       "| 2 | FAM138A     | 0 | 0 | 0 | 0 | 0 | 0 | 0 | 0 | 0 | ⋯ | 0 | 0 | 0 | 0 | 0 | 0 | 0 | 0 | 0 | 0 |\n",
       "| 3 | OR4F5       | 0 | 0 | 0 | 0 | 0 | 0 | 0 | 0 | 0 | ⋯ | 0 | 0 | 0 | 0 | 0 | 0 | 0 | 0 | 0 | 0 |\n",
       "| 4 | AL627309.1  | 2 | 1 | 0 | 0 | 1 | 0 | 2 | 1 | 1 | ⋯ | 0 | 1 | 1 | 2 | 1 | 0 | 0 | 2 | 1 | 0 |\n",
       "| 5 | AL627309.3  | 0 | 0 | 0 | 0 | 0 | 0 | 0 | 0 | 0 | ⋯ | 0 | 0 | 0 | 0 | 0 | 0 | 0 | 0 | 0 | 0 |\n",
       "| 6 | AL627309.2  | 0 | 0 | 0 | 0 | 0 | 0 | 0 | 0 | 0 | ⋯ | 0 | 0 | 0 | 0 | 0 | 0 | 0 | 0 | 0 | 0 |\n",
       "\n"
      ],
      "text/plain": [
       "  X           L1.151507 L3.151507 WM.151507 L6.151507 L5.151507 L2.151507\n",
       "1 MIR1302-2HG 0         1         0         0         0         0        \n",
       "2 FAM138A     0         0         0         0         0         0        \n",
       "3 OR4F5       0         0         0         0         0         0        \n",
       "4 AL627309.1  2         1         0         0         1         0        \n",
       "5 AL627309.3  0         0         0         0         0         0        \n",
       "6 AL627309.2  0         0         0         0         0         0        \n",
       "  L4.151507 L3.151508 L1.151508 ⋯ L2.151675 L4.151675 L6.151675 L3.151676\n",
       "1 0         0         0         ⋯ 1         0         0         0        \n",
       "2 0         0         0         ⋯ 0         0         0         0        \n",
       "3 0         0         0         ⋯ 0         0         0         0        \n",
       "4 2         1         1         ⋯ 0         1         1         2        \n",
       "5 0         0         0         ⋯ 0         0         0         0        \n",
       "6 0         0         0         ⋯ 0         0         0         0        \n",
       "  L1.151676 WM.151676 L6.151676 L5.151676 L2.151676 L4.151676\n",
       "1 0         0         0         0         0         0        \n",
       "2 0         0         0         0         0         0        \n",
       "3 0         0         0         0         0         0        \n",
       "4 1         0         0         2         1         0        \n",
       "5 0         0         0         0         0         0        \n",
       "6 0         0         0         0         0         0        "
      ]
     },
     "metadata": {},
     "output_type": "display_data"
    }
   ],
   "source": [
    "expression_human_libd <- read.csv('../../results/DiffExpr/pseudobulks/expression_sum_spatial_libd_human.csv')\n",
    "head(expression_human_libd)"
   ]
  },
  {
   "cell_type": "markdown",
   "id": "0d1d64a6",
   "metadata": {},
   "source": [
    "Merge two tables"
   ]
  },
  {
   "cell_type": "code",
   "execution_count": 5,
   "id": "48a9d4a1",
   "metadata": {},
   "outputs": [
    {
     "data": {
      "text/html": [
       "<table class=\"dataframe\">\n",
       "<caption>A data.frame: 6 × 111</caption>\n",
       "<thead>\n",
       "\t<tr><th></th><th scope=col>WM.human_759</th><th scope=col>L5.human_759</th><th scope=col>L2.human_759</th><th scope=col>L3.human_759</th><th scope=col>L1.human_759</th><th scope=col>L6.human_759</th><th scope=col>L4.human_759</th><th scope=col>WM.human_j12</th><th scope=col>L3.human_j12</th><th scope=col>L4.human_j12</th><th scope=col>⋯</th><th scope=col>L2.151675</th><th scope=col>L4.151675</th><th scope=col>L6.151675</th><th scope=col>L3.151676</th><th scope=col>L1.151676</th><th scope=col>WM.151676</th><th scope=col>L6.151676</th><th scope=col>L5.151676</th><th scope=col>L2.151676</th><th scope=col>L4.151676</th></tr>\n",
       "\t<tr><th></th><th scope=col>&lt;dbl&gt;</th><th scope=col>&lt;dbl&gt;</th><th scope=col>&lt;dbl&gt;</th><th scope=col>&lt;dbl&gt;</th><th scope=col>&lt;dbl&gt;</th><th scope=col>&lt;dbl&gt;</th><th scope=col>&lt;dbl&gt;</th><th scope=col>&lt;dbl&gt;</th><th scope=col>&lt;dbl&gt;</th><th scope=col>&lt;dbl&gt;</th><th scope=col>⋯</th><th scope=col>&lt;dbl&gt;</th><th scope=col>&lt;dbl&gt;</th><th scope=col>&lt;dbl&gt;</th><th scope=col>&lt;dbl&gt;</th><th scope=col>&lt;dbl&gt;</th><th scope=col>&lt;dbl&gt;</th><th scope=col>&lt;dbl&gt;</th><th scope=col>&lt;dbl&gt;</th><th scope=col>&lt;dbl&gt;</th><th scope=col>&lt;dbl&gt;</th></tr>\n",
       "</thead>\n",
       "<tbody>\n",
       "\t<tr><th scope=row>A1BG</th><td> 48</td><td>106</td><td>183</td><td>517</td><td> 72</td><td>171</td><td>207</td><td> 90</td><td>481</td><td>172</td><td>⋯</td><td> 46</td><td> 27</td><td> 54</td><td>116</td><td>14</td><td>110</td><td> 59</td><td> 78</td><td> 52</td><td> 37</td></tr>\n",
       "\t<tr><th scope=row>A1CF</th><td>  0</td><td>  0</td><td>  1</td><td> 13</td><td>  1</td><td>  0</td><td>  0</td><td>  0</td><td>  5</td><td>  1</td><td>⋯</td><td>  0</td><td>  0</td><td>  0</td><td>  0</td><td> 0</td><td>  0</td><td>  0</td><td>  0</td><td>  0</td><td>  0</td></tr>\n",
       "\t<tr><th scope=row>A2M</th><td>107</td><td>207</td><td>173</td><td>564</td><td>282</td><td>248</td><td>256</td><td>226</td><td>360</td><td>134</td><td>⋯</td><td>139</td><td>101</td><td>172</td><td>401</td><td>98</td><td>210</td><td>209</td><td>321</td><td>107</td><td>113</td></tr>\n",
       "\t<tr><th scope=row>A2ML1</th><td>  1</td><td>  1</td><td>  4</td><td>  3</td><td>  5</td><td>  1</td><td>  7</td><td>  1</td><td>  1</td><td>  2</td><td>⋯</td><td>  1</td><td>  1</td><td>  0</td><td>  2</td><td> 0</td><td>  4</td><td>  0</td><td>  3</td><td>  0</td><td>  0</td></tr>\n",
       "\t<tr><th scope=row>A3GALT2</th><td>  0</td><td>  0</td><td>  0</td><td>  0</td><td>  0</td><td>  0</td><td>  0</td><td>  0</td><td>  0</td><td>  0</td><td>⋯</td><td>  0</td><td>  0</td><td>  0</td><td>  0</td><td> 0</td><td>  0</td><td>  0</td><td>  0</td><td>  0</td><td>  0</td></tr>\n",
       "\t<tr><th scope=row>A4GALT</th><td>  0</td><td>  0</td><td>  4</td><td> 11</td><td>  2</td><td>  1</td><td>  2</td><td>  4</td><td>  3</td><td>  5</td><td>⋯</td><td>  5</td><td>  2</td><td>  1</td><td>  9</td><td> 1</td><td>  3</td><td>  5</td><td>  7</td><td>  6</td><td>  1</td></tr>\n",
       "</tbody>\n",
       "</table>\n"
      ],
      "text/latex": [
       "A data.frame: 6 × 111\n",
       "\\begin{tabular}{r|lllllllllllllllllllll}\n",
       "  & WM.human\\_759 & L5.human\\_759 & L2.human\\_759 & L3.human\\_759 & L1.human\\_759 & L6.human\\_759 & L4.human\\_759 & WM.human\\_j12 & L3.human\\_j12 & L4.human\\_j12 & ⋯ & L2.151675 & L4.151675 & L6.151675 & L3.151676 & L1.151676 & WM.151676 & L6.151676 & L5.151676 & L2.151676 & L4.151676\\\\\n",
       "  & <dbl> & <dbl> & <dbl> & <dbl> & <dbl> & <dbl> & <dbl> & <dbl> & <dbl> & <dbl> & ⋯ & <dbl> & <dbl> & <dbl> & <dbl> & <dbl> & <dbl> & <dbl> & <dbl> & <dbl> & <dbl>\\\\\n",
       "\\hline\n",
       "\tA1BG &  48 & 106 & 183 & 517 &  72 & 171 & 207 &  90 & 481 & 172 & ⋯ &  46 &  27 &  54 & 116 & 14 & 110 &  59 &  78 &  52 &  37\\\\\n",
       "\tA1CF &   0 &   0 &   1 &  13 &   1 &   0 &   0 &   0 &   5 &   1 & ⋯ &   0 &   0 &   0 &   0 &  0 &   0 &   0 &   0 &   0 &   0\\\\\n",
       "\tA2M & 107 & 207 & 173 & 564 & 282 & 248 & 256 & 226 & 360 & 134 & ⋯ & 139 & 101 & 172 & 401 & 98 & 210 & 209 & 321 & 107 & 113\\\\\n",
       "\tA2ML1 &   1 &   1 &   4 &   3 &   5 &   1 &   7 &   1 &   1 &   2 & ⋯ &   1 &   1 &   0 &   2 &  0 &   4 &   0 &   3 &   0 &   0\\\\\n",
       "\tA3GALT2 &   0 &   0 &   0 &   0 &   0 &   0 &   0 &   0 &   0 &   0 & ⋯ &   0 &   0 &   0 &   0 &  0 &   0 &   0 &   0 &   0 &   0\\\\\n",
       "\tA4GALT &   0 &   0 &   4 &  11 &   2 &   1 &   2 &   4 &   3 &   5 & ⋯ &   5 &   2 &   1 &   9 &  1 &   3 &   5 &   7 &   6 &   1\\\\\n",
       "\\end{tabular}\n"
      ],
      "text/markdown": [
       "\n",
       "A data.frame: 6 × 111\n",
       "\n",
       "| <!--/--> | WM.human_759 &lt;dbl&gt; | L5.human_759 &lt;dbl&gt; | L2.human_759 &lt;dbl&gt; | L3.human_759 &lt;dbl&gt; | L1.human_759 &lt;dbl&gt; | L6.human_759 &lt;dbl&gt; | L4.human_759 &lt;dbl&gt; | WM.human_j12 &lt;dbl&gt; | L3.human_j12 &lt;dbl&gt; | L4.human_j12 &lt;dbl&gt; | ⋯ ⋯ | L2.151675 &lt;dbl&gt; | L4.151675 &lt;dbl&gt; | L6.151675 &lt;dbl&gt; | L3.151676 &lt;dbl&gt; | L1.151676 &lt;dbl&gt; | WM.151676 &lt;dbl&gt; | L6.151676 &lt;dbl&gt; | L5.151676 &lt;dbl&gt; | L2.151676 &lt;dbl&gt; | L4.151676 &lt;dbl&gt; |\n",
       "|---|---|---|---|---|---|---|---|---|---|---|---|---|---|---|---|---|---|---|---|---|---|\n",
       "| A1BG |  48 | 106 | 183 | 517 |  72 | 171 | 207 |  90 | 481 | 172 | ⋯ |  46 |  27 |  54 | 116 | 14 | 110 |  59 |  78 |  52 |  37 |\n",
       "| A1CF |   0 |   0 |   1 |  13 |   1 |   0 |   0 |   0 |   5 |   1 | ⋯ |   0 |   0 |   0 |   0 |  0 |   0 |   0 |   0 |   0 |   0 |\n",
       "| A2M | 107 | 207 | 173 | 564 | 282 | 248 | 256 | 226 | 360 | 134 | ⋯ | 139 | 101 | 172 | 401 | 98 | 210 | 209 | 321 | 107 | 113 |\n",
       "| A2ML1 |   1 |   1 |   4 |   3 |   5 |   1 |   7 |   1 |   1 |   2 | ⋯ |   1 |   1 |   0 |   2 |  0 |   4 |   0 |   3 |   0 |   0 |\n",
       "| A3GALT2 |   0 |   0 |   0 |   0 |   0 |   0 |   0 |   0 |   0 |   0 | ⋯ |   0 |   0 |   0 |   0 |  0 |   0 |   0 |   0 |   0 |   0 |\n",
       "| A4GALT |   0 |   0 |   4 |  11 |   2 |   1 |   2 |   4 |   3 |   5 | ⋯ |   5 |   2 |   1 |   9 |  1 |   3 |   5 |   7 |   6 |   1 |\n",
       "\n"
      ],
      "text/plain": [
       "        WM.human_759 L5.human_759 L2.human_759 L3.human_759 L1.human_759\n",
       "A1BG     48          106          183          517           72         \n",
       "A1CF      0            0            1           13            1         \n",
       "A2M     107          207          173          564          282         \n",
       "A2ML1     1            1            4            3            5         \n",
       "A3GALT2   0            0            0            0            0         \n",
       "A4GALT    0            0            4           11            2         \n",
       "        L6.human_759 L4.human_759 WM.human_j12 L3.human_j12 L4.human_j12 ⋯\n",
       "A1BG    171          207           90          481          172          ⋯\n",
       "A1CF      0            0            0            5            1          ⋯\n",
       "A2M     248          256          226          360          134          ⋯\n",
       "A2ML1     1            7            1            1            2          ⋯\n",
       "A3GALT2   0            0            0            0            0          ⋯\n",
       "A4GALT    1            2            4            3            5          ⋯\n",
       "        L2.151675 L4.151675 L6.151675 L3.151676 L1.151676 WM.151676 L6.151676\n",
       "A1BG     46        27        54       116       14        110        59      \n",
       "A1CF      0         0         0         0        0          0         0      \n",
       "A2M     139       101       172       401       98        210       209      \n",
       "A2ML1     1         1         0         2        0          4         0      \n",
       "A3GALT2   0         0         0         0        0          0         0      \n",
       "A4GALT    5         2         1         9        1          3         5      \n",
       "        L5.151676 L2.151676 L4.151676\n",
       "A1BG     78        52        37      \n",
       "A1CF      0         0         0      \n",
       "A2M     321       107       113      \n",
       "A2ML1     3         0         0      \n",
       "A3GALT2   0         0         0      \n",
       "A4GALT    7         6         1      "
      ]
     },
     "metadata": {},
     "output_type": "display_data"
    }
   ],
   "source": [
    "expression <- merge(expression_human, expression_human_libd, by='X')\n",
    "rownames(expression) <- expression$X\n",
    "expression <- expression[,2:ncol(expression)]\n",
    "head(expression)"
   ]
  },
  {
   "cell_type": "code",
   "execution_count": 6,
   "id": "efb97823",
   "metadata": {},
   "outputs": [
    {
     "data": {
      "text/html": [
       "19404"
      ],
      "text/latex": [
       "19404"
      ],
      "text/markdown": [
       "19404"
      ],
      "text/plain": [
       "[1] 19404"
      ]
     },
     "metadata": {},
     "output_type": "display_data"
    }
   ],
   "source": [
    "nrow(expression)"
   ]
  },
  {
   "cell_type": "markdown",
   "id": "7ff75e54",
   "metadata": {},
   "source": [
    "### Annotation table"
   ]
  },
  {
   "cell_type": "code",
   "execution_count": 7,
   "id": "31a1f278",
   "metadata": {},
   "outputs": [
    {
     "data": {
      "text/html": [
       "<table class=\"dataframe\">\n",
       "<caption>A data.frame: 6 × 3</caption>\n",
       "<thead>\n",
       "\t<tr><th></th><th scope=col>layer</th><th scope=col>sample_id</th><th scope=col>condition</th></tr>\n",
       "\t<tr><th></th><th scope=col>&lt;chr&gt;</th><th scope=col>&lt;chr&gt;</th><th scope=col>&lt;chr&gt;</th></tr>\n",
       "</thead>\n",
       "<tbody>\n",
       "\t<tr><th scope=row>WM.human_759</th><td>WM</td><td>human_759</td><td>human</td></tr>\n",
       "\t<tr><th scope=row>L5.human_759</th><td>L5</td><td>human_759</td><td>human</td></tr>\n",
       "\t<tr><th scope=row>L2.human_759</th><td>L2</td><td>human_759</td><td>human</td></tr>\n",
       "\t<tr><th scope=row>L3.human_759</th><td>L3</td><td>human_759</td><td>human</td></tr>\n",
       "\t<tr><th scope=row>L1.human_759</th><td>L1</td><td>human_759</td><td>human</td></tr>\n",
       "\t<tr><th scope=row>L6.human_759</th><td>L6</td><td>human_759</td><td>human</td></tr>\n",
       "</tbody>\n",
       "</table>\n"
      ],
      "text/latex": [
       "A data.frame: 6 × 3\n",
       "\\begin{tabular}{r|lll}\n",
       "  & layer & sample\\_id & condition\\\\\n",
       "  & <chr> & <chr> & <chr>\\\\\n",
       "\\hline\n",
       "\tWM.human\\_759 & WM & human\\_759 & human\\\\\n",
       "\tL5.human\\_759 & L5 & human\\_759 & human\\\\\n",
       "\tL2.human\\_759 & L2 & human\\_759 & human\\\\\n",
       "\tL3.human\\_759 & L3 & human\\_759 & human\\\\\n",
       "\tL1.human\\_759 & L1 & human\\_759 & human\\\\\n",
       "\tL6.human\\_759 & L6 & human\\_759 & human\\\\\n",
       "\\end{tabular}\n"
      ],
      "text/markdown": [
       "\n",
       "A data.frame: 6 × 3\n",
       "\n",
       "| <!--/--> | layer &lt;chr&gt; | sample_id &lt;chr&gt; | condition &lt;chr&gt; |\n",
       "|---|---|---|---|\n",
       "| WM.human_759 | WM | human_759 | human |\n",
       "| L5.human_759 | L5 | human_759 | human |\n",
       "| L2.human_759 | L2 | human_759 | human |\n",
       "| L3.human_759 | L3 | human_759 | human |\n",
       "| L1.human_759 | L1 | human_759 | human |\n",
       "| L6.human_759 | L6 | human_759 | human |\n",
       "\n"
      ],
      "text/plain": [
       "             layer sample_id condition\n",
       "WM.human_759 WM    human_759 human    \n",
       "L5.human_759 L5    human_759 human    \n",
       "L2.human_759 L2    human_759 human    \n",
       "L3.human_759 L3    human_759 human    \n",
       "L1.human_759 L1    human_759 human    \n",
       "L6.human_759 L6    human_759 human    "
      ]
     },
     "metadata": {},
     "output_type": "display_data"
    }
   ],
   "source": [
    "annotation_human <- read.csv('../../results/DiffExpr/pseudobulks/annotation_human.csv', row.names=1)\n",
    "head(annotation_human)"
   ]
  },
  {
   "cell_type": "code",
   "execution_count": 8,
   "id": "da0c8c90",
   "metadata": {},
   "outputs": [
    {
     "data": {
      "text/html": [
       "<table class=\"dataframe\">\n",
       "<caption>A data.frame: 6 × 3</caption>\n",
       "<thead>\n",
       "\t<tr><th></th><th scope=col>layer</th><th scope=col>sample_id</th><th scope=col>condition</th></tr>\n",
       "\t<tr><th></th><th scope=col>&lt;chr&gt;</th><th scope=col>&lt;int&gt;</th><th scope=col>&lt;chr&gt;</th></tr>\n",
       "</thead>\n",
       "<tbody>\n",
       "\t<tr><th scope=row>L1.151507</th><td>L1</td><td>151507</td><td>spatial_libd_human</td></tr>\n",
       "\t<tr><th scope=row>L3.151507</th><td>L3</td><td>151507</td><td>spatial_libd_human</td></tr>\n",
       "\t<tr><th scope=row>WM.151507</th><td>WM</td><td>151507</td><td>spatial_libd_human</td></tr>\n",
       "\t<tr><th scope=row>L6.151507</th><td>L6</td><td>151507</td><td>spatial_libd_human</td></tr>\n",
       "\t<tr><th scope=row>L5.151507</th><td>L5</td><td>151507</td><td>spatial_libd_human</td></tr>\n",
       "\t<tr><th scope=row>L2.151507</th><td>L2</td><td>151507</td><td>spatial_libd_human</td></tr>\n",
       "</tbody>\n",
       "</table>\n"
      ],
      "text/latex": [
       "A data.frame: 6 × 3\n",
       "\\begin{tabular}{r|lll}\n",
       "  & layer & sample\\_id & condition\\\\\n",
       "  & <chr> & <int> & <chr>\\\\\n",
       "\\hline\n",
       "\tL1.151507 & L1 & 151507 & spatial\\_libd\\_human\\\\\n",
       "\tL3.151507 & L3 & 151507 & spatial\\_libd\\_human\\\\\n",
       "\tWM.151507 & WM & 151507 & spatial\\_libd\\_human\\\\\n",
       "\tL6.151507 & L6 & 151507 & spatial\\_libd\\_human\\\\\n",
       "\tL5.151507 & L5 & 151507 & spatial\\_libd\\_human\\\\\n",
       "\tL2.151507 & L2 & 151507 & spatial\\_libd\\_human\\\\\n",
       "\\end{tabular}\n"
      ],
      "text/markdown": [
       "\n",
       "A data.frame: 6 × 3\n",
       "\n",
       "| <!--/--> | layer &lt;chr&gt; | sample_id &lt;int&gt; | condition &lt;chr&gt; |\n",
       "|---|---|---|---|\n",
       "| L1.151507 | L1 | 151507 | spatial_libd_human |\n",
       "| L3.151507 | L3 | 151507 | spatial_libd_human |\n",
       "| WM.151507 | WM | 151507 | spatial_libd_human |\n",
       "| L6.151507 | L6 | 151507 | spatial_libd_human |\n",
       "| L5.151507 | L5 | 151507 | spatial_libd_human |\n",
       "| L2.151507 | L2 | 151507 | spatial_libd_human |\n",
       "\n"
      ],
      "text/plain": [
       "          layer sample_id condition         \n",
       "L1.151507 L1    151507    spatial_libd_human\n",
       "L3.151507 L3    151507    spatial_libd_human\n",
       "WM.151507 WM    151507    spatial_libd_human\n",
       "L6.151507 L6    151507    spatial_libd_human\n",
       "L5.151507 L5    151507    spatial_libd_human\n",
       "L2.151507 L2    151507    spatial_libd_human"
      ]
     },
     "metadata": {},
     "output_type": "display_data"
    }
   ],
   "source": [
    "annotation_human_libd <- read.csv('../../results/DiffExpr/pseudobulks/annotation_spatial_libd_human.csv', row.names=1)\n",
    "head(annotation_human_libd)"
   ]
  },
  {
   "cell_type": "code",
   "execution_count": 9,
   "id": "46e44dd1",
   "metadata": {},
   "outputs": [
    {
     "data": {
      "text/html": [
       "<table class=\"dataframe\">\n",
       "<caption>A data.frame: 3 × 3</caption>\n",
       "<thead>\n",
       "\t<tr><th></th><th scope=col>layer</th><th scope=col>sample_id</th><th scope=col>condition</th></tr>\n",
       "\t<tr><th></th><th scope=col>&lt;chr&gt;</th><th scope=col>&lt;chr&gt;</th><th scope=col>&lt;chr&gt;</th></tr>\n",
       "</thead>\n",
       "<tbody>\n",
       "\t<tr><th scope=row>WM.human_759</th><td>WM</td><td>human_759</td><td>human</td></tr>\n",
       "\t<tr><th scope=row>L5.human_759</th><td>L5</td><td>human_759</td><td>human</td></tr>\n",
       "\t<tr><th scope=row>L2.human_759</th><td>L2</td><td>human_759</td><td>human</td></tr>\n",
       "</tbody>\n",
       "</table>\n"
      ],
      "text/latex": [
       "A data.frame: 3 × 3\n",
       "\\begin{tabular}{r|lll}\n",
       "  & layer & sample\\_id & condition\\\\\n",
       "  & <chr> & <chr> & <chr>\\\\\n",
       "\\hline\n",
       "\tWM.human\\_759 & WM & human\\_759 & human\\\\\n",
       "\tL5.human\\_759 & L5 & human\\_759 & human\\\\\n",
       "\tL2.human\\_759 & L2 & human\\_759 & human\\\\\n",
       "\\end{tabular}\n"
      ],
      "text/markdown": [
       "\n",
       "A data.frame: 3 × 3\n",
       "\n",
       "| <!--/--> | layer &lt;chr&gt; | sample_id &lt;chr&gt; | condition &lt;chr&gt; |\n",
       "|---|---|---|---|\n",
       "| WM.human_759 | WM | human_759 | human |\n",
       "| L5.human_759 | L5 | human_759 | human |\n",
       "| L2.human_759 | L2 | human_759 | human |\n",
       "\n"
      ],
      "text/plain": [
       "             layer sample_id condition\n",
       "WM.human_759 WM    human_759 human    \n",
       "L5.human_759 L5    human_759 human    \n",
       "L2.human_759 L2    human_759 human    "
      ]
     },
     "metadata": {},
     "output_type": "display_data"
    },
    {
     "data": {
      "text/html": [
       "<table class=\"dataframe\">\n",
       "<caption>A data.frame: 3 × 3</caption>\n",
       "<thead>\n",
       "\t<tr><th></th><th scope=col>layer</th><th scope=col>sample_id</th><th scope=col>condition</th></tr>\n",
       "\t<tr><th></th><th scope=col>&lt;chr&gt;</th><th scope=col>&lt;chr&gt;</th><th scope=col>&lt;chr&gt;</th></tr>\n",
       "</thead>\n",
       "<tbody>\n",
       "\t<tr><th scope=row>L5.151676</th><td>L5</td><td>151676</td><td>spatial_libd_human</td></tr>\n",
       "\t<tr><th scope=row>L2.151676</th><td>L2</td><td>151676</td><td>spatial_libd_human</td></tr>\n",
       "\t<tr><th scope=row>L4.151676</th><td>L4</td><td>151676</td><td>spatial_libd_human</td></tr>\n",
       "</tbody>\n",
       "</table>\n"
      ],
      "text/latex": [
       "A data.frame: 3 × 3\n",
       "\\begin{tabular}{r|lll}\n",
       "  & layer & sample\\_id & condition\\\\\n",
       "  & <chr> & <chr> & <chr>\\\\\n",
       "\\hline\n",
       "\tL5.151676 & L5 & 151676 & spatial\\_libd\\_human\\\\\n",
       "\tL2.151676 & L2 & 151676 & spatial\\_libd\\_human\\\\\n",
       "\tL4.151676 & L4 & 151676 & spatial\\_libd\\_human\\\\\n",
       "\\end{tabular}\n"
      ],
      "text/markdown": [
       "\n",
       "A data.frame: 3 × 3\n",
       "\n",
       "| <!--/--> | layer &lt;chr&gt; | sample_id &lt;chr&gt; | condition &lt;chr&gt; |\n",
       "|---|---|---|---|\n",
       "| L5.151676 | L5 | 151676 | spatial_libd_human |\n",
       "| L2.151676 | L2 | 151676 | spatial_libd_human |\n",
       "| L4.151676 | L4 | 151676 | spatial_libd_human |\n",
       "\n"
      ],
      "text/plain": [
       "          layer sample_id condition         \n",
       "L5.151676 L5    151676    spatial_libd_human\n",
       "L2.151676 L2    151676    spatial_libd_human\n",
       "L4.151676 L4    151676    spatial_libd_human"
      ]
     },
     "metadata": {},
     "output_type": "display_data"
    }
   ],
   "source": [
    "annotation = rbind(annotation_human, annotation_human_libd)\n",
    "head(annotation, 3)\n",
    "tail(annotation, 3)"
   ]
  },
  {
   "cell_type": "markdown",
   "id": "b3a1e9ab",
   "metadata": {},
   "source": [
    "## Fit model"
   ]
  },
  {
   "cell_type": "markdown",
   "id": "83b590e6",
   "metadata": {},
   "source": [
    "### Factor"
   ]
  },
  {
   "cell_type": "code",
   "execution_count": 10,
   "id": "91900c61",
   "metadata": {},
   "outputs": [
    {
     "data": {
      "text/html": [
       "<table class=\"dataframe\">\n",
       "<caption>A data.frame: 6 × 3</caption>\n",
       "<thead>\n",
       "\t<tr><th></th><th scope=col>layer</th><th scope=col>sample_id</th><th scope=col>condition</th></tr>\n",
       "\t<tr><th></th><th scope=col>&lt;chr&gt;</th><th scope=col>&lt;chr&gt;</th><th scope=col>&lt;chr&gt;</th></tr>\n",
       "</thead>\n",
       "<tbody>\n",
       "\t<tr><th scope=row>WM.human_759</th><td>WM</td><td>human_759</td><td>human</td></tr>\n",
       "\t<tr><th scope=row>L5.human_759</th><td>L5</td><td>human_759</td><td>human</td></tr>\n",
       "\t<tr><th scope=row>L2.human_759</th><td>L2</td><td>human_759</td><td>human</td></tr>\n",
       "\t<tr><th scope=row>L3.human_759</th><td>L3</td><td>human_759</td><td>human</td></tr>\n",
       "\t<tr><th scope=row>L1.human_759</th><td>L1</td><td>human_759</td><td>human</td></tr>\n",
       "\t<tr><th scope=row>L6.human_759</th><td>L6</td><td>human_759</td><td>human</td></tr>\n",
       "</tbody>\n",
       "</table>\n"
      ],
      "text/latex": [
       "A data.frame: 6 × 3\n",
       "\\begin{tabular}{r|lll}\n",
       "  & layer & sample\\_id & condition\\\\\n",
       "  & <chr> & <chr> & <chr>\\\\\n",
       "\\hline\n",
       "\tWM.human\\_759 & WM & human\\_759 & human\\\\\n",
       "\tL5.human\\_759 & L5 & human\\_759 & human\\\\\n",
       "\tL2.human\\_759 & L2 & human\\_759 & human\\\\\n",
       "\tL3.human\\_759 & L3 & human\\_759 & human\\\\\n",
       "\tL1.human\\_759 & L1 & human\\_759 & human\\\\\n",
       "\tL6.human\\_759 & L6 & human\\_759 & human\\\\\n",
       "\\end{tabular}\n"
      ],
      "text/markdown": [
       "\n",
       "A data.frame: 6 × 3\n",
       "\n",
       "| <!--/--> | layer &lt;chr&gt; | sample_id &lt;chr&gt; | condition &lt;chr&gt; |\n",
       "|---|---|---|---|\n",
       "| WM.human_759 | WM | human_759 | human |\n",
       "| L5.human_759 | L5 | human_759 | human |\n",
       "| L2.human_759 | L2 | human_759 | human |\n",
       "| L3.human_759 | L3 | human_759 | human |\n",
       "| L1.human_759 | L1 | human_759 | human |\n",
       "| L6.human_759 | L6 | human_759 | human |\n",
       "\n"
      ],
      "text/plain": [
       "             layer sample_id condition\n",
       "WM.human_759 WM    human_759 human    \n",
       "L5.human_759 L5    human_759 human    \n",
       "L2.human_759 L2    human_759 human    \n",
       "L3.human_759 L3    human_759 human    \n",
       "L1.human_759 L1    human_759 human    \n",
       "L6.human_759 L6    human_759 human    "
      ]
     },
     "metadata": {},
     "output_type": "display_data"
    }
   ],
   "source": [
    "head(annotation)"
   ]
  },
  {
   "cell_type": "code",
   "execution_count": 11,
   "id": "b63aa96e",
   "metadata": {},
   "outputs": [
    {
     "data": {
      "text/html": [
       "<table class=\"dataframe\">\n",
       "<caption>A data.frame: 6 × 3</caption>\n",
       "<thead>\n",
       "\t<tr><th></th><th scope=col>layer</th><th scope=col>sample_id</th><th scope=col>condition</th></tr>\n",
       "\t<tr><th></th><th scope=col>&lt;fct&gt;</th><th scope=col>&lt;fct&gt;</th><th scope=col>&lt;fct&gt;</th></tr>\n",
       "</thead>\n",
       "<tbody>\n",
       "\t<tr><th scope=row>WM.human_759</th><td>WM</td><td>human_759</td><td>human</td></tr>\n",
       "\t<tr><th scope=row>L5.human_759</th><td>L5</td><td>human_759</td><td>human</td></tr>\n",
       "\t<tr><th scope=row>L2.human_759</th><td>L2</td><td>human_759</td><td>human</td></tr>\n",
       "\t<tr><th scope=row>L3.human_759</th><td>L3</td><td>human_759</td><td>human</td></tr>\n",
       "\t<tr><th scope=row>L1.human_759</th><td>L1</td><td>human_759</td><td>human</td></tr>\n",
       "\t<tr><th scope=row>L6.human_759</th><td>L6</td><td>human_759</td><td>human</td></tr>\n",
       "</tbody>\n",
       "</table>\n"
      ],
      "text/latex": [
       "A data.frame: 6 × 3\n",
       "\\begin{tabular}{r|lll}\n",
       "  & layer & sample\\_id & condition\\\\\n",
       "  & <fct> & <fct> & <fct>\\\\\n",
       "\\hline\n",
       "\tWM.human\\_759 & WM & human\\_759 & human\\\\\n",
       "\tL5.human\\_759 & L5 & human\\_759 & human\\\\\n",
       "\tL2.human\\_759 & L2 & human\\_759 & human\\\\\n",
       "\tL3.human\\_759 & L3 & human\\_759 & human\\\\\n",
       "\tL1.human\\_759 & L1 & human\\_759 & human\\\\\n",
       "\tL6.human\\_759 & L6 & human\\_759 & human\\\\\n",
       "\\end{tabular}\n"
      ],
      "text/markdown": [
       "\n",
       "A data.frame: 6 × 3\n",
       "\n",
       "| <!--/--> | layer &lt;fct&gt; | sample_id &lt;fct&gt; | condition &lt;fct&gt; |\n",
       "|---|---|---|---|\n",
       "| WM.human_759 | WM | human_759 | human |\n",
       "| L5.human_759 | L5 | human_759 | human |\n",
       "| L2.human_759 | L2 | human_759 | human |\n",
       "| L3.human_759 | L3 | human_759 | human |\n",
       "| L1.human_759 | L1 | human_759 | human |\n",
       "| L6.human_759 | L6 | human_759 | human |\n",
       "\n"
      ],
      "text/plain": [
       "             layer sample_id condition\n",
       "WM.human_759 WM    human_759 human    \n",
       "L5.human_759 L5    human_759 human    \n",
       "L2.human_759 L2    human_759 human    \n",
       "L3.human_759 L3    human_759 human    \n",
       "L1.human_759 L1    human_759 human    \n",
       "L6.human_759 L6    human_759 human    "
      ]
     },
     "metadata": {},
     "output_type": "display_data"
    }
   ],
   "source": [
    "annotation$condition <- factor(annotation$condition, levels=c(\"human\", \"spatial_libd_human\"))\n",
    "annotation$condition <- relevel(annotation$condition, ref=\"spatial_libd_human\")\n",
    "annotation$layer <- factor(annotation$layer)\n",
    "annotation$sample_id <- factor(annotation$sample_id)\n",
    "head(annotation)"
   ]
  },
  {
   "cell_type": "code",
   "execution_count": 12,
   "id": "dd2a32bb",
   "metadata": {},
   "outputs": [
    {
     "data": {
      "text/html": [
       "<table class=\"dataframe\">\n",
       "<caption>A data.frame: 6 × 111</caption>\n",
       "<thead>\n",
       "\t<tr><th></th><th scope=col>WM.human_759</th><th scope=col>L5.human_759</th><th scope=col>L2.human_759</th><th scope=col>L3.human_759</th><th scope=col>L1.human_759</th><th scope=col>L6.human_759</th><th scope=col>L4.human_759</th><th scope=col>WM.human_j12</th><th scope=col>L3.human_j12</th><th scope=col>L4.human_j12</th><th scope=col>⋯</th><th scope=col>L2.151675</th><th scope=col>L4.151675</th><th scope=col>L6.151675</th><th scope=col>L3.151676</th><th scope=col>L1.151676</th><th scope=col>WM.151676</th><th scope=col>L6.151676</th><th scope=col>L5.151676</th><th scope=col>L2.151676</th><th scope=col>L4.151676</th></tr>\n",
       "\t<tr><th></th><th scope=col>&lt;dbl&gt;</th><th scope=col>&lt;dbl&gt;</th><th scope=col>&lt;dbl&gt;</th><th scope=col>&lt;dbl&gt;</th><th scope=col>&lt;dbl&gt;</th><th scope=col>&lt;dbl&gt;</th><th scope=col>&lt;dbl&gt;</th><th scope=col>&lt;dbl&gt;</th><th scope=col>&lt;dbl&gt;</th><th scope=col>&lt;dbl&gt;</th><th scope=col>⋯</th><th scope=col>&lt;dbl&gt;</th><th scope=col>&lt;dbl&gt;</th><th scope=col>&lt;dbl&gt;</th><th scope=col>&lt;dbl&gt;</th><th scope=col>&lt;dbl&gt;</th><th scope=col>&lt;dbl&gt;</th><th scope=col>&lt;dbl&gt;</th><th scope=col>&lt;dbl&gt;</th><th scope=col>&lt;dbl&gt;</th><th scope=col>&lt;dbl&gt;</th></tr>\n",
       "</thead>\n",
       "<tbody>\n",
       "\t<tr><th scope=row>A1BG</th><td> 48</td><td>106</td><td>183</td><td>517</td><td> 72</td><td>171</td><td>207</td><td> 90</td><td>481</td><td>172</td><td>⋯</td><td> 46</td><td> 27</td><td> 54</td><td>116</td><td>14</td><td>110</td><td> 59</td><td> 78</td><td> 52</td><td> 37</td></tr>\n",
       "\t<tr><th scope=row>A1CF</th><td>  0</td><td>  0</td><td>  1</td><td> 13</td><td>  1</td><td>  0</td><td>  0</td><td>  0</td><td>  5</td><td>  1</td><td>⋯</td><td>  0</td><td>  0</td><td>  0</td><td>  0</td><td> 0</td><td>  0</td><td>  0</td><td>  0</td><td>  0</td><td>  0</td></tr>\n",
       "\t<tr><th scope=row>A2M</th><td>107</td><td>207</td><td>173</td><td>564</td><td>282</td><td>248</td><td>256</td><td>226</td><td>360</td><td>134</td><td>⋯</td><td>139</td><td>101</td><td>172</td><td>401</td><td>98</td><td>210</td><td>209</td><td>321</td><td>107</td><td>113</td></tr>\n",
       "\t<tr><th scope=row>A2ML1</th><td>  1</td><td>  1</td><td>  4</td><td>  3</td><td>  5</td><td>  1</td><td>  7</td><td>  1</td><td>  1</td><td>  2</td><td>⋯</td><td>  1</td><td>  1</td><td>  0</td><td>  2</td><td> 0</td><td>  4</td><td>  0</td><td>  3</td><td>  0</td><td>  0</td></tr>\n",
       "\t<tr><th scope=row>A3GALT2</th><td>  0</td><td>  0</td><td>  0</td><td>  0</td><td>  0</td><td>  0</td><td>  0</td><td>  0</td><td>  0</td><td>  0</td><td>⋯</td><td>  0</td><td>  0</td><td>  0</td><td>  0</td><td> 0</td><td>  0</td><td>  0</td><td>  0</td><td>  0</td><td>  0</td></tr>\n",
       "\t<tr><th scope=row>A4GALT</th><td>  0</td><td>  0</td><td>  4</td><td> 11</td><td>  2</td><td>  1</td><td>  2</td><td>  4</td><td>  3</td><td>  5</td><td>⋯</td><td>  5</td><td>  2</td><td>  1</td><td>  9</td><td> 1</td><td>  3</td><td>  5</td><td>  7</td><td>  6</td><td>  1</td></tr>\n",
       "</tbody>\n",
       "</table>\n"
      ],
      "text/latex": [
       "A data.frame: 6 × 111\n",
       "\\begin{tabular}{r|lllllllllllllllllllll}\n",
       "  & WM.human\\_759 & L5.human\\_759 & L2.human\\_759 & L3.human\\_759 & L1.human\\_759 & L6.human\\_759 & L4.human\\_759 & WM.human\\_j12 & L3.human\\_j12 & L4.human\\_j12 & ⋯ & L2.151675 & L4.151675 & L6.151675 & L3.151676 & L1.151676 & WM.151676 & L6.151676 & L5.151676 & L2.151676 & L4.151676\\\\\n",
       "  & <dbl> & <dbl> & <dbl> & <dbl> & <dbl> & <dbl> & <dbl> & <dbl> & <dbl> & <dbl> & ⋯ & <dbl> & <dbl> & <dbl> & <dbl> & <dbl> & <dbl> & <dbl> & <dbl> & <dbl> & <dbl>\\\\\n",
       "\\hline\n",
       "\tA1BG &  48 & 106 & 183 & 517 &  72 & 171 & 207 &  90 & 481 & 172 & ⋯ &  46 &  27 &  54 & 116 & 14 & 110 &  59 &  78 &  52 &  37\\\\\n",
       "\tA1CF &   0 &   0 &   1 &  13 &   1 &   0 &   0 &   0 &   5 &   1 & ⋯ &   0 &   0 &   0 &   0 &  0 &   0 &   0 &   0 &   0 &   0\\\\\n",
       "\tA2M & 107 & 207 & 173 & 564 & 282 & 248 & 256 & 226 & 360 & 134 & ⋯ & 139 & 101 & 172 & 401 & 98 & 210 & 209 & 321 & 107 & 113\\\\\n",
       "\tA2ML1 &   1 &   1 &   4 &   3 &   5 &   1 &   7 &   1 &   1 &   2 & ⋯ &   1 &   1 &   0 &   2 &  0 &   4 &   0 &   3 &   0 &   0\\\\\n",
       "\tA3GALT2 &   0 &   0 &   0 &   0 &   0 &   0 &   0 &   0 &   0 &   0 & ⋯ &   0 &   0 &   0 &   0 &  0 &   0 &   0 &   0 &   0 &   0\\\\\n",
       "\tA4GALT &   0 &   0 &   4 &  11 &   2 &   1 &   2 &   4 &   3 &   5 & ⋯ &   5 &   2 &   1 &   9 &  1 &   3 &   5 &   7 &   6 &   1\\\\\n",
       "\\end{tabular}\n"
      ],
      "text/markdown": [
       "\n",
       "A data.frame: 6 × 111\n",
       "\n",
       "| <!--/--> | WM.human_759 &lt;dbl&gt; | L5.human_759 &lt;dbl&gt; | L2.human_759 &lt;dbl&gt; | L3.human_759 &lt;dbl&gt; | L1.human_759 &lt;dbl&gt; | L6.human_759 &lt;dbl&gt; | L4.human_759 &lt;dbl&gt; | WM.human_j12 &lt;dbl&gt; | L3.human_j12 &lt;dbl&gt; | L4.human_j12 &lt;dbl&gt; | ⋯ ⋯ | L2.151675 &lt;dbl&gt; | L4.151675 &lt;dbl&gt; | L6.151675 &lt;dbl&gt; | L3.151676 &lt;dbl&gt; | L1.151676 &lt;dbl&gt; | WM.151676 &lt;dbl&gt; | L6.151676 &lt;dbl&gt; | L5.151676 &lt;dbl&gt; | L2.151676 &lt;dbl&gt; | L4.151676 &lt;dbl&gt; |\n",
       "|---|---|---|---|---|---|---|---|---|---|---|---|---|---|---|---|---|---|---|---|---|---|\n",
       "| A1BG |  48 | 106 | 183 | 517 |  72 | 171 | 207 |  90 | 481 | 172 | ⋯ |  46 |  27 |  54 | 116 | 14 | 110 |  59 |  78 |  52 |  37 |\n",
       "| A1CF |   0 |   0 |   1 |  13 |   1 |   0 |   0 |   0 |   5 |   1 | ⋯ |   0 |   0 |   0 |   0 |  0 |   0 |   0 |   0 |   0 |   0 |\n",
       "| A2M | 107 | 207 | 173 | 564 | 282 | 248 | 256 | 226 | 360 | 134 | ⋯ | 139 | 101 | 172 | 401 | 98 | 210 | 209 | 321 | 107 | 113 |\n",
       "| A2ML1 |   1 |   1 |   4 |   3 |   5 |   1 |   7 |   1 |   1 |   2 | ⋯ |   1 |   1 |   0 |   2 |  0 |   4 |   0 |   3 |   0 |   0 |\n",
       "| A3GALT2 |   0 |   0 |   0 |   0 |   0 |   0 |   0 |   0 |   0 |   0 | ⋯ |   0 |   0 |   0 |   0 |  0 |   0 |   0 |   0 |   0 |   0 |\n",
       "| A4GALT |   0 |   0 |   4 |  11 |   2 |   1 |   2 |   4 |   3 |   5 | ⋯ |   5 |   2 |   1 |   9 |  1 |   3 |   5 |   7 |   6 |   1 |\n",
       "\n"
      ],
      "text/plain": [
       "        WM.human_759 L5.human_759 L2.human_759 L3.human_759 L1.human_759\n",
       "A1BG     48          106          183          517           72         \n",
       "A1CF      0            0            1           13            1         \n",
       "A2M     107          207          173          564          282         \n",
       "A2ML1     1            1            4            3            5         \n",
       "A3GALT2   0            0            0            0            0         \n",
       "A4GALT    0            0            4           11            2         \n",
       "        L6.human_759 L4.human_759 WM.human_j12 L3.human_j12 L4.human_j12 ⋯\n",
       "A1BG    171          207           90          481          172          ⋯\n",
       "A1CF      0            0            0            5            1          ⋯\n",
       "A2M     248          256          226          360          134          ⋯\n",
       "A2ML1     1            7            1            1            2          ⋯\n",
       "A3GALT2   0            0            0            0            0          ⋯\n",
       "A4GALT    1            2            4            3            5          ⋯\n",
       "        L2.151675 L4.151675 L6.151675 L3.151676 L1.151676 WM.151676 L6.151676\n",
       "A1BG     46        27        54       116       14        110        59      \n",
       "A1CF      0         0         0         0        0          0         0      \n",
       "A2M     139       101       172       401       98        210       209      \n",
       "A2ML1     1         1         0         2        0          4         0      \n",
       "A3GALT2   0         0         0         0        0          0         0      \n",
       "A4GALT    5         2         1         9        1          3         5      \n",
       "        L5.151676 L2.151676 L4.151676\n",
       "A1BG     78        52        37      \n",
       "A1CF      0         0         0      \n",
       "A2M     321       107       113      \n",
       "A2ML1     3         0         0      \n",
       "A3GALT2   0         0         0      \n",
       "A4GALT    7         6         1      "
      ]
     },
     "metadata": {},
     "output_type": "display_data"
    }
   ],
   "source": [
    "head(expression)"
   ]
  },
  {
   "cell_type": "code",
   "execution_count": 13,
   "id": "225b04d9",
   "metadata": {},
   "outputs": [
    {
     "data": {
      "text/html": [
       "<dl>\n",
       "\t<dt>$counts</dt>\n",
       "\t\t<dd><table class=\"dataframe\">\n",
       "<caption>A matrix: 19404 × 111 of type dbl</caption>\n",
       "<thead>\n",
       "\t<tr><th></th><th scope=col>WM.human_759</th><th scope=col>L5.human_759</th><th scope=col>L2.human_759</th><th scope=col>L3.human_759</th><th scope=col>L1.human_759</th><th scope=col>L6.human_759</th><th scope=col>L4.human_759</th><th scope=col>WM.human_j12</th><th scope=col>L3.human_j12</th><th scope=col>L4.human_j12</th><th scope=col>⋯</th><th scope=col>L2.151675</th><th scope=col>L4.151675</th><th scope=col>L6.151675</th><th scope=col>L3.151676</th><th scope=col>L1.151676</th><th scope=col>WM.151676</th><th scope=col>L6.151676</th><th scope=col>L5.151676</th><th scope=col>L2.151676</th><th scope=col>L4.151676</th></tr>\n",
       "</thead>\n",
       "<tbody>\n",
       "\t<tr><th scope=row>A1BG</th><td> 48</td><td>106</td><td>183</td><td> 517</td><td> 72</td><td>171</td><td>207</td><td> 90</td><td> 481</td><td> 172</td><td>⋯</td><td> 46</td><td> 27</td><td> 54</td><td>116</td><td>14</td><td>110</td><td> 59</td><td> 78</td><td> 52</td><td> 37</td></tr>\n",
       "\t<tr><th scope=row>A1CF</th><td>  0</td><td>  0</td><td>  1</td><td>  13</td><td>  1</td><td>  0</td><td>  0</td><td>  0</td><td>   5</td><td>   1</td><td>⋯</td><td>  0</td><td>  0</td><td>  0</td><td>  0</td><td> 0</td><td>  0</td><td>  0</td><td>  0</td><td>  0</td><td>  0</td></tr>\n",
       "\t<tr><th scope=row>A2M</th><td>107</td><td>207</td><td>173</td><td> 564</td><td>282</td><td>248</td><td>256</td><td>226</td><td> 360</td><td> 134</td><td>⋯</td><td>139</td><td>101</td><td>172</td><td>401</td><td>98</td><td>210</td><td>209</td><td>321</td><td>107</td><td>113</td></tr>\n",
       "\t<tr><th scope=row>A2ML1</th><td>  1</td><td>  1</td><td>  4</td><td>   3</td><td>  5</td><td>  1</td><td>  7</td><td>  1</td><td>   1</td><td>   2</td><td>⋯</td><td>  1</td><td>  1</td><td>  0</td><td>  2</td><td> 0</td><td>  4</td><td>  0</td><td>  3</td><td>  0</td><td>  0</td></tr>\n",
       "\t<tr><th scope=row>A3GALT2</th><td>  0</td><td>  0</td><td>  0</td><td>   0</td><td>  0</td><td>  0</td><td>  0</td><td>  0</td><td>   0</td><td>   0</td><td>⋯</td><td>  0</td><td>  0</td><td>  0</td><td>  0</td><td> 0</td><td>  0</td><td>  0</td><td>  0</td><td>  0</td><td>  0</td></tr>\n",
       "\t<tr><th scope=row>A4GALT</th><td>  0</td><td>  0</td><td>  4</td><td>  11</td><td>  2</td><td>  1</td><td>  2</td><td>  4</td><td>   3</td><td>   5</td><td>⋯</td><td>  5</td><td>  2</td><td>  1</td><td>  9</td><td> 1</td><td>  3</td><td>  5</td><td>  7</td><td>  6</td><td>  1</td></tr>\n",
       "\t<tr><th scope=row>A4GNT</th><td>  0</td><td>  0</td><td>  0</td><td>   0</td><td>  0</td><td>  0</td><td>  0</td><td>  0</td><td>   0</td><td>   0</td><td>⋯</td><td>  0</td><td>  0</td><td>  0</td><td>  0</td><td> 0</td><td>  0</td><td>  0</td><td>  0</td><td>  0</td><td>  0</td></tr>\n",
       "\t<tr><th scope=row>AAAS</th><td>  9</td><td> 17</td><td> 17</td><td>  46</td><td> 28</td><td> 25</td><td> 22</td><td> 37</td><td> 130</td><td>  49</td><td>⋯</td><td> 18</td><td> 15</td><td> 31</td><td> 59</td><td> 9</td><td> 41</td><td> 33</td><td> 33</td><td> 15</td><td> 15</td></tr>\n",
       "\t<tr><th scope=row>AACS</th><td> 40</td><td> 94</td><td> 85</td><td> 262</td><td> 54</td><td>135</td><td>115</td><td> 77</td><td> 296</td><td> 120</td><td>⋯</td><td> 80</td><td> 57</td><td> 87</td><td>192</td><td>26</td><td> 50</td><td> 98</td><td>157</td><td> 59</td><td> 62</td></tr>\n",
       "\t<tr><th scope=row>AADAC</th><td>  0</td><td>  0</td><td>  0</td><td>   0</td><td>  0</td><td>  0</td><td>  0</td><td>  0</td><td>   0</td><td>   0</td><td>⋯</td><td>  0</td><td>  0</td><td>  0</td><td>  0</td><td> 0</td><td>  0</td><td>  0</td><td>  0</td><td>  0</td><td>  0</td></tr>\n",
       "\t<tr><th scope=row>AADACL2</th><td>  0</td><td>  0</td><td>  0</td><td>   0</td><td>  0</td><td>  0</td><td>  0</td><td>  0</td><td>   0</td><td>   0</td><td>⋯</td><td>  0</td><td>  0</td><td>  0</td><td>  0</td><td> 0</td><td>  0</td><td>  0</td><td>  0</td><td>  0</td><td>  0</td></tr>\n",
       "\t<tr><th scope=row>AADACL3</th><td>  0</td><td>  0</td><td>  0</td><td>   0</td><td>  0</td><td>  0</td><td>  0</td><td>  0</td><td>   0</td><td>   0</td><td>⋯</td><td>  0</td><td>  0</td><td>  0</td><td>  0</td><td> 0</td><td>  0</td><td>  0</td><td>  0</td><td>  0</td><td>  0</td></tr>\n",
       "\t<tr><th scope=row>AADACL4</th><td>  0</td><td>  0</td><td>  0</td><td>   0</td><td>  0</td><td>  0</td><td>  0</td><td>  0</td><td>   0</td><td>   0</td><td>⋯</td><td>  0</td><td>  0</td><td>  0</td><td>  0</td><td> 0</td><td>  0</td><td>  0</td><td>  0</td><td>  0</td><td>  0</td></tr>\n",
       "\t<tr><th scope=row>AADAT</th><td> 18</td><td> 56</td><td> 58</td><td> 187</td><td> 43</td><td> 70</td><td> 64</td><td> 44</td><td> 312</td><td>  98</td><td>⋯</td><td> 11</td><td> 10</td><td> 13</td><td> 51</td><td>10</td><td> 12</td><td> 12</td><td> 38</td><td>  9</td><td>  7</td></tr>\n",
       "\t<tr><th scope=row>AAGAB</th><td> 21</td><td> 53</td><td> 58</td><td> 169</td><td> 23</td><td> 48</td><td> 63</td><td> 41</td><td> 233</td><td>  79</td><td>⋯</td><td> 44</td><td> 42</td><td> 54</td><td>141</td><td>14</td><td> 48</td><td> 60</td><td> 99</td><td> 46</td><td> 38</td></tr>\n",
       "\t<tr><th scope=row>AAK1</th><td> 61</td><td>184</td><td>187</td><td> 594</td><td> 90</td><td>208</td><td>284</td><td>239</td><td> 961</td><td> 386</td><td>⋯</td><td>126</td><td>127</td><td>142</td><td>441</td><td>56</td><td>119</td><td>181</td><td>361</td><td>125</td><td>144</td></tr>\n",
       "\t<tr><th scope=row>AAMDC</th><td>  4</td><td> 10</td><td>  5</td><td>  42</td><td> 19</td><td> 17</td><td> 14</td><td> 54</td><td>  80</td><td>  36</td><td>⋯</td><td> 24</td><td> 12</td><td> 27</td><td> 52</td><td> 7</td><td> 55</td><td> 28</td><td> 22</td><td> 13</td><td> 14</td></tr>\n",
       "\t<tr><th scope=row>AAMP</th><td> 55</td><td>116</td><td>134</td><td> 360</td><td> 80</td><td>136</td><td>191</td><td>167</td><td> 673</td><td> 251</td><td>⋯</td><td> 94</td><td> 92</td><td>113</td><td>295</td><td>32</td><td>105</td><td>142</td><td>240</td><td> 94</td><td> 93</td></tr>\n",
       "\t<tr><th scope=row>AANAT</th><td>  0</td><td>  1</td><td>  2</td><td>   7</td><td>  2</td><td>  0</td><td>  1</td><td>  1</td><td>   0</td><td>   0</td><td>⋯</td><td>  0</td><td>  0</td><td>  0</td><td>  3</td><td> 0</td><td>  2</td><td>  1</td><td>  2</td><td>  2</td><td>  0</td></tr>\n",
       "\t<tr><th scope=row>AAR2</th><td> 13</td><td> 35</td><td> 47</td><td> 134</td><td> 25</td><td> 46</td><td> 61</td><td> 48</td><td> 223</td><td>  88</td><td>⋯</td><td> 19</td><td> 16</td><td> 24</td><td> 45</td><td> 9</td><td> 31</td><td> 27</td><td> 35</td><td> 11</td><td> 20</td></tr>\n",
       "\t<tr><th scope=row>AARD</th><td>  5</td><td>  5</td><td> 15</td><td>  38</td><td>  8</td><td>  8</td><td> 13</td><td> 13</td><td>  79</td><td>  25</td><td>⋯</td><td>  3</td><td>  1</td><td>  5</td><td> 10</td><td> 0</td><td>  3</td><td> 10</td><td>  8</td><td>  2</td><td>  3</td></tr>\n",
       "\t<tr><th scope=row>AARS2</th><td>  4</td><td> 17</td><td> 22</td><td>  68</td><td>  9</td><td> 23</td><td> 22</td><td> 21</td><td> 106</td><td>  43</td><td>⋯</td><td> 13</td><td>  5</td><td>  8</td><td> 25</td><td> 1</td><td>  6</td><td> 11</td><td> 15</td><td>  5</td><td>  3</td></tr>\n",
       "\t<tr><th scope=row>AARSD1</th><td>  6</td><td>  7</td><td>  8</td><td>  14</td><td>  2</td><td>  9</td><td>  8</td><td>  7</td><td>  43</td><td>  17</td><td>⋯</td><td> 10</td><td>  2</td><td>  5</td><td> 19</td><td> 2</td><td>  4</td><td>  4</td><td> 10</td><td>  8</td><td>  9</td></tr>\n",
       "\t<tr><th scope=row>AASDH</th><td>  6</td><td> 14</td><td> 16</td><td>  33</td><td>  6</td><td> 16</td><td> 19</td><td> 29</td><td>  77</td><td>  31</td><td>⋯</td><td> 14</td><td>  8</td><td> 18</td><td> 28</td><td> 5</td><td>  9</td><td> 14</td><td> 22</td><td> 10</td><td> 10</td></tr>\n",
       "\t<tr><th scope=row>AASDHPPT</th><td>113</td><td>314</td><td>397</td><td>1145</td><td>189</td><td>428</td><td>482</td><td>375</td><td>2511</td><td>1023</td><td>⋯</td><td>149</td><td>106</td><td>149</td><td>409</td><td>48</td><td>127</td><td>167</td><td>349</td><td>137</td><td>140</td></tr>\n",
       "\t<tr><th scope=row>AASS</th><td>  0</td><td> 11</td><td>  8</td><td>  19</td><td>  8</td><td> 13</td><td>  6</td><td> 40</td><td>  29</td><td>   9</td><td>⋯</td><td>  3</td><td>  1</td><td>  2</td><td>  2</td><td> 0</td><td>  3</td><td>  1</td><td>  5</td><td>  0</td><td>  0</td></tr>\n",
       "\t<tr><th scope=row>AATF</th><td>  7</td><td> 20</td><td> 16</td><td>  85</td><td> 16</td><td> 31</td><td> 30</td><td> 58</td><td> 141</td><td>  61</td><td>⋯</td><td> 21</td><td> 13</td><td> 28</td><td> 61</td><td>11</td><td> 35</td><td> 32</td><td> 50</td><td> 20</td><td> 18</td></tr>\n",
       "\t<tr><th scope=row>AATK</th><td> 15</td><td> 48</td><td> 45</td><td> 114</td><td> 26</td><td> 75</td><td> 57</td><td> 85</td><td> 240</td><td> 109</td><td>⋯</td><td> 75</td><td> 73</td><td>129</td><td>248</td><td>25</td><td>360</td><td>192</td><td>243</td><td> 66</td><td> 93</td></tr>\n",
       "\t<tr><th scope=row>ABAT</th><td>115</td><td>275</td><td>262</td><td> 784</td><td>238</td><td>388</td><td>401</td><td>336</td><td>1154</td><td> 534</td><td>⋯</td><td>177</td><td>172</td><td>186</td><td>533</td><td>66</td><td>163</td><td>259</td><td>477</td><td>156</td><td>167</td></tr>\n",
       "\t<tr><th scope=row>ABCA1</th><td>  4</td><td>  9</td><td> 14</td><td>  25</td><td> 25</td><td> 13</td><td> 14</td><td> 75</td><td>  53</td><td>  22</td><td>⋯</td><td>  3</td><td>  4</td><td> 10</td><td> 28</td><td> 5</td><td> 15</td><td> 15</td><td> 18</td><td>  8</td><td> 10</td></tr>\n",
       "\t<tr><th scope=row>⋮</th><td>⋮</td><td>⋮</td><td>⋮</td><td>⋮</td><td>⋮</td><td>⋮</td><td>⋮</td><td>⋮</td><td>⋮</td><td>⋮</td><td>⋱</td><td>⋮</td><td>⋮</td><td>⋮</td><td>⋮</td><td>⋮</td><td>⋮</td><td>⋮</td><td>⋮</td><td>⋮</td><td>⋮</td></tr>\n",
       "\t<tr><th scope=row>ZSCAN26</th><td>11</td><td> 19</td><td> 30</td><td> 69</td><td> 21</td><td> 22</td><td> 28</td><td> 30</td><td> 124</td><td> 57</td><td>⋯</td><td>  9</td><td>  4</td><td> 15</td><td> 36</td><td> 6</td><td> 22</td><td> 15</td><td> 12</td><td>  2</td><td> 12</td></tr>\n",
       "\t<tr><th scope=row>ZSCAN29</th><td> 7</td><td> 10</td><td> 17</td><td> 57</td><td> 12</td><td> 18</td><td> 38</td><td> 14</td><td>  77</td><td> 34</td><td>⋯</td><td> 13</td><td> 13</td><td> 13</td><td> 44</td><td> 5</td><td> 22</td><td> 11</td><td> 19</td><td> 18</td><td> 10</td></tr>\n",
       "\t<tr><th scope=row>ZSCAN30</th><td> 7</td><td> 15</td><td> 24</td><td> 47</td><td> 14</td><td> 25</td><td> 18</td><td> 23</td><td>  80</td><td> 21</td><td>⋯</td><td>  6</td><td>  4</td><td>  6</td><td> 21</td><td> 4</td><td> 19</td><td> 17</td><td> 22</td><td>  6</td><td>  7</td></tr>\n",
       "\t<tr><th scope=row>ZSCAN31</th><td> 4</td><td>  5</td><td> 11</td><td> 12</td><td>  4</td><td>  7</td><td> 13</td><td>  4</td><td>  30</td><td> 13</td><td>⋯</td><td>  9</td><td>  5</td><td> 14</td><td> 17</td><td> 2</td><td> 13</td><td> 14</td><td> 15</td><td>  8</td><td>  8</td></tr>\n",
       "\t<tr><th scope=row>ZSCAN32</th><td>11</td><td> 16</td><td> 13</td><td> 38</td><td> 16</td><td> 18</td><td> 21</td><td> 18</td><td>  61</td><td> 15</td><td>⋯</td><td>  5</td><td>  3</td><td>  7</td><td> 21</td><td> 3</td><td> 21</td><td> 13</td><td> 16</td><td>  9</td><td>  4</td></tr>\n",
       "\t<tr><th scope=row>ZSCAN4</th><td> 0</td><td>  0</td><td>  0</td><td>  0</td><td>  1</td><td>  1</td><td>  0</td><td>  0</td><td>   0</td><td>  0</td><td>⋯</td><td>  0</td><td>  0</td><td>  0</td><td>  0</td><td> 0</td><td>  0</td><td>  0</td><td>  0</td><td>  0</td><td>  0</td></tr>\n",
       "\t<tr><th scope=row>ZSCAN5A</th><td> 4</td><td>  7</td><td>  4</td><td> 19</td><td>  5</td><td>  6</td><td> 12</td><td>  4</td><td>   7</td><td>  1</td><td>⋯</td><td> 14</td><td>  5</td><td> 17</td><td> 35</td><td> 5</td><td>  6</td><td> 12</td><td> 17</td><td> 10</td><td>  6</td></tr>\n",
       "\t<tr><th scope=row>ZSCAN5B</th><td> 0</td><td>  0</td><td>  0</td><td>  0</td><td>  0</td><td>  0</td><td>  0</td><td>  0</td><td>   1</td><td>  0</td><td>⋯</td><td>  0</td><td>  0</td><td>  0</td><td>  0</td><td> 0</td><td>  0</td><td>  0</td><td>  0</td><td>  0</td><td>  1</td></tr>\n",
       "\t<tr><th scope=row>ZSCAN5C</th><td> 0</td><td>  0</td><td>  0</td><td>  0</td><td>  0</td><td>  0</td><td>  0</td><td>  0</td><td>   0</td><td>  0</td><td>⋯</td><td>  0</td><td>  0</td><td>  0</td><td>  0</td><td> 0</td><td>  0</td><td>  0</td><td>  0</td><td>  0</td><td>  0</td></tr>\n",
       "\t<tr><th scope=row>ZSCAN9</th><td> 5</td><td>  7</td><td> 26</td><td> 45</td><td>  8</td><td> 14</td><td> 11</td><td> 15</td><td>  62</td><td> 26</td><td>⋯</td><td>  7</td><td>  1</td><td>  1</td><td> 11</td><td> 0</td><td>  5</td><td>  7</td><td>  5</td><td>  5</td><td>  3</td></tr>\n",
       "\t<tr><th scope=row>ZSWIM1</th><td> 2</td><td> 11</td><td> 12</td><td> 48</td><td>  6</td><td> 17</td><td> 15</td><td> 16</td><td>  77</td><td> 24</td><td>⋯</td><td>  7</td><td>  5</td><td>  8</td><td> 15</td><td> 1</td><td>  7</td><td> 14</td><td> 10</td><td>  7</td><td>  3</td></tr>\n",
       "\t<tr><th scope=row>ZSWIM2</th><td> 0</td><td>  0</td><td>  0</td><td>  0</td><td>  0</td><td>  0</td><td>  1</td><td>  0</td><td>   0</td><td>  0</td><td>⋯</td><td>  1</td><td>  0</td><td>  0</td><td>  0</td><td> 0</td><td>  0</td><td>  0</td><td>  0</td><td>  1</td><td>  0</td></tr>\n",
       "\t<tr><th scope=row>ZSWIM3</th><td> 4</td><td>  5</td><td>  7</td><td> 20</td><td>  3</td><td>  8</td><td>  8</td><td> 13</td><td>  52</td><td> 25</td><td>⋯</td><td>  5</td><td>  4</td><td>  3</td><td> 13</td><td> 1</td><td>  5</td><td>  4</td><td> 10</td><td>  5</td><td>  4</td></tr>\n",
       "\t<tr><th scope=row>ZSWIM4</th><td> 2</td><td> 11</td><td>  5</td><td> 16</td><td>  9</td><td>  9</td><td> 17</td><td> 16</td><td>  50</td><td> 35</td><td>⋯</td><td>  2</td><td>  3</td><td>  8</td><td>  9</td><td> 3</td><td>  4</td><td>  6</td><td>  6</td><td>  2</td><td>  4</td></tr>\n",
       "\t<tr><th scope=row>ZSWIM5</th><td> 9</td><td> 14</td><td> 19</td><td> 41</td><td> 13</td><td> 19</td><td> 23</td><td> 32</td><td> 119</td><td> 41</td><td>⋯</td><td>  8</td><td>  4</td><td>  4</td><td> 18</td><td> 1</td><td>  9</td><td> 10</td><td> 13</td><td>  5</td><td>  5</td></tr>\n",
       "\t<tr><th scope=row>ZSWIM6</th><td>22</td><td> 45</td><td> 85</td><td>171</td><td> 46</td><td> 66</td><td> 86</td><td>117</td><td> 523</td><td>236</td><td>⋯</td><td> 21</td><td> 27</td><td> 24</td><td> 77</td><td> 8</td><td> 64</td><td> 32</td><td> 53</td><td> 25</td><td> 27</td></tr>\n",
       "\t<tr><th scope=row>ZSWIM7</th><td>16</td><td> 41</td><td> 44</td><td>116</td><td> 26</td><td> 49</td><td> 40</td><td> 60</td><td> 248</td><td> 85</td><td>⋯</td><td> 34</td><td> 41</td><td> 61</td><td>132</td><td>13</td><td> 72</td><td> 79</td><td>116</td><td> 32</td><td> 39</td></tr>\n",
       "\t<tr><th scope=row>ZSWIM8</th><td>20</td><td> 39</td><td> 32</td><td> 96</td><td> 25</td><td> 44</td><td> 53</td><td> 65</td><td> 256</td><td> 98</td><td>⋯</td><td> 39</td><td> 22</td><td> 46</td><td>118</td><td>21</td><td> 56</td><td> 48</td><td> 84</td><td> 29</td><td> 30</td></tr>\n",
       "\t<tr><th scope=row>ZSWIM9</th><td> 2</td><td>  7</td><td> 14</td><td> 30</td><td>  5</td><td>  6</td><td> 17</td><td> 13</td><td>  56</td><td> 31</td><td>⋯</td><td> 13</td><td>  9</td><td> 22</td><td> 30</td><td> 7</td><td> 24</td><td> 14</td><td> 39</td><td> 17</td><td>  8</td></tr>\n",
       "\t<tr><th scope=row>ZUP1</th><td> 9</td><td> 30</td><td> 47</td><td>113</td><td> 25</td><td> 53</td><td> 52</td><td> 47</td><td> 210</td><td> 80</td><td>⋯</td><td> 10</td><td>  5</td><td> 22</td><td> 36</td><td> 2</td><td> 12</td><td> 18</td><td> 36</td><td>  6</td><td>  7</td></tr>\n",
       "\t<tr><th scope=row>ZW10</th><td> 3</td><td> 13</td><td> 10</td><td> 41</td><td>  7</td><td>  8</td><td> 11</td><td> 18</td><td>  57</td><td> 12</td><td>⋯</td><td>  7</td><td>  9</td><td> 11</td><td> 14</td><td> 3</td><td> 10</td><td> 12</td><td> 16</td><td> 13</td><td>  7</td></tr>\n",
       "\t<tr><th scope=row>ZWILCH</th><td>25</td><td> 57</td><td> 60</td><td>193</td><td> 28</td><td> 60</td><td> 71</td><td> 35</td><td> 228</td><td>100</td><td>⋯</td><td> 10</td><td>  8</td><td> 12</td><td> 36</td><td> 1</td><td> 11</td><td> 22</td><td> 23</td><td>  9</td><td>  7</td></tr>\n",
       "\t<tr><th scope=row>ZWINT</th><td> 5</td><td>  7</td><td>  5</td><td> 37</td><td>  6</td><td> 10</td><td> 18</td><td>  3</td><td>  41</td><td>  8</td><td>⋯</td><td>  5</td><td>  1</td><td>  6</td><td> 11</td><td> 1</td><td>  9</td><td> 13</td><td>  8</td><td>  5</td><td>  3</td></tr>\n",
       "\t<tr><th scope=row>ZXDA</th><td> 0</td><td>  1</td><td>  3</td><td>  2</td><td>  3</td><td>  0</td><td>  2</td><td>  2</td><td>  11</td><td>  5</td><td>⋯</td><td>  0</td><td>  0</td><td>  1</td><td>  3</td><td> 0</td><td>  1</td><td>  1</td><td>  3</td><td>  1</td><td>  0</td></tr>\n",
       "\t<tr><th scope=row>ZXDB</th><td> 6</td><td> 35</td><td> 36</td><td>103</td><td> 24</td><td> 30</td><td> 42</td><td> 26</td><td> 139</td><td> 65</td><td>⋯</td><td> 13</td><td> 13</td><td> 17</td><td> 43</td><td> 7</td><td>  9</td><td> 21</td><td> 40</td><td> 14</td><td> 18</td></tr>\n",
       "\t<tr><th scope=row>ZXDC</th><td> 1</td><td>  2</td><td>  6</td><td> 19</td><td>  8</td><td>  9</td><td>  8</td><td>  6</td><td>  15</td><td>  9</td><td>⋯</td><td>  7</td><td>  8</td><td>  7</td><td> 20</td><td> 3</td><td> 10</td><td> 13</td><td>  8</td><td>  5</td><td>  8</td></tr>\n",
       "\t<tr><th scope=row>ZYG11A</th><td> 0</td><td>  0</td><td>  3</td><td>  3</td><td>  0</td><td>  0</td><td>  1</td><td>  0</td><td>   1</td><td>  0</td><td>⋯</td><td>  0</td><td>  0</td><td>  0</td><td>  0</td><td> 0</td><td>  1</td><td>  0</td><td>  0</td><td>  1</td><td>  0</td></tr>\n",
       "\t<tr><th scope=row>ZYG11B</th><td>87</td><td>239</td><td>245</td><td>744</td><td>148</td><td>282</td><td>282</td><td>416</td><td>2125</td><td>850</td><td>⋯</td><td>149</td><td>121</td><td>177</td><td>389</td><td>62</td><td>144</td><td>235</td><td>355</td><td>107</td><td>122</td></tr>\n",
       "\t<tr><th scope=row>ZYX</th><td>32</td><td> 93</td><td>129</td><td>313</td><td> 85</td><td>109</td><td>120</td><td>121</td><td> 536</td><td>158</td><td>⋯</td><td> 64</td><td> 80</td><td> 88</td><td>185</td><td>35</td><td> 67</td><td> 99</td><td>231</td><td> 67</td><td> 99</td></tr>\n",
       "\t<tr><th scope=row>ZZEF1</th><td> 6</td><td> 21</td><td> 26</td><td> 89</td><td> 19</td><td> 29</td><td> 43</td><td> 27</td><td> 137</td><td> 45</td><td>⋯</td><td> 22</td><td> 13</td><td> 21</td><td> 59</td><td> 8</td><td> 34</td><td> 29</td><td> 33</td><td> 14</td><td> 20</td></tr>\n",
       "</tbody>\n",
       "</table>\n",
       "</dd>\n",
       "\t<dt>$samples</dt>\n",
       "\t\t<dd><table class=\"dataframe\">\n",
       "<caption>A data.frame: 111 × 3</caption>\n",
       "<thead>\n",
       "\t<tr><th></th><th scope=col>group</th><th scope=col>lib.size</th><th scope=col>norm.factors</th></tr>\n",
       "\t<tr><th></th><th scope=col>&lt;fct&gt;</th><th scope=col>&lt;dbl&gt;</th><th scope=col>&lt;dbl&gt;</th></tr>\n",
       "</thead>\n",
       "<tbody>\n",
       "\t<tr><th scope=row>WM.human_759</th><td>human</td><td> 733032</td><td>1</td></tr>\n",
       "\t<tr><th scope=row>L5.human_759</th><td>human</td><td>1752562</td><td>1</td></tr>\n",
       "\t<tr><th scope=row>L2.human_759</th><td>human</td><td>1939829</td><td>1</td></tr>\n",
       "\t<tr><th scope=row>L3.human_759</th><td>human</td><td>5409067</td><td>1</td></tr>\n",
       "\t<tr><th scope=row>L1.human_759</th><td>human</td><td>1386297</td><td>1</td></tr>\n",
       "\t<tr><th scope=row>L6.human_759</th><td>human</td><td>2162402</td><td>1</td></tr>\n",
       "\t<tr><th scope=row>L4.human_759</th><td>human</td><td>2312956</td><td>1</td></tr>\n",
       "\t<tr><th scope=row>WM.human_j12</th><td>human</td><td>2327923</td><td>1</td></tr>\n",
       "\t<tr><th scope=row>L3.human_j12</th><td>human</td><td>9103719</td><td>1</td></tr>\n",
       "\t<tr><th scope=row>L4.human_j12</th><td>human</td><td>3520496</td><td>1</td></tr>\n",
       "\t<tr><th scope=row>L1.human_j12</th><td>human</td><td>1155734</td><td>1</td></tr>\n",
       "\t<tr><th scope=row>L5.human_j12</th><td>human</td><td>2977349</td><td>1</td></tr>\n",
       "\t<tr><th scope=row>L2.human_j12</th><td>human</td><td>2024934</td><td>1</td></tr>\n",
       "\t<tr><th scope=row>L6.human_j12</th><td>human</td><td>1480505</td><td>1</td></tr>\n",
       "\t<tr><th scope=row>WM.human_j3</th><td>human</td><td>2369699</td><td>1</td></tr>\n",
       "\t<tr><th scope=row>L3.human_j3</th><td>human</td><td>3268756</td><td>1</td></tr>\n",
       "\t<tr><th scope=row>L6.human_j3</th><td>human</td><td>2413563</td><td>1</td></tr>\n",
       "\t<tr><th scope=row>L5.human_j3</th><td>human</td><td>4285980</td><td>1</td></tr>\n",
       "\t<tr><th scope=row>L1.human_j3</th><td>human</td><td> 530336</td><td>1</td></tr>\n",
       "\t<tr><th scope=row>L4.human_j3</th><td>human</td><td>4681564</td><td>1</td></tr>\n",
       "\t<tr><th scope=row>L2.human_j3</th><td>human</td><td>1840478</td><td>1</td></tr>\n",
       "\t<tr><th scope=row>L4.human_j4</th><td>human</td><td>6913980</td><td>1</td></tr>\n",
       "\t<tr><th scope=row>L5.human_j4</th><td>human</td><td>4183222</td><td>1</td></tr>\n",
       "\t<tr><th scope=row>WM.human_j4</th><td>human</td><td>1220788</td><td>1</td></tr>\n",
       "\t<tr><th scope=row>L3.human_j4</th><td>human</td><td>9859047</td><td>1</td></tr>\n",
       "\t<tr><th scope=row>L2.human_j4</th><td>human</td><td>2362265</td><td>1</td></tr>\n",
       "\t<tr><th scope=row>L1.human_j4</th><td>human</td><td>1026601</td><td>1</td></tr>\n",
       "\t<tr><th scope=row>L6.human_j4</th><td>human</td><td>1613532</td><td>1</td></tr>\n",
       "\t<tr><th scope=row>WM.human_j6</th><td>human</td><td>1147121</td><td>1</td></tr>\n",
       "\t<tr><th scope=row>L2.human_j6</th><td>human</td><td> 707371</td><td>1</td></tr>\n",
       "\t<tr><th scope=row>⋮</th><td>⋮</td><td>⋮</td><td>⋮</td></tr>\n",
       "\t<tr><th scope=row>L4.151672</th><td>spatial_libd_human</td><td>1065705</td><td>1</td></tr>\n",
       "\t<tr><th scope=row>WM.151672</th><td>spatial_libd_human</td><td> 309208</td><td>1</td></tr>\n",
       "\t<tr><th scope=row>L3.151673</th><td>spatial_libd_human</td><td>5374415</td><td>1</td></tr>\n",
       "\t<tr><th scope=row>L1.151673</th><td>spatial_libd_human</td><td> 399606</td><td>1</td></tr>\n",
       "\t<tr><th scope=row>WM.151673</th><td>spatial_libd_human</td><td>1705634</td><td>1</td></tr>\n",
       "\t<tr><th scope=row>L5.151673</th><td>spatial_libd_human</td><td>3250222</td><td>1</td></tr>\n",
       "\t<tr><th scope=row>L6.151673</th><td>spatial_libd_human</td><td>2371122</td><td>1</td></tr>\n",
       "\t<tr><th scope=row>L2.151673</th><td>spatial_libd_human</td><td>1296546</td><td>1</td></tr>\n",
       "\t<tr><th scope=row>L4.151673</th><td>spatial_libd_human</td><td>1059994</td><td>1</td></tr>\n",
       "\t<tr><th scope=row>L3.151674</th><td>spatial_libd_human</td><td>6502280</td><td>1</td></tr>\n",
       "\t<tr><th scope=row>L1.151674</th><td>spatial_libd_human</td><td>1085134</td><td>1</td></tr>\n",
       "\t<tr><th scope=row>WM.151674</th><td>spatial_libd_human</td><td>2775275</td><td>1</td></tr>\n",
       "\t<tr><th scope=row>L5.151674</th><td>spatial_libd_human</td><td>4005336</td><td>1</td></tr>\n",
       "\t<tr><th scope=row>L6.151674</th><td>spatial_libd_human</td><td>2716110</td><td>1</td></tr>\n",
       "\t<tr><th scope=row>L2.151674</th><td>spatial_libd_human</td><td>1507225</td><td>1</td></tr>\n",
       "\t<tr><th scope=row>L4.151674</th><td>spatial_libd_human</td><td>1622822</td><td>1</td></tr>\n",
       "\t<tr><th scope=row>L1.151675</th><td>spatial_libd_human</td><td> 340444</td><td>1</td></tr>\n",
       "\t<tr><th scope=row>L3.151675</th><td>spatial_libd_human</td><td>2911275</td><td>1</td></tr>\n",
       "\t<tr><th scope=row>WM.151675</th><td>spatial_libd_human</td><td>1650105</td><td>1</td></tr>\n",
       "\t<tr><th scope=row>L5.151675</th><td>spatial_libd_human</td><td>2824141</td><td>1</td></tr>\n",
       "\t<tr><th scope=row>L2.151675</th><td>spatial_libd_human</td><td>1154176</td><td>1</td></tr>\n",
       "\t<tr><th scope=row>L4.151675</th><td>spatial_libd_human</td><td> 943251</td><td>1</td></tr>\n",
       "\t<tr><th scope=row>L6.151675</th><td>spatial_libd_human</td><td>1312066</td><td>1</td></tr>\n",
       "\t<tr><th scope=row>L3.151676</th><td>spatial_libd_human</td><td>3351904</td><td>1</td></tr>\n",
       "\t<tr><th scope=row>L1.151676</th><td>spatial_libd_human</td><td> 467871</td><td>1</td></tr>\n",
       "\t<tr><th scope=row>WM.151676</th><td>spatial_libd_human</td><td>1498058</td><td>1</td></tr>\n",
       "\t<tr><th scope=row>L6.151676</th><td>spatial_libd_human</td><td>1696219</td><td>1</td></tr>\n",
       "\t<tr><th scope=row>L5.151676</th><td>spatial_libd_human</td><td>2743528</td><td>1</td></tr>\n",
       "\t<tr><th scope=row>L2.151676</th><td>spatial_libd_human</td><td>1039598</td><td>1</td></tr>\n",
       "\t<tr><th scope=row>L4.151676</th><td>spatial_libd_human</td><td>1063503</td><td>1</td></tr>\n",
       "</tbody>\n",
       "</table>\n",
       "</dd>\n",
       "</dl>\n"
      ],
      "text/latex": [
       "\\begin{description}\n",
       "\\item[\\$counts] A matrix: 19404 × 111 of type dbl\n",
       "\\begin{tabular}{r|lllllllllllllllllllll}\n",
       "  & WM.human\\_759 & L5.human\\_759 & L2.human\\_759 & L3.human\\_759 & L1.human\\_759 & L6.human\\_759 & L4.human\\_759 & WM.human\\_j12 & L3.human\\_j12 & L4.human\\_j12 & ⋯ & L2.151675 & L4.151675 & L6.151675 & L3.151676 & L1.151676 & WM.151676 & L6.151676 & L5.151676 & L2.151676 & L4.151676\\\\\n",
       "\\hline\n",
       "\tA1BG &  48 & 106 & 183 &  517 &  72 & 171 & 207 &  90 &  481 &  172 & ⋯ &  46 &  27 &  54 & 116 & 14 & 110 &  59 &  78 &  52 &  37\\\\\n",
       "\tA1CF &   0 &   0 &   1 &   13 &   1 &   0 &   0 &   0 &    5 &    1 & ⋯ &   0 &   0 &   0 &   0 &  0 &   0 &   0 &   0 &   0 &   0\\\\\n",
       "\tA2M & 107 & 207 & 173 &  564 & 282 & 248 & 256 & 226 &  360 &  134 & ⋯ & 139 & 101 & 172 & 401 & 98 & 210 & 209 & 321 & 107 & 113\\\\\n",
       "\tA2ML1 &   1 &   1 &   4 &    3 &   5 &   1 &   7 &   1 &    1 &    2 & ⋯ &   1 &   1 &   0 &   2 &  0 &   4 &   0 &   3 &   0 &   0\\\\\n",
       "\tA3GALT2 &   0 &   0 &   0 &    0 &   0 &   0 &   0 &   0 &    0 &    0 & ⋯ &   0 &   0 &   0 &   0 &  0 &   0 &   0 &   0 &   0 &   0\\\\\n",
       "\tA4GALT &   0 &   0 &   4 &   11 &   2 &   1 &   2 &   4 &    3 &    5 & ⋯ &   5 &   2 &   1 &   9 &  1 &   3 &   5 &   7 &   6 &   1\\\\\n",
       "\tA4GNT &   0 &   0 &   0 &    0 &   0 &   0 &   0 &   0 &    0 &    0 & ⋯ &   0 &   0 &   0 &   0 &  0 &   0 &   0 &   0 &   0 &   0\\\\\n",
       "\tAAAS &   9 &  17 &  17 &   46 &  28 &  25 &  22 &  37 &  130 &   49 & ⋯ &  18 &  15 &  31 &  59 &  9 &  41 &  33 &  33 &  15 &  15\\\\\n",
       "\tAACS &  40 &  94 &  85 &  262 &  54 & 135 & 115 &  77 &  296 &  120 & ⋯ &  80 &  57 &  87 & 192 & 26 &  50 &  98 & 157 &  59 &  62\\\\\n",
       "\tAADAC &   0 &   0 &   0 &    0 &   0 &   0 &   0 &   0 &    0 &    0 & ⋯ &   0 &   0 &   0 &   0 &  0 &   0 &   0 &   0 &   0 &   0\\\\\n",
       "\tAADACL2 &   0 &   0 &   0 &    0 &   0 &   0 &   0 &   0 &    0 &    0 & ⋯ &   0 &   0 &   0 &   0 &  0 &   0 &   0 &   0 &   0 &   0\\\\\n",
       "\tAADACL3 &   0 &   0 &   0 &    0 &   0 &   0 &   0 &   0 &    0 &    0 & ⋯ &   0 &   0 &   0 &   0 &  0 &   0 &   0 &   0 &   0 &   0\\\\\n",
       "\tAADACL4 &   0 &   0 &   0 &    0 &   0 &   0 &   0 &   0 &    0 &    0 & ⋯ &   0 &   0 &   0 &   0 &  0 &   0 &   0 &   0 &   0 &   0\\\\\n",
       "\tAADAT &  18 &  56 &  58 &  187 &  43 &  70 &  64 &  44 &  312 &   98 & ⋯ &  11 &  10 &  13 &  51 & 10 &  12 &  12 &  38 &   9 &   7\\\\\n",
       "\tAAGAB &  21 &  53 &  58 &  169 &  23 &  48 &  63 &  41 &  233 &   79 & ⋯ &  44 &  42 &  54 & 141 & 14 &  48 &  60 &  99 &  46 &  38\\\\\n",
       "\tAAK1 &  61 & 184 & 187 &  594 &  90 & 208 & 284 & 239 &  961 &  386 & ⋯ & 126 & 127 & 142 & 441 & 56 & 119 & 181 & 361 & 125 & 144\\\\\n",
       "\tAAMDC &   4 &  10 &   5 &   42 &  19 &  17 &  14 &  54 &   80 &   36 & ⋯ &  24 &  12 &  27 &  52 &  7 &  55 &  28 &  22 &  13 &  14\\\\\n",
       "\tAAMP &  55 & 116 & 134 &  360 &  80 & 136 & 191 & 167 &  673 &  251 & ⋯ &  94 &  92 & 113 & 295 & 32 & 105 & 142 & 240 &  94 &  93\\\\\n",
       "\tAANAT &   0 &   1 &   2 &    7 &   2 &   0 &   1 &   1 &    0 &    0 & ⋯ &   0 &   0 &   0 &   3 &  0 &   2 &   1 &   2 &   2 &   0\\\\\n",
       "\tAAR2 &  13 &  35 &  47 &  134 &  25 &  46 &  61 &  48 &  223 &   88 & ⋯ &  19 &  16 &  24 &  45 &  9 &  31 &  27 &  35 &  11 &  20\\\\\n",
       "\tAARD &   5 &   5 &  15 &   38 &   8 &   8 &  13 &  13 &   79 &   25 & ⋯ &   3 &   1 &   5 &  10 &  0 &   3 &  10 &   8 &   2 &   3\\\\\n",
       "\tAARS2 &   4 &  17 &  22 &   68 &   9 &  23 &  22 &  21 &  106 &   43 & ⋯ &  13 &   5 &   8 &  25 &  1 &   6 &  11 &  15 &   5 &   3\\\\\n",
       "\tAARSD1 &   6 &   7 &   8 &   14 &   2 &   9 &   8 &   7 &   43 &   17 & ⋯ &  10 &   2 &   5 &  19 &  2 &   4 &   4 &  10 &   8 &   9\\\\\n",
       "\tAASDH &   6 &  14 &  16 &   33 &   6 &  16 &  19 &  29 &   77 &   31 & ⋯ &  14 &   8 &  18 &  28 &  5 &   9 &  14 &  22 &  10 &  10\\\\\n",
       "\tAASDHPPT & 113 & 314 & 397 & 1145 & 189 & 428 & 482 & 375 & 2511 & 1023 & ⋯ & 149 & 106 & 149 & 409 & 48 & 127 & 167 & 349 & 137 & 140\\\\\n",
       "\tAASS &   0 &  11 &   8 &   19 &   8 &  13 &   6 &  40 &   29 &    9 & ⋯ &   3 &   1 &   2 &   2 &  0 &   3 &   1 &   5 &   0 &   0\\\\\n",
       "\tAATF &   7 &  20 &  16 &   85 &  16 &  31 &  30 &  58 &  141 &   61 & ⋯ &  21 &  13 &  28 &  61 & 11 &  35 &  32 &  50 &  20 &  18\\\\\n",
       "\tAATK &  15 &  48 &  45 &  114 &  26 &  75 &  57 &  85 &  240 &  109 & ⋯ &  75 &  73 & 129 & 248 & 25 & 360 & 192 & 243 &  66 &  93\\\\\n",
       "\tABAT & 115 & 275 & 262 &  784 & 238 & 388 & 401 & 336 & 1154 &  534 & ⋯ & 177 & 172 & 186 & 533 & 66 & 163 & 259 & 477 & 156 & 167\\\\\n",
       "\tABCA1 &   4 &   9 &  14 &   25 &  25 &  13 &  14 &  75 &   53 &   22 & ⋯ &   3 &   4 &  10 &  28 &  5 &  15 &  15 &  18 &   8 &  10\\\\\n",
       "\t⋮ & ⋮ & ⋮ & ⋮ & ⋮ & ⋮ & ⋮ & ⋮ & ⋮ & ⋮ & ⋮ & ⋱ & ⋮ & ⋮ & ⋮ & ⋮ & ⋮ & ⋮ & ⋮ & ⋮ & ⋮ & ⋮\\\\\n",
       "\tZSCAN26 & 11 &  19 &  30 &  69 &  21 &  22 &  28 &  30 &  124 &  57 & ⋯ &   9 &   4 &  15 &  36 &  6 &  22 &  15 &  12 &   2 &  12\\\\\n",
       "\tZSCAN29 &  7 &  10 &  17 &  57 &  12 &  18 &  38 &  14 &   77 &  34 & ⋯ &  13 &  13 &  13 &  44 &  5 &  22 &  11 &  19 &  18 &  10\\\\\n",
       "\tZSCAN30 &  7 &  15 &  24 &  47 &  14 &  25 &  18 &  23 &   80 &  21 & ⋯ &   6 &   4 &   6 &  21 &  4 &  19 &  17 &  22 &   6 &   7\\\\\n",
       "\tZSCAN31 &  4 &   5 &  11 &  12 &   4 &   7 &  13 &   4 &   30 &  13 & ⋯ &   9 &   5 &  14 &  17 &  2 &  13 &  14 &  15 &   8 &   8\\\\\n",
       "\tZSCAN32 & 11 &  16 &  13 &  38 &  16 &  18 &  21 &  18 &   61 &  15 & ⋯ &   5 &   3 &   7 &  21 &  3 &  21 &  13 &  16 &   9 &   4\\\\\n",
       "\tZSCAN4 &  0 &   0 &   0 &   0 &   1 &   1 &   0 &   0 &    0 &   0 & ⋯ &   0 &   0 &   0 &   0 &  0 &   0 &   0 &   0 &   0 &   0\\\\\n",
       "\tZSCAN5A &  4 &   7 &   4 &  19 &   5 &   6 &  12 &   4 &    7 &   1 & ⋯ &  14 &   5 &  17 &  35 &  5 &   6 &  12 &  17 &  10 &   6\\\\\n",
       "\tZSCAN5B &  0 &   0 &   0 &   0 &   0 &   0 &   0 &   0 &    1 &   0 & ⋯ &   0 &   0 &   0 &   0 &  0 &   0 &   0 &   0 &   0 &   1\\\\\n",
       "\tZSCAN5C &  0 &   0 &   0 &   0 &   0 &   0 &   0 &   0 &    0 &   0 & ⋯ &   0 &   0 &   0 &   0 &  0 &   0 &   0 &   0 &   0 &   0\\\\\n",
       "\tZSCAN9 &  5 &   7 &  26 &  45 &   8 &  14 &  11 &  15 &   62 &  26 & ⋯ &   7 &   1 &   1 &  11 &  0 &   5 &   7 &   5 &   5 &   3\\\\\n",
       "\tZSWIM1 &  2 &  11 &  12 &  48 &   6 &  17 &  15 &  16 &   77 &  24 & ⋯ &   7 &   5 &   8 &  15 &  1 &   7 &  14 &  10 &   7 &   3\\\\\n",
       "\tZSWIM2 &  0 &   0 &   0 &   0 &   0 &   0 &   1 &   0 &    0 &   0 & ⋯ &   1 &   0 &   0 &   0 &  0 &   0 &   0 &   0 &   1 &   0\\\\\n",
       "\tZSWIM3 &  4 &   5 &   7 &  20 &   3 &   8 &   8 &  13 &   52 &  25 & ⋯ &   5 &   4 &   3 &  13 &  1 &   5 &   4 &  10 &   5 &   4\\\\\n",
       "\tZSWIM4 &  2 &  11 &   5 &  16 &   9 &   9 &  17 &  16 &   50 &  35 & ⋯ &   2 &   3 &   8 &   9 &  3 &   4 &   6 &   6 &   2 &   4\\\\\n",
       "\tZSWIM5 &  9 &  14 &  19 &  41 &  13 &  19 &  23 &  32 &  119 &  41 & ⋯ &   8 &   4 &   4 &  18 &  1 &   9 &  10 &  13 &   5 &   5\\\\\n",
       "\tZSWIM6 & 22 &  45 &  85 & 171 &  46 &  66 &  86 & 117 &  523 & 236 & ⋯ &  21 &  27 &  24 &  77 &  8 &  64 &  32 &  53 &  25 &  27\\\\\n",
       "\tZSWIM7 & 16 &  41 &  44 & 116 &  26 &  49 &  40 &  60 &  248 &  85 & ⋯ &  34 &  41 &  61 & 132 & 13 &  72 &  79 & 116 &  32 &  39\\\\\n",
       "\tZSWIM8 & 20 &  39 &  32 &  96 &  25 &  44 &  53 &  65 &  256 &  98 & ⋯ &  39 &  22 &  46 & 118 & 21 &  56 &  48 &  84 &  29 &  30\\\\\n",
       "\tZSWIM9 &  2 &   7 &  14 &  30 &   5 &   6 &  17 &  13 &   56 &  31 & ⋯ &  13 &   9 &  22 &  30 &  7 &  24 &  14 &  39 &  17 &   8\\\\\n",
       "\tZUP1 &  9 &  30 &  47 & 113 &  25 &  53 &  52 &  47 &  210 &  80 & ⋯ &  10 &   5 &  22 &  36 &  2 &  12 &  18 &  36 &   6 &   7\\\\\n",
       "\tZW10 &  3 &  13 &  10 &  41 &   7 &   8 &  11 &  18 &   57 &  12 & ⋯ &   7 &   9 &  11 &  14 &  3 &  10 &  12 &  16 &  13 &   7\\\\\n",
       "\tZWILCH & 25 &  57 &  60 & 193 &  28 &  60 &  71 &  35 &  228 & 100 & ⋯ &  10 &   8 &  12 &  36 &  1 &  11 &  22 &  23 &   9 &   7\\\\\n",
       "\tZWINT &  5 &   7 &   5 &  37 &   6 &  10 &  18 &   3 &   41 &   8 & ⋯ &   5 &   1 &   6 &  11 &  1 &   9 &  13 &   8 &   5 &   3\\\\\n",
       "\tZXDA &  0 &   1 &   3 &   2 &   3 &   0 &   2 &   2 &   11 &   5 & ⋯ &   0 &   0 &   1 &   3 &  0 &   1 &   1 &   3 &   1 &   0\\\\\n",
       "\tZXDB &  6 &  35 &  36 & 103 &  24 &  30 &  42 &  26 &  139 &  65 & ⋯ &  13 &  13 &  17 &  43 &  7 &   9 &  21 &  40 &  14 &  18\\\\\n",
       "\tZXDC &  1 &   2 &   6 &  19 &   8 &   9 &   8 &   6 &   15 &   9 & ⋯ &   7 &   8 &   7 &  20 &  3 &  10 &  13 &   8 &   5 &   8\\\\\n",
       "\tZYG11A &  0 &   0 &   3 &   3 &   0 &   0 &   1 &   0 &    1 &   0 & ⋯ &   0 &   0 &   0 &   0 &  0 &   1 &   0 &   0 &   1 &   0\\\\\n",
       "\tZYG11B & 87 & 239 & 245 & 744 & 148 & 282 & 282 & 416 & 2125 & 850 & ⋯ & 149 & 121 & 177 & 389 & 62 & 144 & 235 & 355 & 107 & 122\\\\\n",
       "\tZYX & 32 &  93 & 129 & 313 &  85 & 109 & 120 & 121 &  536 & 158 & ⋯ &  64 &  80 &  88 & 185 & 35 &  67 &  99 & 231 &  67 &  99\\\\\n",
       "\tZZEF1 &  6 &  21 &  26 &  89 &  19 &  29 &  43 &  27 &  137 &  45 & ⋯ &  22 &  13 &  21 &  59 &  8 &  34 &  29 &  33 &  14 &  20\\\\\n",
       "\\end{tabular}\n",
       "\n",
       "\\item[\\$samples] A data.frame: 111 × 3\n",
       "\\begin{tabular}{r|lll}\n",
       "  & group & lib.size & norm.factors\\\\\n",
       "  & <fct> & <dbl> & <dbl>\\\\\n",
       "\\hline\n",
       "\tWM.human\\_759 & human &  733032 & 1\\\\\n",
       "\tL5.human\\_759 & human & 1752562 & 1\\\\\n",
       "\tL2.human\\_759 & human & 1939829 & 1\\\\\n",
       "\tL3.human\\_759 & human & 5409067 & 1\\\\\n",
       "\tL1.human\\_759 & human & 1386297 & 1\\\\\n",
       "\tL6.human\\_759 & human & 2162402 & 1\\\\\n",
       "\tL4.human\\_759 & human & 2312956 & 1\\\\\n",
       "\tWM.human\\_j12 & human & 2327923 & 1\\\\\n",
       "\tL3.human\\_j12 & human & 9103719 & 1\\\\\n",
       "\tL4.human\\_j12 & human & 3520496 & 1\\\\\n",
       "\tL1.human\\_j12 & human & 1155734 & 1\\\\\n",
       "\tL5.human\\_j12 & human & 2977349 & 1\\\\\n",
       "\tL2.human\\_j12 & human & 2024934 & 1\\\\\n",
       "\tL6.human\\_j12 & human & 1480505 & 1\\\\\n",
       "\tWM.human\\_j3 & human & 2369699 & 1\\\\\n",
       "\tL3.human\\_j3 & human & 3268756 & 1\\\\\n",
       "\tL6.human\\_j3 & human & 2413563 & 1\\\\\n",
       "\tL5.human\\_j3 & human & 4285980 & 1\\\\\n",
       "\tL1.human\\_j3 & human &  530336 & 1\\\\\n",
       "\tL4.human\\_j3 & human & 4681564 & 1\\\\\n",
       "\tL2.human\\_j3 & human & 1840478 & 1\\\\\n",
       "\tL4.human\\_j4 & human & 6913980 & 1\\\\\n",
       "\tL5.human\\_j4 & human & 4183222 & 1\\\\\n",
       "\tWM.human\\_j4 & human & 1220788 & 1\\\\\n",
       "\tL3.human\\_j4 & human & 9859047 & 1\\\\\n",
       "\tL2.human\\_j4 & human & 2362265 & 1\\\\\n",
       "\tL1.human\\_j4 & human & 1026601 & 1\\\\\n",
       "\tL6.human\\_j4 & human & 1613532 & 1\\\\\n",
       "\tWM.human\\_j6 & human & 1147121 & 1\\\\\n",
       "\tL2.human\\_j6 & human &  707371 & 1\\\\\n",
       "\t⋮ & ⋮ & ⋮ & ⋮\\\\\n",
       "\tL4.151672 & spatial\\_libd\\_human & 1065705 & 1\\\\\n",
       "\tWM.151672 & spatial\\_libd\\_human &  309208 & 1\\\\\n",
       "\tL3.151673 & spatial\\_libd\\_human & 5374415 & 1\\\\\n",
       "\tL1.151673 & spatial\\_libd\\_human &  399606 & 1\\\\\n",
       "\tWM.151673 & spatial\\_libd\\_human & 1705634 & 1\\\\\n",
       "\tL5.151673 & spatial\\_libd\\_human & 3250222 & 1\\\\\n",
       "\tL6.151673 & spatial\\_libd\\_human & 2371122 & 1\\\\\n",
       "\tL2.151673 & spatial\\_libd\\_human & 1296546 & 1\\\\\n",
       "\tL4.151673 & spatial\\_libd\\_human & 1059994 & 1\\\\\n",
       "\tL3.151674 & spatial\\_libd\\_human & 6502280 & 1\\\\\n",
       "\tL1.151674 & spatial\\_libd\\_human & 1085134 & 1\\\\\n",
       "\tWM.151674 & spatial\\_libd\\_human & 2775275 & 1\\\\\n",
       "\tL5.151674 & spatial\\_libd\\_human & 4005336 & 1\\\\\n",
       "\tL6.151674 & spatial\\_libd\\_human & 2716110 & 1\\\\\n",
       "\tL2.151674 & spatial\\_libd\\_human & 1507225 & 1\\\\\n",
       "\tL4.151674 & spatial\\_libd\\_human & 1622822 & 1\\\\\n",
       "\tL1.151675 & spatial\\_libd\\_human &  340444 & 1\\\\\n",
       "\tL3.151675 & spatial\\_libd\\_human & 2911275 & 1\\\\\n",
       "\tWM.151675 & spatial\\_libd\\_human & 1650105 & 1\\\\\n",
       "\tL5.151675 & spatial\\_libd\\_human & 2824141 & 1\\\\\n",
       "\tL2.151675 & spatial\\_libd\\_human & 1154176 & 1\\\\\n",
       "\tL4.151675 & spatial\\_libd\\_human &  943251 & 1\\\\\n",
       "\tL6.151675 & spatial\\_libd\\_human & 1312066 & 1\\\\\n",
       "\tL3.151676 & spatial\\_libd\\_human & 3351904 & 1\\\\\n",
       "\tL1.151676 & spatial\\_libd\\_human &  467871 & 1\\\\\n",
       "\tWM.151676 & spatial\\_libd\\_human & 1498058 & 1\\\\\n",
       "\tL6.151676 & spatial\\_libd\\_human & 1696219 & 1\\\\\n",
       "\tL5.151676 & spatial\\_libd\\_human & 2743528 & 1\\\\\n",
       "\tL2.151676 & spatial\\_libd\\_human & 1039598 & 1\\\\\n",
       "\tL4.151676 & spatial\\_libd\\_human & 1063503 & 1\\\\\n",
       "\\end{tabular}\n",
       "\n",
       "\\end{description}\n"
      ],
      "text/markdown": [
       "$counts\n",
       ":   \n",
       "A matrix: 19404 × 111 of type dbl\n",
       "\n",
       "| <!--/--> | WM.human_759 | L5.human_759 | L2.human_759 | L3.human_759 | L1.human_759 | L6.human_759 | L4.human_759 | WM.human_j12 | L3.human_j12 | L4.human_j12 | ⋯ | L2.151675 | L4.151675 | L6.151675 | L3.151676 | L1.151676 | WM.151676 | L6.151676 | L5.151676 | L2.151676 | L4.151676 |\n",
       "|---|---|---|---|---|---|---|---|---|---|---|---|---|---|---|---|---|---|---|---|---|---|\n",
       "| A1BG |  48 | 106 | 183 |  517 |  72 | 171 | 207 |  90 |  481 |  172 | ⋯ |  46 |  27 |  54 | 116 | 14 | 110 |  59 |  78 |  52 |  37 |\n",
       "| A1CF |   0 |   0 |   1 |   13 |   1 |   0 |   0 |   0 |    5 |    1 | ⋯ |   0 |   0 |   0 |   0 |  0 |   0 |   0 |   0 |   0 |   0 |\n",
       "| A2M | 107 | 207 | 173 |  564 | 282 | 248 | 256 | 226 |  360 |  134 | ⋯ | 139 | 101 | 172 | 401 | 98 | 210 | 209 | 321 | 107 | 113 |\n",
       "| A2ML1 |   1 |   1 |   4 |    3 |   5 |   1 |   7 |   1 |    1 |    2 | ⋯ |   1 |   1 |   0 |   2 |  0 |   4 |   0 |   3 |   0 |   0 |\n",
       "| A3GALT2 |   0 |   0 |   0 |    0 |   0 |   0 |   0 |   0 |    0 |    0 | ⋯ |   0 |   0 |   0 |   0 |  0 |   0 |   0 |   0 |   0 |   0 |\n",
       "| A4GALT |   0 |   0 |   4 |   11 |   2 |   1 |   2 |   4 |    3 |    5 | ⋯ |   5 |   2 |   1 |   9 |  1 |   3 |   5 |   7 |   6 |   1 |\n",
       "| A4GNT |   0 |   0 |   0 |    0 |   0 |   0 |   0 |   0 |    0 |    0 | ⋯ |   0 |   0 |   0 |   0 |  0 |   0 |   0 |   0 |   0 |   0 |\n",
       "| AAAS |   9 |  17 |  17 |   46 |  28 |  25 |  22 |  37 |  130 |   49 | ⋯ |  18 |  15 |  31 |  59 |  9 |  41 |  33 |  33 |  15 |  15 |\n",
       "| AACS |  40 |  94 |  85 |  262 |  54 | 135 | 115 |  77 |  296 |  120 | ⋯ |  80 |  57 |  87 | 192 | 26 |  50 |  98 | 157 |  59 |  62 |\n",
       "| AADAC |   0 |   0 |   0 |    0 |   0 |   0 |   0 |   0 |    0 |    0 | ⋯ |   0 |   0 |   0 |   0 |  0 |   0 |   0 |   0 |   0 |   0 |\n",
       "| AADACL2 |   0 |   0 |   0 |    0 |   0 |   0 |   0 |   0 |    0 |    0 | ⋯ |   0 |   0 |   0 |   0 |  0 |   0 |   0 |   0 |   0 |   0 |\n",
       "| AADACL3 |   0 |   0 |   0 |    0 |   0 |   0 |   0 |   0 |    0 |    0 | ⋯ |   0 |   0 |   0 |   0 |  0 |   0 |   0 |   0 |   0 |   0 |\n",
       "| AADACL4 |   0 |   0 |   0 |    0 |   0 |   0 |   0 |   0 |    0 |    0 | ⋯ |   0 |   0 |   0 |   0 |  0 |   0 |   0 |   0 |   0 |   0 |\n",
       "| AADAT |  18 |  56 |  58 |  187 |  43 |  70 |  64 |  44 |  312 |   98 | ⋯ |  11 |  10 |  13 |  51 | 10 |  12 |  12 |  38 |   9 |   7 |\n",
       "| AAGAB |  21 |  53 |  58 |  169 |  23 |  48 |  63 |  41 |  233 |   79 | ⋯ |  44 |  42 |  54 | 141 | 14 |  48 |  60 |  99 |  46 |  38 |\n",
       "| AAK1 |  61 | 184 | 187 |  594 |  90 | 208 | 284 | 239 |  961 |  386 | ⋯ | 126 | 127 | 142 | 441 | 56 | 119 | 181 | 361 | 125 | 144 |\n",
       "| AAMDC |   4 |  10 |   5 |   42 |  19 |  17 |  14 |  54 |   80 |   36 | ⋯ |  24 |  12 |  27 |  52 |  7 |  55 |  28 |  22 |  13 |  14 |\n",
       "| AAMP |  55 | 116 | 134 |  360 |  80 | 136 | 191 | 167 |  673 |  251 | ⋯ |  94 |  92 | 113 | 295 | 32 | 105 | 142 | 240 |  94 |  93 |\n",
       "| AANAT |   0 |   1 |   2 |    7 |   2 |   0 |   1 |   1 |    0 |    0 | ⋯ |   0 |   0 |   0 |   3 |  0 |   2 |   1 |   2 |   2 |   0 |\n",
       "| AAR2 |  13 |  35 |  47 |  134 |  25 |  46 |  61 |  48 |  223 |   88 | ⋯ |  19 |  16 |  24 |  45 |  9 |  31 |  27 |  35 |  11 |  20 |\n",
       "| AARD |   5 |   5 |  15 |   38 |   8 |   8 |  13 |  13 |   79 |   25 | ⋯ |   3 |   1 |   5 |  10 |  0 |   3 |  10 |   8 |   2 |   3 |\n",
       "| AARS2 |   4 |  17 |  22 |   68 |   9 |  23 |  22 |  21 |  106 |   43 | ⋯ |  13 |   5 |   8 |  25 |  1 |   6 |  11 |  15 |   5 |   3 |\n",
       "| AARSD1 |   6 |   7 |   8 |   14 |   2 |   9 |   8 |   7 |   43 |   17 | ⋯ |  10 |   2 |   5 |  19 |  2 |   4 |   4 |  10 |   8 |   9 |\n",
       "| AASDH |   6 |  14 |  16 |   33 |   6 |  16 |  19 |  29 |   77 |   31 | ⋯ |  14 |   8 |  18 |  28 |  5 |   9 |  14 |  22 |  10 |  10 |\n",
       "| AASDHPPT | 113 | 314 | 397 | 1145 | 189 | 428 | 482 | 375 | 2511 | 1023 | ⋯ | 149 | 106 | 149 | 409 | 48 | 127 | 167 | 349 | 137 | 140 |\n",
       "| AASS |   0 |  11 |   8 |   19 |   8 |  13 |   6 |  40 |   29 |    9 | ⋯ |   3 |   1 |   2 |   2 |  0 |   3 |   1 |   5 |   0 |   0 |\n",
       "| AATF |   7 |  20 |  16 |   85 |  16 |  31 |  30 |  58 |  141 |   61 | ⋯ |  21 |  13 |  28 |  61 | 11 |  35 |  32 |  50 |  20 |  18 |\n",
       "| AATK |  15 |  48 |  45 |  114 |  26 |  75 |  57 |  85 |  240 |  109 | ⋯ |  75 |  73 | 129 | 248 | 25 | 360 | 192 | 243 |  66 |  93 |\n",
       "| ABAT | 115 | 275 | 262 |  784 | 238 | 388 | 401 | 336 | 1154 |  534 | ⋯ | 177 | 172 | 186 | 533 | 66 | 163 | 259 | 477 | 156 | 167 |\n",
       "| ABCA1 |   4 |   9 |  14 |   25 |  25 |  13 |  14 |  75 |   53 |   22 | ⋯ |   3 |   4 |  10 |  28 |  5 |  15 |  15 |  18 |   8 |  10 |\n",
       "| ⋮ | ⋮ | ⋮ | ⋮ | ⋮ | ⋮ | ⋮ | ⋮ | ⋮ | ⋮ | ⋮ | ⋱ | ⋮ | ⋮ | ⋮ | ⋮ | ⋮ | ⋮ | ⋮ | ⋮ | ⋮ | ⋮ |\n",
       "| ZSCAN26 | 11 |  19 |  30 |  69 |  21 |  22 |  28 |  30 |  124 |  57 | ⋯ |   9 |   4 |  15 |  36 |  6 |  22 |  15 |  12 |   2 |  12 |\n",
       "| ZSCAN29 |  7 |  10 |  17 |  57 |  12 |  18 |  38 |  14 |   77 |  34 | ⋯ |  13 |  13 |  13 |  44 |  5 |  22 |  11 |  19 |  18 |  10 |\n",
       "| ZSCAN30 |  7 |  15 |  24 |  47 |  14 |  25 |  18 |  23 |   80 |  21 | ⋯ |   6 |   4 |   6 |  21 |  4 |  19 |  17 |  22 |   6 |   7 |\n",
       "| ZSCAN31 |  4 |   5 |  11 |  12 |   4 |   7 |  13 |   4 |   30 |  13 | ⋯ |   9 |   5 |  14 |  17 |  2 |  13 |  14 |  15 |   8 |   8 |\n",
       "| ZSCAN32 | 11 |  16 |  13 |  38 |  16 |  18 |  21 |  18 |   61 |  15 | ⋯ |   5 |   3 |   7 |  21 |  3 |  21 |  13 |  16 |   9 |   4 |\n",
       "| ZSCAN4 |  0 |   0 |   0 |   0 |   1 |   1 |   0 |   0 |    0 |   0 | ⋯ |   0 |   0 |   0 |   0 |  0 |   0 |   0 |   0 |   0 |   0 |\n",
       "| ZSCAN5A |  4 |   7 |   4 |  19 |   5 |   6 |  12 |   4 |    7 |   1 | ⋯ |  14 |   5 |  17 |  35 |  5 |   6 |  12 |  17 |  10 |   6 |\n",
       "| ZSCAN5B |  0 |   0 |   0 |   0 |   0 |   0 |   0 |   0 |    1 |   0 | ⋯ |   0 |   0 |   0 |   0 |  0 |   0 |   0 |   0 |   0 |   1 |\n",
       "| ZSCAN5C |  0 |   0 |   0 |   0 |   0 |   0 |   0 |   0 |    0 |   0 | ⋯ |   0 |   0 |   0 |   0 |  0 |   0 |   0 |   0 |   0 |   0 |\n",
       "| ZSCAN9 |  5 |   7 |  26 |  45 |   8 |  14 |  11 |  15 |   62 |  26 | ⋯ |   7 |   1 |   1 |  11 |  0 |   5 |   7 |   5 |   5 |   3 |\n",
       "| ZSWIM1 |  2 |  11 |  12 |  48 |   6 |  17 |  15 |  16 |   77 |  24 | ⋯ |   7 |   5 |   8 |  15 |  1 |   7 |  14 |  10 |   7 |   3 |\n",
       "| ZSWIM2 |  0 |   0 |   0 |   0 |   0 |   0 |   1 |   0 |    0 |   0 | ⋯ |   1 |   0 |   0 |   0 |  0 |   0 |   0 |   0 |   1 |   0 |\n",
       "| ZSWIM3 |  4 |   5 |   7 |  20 |   3 |   8 |   8 |  13 |   52 |  25 | ⋯ |   5 |   4 |   3 |  13 |  1 |   5 |   4 |  10 |   5 |   4 |\n",
       "| ZSWIM4 |  2 |  11 |   5 |  16 |   9 |   9 |  17 |  16 |   50 |  35 | ⋯ |   2 |   3 |   8 |   9 |  3 |   4 |   6 |   6 |   2 |   4 |\n",
       "| ZSWIM5 |  9 |  14 |  19 |  41 |  13 |  19 |  23 |  32 |  119 |  41 | ⋯ |   8 |   4 |   4 |  18 |  1 |   9 |  10 |  13 |   5 |   5 |\n",
       "| ZSWIM6 | 22 |  45 |  85 | 171 |  46 |  66 |  86 | 117 |  523 | 236 | ⋯ |  21 |  27 |  24 |  77 |  8 |  64 |  32 |  53 |  25 |  27 |\n",
       "| ZSWIM7 | 16 |  41 |  44 | 116 |  26 |  49 |  40 |  60 |  248 |  85 | ⋯ |  34 |  41 |  61 | 132 | 13 |  72 |  79 | 116 |  32 |  39 |\n",
       "| ZSWIM8 | 20 |  39 |  32 |  96 |  25 |  44 |  53 |  65 |  256 |  98 | ⋯ |  39 |  22 |  46 | 118 | 21 |  56 |  48 |  84 |  29 |  30 |\n",
       "| ZSWIM9 |  2 |   7 |  14 |  30 |   5 |   6 |  17 |  13 |   56 |  31 | ⋯ |  13 |   9 |  22 |  30 |  7 |  24 |  14 |  39 |  17 |   8 |\n",
       "| ZUP1 |  9 |  30 |  47 | 113 |  25 |  53 |  52 |  47 |  210 |  80 | ⋯ |  10 |   5 |  22 |  36 |  2 |  12 |  18 |  36 |   6 |   7 |\n",
       "| ZW10 |  3 |  13 |  10 |  41 |   7 |   8 |  11 |  18 |   57 |  12 | ⋯ |   7 |   9 |  11 |  14 |  3 |  10 |  12 |  16 |  13 |   7 |\n",
       "| ZWILCH | 25 |  57 |  60 | 193 |  28 |  60 |  71 |  35 |  228 | 100 | ⋯ |  10 |   8 |  12 |  36 |  1 |  11 |  22 |  23 |   9 |   7 |\n",
       "| ZWINT |  5 |   7 |   5 |  37 |   6 |  10 |  18 |   3 |   41 |   8 | ⋯ |   5 |   1 |   6 |  11 |  1 |   9 |  13 |   8 |   5 |   3 |\n",
       "| ZXDA |  0 |   1 |   3 |   2 |   3 |   0 |   2 |   2 |   11 |   5 | ⋯ |   0 |   0 |   1 |   3 |  0 |   1 |   1 |   3 |   1 |   0 |\n",
       "| ZXDB |  6 |  35 |  36 | 103 |  24 |  30 |  42 |  26 |  139 |  65 | ⋯ |  13 |  13 |  17 |  43 |  7 |   9 |  21 |  40 |  14 |  18 |\n",
       "| ZXDC |  1 |   2 |   6 |  19 |   8 |   9 |   8 |   6 |   15 |   9 | ⋯ |   7 |   8 |   7 |  20 |  3 |  10 |  13 |   8 |   5 |   8 |\n",
       "| ZYG11A |  0 |   0 |   3 |   3 |   0 |   0 |   1 |   0 |    1 |   0 | ⋯ |   0 |   0 |   0 |   0 |  0 |   1 |   0 |   0 |   1 |   0 |\n",
       "| ZYG11B | 87 | 239 | 245 | 744 | 148 | 282 | 282 | 416 | 2125 | 850 | ⋯ | 149 | 121 | 177 | 389 | 62 | 144 | 235 | 355 | 107 | 122 |\n",
       "| ZYX | 32 |  93 | 129 | 313 |  85 | 109 | 120 | 121 |  536 | 158 | ⋯ |  64 |  80 |  88 | 185 | 35 |  67 |  99 | 231 |  67 |  99 |\n",
       "| ZZEF1 |  6 |  21 |  26 |  89 |  19 |  29 |  43 |  27 |  137 |  45 | ⋯ |  22 |  13 |  21 |  59 |  8 |  34 |  29 |  33 |  14 |  20 |\n",
       "\n",
       "\n",
       "$samples\n",
       ":   \n",
       "A data.frame: 111 × 3\n",
       "\n",
       "| <!--/--> | group &lt;fct&gt; | lib.size &lt;dbl&gt; | norm.factors &lt;dbl&gt; |\n",
       "|---|---|---|---|\n",
       "| WM.human_759 | human |  733032 | 1 |\n",
       "| L5.human_759 | human | 1752562 | 1 |\n",
       "| L2.human_759 | human | 1939829 | 1 |\n",
       "| L3.human_759 | human | 5409067 | 1 |\n",
       "| L1.human_759 | human | 1386297 | 1 |\n",
       "| L6.human_759 | human | 2162402 | 1 |\n",
       "| L4.human_759 | human | 2312956 | 1 |\n",
       "| WM.human_j12 | human | 2327923 | 1 |\n",
       "| L3.human_j12 | human | 9103719 | 1 |\n",
       "| L4.human_j12 | human | 3520496 | 1 |\n",
       "| L1.human_j12 | human | 1155734 | 1 |\n",
       "| L5.human_j12 | human | 2977349 | 1 |\n",
       "| L2.human_j12 | human | 2024934 | 1 |\n",
       "| L6.human_j12 | human | 1480505 | 1 |\n",
       "| WM.human_j3 | human | 2369699 | 1 |\n",
       "| L3.human_j3 | human | 3268756 | 1 |\n",
       "| L6.human_j3 | human | 2413563 | 1 |\n",
       "| L5.human_j3 | human | 4285980 | 1 |\n",
       "| L1.human_j3 | human |  530336 | 1 |\n",
       "| L4.human_j3 | human | 4681564 | 1 |\n",
       "| L2.human_j3 | human | 1840478 | 1 |\n",
       "| L4.human_j4 | human | 6913980 | 1 |\n",
       "| L5.human_j4 | human | 4183222 | 1 |\n",
       "| WM.human_j4 | human | 1220788 | 1 |\n",
       "| L3.human_j4 | human | 9859047 | 1 |\n",
       "| L2.human_j4 | human | 2362265 | 1 |\n",
       "| L1.human_j4 | human | 1026601 | 1 |\n",
       "| L6.human_j4 | human | 1613532 | 1 |\n",
       "| WM.human_j6 | human | 1147121 | 1 |\n",
       "| L2.human_j6 | human |  707371 | 1 |\n",
       "| ⋮ | ⋮ | ⋮ | ⋮ |\n",
       "| L4.151672 | spatial_libd_human | 1065705 | 1 |\n",
       "| WM.151672 | spatial_libd_human |  309208 | 1 |\n",
       "| L3.151673 | spatial_libd_human | 5374415 | 1 |\n",
       "| L1.151673 | spatial_libd_human |  399606 | 1 |\n",
       "| WM.151673 | spatial_libd_human | 1705634 | 1 |\n",
       "| L5.151673 | spatial_libd_human | 3250222 | 1 |\n",
       "| L6.151673 | spatial_libd_human | 2371122 | 1 |\n",
       "| L2.151673 | spatial_libd_human | 1296546 | 1 |\n",
       "| L4.151673 | spatial_libd_human | 1059994 | 1 |\n",
       "| L3.151674 | spatial_libd_human | 6502280 | 1 |\n",
       "| L1.151674 | spatial_libd_human | 1085134 | 1 |\n",
       "| WM.151674 | spatial_libd_human | 2775275 | 1 |\n",
       "| L5.151674 | spatial_libd_human | 4005336 | 1 |\n",
       "| L6.151674 | spatial_libd_human | 2716110 | 1 |\n",
       "| L2.151674 | spatial_libd_human | 1507225 | 1 |\n",
       "| L4.151674 | spatial_libd_human | 1622822 | 1 |\n",
       "| L1.151675 | spatial_libd_human |  340444 | 1 |\n",
       "| L3.151675 | spatial_libd_human | 2911275 | 1 |\n",
       "| WM.151675 | spatial_libd_human | 1650105 | 1 |\n",
       "| L5.151675 | spatial_libd_human | 2824141 | 1 |\n",
       "| L2.151675 | spatial_libd_human | 1154176 | 1 |\n",
       "| L4.151675 | spatial_libd_human |  943251 | 1 |\n",
       "| L6.151675 | spatial_libd_human | 1312066 | 1 |\n",
       "| L3.151676 | spatial_libd_human | 3351904 | 1 |\n",
       "| L1.151676 | spatial_libd_human |  467871 | 1 |\n",
       "| WM.151676 | spatial_libd_human | 1498058 | 1 |\n",
       "| L6.151676 | spatial_libd_human | 1696219 | 1 |\n",
       "| L5.151676 | spatial_libd_human | 2743528 | 1 |\n",
       "| L2.151676 | spatial_libd_human | 1039598 | 1 |\n",
       "| L4.151676 | spatial_libd_human | 1063503 | 1 |\n",
       "\n",
       "\n",
       "\n",
       "\n"
      ],
      "text/plain": [
       "An object of class \"DGEList\"\n",
       "$counts\n",
       "        WM.human_759 L5.human_759 L2.human_759 L3.human_759 L1.human_759\n",
       "A1BG              48          106          183          517           72\n",
       "A1CF               0            0            1           13            1\n",
       "A2M              107          207          173          564          282\n",
       "A2ML1              1            1            4            3            5\n",
       "A3GALT2            0            0            0            0            0\n",
       "        L6.human_759 L4.human_759 WM.human_j12 L3.human_j12 L4.human_j12\n",
       "A1BG             171          207           90          481          172\n",
       "A1CF               0            0            0            5            1\n",
       "A2M              248          256          226          360          134\n",
       "A2ML1              1            7            1            1            2\n",
       "A3GALT2            0            0            0            0            0\n",
       "        L1.human_j12 L5.human_j12 L2.human_j12 L6.human_j12 WM.human_j3\n",
       "A1BG              48          128          133           55         170\n",
       "A1CF               0            0            0            0           0\n",
       "A2M               72          129           77           92         385\n",
       "A2ML1              0            3            0            0           2\n",
       "A3GALT2            0            0            0            0           0\n",
       "        L3.human_j3 L6.human_j3 L5.human_j3 L1.human_j3 L4.human_j3 L2.human_j3\n",
       "A1BG            302         274         542          21         587         145\n",
       "A1CF              0           0           1           0           0           0\n",
       "A2M             118         212         265          46         263          97\n",
       "A2ML1             0           2           0           0           2           0\n",
       "A3GALT2           0           0           0           0           0           0\n",
       "        L4.human_j4 L5.human_j4 WM.human_j4 L3.human_j4 L2.human_j4 L1.human_j4\n",
       "A1BG            575         250          64         968         172          60\n",
       "A1CF              9           1           1          22           3           2\n",
       "A2M             274         198         168         324          98          58\n",
       "A2ML1             3           3           0           4           1           0\n",
       "A3GALT2           0           0           0           0           0           0\n",
       "        L6.human_j4 WM.human_j6 L2.human_j6 L3.human_j6 L5.human_j6 L6.human_j6\n",
       "A1BG             82          36          25         126         298         108\n",
       "A1CF              0           0           0           0           1           0\n",
       "A2M             109         142          87         263         486         240\n",
       "A2ML1             0           3           0           0           1           0\n",
       "A3GALT2           0           0           0           0           0           0\n",
       "        L1.human_j6 L4.human_j6 L1.151507 L3.151507 WM.151507 L6.151507\n",
       "A1BG              9         151        58       132        37        70\n",
       "A1CF              0           1         0         0         0         0\n",
       "A2M              79         222       180       433        74       151\n",
       "A2ML1             0           0         3         5         0         0\n",
       "A3GALT2           0           0         0         0         0         0\n",
       "        L5.151507 L2.151507 L4.151507 L3.151508 L1.151508 WM.151508 L6.151508\n",
       "A1BG           99        52        45       144        35        17        52\n",
       "A1CF            0         0         0         0         0         0         0\n",
       "A2M           222        98       127       397       200        34        95\n",
       "A2ML1           2         0         1         2         9         0         1\n",
       "A3GALT2         0         0         0         0         0         0         0\n",
       "        L5.151508 L4.151508 L2.151508 L1.151509 L3.151509 L6.151509 L4.151509\n",
       "A1BG           80        38        58        73       281        13        40\n",
       "A1CF            0         0         0         0         0         0         0\n",
       "A2M           196       111        95       296       781        21       127\n",
       "A2ML1           2         2         0         8        11         0         1\n",
       "A3GALT2         0         0         0         0         0         0         0\n",
       "        L5.151509 L2.151509 WM.151509 L1.151510 L5.151510 L3.151510 L4.151510\n",
       "A1BG           36        93        47        76        40       256        44\n",
       "A1CF            0         0         0         0         0         0         0\n",
       "A2M            98       224        66       286       120       658        91\n",
       "A2ML1           6         2         0         3         1         7         0\n",
       "A3GALT2         0         0         0         0         0         0         0\n",
       "        L6.151510 WM.151510 L2.151510 L4.151669 L6.151669 L3.151669 WM.151669\n",
       "A1BG           17        34       118        51        88       190        40\n",
       "A1CF            0         0         0         0         0         0         0\n",
       "A2M            37        65       208       178       157       540        55\n",
       "A2ML1           0         1         3         0         1         8         0\n",
       "A3GALT2         0         0         0         0         0         0         0\n",
       "        L5.151669 L6.151670 L3.151670 L4.151670 L5.151670 WM.151670 L5.151671\n",
       "A1BG          132        74       187        18       109        22       142\n",
       "A1CF            0         0         0         0         0         0         0\n",
       "A2M           224       125       422        65       215        50       298\n",
       "A2ML1           1         1         7         0         5         0         1\n",
       "A3GALT2         0         0         0         0         0         0         0\n",
       "        L6.151671 L3.151671 WM.151671 L4.151671 L5.151672 L6.151672 L3.151672\n",
       "A1BG          176       198        21        55       149       185       187\n",
       "A1CF            0         0         0         0         0         0         0\n",
       "A2M           261       490        41        98       255       305       334\n",
       "A2ML1           2         5         1         0         4         1         9\n",
       "A3GALT2         0         0         0         0         0         0         0\n",
       "        L4.151672 WM.151672 L3.151673 L1.151673 WM.151673 L5.151673 L6.151673\n",
       "A1BG           44        18       158        13       179        99       118\n",
       "A1CF            0         0         0         0         0         0         0\n",
       "A2M            93        36       602        78       200       309       283\n",
       "A2ML1           1         0         5         1         4         2         0\n",
       "A3GALT2         0         0         0         0         0         0         0\n",
       "        L2.151673 L4.151673 L3.151674 L1.151674 WM.151674 L5.151674 L6.151674\n",
       "A1BG           53        27       216        48       210       148       107\n",
       "A1CF            0         0         0         0         0         0         0\n",
       "A2M           146        99       812       206       350       468       331\n",
       "A2ML1           2         2        10         2         2         3         2\n",
       "A3GALT2         0         0         0         0         0         0         0\n",
       "        L2.151674 L4.151674 L1.151675 L3.151675 WM.151675 L5.151675 L2.151675\n",
       "A1BG           53        54         8        96       140        90        46\n",
       "A1CF            0         0         0         0         0         0         0\n",
       "A2M           210       207        60       297       197       291       139\n",
       "A2ML1           0         1         0         1         2         0         1\n",
       "A3GALT2         0         0         0         0         0         0         0\n",
       "        L4.151675 L6.151675 L3.151676 L1.151676 WM.151676 L6.151676 L5.151676\n",
       "A1BG           27        54       116        14       110        59        78\n",
       "A1CF            0         0         0         0         0         0         0\n",
       "A2M           101       172       401        98       210       209       321\n",
       "A2ML1           1         0         2         0         4         0         3\n",
       "A3GALT2         0         0         0         0         0         0         0\n",
       "        L2.151676 L4.151676\n",
       "A1BG           52        37\n",
       "A1CF            0         0\n",
       "A2M           107       113\n",
       "A2ML1           0         0\n",
       "A3GALT2         0         0\n",
       "19399 more rows ...\n",
       "\n",
       "$samples\n",
       "             group lib.size norm.factors\n",
       "WM.human_759 human   733032            1\n",
       "L5.human_759 human  1752562            1\n",
       "L2.human_759 human  1939829            1\n",
       "L3.human_759 human  5409067            1\n",
       "L1.human_759 human  1386297            1\n",
       "106 more rows ...\n"
      ]
     },
     "metadata": {},
     "output_type": "display_data"
    }
   ],
   "source": [
    "group <- annotation$condition\n",
    "de_exp_table <- DGEList(counts=expression, group=group)\n",
    "de_exp_table"
   ]
  },
  {
   "cell_type": "markdown",
   "id": "7983bb6e",
   "metadata": {},
   "source": [
    "### Filter"
   ]
  },
  {
   "cell_type": "code",
   "execution_count": 14,
   "id": "05facc2e",
   "metadata": {},
   "outputs": [
    {
     "data": {
      "text/html": [
       "11818"
      ],
      "text/latex": [
       "11818"
      ],
      "text/markdown": [
       "11818"
      ],
      "text/plain": [
       "[1] 11818"
      ]
     },
     "metadata": {},
     "output_type": "display_data"
    }
   ],
   "source": [
    "keep <- filterByExpr(de_exp_table, group=group)\n",
    "sum(keep)\n",
    "de_exp_table <- de_exp_table[keep, , keep.lib.sizes=FALSE]"
   ]
  },
  {
   "cell_type": "markdown",
   "id": "25d1b2a0",
   "metadata": {},
   "source": [
    "### Normalize"
   ]
  },
  {
   "cell_type": "code",
   "execution_count": 15,
   "id": "1145a5ff",
   "metadata": {},
   "outputs": [],
   "source": [
    "de_exp_table <- calcNormFactors(de_exp_table)"
   ]
  },
  {
   "cell_type": "code",
   "execution_count": 16,
   "id": "ffb27fb2",
   "metadata": {},
   "outputs": [
    {
     "data": {
      "text/html": [
       "<table class=\"dataframe\">\n",
       "<caption>A data.frame: 6 × 3</caption>\n",
       "<thead>\n",
       "\t<tr><th></th><th scope=col>group</th><th scope=col>lib.size</th><th scope=col>norm.factors</th></tr>\n",
       "\t<tr><th></th><th scope=col>&lt;fct&gt;</th><th scope=col>&lt;dbl&gt;</th><th scope=col>&lt;dbl&gt;</th></tr>\n",
       "</thead>\n",
       "<tbody>\n",
       "\t<tr><th scope=row>WM.human_759</th><td>human</td><td> 728161</td><td>0.9988104</td></tr>\n",
       "\t<tr><th scope=row>L5.human_759</th><td>human</td><td>1741965</td><td>1.0010809</td></tr>\n",
       "\t<tr><th scope=row>L2.human_759</th><td>human</td><td>1927389</td><td>1.0022243</td></tr>\n",
       "\t<tr><th scope=row>L3.human_759</th><td>human</td><td>5375571</td><td>0.9897733</td></tr>\n",
       "\t<tr><th scope=row>L1.human_759</th><td>human</td><td>1375547</td><td>0.9407712</td></tr>\n",
       "\t<tr><th scope=row>L6.human_759</th><td>human</td><td>2149308</td><td>1.0025501</td></tr>\n",
       "</tbody>\n",
       "</table>\n"
      ],
      "text/latex": [
       "A data.frame: 6 × 3\n",
       "\\begin{tabular}{r|lll}\n",
       "  & group & lib.size & norm.factors\\\\\n",
       "  & <fct> & <dbl> & <dbl>\\\\\n",
       "\\hline\n",
       "\tWM.human\\_759 & human &  728161 & 0.9988104\\\\\n",
       "\tL5.human\\_759 & human & 1741965 & 1.0010809\\\\\n",
       "\tL2.human\\_759 & human & 1927389 & 1.0022243\\\\\n",
       "\tL3.human\\_759 & human & 5375571 & 0.9897733\\\\\n",
       "\tL1.human\\_759 & human & 1375547 & 0.9407712\\\\\n",
       "\tL6.human\\_759 & human & 2149308 & 1.0025501\\\\\n",
       "\\end{tabular}\n"
      ],
      "text/markdown": [
       "\n",
       "A data.frame: 6 × 3\n",
       "\n",
       "| <!--/--> | group &lt;fct&gt; | lib.size &lt;dbl&gt; | norm.factors &lt;dbl&gt; |\n",
       "|---|---|---|---|\n",
       "| WM.human_759 | human |  728161 | 0.9988104 |\n",
       "| L5.human_759 | human | 1741965 | 1.0010809 |\n",
       "| L2.human_759 | human | 1927389 | 1.0022243 |\n",
       "| L3.human_759 | human | 5375571 | 0.9897733 |\n",
       "| L1.human_759 | human | 1375547 | 0.9407712 |\n",
       "| L6.human_759 | human | 2149308 | 1.0025501 |\n",
       "\n"
      ],
      "text/plain": [
       "             group lib.size norm.factors\n",
       "WM.human_759 human  728161  0.9988104   \n",
       "L5.human_759 human 1741965  1.0010809   \n",
       "L2.human_759 human 1927389  1.0022243   \n",
       "L3.human_759 human 5375571  0.9897733   \n",
       "L1.human_759 human 1375547  0.9407712   \n",
       "L6.human_759 human 2149308  1.0025501   "
      ]
     },
     "metadata": {},
     "output_type": "display_data"
    }
   ],
   "source": [
    "head(de_exp_table$samples)"
   ]
  },
  {
   "cell_type": "markdown",
   "id": "f53c4e8f",
   "metadata": {},
   "source": [
    "### Plot mds"
   ]
  },
  {
   "cell_type": "code",
   "execution_count": 17,
   "id": "ba726306",
   "metadata": {},
   "outputs": [
    {
     "data": {
      "image/png": "[encoded data removed]",
      "text/plain": [
       "plot without title"
      ]
     },
     "metadata": {
      "image/png": {
       "height": 420,
       "width": 420
      }
     },
     "output_type": "display_data"
    }
   ],
   "source": [
    "plotMDS(de_exp_table, col=as.numeric(annotation$layer))\n",
    "legend(\"bottomleft\", as.character(unique(annotation$layer)), col=1:3, pch=20)"
   ]
  },
  {
   "cell_type": "markdown",
   "id": "1ea0d6fc",
   "metadata": {},
   "source": [
    "### Estimating the Dispersion"
   ]
  },
  {
   "cell_type": "code",
   "execution_count": 18,
   "id": "ee28b93a",
   "metadata": {},
   "outputs": [],
   "source": [
    "group <- paste0(annotation$layer, \".\", annotation$condition)\n",
    "design <- model.matrix(~0 + group)"
   ]
  },
  {
   "cell_type": "code",
   "execution_count": 19,
   "id": "23270e18",
   "metadata": {},
   "outputs": [],
   "source": [
    "de_exp_table <- estimateDisp(de_exp_table, design = design)"
   ]
  },
  {
   "cell_type": "code",
   "execution_count": 20,
   "id": "1cee3e7b",
   "metadata": {},
   "outputs": [
    {
     "data": {
      "image/png": "[encoded data removed]",
      "text/plain": [
       "plot without title"
      ]
     },
     "metadata": {
      "image/png": {
       "height": 420,
       "width": 420
      }
     },
     "output_type": "display_data"
    }
   ],
   "source": [
    "plotBCV(de_exp_table)"
   ]
  },
  {
   "cell_type": "code",
   "execution_count": 21,
   "id": "6d903cae",
   "metadata": {},
   "outputs": [],
   "source": [
    "fit <- glmQLFit(de_exp_table, design)"
   ]
  },
  {
   "cell_type": "code",
   "execution_count": 22,
   "id": "dc0993d9",
   "metadata": {},
   "outputs": [
    {
     "data": {
      "text/html": [
       "<table class=\"dataframe\">\n",
       "<caption>A matrix: 6 × 14 of type dbl</caption>\n",
       "<thead>\n",
       "\t<tr><th></th><th scope=col>groupL1.human</th><th scope=col>groupL1.spatial_libd_human</th><th scope=col>groupL2.human</th><th scope=col>groupL2.spatial_libd_human</th><th scope=col>groupL3.human</th><th scope=col>groupL3.spatial_libd_human</th><th scope=col>groupL4.human</th><th scope=col>groupL4.spatial_libd_human</th><th scope=col>groupL5.human</th><th scope=col>groupL5.spatial_libd_human</th><th scope=col>groupL6.human</th><th scope=col>groupL6.spatial_libd_human</th><th scope=col>groupWM.human</th><th scope=col>groupWM.spatial_libd_human</th></tr>\n",
       "</thead>\n",
       "<tbody>\n",
       "\t<tr><th scope=row>A1BG</th><td> -9.965626</td><td> -9.996600</td><td> -9.557867</td><td> -9.846505</td><td> -9.463524</td><td>-10.084354</td><td> -9.450815</td><td>-10.149275</td><td> -9.632839</td><td>-10.102653</td><td> -9.684106</td><td> -9.918133</td><td> -9.894350</td><td> -9.441897</td></tr>\n",
       "\t<tr><th scope=row>A2M</th><td> -8.980301</td><td> -8.494396</td><td> -9.634981</td><td> -9.021977</td><td> -9.702448</td><td> -9.046944</td><td> -9.677554</td><td> -9.090237</td><td> -9.604174</td><td> -9.176838</td><td> -9.410549</td><td> -9.155550</td><td> -8.952056</td><td> -8.937930</td></tr>\n",
       "\t<tr><th scope=row>AAAS</th><td>-10.985821</td><td>-11.042110</td><td>-10.956412</td><td>-11.124250</td><td>-11.149975</td><td>-11.082113</td><td>-11.176469</td><td>-10.998856</td><td>-11.203367</td><td>-11.157523</td><td>-11.101985</td><td>-10.962631</td><td>-10.973697</td><td>-10.608366</td></tr>\n",
       "\t<tr><th scope=row>AACS</th><td>-10.344284</td><td>-10.011212</td><td>-10.228740</td><td> -9.805731</td><td>-10.140898</td><td> -9.729866</td><td>-10.138774</td><td> -9.799560</td><td>-10.048656</td><td> -9.721794</td><td>-10.047442</td><td> -9.770219</td><td>-10.213613</td><td>-10.185831</td></tr>\n",
       "\t<tr><th scope=row>AADAT</th><td>-10.252720</td><td>-11.612706</td><td>-10.072069</td><td>-11.359289</td><td>-10.100678</td><td>-11.349797</td><td>-10.231519</td><td>-11.767520</td><td>-10.442742</td><td>-11.648778</td><td>-10.464552</td><td>-11.567818</td><td>-10.658164</td><td>-11.631985</td></tr>\n",
       "\t<tr><th scope=row>AAGAB</th><td>-10.859397</td><td>-10.353707</td><td>-10.619697</td><td>-10.181813</td><td>-10.472640</td><td>-10.121952</td><td>-10.608948</td><td>-10.020550</td><td>-10.601619</td><td>-10.155279</td><td>-10.660309</td><td>-10.200892</td><td>-10.767966</td><td>-10.509270</td></tr>\n",
       "</tbody>\n",
       "</table>\n"
      ],
      "text/latex": [
       "A matrix: 6 × 14 of type dbl\n",
       "\\begin{tabular}{r|llllllllllllll}\n",
       "  & groupL1.human & groupL1.spatial\\_libd\\_human & groupL2.human & groupL2.spatial\\_libd\\_human & groupL3.human & groupL3.spatial\\_libd\\_human & groupL4.human & groupL4.spatial\\_libd\\_human & groupL5.human & groupL5.spatial\\_libd\\_human & groupL6.human & groupL6.spatial\\_libd\\_human & groupWM.human & groupWM.spatial\\_libd\\_human\\\\\n",
       "\\hline\n",
       "\tA1BG &  -9.965626 &  -9.996600 &  -9.557867 &  -9.846505 &  -9.463524 & -10.084354 &  -9.450815 & -10.149275 &  -9.632839 & -10.102653 &  -9.684106 &  -9.918133 &  -9.894350 &  -9.441897\\\\\n",
       "\tA2M &  -8.980301 &  -8.494396 &  -9.634981 &  -9.021977 &  -9.702448 &  -9.046944 &  -9.677554 &  -9.090237 &  -9.604174 &  -9.176838 &  -9.410549 &  -9.155550 &  -8.952056 &  -8.937930\\\\\n",
       "\tAAAS & -10.985821 & -11.042110 & -10.956412 & -11.124250 & -11.149975 & -11.082113 & -11.176469 & -10.998856 & -11.203367 & -11.157523 & -11.101985 & -10.962631 & -10.973697 & -10.608366\\\\\n",
       "\tAACS & -10.344284 & -10.011212 & -10.228740 &  -9.805731 & -10.140898 &  -9.729866 & -10.138774 &  -9.799560 & -10.048656 &  -9.721794 & -10.047442 &  -9.770219 & -10.213613 & -10.185831\\\\\n",
       "\tAADAT & -10.252720 & -11.612706 & -10.072069 & -11.359289 & -10.100678 & -11.349797 & -10.231519 & -11.767520 & -10.442742 & -11.648778 & -10.464552 & -11.567818 & -10.658164 & -11.631985\\\\\n",
       "\tAAGAB & -10.859397 & -10.353707 & -10.619697 & -10.181813 & -10.472640 & -10.121952 & -10.608948 & -10.020550 & -10.601619 & -10.155279 & -10.660309 & -10.200892 & -10.767966 & -10.509270\\\\\n",
       "\\end{tabular}\n"
      ],
      "text/markdown": [
       "\n",
       "A matrix: 6 × 14 of type dbl\n",
       "\n",
       "| <!--/--> | groupL1.human | groupL1.spatial_libd_human | groupL2.human | groupL2.spatial_libd_human | groupL3.human | groupL3.spatial_libd_human | groupL4.human | groupL4.spatial_libd_human | groupL5.human | groupL5.spatial_libd_human | groupL6.human | groupL6.spatial_libd_human | groupWM.human | groupWM.spatial_libd_human |\n",
       "|---|---|---|---|---|---|---|---|---|---|---|---|---|---|---|\n",
       "| A1BG |  -9.965626 |  -9.996600 |  -9.557867 |  -9.846505 |  -9.463524 | -10.084354 |  -9.450815 | -10.149275 |  -9.632839 | -10.102653 |  -9.684106 |  -9.918133 |  -9.894350 |  -9.441897 |\n",
       "| A2M |  -8.980301 |  -8.494396 |  -9.634981 |  -9.021977 |  -9.702448 |  -9.046944 |  -9.677554 |  -9.090237 |  -9.604174 |  -9.176838 |  -9.410549 |  -9.155550 |  -8.952056 |  -8.937930 |\n",
       "| AAAS | -10.985821 | -11.042110 | -10.956412 | -11.124250 | -11.149975 | -11.082113 | -11.176469 | -10.998856 | -11.203367 | -11.157523 | -11.101985 | -10.962631 | -10.973697 | -10.608366 |\n",
       "| AACS | -10.344284 | -10.011212 | -10.228740 |  -9.805731 | -10.140898 |  -9.729866 | -10.138774 |  -9.799560 | -10.048656 |  -9.721794 | -10.047442 |  -9.770219 | -10.213613 | -10.185831 |\n",
       "| AADAT | -10.252720 | -11.612706 | -10.072069 | -11.359289 | -10.100678 | -11.349797 | -10.231519 | -11.767520 | -10.442742 | -11.648778 | -10.464552 | -11.567818 | -10.658164 | -11.631985 |\n",
       "| AAGAB | -10.859397 | -10.353707 | -10.619697 | -10.181813 | -10.472640 | -10.121952 | -10.608948 | -10.020550 | -10.601619 | -10.155279 | -10.660309 | -10.200892 | -10.767966 | -10.509270 |\n",
       "\n"
      ],
      "text/plain": [
       "      groupL1.human groupL1.spatial_libd_human groupL2.human\n",
       "A1BG   -9.965626     -9.996600                  -9.557867   \n",
       "A2M    -8.980301     -8.494396                  -9.634981   \n",
       "AAAS  -10.985821    -11.042110                 -10.956412   \n",
       "AACS  -10.344284    -10.011212                 -10.228740   \n",
       "AADAT -10.252720    -11.612706                 -10.072069   \n",
       "AAGAB -10.859397    -10.353707                 -10.619697   \n",
       "      groupL2.spatial_libd_human groupL3.human groupL3.spatial_libd_human\n",
       "A1BG   -9.846505                  -9.463524    -10.084354                \n",
       "A2M    -9.021977                  -9.702448     -9.046944                \n",
       "AAAS  -11.124250                 -11.149975    -11.082113                \n",
       "AACS   -9.805731                 -10.140898     -9.729866                \n",
       "AADAT -11.359289                 -10.100678    -11.349797                \n",
       "AAGAB -10.181813                 -10.472640    -10.121952                \n",
       "      groupL4.human groupL4.spatial_libd_human groupL5.human\n",
       "A1BG   -9.450815    -10.149275                  -9.632839   \n",
       "A2M    -9.677554     -9.090237                  -9.604174   \n",
       "AAAS  -11.176469    -10.998856                 -11.203367   \n",
       "AACS  -10.138774     -9.799560                 -10.048656   \n",
       "AADAT -10.231519    -11.767520                 -10.442742   \n",
       "AAGAB -10.608948    -10.020550                 -10.601619   \n",
       "      groupL5.spatial_libd_human groupL6.human groupL6.spatial_libd_human\n",
       "A1BG  -10.102653                  -9.684106     -9.918133                \n",
       "A2M    -9.176838                  -9.410549     -9.155550                \n",
       "AAAS  -11.157523                 -11.101985    -10.962631                \n",
       "AACS   -9.721794                 -10.047442     -9.770219                \n",
       "AADAT -11.648778                 -10.464552    -11.567818                \n",
       "AAGAB -10.155279                 -10.660309    -10.200892                \n",
       "      groupWM.human groupWM.spatial_libd_human\n",
       "A1BG   -9.894350     -9.441897                \n",
       "A2M    -8.952056     -8.937930                \n",
       "AAAS  -10.973697    -10.608366                \n",
       "AACS  -10.213613    -10.185831                \n",
       "AADAT -10.658164    -11.631985                \n",
       "AAGAB -10.767966    -10.509270                "
      ]
     },
     "metadata": {},
     "output_type": "display_data"
    }
   ],
   "source": [
    "head(fit$coefficients)"
   ]
  },
  {
   "cell_type": "markdown",
   "id": "78ba8989",
   "metadata": {},
   "source": [
    "### DE test"
   ]
  },
  {
   "cell_type": "code",
   "execution_count": 42,
   "id": "45e2c2f7",
   "metadata": {},
   "outputs": [
    {
     "name": "stdout",
     "output_type": "stream",
     "text": [
      "[1] \"WM\"\n",
      "[1] \"L5\"\n",
      "[1] \"L2\"\n",
      "[1] \"L3\"\n",
      "[1] \"L1\"\n",
      "[1] \"L6\"\n",
      "[1] \"L4\"\n"
     ]
    }
   ],
   "source": [
    "de_per_layer <- list()\n",
    "for (layer in unique(annotation$layer)) {\n",
    "    print(layer)\n",
    "    myContrast <- makeContrasts(paste0(\"group\", layer, \".human\", \"-group\", layer, \".spatial_libd_human\"), levels=design)\n",
    "    qlf <- glmQLFTest(fit, contrast=myContrast)\n",
    "    summary(decideTests(qlf))\n",
    "    tt <- topTags(qlf, n = Inf)\n",
    "    filename <- paste0(\"../../results/DiffExpr/young_vs_old/edgeR/\", layer, \"_DE.csv\")\n",
    "    write.table(tt$table, file=filename, row.names=TRUE, sep=\",\", quote=FALSE)\n",
    "}"
   ]
  }
 ],
 "metadata": {
  "kernelspec": {
   "display_name": "R",
   "language": "R",
   "name": "ir"
  },
  "language_info": {
   "codemirror_mode": "r",
   "file_extension": ".r",
   "mimetype": "text/x-r-source",
   "name": "R",
   "pygments_lexer": "r",
   "version": "4.2.2"
  }
 },
 "nbformat": 4,
 "nbformat_minor": 5
}
