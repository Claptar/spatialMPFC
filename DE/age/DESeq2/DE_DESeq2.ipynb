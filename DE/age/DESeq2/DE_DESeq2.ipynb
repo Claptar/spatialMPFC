{
 "cells": [
  {
   "cell_type": "code",
   "execution_count": 1,
   "id": "48839bd7",
   "metadata": {},
   "outputs": [
    {
     "name": "stderr",
     "output_type": "stream",
     "text": [
      "Loading required package: S4Vectors\n",
      "\n",
      "Loading required package: stats4\n",
      "\n",
      "Loading required package: BiocGenerics\n",
      "\n",
      "\n",
      "Attaching package: 'BiocGenerics'\n",
      "\n",
      "\n",
      "The following objects are masked from 'package:stats':\n",
      "\n",
      "    IQR, mad, sd, var, xtabs\n",
      "\n",
      "\n",
      "The following objects are masked from 'package:base':\n",
      "\n",
      "    anyDuplicated, aperm, append, as.data.frame, basename, cbind,\n",
      "    colnames, dirname, do.call, duplicated, eval, evalq, Filter, Find,\n",
      "    get, grep, grepl, intersect, is.unsorted, lapply, Map, mapply,\n",
      "    match, mget, order, paste, pmax, pmax.int, pmin, pmin.int,\n",
      "    Position, rank, rbind, Reduce, rownames, sapply, setdiff, sort,\n",
      "    table, tapply, union, unique, unsplit, which.max, which.min\n",
      "\n",
      "\n",
      "\n",
      "Attaching package: 'S4Vectors'\n",
      "\n",
      "\n",
      "The following objects are masked from 'package:base':\n",
      "\n",
      "    expand.grid, I, unname\n",
      "\n",
      "\n",
      "Loading required package: IRanges\n",
      "\n",
      "\n",
      "Attaching package: 'IRanges'\n",
      "\n",
      "\n",
      "The following object is masked from 'package:grDevices':\n",
      "\n",
      "    windows\n",
      "\n",
      "\n",
      "Loading required package: GenomicRanges\n",
      "\n",
      "Loading required package: GenomeInfoDb\n",
      "\n",
      "Loading required package: SummarizedExperiment\n",
      "\n",
      "Loading required package: MatrixGenerics\n",
      "\n",
      "Loading required package: matrixStats\n",
      "\n",
      "\n",
      "Attaching package: 'MatrixGenerics'\n",
      "\n",
      "\n",
      "The following objects are masked from 'package:matrixStats':\n",
      "\n",
      "    colAlls, colAnyNAs, colAnys, colAvgsPerRowSet, colCollapse,\n",
      "    colCounts, colCummaxs, colCummins, colCumprods, colCumsums,\n",
      "    colDiffs, colIQRDiffs, colIQRs, colLogSumExps, colMadDiffs,\n",
      "    colMads, colMaxs, colMeans2, colMedians, colMins, colOrderStats,\n",
      "    colProds, colQuantiles, colRanges, colRanks, colSdDiffs, colSds,\n",
      "    colSums2, colTabulates, colVarDiffs, colVars, colWeightedMads,\n",
      "    colWeightedMeans, colWeightedMedians, colWeightedSds,\n",
      "    colWeightedVars, rowAlls, rowAnyNAs, rowAnys, rowAvgsPerColSet,\n",
      "    rowCollapse, rowCounts, rowCummaxs, rowCummins, rowCumprods,\n",
      "    rowCumsums, rowDiffs, rowIQRDiffs, rowIQRs, rowLogSumExps,\n",
      "    rowMadDiffs, rowMads, rowMaxs, rowMeans2, rowMedians, rowMins,\n",
      "    rowOrderStats, rowProds, rowQuantiles, rowRanges, rowRanks,\n",
      "    rowSdDiffs, rowSds, rowSums2, rowTabulates, rowVarDiffs, rowVars,\n",
      "    rowWeightedMads, rowWeightedMeans, rowWeightedMedians,\n",
      "    rowWeightedSds, rowWeightedVars\n",
      "\n",
      "\n",
      "Loading required package: Biobase\n",
      "\n",
      "Welcome to Bioconductor\n",
      "\n",
      "    Vignettes contain introductory material; view with\n",
      "    'browseVignettes()'. To cite Bioconductor, see\n",
      "    'citation(\"Biobase\")', and for packages 'citation(\"pkgname\")'.\n",
      "\n",
      "\n",
      "\n",
      "Attaching package: 'Biobase'\n",
      "\n",
      "\n",
      "The following object is masked from 'package:MatrixGenerics':\n",
      "\n",
      "    rowMedians\n",
      "\n",
      "\n",
      "The following objects are masked from 'package:matrixStats':\n",
      "\n",
      "    anyMissing, rowMedians\n",
      "\n",
      "\n",
      "Warning message:\n",
      "\"package 'ggplot2' was built under R version 4.2.3\"\n",
      "Warning message:\n",
      "\"package 'tidyr' was built under R version 4.2.3\"\n",
      "\n",
      "Attaching package: 'tidyr'\n",
      "\n",
      "\n",
      "The following object is masked from 'package:S4Vectors':\n",
      "\n",
      "    expand\n",
      "\n",
      "\n"
     ]
    }
   ],
   "source": [
    "library(DESeq2)\n",
    "library(ggplot2)\n",
    "library(tidyr)"
   ]
  },
  {
   "cell_type": "markdown",
   "id": "41c58bd6",
   "metadata": {},
   "source": [
    "## Load data"
   ]
  },
  {
   "cell_type": "code",
   "execution_count": 2,
   "id": "a6697127",
   "metadata": {},
   "outputs": [
    {
     "data": {
      "text/html": [
       "<style>\n",
       ".list-inline {list-style: none; margin:0; padding: 0}\n",
       ".list-inline>li {display: inline-block}\n",
       ".list-inline>li:not(:last-child)::after {content: \"\\00b7\"; padding: 0 .5ex}\n",
       "</style>\n",
       "<ol class=list-inline><li>'annotation_chimp.csv'</li><li>'annotation_human.csv'</li><li>'annotation_macaque.csv'</li><li>'annotation_spatial_libd_human.csv'</li><li>'expression_chimp.csv'</li><li>'expression_human.csv'</li><li>'expression_macaque.csv'</li><li>'expression_spatial_libd_human.csv'</li></ol>\n"
      ],
      "text/latex": [
       "\\begin{enumerate*}\n",
       "\\item 'annotation\\_chimp.csv'\n",
       "\\item 'annotation\\_human.csv'\n",
       "\\item 'annotation\\_macaque.csv'\n",
       "\\item 'annotation\\_spatial\\_libd\\_human.csv'\n",
       "\\item 'expression\\_chimp.csv'\n",
       "\\item 'expression\\_human.csv'\n",
       "\\item 'expression\\_macaque.csv'\n",
       "\\item 'expression\\_spatial\\_libd\\_human.csv'\n",
       "\\end{enumerate*}\n"
      ],
      "text/markdown": [
       "1. 'annotation_chimp.csv'\n",
       "2. 'annotation_human.csv'\n",
       "3. 'annotation_macaque.csv'\n",
       "4. 'annotation_spatial_libd_human.csv'\n",
       "5. 'expression_chimp.csv'\n",
       "6. 'expression_human.csv'\n",
       "7. 'expression_macaque.csv'\n",
       "8. 'expression_spatial_libd_human.csv'\n",
       "\n",
       "\n"
      ],
      "text/plain": [
       "[1] \"annotation_chimp.csv\"              \"annotation_human.csv\"             \n",
       "[3] \"annotation_macaque.csv\"            \"annotation_spatial_libd_human.csv\"\n",
       "[5] \"expression_chimp.csv\"              \"expression_human.csv\"             \n",
       "[7] \"expression_macaque.csv\"            \"expression_spatial_libd_human.csv\""
      ]
     },
     "metadata": {},
     "output_type": "display_data"
    }
   ],
   "source": [
    "list.files(\"../../results/DiffExpr/pseudobulks/\")"
   ]
  },
  {
   "cell_type": "markdown",
   "id": "7eb93017",
   "metadata": {},
   "source": [
    "### Expression table"
   ]
  },
  {
   "cell_type": "code",
   "execution_count": 3,
   "id": "c8344c70",
   "metadata": {},
   "outputs": [
    {
     "data": {
      "text/html": [
       "<table class=\"dataframe\">\n",
       "<caption>A data.frame: 6 × 36</caption>\n",
       "<thead>\n",
       "\t<tr><th></th><th scope=col>X</th><th scope=col>WM.human_759</th><th scope=col>L5.human_759</th><th scope=col>L2.human_759</th><th scope=col>L3.human_759</th><th scope=col>L1.human_759</th><th scope=col>L6.human_759</th><th scope=col>L4.human_759</th><th scope=col>WM.human_j12</th><th scope=col>L3.human_j12</th><th scope=col>⋯</th><th scope=col>L2.human_j4</th><th scope=col>L1.human_j4</th><th scope=col>L6.human_j4</th><th scope=col>WM.human_j6</th><th scope=col>L2.human_j6</th><th scope=col>L3.human_j6</th><th scope=col>L5.human_j6</th><th scope=col>L6.human_j6</th><th scope=col>L1.human_j6</th><th scope=col>L4.human_j6</th></tr>\n",
       "\t<tr><th></th><th scope=col>&lt;chr&gt;</th><th scope=col>&lt;dbl&gt;</th><th scope=col>&lt;dbl&gt;</th><th scope=col>&lt;dbl&gt;</th><th scope=col>&lt;dbl&gt;</th><th scope=col>&lt;dbl&gt;</th><th scope=col>&lt;dbl&gt;</th><th scope=col>&lt;dbl&gt;</th><th scope=col>&lt;dbl&gt;</th><th scope=col>&lt;dbl&gt;</th><th scope=col>⋯</th><th scope=col>&lt;dbl&gt;</th><th scope=col>&lt;dbl&gt;</th><th scope=col>&lt;dbl&gt;</th><th scope=col>&lt;dbl&gt;</th><th scope=col>&lt;dbl&gt;</th><th scope=col>&lt;dbl&gt;</th><th scope=col>&lt;dbl&gt;</th><th scope=col>&lt;dbl&gt;</th><th scope=col>&lt;dbl&gt;</th><th scope=col>&lt;dbl&gt;</th></tr>\n",
       "</thead>\n",
       "<tbody>\n",
       "\t<tr><th scope=row>1</th><td>OR4F5 </td><td> 0</td><td> 0</td><td> 0</td><td>  0</td><td> 0</td><td> 0</td><td> 0</td><td>  0</td><td>  0</td><td>⋯</td><td>  0</td><td> 0</td><td> 0</td><td> 0</td><td> 0</td><td>  0</td><td>  0</td><td>  0</td><td> 0</td><td>  0</td></tr>\n",
       "\t<tr><th scope=row>2</th><td>OR4F29</td><td> 0</td><td> 0</td><td> 0</td><td>  0</td><td> 0</td><td> 0</td><td> 0</td><td>  0</td><td>  0</td><td>⋯</td><td>  0</td><td> 0</td><td> 0</td><td> 0</td><td> 0</td><td>  0</td><td>  0</td><td>  0</td><td> 0</td><td>  0</td></tr>\n",
       "\t<tr><th scope=row>3</th><td>OR4F16</td><td> 0</td><td> 0</td><td> 0</td><td>  0</td><td> 0</td><td> 0</td><td> 0</td><td>  0</td><td>  0</td><td>⋯</td><td>  0</td><td> 0</td><td> 0</td><td> 0</td><td> 0</td><td>  0</td><td>  0</td><td>  0</td><td> 0</td><td>  0</td></tr>\n",
       "\t<tr><th scope=row>4</th><td>SAMD11</td><td> 1</td><td> 4</td><td> 1</td><td>  4</td><td> 6</td><td> 4</td><td> 0</td><td>  9</td><td>  5</td><td>⋯</td><td>  1</td><td> 5</td><td> 0</td><td> 0</td><td> 0</td><td>  1</td><td>  7</td><td>  0</td><td> 0</td><td>  4</td></tr>\n",
       "\t<tr><th scope=row>5</th><td>NOC2L </td><td>25</td><td>75</td><td>75</td><td>217</td><td>37</td><td>94</td><td>91</td><td>115</td><td>414</td><td>⋯</td><td>156</td><td>48</td><td>82</td><td>62</td><td>43</td><td>163</td><td>361</td><td>145</td><td>18</td><td>205</td></tr>\n",
       "\t<tr><th scope=row>6</th><td>KLHL17</td><td> 5</td><td>31</td><td>12</td><td> 61</td><td>14</td><td>30</td><td>35</td><td> 40</td><td>179</td><td>⋯</td><td> 23</td><td> 6</td><td>20</td><td>13</td><td>10</td><td> 49</td><td> 81</td><td> 43</td><td> 1</td><td> 42</td></tr>\n",
       "</tbody>\n",
       "</table>\n"
      ],
      "text/latex": [
       "A data.frame: 6 × 36\n",
       "\\begin{tabular}{r|lllllllllllllllllllll}\n",
       "  & X & WM.human\\_759 & L5.human\\_759 & L2.human\\_759 & L3.human\\_759 & L1.human\\_759 & L6.human\\_759 & L4.human\\_759 & WM.human\\_j12 & L3.human\\_j12 & ⋯ & L2.human\\_j4 & L1.human\\_j4 & L6.human\\_j4 & WM.human\\_j6 & L2.human\\_j6 & L3.human\\_j6 & L5.human\\_j6 & L6.human\\_j6 & L1.human\\_j6 & L4.human\\_j6\\\\\n",
       "  & <chr> & <dbl> & <dbl> & <dbl> & <dbl> & <dbl> & <dbl> & <dbl> & <dbl> & <dbl> & ⋯ & <dbl> & <dbl> & <dbl> & <dbl> & <dbl> & <dbl> & <dbl> & <dbl> & <dbl> & <dbl>\\\\\n",
       "\\hline\n",
       "\t1 & OR4F5  &  0 &  0 &  0 &   0 &  0 &  0 &  0 &   0 &   0 & ⋯ &   0 &  0 &  0 &  0 &  0 &   0 &   0 &   0 &  0 &   0\\\\\n",
       "\t2 & OR4F29 &  0 &  0 &  0 &   0 &  0 &  0 &  0 &   0 &   0 & ⋯ &   0 &  0 &  0 &  0 &  0 &   0 &   0 &   0 &  0 &   0\\\\\n",
       "\t3 & OR4F16 &  0 &  0 &  0 &   0 &  0 &  0 &  0 &   0 &   0 & ⋯ &   0 &  0 &  0 &  0 &  0 &   0 &   0 &   0 &  0 &   0\\\\\n",
       "\t4 & SAMD11 &  1 &  4 &  1 &   4 &  6 &  4 &  0 &   9 &   5 & ⋯ &   1 &  5 &  0 &  0 &  0 &   1 &   7 &   0 &  0 &   4\\\\\n",
       "\t5 & NOC2L  & 25 & 75 & 75 & 217 & 37 & 94 & 91 & 115 & 414 & ⋯ & 156 & 48 & 82 & 62 & 43 & 163 & 361 & 145 & 18 & 205\\\\\n",
       "\t6 & KLHL17 &  5 & 31 & 12 &  61 & 14 & 30 & 35 &  40 & 179 & ⋯ &  23 &  6 & 20 & 13 & 10 &  49 &  81 &  43 &  1 &  42\\\\\n",
       "\\end{tabular}\n"
      ],
      "text/markdown": [
       "\n",
       "A data.frame: 6 × 36\n",
       "\n",
       "| <!--/--> | X &lt;chr&gt; | WM.human_759 &lt;dbl&gt; | L5.human_759 &lt;dbl&gt; | L2.human_759 &lt;dbl&gt; | L3.human_759 &lt;dbl&gt; | L1.human_759 &lt;dbl&gt; | L6.human_759 &lt;dbl&gt; | L4.human_759 &lt;dbl&gt; | WM.human_j12 &lt;dbl&gt; | L3.human_j12 &lt;dbl&gt; | ⋯ ⋯ | L2.human_j4 &lt;dbl&gt; | L1.human_j4 &lt;dbl&gt; | L6.human_j4 &lt;dbl&gt; | WM.human_j6 &lt;dbl&gt; | L2.human_j6 &lt;dbl&gt; | L3.human_j6 &lt;dbl&gt; | L5.human_j6 &lt;dbl&gt; | L6.human_j6 &lt;dbl&gt; | L1.human_j6 &lt;dbl&gt; | L4.human_j6 &lt;dbl&gt; |\n",
       "|---|---|---|---|---|---|---|---|---|---|---|---|---|---|---|---|---|---|---|---|---|---|\n",
       "| 1 | OR4F5  |  0 |  0 |  0 |   0 |  0 |  0 |  0 |   0 |   0 | ⋯ |   0 |  0 |  0 |  0 |  0 |   0 |   0 |   0 |  0 |   0 |\n",
       "| 2 | OR4F29 |  0 |  0 |  0 |   0 |  0 |  0 |  0 |   0 |   0 | ⋯ |   0 |  0 |  0 |  0 |  0 |   0 |   0 |   0 |  0 |   0 |\n",
       "| 3 | OR4F16 |  0 |  0 |  0 |   0 |  0 |  0 |  0 |   0 |   0 | ⋯ |   0 |  0 |  0 |  0 |  0 |   0 |   0 |   0 |  0 |   0 |\n",
       "| 4 | SAMD11 |  1 |  4 |  1 |   4 |  6 |  4 |  0 |   9 |   5 | ⋯ |   1 |  5 |  0 |  0 |  0 |   1 |   7 |   0 |  0 |   4 |\n",
       "| 5 | NOC2L  | 25 | 75 | 75 | 217 | 37 | 94 | 91 | 115 | 414 | ⋯ | 156 | 48 | 82 | 62 | 43 | 163 | 361 | 145 | 18 | 205 |\n",
       "| 6 | KLHL17 |  5 | 31 | 12 |  61 | 14 | 30 | 35 |  40 | 179 | ⋯ |  23 |  6 | 20 | 13 | 10 |  49 |  81 |  43 |  1 |  42 |\n",
       "\n"
      ],
      "text/plain": [
       "  X      WM.human_759 L5.human_759 L2.human_759 L3.human_759 L1.human_759\n",
       "1 OR4F5   0            0            0             0           0          \n",
       "2 OR4F29  0            0            0             0           0          \n",
       "3 OR4F16  0            0            0             0           0          \n",
       "4 SAMD11  1            4            1             4           6          \n",
       "5 NOC2L  25           75           75           217          37          \n",
       "6 KLHL17  5           31           12            61          14          \n",
       "  L6.human_759 L4.human_759 WM.human_j12 L3.human_j12 ⋯ L2.human_j4 L1.human_j4\n",
       "1  0            0             0            0          ⋯   0          0         \n",
       "2  0            0             0            0          ⋯   0          0         \n",
       "3  0            0             0            0          ⋯   0          0         \n",
       "4  4            0             9            5          ⋯   1          5         \n",
       "5 94           91           115          414          ⋯ 156         48         \n",
       "6 30           35            40          179          ⋯  23          6         \n",
       "  L6.human_j4 WM.human_j6 L2.human_j6 L3.human_j6 L5.human_j6 L6.human_j6\n",
       "1  0           0           0            0           0           0        \n",
       "2  0           0           0            0           0           0        \n",
       "3  0           0           0            0           0           0        \n",
       "4  0           0           0            1           7           0        \n",
       "5 82          62          43          163         361         145        \n",
       "6 20          13          10           49          81          43        \n",
       "  L1.human_j6 L4.human_j6\n",
       "1  0            0        \n",
       "2  0            0        \n",
       "3  0            0        \n",
       "4  0            4        \n",
       "5 18          205        \n",
       "6  1           42        "
      ]
     },
     "metadata": {},
     "output_type": "display_data"
    }
   ],
   "source": [
    "expression_human <- read.csv('../../results/DiffExpr/pseudobulks/expression_human.csv')\n",
    "head(expression_human)"
   ]
  },
  {
   "cell_type": "code",
   "execution_count": 4,
   "id": "6f68d9e9",
   "metadata": {},
   "outputs": [
    {
     "data": {
      "text/html": [
       "<table class=\"dataframe\">\n",
       "<caption>A data.frame: 6 × 77</caption>\n",
       "<thead>\n",
       "\t<tr><th></th><th scope=col>X</th><th scope=col>L1.151507</th><th scope=col>L3.151507</th><th scope=col>WM.151507</th><th scope=col>L6.151507</th><th scope=col>L5.151507</th><th scope=col>L2.151507</th><th scope=col>L4.151507</th><th scope=col>L3.151508</th><th scope=col>L1.151508</th><th scope=col>⋯</th><th scope=col>L2.151675</th><th scope=col>L4.151675</th><th scope=col>L6.151675</th><th scope=col>L3.151676</th><th scope=col>L1.151676</th><th scope=col>WM.151676</th><th scope=col>L6.151676</th><th scope=col>L5.151676</th><th scope=col>L2.151676</th><th scope=col>L4.151676</th></tr>\n",
       "\t<tr><th></th><th scope=col>&lt;chr&gt;</th><th scope=col>&lt;dbl&gt;</th><th scope=col>&lt;dbl&gt;</th><th scope=col>&lt;dbl&gt;</th><th scope=col>&lt;dbl&gt;</th><th scope=col>&lt;dbl&gt;</th><th scope=col>&lt;dbl&gt;</th><th scope=col>&lt;dbl&gt;</th><th scope=col>&lt;dbl&gt;</th><th scope=col>&lt;dbl&gt;</th><th scope=col>⋯</th><th scope=col>&lt;dbl&gt;</th><th scope=col>&lt;dbl&gt;</th><th scope=col>&lt;dbl&gt;</th><th scope=col>&lt;dbl&gt;</th><th scope=col>&lt;dbl&gt;</th><th scope=col>&lt;dbl&gt;</th><th scope=col>&lt;dbl&gt;</th><th scope=col>&lt;dbl&gt;</th><th scope=col>&lt;dbl&gt;</th><th scope=col>&lt;dbl&gt;</th></tr>\n",
       "</thead>\n",
       "<tbody>\n",
       "\t<tr><th scope=row>1</th><td>MIR1302-2HG</td><td>0</td><td>1</td><td>0</td><td>0</td><td>0</td><td>0</td><td>0</td><td>0</td><td>0</td><td>⋯</td><td>1</td><td>0</td><td>0</td><td>0</td><td>0</td><td>0</td><td>0</td><td>0</td><td>0</td><td>0</td></tr>\n",
       "\t<tr><th scope=row>2</th><td>FAM138A    </td><td>0</td><td>0</td><td>0</td><td>0</td><td>0</td><td>0</td><td>0</td><td>0</td><td>0</td><td>⋯</td><td>0</td><td>0</td><td>0</td><td>0</td><td>0</td><td>0</td><td>0</td><td>0</td><td>0</td><td>0</td></tr>\n",
       "\t<tr><th scope=row>3</th><td>OR4F5      </td><td>0</td><td>0</td><td>0</td><td>0</td><td>0</td><td>0</td><td>0</td><td>0</td><td>0</td><td>⋯</td><td>0</td><td>0</td><td>0</td><td>0</td><td>0</td><td>0</td><td>0</td><td>0</td><td>0</td><td>0</td></tr>\n",
       "\t<tr><th scope=row>4</th><td>AL627309.1 </td><td>2</td><td>1</td><td>0</td><td>0</td><td>1</td><td>0</td><td>2</td><td>1</td><td>1</td><td>⋯</td><td>0</td><td>1</td><td>1</td><td>2</td><td>1</td><td>0</td><td>0</td><td>2</td><td>1</td><td>0</td></tr>\n",
       "\t<tr><th scope=row>5</th><td>AL627309.3 </td><td>0</td><td>0</td><td>0</td><td>0</td><td>0</td><td>0</td><td>0</td><td>0</td><td>0</td><td>⋯</td><td>0</td><td>0</td><td>0</td><td>0</td><td>0</td><td>0</td><td>0</td><td>0</td><td>0</td><td>0</td></tr>\n",
       "\t<tr><th scope=row>6</th><td>AL627309.2 </td><td>0</td><td>0</td><td>0</td><td>0</td><td>0</td><td>0</td><td>0</td><td>0</td><td>0</td><td>⋯</td><td>0</td><td>0</td><td>0</td><td>0</td><td>0</td><td>0</td><td>0</td><td>0</td><td>0</td><td>0</td></tr>\n",
       "</tbody>\n",
       "</table>\n"
      ],
      "text/latex": [
       "A data.frame: 6 × 77\n",
       "\\begin{tabular}{r|lllllllllllllllllllll}\n",
       "  & X & L1.151507 & L3.151507 & WM.151507 & L6.151507 & L5.151507 & L2.151507 & L4.151507 & L3.151508 & L1.151508 & ⋯ & L2.151675 & L4.151675 & L6.151675 & L3.151676 & L1.151676 & WM.151676 & L6.151676 & L5.151676 & L2.151676 & L4.151676\\\\\n",
       "  & <chr> & <dbl> & <dbl> & <dbl> & <dbl> & <dbl> & <dbl> & <dbl> & <dbl> & <dbl> & ⋯ & <dbl> & <dbl> & <dbl> & <dbl> & <dbl> & <dbl> & <dbl> & <dbl> & <dbl> & <dbl>\\\\\n",
       "\\hline\n",
       "\t1 & MIR1302-2HG & 0 & 1 & 0 & 0 & 0 & 0 & 0 & 0 & 0 & ⋯ & 1 & 0 & 0 & 0 & 0 & 0 & 0 & 0 & 0 & 0\\\\\n",
       "\t2 & FAM138A     & 0 & 0 & 0 & 0 & 0 & 0 & 0 & 0 & 0 & ⋯ & 0 & 0 & 0 & 0 & 0 & 0 & 0 & 0 & 0 & 0\\\\\n",
       "\t3 & OR4F5       & 0 & 0 & 0 & 0 & 0 & 0 & 0 & 0 & 0 & ⋯ & 0 & 0 & 0 & 0 & 0 & 0 & 0 & 0 & 0 & 0\\\\\n",
       "\t4 & AL627309.1  & 2 & 1 & 0 & 0 & 1 & 0 & 2 & 1 & 1 & ⋯ & 0 & 1 & 1 & 2 & 1 & 0 & 0 & 2 & 1 & 0\\\\\n",
       "\t5 & AL627309.3  & 0 & 0 & 0 & 0 & 0 & 0 & 0 & 0 & 0 & ⋯ & 0 & 0 & 0 & 0 & 0 & 0 & 0 & 0 & 0 & 0\\\\\n",
       "\t6 & AL627309.2  & 0 & 0 & 0 & 0 & 0 & 0 & 0 & 0 & 0 & ⋯ & 0 & 0 & 0 & 0 & 0 & 0 & 0 & 0 & 0 & 0\\\\\n",
       "\\end{tabular}\n"
      ],
      "text/markdown": [
       "\n",
       "A data.frame: 6 × 77\n",
       "\n",
       "| <!--/--> | X &lt;chr&gt; | L1.151507 &lt;dbl&gt; | L3.151507 &lt;dbl&gt; | WM.151507 &lt;dbl&gt; | L6.151507 &lt;dbl&gt; | L5.151507 &lt;dbl&gt; | L2.151507 &lt;dbl&gt; | L4.151507 &lt;dbl&gt; | L3.151508 &lt;dbl&gt; | L1.151508 &lt;dbl&gt; | ⋯ ⋯ | L2.151675 &lt;dbl&gt; | L4.151675 &lt;dbl&gt; | L6.151675 &lt;dbl&gt; | L3.151676 &lt;dbl&gt; | L1.151676 &lt;dbl&gt; | WM.151676 &lt;dbl&gt; | L6.151676 &lt;dbl&gt; | L5.151676 &lt;dbl&gt; | L2.151676 &lt;dbl&gt; | L4.151676 &lt;dbl&gt; |\n",
       "|---|---|---|---|---|---|---|---|---|---|---|---|---|---|---|---|---|---|---|---|---|---|\n",
       "| 1 | MIR1302-2HG | 0 | 1 | 0 | 0 | 0 | 0 | 0 | 0 | 0 | ⋯ | 1 | 0 | 0 | 0 | 0 | 0 | 0 | 0 | 0 | 0 |\n",
       "| 2 | FAM138A     | 0 | 0 | 0 | 0 | 0 | 0 | 0 | 0 | 0 | ⋯ | 0 | 0 | 0 | 0 | 0 | 0 | 0 | 0 | 0 | 0 |\n",
       "| 3 | OR4F5       | 0 | 0 | 0 | 0 | 0 | 0 | 0 | 0 | 0 | ⋯ | 0 | 0 | 0 | 0 | 0 | 0 | 0 | 0 | 0 | 0 |\n",
       "| 4 | AL627309.1  | 2 | 1 | 0 | 0 | 1 | 0 | 2 | 1 | 1 | ⋯ | 0 | 1 | 1 | 2 | 1 | 0 | 0 | 2 | 1 | 0 |\n",
       "| 5 | AL627309.3  | 0 | 0 | 0 | 0 | 0 | 0 | 0 | 0 | 0 | ⋯ | 0 | 0 | 0 | 0 | 0 | 0 | 0 | 0 | 0 | 0 |\n",
       "| 6 | AL627309.2  | 0 | 0 | 0 | 0 | 0 | 0 | 0 | 0 | 0 | ⋯ | 0 | 0 | 0 | 0 | 0 | 0 | 0 | 0 | 0 | 0 |\n",
       "\n"
      ],
      "text/plain": [
       "  X           L1.151507 L3.151507 WM.151507 L6.151507 L5.151507 L2.151507\n",
       "1 MIR1302-2HG 0         1         0         0         0         0        \n",
       "2 FAM138A     0         0         0         0         0         0        \n",
       "3 OR4F5       0         0         0         0         0         0        \n",
       "4 AL627309.1  2         1         0         0         1         0        \n",
       "5 AL627309.3  0         0         0         0         0         0        \n",
       "6 AL627309.2  0         0         0         0         0         0        \n",
       "  L4.151507 L3.151508 L1.151508 ⋯ L2.151675 L4.151675 L6.151675 L3.151676\n",
       "1 0         0         0         ⋯ 1         0         0         0        \n",
       "2 0         0         0         ⋯ 0         0         0         0        \n",
       "3 0         0         0         ⋯ 0         0         0         0        \n",
       "4 2         1         1         ⋯ 0         1         1         2        \n",
       "5 0         0         0         ⋯ 0         0         0         0        \n",
       "6 0         0         0         ⋯ 0         0         0         0        \n",
       "  L1.151676 WM.151676 L6.151676 L5.151676 L2.151676 L4.151676\n",
       "1 0         0         0         0         0         0        \n",
       "2 0         0         0         0         0         0        \n",
       "3 0         0         0         0         0         0        \n",
       "4 1         0         0         2         1         0        \n",
       "5 0         0         0         0         0         0        \n",
       "6 0         0         0         0         0         0        "
      ]
     },
     "metadata": {},
     "output_type": "display_data"
    }
   ],
   "source": [
    "expression_human_libd <- read.csv('../../results/DiffExpr/pseudobulks/expression_spatial_libd_human.csv')\n",
    "head(expression_human_libd)"
   ]
  },
  {
   "cell_type": "markdown",
   "id": "0d1d64a6",
   "metadata": {},
   "source": [
    "Merge two tables"
   ]
  },
  {
   "cell_type": "code",
   "execution_count": 5,
   "id": "48a9d4a1",
   "metadata": {},
   "outputs": [
    {
     "data": {
      "text/html": [
       "<table class=\"dataframe\">\n",
       "<caption>A data.frame: 6 × 112</caption>\n",
       "<thead>\n",
       "\t<tr><th></th><th scope=col>X</th><th scope=col>WM.human_759</th><th scope=col>L5.human_759</th><th scope=col>L2.human_759</th><th scope=col>L3.human_759</th><th scope=col>L1.human_759</th><th scope=col>L6.human_759</th><th scope=col>L4.human_759</th><th scope=col>WM.human_j12</th><th scope=col>L3.human_j12</th><th scope=col>⋯</th><th scope=col>L2.151675</th><th scope=col>L4.151675</th><th scope=col>L6.151675</th><th scope=col>L3.151676</th><th scope=col>L1.151676</th><th scope=col>WM.151676</th><th scope=col>L6.151676</th><th scope=col>L5.151676</th><th scope=col>L2.151676</th><th scope=col>L4.151676</th></tr>\n",
       "\t<tr><th></th><th scope=col>&lt;chr&gt;</th><th scope=col>&lt;dbl&gt;</th><th scope=col>&lt;dbl&gt;</th><th scope=col>&lt;dbl&gt;</th><th scope=col>&lt;dbl&gt;</th><th scope=col>&lt;dbl&gt;</th><th scope=col>&lt;dbl&gt;</th><th scope=col>&lt;dbl&gt;</th><th scope=col>&lt;dbl&gt;</th><th scope=col>&lt;dbl&gt;</th><th scope=col>⋯</th><th scope=col>&lt;dbl&gt;</th><th scope=col>&lt;dbl&gt;</th><th scope=col>&lt;dbl&gt;</th><th scope=col>&lt;dbl&gt;</th><th scope=col>&lt;dbl&gt;</th><th scope=col>&lt;dbl&gt;</th><th scope=col>&lt;dbl&gt;</th><th scope=col>&lt;dbl&gt;</th><th scope=col>&lt;dbl&gt;</th><th scope=col>&lt;dbl&gt;</th></tr>\n",
       "</thead>\n",
       "<tbody>\n",
       "\t<tr><th scope=row>1</th><td>A1BG   </td><td> 48</td><td>106</td><td>183</td><td>517</td><td> 72</td><td>171</td><td>207</td><td> 90</td><td>481</td><td>⋯</td><td> 46</td><td> 27</td><td> 54</td><td>116</td><td>14</td><td>110</td><td> 59</td><td> 78</td><td> 52</td><td> 37</td></tr>\n",
       "\t<tr><th scope=row>2</th><td>A1CF   </td><td>  0</td><td>  0</td><td>  1</td><td> 13</td><td>  1</td><td>  0</td><td>  0</td><td>  0</td><td>  5</td><td>⋯</td><td>  0</td><td>  0</td><td>  0</td><td>  0</td><td> 0</td><td>  0</td><td>  0</td><td>  0</td><td>  0</td><td>  0</td></tr>\n",
       "\t<tr><th scope=row>3</th><td>A2M    </td><td>107</td><td>207</td><td>173</td><td>564</td><td>282</td><td>248</td><td>256</td><td>226</td><td>360</td><td>⋯</td><td>139</td><td>101</td><td>172</td><td>401</td><td>98</td><td>210</td><td>209</td><td>321</td><td>107</td><td>113</td></tr>\n",
       "\t<tr><th scope=row>4</th><td>A2ML1  </td><td>  1</td><td>  1</td><td>  4</td><td>  3</td><td>  5</td><td>  1</td><td>  7</td><td>  1</td><td>  1</td><td>⋯</td><td>  1</td><td>  1</td><td>  0</td><td>  2</td><td> 0</td><td>  4</td><td>  0</td><td>  3</td><td>  0</td><td>  0</td></tr>\n",
       "\t<tr><th scope=row>5</th><td>A3GALT2</td><td>  0</td><td>  0</td><td>  0</td><td>  0</td><td>  0</td><td>  0</td><td>  0</td><td>  0</td><td>  0</td><td>⋯</td><td>  0</td><td>  0</td><td>  0</td><td>  0</td><td> 0</td><td>  0</td><td>  0</td><td>  0</td><td>  0</td><td>  0</td></tr>\n",
       "\t<tr><th scope=row>6</th><td>A4GALT </td><td>  0</td><td>  0</td><td>  4</td><td> 11</td><td>  2</td><td>  1</td><td>  2</td><td>  4</td><td>  3</td><td>⋯</td><td>  5</td><td>  2</td><td>  1</td><td>  9</td><td> 1</td><td>  3</td><td>  5</td><td>  7</td><td>  6</td><td>  1</td></tr>\n",
       "</tbody>\n",
       "</table>\n"
      ],
      "text/latex": [
       "A data.frame: 6 × 112\n",
       "\\begin{tabular}{r|lllllllllllllllllllll}\n",
       "  & X & WM.human\\_759 & L5.human\\_759 & L2.human\\_759 & L3.human\\_759 & L1.human\\_759 & L6.human\\_759 & L4.human\\_759 & WM.human\\_j12 & L3.human\\_j12 & ⋯ & L2.151675 & L4.151675 & L6.151675 & L3.151676 & L1.151676 & WM.151676 & L6.151676 & L5.151676 & L2.151676 & L4.151676\\\\\n",
       "  & <chr> & <dbl> & <dbl> & <dbl> & <dbl> & <dbl> & <dbl> & <dbl> & <dbl> & <dbl> & ⋯ & <dbl> & <dbl> & <dbl> & <dbl> & <dbl> & <dbl> & <dbl> & <dbl> & <dbl> & <dbl>\\\\\n",
       "\\hline\n",
       "\t1 & A1BG    &  48 & 106 & 183 & 517 &  72 & 171 & 207 &  90 & 481 & ⋯ &  46 &  27 &  54 & 116 & 14 & 110 &  59 &  78 &  52 &  37\\\\\n",
       "\t2 & A1CF    &   0 &   0 &   1 &  13 &   1 &   0 &   0 &   0 &   5 & ⋯ &   0 &   0 &   0 &   0 &  0 &   0 &   0 &   0 &   0 &   0\\\\\n",
       "\t3 & A2M     & 107 & 207 & 173 & 564 & 282 & 248 & 256 & 226 & 360 & ⋯ & 139 & 101 & 172 & 401 & 98 & 210 & 209 & 321 & 107 & 113\\\\\n",
       "\t4 & A2ML1   &   1 &   1 &   4 &   3 &   5 &   1 &   7 &   1 &   1 & ⋯ &   1 &   1 &   0 &   2 &  0 &   4 &   0 &   3 &   0 &   0\\\\\n",
       "\t5 & A3GALT2 &   0 &   0 &   0 &   0 &   0 &   0 &   0 &   0 &   0 & ⋯ &   0 &   0 &   0 &   0 &  0 &   0 &   0 &   0 &   0 &   0\\\\\n",
       "\t6 & A4GALT  &   0 &   0 &   4 &  11 &   2 &   1 &   2 &   4 &   3 & ⋯ &   5 &   2 &   1 &   9 &  1 &   3 &   5 &   7 &   6 &   1\\\\\n",
       "\\end{tabular}\n"
      ],
      "text/markdown": [
       "\n",
       "A data.frame: 6 × 112\n",
       "\n",
       "| <!--/--> | X &lt;chr&gt; | WM.human_759 &lt;dbl&gt; | L5.human_759 &lt;dbl&gt; | L2.human_759 &lt;dbl&gt; | L3.human_759 &lt;dbl&gt; | L1.human_759 &lt;dbl&gt; | L6.human_759 &lt;dbl&gt; | L4.human_759 &lt;dbl&gt; | WM.human_j12 &lt;dbl&gt; | L3.human_j12 &lt;dbl&gt; | ⋯ ⋯ | L2.151675 &lt;dbl&gt; | L4.151675 &lt;dbl&gt; | L6.151675 &lt;dbl&gt; | L3.151676 &lt;dbl&gt; | L1.151676 &lt;dbl&gt; | WM.151676 &lt;dbl&gt; | L6.151676 &lt;dbl&gt; | L5.151676 &lt;dbl&gt; | L2.151676 &lt;dbl&gt; | L4.151676 &lt;dbl&gt; |\n",
       "|---|---|---|---|---|---|---|---|---|---|---|---|---|---|---|---|---|---|---|---|---|---|\n",
       "| 1 | A1BG    |  48 | 106 | 183 | 517 |  72 | 171 | 207 |  90 | 481 | ⋯ |  46 |  27 |  54 | 116 | 14 | 110 |  59 |  78 |  52 |  37 |\n",
       "| 2 | A1CF    |   0 |   0 |   1 |  13 |   1 |   0 |   0 |   0 |   5 | ⋯ |   0 |   0 |   0 |   0 |  0 |   0 |   0 |   0 |   0 |   0 |\n",
       "| 3 | A2M     | 107 | 207 | 173 | 564 | 282 | 248 | 256 | 226 | 360 | ⋯ | 139 | 101 | 172 | 401 | 98 | 210 | 209 | 321 | 107 | 113 |\n",
       "| 4 | A2ML1   |   1 |   1 |   4 |   3 |   5 |   1 |   7 |   1 |   1 | ⋯ |   1 |   1 |   0 |   2 |  0 |   4 |   0 |   3 |   0 |   0 |\n",
       "| 5 | A3GALT2 |   0 |   0 |   0 |   0 |   0 |   0 |   0 |   0 |   0 | ⋯ |   0 |   0 |   0 |   0 |  0 |   0 |   0 |   0 |   0 |   0 |\n",
       "| 6 | A4GALT  |   0 |   0 |   4 |  11 |   2 |   1 |   2 |   4 |   3 | ⋯ |   5 |   2 |   1 |   9 |  1 |   3 |   5 |   7 |   6 |   1 |\n",
       "\n"
      ],
      "text/plain": [
       "  X       WM.human_759 L5.human_759 L2.human_759 L3.human_759 L1.human_759\n",
       "1 A1BG     48          106          183          517           72         \n",
       "2 A1CF      0            0            1           13            1         \n",
       "3 A2M     107          207          173          564          282         \n",
       "4 A2ML1     1            1            4            3            5         \n",
       "5 A3GALT2   0            0            0            0            0         \n",
       "6 A4GALT    0            0            4           11            2         \n",
       "  L6.human_759 L4.human_759 WM.human_j12 L3.human_j12 ⋯ L2.151675 L4.151675\n",
       "1 171          207           90          481          ⋯  46        27      \n",
       "2   0            0            0            5          ⋯   0         0      \n",
       "3 248          256          226          360          ⋯ 139       101      \n",
       "4   1            7            1            1          ⋯   1         1      \n",
       "5   0            0            0            0          ⋯   0         0      \n",
       "6   1            2            4            3          ⋯   5         2      \n",
       "  L6.151675 L3.151676 L1.151676 WM.151676 L6.151676 L5.151676 L2.151676\n",
       "1  54       116       14        110        59        78        52      \n",
       "2   0         0        0          0         0         0         0      \n",
       "3 172       401       98        210       209       321       107      \n",
       "4   0         2        0          4         0         3         0      \n",
       "5   0         0        0          0         0         0         0      \n",
       "6   1         9        1          3         5         7         6      \n",
       "  L4.151676\n",
       "1  37      \n",
       "2   0      \n",
       "3 113      \n",
       "4   0      \n",
       "5   0      \n",
       "6   1      "
      ]
     },
     "metadata": {},
     "output_type": "display_data"
    }
   ],
   "source": [
    "expression = merge(expression_human, expression_human_libd, by='X')\n",
    "head(expression)"
   ]
  },
  {
   "cell_type": "code",
   "execution_count": 6,
   "id": "efb97823",
   "metadata": {},
   "outputs": [
    {
     "data": {
      "text/html": [
       "19404"
      ],
      "text/latex": [
       "19404"
      ],
      "text/markdown": [
       "19404"
      ],
      "text/plain": [
       "[1] 19404"
      ]
     },
     "metadata": {},
     "output_type": "display_data"
    }
   ],
   "source": [
    "nrow(expression)"
   ]
  },
  {
   "cell_type": "markdown",
   "id": "7ff75e54",
   "metadata": {},
   "source": [
    "### Annotation table"
   ]
  },
  {
   "cell_type": "code",
   "execution_count": 7,
   "id": "31a1f278",
   "metadata": {},
   "outputs": [
    {
     "data": {
      "text/html": [
       "<table class=\"dataframe\">\n",
       "<caption>A data.frame: 6 × 3</caption>\n",
       "<thead>\n",
       "\t<tr><th></th><th scope=col>layer</th><th scope=col>sample_id</th><th scope=col>condition</th></tr>\n",
       "\t<tr><th></th><th scope=col>&lt;chr&gt;</th><th scope=col>&lt;chr&gt;</th><th scope=col>&lt;chr&gt;</th></tr>\n",
       "</thead>\n",
       "<tbody>\n",
       "\t<tr><th scope=row>WM.human_759</th><td>WM</td><td>human_759</td><td>human</td></tr>\n",
       "\t<tr><th scope=row>L5.human_759</th><td>L5</td><td>human_759</td><td>human</td></tr>\n",
       "\t<tr><th scope=row>L2.human_759</th><td>L2</td><td>human_759</td><td>human</td></tr>\n",
       "\t<tr><th scope=row>L3.human_759</th><td>L3</td><td>human_759</td><td>human</td></tr>\n",
       "\t<tr><th scope=row>L1.human_759</th><td>L1</td><td>human_759</td><td>human</td></tr>\n",
       "\t<tr><th scope=row>L6.human_759</th><td>L6</td><td>human_759</td><td>human</td></tr>\n",
       "</tbody>\n",
       "</table>\n"
      ],
      "text/latex": [
       "A data.frame: 6 × 3\n",
       "\\begin{tabular}{r|lll}\n",
       "  & layer & sample\\_id & condition\\\\\n",
       "  & <chr> & <chr> & <chr>\\\\\n",
       "\\hline\n",
       "\tWM.human\\_759 & WM & human\\_759 & human\\\\\n",
       "\tL5.human\\_759 & L5 & human\\_759 & human\\\\\n",
       "\tL2.human\\_759 & L2 & human\\_759 & human\\\\\n",
       "\tL3.human\\_759 & L3 & human\\_759 & human\\\\\n",
       "\tL1.human\\_759 & L1 & human\\_759 & human\\\\\n",
       "\tL6.human\\_759 & L6 & human\\_759 & human\\\\\n",
       "\\end{tabular}\n"
      ],
      "text/markdown": [
       "\n",
       "A data.frame: 6 × 3\n",
       "\n",
       "| <!--/--> | layer &lt;chr&gt; | sample_id &lt;chr&gt; | condition &lt;chr&gt; |\n",
       "|---|---|---|---|\n",
       "| WM.human_759 | WM | human_759 | human |\n",
       "| L5.human_759 | L5 | human_759 | human |\n",
       "| L2.human_759 | L2 | human_759 | human |\n",
       "| L3.human_759 | L3 | human_759 | human |\n",
       "| L1.human_759 | L1 | human_759 | human |\n",
       "| L6.human_759 | L6 | human_759 | human |\n",
       "\n"
      ],
      "text/plain": [
       "             layer sample_id condition\n",
       "WM.human_759 WM    human_759 human    \n",
       "L5.human_759 L5    human_759 human    \n",
       "L2.human_759 L2    human_759 human    \n",
       "L3.human_759 L3    human_759 human    \n",
       "L1.human_759 L1    human_759 human    \n",
       "L6.human_759 L6    human_759 human    "
      ]
     },
     "metadata": {},
     "output_type": "display_data"
    }
   ],
   "source": [
    "annotation_human <- read.csv('../../results/DiffExpr/pseudobulks/annotation_human.csv', row.names=1)\n",
    "head(annotation_human)"
   ]
  },
  {
   "cell_type": "code",
   "execution_count": 8,
   "id": "da0c8c90",
   "metadata": {},
   "outputs": [
    {
     "data": {
      "text/html": [
       "<table class=\"dataframe\">\n",
       "<caption>A data.frame: 6 × 3</caption>\n",
       "<thead>\n",
       "\t<tr><th></th><th scope=col>layer</th><th scope=col>sample_id</th><th scope=col>condition</th></tr>\n",
       "\t<tr><th></th><th scope=col>&lt;chr&gt;</th><th scope=col>&lt;int&gt;</th><th scope=col>&lt;chr&gt;</th></tr>\n",
       "</thead>\n",
       "<tbody>\n",
       "\t<tr><th scope=row>L1.151507</th><td>L1</td><td>151507</td><td>spatial_libd_human</td></tr>\n",
       "\t<tr><th scope=row>L3.151507</th><td>L3</td><td>151507</td><td>spatial_libd_human</td></tr>\n",
       "\t<tr><th scope=row>WM.151507</th><td>WM</td><td>151507</td><td>spatial_libd_human</td></tr>\n",
       "\t<tr><th scope=row>L6.151507</th><td>L6</td><td>151507</td><td>spatial_libd_human</td></tr>\n",
       "\t<tr><th scope=row>L5.151507</th><td>L5</td><td>151507</td><td>spatial_libd_human</td></tr>\n",
       "\t<tr><th scope=row>L2.151507</th><td>L2</td><td>151507</td><td>spatial_libd_human</td></tr>\n",
       "</tbody>\n",
       "</table>\n"
      ],
      "text/latex": [
       "A data.frame: 6 × 3\n",
       "\\begin{tabular}{r|lll}\n",
       "  & layer & sample\\_id & condition\\\\\n",
       "  & <chr> & <int> & <chr>\\\\\n",
       "\\hline\n",
       "\tL1.151507 & L1 & 151507 & spatial\\_libd\\_human\\\\\n",
       "\tL3.151507 & L3 & 151507 & spatial\\_libd\\_human\\\\\n",
       "\tWM.151507 & WM & 151507 & spatial\\_libd\\_human\\\\\n",
       "\tL6.151507 & L6 & 151507 & spatial\\_libd\\_human\\\\\n",
       "\tL5.151507 & L5 & 151507 & spatial\\_libd\\_human\\\\\n",
       "\tL2.151507 & L2 & 151507 & spatial\\_libd\\_human\\\\\n",
       "\\end{tabular}\n"
      ],
      "text/markdown": [
       "\n",
       "A data.frame: 6 × 3\n",
       "\n",
       "| <!--/--> | layer &lt;chr&gt; | sample_id &lt;int&gt; | condition &lt;chr&gt; |\n",
       "|---|---|---|---|\n",
       "| L1.151507 | L1 | 151507 | spatial_libd_human |\n",
       "| L3.151507 | L3 | 151507 | spatial_libd_human |\n",
       "| WM.151507 | WM | 151507 | spatial_libd_human |\n",
       "| L6.151507 | L6 | 151507 | spatial_libd_human |\n",
       "| L5.151507 | L5 | 151507 | spatial_libd_human |\n",
       "| L2.151507 | L2 | 151507 | spatial_libd_human |\n",
       "\n"
      ],
      "text/plain": [
       "          layer sample_id condition         \n",
       "L1.151507 L1    151507    spatial_libd_human\n",
       "L3.151507 L3    151507    spatial_libd_human\n",
       "WM.151507 WM    151507    spatial_libd_human\n",
       "L6.151507 L6    151507    spatial_libd_human\n",
       "L5.151507 L5    151507    spatial_libd_human\n",
       "L2.151507 L2    151507    spatial_libd_human"
      ]
     },
     "metadata": {},
     "output_type": "display_data"
    }
   ],
   "source": [
    "annotation_human_libd <- read.csv('../../results/DiffExpr/pseudobulks/annotation_spatial_libd_human.csv', row.names=1)\n",
    "head(annotation_human_libd)"
   ]
  },
  {
   "cell_type": "code",
   "execution_count": 9,
   "id": "46e44dd1",
   "metadata": {},
   "outputs": [
    {
     "data": {
      "text/html": [
       "<table class=\"dataframe\">\n",
       "<caption>A data.frame: 3 × 3</caption>\n",
       "<thead>\n",
       "\t<tr><th></th><th scope=col>layer</th><th scope=col>sample_id</th><th scope=col>condition</th></tr>\n",
       "\t<tr><th></th><th scope=col>&lt;chr&gt;</th><th scope=col>&lt;chr&gt;</th><th scope=col>&lt;chr&gt;</th></tr>\n",
       "</thead>\n",
       "<tbody>\n",
       "\t<tr><th scope=row>WM.human_759</th><td>WM</td><td>human_759</td><td>human</td></tr>\n",
       "\t<tr><th scope=row>L5.human_759</th><td>L5</td><td>human_759</td><td>human</td></tr>\n",
       "\t<tr><th scope=row>L2.human_759</th><td>L2</td><td>human_759</td><td>human</td></tr>\n",
       "</tbody>\n",
       "</table>\n"
      ],
      "text/latex": [
       "A data.frame: 3 × 3\n",
       "\\begin{tabular}{r|lll}\n",
       "  & layer & sample\\_id & condition\\\\\n",
       "  & <chr> & <chr> & <chr>\\\\\n",
       "\\hline\n",
       "\tWM.human\\_759 & WM & human\\_759 & human\\\\\n",
       "\tL5.human\\_759 & L5 & human\\_759 & human\\\\\n",
       "\tL2.human\\_759 & L2 & human\\_759 & human\\\\\n",
       "\\end{tabular}\n"
      ],
      "text/markdown": [
       "\n",
       "A data.frame: 3 × 3\n",
       "\n",
       "| <!--/--> | layer &lt;chr&gt; | sample_id &lt;chr&gt; | condition &lt;chr&gt; |\n",
       "|---|---|---|---|\n",
       "| WM.human_759 | WM | human_759 | human |\n",
       "| L5.human_759 | L5 | human_759 | human |\n",
       "| L2.human_759 | L2 | human_759 | human |\n",
       "\n"
      ],
      "text/plain": [
       "             layer sample_id condition\n",
       "WM.human_759 WM    human_759 human    \n",
       "L5.human_759 L5    human_759 human    \n",
       "L2.human_759 L2    human_759 human    "
      ]
     },
     "metadata": {},
     "output_type": "display_data"
    },
    {
     "data": {
      "text/html": [
       "<table class=\"dataframe\">\n",
       "<caption>A data.frame: 3 × 3</caption>\n",
       "<thead>\n",
       "\t<tr><th></th><th scope=col>layer</th><th scope=col>sample_id</th><th scope=col>condition</th></tr>\n",
       "\t<tr><th></th><th scope=col>&lt;chr&gt;</th><th scope=col>&lt;chr&gt;</th><th scope=col>&lt;chr&gt;</th></tr>\n",
       "</thead>\n",
       "<tbody>\n",
       "\t<tr><th scope=row>L5.151676</th><td>L5</td><td>151676</td><td>spatial_libd_human</td></tr>\n",
       "\t<tr><th scope=row>L2.151676</th><td>L2</td><td>151676</td><td>spatial_libd_human</td></tr>\n",
       "\t<tr><th scope=row>L4.151676</th><td>L4</td><td>151676</td><td>spatial_libd_human</td></tr>\n",
       "</tbody>\n",
       "</table>\n"
      ],
      "text/latex": [
       "A data.frame: 3 × 3\n",
       "\\begin{tabular}{r|lll}\n",
       "  & layer & sample\\_id & condition\\\\\n",
       "  & <chr> & <chr> & <chr>\\\\\n",
       "\\hline\n",
       "\tL5.151676 & L5 & 151676 & spatial\\_libd\\_human\\\\\n",
       "\tL2.151676 & L2 & 151676 & spatial\\_libd\\_human\\\\\n",
       "\tL4.151676 & L4 & 151676 & spatial\\_libd\\_human\\\\\n",
       "\\end{tabular}\n"
      ],
      "text/markdown": [
       "\n",
       "A data.frame: 3 × 3\n",
       "\n",
       "| <!--/--> | layer &lt;chr&gt; | sample_id &lt;chr&gt; | condition &lt;chr&gt; |\n",
       "|---|---|---|---|\n",
       "| L5.151676 | L5 | 151676 | spatial_libd_human |\n",
       "| L2.151676 | L2 | 151676 | spatial_libd_human |\n",
       "| L4.151676 | L4 | 151676 | spatial_libd_human |\n",
       "\n"
      ],
      "text/plain": [
       "          layer sample_id condition         \n",
       "L5.151676 L5    151676    spatial_libd_human\n",
       "L2.151676 L2    151676    spatial_libd_human\n",
       "L4.151676 L4    151676    spatial_libd_human"
      ]
     },
     "metadata": {},
     "output_type": "display_data"
    }
   ],
   "source": [
    "annotation = rbind(annotation_human, annotation_human_libd)\n",
    "head(annotation, 3)\n",
    "tail(annotation, 3)"
   ]
  },
  {
   "cell_type": "markdown",
   "id": "b3a1e9ab",
   "metadata": {},
   "source": [
    "## L1"
   ]
  },
  {
   "cell_type": "markdown",
   "id": "b3376ef1",
   "metadata": {},
   "source": [
    "### Subset L1"
   ]
  },
  {
   "cell_type": "code",
   "execution_count": 10,
   "id": "b63aa96e",
   "metadata": {},
   "outputs": [
    {
     "data": {
      "text/html": [
       "<table class=\"dataframe\">\n",
       "<caption>A data.frame: 6 × 3</caption>\n",
       "<thead>\n",
       "\t<tr><th></th><th scope=col>layer</th><th scope=col>sample_id</th><th scope=col>condition</th></tr>\n",
       "\t<tr><th></th><th scope=col>&lt;chr&gt;</th><th scope=col>&lt;chr&gt;</th><th scope=col>&lt;fct&gt;</th></tr>\n",
       "</thead>\n",
       "<tbody>\n",
       "\t<tr><th scope=row>L1.human_759</th><td>L1</td><td>human_759</td><td>human             </td></tr>\n",
       "\t<tr><th scope=row>L1.human_j12</th><td>L1</td><td>human_j12</td><td>human             </td></tr>\n",
       "\t<tr><th scope=row>L1.human_j3</th><td>L1</td><td>human_j3 </td><td>human             </td></tr>\n",
       "\t<tr><th scope=row>L1.human_j4</th><td>L1</td><td>human_j4 </td><td>human             </td></tr>\n",
       "\t<tr><th scope=row>L1.human_j6</th><td>L1</td><td>human_j6 </td><td>human             </td></tr>\n",
       "\t<tr><th scope=row>L1.151507</th><td>L1</td><td>151507   </td><td>spatial_libd_human</td></tr>\n",
       "</tbody>\n",
       "</table>\n"
      ],
      "text/latex": [
       "A data.frame: 6 × 3\n",
       "\\begin{tabular}{r|lll}\n",
       "  & layer & sample\\_id & condition\\\\\n",
       "  & <chr> & <chr> & <fct>\\\\\n",
       "\\hline\n",
       "\tL1.human\\_759 & L1 & human\\_759 & human             \\\\\n",
       "\tL1.human\\_j12 & L1 & human\\_j12 & human             \\\\\n",
       "\tL1.human\\_j3 & L1 & human\\_j3  & human             \\\\\n",
       "\tL1.human\\_j4 & L1 & human\\_j4  & human             \\\\\n",
       "\tL1.human\\_j6 & L1 & human\\_j6  & human             \\\\\n",
       "\tL1.151507 & L1 & 151507    & spatial\\_libd\\_human\\\\\n",
       "\\end{tabular}\n"
      ],
      "text/markdown": [
       "\n",
       "A data.frame: 6 × 3\n",
       "\n",
       "| <!--/--> | layer &lt;chr&gt; | sample_id &lt;chr&gt; | condition &lt;fct&gt; |\n",
       "|---|---|---|---|\n",
       "| L1.human_759 | L1 | human_759 | human              |\n",
       "| L1.human_j12 | L1 | human_j12 | human              |\n",
       "| L1.human_j3 | L1 | human_j3  | human              |\n",
       "| L1.human_j4 | L1 | human_j4  | human              |\n",
       "| L1.human_j6 | L1 | human_j6  | human              |\n",
       "| L1.151507 | L1 | 151507    | spatial_libd_human |\n",
       "\n"
      ],
      "text/plain": [
       "             layer sample_id condition         \n",
       "L1.human_759 L1    human_759 human             \n",
       "L1.human_j12 L1    human_j12 human             \n",
       "L1.human_j3  L1    human_j3  human             \n",
       "L1.human_j4  L1    human_j4  human             \n",
       "L1.human_j6  L1    human_j6  human             \n",
       "L1.151507    L1    151507    spatial_libd_human"
      ]
     },
     "metadata": {},
     "output_type": "display_data"
    }
   ],
   "source": [
    "layer <- \"L1\"\n",
    "ann_L1 <- annotation[annotation$layer == layer, ]\n",
    "ann_L1$condition <- factor(ann_L1$condition, levels=c(\"human\", \"spatial_libd_human\"))\n",
    "ann_L1$condition <- relevel(ann_L1$condition, ref=\"spatial_libd_human\")\n",
    "head(ann_L1)"
   ]
  },
  {
   "cell_type": "code",
   "execution_count": 11,
   "id": "b9037c0c",
   "metadata": {
    "scrolled": true
   },
   "outputs": [
    {
     "data": {
      "text/html": [
       "<table class=\"dataframe\">\n",
       "<caption>A data.frame: 6 × 13</caption>\n",
       "<thead>\n",
       "\t<tr><th></th><th scope=col>L1.human_759</th><th scope=col>L1.human_j12</th><th scope=col>L1.human_j3</th><th scope=col>L1.human_j4</th><th scope=col>L1.human_j6</th><th scope=col>L1.151507</th><th scope=col>L1.151508</th><th scope=col>L1.151509</th><th scope=col>L1.151510</th><th scope=col>L1.151673</th><th scope=col>L1.151674</th><th scope=col>L1.151675</th><th scope=col>L1.151676</th></tr>\n",
       "\t<tr><th></th><th scope=col>&lt;dbl&gt;</th><th scope=col>&lt;dbl&gt;</th><th scope=col>&lt;dbl&gt;</th><th scope=col>&lt;dbl&gt;</th><th scope=col>&lt;dbl&gt;</th><th scope=col>&lt;dbl&gt;</th><th scope=col>&lt;dbl&gt;</th><th scope=col>&lt;dbl&gt;</th><th scope=col>&lt;dbl&gt;</th><th scope=col>&lt;dbl&gt;</th><th scope=col>&lt;dbl&gt;</th><th scope=col>&lt;dbl&gt;</th><th scope=col>&lt;dbl&gt;</th></tr>\n",
       "</thead>\n",
       "<tbody>\n",
       "\t<tr><th scope=row>A1BG</th><td> 72</td><td>48</td><td>21</td><td>60</td><td> 9</td><td> 58</td><td> 35</td><td> 73</td><td> 76</td><td>13</td><td> 48</td><td> 8</td><td>14</td></tr>\n",
       "\t<tr><th scope=row>A1CF</th><td>  1</td><td> 0</td><td> 0</td><td> 2</td><td> 0</td><td>  0</td><td>  0</td><td>  0</td><td>  0</td><td> 0</td><td>  0</td><td> 0</td><td> 0</td></tr>\n",
       "\t<tr><th scope=row>A2M</th><td>282</td><td>72</td><td>46</td><td>58</td><td>79</td><td>180</td><td>200</td><td>296</td><td>286</td><td>78</td><td>206</td><td>60</td><td>98</td></tr>\n",
       "\t<tr><th scope=row>A2ML1</th><td>  5</td><td> 0</td><td> 0</td><td> 0</td><td> 0</td><td>  3</td><td>  9</td><td>  8</td><td>  3</td><td> 1</td><td>  2</td><td> 0</td><td> 0</td></tr>\n",
       "\t<tr><th scope=row>A3GALT2</th><td>  0</td><td> 0</td><td> 0</td><td> 0</td><td> 0</td><td>  0</td><td>  0</td><td>  0</td><td>  0</td><td> 0</td><td>  0</td><td> 0</td><td> 0</td></tr>\n",
       "\t<tr><th scope=row>A4GALT</th><td>  2</td><td> 3</td><td> 0</td><td> 0</td><td> 2</td><td>  4</td><td>  7</td><td> 11</td><td>  5</td><td> 1</td><td>  7</td><td> 3</td><td> 1</td></tr>\n",
       "</tbody>\n",
       "</table>\n"
      ],
      "text/latex": [
       "A data.frame: 6 × 13\n",
       "\\begin{tabular}{r|lllllllllllll}\n",
       "  & L1.human\\_759 & L1.human\\_j12 & L1.human\\_j3 & L1.human\\_j4 & L1.human\\_j6 & L1.151507 & L1.151508 & L1.151509 & L1.151510 & L1.151673 & L1.151674 & L1.151675 & L1.151676\\\\\n",
       "  & <dbl> & <dbl> & <dbl> & <dbl> & <dbl> & <dbl> & <dbl> & <dbl> & <dbl> & <dbl> & <dbl> & <dbl> & <dbl>\\\\\n",
       "\\hline\n",
       "\tA1BG &  72 & 48 & 21 & 60 &  9 &  58 &  35 &  73 &  76 & 13 &  48 &  8 & 14\\\\\n",
       "\tA1CF &   1 &  0 &  0 &  2 &  0 &   0 &   0 &   0 &   0 &  0 &   0 &  0 &  0\\\\\n",
       "\tA2M & 282 & 72 & 46 & 58 & 79 & 180 & 200 & 296 & 286 & 78 & 206 & 60 & 98\\\\\n",
       "\tA2ML1 &   5 &  0 &  0 &  0 &  0 &   3 &   9 &   8 &   3 &  1 &   2 &  0 &  0\\\\\n",
       "\tA3GALT2 &   0 &  0 &  0 &  0 &  0 &   0 &   0 &   0 &   0 &  0 &   0 &  0 &  0\\\\\n",
       "\tA4GALT &   2 &  3 &  0 &  0 &  2 &   4 &   7 &  11 &   5 &  1 &   7 &  3 &  1\\\\\n",
       "\\end{tabular}\n"
      ],
      "text/markdown": [
       "\n",
       "A data.frame: 6 × 13\n",
       "\n",
       "| <!--/--> | L1.human_759 &lt;dbl&gt; | L1.human_j12 &lt;dbl&gt; | L1.human_j3 &lt;dbl&gt; | L1.human_j4 &lt;dbl&gt; | L1.human_j6 &lt;dbl&gt; | L1.151507 &lt;dbl&gt; | L1.151508 &lt;dbl&gt; | L1.151509 &lt;dbl&gt; | L1.151510 &lt;dbl&gt; | L1.151673 &lt;dbl&gt; | L1.151674 &lt;dbl&gt; | L1.151675 &lt;dbl&gt; | L1.151676 &lt;dbl&gt; |\n",
       "|---|---|---|---|---|---|---|---|---|---|---|---|---|---|\n",
       "| A1BG |  72 | 48 | 21 | 60 |  9 |  58 |  35 |  73 |  76 | 13 |  48 |  8 | 14 |\n",
       "| A1CF |   1 |  0 |  0 |  2 |  0 |   0 |   0 |   0 |   0 |  0 |   0 |  0 |  0 |\n",
       "| A2M | 282 | 72 | 46 | 58 | 79 | 180 | 200 | 296 | 286 | 78 | 206 | 60 | 98 |\n",
       "| A2ML1 |   5 |  0 |  0 |  0 |  0 |   3 |   9 |   8 |   3 |  1 |   2 |  0 |  0 |\n",
       "| A3GALT2 |   0 |  0 |  0 |  0 |  0 |   0 |   0 |   0 |   0 |  0 |   0 |  0 |  0 |\n",
       "| A4GALT |   2 |  3 |  0 |  0 |  2 |   4 |   7 |  11 |   5 |  1 |   7 |  3 |  1 |\n",
       "\n"
      ],
      "text/plain": [
       "        L1.human_759 L1.human_j12 L1.human_j3 L1.human_j4 L1.human_j6 L1.151507\n",
       "A1BG     72          48           21          60           9           58      \n",
       "A1CF      1           0            0           2           0            0      \n",
       "A2M     282          72           46          58          79          180      \n",
       "A2ML1     5           0            0           0           0            3      \n",
       "A3GALT2   0           0            0           0           0            0      \n",
       "A4GALT    2           3            0           0           2            4      \n",
       "        L1.151508 L1.151509 L1.151510 L1.151673 L1.151674 L1.151675 L1.151676\n",
       "A1BG     35        73        76       13         48        8        14       \n",
       "A1CF      0         0         0        0          0        0         0       \n",
       "A2M     200       296       286       78        206       60        98       \n",
       "A2ML1     9         8         3        1          2        0         0       \n",
       "A3GALT2   0         0         0        0          0        0         0       \n",
       "A4GALT    7        11         5        1          7        3         1       "
      ]
     },
     "metadata": {},
     "output_type": "display_data"
    }
   ],
   "source": [
    "expr_L1 <- expression[, rownames(ann_L1)]\n",
    "rownames(expr_L1) <- expression$X\n",
    "group <- ann_L1$condition\n",
    "head(expr_L1)"
   ]
  },
  {
   "cell_type": "code",
   "execution_count": 12,
   "id": "225b04d9",
   "metadata": {},
   "outputs": [
    {
     "name": "stderr",
     "output_type": "stream",
     "text": [
      "converting counts to integer mode\n",
      "\n"
     ]
    },
    {
     "data": {
      "text/plain": [
       "class: DESeqDataSet \n",
       "dim: 19404 13 \n",
       "metadata(1): version\n",
       "assays(1): counts\n",
       "rownames(19404): A1BG A1CF ... ZYX ZZEF1\n",
       "rowData names(0):\n",
       "colnames(13): L1.human_759 L1.human_j12 ... L1.151675 L1.151676\n",
       "colData names(3): layer sample_id condition"
      ]
     },
     "metadata": {},
     "output_type": "display_data"
    }
   ],
   "source": [
    "dds <- DESeqDataSetFromMatrix(countData = round(expr_L1),\n",
    "                              colData = ann_L1,\n",
    "                              design = ~ condition)\n",
    "dds"
   ]
  },
  {
   "cell_type": "markdown",
   "id": "3bde2644",
   "metadata": {},
   "source": [
    "### Filtering"
   ]
  },
  {
   "cell_type": "code",
   "execution_count": 13,
   "id": "9eeccb44",
   "metadata": {},
   "outputs": [],
   "source": [
    "keep <- rowSums(counts(dds)) >= 10\n",
    "dds <- dds[keep,]"
   ]
  },
  {
   "cell_type": "markdown",
   "id": "5f11c7ca",
   "metadata": {},
   "source": [
    "### DE"
   ]
  },
  {
   "cell_type": "code",
   "execution_count": 19,
   "id": "4611fd31",
   "metadata": {},
   "outputs": [
    {
     "name": "stderr",
     "output_type": "stream",
     "text": [
      "using pre-existing size factors\n",
      "\n",
      "estimating dispersions\n",
      "\n",
      "found already estimated dispersions, replacing these\n",
      "\n",
      "gene-wise dispersion estimates\n",
      "\n",
      "mean-dispersion relationship\n",
      "\n",
      "final dispersion estimates\n",
      "\n",
      "fitting model and testing\n",
      "\n",
      "-- replacing outliers and refitting for 13 genes\n",
      "-- DESeq argument 'minReplicatesForReplace' = 7 \n",
      "-- original counts are preserved in counts(dds)\n",
      "\n",
      "estimating dispersions\n",
      "\n",
      "fitting model and testing\n",
      "\n"
     ]
    },
    {
     "data": {
      "text/plain": [
       "log2 fold change (MLE): condition human vs spatial libd human \n",
       "Wald test p-value: condition human vs spatial libd human \n",
       "DataFrame with 14488 rows and 6 columns\n",
       "        baseMean log2FoldChange     lfcSE      stat      pvalue       padj\n",
       "       <numeric>      <numeric> <numeric> <numeric>   <numeric>  <numeric>\n",
       "A1BG    32.36245      0.0264937  0.249321  0.106263   0.9153737  0.9468345\n",
       "A2M    130.14977     -0.6965475  0.283175 -2.459777   0.0139023  0.0369131\n",
       "A2ML1    1.77906     -1.8360810  1.045624 -1.755968   0.0790939  0.1519124\n",
       "A4GALT   3.09796     -1.7806375  0.708405 -2.513586   0.0119511  0.0325501\n",
       "AAAS    12.32829      0.0612798  0.298835  0.205062   0.8375238  0.8945617\n",
       "...          ...            ...       ...       ...         ...        ...\n",
       "ZXDB     9.72175       0.675662  0.326039  2.072335 0.038234248 0.08450061\n",
       "ZXDC     4.82508      -0.392445  0.487577 -0.804888 0.420884193 0.54958683\n",
       "ZYG11B  80.58295       0.637203  0.179063  3.558552 0.000372905 0.00163818\n",
       "ZYX     50.27077       0.386821  0.192244  2.012138 0.044205376 0.09504805\n",
       "ZZEF1   13.86049       0.439732  0.384457  1.143776 0.252716569 0.37567520"
      ]
     },
     "metadata": {},
     "output_type": "display_data"
    }
   ],
   "source": [
    "dds <- DESeq(dds)\n",
    "res <- results(dds)\n",
    "res"
   ]
  },
  {
   "cell_type": "code",
   "execution_count": 31,
   "id": "ed9fe873",
   "metadata": {},
   "outputs": [
    {
     "data": {
      "image/png": "[encoded data removed]",
      "text/plain": [
       "plot without title"
      ]
     },
     "metadata": {
      "image/png": {
       "height": 420,
       "width": 420
      }
     },
     "output_type": "display_data"
    }
   ],
   "source": [
    "plotDispEsts(dds)"
   ]
  },
  {
   "cell_type": "code",
   "execution_count": 20,
   "id": "b3aea7d8",
   "metadata": {},
   "outputs": [
    {
     "name": "stdout",
     "output_type": "stream",
     "text": [
      "\n",
      "out of 14488 with nonzero total read count\n",
      "adjusted p-value < 0.1\n",
      "LFC > 0 (up)       : 3241, 22%\n",
      "LFC < 0 (down)     : 3570, 25%\n",
      "outliers [1]       : 12, 0.083%\n",
      "low counts [2]     : 0, 0%\n",
      "(mean count < 0)\n",
      "[1] see 'cooksCutoff' argument of ?results\n",
      "[2] see 'independentFiltering' argument of ?results\n",
      "\n"
     ]
    }
   ],
   "source": [
    "summary(res)"
   ]
  },
  {
   "cell_type": "code",
   "execution_count": 23,
   "id": "142822e9",
   "metadata": {},
   "outputs": [
    {
     "data": {
      "text/html": [
       "6811"
      ],
      "text/latex": [
       "6811"
      ],
      "text/markdown": [
       "6811"
      ],
      "text/plain": [
       "[1] 6811"
      ]
     },
     "metadata": {},
     "output_type": "display_data"
    }
   ],
   "source": [
    "sum(res$padj < 0.1, na.rm=TRUE)"
   ]
  },
  {
   "cell_type": "code",
   "execution_count": 24,
   "id": "1713e80d",
   "metadata": {},
   "outputs": [
    {
     "name": "stdout",
     "output_type": "stream",
     "text": [
      "\n",
      "out of 14488 with nonzero total read count\n",
      "adjusted p-value < 0.05\n",
      "LFC > 0 (up)       : 2772, 19%\n",
      "LFC < 0 (down)     : 3049, 21%\n",
      "outliers [1]       : 12, 0.083%\n",
      "low counts [2]     : 0, 0%\n",
      "(mean count < 0)\n",
      "[1] see 'cooksCutoff' argument of ?results\n",
      "[2] see 'independentFiltering' argument of ?results\n",
      "\n"
     ]
    }
   ],
   "source": [
    "res05 <- results(dds, alpha=0.05)\n",
    "summary(res05)"
   ]
  },
  {
   "cell_type": "markdown",
   "id": "d1bea432",
   "metadata": {},
   "source": [
    "### Log fold change shrinkage for visualization and ranking"
   ]
  },
  {
   "cell_type": "code",
   "execution_count": 21,
   "id": "222ec114",
   "metadata": {},
   "outputs": [
    {
     "data": {
      "text/html": [
       "<style>\n",
       ".list-inline {list-style: none; margin:0; padding: 0}\n",
       ".list-inline>li {display: inline-block}\n",
       ".list-inline>li:not(:last-child)::after {content: \"\\00b7\"; padding: 0 .5ex}\n",
       "</style>\n",
       "<ol class=list-inline><li>'Intercept'</li><li>'condition_human_vs_spatial_libd_human'</li></ol>\n"
      ],
      "text/latex": [
       "\\begin{enumerate*}\n",
       "\\item 'Intercept'\n",
       "\\item 'condition\\_human\\_vs\\_spatial\\_libd\\_human'\n",
       "\\end{enumerate*}\n"
      ],
      "text/markdown": [
       "1. 'Intercept'\n",
       "2. 'condition_human_vs_spatial_libd_human'\n",
       "\n",
       "\n"
      ],
      "text/plain": [
       "[1] \"Intercept\"                            \n",
       "[2] \"condition_human_vs_spatial_libd_human\""
      ]
     },
     "metadata": {},
     "output_type": "display_data"
    }
   ],
   "source": [
    "resultsNames(dds)"
   ]
  },
  {
   "cell_type": "code",
   "execution_count": 22,
   "id": "918d976d",
   "metadata": {},
   "outputs": [
    {
     "name": "stderr",
     "output_type": "stream",
     "text": [
      "using 'apeglm' for LFC shrinkage. If used in published research, please cite:\n",
      "    Zhu, A., Ibrahim, J.G., Love, M.I. (2018) Heavy-tailed prior distributions for\n",
      "    sequence count data: removing the noise and preserving large differences.\n",
      "    Bioinformatics. https://doi.org/10.1093/bioinformatics/bty895\n",
      "\n"
     ]
    },
    {
     "data": {
      "text/plain": [
       "log2 fold change (MAP): condition human vs spatial libd human \n",
       "Wald test p-value: condition human vs spatial libd human \n",
       "DataFrame with 14488 rows and 5 columns\n",
       "        baseMean log2FoldChange     lfcSE      pvalue       padj\n",
       "       <numeric>      <numeric> <numeric>   <numeric>  <numeric>\n",
       "A1BG    32.36245      0.0242687  0.234876   0.9153737  0.9468345\n",
       "A2M    130.14977     -0.6317366  0.278117   0.0139023  0.0369131\n",
       "A2ML1    1.77906     -0.9224262  0.937417   0.0790939  0.1519124\n",
       "A4GALT   3.09796     -1.3437303  0.706417   0.0119511  0.0325501\n",
       "AAAS    12.32829      0.0534985  0.279223   0.8375238  0.8945617\n",
       "...          ...            ...       ...         ...        ...\n",
       "ZXDB     9.72175       0.594553  0.313320 0.038234248 0.08450061\n",
       "ZXDC     4.82508      -0.284647  0.424067 0.420884193 0.54958683\n",
       "ZYG11B  80.58295       0.612375  0.176748 0.000372905 0.00163818\n",
       "ZYX     50.27077       0.366290  0.189094 0.044205376 0.09504805\n",
       "ZZEF1   13.86049       0.357883  0.357000 0.252716569 0.37567520"
      ]
     },
     "metadata": {},
     "output_type": "display_data"
    }
   ],
   "source": [
    "resLFC <- lfcShrink(dds, coef=\"condition_human_vs_spatial_libd_human\", type=\"apeglm\")\n",
    "resLFC"
   ]
  },
  {
   "cell_type": "markdown",
   "id": "c8937224",
   "metadata": {},
   "source": [
    "### Visualization"
   ]
  },
  {
   "cell_type": "code",
   "execution_count": 25,
   "id": "abecec04",
   "metadata": {},
   "outputs": [
    {
     "data": {
      "image/png": "[encoded data removed]",
      "text/plain": [
       "Plot with title \"\""
      ]
     },
     "metadata": {
      "image/png": {
       "height": 420,
       "width": 420
      }
     },
     "output_type": "display_data"
    }
   ],
   "source": [
    "plotMA(res, ylim=c(-2,2))"
   ]
  },
  {
   "cell_type": "code",
   "execution_count": 26,
   "id": "a8051351",
   "metadata": {},
   "outputs": [
    {
     "data": {
      "image/png": "[encoded data removed]",
      "text/plain": [
       "Plot with title \"\""
      ]
     },
     "metadata": {
      "image/png": {
       "height": 420,
       "width": 420
      }
     },
     "output_type": "display_data"
    }
   ],
   "source": [
    "plotMA(resLFC, ylim=c(-2,2))"
   ]
  },
  {
   "cell_type": "code",
   "execution_count": 35,
   "id": "1d5bed0c",
   "metadata": {},
   "outputs": [
    {
     "data": {
      "text/html": [
       "<table class=\"dataframe\">\n",
       "<caption>A data.frame: 6 × 6</caption>\n",
       "<thead>\n",
       "\t<tr><th></th><th scope=col>baseMean</th><th scope=col>log2FoldChange</th><th scope=col>lfcSE</th><th scope=col>stat</th><th scope=col>pvalue</th><th scope=col>padj</th></tr>\n",
       "\t<tr><th></th><th scope=col>&lt;dbl&gt;</th><th scope=col>&lt;dbl&gt;</th><th scope=col>&lt;dbl&gt;</th><th scope=col>&lt;dbl&gt;</th><th scope=col>&lt;dbl&gt;</th><th scope=col>&lt;dbl&gt;</th></tr>\n",
       "</thead>\n",
       "<tbody>\n",
       "\t<tr><th scope=row>A1BG</th><td> 32.362454</td><td> 0.02649365</td><td>0.2493214</td><td> 0.1062630</td><td>0.91537365</td><td>0.94683451</td></tr>\n",
       "\t<tr><th scope=row>A2M</th><td>130.149774</td><td>-0.69654752</td><td>0.2831751</td><td>-2.4597771</td><td>0.01390233</td><td>0.03691309</td></tr>\n",
       "\t<tr><th scope=row>A2ML1</th><td>  1.779065</td><td>-1.83608103</td><td>1.0456235</td><td>-1.7559676</td><td>0.07909395</td><td>0.15191243</td></tr>\n",
       "\t<tr><th scope=row>A4GALT</th><td>  3.097964</td><td>-1.78063745</td><td>0.7084053</td><td>-2.5135856</td><td>0.01195108</td><td>0.03255010</td></tr>\n",
       "\t<tr><th scope=row>AAAS</th><td> 12.328293</td><td> 0.06127976</td><td>0.2988355</td><td> 0.2050619</td><td>0.83752380</td><td>0.89456169</td></tr>\n",
       "\t<tr><th scope=row>AACS</th><td> 30.112458</td><td>-0.50561909</td><td>0.2260070</td><td>-2.2371833</td><td>0.02527436</td><td>0.06033503</td></tr>\n",
       "</tbody>\n",
       "</table>\n"
      ],
      "text/latex": [
       "A data.frame: 6 × 6\n",
       "\\begin{tabular}{r|llllll}\n",
       "  & baseMean & log2FoldChange & lfcSE & stat & pvalue & padj\\\\\n",
       "  & <dbl> & <dbl> & <dbl> & <dbl> & <dbl> & <dbl>\\\\\n",
       "\\hline\n",
       "\tA1BG &  32.362454 &  0.02649365 & 0.2493214 &  0.1062630 & 0.91537365 & 0.94683451\\\\\n",
       "\tA2M & 130.149774 & -0.69654752 & 0.2831751 & -2.4597771 & 0.01390233 & 0.03691309\\\\\n",
       "\tA2ML1 &   1.779065 & -1.83608103 & 1.0456235 & -1.7559676 & 0.07909395 & 0.15191243\\\\\n",
       "\tA4GALT &   3.097964 & -1.78063745 & 0.7084053 & -2.5135856 & 0.01195108 & 0.03255010\\\\\n",
       "\tAAAS &  12.328293 &  0.06127976 & 0.2988355 &  0.2050619 & 0.83752380 & 0.89456169\\\\\n",
       "\tAACS &  30.112458 & -0.50561909 & 0.2260070 & -2.2371833 & 0.02527436 & 0.06033503\\\\\n",
       "\\end{tabular}\n"
      ],
      "text/markdown": [
       "\n",
       "A data.frame: 6 × 6\n",
       "\n",
       "| <!--/--> | baseMean &lt;dbl&gt; | log2FoldChange &lt;dbl&gt; | lfcSE &lt;dbl&gt; | stat &lt;dbl&gt; | pvalue &lt;dbl&gt; | padj &lt;dbl&gt; |\n",
       "|---|---|---|---|---|---|---|\n",
       "| A1BG |  32.362454 |  0.02649365 | 0.2493214 |  0.1062630 | 0.91537365 | 0.94683451 |\n",
       "| A2M | 130.149774 | -0.69654752 | 0.2831751 | -2.4597771 | 0.01390233 | 0.03691309 |\n",
       "| A2ML1 |   1.779065 | -1.83608103 | 1.0456235 | -1.7559676 | 0.07909395 | 0.15191243 |\n",
       "| A4GALT |   3.097964 | -1.78063745 | 0.7084053 | -2.5135856 | 0.01195108 | 0.03255010 |\n",
       "| AAAS |  12.328293 |  0.06127976 | 0.2988355 |  0.2050619 | 0.83752380 | 0.89456169 |\n",
       "| AACS |  30.112458 | -0.50561909 | 0.2260070 | -2.2371833 | 0.02527436 | 0.06033503 |\n",
       "\n"
      ],
      "text/plain": [
       "       baseMean   log2FoldChange lfcSE     stat       pvalue     padj      \n",
       "A1BG    32.362454  0.02649365    0.2493214  0.1062630 0.91537365 0.94683451\n",
       "A2M    130.149774 -0.69654752    0.2831751 -2.4597771 0.01390233 0.03691309\n",
       "A2ML1    1.779065 -1.83608103    1.0456235 -1.7559676 0.07909395 0.15191243\n",
       "A4GALT   3.097964 -1.78063745    0.7084053 -2.5135856 0.01195108 0.03255010\n",
       "AAAS    12.328293  0.06127976    0.2988355  0.2050619 0.83752380 0.89456169\n",
       "AACS    30.112458 -0.50561909    0.2260070 -2.2371833 0.02527436 0.06033503"
      ]
     },
     "metadata": {},
     "output_type": "display_data"
    }
   ],
   "source": [
    "dif_exp_res <- data.frame(res)\n",
    "head(dif_exp_res)"
   ]
  },
  {
   "cell_type": "code",
   "execution_count": 36,
   "id": "d27f0c0f",
   "metadata": {},
   "outputs": [
    {
     "name": "stderr",
     "output_type": "stream",
     "text": [
      "Warning message:\n",
      "\"\u001b[1m\u001b[22mRemoved 12 rows containing missing values (`geom_point()`).\"\n"
     ]
    },
    {
     "data": {
      "image/png": "[encoded data removed]",
      "text/plain": [
       "plot without title"
      ]
     },
     "metadata": {
      "image/png": {
       "height": 420,
       "width": 420
      }
     },
     "output_type": "display_data"
    }
   ],
   "source": [
    "ggplot(dif_exp_res, aes(x=log2FoldChange,y=-log10(padj)))+\n",
    "  geom_point()"
   ]
  }
 ],
 "metadata": {
  "kernelspec": {
   "display_name": "R",
   "language": "R",
   "name": "ir"
  },
  "language_info": {
   "codemirror_mode": "r",
   "file_extension": ".r",
   "mimetype": "text/x-r-source",
   "name": "R",
   "pygments_lexer": "r",
   "version": "4.2.2"
  }
 },
 "nbformat": 4,
 "nbformat_minor": 5
}
