{
  "nbformat": 4,
  "nbformat_minor": 0,
  "metadata": {
    "colab": {
      "provenance": [],
      "mount_file_id": "1EI_SIjMQDk8QR7a4hWZIwwQx1PqE-QZg",
      "authorship_tag": "ABX9TyOfxzuLPzPbdqKvKzz30AVr",
      "include_colab_link": true
    },
    "kernelspec": {
      "name": "python3",
      "display_name": "Python 3"
    },
    "language_info": {
      "name": "python"
    }
  },
  "cells": [
    {
      "cell_type": "markdown",
      "metadata": {
        "id": "view-in-github",
        "colab_type": "text"
      },
      "source": [
        "<a href=\"https://colab.research.google.com/github/Claptar/diploma/blob/main/DE/human_young_vs_old_scanpy/L2_young_vs_old.ipynb\" target=\"_parent\"><img src=\"https://colab.research.google.com/assets/colab-badge.svg\" alt=\"Open In Colab\"/></a>"
      ]
    },
    {
      "cell_type": "markdown",
      "source": [
        "# Dependencies and files"
      ],
      "metadata": {
        "id": "roImYnkY0lWf"
      }
    },
    {
      "cell_type": "markdown",
      "source": [
        "## Install dependencies"
      ],
      "metadata": {
        "id": "S4MUyf2v1Em0"
      }
    },
    {
      "cell_type": "code",
      "execution_count": null,
      "metadata": {
        "id": "jtIguoeYycDt"
      },
      "outputs": [],
      "source": [
        "!pip install scanpy[leiden] anndata2ri scikit-misc scvi-tools squidpy gseapy==0.10.8 --quiet\n",
        "\n",
        "# Необходимо, чтобы конкретно прогрузился matplotlib\n",
        "import os\n",
        "os.kill(os.getpid(), 9)"
      ]
    },
    {
      "cell_type": "markdown",
      "source": [
        "## Imports"
      ],
      "metadata": {
        "id": "baxM7gAy1KGe"
      }
    },
    {
      "cell_type": "code",
      "source": [
        "import warnings\n",
        "import scanpy as sc\n",
        "import squidpy as sq\n",
        "import anndata as an\n",
        "import gseapy\n",
        "import pandas as pd\n",
        "import numpy as np\n",
        "import matplotlib as mpl\n",
        "import matplotlib.pyplot as plt\n",
        "import seaborn as sns\n",
        "from urllib import request\n",
        "import json\n",
        "import os\n",
        "\n",
        "sc.settings.set_figure_params(dpi=80)\n",
        "#sc.set_figure_params(facecolor=\"white\", figsize=(8, 8))\n",
        "warnings.simplefilter(action='ignore', category=FutureWarning)\n",
        "sc.settings.verbosity = 3"
      ],
      "metadata": {
        "id": "XkfmfwsM1B8U"
      },
      "execution_count": 51,
      "outputs": []
    },
    {
      "cell_type": "markdown",
      "source": [
        "# Global variables"
      ],
      "metadata": {
        "id": "AAvYvli71MwA"
      }
    },
    {
      "cell_type": "markdown",
      "source": [
        "Нужно подключить свой гугл диск"
      ],
      "metadata": {
        "id": "0WW2BZ-E69Q1"
      }
    },
    {
      "cell_type": "code",
      "source": [
        "dir_path = 'drive/MyDrive/Spatial project/results/'"
      ],
      "metadata": {
        "id": "stinbfdc16b3"
      },
      "execution_count": 52,
      "outputs": []
    },
    {
      "cell_type": "code",
      "source": [
        "os.listdir('drive/MyDrive/Spatial project/results/filtered_samples/')"
      ],
      "metadata": {
        "colab": {
          "base_uri": "https://localhost:8080/"
        },
        "id": "EGS6EZT_1ZA3",
        "outputId": "2a743b49-709b-43e0-e6a8-af39b0ba7663"
      },
      "execution_count": 53,
      "outputs": [
        {
          "output_type": "execute_result",
          "data": {
            "text/plain": [
              "['human.h5ad', 'chimp.h5ad', 'macaque.h5ad', 'spatial_libd_human.h5ad']"
            ]
          },
          "metadata": {},
          "execution_count": 53
        }
      ]
    },
    {
      "cell_type": "code",
      "source": [
        "# read young human adata object\n",
        "human_young = sc.read_h5ad(dir_path + 'filtered_samples/human.h5ad')\n",
        "print(human_young)\n",
        "\n",
        "# add _young sufix to layer name\n",
        "human_young.obs.label.replace({\"L6a\": \"L6\", \"L6b\": \"L6\"}, inplace=True)\n",
        "human_young.obs.label = human_young.obs.label.astype('str') + '_young'"
      ],
      "metadata": {
        "colab": {
          "base_uri": "https://localhost:8080/"
        },
        "id": "-S6-7U-52Vv7",
        "outputId": "500096ad-036c-4c47-bd2e-9c4cd73d63d7"
      },
      "execution_count": 54,
      "outputs": [
        {
          "output_type": "stream",
          "name": "stdout",
          "text": [
            "AnnData object with n_obs × n_vars = 15417 × 19966\n",
            "    obs: 'in_tissue', 'array_row', 'array_col', 'label', 'sample_id', 'n_genes_by_counts', 'total_counts', 'total_counts_mt', 'pct_counts_mt', 'total_counts_hb', 'pct_counts_hb', 'total_counts_ribo', 'pct_counts_ribo'\n",
            "    var: 'gene_ids', 'feature_types', 'mt', 'hb', 'ribo'\n",
            "    uns: 'qc_good_spots_colors', 'qc_n_genes_by_counts_colors', 'qc_pct_counts_ribo_colors', 'qc_total_counts_colors', 'spatial'\n",
            "    obsm: 'spatial'\n"
          ]
        },
        {
          "output_type": "stream",
          "name": "stderr",
          "text": [
            "/usr/local/lib/python3.9/dist-packages/anndata/_core/anndata.py:1828: UserWarning: Observation names are not unique. To make them unique, call `.obs_names_make_unique`.\n",
            "  utils.warn_names_duplicates(\"obs\")\n"
          ]
        }
      ]
    },
    {
      "cell_type": "code",
      "source": [
        "# read young human adata object\n",
        "human_old = sc.read_h5ad(dir_path + 'filtered_samples/spatial_libd_human.h5ad')\n",
        "print(human_old)\n",
        "\n",
        "# add _young sufix to layer name\n",
        "human_old.obs.label = human_old.obs.label.astype('str') + '_old'"
      ],
      "metadata": {
        "colab": {
          "base_uri": "https://localhost:8080/"
        },
        "id": "2gf_lbweIS2T",
        "outputId": "d3a7cd94-9167-4806-e58b-ef2ada07125f"
      },
      "execution_count": 55,
      "outputs": [
        {
          "output_type": "stream",
          "name": "stdout",
          "text": [
            "AnnData object with n_obs × n_vars = 42588 × 33538\n",
            "    obs: 'in_tissue', 'array_row', 'array_col', 'label', 'sample_id', 'n_genes_by_counts', 'total_counts', 'total_counts_mt', 'pct_counts_mt', 'total_counts_hb', 'pct_counts_hb', 'total_counts_ribo', 'pct_counts_ribo'\n",
            "    var: 'gene_ids', 'feature_types', 'genome', 'mt', 'hb', 'ribo'\n",
            "    uns: 'qc_good_spots_colors', 'qc_n_genes_by_counts_colors', 'qc_pct_counts_mt_colors', 'qc_pct_counts_ribo_colors', 'qc_total_counts_colors', 'spatial'\n",
            "    obsm: 'spatial'\n"
          ]
        },
        {
          "output_type": "stream",
          "name": "stderr",
          "text": [
            "/usr/local/lib/python3.9/dist-packages/anndata/_core/anndata.py:1828: UserWarning: Observation names are not unique. To make them unique, call `.obs_names_make_unique`.\n",
            "  utils.warn_names_duplicates(\"obs\")\n"
          ]
        }
      ]
    },
    {
      "cell_type": "code",
      "source": [
        "# concat old and young files\n",
        "adata = an.concat([human_young, human_old], merge='same',uns_merge=\"unique\")\n",
        "adata.obs_names_make_unique()\n",
        "adata"
      ],
      "metadata": {
        "id": "eL1rSP8E9--R"
      },
      "execution_count": null,
      "outputs": []
    },
    {
      "cell_type": "code",
      "source": [
        "samples = list(adata.uns['spatial'].keys())\n",
        "samples"
      ],
      "metadata": {
        "id": "69fBXr8r-qMa"
      },
      "execution_count": null,
      "outputs": []
    },
    {
      "cell_type": "code",
      "source": [
        "del human_old, human_young"
      ],
      "metadata": {
        "id": "X3sDP-5IJFiU"
      },
      "execution_count": null,
      "outputs": []
    },
    {
      "cell_type": "markdown",
      "source": [
        "# Посмотрим на картинки"
      ],
      "metadata": {
        "id": "6Duwgh26-ZuL"
      }
    },
    {
      "cell_type": "code",
      "source": [
        "sq.pl.spatial_scatter(adata, color=['label'], library_key='sample_id', size=1.1, ncols=5, title=samples)"
      ],
      "metadata": {
        "id": "8gH3fu0e-hgQ"
      },
      "execution_count": null,
      "outputs": []
    },
    {
      "cell_type": "markdown",
      "source": [
        "# Differential expression"
      ],
      "metadata": {
        "id": "hvOF_N_gJqi5"
      }
    },
    {
      "cell_type": "code",
      "source": [
        "key = 'DE_L3'\n",
        "groups = [\"L3_young\", \"L3_old\"]"
      ],
      "metadata": {
        "id": "3qH9-VyIHYPY"
      },
      "execution_count": null,
      "outputs": []
    },
    {
      "cell_type": "code",
      "source": [
        "sc.pp.normalize_total(adata, target_sum=1e4)\n",
        "sc.pp.log1p(adata)"
      ],
      "metadata": {
        "id": "qPRFVQXIKlJx"
      },
      "execution_count": null,
      "outputs": []
    },
    {
      "cell_type": "code",
      "source": [
        "de_adata = adata[adata.obs.label.isin(groups)]\n",
        "de_adata"
      ],
      "metadata": {
        "id": "0666Kj-UHTH9"
      },
      "execution_count": null,
      "outputs": []
    },
    {
      "cell_type": "markdown",
      "source": [
        "## Feature selection"
      ],
      "metadata": {
        "id": "6FQ-ZEolIS3G"
      }
    },
    {
      "cell_type": "code",
      "source": [
        "sc.pp.highly_variable_genes(\n",
        "    adata=de_adata, flavor=\"seurat\", \n",
        "    n_top_genes=3000, inplace=True,\n",
        "    batch_key=\"sample_id\")"
      ],
      "metadata": {
        "id": "oaWR_uXOfWgY"
      },
      "execution_count": null,
      "outputs": []
    },
    {
      "cell_type": "code",
      "source": [
        "highly_variable_genes = de_adata.var[de_adata.var.highly_variable].index.tolist()"
      ],
      "metadata": {
        "id": "Njy8LMuTj1Gg"
      },
      "execution_count": null,
      "outputs": []
    },
    {
      "cell_type": "markdown",
      "source": [
        "## PCA"
      ],
      "metadata": {
        "id": "uj9vwqrOQeYv"
      }
    },
    {
      "cell_type": "code",
      "source": [
        "sc.tl.pca(de_adata)"
      ],
      "metadata": {
        "id": "LefE5f3pQNad"
      },
      "execution_count": null,
      "outputs": []
    },
    {
      "cell_type": "code",
      "source": [
        "sc.pl.pca(de_adata, color=['sample_id'], components = ['1,2','3,4','5,6','7,8'], ncols=2)"
      ],
      "metadata": {
        "id": "rWhml1N9Qc99"
      },
      "execution_count": null,
      "outputs": []
    },
    {
      "cell_type": "code",
      "source": [
        "sc.pl.pca_loadings(de_adata, components=[1,2,3,4,5,6,7,8])"
      ],
      "metadata": {
        "id": "Lw4-uPfeQjeh"
      },
      "execution_count": null,
      "outputs": []
    },
    {
      "cell_type": "markdown",
      "source": [
        "Уберем митохондриальные и рибосомные гены"
      ],
      "metadata": {
        "id": "vaVSJARjW4fI"
      }
    },
    {
      "cell_type": "code",
      "source": [
        "mito = de_adata.var_names.str.startswith('MT-')\n",
        "hb = de_adata.var_names.str.contains((\"^HB[AB]\"))\n",
        "rb = de_adata.var_names.str.contains((\"^RP[LS]\"))\n",
        "remove = mito | hb | rb\n",
        "genes_to_remove = de_adata.var_names[remove].tolist()\n",
        "\n",
        "keep = np.invert(remove)\n",
        "print(sum(remove))\n",
        "\n",
        "de_adata = de_adata[:,keep]"
      ],
      "metadata": {
        "id": "FunOt2EDW9SW"
      },
      "execution_count": null,
      "outputs": []
    },
    {
      "cell_type": "code",
      "source": [
        "# remove genes from `highly_variable_genes`\n",
        "highly_variable_genes = [gene for gene in highly_variable_genes if gene not in genes_to_remove]"
      ],
      "metadata": {
        "id": "oEJUI17hbQz-"
      },
      "execution_count": null,
      "outputs": []
    },
    {
      "cell_type": "markdown",
      "source": [
        "## Rank genes"
      ],
      "metadata": {
        "id": "_MI5HYZbIfXT"
      }
    },
    {
      "cell_type": "code",
      "source": [
        "sc.tl.rank_genes_groups(de_adata, groupby='label', method='wilcoxon', pts=True)\n",
        "adata.uns[key] = de_adata.uns[\"rank_genes_groups\"]"
      ],
      "metadata": {
        "id": "w2SXNpOMNwiO"
      },
      "execution_count": null,
      "outputs": []
    },
    {
      "cell_type": "code",
      "source": [
        "sc.pl.rank_genes_groups(de_adata, n_genes=25, sharey=False)"
      ],
      "metadata": {
        "id": "6uJP5fdDTjyp"
      },
      "execution_count": null,
      "outputs": []
    },
    {
      "cell_type": "markdown",
      "source": [
        "**TUBA1A** — Microtubules of the eukaryotic cytoskeleton perform essential and diverse functions and are composed of a heterodimer of alpha and beta tubulins\n",
        "\n",
        "**STMN2** — This gene encodes a member of the stathmin family of phosphoproteins. Stathmin proteins function in microtubule dynamics and signal transduction. The encoded protein plays a regulatory role in neuronal growth and is also thought to be involved in osteogenesis. Reductions in the expression of this gene have been associated with Down's syndrome and Alzheimer's disease.\n",
        "\n",
        "**YBX1** — This gene encodes a highly conserved cold shock domain protein that has broad nucleic acid binding properties\n",
        "\n",
        "**SNAP25** — Synaptic vesicle membrane docking and fusion is mediated by SNAREs (soluble N-ethylmaleimide-sensitive factor attachment protein receptors) located on the vesicle membrane (v-SNAREs) and the target membrane (t-SNAREs)\n",
        "\n",
        "**CLU** — The protein encoded by this gene is a secreted chaperone that can under some stress conditions also be found in the cell cytosol. It has been suggested to be involved in several basic biological events such as cell death, tumor progression, and neurodegenerative disorders.\n",
        "\n",
        "**MT3** — This gene is a member of the metallothionein family of genes. Proteins encoded by this gene family are low in molecular weight, are cysteine-rich, lack aromatic residues, and bind divalent heavy metal ions. This gene family member displays tissue-specific expression, and contains a threonine insert near its N-terminus and a glutamate-rich hexapeptide insert near its C-terminus relative to the proteins encoded by other gene family members."
      ],
      "metadata": {
        "id": "5wGpan_Bp-G6"
      }
    },
    {
      "cell_type": "markdown",
      "source": [
        "## Посмотрим на дифф. экспрессированые гены"
      ],
      "metadata": {
        "id": "DOlzQkxjOQjV"
      }
    },
    {
      "cell_type": "code",
      "source": [
        "genes_rank_df = sc.get.rank_genes_groups_df(de_adata, group=groups[0])\n",
        "genes_rank_df.index = genes_rank_df.names\n",
        "genes_rank_df['abs_lfc'] = genes_rank_df['logfoldchanges'].abs()\n",
        "genes_rank_df['abs_scores'] = genes_rank_df['scores'].abs()\n",
        "genes_rank_df"
      ],
      "metadata": {
        "id": "Ul0o4PNRc-zo"
      },
      "execution_count": null,
      "outputs": []
    },
    {
      "cell_type": "markdown",
      "source": [
        "### Распределение p-value"
      ],
      "metadata": {
        "id": "n6HQKJBq5rgx"
      }
    },
    {
      "cell_type": "code",
      "source": [
        "genes_rank_df.loc[highly_variable_genes, 'pvals_adj'].hist(bins=50, grid=False)"
      ],
      "metadata": {
        "id": "1WRs8txXo_JH"
      },
      "execution_count": null,
      "outputs": []
    },
    {
      "cell_type": "markdown",
      "source": [
        "Не понимаю на сколько нормально видеть такую картину"
      ],
      "metadata": {
        "id": "ZVmB4hTNrBs3"
      }
    },
    {
      "cell_type": "markdown",
      "source": [
        "### Сравним молодые/старые"
      ],
      "metadata": {
        "id": "qQiZsZUg5yJc"
      }
    },
    {
      "cell_type": "code",
      "source": [
        "top_genes_df = genes_rank_df.loc[highly_variable_genes][(genes_rank_df.pvals_adj < 0.05) &\n",
        "                                                        (genes_rank_df.pct_nz_group > 0.1) &\n",
        "                                                        (genes_rank_df.pct_nz_reference > 0.1)].sort_values(by='abs_lfc', ascending=False)\n",
        "top_genes_df.head()"
      ],
      "metadata": {
        "id": "aa5_Y92pd2OC"
      },
      "execution_count": null,
      "outputs": []
    },
    {
      "cell_type": "code",
      "source": [
        "genes1 = genes_rank_df.index[:10].tolist()\n",
        "genes2 = top_genes_df.index[:10].tolist()\n",
        "sc.pl.rank_genes_groups_violin(de_adata, gene_names=genes1, groups=groups[0])\n",
        "sc.pl.rank_genes_groups_violin(de_adata, gene_names=genes2, groups=groups[0])"
      ],
      "metadata": {
        "id": "eB6WluhrT8dW"
      },
      "execution_count": null,
      "outputs": []
    },
    {
      "cell_type": "code",
      "source": [
        "sc.pl.rank_genes_groups_dotplot(de_adata, groupby=\"label\", n_genes=10, values_to_plot='logfoldchanges',\n",
        "                                min_logfoldchange=1, vmax=3, vmin=-3, cmap='bwr')"
      ],
      "metadata": {
        "id": "Ddfu4ii4N9S7"
      },
      "execution_count": null,
      "outputs": []
    },
    {
      "cell_type": "markdown",
      "source": [
        "### Посмотрим на отдельные образцы"
      ],
      "metadata": {
        "id": "cT1nHOQmOaeS"
      }
    },
    {
      "cell_type": "code",
      "source": [
        "sc.pl.violin(de_adata, genes1[:5], groupby='sample_id', rotation=90)\n",
        "sc.pl.violin(de_adata, genes2[:5], groupby='sample_id', rotation=90)"
      ],
      "metadata": {
        "id": "nJgK3Fy70tK8"
      },
      "execution_count": null,
      "outputs": []
    },
    {
      "cell_type": "code",
      "source": [
        "sc.pl.dotplot(de_adata, genes1 + genes2, groupby='sample_id')"
      ],
      "metadata": {
        "id": "fNk5kKpqrzJ1"
      },
      "execution_count": null,
      "outputs": []
    },
    {
      "cell_type": "code",
      "source": [
        "sc.pl.rank_genes_groups_dotplot(de_adata, groupby=\"sample_id\", n_genes=10)"
      ],
      "metadata": {
        "id": "MxyhmiOYOvCn"
      },
      "execution_count": null,
      "outputs": []
    },
    {
      "cell_type": "markdown",
      "source": [
        "### Сохраним csv файл"
      ],
      "metadata": {
        "id": "5scXAafsRMYV"
      }
    },
    {
      "cell_type": "code",
      "source": [
        "genes_rank_df = sc.get.rank_genes_groups_df(de_adata, group=groups[0])\n",
        "genes_rank_df.to_csv(dir_path + 'DE/young_vs_old_scanpy/' + key + '.csv')"
      ],
      "metadata": {
        "id": "DOcNCCUwVdKr"
      },
      "execution_count": null,
      "outputs": []
    },
    {
      "cell_type": "markdown",
      "source": [
        "## Gene Set Analysis"
      ],
      "metadata": {
        "id": "gIU640lOYz17"
      }
    },
    {
      "cell_type": "code",
      "source": [
        "gene_set_names = gseapy.get_library_name(organism='Human')\n",
        "gene_set_names[:5]\n",
        "#gene_set_names"
      ],
      "metadata": {
        "id": "NyJfAGlSd9DT"
      },
      "execution_count": null,
      "outputs": []
    },
    {
      "cell_type": "markdown",
      "source": [
        "Выберем только дифференциально экспрессированые гены"
      ],
      "metadata": {
        "id": "b3QzLW30fIEV"
      }
    },
    {
      "cell_type": "code",
      "source": [
        "gene_set = sc.get.rank_genes_groups_df(de_adata, group=groups[0], log2fc_min=0.25, pval_cutoff=0.05).set_index('names').loc[de_adata.var[\"highly_variable\"]]\n",
        "gene_set = gene_set[(gene_set.pct_nz_group > 0.1) & (gene_set.pct_nz_reference > 0.2)]\n",
        "gene_list = gene_set.index.str.strip().tolist()\n",
        "print(len(gene_list))"
      ],
      "metadata": {
        "id": "ZsYoWy94ebXm"
      },
      "execution_count": null,
      "outputs": []
    },
    {
      "cell_type": "markdown",
      "source": [
        "Возьмём базу данных `GO_Biological_Process_2021`"
      ],
      "metadata": {
        "id": "WNz0TAihjIi-"
      }
    },
    {
      "cell_type": "code",
      "source": [
        "enr_res = gseapy.enrichr(gene_list=gene_list,\n",
        "                     organism='Human',\n",
        "                     gene_sets='GO_Biological_Process_2021',\n",
        "                     cutoff = 0.5)"
      ],
      "metadata": {
        "id": "1ZtSDvnrf1Qc"
      },
      "execution_count": null,
      "outputs": []
    },
    {
      "cell_type": "code",
      "source": [
        "gseapy.barplot(enr_res.res2d, title='GO_Biological_Process_2021')"
      ],
      "metadata": {
        "id": "I82PGS1uep52"
      },
      "execution_count": null,
      "outputs": []
    },
    {
      "cell_type": "markdown",
      "source": [
        "## GSEA"
      ],
      "metadata": {
        "id": "EgxEEWEod4V_"
      }
    },
    {
      "cell_type": "markdown",
      "source": [
        "### Scores"
      ],
      "metadata": {
        "id": "p33KucNbK3RN"
      }
    },
    {
      "cell_type": "code",
      "source": [
        "scores = (\n",
        "    sc.get.rank_genes_groups_df(de_adata, group=groups[0])\n",
        "    .set_index('names')\n",
        "    .loc[de_adata.var[\"highly_variable\"]]\n",
        "    .sort_values(\"scores\", ascending=False)\n",
        "    [['scores']]\n",
        "    .rename_axis([\"young_L1\"], axis=1)\n",
        "    )\n",
        "scores"
      ],
      "metadata": {
        "id": "BM5PAkWMacdY"
      },
      "execution_count": null,
      "outputs": []
    },
    {
      "cell_type": "code",
      "source": [
        "res = gseapy.prerank(rnk=scores, gene_sets='KEGG_2021_Human')"
      ],
      "metadata": {
        "id": "AOPQo6-2kDQd"
      },
      "execution_count": null,
      "outputs": []
    },
    {
      "cell_type": "code",
      "source": [
        "res.res2d.head()"
      ],
      "metadata": {
        "id": "PZ4sMyAp9Q_d"
      },
      "execution_count": null,
      "outputs": []
    },
    {
      "cell_type": "code",
      "source": [
        "terms = res.res2d.index\n",
        "terms[:20]"
      ],
      "metadata": {
        "id": "6QFsmNbdaKjw"
      },
      "execution_count": null,
      "outputs": []
    },
    {
      "cell_type": "code",
      "source": [
        "gseapy.gseaplot(rank_metric=res.ranking, term=terms[15], **res.results[terms[15]])"
      ],
      "metadata": {
        "id": "Ap_xdWJSkKzd"
      },
      "execution_count": null,
      "outputs": []
    },
    {
      "cell_type": "code",
      "source": [
        "gseapy.gseaplot(rank_metric=res.ranking, term=terms[2], **res.results[terms[2]])"
      ],
      "metadata": {
        "id": "jfBXbkXW9HbI"
      },
      "execution_count": null,
      "outputs": []
    }
  ]
}