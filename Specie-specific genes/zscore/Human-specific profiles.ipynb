{
 "cells": [
  {
   "cell_type": "markdown",
   "id": "909a40b1-fc50-42a6-88c7-506662efb974",
   "metadata": {
    "id": "roImYnkY0lWf"
   },
   "source": [
    "# Dependencies and files"
   ]
  },
  {
   "cell_type": "markdown",
   "id": "b84dd4d3-5a00-4b68-b61d-d429fb512f20",
   "metadata": {
    "id": "baxM7gAy1KGe"
   },
   "source": [
    "## Imports"
   ]
  },
  {
   "cell_type": "code",
   "execution_count": null,
   "id": "66945883-1f05-4192-9d7e-66df0e787919",
   "metadata": {
    "id": "dae9e900"
   },
   "outputs": [],
   "source": [
    "import squidpy as sq\n",
    "import warnings\n",
    "import scanpy as sc\n",
    "import anndata as an\n",
    "import pandas as pd\n",
    "import numpy as np\n",
    "import matplotlib as mpl\n",
    "import matplotlib.pyplot as plt\n",
    "import seaborn as sns\n",
    "import os\n",
    "from scipy.signal import medfilt2d, wiener, convolve2d\n",
    "\n",
    "import time\n",
    "from tqdm.notebook import tqdm\n",
    "import requests\n",
    "\n",
    "sc.settings.set_figure_params(dpi=80)\n",
    "#sc.set_figure_params(facecolor=\"white\", figsize=(8, 8))\n",
    "warnings.simplefilter(action='ignore', category=FutureWarning)\n",
    "sc.settings.verbosity = 3"
   ]
  },
  {
   "cell_type": "markdown",
   "id": "22aa9922-65cd-493b-9bd0-2eade39d3ebc",
   "metadata": {
    "id": "AAvYvli71MwA"
   },
   "source": [
    "# Global variables"
   ]
  },
  {
   "cell_type": "code",
   "execution_count": null,
   "id": "668a69c3-4b58-4d0d-9919-2bbc84ef30ab",
   "metadata": {},
   "outputs": [],
   "source": [
    "layers = ['L1', 'L2', 'L3', 'L4', 'L5', \"L6\", 'WM']"
   ]
  },
  {
   "cell_type": "code",
   "execution_count": null,
   "id": "b515cd0a-ad14-4c3a-85f5-f57eec6e655a",
   "metadata": {},
   "outputs": [],
   "source": [
    "cluster_color = ['red', 'yellow', 'orange', 'green', 'purple', 'blue', 'olive', 'pink', 'brown']"
   ]
  },
  {
   "cell_type": "markdown",
   "id": "803aaa6f-1ee9-43b0-bfff-698271c1a7ba",
   "metadata": {},
   "source": [
    "## Load files"
   ]
  },
  {
   "cell_type": "markdown",
   "id": "a6d6bbfe-2f7c-48a7-9be5-249bfe4f6c5e",
   "metadata": {
    "id": "22169059"
   },
   "source": [
    "### DE results"
   ]
  },
  {
   "cell_type": "markdown",
   "id": "ccb033c4-571b-4e70-a4d4-807687f0b1b6",
   "metadata": {
    "id": "yQ7JjvscKLd4"
   },
   "source": [
    "## Load normalized pseudobulks"
   ]
  },
  {
   "cell_type": "code",
   "execution_count": null,
   "id": "225d0f4e-9ebe-42af-a774-9c529a2706c1",
   "metadata": {
    "id": "685kKTuvKfog"
   },
   "outputs": [],
   "source": [
    "pb_dir_path = '../../data/pseudobulks/'"
   ]
  },
  {
   "cell_type": "code",
   "execution_count": null,
   "id": "b7b6a1cf-28ed-4961-9ed4-d405d8083e1b",
   "metadata": {
    "colab": {
     "base_uri": "https://localhost:8080/"
    },
    "id": "PlB6qD1yKfoh",
    "outputId": "fd8823fa-4561-4142-c946-aa0d778b4728",
    "scrolled": true
   },
   "outputs": [],
   "source": [
    "os.listdir(pb_dir_path)"
   ]
  },
  {
   "cell_type": "code",
   "execution_count": null,
   "id": "74876709",
   "metadata": {},
   "outputs": [],
   "source": [
    "adata_pb = sc.read_h5ad(pb_dir_path + 'pb_mammals_filtered.h5ad')\n",
    "#adata_pb_norm_mean.var = anova_res\n",
    "adata_pb"
   ]
  },
  {
   "cell_type": "code",
   "execution_count": null,
   "id": "31ed5b60",
   "metadata": {},
   "outputs": [],
   "source": [
    "sc.pp.normalize_total(adata_pb, target_sum=1e4)\n",
    "sc.pp.log1p(adata_pb)"
   ]
  },
  {
   "cell_type": "code",
   "execution_count": null,
   "id": "9779ba90",
   "metadata": {},
   "outputs": [],
   "source": [
    "scaled_adata_list = list()\n",
    "\n",
    "for sample in adata_pb.obs['sample_id'].unique():\n",
    "    scaled_adata_list.append(sc.pp.scale(adata_pb[adata_pb.obs['sample_id'] == sample], copy=True))\n",
    "\n",
    "adata_pb_norm = an.concat(scaled_adata_list , merge='same',uns_merge=\"unique\")\n",
    "adata_pb_norm"
   ]
  },
  {
   "cell_type": "markdown",
   "id": "66601fe4-86b1-45fd-b475-06557a503804",
   "metadata": {},
   "source": [
    "## Specie-specific genes"
   ]
  },
  {
   "cell_type": "code",
   "execution_count": null,
   "id": "7b769fb8-1d4c-4020-88e6-4c981cf0188a",
   "metadata": {},
   "outputs": [],
   "source": [
    "from statsmodels.stats.multitest import multipletests\n",
    "import pandas as pd\n",
    "res_dict = dict()\n",
    "res_dict['human-chimp'] = pd.read_csv('../results/edgeR_human_chimp.csv', index_col=0)\n",
    "res_dict['human-macaque'] = pd.read_csv('../results/edgeR_human_macaque.csv', index_col=0)\n",
    "res_dict['chimp-macaque'] = pd.read_csv('../results/edgeR_chimp_macaque.csv', index_col=0)\n",
    "\n",
    "for key, df in res_dict.items():\n",
    "    mult_test = multipletests(df['PValue'], method='fdr_bh')\n",
    "    df['p_val_adj'] = mult_test[1]\n",
    "\n",
    "res_dict['human-chimp'].head()"
   ]
  },
  {
   "cell_type": "code",
   "execution_count": null,
   "id": "c5f297b7-20a8-4279-9919-a04ed9267944",
   "metadata": {},
   "outputs": [],
   "source": [
    "sign_genes = lambda df: df[df.p_val_adj < 0.05].index\n",
    "sign_genes_dict = {key:sign_genes(df) for key, df in res_dict.items()}\n",
    "sign_genes_dict"
   ]
  },
  {
   "cell_type": "markdown",
   "id": "84bd8fa1-7765-4ab1-9132-6b74d5078917",
   "metadata": {},
   "source": [
    "Попробуем определить человеко-специфичные гены как $(HC\\bigcap HM)\\setminus CM$"
   ]
  },
  {
   "cell_type": "code",
   "execution_count": null,
   "id": "05f8779d-54df-4ee5-b481-3e9cbbe7dae1",
   "metadata": {
    "scrolled": true
   },
   "outputs": [],
   "source": [
    "hs_genes = sign_genes_dict['human-chimp'].intersection(sign_genes_dict['human-macaque']).difference(sign_genes_dict['chimp-macaque'])\n",
    "hs_genes, hs_genes.size"
   ]
  },
  {
   "cell_type": "code",
   "execution_count": null,
   "id": "d5bbcf82",
   "metadata": {},
   "outputs": [],
   "source": [
    "background_genes = res_dict['human-chimp'].index.tolist()\n",
    "len(background_genes)"
   ]
  },
  {
   "cell_type": "code",
   "execution_count": null,
   "id": "59ba5840",
   "metadata": {},
   "outputs": [],
   "source": [
    "with open('results/background_genes.txt', 'w', newline='') as f:\n",
    "    writer = f.write(','.join(background_genes))"
   ]
  },
  {
   "cell_type": "markdown",
   "id": "21db4b1e-2dee-418e-ba0f-2a29dd254c6c",
   "metadata": {},
   "source": [
    "## Helpful functions"
   ]
  },
  {
   "cell_type": "code",
   "execution_count": null,
   "id": "c545eb58",
   "metadata": {},
   "outputs": [],
   "source": [
    "def apply_filter(adata, value_columns, sample_column, method='median', size=3, key='_filtered'):\n",
    "    # filter method\n",
    "    if method == 'median':\n",
    "        filter_func = medfilt2d\n",
    "        kwargs = {'kernel_size': 3}\n",
    "    elif method == 'wiener':\n",
    "        filter_func = wiener\n",
    "        kwargs = {'mysize': size}\n",
    "    elif method == 'mean':\n",
    "        filter_matrix = np.ones((size, size)) / size ** 2\n",
    "        filter_func = convolve2d\n",
    "        kwargs = {'in2': filter_matrix, 'mode': 'same'}\n",
    "    else:\n",
    "        raise ValueError(\"Invalid filter method. Choose 'median' or 'wiener'\")\n",
    "\n",
    "    # rotation matrix\n",
    "    A = 1 / np.sqrt(2) * np.array([[1, -1], [1, 1]])\n",
    "\n",
    "    # get sample list\n",
    "    sample_list = adata.obs[sample_column].unique().to_list()\n",
    "    results_list = list()\n",
    "    \n",
    "    for sample in tqdm(sample_list):\n",
    "        # sub-sample data\n",
    "        obs_mask = (adata.obs[sample_column] == sample)\n",
    "        raw_value = adata.obs.loc[obs_mask, value_columns].copy()\n",
    "        coordinates = adata.obsm['spatial'][obs_mask.values]\n",
    "\n",
    "        # result df template\n",
    "        result_df = raw_value.copy()\n",
    "        result_df.columns = result_df.columns + key\n",
    "\n",
    "        # center data to perform rotation\n",
    "        x_max, y_max = coordinates.max(axis=0)\n",
    "        x_min, y_min = coordinates.min(axis=0)\n",
    "\n",
    "        x_center = x_min + (x_max - x_min) / 2\n",
    "        y_center = y_min + (y_max - y_min) / 2\n",
    "\n",
    "        centered_coord = coordinates - np.array([x_center, y_center])\n",
    "\n",
    "        # rotate data\n",
    "        rotate_coord = centered_coord @ A\n",
    "\n",
    "        # convert coordinates to grid coordinates\n",
    "        floor_divide = np.floor_divide(rotate_coord, 200)\n",
    "        x_max, y_max = floor_divide.max(axis=0)\n",
    "        x_min, y_min = floor_divide.min(axis=0)\n",
    "        real_coord = floor_divide - np.array([x_min, y_min])\n",
    "        \n",
    "        # create 2d matrix template for the data\n",
    "        x = np.arange(0, x_max - x_min + 1)\n",
    "        y = np.arange(0, y_max - y_min + 1)\n",
    "        coord = np.array(np.meshgrid(x, y)).T.reshape(-1, 2)\n",
    "\n",
    "        # create 2d representation of the data\n",
    "        df = pd.DataFrame(coord, columns=['x', 'y']).set_index(['x', 'y'])\n",
    "        df[value_columns] = 0\n",
    "        df.loc[real_coord.tolist(), value_columns] = raw_value.values\n",
    "\n",
    "        for value in df.columns.to_list():\n",
    "            X = df.reset_index().pivot(index='x', columns='y', values=value).values\n",
    "            X_filt = filter_func(X, **kwargs)\n",
    "            result_df[value + key] = pd.DataFrame(X_filt).T.unstack().loc[real_coord.tolist()].values\n",
    "        results_list.append(result_df)\n",
    "        \n",
    "    # concat data\n",
    "    filtered_df = pd.concat(results_list, axis=0)\n",
    "    adata.obs[filtered_df.columns] = filtered_df"
   ]
  },
  {
   "cell_type": "code",
   "execution_count": null,
   "id": "b039e96c-f330-4ed1-83aa-0e0d019fd10c",
   "metadata": {},
   "outputs": [],
   "source": [
    "def p_val_group(value):\n",
    "    if value >= 0.05:\n",
    "        return 'No significance'\n",
    "    elif  0.01 <= value < 0.05:\n",
    "        return 'p < 0.05'\n",
    "    elif  0.001 <= value < 0.01:\n",
    "        return 'p < 0.01'\n",
    "    else:\n",
    "        return 'p < 0.001'"
   ]
  },
  {
   "cell_type": "code",
   "execution_count": null,
   "id": "908711e0-558a-41ea-be61-d541729c4ad1",
   "metadata": {},
   "outputs": [],
   "source": [
    "color_discrete_map = {'No significance': 'darkblue',\n",
    "                      'p < 0.05': 'purple',\n",
    "                      'p < 0.01': 'darkorange',\n",
    "                      'p < 0.001': 'yellow'}"
   ]
  },
  {
   "cell_type": "code",
   "execution_count": null,
   "id": "2eff7f24-9f24-4c40-be5b-e9ed68149547",
   "metadata": {},
   "outputs": [],
   "source": [
    "class GeneCluster:\n",
    "    def __init__(self, genes, descr, label, background_genes, **kwargs):\n",
    "        self.label = label\n",
    "        self.genes = genes\n",
    "        self.descr = descr\n",
    "        self.background_genes = background_genes\n",
    "        self.userlist_id = self._get_userlist_id()\n",
    "        self.background_id = self._get_background_id()\n",
    "        self.enrichment_res = dict()\n",
    "\n",
    "    \n",
    "    def _get_userlist_id(self):\n",
    "        base_url = \"https://maayanlab.cloud/speedrichr\"\n",
    "\n",
    "        description = \"sample gene set with background\"\n",
    "\n",
    "        res = requests.post(\n",
    "            base_url+'/api/addList',\n",
    "            files=dict(\n",
    "              list=(None, '\\n'.join(self.genes)),\n",
    "              description=(None, description),\n",
    "            )\n",
    "          )\n",
    "        if res.ok:\n",
    "            userlist_response = res.json()\n",
    "        else:\n",
    "            raise Exception('Error analyzing gene list')\n",
    "        return userlist_response['userListId']\n",
    "    \n",
    "    def _get_background_id(self):\n",
    "        base_url = \"https://maayanlab.cloud/speedrichr\"\n",
    "\n",
    "        res = requests.post(\n",
    "            base_url+'/api/addbackground',\n",
    "            data=dict(background='\\n'.join(self.background_genes))\n",
    "        )\n",
    "\n",
    "        if res.ok:\n",
    "            background_response = res.json()\n",
    "        else:\n",
    "            raise Exception('Error analyzing gene list')\n",
    "        return background_response['backgroundid']\n",
    "\n",
    "    def enrich(self, gene_set_library):\n",
    "        # get enrichment results\n",
    "        base_url = \"https://maayanlab.cloud/speedrichr\"\n",
    "\n",
    "        res = requests.post(\n",
    "                base_url+'/api/backgroundenrich',\n",
    "                data=dict(\n",
    "                userListId=self.userlist_id,\n",
    "                backgroundid=self.background_id,\n",
    "                backgroundType=gene_set_library,\n",
    "                )\n",
    "            )\n",
    "        if res.ok:\n",
    "            data = res.json()\n",
    "        else:\n",
    "            raise Exception('Error analyzing gene list')\n",
    "        # convert results to df\n",
    "        columns = ['Rank', 'Term', 'p-val', 'Z-score', 'Combined score', 'Overlapping genes', 'Adjusted P-value', 'Old p-value', 'Old adjusted p-value']\n",
    "        results = pd.DataFrame(data[gene_set_library], columns=columns)\n",
    "        # preprocess df\n",
    "        results.Term = results.Term.astype(str)\n",
    "        results['num_overlap_genes'] = results['Overlapping genes'].apply(lambda x: len(x))\n",
    "        results['neg_log10(p_adj)'] = - np.log10(results['Adjusted P-value'])\n",
    "        results['cluster_label'] = self.label\n",
    "        # save to enrichment_res\n",
    "        self.enrichment_res[gene_set_library] = results\n",
    "\n",
    "    @staticmethod\n",
    "    def enrich_geneclusters(geneclusters, gene_set_library):\n",
    "        for gc in geneclusters:\n",
    "            gc.enrich(gene_set_library)"
   ]
  },
  {
   "cell_type": "markdown",
   "id": "d01b4318-87fa-4366-9594-1ee86501a3ae",
   "metadata": {},
   "source": [
    "# Clusterisation"
   ]
  },
  {
   "cell_type": "code",
   "execution_count": null,
   "id": "212b132a-8dbf-4c0a-8a84-a62ad97ad3b5",
   "metadata": {},
   "outputs": [],
   "source": [
    "df = pd.DataFrame(adata_pb_norm.X, index=adata_pb_norm.obs_names, columns=adata_pb_norm.var_names)"
   ]
  },
  {
   "cell_type": "code",
   "execution_count": null,
   "id": "b3b3bfab-eb38-47d7-b9b0-02e2717416c5",
   "metadata": {},
   "outputs": [],
   "source": [
    "sample_order = dict()\n",
    "for cond in ['human', 'chimp', 'macaque']:\n",
    "    samples = df.loc[df.index.str.contains(cond)].index\n",
    "    order = sorted(samples.tolist(), key=lambda x: x[-2:])\n",
    "    order_laminar = list(filter(lambda x: 'L' in x, order))\n",
    "    order_wm = list(filter(lambda x: 'WM' in x, order))\n",
    "    sample_order[cond] = order_laminar + order_wm\n",
    "sample_order['all'] = sample_order['human'] + sample_order['chimp'] + sample_order['macaque']\n",
    "df = df.loc[sample_order['all']]\n",
    "df_hs = df[hs_genes].copy()"
   ]
  },
  {
   "cell_type": "markdown",
   "id": "b78347ab-a6cf-4c42-bacb-7b361c2c7a56",
   "metadata": {},
   "source": [
    "## Hierarchial"
   ]
  },
  {
   "cell_type": "code",
   "execution_count": null,
   "id": "8cf57046-3f9e-42eb-847e-69f1e378c587",
   "metadata": {},
   "outputs": [],
   "source": [
    "sns.set(font_scale=0.8)\n",
    "cluster_grid = sns.clustermap(df_hs, figsize=(12, 10), cmap=\"RdBu_r\", center=0, metric='cosine', annot_kws={\"size\": 2}, row_cluster=False)"
   ]
  },
  {
   "cell_type": "code",
   "execution_count": null,
   "id": "6c8a99f0",
   "metadata": {},
   "outputs": [],
   "source": [
    "from sklearn.metrics.pairwise import pairwise_kernels\n",
    "fig, ax = plt.subplots(1, 2, figsize=(20, 10))\n",
    "\n",
    "gene_order = df_hs.columns[cluster_grid.dendrogram_col.reordered_ind]\n",
    "sns.heatmap(df_hs[gene_order], cmap=\"RdBu_r\", center=0, cbar=True, ax=ax[0])\n",
    "\n",
    "aff_matrix = pairwise_kernels(df_hs.T, metric='cosine')\n",
    "aff_df = pd.DataFrame(aff_matrix, index=df_hs.columns, columns=df_hs.columns)\n",
    "sns.heatmap(aff_df.loc[gene_order, gene_order], cmap=\"RdBu_r\", center=0, cbar=True, ax=ax[1], vmin=-1, vmax=1)"
   ]
  },
  {
   "cell_type": "code",
   "execution_count": null,
   "id": "f6c49917-650f-4af0-baa8-c5cce6fe5efc",
   "metadata": {
    "scrolled": true
   },
   "outputs": [],
   "source": [
    "sns.clustermap(df_hs.loc[sample_order['human']], figsize=(12, 4), cmap=\"RdBu_r\", center=0, metric='cosine', annot_kws={\"size\": 2}, row_cluster=False)"
   ]
  },
  {
   "cell_type": "code",
   "execution_count": null,
   "id": "ce83c061",
   "metadata": {},
   "outputs": [],
   "source": [
    "from sklearn.metrics.pairwise import pairwise_kernels\n",
    "fig, ax = plt.subplots(1, 2, figsize=(20, 10))\n",
    "\n",
    "df_sub = df_hs.loc[sample_order['human']]\n",
    "gene_order = df_sub.columns[cluster_grid.dendrogram_col.reordered_ind]\n",
    "sns.heatmap(df_sub[gene_order], cmap=\"RdBu_r\", center=0, cbar=True, ax=ax[0])\n",
    "\n",
    "aff_matrix_h = pairwise_kernels(df_sub.T, metric='cosine')\n",
    "aff_h_df = pd.DataFrame(aff_matrix_h, index=df_sub.columns, columns=df_sub.columns)\n",
    "sns.heatmap(aff_h_df.loc[gene_order, gene_order], cmap=\"RdBu_r\", center=0, cbar=True, ax=ax[1], vmin=-1, vmax=1)"
   ]
  },
  {
   "cell_type": "markdown",
   "id": "55381904-4018-4495-80b1-f15cd78db691",
   "metadata": {},
   "source": [
    "## Spectral clusterisation"
   ]
  },
  {
   "cell_type": "code",
   "execution_count": null,
   "id": "a7c06266-20ea-4118-98f2-d08a02e52851",
   "metadata": {},
   "outputs": [],
   "source": [
    "from sklearn.cluster import SpectralClustering\n",
    "from sklearn.metrics.pairwise import pairwise_kernels\n",
    "#aff_matrix = (pairwise_kernels(df_hs.T, metric='cosine') + 1) / 2\n",
    "n_clusters = 7\n",
    "clustering = SpectralClustering(n_clusters=n_clusters, affinity='nearest_neighbors', random_state=4)\n",
    "#clustering = SpectralClustering(n_clusters=n_clusters, affinity='precomputed', random_state=4, assign_labels='cluster_qr')\n",
    "#clustering.fit(aff_matrix)\n",
    "#clustering.fit(df_hs.T[sample_order['human']])\n",
    "clustering.fit(df_hs.T)"
   ]
  },
  {
   "cell_type": "code",
   "execution_count": null,
   "id": "ffb14b8b-cea8-436c-ae87-e9fab81d5465",
   "metadata": {},
   "outputs": [],
   "source": [
    "labels = pd.Series(clustering.labels_, index=hs_genes).sort_values()\n",
    "order = labels.sort_values().index"
   ]
  },
  {
   "cell_type": "code",
   "execution_count": null,
   "id": "7b30a208-76d1-47a8-bac3-52aeae3c4108",
   "metadata": {},
   "outputs": [],
   "source": [
    "labels.to_csv(f'./results/human_clusters_edgeR_{n_clusters}.csv')"
   ]
  },
  {
   "cell_type": "code",
   "execution_count": null,
   "id": "163f8656-2f35-4d98-97c6-5d6f16859a5e",
   "metadata": {},
   "outputs": [],
   "source": [
    "cluster_color = ['red', 'yellow', 'orange', 'green', 'purple', 'blue', 'olive', 'pink', 'brown', 'cyan', 'pink', 'violet', 'crimson']"
   ]
  },
  {
   "cell_type": "code",
   "execution_count": null,
   "id": "ca35b403-b6ff-4eb7-85f8-d669603dae44",
   "metadata": {},
   "outputs": [],
   "source": [
    "colors = cluster_color[:n_clusters]\n",
    "clusters = np.arange(n_clusters)"
   ]
  },
  {
   "cell_type": "code",
   "execution_count": null,
   "id": "aaab7d05-9f05-416b-9cd5-64654a578507",
   "metadata": {},
   "outputs": [],
   "source": [
    "from matplotlib.patches import bbox_artist\n",
    "from mpl_toolkits.axes_grid1 import make_axes_locatable\n",
    "from matplotlib import ticker\n",
    "\n",
    "mpl.rcdefaults()\n",
    "fig, ax = plt.subplots(figsize=(10, 8))\n",
    "sns.heatmap(df_hs[order], ax=ax, cmap=\"RdBu_r\", center=0, cbar=True)\n",
    "#ax.set_xticks([])\n",
    "ax.set_yticks([])\n",
    "\n",
    "\n",
    "divider = make_axes_locatable(ax)\n",
    "cax = divider.append_axes('top', size='2%', pad=0.05)\n",
    "cmap = plt.get_cmap('Set3')\n",
    "\n",
    "cluster_size = labels.value_counts().loc[clusters].values\n",
    "cluster_pos = cluster_size.cumsum()\n",
    "bounds = [0] + list(cluster_pos)\n",
    "norm = mpl.colors.BoundaryNorm(bounds, cmap.N)\n",
    "fig.colorbar(\n",
    "    mpl.cm.ScalarMappable(cmap=cmap, norm=norm),\n",
    "    cax=cax,\n",
    "    ticks=bounds,\n",
    "    orientation='horizontal',\n",
    "    spacing='proportional'\n",
    ")\n",
    "cax.xaxis.set_major_locator(ticker.FixedLocator(cluster_pos - cluster_size / 2))\n",
    "cax.xaxis.set_major_formatter(ticker.FixedFormatter(clusters))\n",
    "cax.xaxis.tick_top()\n",
    "\n",
    "# horisontal\n",
    "cax = divider.append_axes('left', size='2%', pad=0.05)\n",
    "\n",
    "cmap = mpl.colors.ListedColormap(['tab:red', 'tab:orange', 'tab:green'][::-1])\n",
    "cond_size = adata_pb_norm.obs.condition.value_counts().loc[['human', 'chimp', 'macaque'][::-1]].values\n",
    "cond_pos = cond_size.cumsum()\n",
    "bounds = [0] + list(cond_pos)\n",
    "norm = mpl.colors.BoundaryNorm(bounds, cmap.N)\n",
    "\n",
    "fig.colorbar(\n",
    "    mpl.cm.ScalarMappable(cmap=cmap, norm=norm),\n",
    "    cax=cax,\n",
    "    ticks=bounds,\n",
    "    orientation='vertical',\n",
    "    spacing='proportional'\n",
    ")\n",
    "\n",
    "cax.yaxis.set_major_locator(ticker.FixedLocator(cond_pos - cond_size / 3))\n",
    "cax.yaxis.set_major_formatter(ticker.FixedFormatter(['human', 'chimp', 'macaque'][::-1]))\n",
    "cax.yaxis.tick_left()\n",
    "cax.set_yticklabels(cax.get_yticklabels(), rotation=90, fontsize=12)"
   ]
  },
  {
   "cell_type": "code",
   "execution_count": null,
   "id": "006255fb",
   "metadata": {},
   "outputs": [],
   "source": [
    "gene_sets = dict()\n",
    "for label in labels.unique():\n",
    "  gene_sets[label] = labels[labels == label].index.to_list()\n",
    "\n",
    "for group, genes in gene_sets.items():\n",
    "  print(f'{group}: {genes}')"
   ]
  },
  {
   "cell_type": "code",
   "execution_count": null,
   "id": "39fbcfe7",
   "metadata": {},
   "outputs": [],
   "source": [
    "from scipy.cluster.hierarchy import average, leaves_list\n",
    "from scipy.spatial.distance import pdist\n",
    "\n",
    "fig, ax = plt.subplots(1, 2, figsize=(20, 10))\n",
    "aff_matrix = pairwise_kernels(df_hs.T, metric='cosine')\n",
    "aff_df = pd.DataFrame(aff_matrix, index=df_hs.columns, columns=df_hs.columns)\n",
    "sns.heatmap(aff_df.loc[order, order], cmap=\"RdBu_r\", center=0, cbar=True, ax=ax[0], vmin=-1, vmax=1)\n",
    "\n",
    "max_order = []\n",
    "\n",
    "for label in range(n_clusters):\n",
    "    genes = labels[labels == label].index\n",
    "    linkage = average(pdist(df_hs[genes].T.values, 'cosine'))\n",
    "    ind_order = leaves_list(linkage)\n",
    "    gene_order = genes[ind_order]\n",
    "    max_order += gene_order.to_list()\n",
    "\n",
    "sns.heatmap(aff_df.loc[max_order, max_order], cmap=\"RdBu_r\", center=0, cbar=True, ax=ax[1], vmin=-1, vmax=1)"
   ]
  },
  {
   "cell_type": "markdown",
   "id": "6f7e294e-6d9f-4eab-bffb-3e3026c9d032",
   "metadata": {},
   "source": [
    "## Cluster profiles"
   ]
  },
  {
   "cell_type": "code",
   "execution_count": null,
   "id": "094d35ec-e927-4d80-9ec9-0cf3266db73d",
   "metadata": {},
   "outputs": [],
   "source": [
    "df_annotation = df_hs.copy()\n",
    "df_annotation['layer'] = adata_pb_norm.obs.layer\n",
    "df_annotation['condition'] = adata_pb_norm.obs.condition"
   ]
  },
  {
   "cell_type": "code",
   "execution_count": null,
   "id": "23a45ed4-1bb3-42a0-bbac-677d98d3726e",
   "metadata": {},
   "outputs": [],
   "source": [
    "layer_mean = df_annotation.groupby(['condition', 'layer']).mean()\n",
    "layer_mean.head()"
   ]
  },
  {
   "cell_type": "code",
   "execution_count": null,
   "id": "b86b648c-c5ce-462a-8972-bf6d99e0c454",
   "metadata": {},
   "outputs": [],
   "source": [
    "# fig, axes = plt.subplots(2, 2,  figsize=(14, 3.5 * 2), gridspec_kw={'hspace': 0.4})\n",
    "# for gene, ax in zip(layer_mean.columns, axes.flatten()):\n",
    "#     (\n",
    "#             layer_mean[gene]\n",
    "#             .reorder_levels(['layer', 'condition'])\n",
    "#             .unstack().loc[layers]\n",
    "#             .plot\n",
    "#             .line(color={'human': 'tab:red', 'chimp': 'tab:orange', 'macaque': 'tab:green'}, ax=ax, marker='.')\n",
    "#     )\n",
    "#     ax.grid(False)"
   ]
  },
  {
   "cell_type": "code",
   "execution_count": null,
   "id": "a75c1e94-8edb-42cd-a402-ed67323e58cd",
   "metadata": {},
   "outputs": [],
   "source": [
    "mpl.rcdefaults()\n",
    "fig, axes = plt.subplots((n_clusters + 1) // 2, 2,  figsize=(14, 3.5 * n_clusters // 2), gridspec_kw={'hspace': 0.4})\n",
    "for label, ax in zip(labels.unique(), axes.flatten()):\n",
    "    genes = labels[labels == label].index.tolist()\n",
    "\n",
    "    (\n",
    "        layer_mean[genes]\n",
    "        .mean(axis=1)\n",
    "        .reorder_levels(['layer', 'condition'])\n",
    "        .unstack().loc[layers]\n",
    "        .plot\n",
    "        .line(color={'human': 'tab:red', 'chimp': 'tab:orange', 'macaque': 'tab:green'}, ax=ax, marker='.')\n",
    "    )\n",
    "    \n",
    "    ax.legend(fontsize=10, loc=\"upper left\", bbox_to_anchor=(1, 1), prop={\"size\":12})\n",
    "    if label % 2 == 0:\n",
    "        ax.get_legend().remove()\n",
    "    ax.set_title(f'Cluster {label}', fontsize=16)\n",
    "    ax.grid(False)\n",
    "    #ax.hlines(0, xmin=0, xmax=6, colors='gray', linestyles='dashed')"
   ]
  },
  {
   "cell_type": "code",
   "execution_count": null,
   "id": "e20007c0-6579-4d72-a0de-9694dfd0bc4e",
   "metadata": {},
   "outputs": [],
   "source": [
    "grid = np.linspace(1, 7, 400)\n",
    "conditions = ['human', 'chimp', 'macaque']\n",
    "cond_colors = ['tab:red', 'tab:orange', 'tab:green']"
   ]
  },
  {
   "cell_type": "code",
   "execution_count": null,
   "id": "b26ada17-39aa-4188-9a12-09b7efde440c",
   "metadata": {},
   "outputs": [],
   "source": [
    "df_cont = df_annotation.copy()\n",
    "df_cont['layer'] = df_cont.layer.map(dict(zip(sorted(df_cont.layer.unique()), range(1, 8)))).astype(int)"
   ]
  },
  {
   "cell_type": "code",
   "execution_count": null,
   "id": "307d0580-97c9-4c80-972c-e730de4c16ba",
   "metadata": {},
   "outputs": [],
   "source": [
    "from scipy.interpolate import UnivariateSpline\n",
    "\n",
    "array = np.zeros((grid.size, hs_genes.size))\n",
    "df_list = []\n",
    "\n",
    "for specie in conditions:\n",
    "    for i, gene in enumerate(hs_genes.to_list()):\n",
    "        #fit spline\n",
    "        subs_index = df_cont[df_cont.condition == specie].index\n",
    "        targ_dataset = df_cont.loc[subs_index].copy().sort_values(by='layer')\n",
    "        x = targ_dataset['layer'].values\n",
    "        y = targ_dataset[gene].values\n",
    "        spl = UnivariateSpline(x, y, k=3)\n",
    "        array[:, i] = spl(grid)\n",
    "    df_specie = pd.DataFrame(array, columns=hs_genes)\n",
    "    df_specie['condition'] = specie\n",
    "    df_list.append(df_specie.copy())\n",
    "df_spline = pd.concat(df_list)"
   ]
  },
  {
   "cell_type": "code",
   "execution_count": null,
   "id": "f043af78-bc51-4161-bff0-0f0d3b5bdabb",
   "metadata": {},
   "outputs": [],
   "source": [
    "mpl.rcdefaults()\n",
    "fig, axes = plt.subplots((n_clusters + 1) // 2, 2,  figsize=(14, 3.5 * n_clusters // 2), gridspec_kw={'hspace': 0.4})\n",
    "for label, ax in zip(labels.unique(), axes.flatten()):\n",
    "    genes = labels[labels == label].index.tolist()\n",
    "    # plot the splines\n",
    "    genes = labels[labels == label].index.tolist()\n",
    "    df_cluster_spline = df_spline[genes].mean(axis=1).to_frame()\n",
    "    df_cluster_spline['condition'] = df_spline['condition']\n",
    "    df_cluster_spline = df_cluster_spline.pivot(columns='condition', values=0)\n",
    "    df_cluster_spline.index = grid\n",
    "    df_cluster_spline.plot.line(color={'human': 'tab:red', 'chimp': 'tab:orange', 'macaque': 'tab:green'}, ax=ax)\n",
    "\n",
    "    # plot the dots\n",
    "    # df_layers = layer_mean[genes].mean(axis=1).reorder_levels(['layer', 'condition']).unstack().loc[layers][conditions]\n",
    "    # df_layers.index = np.arange(1, 8)\n",
    "    # ax.set_prop_cycle(color=['tab:red', 'tab:orange', 'tab:green'])\n",
    "    # ax.plot(df_layers, 'o', alpha=0.7)\n",
    "    # ax.legend(conditions)\n",
    "    \n",
    "    \n",
    "    ax.legend(fontsize=10, loc=\"upper left\", bbox_to_anchor=(1, 1), prop={\"size\":12})\n",
    "    ax.xaxis.set_major_locator(ticker.FixedLocator(np.arange(1, 8)))\n",
    "    ax.xaxis.set_major_formatter(ticker.FixedFormatter(layers))\n",
    "    \n",
    "    if label % 2 == 0:\n",
    "        ax.get_legend().remove()\n",
    "    ax.set_title(f'Cluster {label}', fontsize=16)\n",
    "    ax.grid(False)\n",
    "    #ax.hlines(0, xmin=1, xmax=6, colors='gray', linestyles='dashed')"
   ]
  },
  {
   "cell_type": "markdown",
   "id": "27687818-3fc6-4f00-bba1-42ae0e34192f",
   "metadata": {},
   "source": [
    "# 4 Species"
   ]
  },
  {
   "cell_type": "code",
   "execution_count": null,
   "id": "dd498427-c17c-4051-b6f1-d9e92e6e427a",
   "metadata": {},
   "outputs": [],
   "source": [
    "pb_dir_path = '../../data/pseudobulks/'\n",
    "adata_pb_4spe = sc.read_h5ad(pb_dir_path + '4spe_pb_mean_filt_nor_mean.h5ad')\n",
    "#adata_pb_norm_mean.var = anova_res\n",
    "adata_pb_4spe"
   ]
  },
  {
   "cell_type": "code",
   "execution_count": null,
   "id": "d32b0774-941c-422f-be2b-d12794ab2f59",
   "metadata": {},
   "outputs": [],
   "source": [
    "df_4spe = pd.DataFrame(adata_pb_4spe.X, index=adata_pb_4spe.obs_names, columns=adata_pb_4spe.var_names)"
   ]
  },
  {
   "cell_type": "code",
   "execution_count": null,
   "id": "99a7ab2e-a006-4c96-bccb-376dbf159d2a",
   "metadata": {},
   "outputs": [],
   "source": [
    "hs_genes_inter = df_4spe.columns.intersection(hs_genes)\n",
    "hs_genes_inter.size"
   ]
  },
  {
   "cell_type": "code",
   "execution_count": null,
   "id": "2c345e46-b2af-438b-87b9-942f65125f34",
   "metadata": {},
   "outputs": [],
   "source": [
    "sample_order = dict()\n",
    "for cond in ['human', 'chimp', 'macaque', 'treeshrew']:\n",
    "    samples = df_4spe.loc[df_4spe.index.str.contains(cond)].index\n",
    "    order_s = sorted(samples.to_list(), key=lambda x: x[:2])\n",
    "    order_laminar = list(filter(lambda x: 'L' in x, order_s))\n",
    "    order_wm = list(filter(lambda x: 'WM' in x, order_s))\n",
    "    sample_order[cond] = order_wm + order_laminar\n",
    "sample_order['all'] = sample_order['human'] + sample_order['chimp'] + sample_order['macaque'] + sample_order['treeshrew']\n",
    "df_4spe = df_4spe.loc[sample_order['all']]\n",
    "df_4spe_hs = df_4spe[hs_genes_inter]"
   ]
  },
  {
   "cell_type": "code",
   "execution_count": null,
   "id": "4cbabf53-bb83-4cc0-bb47-fdd931ea15bc",
   "metadata": {},
   "outputs": [],
   "source": [
    "order_4spe = order.intersection(hs_genes_inter)"
   ]
  },
  {
   "cell_type": "code",
   "execution_count": null,
   "id": "2f00678e-164e-4a82-a0d4-2d7baeceea14",
   "metadata": {},
   "outputs": [],
   "source": [
    "from matplotlib.patches import bbox_artist\n",
    "from mpl_toolkits.axes_grid1 import make_axes_locatable\n",
    "from matplotlib import ticker\n",
    "\n",
    "mpl.rcdefaults()\n",
    "fig, ax = plt.subplots(figsize=(10, 8))\n",
    "sns.heatmap(df_4spe_hs[order_4spe], ax=ax, cmap=\"RdBu_r\", vmax=0.5, vmin=-0.5, center=0)\n",
    "divider = make_axes_locatable(ax)\n",
    "cax = divider.append_axes('top', size='2%', pad=0.05)\n",
    "cmap = mpl.colors.ListedColormap(colors)\n",
    "\n",
    "cluster_size = labels.value_counts().loc[clusters].values\n",
    "cluster_pos = cluster_size.cumsum()\n",
    "bounds = [0] + list(cluster_pos)\n",
    "norm = mpl.colors.BoundaryNorm(bounds, cmap.N)\n",
    "fig.colorbar(\n",
    "    mpl.cm.ScalarMappable(cmap=cmap, norm=norm),\n",
    "    cax=cax,\n",
    "    ticks=bounds,\n",
    "    orientation='horizontal',\n",
    "    spacing='proportional'\n",
    ")\n",
    "cax.xaxis.set_major_locator(ticker.FixedLocator(cluster_pos - cluster_size / 2))\n",
    "cax.xaxis.set_major_formatter(ticker.FixedFormatter(clusters))\n",
    "cax.xaxis.tick_top()"
   ]
  },
  {
   "cell_type": "markdown",
   "id": "19099e91-9eb2-4f81-b216-df73b2bbb0de",
   "metadata": {},
   "source": [
    "## Cluster profiles"
   ]
  },
  {
   "cell_type": "code",
   "execution_count": null,
   "id": "c42a796a-3b27-4a5b-a707-209bcf83927a",
   "metadata": {},
   "outputs": [],
   "source": [
    "df_annotation = df_4spe_hs.copy()\n",
    "df_annotation['layer'] = adata_pb_4spe.obs.layer\n",
    "df_annotation['condition'] = adata_pb_4spe.obs.condition"
   ]
  },
  {
   "cell_type": "code",
   "execution_count": null,
   "id": "85c16858-6290-4ee8-8423-3f9b1c78fb9a",
   "metadata": {},
   "outputs": [],
   "source": [
    "layer_mean = df_annotation.groupby(['condition', 'layer']).mean()\n",
    "layer_mean.head()"
   ]
  },
  {
   "cell_type": "code",
   "execution_count": null,
   "id": "21806df7-5efe-420e-a972-2385c11d7661",
   "metadata": {},
   "outputs": [],
   "source": [
    "fig, axes = plt.subplots((n_clusters + 1) // 2, 2,  figsize=(14, 3.5 * n_clusters // 2), gridspec_kw={'hspace': 0.4})\n",
    "sns.set(font_scale=1)\n",
    "for label, ax in zip(labels.unique(), axes.flatten()):\n",
    "    genes = labels[labels == label].index.intersection(hs_genes_inter).tolist()\n",
    "\n",
    "    (\n",
    "        layer_mean[genes]\n",
    "        .mean(axis=1)\n",
    "        .reorder_levels(['layer', 'condition'])\n",
    "        .unstack().loc[layers]\n",
    "        .plot\n",
    "        .line(color={'human': 'tab:red', 'chimp': 'tab:orange', 'macaque': 'tab:green', 'treeshrew': 'tab:blue'}, ax=ax, marker='.')\n",
    "    )\n",
    "    ax.legend(fontsize=10)\n",
    "    ax.set_title(f'Cluster {label}', fontsize=16)\n",
    "    ax.grid(False)\n",
    "    ax.hlines(0, xmin=0, xmax=6, colors='gray', linestyles='dashed')\n",
    "\n",
    "fig.suptitle('Mean averaging for profiles', fontsize=20)"
   ]
  },
  {
   "cell_type": "markdown",
   "id": "658757de-52f9-4f78-acdb-eb4a25149faa",
   "metadata": {},
   "source": [
    "# Functional analysis"
   ]
  },
  {
   "cell_type": "code",
   "execution_count": null,
   "id": "75248ae7-b235-4f7f-9ab1-4edff106da51",
   "metadata": {},
   "outputs": [],
   "source": [
    "import gseapy\n",
    "#gseapy.get_library_name()"
   ]
  },
  {
   "cell_type": "code",
   "execution_count": null,
   "id": "db96bafb-7650-40ec-aab7-729bb58f1c2b",
   "metadata": {},
   "outputs": [],
   "source": [
    "enr_bg = gseapy.enrichr(gene_list=hs_genes.to_list(),\n",
    "                        gene_sets=['GO_Biological_Process_2021', 'Azimuth_Cell_Types_2021', 'SynGO_2022', 'KEGG_2021_Human'],\n",
    "                        outdir=None, # don't write to disk\n",
    "                        background=background_genes\n",
    "                       ).results"
   ]
  },
  {
   "cell_type": "code",
   "execution_count": null,
   "id": "ccae0572-6032-4d7c-b6a2-cafaa91ea959",
   "metadata": {},
   "outputs": [],
   "source": [
    "enr_bg[enr_bg['Adjusted P-value'] < 0.05].index.size"
   ]
  },
  {
   "cell_type": "code",
   "execution_count": null,
   "id": "0058adf4-09f6-409c-a119-326fac09149b",
   "metadata": {},
   "outputs": [],
   "source": [
    "# categorical scatterplot\n",
    "try:\n",
    "    ax = gseapy.dotplot(enr_bg,\n",
    "                column=\"Adjusted P-value\",\n",
    "                x='Gene_set', # set x axis, so you could do a multi-sample/library comparsion\n",
    "                size=3,\n",
    "                top_term=6,\n",
    "                figsize=(5,7),\n",
    "                title = \"Enrichment\",\n",
    "                xticklabels_rot=15, # rotate xtick labels\n",
    "                show_ring=True, # set to False to revmove outer ring\n",
    "                marker='o',\n",
    "                )\n",
    "\n",
    "    ax.tick_params(axis='both', which='major', labelsize=10)\n",
    "except e:\n",
    "    print(e)"
   ]
  },
  {
   "cell_type": "code",
   "execution_count": null,
   "id": "829f895f-3826-4b1d-884f-aaed9199c283",
   "metadata": {},
   "outputs": [],
   "source": [
    "gene_clust = list()\n",
    "enrich_results = list()\n",
    "\n",
    "for label in tqdm(sorted(labels.unique())):\n",
    "    genes = labels[labels == label].index.tolist()\n",
    "    descr = f'Genes for spectral clustering ({n_clusters} clusters) of human-specific genes. Cluster label: {label}'\n",
    "    gene_clust.append(GeneCluster(genes, descr, label, background_genes))\n",
    "    time.sleep(1)"
   ]
  },
  {
   "cell_type": "markdown",
   "id": "bf0fc1e7-9904-4ea0-af7e-a0813c336433",
   "metadata": {
    "id": "yQXBK7ia9lTi"
   },
   "source": [
    "## GO_Biological_Process_2023"
   ]
  },
  {
   "cell_type": "code",
   "execution_count": null,
   "id": "c13d7fad-14de-422a-ad55-d3de22ea49fd",
   "metadata": {
    "id": "GlVlUsB-G4gZ"
   },
   "outputs": [],
   "source": [
    "db_name = 'GO_Biological_Process_2023'\n",
    "GeneCluster.enrich_geneclusters(gene_clust,db_name )"
   ]
  },
  {
   "cell_type": "code",
   "execution_count": null,
   "id": "6e6c91b8-e14e-40ab-817a-18fe0ed657c1",
   "metadata": {
    "colab": {
     "base_uri": "https://localhost:8080/",
     "height": 386
    },
    "id": "kz5RkT2X9U6c",
    "outputId": "1a3decb2-2cbf-44eb-8a7b-f37f835a91bc"
   },
   "outputs": [],
   "source": [
    "enrich_res = pd.concat([gc.enrichment_res[db_name] for gc in gene_clust])\n",
    "enrich_res = enrich_res.set_index(['Term'])\n",
    "enrich_res.cluster_label = 'culster' + enrich_res.cluster_label.astype(str)\n",
    "enrich_res.head()"
   ]
  },
  {
   "cell_type": "code",
   "execution_count": null,
   "id": "8513aa89-316f-4e0e-899b-7c460265c0a3",
   "metadata": {
    "colab": {
     "base_uri": "https://localhost:8080/"
    },
    "id": "3IpIBitVAh21",
    "outputId": "9c4cf738-5d14-4dea-d11f-768eb2212421"
   },
   "outputs": [],
   "source": [
    "terms = enrich_res[(enrich_res['Adjusted P-value'] < 0.05) & (enrich_res.Rank < 10)].index.unique()\n",
    "terms.size"
   ]
  },
  {
   "cell_type": "code",
   "execution_count": null,
   "id": "49809cf9-7f19-43d7-abbe-26dcd36720e1",
   "metadata": {},
   "outputs": [],
   "source": [
    "from pandas.api.types import CategoricalDtype\n",
    "enrich_res_plot = enrich_res.loc[terms].copy()\n",
    "cat_type = CategoricalDtype(categories=['No significance', 'p < 0.05', 'p < 0.01', 'p < 0.001'], ordered=True)\n",
    "enrich_res_plot['p-value'] = enrich_res_plot['Adjusted P-value'].apply(p_val_group).astype(cat_type)\n",
    "enrich_results.append(enrich_res_plot)"
   ]
  },
  {
   "cell_type": "code",
   "execution_count": null,
   "id": "7ec50ba2-8516-40f1-975b-a86f5f982c1f",
   "metadata": {},
   "outputs": [],
   "source": [
    "mpl.rcdefaults()\n",
    "fig = plt.figure(figsize=(7, 10), dpi=100)\n",
    "\n",
    "ax = sns.scatterplot(\n",
    "    data=enrich_res_plot.reset_index(),\n",
    "    x='cluster_label',\n",
    "    y='Term',\n",
    "    size='num_overlap_genes',\n",
    "    sizes=(20, 250),\n",
    "    hue='p-value',\n",
    "    palette=color_discrete_map\n",
    ")\n",
    "\n",
    "ax.tick_params(labelsize=10)\n",
    "ax.legend(fontsize=15)\n",
    "ax.set_xlabel(\"Cluster label\",fontsize=15)\n",
    "ax.set_ylabel(\"\", fontsize=10)\n",
    "ax.grid(False)\n",
    "ax.set_title(db_name)\n",
    "\n",
    "sns.move_legend(ax, \"upper left\", bbox_to_anchor=(1, 1))\n",
    "\n",
    "x_ticks = ax.get_xticklabels()\n",
    "x_ticks_pos = {text_obj.get_text():text_obj.get_position()[0] for text_obj in x_ticks}\n",
    "\n",
    "y_ticks = ax.get_yticklabels()\n",
    "y_ticks_pos = {text_obj.get_text():text_obj.get_position()[1] for text_obj in y_ticks}\n",
    "\n",
    "text_df = enrich_res_plot.reset_index().copy()\n",
    "for i in range(text_df.shape[0]):\n",
    "    text_df_sub = text_df.iloc[i, :].to_dict()\n",
    "    x=x_ticks_pos[str(text_df_sub['cluster_label'])]\n",
    "    y=y_ticks_pos[text_df_sub['Term']]\n",
    "    text = ','.join(text_df_sub['Overlapping genes'])\n",
    "    #ax.annotate(text, (x, y), xycoords='data', xytext=(x + 0.1, y - 0.1), textcoords='data', arrowprops={'arrowstyle': '-'})\n",
    "    ax.text(x + 0.05, y - 0.1, text, fontsize=7)"
   ]
  },
  {
   "cell_type": "markdown",
   "id": "da13f721",
   "metadata": {},
   "source": [
    "## GO_Molecular_Function_2023"
   ]
  },
  {
   "cell_type": "code",
   "execution_count": null,
   "id": "dd8ec555",
   "metadata": {},
   "outputs": [],
   "source": [
    "db_name = 'GO_Molecular_Function_2023'\n",
    "GeneCluster.enrich_geneclusters(gene_clust,db_name )"
   ]
  },
  {
   "cell_type": "code",
   "execution_count": null,
   "id": "dfcfb40d",
   "metadata": {},
   "outputs": [],
   "source": [
    "enrich_res = pd.concat([gc.enrichment_res[db_name] for gc in gene_clust])\n",
    "enrich_res = enrich_res.set_index(['Term'])\n",
    "enrich_res.head()"
   ]
  },
  {
   "cell_type": "code",
   "execution_count": null,
   "id": "aa16f011",
   "metadata": {},
   "outputs": [],
   "source": [
    "terms = enrich_res[(enrich_res['Adjusted P-value'] < 0.05) & (enrich_res.Rank < 20)].index.unique()\n",
    "terms.size"
   ]
  },
  {
   "cell_type": "code",
   "execution_count": null,
   "id": "8d74712f",
   "metadata": {},
   "outputs": [],
   "source": [
    "enrich_res[enrich_res.cluster_label == 5]"
   ]
  },
  {
   "cell_type": "code",
   "execution_count": null,
   "id": "157d873f",
   "metadata": {},
   "outputs": [],
   "source": [
    "from pandas.api.types import CategoricalDtype\n",
    "enrich_res_plot = enrich_res.loc[terms].copy()\n",
    "cat_type = CategoricalDtype(categories=['No significance', 'p < 0.05', 'p < 0.01', 'p < 0.001'], ordered=True)\n",
    "enrich_res_plot['p-value'] = enrich_res_plot['Adjusted P-value'].apply(p_val_group).astype(cat_type)\n",
    "enrich_results.append(enrich_res_plot)"
   ]
  },
  {
   "cell_type": "code",
   "execution_count": null,
   "id": "59d09fa3",
   "metadata": {},
   "outputs": [],
   "source": [
    "mpl.rcdefaults()\n",
    "fig = plt.figure(figsize=(7, 10), dpi=100)\n",
    "\n",
    "ax = sns.scatterplot(\n",
    "    data=enrich_res_plot.reset_index(),\n",
    "    x='cluster_label',\n",
    "    y='Term',\n",
    "    size='num_overlap_genes',\n",
    "    sizes=(20, 250),\n",
    "    hue='p-value',\n",
    "    palette=color_discrete_map\n",
    ")\n",
    "\n",
    "ax.tick_params(labelsize=10)\n",
    "ax.legend(fontsize=15)\n",
    "ax.set_xlabel(\"Cluster label\",fontsize=15)\n",
    "ax.set_ylabel(\"\", fontsize=10)\n",
    "ax.grid(False)\n",
    "ax.set_title(db_name)\n",
    "\n",
    "sns.move_legend(ax, \"upper left\", bbox_to_anchor=(1, 1))"
   ]
  },
  {
   "cell_type": "markdown",
   "id": "8ee9547f",
   "metadata": {},
   "source": [
    "## GO_Cellular_Component_2023"
   ]
  },
  {
   "cell_type": "code",
   "execution_count": null,
   "id": "bc365036",
   "metadata": {},
   "outputs": [],
   "source": [
    "db_name = 'GO_Cellular_Component_2023'\n",
    "GeneCluster.enrich_geneclusters(gene_clust,db_name )"
   ]
  },
  {
   "cell_type": "code",
   "execution_count": null,
   "id": "85c75673",
   "metadata": {},
   "outputs": [],
   "source": [
    "enrich_res = pd.concat([gc.enrichment_res[db_name] for gc in gene_clust])\n",
    "enrich_res = enrich_res.set_index(['Term'])\n",
    "enrich_res.head()"
   ]
  },
  {
   "cell_type": "code",
   "execution_count": null,
   "id": "ca373fe3",
   "metadata": {},
   "outputs": [],
   "source": [
    "terms = enrich_res[(enrich_res['Adjusted P-value'] < 0.05) & (enrich_res.Rank < 20)].index.unique()\n",
    "terms.size"
   ]
  },
  {
   "cell_type": "code",
   "execution_count": null,
   "id": "b0967dbf",
   "metadata": {},
   "outputs": [],
   "source": [
    "enrich_res[enrich_res.cluster_label == 5]"
   ]
  },
  {
   "cell_type": "code",
   "execution_count": null,
   "id": "fda64c53",
   "metadata": {},
   "outputs": [],
   "source": [
    "from pandas.api.types import CategoricalDtype\n",
    "enrich_res_plot = enrich_res.loc[terms].copy()\n",
    "cat_type = CategoricalDtype(categories=['No significance', 'p < 0.05', 'p < 0.01', 'p < 0.001'], ordered=True)\n",
    "enrich_res_plot['p-value'] = enrich_res_plot['Adjusted P-value'].apply(p_val_group).astype(cat_type)\n",
    "enrich_results.append(enrich_res_plot)"
   ]
  },
  {
   "cell_type": "code",
   "execution_count": null,
   "id": "3023906d",
   "metadata": {},
   "outputs": [],
   "source": [
    "mpl.rcdefaults()\n",
    "fig = plt.figure(figsize=(7, 10), dpi=100)\n",
    "\n",
    "ax = sns.scatterplot(\n",
    "    data=enrich_res_plot.reset_index(),\n",
    "    x='cluster_label',\n",
    "    y='Term',\n",
    "    size='num_overlap_genes',\n",
    "    sizes=(20, 250),\n",
    "    hue='p-value',\n",
    "    palette=color_discrete_map\n",
    ")\n",
    "\n",
    "ax.tick_params(labelsize=10)\n",
    "ax.legend(fontsize=15)\n",
    "ax.set_xlabel(\"Cluster label\",fontsize=15)\n",
    "ax.set_ylabel(\"\", fontsize=10)\n",
    "ax.grid(False)\n",
    "ax.set_title(db_name)\n",
    "\n",
    "sns.move_legend(ax, \"upper left\", bbox_to_anchor=(1, 1))"
   ]
  },
  {
   "cell_type": "markdown",
   "id": "e721eac2",
   "metadata": {},
   "source": [
    "## WikiPathway_2023_Human"
   ]
  },
  {
   "cell_type": "code",
   "execution_count": null,
   "id": "5e059678",
   "metadata": {},
   "outputs": [],
   "source": [
    "db_name = 'WikiPathway_2023_Human'\n",
    "GeneCluster.enrich_geneclusters(gene_clust,db_name )"
   ]
  },
  {
   "cell_type": "code",
   "execution_count": null,
   "id": "f9bca182",
   "metadata": {},
   "outputs": [],
   "source": [
    "enrich_res = pd.concat([gc.enrichment_res[db_name] for gc in gene_clust])\n",
    "enrich_res = enrich_res.set_index(['Term'])\n",
    "enrich_res.head()"
   ]
  },
  {
   "cell_type": "code",
   "execution_count": null,
   "id": "8c0f938d",
   "metadata": {},
   "outputs": [],
   "source": [
    "terms = enrich_res[(enrich_res['Adjusted P-value'] < 0.05) & (enrich_res.Rank < 20)].index.unique()\n",
    "terms.size"
   ]
  },
  {
   "cell_type": "code",
   "execution_count": null,
   "id": "4275c47e",
   "metadata": {},
   "outputs": [],
   "source": [
    "enrich_res[enrich_res.cluster_label == 5]"
   ]
  },
  {
   "cell_type": "code",
   "execution_count": null,
   "id": "ce249ffe",
   "metadata": {},
   "outputs": [],
   "source": [
    "from pandas.api.types import CategoricalDtype\n",
    "enrich_res_plot = enrich_res.loc[terms].copy()\n",
    "cat_type = CategoricalDtype(categories=['No significance', 'p < 0.05', 'p < 0.01', 'p < 0.001'], ordered=True)\n",
    "enrich_res_plot['p-value'] = enrich_res_plot['Adjusted P-value'].apply(p_val_group).astype(cat_type)\n",
    "enrich_results.append(enrich_res_plot)"
   ]
  },
  {
   "cell_type": "code",
   "execution_count": null,
   "id": "d5bdf953",
   "metadata": {},
   "outputs": [],
   "source": [
    "mpl.rcdefaults()\n",
    "fig = plt.figure(figsize=(7, 10), dpi=100)\n",
    "\n",
    "ax = sns.scatterplot(\n",
    "    data=enrich_res_plot.reset_index(),\n",
    "    x='cluster_label',\n",
    "    y='Term',\n",
    "    size='num_overlap_genes',\n",
    "    sizes=(20, 250),\n",
    "    hue='p-value',\n",
    "    palette=color_discrete_map\n",
    ")\n",
    "\n",
    "ax.tick_params(labelsize=10)\n",
    "ax.legend(fontsize=15)\n",
    "ax.set_xlabel(\"Cluster label\",fontsize=15)\n",
    "ax.set_ylabel(\"\", fontsize=10)\n",
    "ax.grid(False)\n",
    "ax.set_title(db_name)\n",
    "\n",
    "sns.move_legend(ax, \"upper left\", bbox_to_anchor=(1, 1))"
   ]
  },
  {
   "cell_type": "markdown",
   "id": "bca6dee6-9f68-4519-8e87-42cba99f9a52",
   "metadata": {
    "id": "QVGRJc3sFamK"
   },
   "source": [
    "## Azimuth Cell Types 2021\n"
   ]
  },
  {
   "cell_type": "code",
   "execution_count": null,
   "id": "388b631d-2f06-4ff8-867b-20839329a2f1",
   "metadata": {
    "id": "8xSR5oOSFamL"
   },
   "outputs": [],
   "source": [
    "db_name = 'Azimuth_Cell_Types_2021'\n",
    "GeneCluster.enrich_geneclusters(gene_clust, db_name)"
   ]
  },
  {
   "cell_type": "code",
   "execution_count": null,
   "id": "dedd33b9-1781-46d0-a491-80422bb986cd",
   "metadata": {
    "colab": {
     "base_uri": "https://localhost:8080/",
     "height": 351
    },
    "id": "e-3LH9oxFamL",
    "outputId": "557b3557-b9da-488e-c11e-40a4337bc780"
   },
   "outputs": [],
   "source": [
    "enrich_res = pd.concat([gc.enrichment_res[db_name] for gc in gene_clust])\n",
    "enrich_res = enrich_res.set_index(['Term'])\n",
    "enrich_res.head()"
   ]
  },
  {
   "cell_type": "code",
   "execution_count": null,
   "id": "46ae71bb-0f80-425c-9cff-2e6c8648f00f",
   "metadata": {
    "colab": {
     "base_uri": "https://localhost:8080/"
    },
    "id": "cuAxRNRtFamL",
    "outputId": "22078827-8007-4494-94ae-4b82412a8856"
   },
   "outputs": [],
   "source": [
    "terms = enrich_res[(enrich_res['Adjusted P-value'] < 0.05) & (enrich_res.Rank < 10)].index.unique()\n",
    "terms.size"
   ]
  },
  {
   "cell_type": "code",
   "execution_count": null,
   "id": "69f23925-ba0e-46e0-9d19-29daf2d749d1",
   "metadata": {},
   "outputs": [],
   "source": [
    "from pandas.api.types import CategoricalDtype\n",
    "enrich_res_plot = enrich_res.loc[terms].copy()\n",
    "cat_type = CategoricalDtype(categories=['No significance', 'p < 0.05', 'p < 0.01', 'p < 0.001'], ordered=True)\n",
    "enrich_res_plot['p-value'] = enrich_res_plot['Adjusted P-value'].apply(p_val_group).astype(cat_type)\n",
    "enrich_results.append(enrich_res_plot)"
   ]
  },
  {
   "cell_type": "code",
   "execution_count": null,
   "id": "207f1bed-ff82-4269-9f13-d975c6563aa3",
   "metadata": {},
   "outputs": [],
   "source": [
    "mpl.rcdefaults()\n",
    "fig = plt.figure(figsize=(7, 10), dpi=120)\n",
    "\n",
    "ax = sns.scatterplot(\n",
    "    data=enrich_res_plot.reset_index(),\n",
    "    x='cluster_label',\n",
    "    y='Term',\n",
    "    size='num_overlap_genes',\n",
    "    sizes=(20, 250),\n",
    "    hue='p-value',\n",
    "    palette=color_discrete_map\n",
    ")\n",
    "\n",
    "ax.tick_params(labelsize=10)\n",
    "ax.legend(fontsize=15)\n",
    "ax.set_xlabel(\"Cluster label\",fontsize=15)\n",
    "ax.set_ylabel(\"\", fontsize=10)\n",
    "ax.grid(False)\n",
    "ax.set_title(db_name)\n",
    "\n",
    "sns.move_legend(ax, \"upper left\", bbox_to_anchor=(1, 1))"
   ]
  },
  {
   "cell_type": "markdown",
   "id": "9bd275e6",
   "metadata": {},
   "source": [
    "## Azimuth 2023\n"
   ]
  },
  {
   "cell_type": "code",
   "execution_count": null,
   "id": "b2c0f4f9",
   "metadata": {},
   "outputs": [],
   "source": [
    "db_name = 'Azimuth_2023'\n",
    "GeneCluster.enrich_geneclusters(gene_clust, db_name)"
   ]
  },
  {
   "cell_type": "code",
   "execution_count": null,
   "id": "1cf6b746",
   "metadata": {},
   "outputs": [],
   "source": [
    "enrich_res = pd.concat([gc.enrichment_res[db_name] for gc in gene_clust])\n",
    "enrich_res = enrich_res.set_index(['Term'])\n",
    "enrich_res.head()"
   ]
  },
  {
   "cell_type": "code",
   "execution_count": null,
   "id": "91d8ef49",
   "metadata": {},
   "outputs": [],
   "source": [
    "terms = enrich_res[(enrich_res['Adjusted P-value'] < 0.05) & (enrich_res.Rank < 10)].index.unique()\n",
    "terms.size"
   ]
  },
  {
   "cell_type": "code",
   "execution_count": null,
   "id": "ded217b8",
   "metadata": {},
   "outputs": [],
   "source": [
    "from pandas.api.types import CategoricalDtype\n",
    "enrich_res_plot = enrich_res.loc[terms].copy()\n",
    "cat_type = CategoricalDtype(categories=['No significance', 'p < 0.05', 'p < 0.01', 'p < 0.001'], ordered=True)\n",
    "enrich_res_plot['p-value'] = enrich_res_plot['Adjusted P-value'].apply(p_val_group).astype(cat_type)\n",
    "enrich_results.append(enrich_res_plot)"
   ]
  },
  {
   "cell_type": "code",
   "execution_count": null,
   "id": "a7f2dff5",
   "metadata": {},
   "outputs": [],
   "source": [
    "mpl.rcdefaults()\n",
    "fig = plt.figure(figsize=(7, 10), dpi=120)\n",
    "\n",
    "ax = sns.scatterplot(\n",
    "    data=enrich_res_plot.reset_index(),\n",
    "    x='cluster_label',\n",
    "    y='Term',\n",
    "    size='num_overlap_genes',\n",
    "    sizes=(20, 250),\n",
    "    hue='p-value',\n",
    "    palette=color_discrete_map\n",
    ")\n",
    "\n",
    "ax.tick_params(labelsize=10)\n",
    "ax.legend(fontsize=15)\n",
    "ax.set_xlabel(\"Cluster label\",fontsize=15)\n",
    "ax.set_ylabel(\"\", fontsize=10)\n",
    "ax.grid(False)\n",
    "ax.set_title(db_name)\n",
    "\n",
    "sns.move_legend(ax, \"upper left\", bbox_to_anchor=(1, 1))"
   ]
  },
  {
   "cell_type": "markdown",
   "id": "3e6f71bd",
   "metadata": {},
   "source": [
    "## Allen_Brain_Atlas_10x_scRNA_2021\n"
   ]
  },
  {
   "cell_type": "code",
   "execution_count": null,
   "id": "abf0d8d1",
   "metadata": {},
   "outputs": [],
   "source": [
    "db_name = 'Allen_Brain_Atlas_10x_scRNA_2021'\n",
    "GeneCluster.enrich_geneclusters(gene_clust, db_name)"
   ]
  },
  {
   "cell_type": "code",
   "execution_count": null,
   "id": "f9f0641e",
   "metadata": {},
   "outputs": [],
   "source": [
    "enrich_res = pd.concat([gc.enrichment_res[db_name] for gc in gene_clust])\n",
    "enrich_res = enrich_res.set_index(['Term'])\n",
    "enrich_res.head()"
   ]
  },
  {
   "cell_type": "code",
   "execution_count": null,
   "id": "eb64e5fe",
   "metadata": {},
   "outputs": [],
   "source": [
    "terms = enrich_res[(enrich_res['Adjusted P-value'] < 0.05) & (enrich_res.Rank < 10)].index.unique()\n",
    "terms.size"
   ]
  },
  {
   "cell_type": "code",
   "execution_count": null,
   "id": "3b58b659",
   "metadata": {},
   "outputs": [],
   "source": [
    "from pandas.api.types import CategoricalDtype\n",
    "enrich_res_plot = enrich_res.loc[terms].copy()\n",
    "cat_type = CategoricalDtype(categories=['No significance', 'p < 0.05', 'p < 0.01', 'p < 0.001'], ordered=True)\n",
    "enrich_res_plot['p-value'] = enrich_res_plot['Adjusted P-value'].apply(p_val_group).astype(cat_type)\n",
    "enrich_results.append(enrich_res_plot)"
   ]
  },
  {
   "cell_type": "code",
   "execution_count": null,
   "id": "ee15c0ac",
   "metadata": {},
   "outputs": [],
   "source": [
    "mpl.rcdefaults()\n",
    "fig = plt.figure(figsize=(7, 10), dpi=120)\n",
    "\n",
    "ax = sns.scatterplot(\n",
    "    data=enrich_res_plot.reset_index(),\n",
    "    x='cluster_label',\n",
    "    y='Term',\n",
    "    size='num_overlap_genes',\n",
    "    sizes=(20, 250),\n",
    "    hue='p-value',\n",
    "    palette=color_discrete_map\n",
    ")\n",
    "\n",
    "ax.tick_params(labelsize=10)\n",
    "ax.legend(fontsize=15)\n",
    "ax.set_xlabel(\"Cluster label\",fontsize=15)\n",
    "ax.set_ylabel(\"\", fontsize=10)\n",
    "ax.grid(False)\n",
    "ax.set_title(db_name)\n",
    "\n",
    "sns.move_legend(ax, \"upper left\", bbox_to_anchor=(1, 1))"
   ]
  },
  {
   "cell_type": "markdown",
   "id": "aa96c462-3faa-47a2-b5a4-f7fde5680a8d",
   "metadata": {
    "id": "-RDJPrRpDgjk"
   },
   "source": [
    "## Reactome_2022"
   ]
  },
  {
   "cell_type": "code",
   "execution_count": null,
   "id": "ef610b96-8d7d-4242-af55-466cd1c6095a",
   "metadata": {
    "id": "h8ayGriDDgjl"
   },
   "outputs": [],
   "source": [
    "db_name = 'Reactome_2022'\n",
    "GeneCluster.enrich_geneclusters(gene_clust, db_name)"
   ]
  },
  {
   "cell_type": "code",
   "execution_count": null,
   "id": "85a99d7c-dbaf-4398-8255-0823bb38bdbf",
   "metadata": {
    "colab": {
     "base_uri": "https://localhost:8080/",
     "height": 403
    },
    "id": "3GFf_S5uDgjl",
    "outputId": "029de2b3-89bc-4b7b-ab2b-d6c9867fdc2d"
   },
   "outputs": [],
   "source": [
    "enrich_res = pd.concat([gc.enrichment_res[db_name] for gc in gene_clust])\n",
    "enrich_res = enrich_res.set_index(['Term'])\n",
    "enrich_res.head()"
   ]
  },
  {
   "cell_type": "code",
   "execution_count": null,
   "id": "2cc634b7-1782-48a9-91e1-041fd35b5d84",
   "metadata": {
    "colab": {
     "base_uri": "https://localhost:8080/"
    },
    "id": "yYI_v4FvDgjn",
    "outputId": "a401cfaa-ab38-496c-ce28-c6fb3f372dc0"
   },
   "outputs": [],
   "source": [
    "terms = enrich_res[(enrich_res['Adjusted P-value'] < 0.05)].index.unique()\n",
    "terms.size"
   ]
  },
  {
   "cell_type": "code",
   "execution_count": null,
   "id": "4474cc35-e507-4b08-a6ad-7dddcaf6e50d",
   "metadata": {},
   "outputs": [],
   "source": [
    "from pandas.api.types import CategoricalDtype\n",
    "enrich_res_plot = enrich_res.loc[terms].copy()\n",
    "cat_type = CategoricalDtype(categories=['No significance', 'p < 0.05', 'p < 0.01', 'p < 0.001'], ordered=True)\n",
    "enrich_res_plot['p-value'] = enrich_res_plot['Adjusted P-value'].apply(p_val_group).astype(cat_type)\n",
    "enrich_results.append(enrich_res_plot)"
   ]
  },
  {
   "cell_type": "code",
   "execution_count": null,
   "id": "d5cd3bfc-f2b6-4694-92b6-b32a1ba63515",
   "metadata": {},
   "outputs": [],
   "source": [
    "fig = plt.figure(figsize=(7, 10), dpi=120)\n",
    "\n",
    "ax = sns.scatterplot(\n",
    "    data=enrich_res_plot.reset_index(),\n",
    "    x='cluster_label',\n",
    "    y='Term',\n",
    "    size='num_overlap_genes',\n",
    "    sizes=(20, 250),\n",
    "    hue='p-value',\n",
    "    palette=color_discrete_map\n",
    ")\n",
    "\n",
    "ax.tick_params(labelsize=10)\n",
    "ax.legend(fontsize=15)\n",
    "ax.set_xlabel(\"Cluster label\",fontsize=15)\n",
    "ax.set_ylabel(\"\", fontsize=10)\n",
    "ax.grid(False)\n",
    "ax.set_title(db_name)\n",
    "\n",
    "sns.move_legend(ax, \"upper left\", bbox_to_anchor=(1, 1))"
   ]
  },
  {
   "cell_type": "markdown",
   "id": "9b6d5c9e-6319-4283-9b82-386fa1407d3d",
   "metadata": {
    "id": "5RpKCQzlCRhA"
   },
   "source": [
    "## SynGO_2022"
   ]
  },
  {
   "cell_type": "code",
   "execution_count": null,
   "id": "3d26672a-439e-4e9f-a37a-d424b9cb83d0",
   "metadata": {
    "id": "Ngct_y67CRhA"
   },
   "outputs": [],
   "source": [
    "db_name = 'SynGO_2022'\n",
    "GeneCluster.enrich_geneclusters(gene_clust, db_name)"
   ]
  },
  {
   "cell_type": "code",
   "execution_count": null,
   "id": "393c8ea7-69a9-4625-99a3-2cc2effe45ed",
   "metadata": {
    "colab": {
     "base_uri": "https://localhost:8080/",
     "height": 282
    },
    "id": "ziGko-9KCRhA",
    "outputId": "19b45b19-96ac-46c2-974c-5f5cb6ba4309"
   },
   "outputs": [],
   "source": [
    "enrich_res = pd.concat([gc.enrichment_res[db_name] for gc in gene_clust])\n",
    "enrich_res = enrich_res.set_index(['Term'])\n",
    "enrich_res.head()"
   ]
  },
  {
   "cell_type": "code",
   "execution_count": null,
   "id": "37a5139f-1fbb-428e-9398-07a9dd5c2bbf",
   "metadata": {},
   "outputs": [],
   "source": [
    "enrich_res[enrich_res.cluster_label == 2]"
   ]
  },
  {
   "cell_type": "code",
   "execution_count": null,
   "id": "d5fe0286-c799-485f-bd5b-92869c9daada",
   "metadata": {
    "colab": {
     "base_uri": "https://localhost:8080/"
    },
    "id": "T_rN9HMWCRhB",
    "outputId": "9081066c-e769-418b-a8cd-a85368b79d72"
   },
   "outputs": [],
   "source": [
    "terms = enrich_res[(enrich_res['Adjusted P-value'] < 0.05)].index.unique()\n",
    "terms.size"
   ]
  },
  {
   "cell_type": "code",
   "execution_count": null,
   "id": "c6f6728e-49f7-46c4-9dae-1abb76586d96",
   "metadata": {},
   "outputs": [],
   "source": [
    "from pandas.api.types import CategoricalDtype\n",
    "enrich_res_plot = enrich_res.loc[terms].copy()\n",
    "cat_type = CategoricalDtype(categories=['No significance', 'p < 0.05', 'p < 0.01', 'p < 0.001'], ordered=True)\n",
    "enrich_res_plot['p-value'] = enrich_res_plot['Adjusted P-value'].apply(p_val_group).astype(cat_type)\n",
    "enrich_results.append(enrich_res_plot)"
   ]
  },
  {
   "cell_type": "code",
   "execution_count": null,
   "id": "fd7c5661-3115-4438-873b-766baed44ca4",
   "metadata": {},
   "outputs": [],
   "source": [
    "mpl.rcdefaults()\n",
    "fig = plt.figure(figsize=(7, 10), dpi=120)\n",
    "\n",
    "ax = sns.scatterplot(\n",
    "    data=enrich_res_plot.reset_index(),\n",
    "    x='cluster_label',\n",
    "    y='Term',\n",
    "    size='num_overlap_genes',\n",
    "    sizes=(20, 250),\n",
    "    hue='p-value',\n",
    "    palette=color_discrete_map\n",
    ")\n",
    "\n",
    "ax.tick_params(labelsize=10)\n",
    "ax.legend(fontsize=15)\n",
    "ax.set_xlabel(\"Cluster label\",fontsize=15)\n",
    "ax.set_ylabel(\"\", fontsize=10)\n",
    "ax.grid(False)\n",
    "ax.set_title(db_name)\n",
    "\n",
    "sns.move_legend(ax, \"upper left\", bbox_to_anchor=(1, 1))"
   ]
  },
  {
   "cell_type": "markdown",
   "id": "4da8b3e3-ee81-4f0f-bea3-af658e01098e",
   "metadata": {
    "id": "cjQWslbBEqJ1"
   },
   "source": [
    "## MGI_Mammalian_Phenotype_Level_4_2021"
   ]
  },
  {
   "cell_type": "code",
   "execution_count": null,
   "id": "03a679e7-f8d6-4180-b572-875b39f05d51",
   "metadata": {
    "id": "t5YPHi0DEqJ1"
   },
   "outputs": [],
   "source": [
    "db_name = 'MGI_Mammalian_Phenotype_Level_4_2021'\n",
    "GeneCluster.enrich_geneclusters(gene_clust, db_name)"
   ]
  },
  {
   "cell_type": "code",
   "execution_count": null,
   "id": "3d908bbf-9789-4b10-a8ab-41f55cc1ed19",
   "metadata": {
    "colab": {
     "base_uri": "https://localhost:8080/",
     "height": 386
    },
    "id": "w8xHZXIaEqJ2",
    "outputId": "c0615171-1f6f-4902-fa71-592de49981b8"
   },
   "outputs": [],
   "source": [
    "enrich_res = pd.concat([gc.enrichment_res[db_name] for gc in gene_clust])\n",
    "enrich_res = enrich_res.set_index(['Term'])\n",
    "enrich_res.head()"
   ]
  },
  {
   "cell_type": "code",
   "execution_count": null,
   "id": "d2baaede-4a61-4cc0-ac68-fc9f22cee8cd",
   "metadata": {
    "colab": {
     "base_uri": "https://localhost:8080/"
    },
    "id": "U8kaT7FWEqJ2",
    "outputId": "282605e6-d295-4883-ee7e-56803ba86dd2"
   },
   "outputs": [],
   "source": [
    "terms = enrich_res[(enrich_res['Adjusted P-value'] < 0.05) & (enrich_res.Rank < 10)].index.unique()\n",
    "terms.size"
   ]
  },
  {
   "cell_type": "code",
   "execution_count": null,
   "id": "49e27231-0dab-4b95-8a48-3771ae071639",
   "metadata": {},
   "outputs": [],
   "source": [
    "from pandas.api.types import CategoricalDtype\n",
    "enrich_res_plot = enrich_res.loc[terms].copy()\n",
    "cat_type = CategoricalDtype(categories=['No significance', 'p < 0.05', 'p < 0.01', 'p < 0.001'], ordered=True)\n",
    "enrich_res_plot['p-value'] = enrich_res_plot['Adjusted P-value'].apply(p_val_group).astype(cat_type)\n",
    "enrich_results.append(enrich_res_plot)"
   ]
  },
  {
   "cell_type": "code",
   "execution_count": null,
   "id": "0c68f96c-1950-4e0e-be00-aaf32d76b7d9",
   "metadata": {},
   "outputs": [],
   "source": [
    "fig = plt.figure(figsize=(7, 10), dpi=120)\n",
    "\n",
    "ax = sns.scatterplot(\n",
    "    data=enrich_res_plot.reset_index(),\n",
    "    x='cluster_label',\n",
    "    y='Term',\n",
    "    size='num_overlap_genes',\n",
    "    sizes=(20, 250),\n",
    "    hue='p-value',\n",
    "    palette=color_discrete_map\n",
    ")\n",
    "\n",
    "ax.tick_params(labelsize=10)\n",
    "ax.legend(fontsize=15)\n",
    "ax.set_xlabel(\"Cluster label\",fontsize=15)\n",
    "ax.set_ylabel(\"\", fontsize=10)\n",
    "ax.grid(False)\n",
    "ax.set_title(db_name)\n",
    "\n",
    "sns.move_legend(ax, \"upper left\", bbox_to_anchor=(1, 1))"
   ]
  },
  {
   "cell_type": "markdown",
   "id": "045dc24a-6a1a-4438-b6e1-ddcdebed9c17",
   "metadata": {
    "id": "5RpKCQzlCRhA"
   },
   "source": [
    "## KEGG_2021_Human"
   ]
  },
  {
   "cell_type": "code",
   "execution_count": null,
   "id": "12f0535d-f3d1-453e-a68c-7665da86f1f6",
   "metadata": {
    "id": "Ngct_y67CRhA"
   },
   "outputs": [],
   "source": [
    "db_name = 'KEGG_2021_Human'\n",
    "GeneCluster.enrich_geneclusters(gene_clust, db_name)"
   ]
  },
  {
   "cell_type": "code",
   "execution_count": null,
   "id": "5c2480bf-690c-4656-aad8-98f6ef211ac9",
   "metadata": {
    "colab": {
     "base_uri": "https://localhost:8080/",
     "height": 282
    },
    "id": "ziGko-9KCRhA",
    "outputId": "19b45b19-96ac-46c2-974c-5f5cb6ba4309"
   },
   "outputs": [],
   "source": [
    "enrich_res = pd.concat([gc.enrichment_res[db_name] for gc in gene_clust])\n",
    "enrich_res = enrich_res.set_index(['Term'])\n",
    "enrich_res.head()"
   ]
  },
  {
   "cell_type": "code",
   "execution_count": null,
   "id": "bddd892b-14a7-4c7e-9eb5-76039c2c4ac7",
   "metadata": {
    "colab": {
     "base_uri": "https://localhost:8080/"
    },
    "id": "T_rN9HMWCRhB",
    "outputId": "9081066c-e769-418b-a8cd-a85368b79d72"
   },
   "outputs": [],
   "source": [
    "terms = enrich_res[(enrich_res['Adjusted P-value'] < 0.05)].index.unique()\n",
    "terms.size"
   ]
  },
  {
   "cell_type": "code",
   "execution_count": null,
   "id": "12cc33a4-d0ff-42f2-829f-c310dccff767",
   "metadata": {},
   "outputs": [],
   "source": [
    "from pandas.api.types import CategoricalDtype\n",
    "enrich_res_plot = enrich_res.loc[terms].copy()\n",
    "cat_type = CategoricalDtype(categories=['No significance', 'p < 0.05', 'p < 0.01', 'p < 0.001'], ordered=True)\n",
    "enrich_res_plot['p-value'] = enrich_res_plot['Adjusted P-value'].apply(p_val_group).astype(cat_type)\n",
    "enrich_results.append(enrich_res_plot)"
   ]
  },
  {
   "cell_type": "code",
   "execution_count": null,
   "id": "bbd49e77-e16e-4d0c-886f-531570cad263",
   "metadata": {},
   "outputs": [],
   "source": [
    "mpl.rcdefaults()\n",
    "fig = plt.figure(figsize=(7, 10), dpi=120)\n",
    "\n",
    "ax = sns.scatterplot(\n",
    "    data=enrich_res_plot.reset_index(),\n",
    "    x='cluster_label',\n",
    "    y='Term',\n",
    "    size='num_overlap_genes',\n",
    "    sizes=(20, 250),\n",
    "    hue='p-value',\n",
    "    palette=color_discrete_map\n",
    ")\n",
    "\n",
    "ax.tick_params(labelsize=10)\n",
    "ax.legend(fontsize=15)\n",
    "ax.set_xlabel(\"Cluster label\",fontsize=15)\n",
    "ax.set_ylabel(\"\", fontsize=10)\n",
    "ax.grid(False)\n",
    "ax.set_title(db_name)\n",
    "\n",
    "sns.move_legend(ax, \"upper left\", bbox_to_anchor=(1, 1))"
   ]
  },
  {
   "cell_type": "markdown",
   "id": "4b13dbc1",
   "metadata": {},
   "source": [
    "## UK_Biobank_GWAS_v1"
   ]
  },
  {
   "cell_type": "code",
   "execution_count": null,
   "id": "edcae0c3",
   "metadata": {},
   "outputs": [],
   "source": [
    "db_name = 'UK_Biobank_GWAS_v1'\n",
    "GeneCluster.enrich_geneclusters(gene_clust, db_name)"
   ]
  },
  {
   "cell_type": "code",
   "execution_count": null,
   "id": "bc49579b",
   "metadata": {},
   "outputs": [],
   "source": [
    "enrich_res = pd.concat([gc.enrichment_res[db_name] for gc in gene_clust])\n",
    "enrich_res = enrich_res.set_index(['Term'])\n",
    "enrich_res.head()"
   ]
  },
  {
   "cell_type": "code",
   "execution_count": null,
   "id": "4022ad31",
   "metadata": {},
   "outputs": [],
   "source": [
    "terms = enrich_res[(enrich_res['Adjusted P-value'] < 0.05) & (enrich_res.Rank < 10)].index.unique()\n",
    "terms.size"
   ]
  },
  {
   "cell_type": "code",
   "execution_count": null,
   "id": "733d3813",
   "metadata": {},
   "outputs": [],
   "source": [
    "from pandas.api.types import CategoricalDtype\n",
    "enrich_res_plot = enrich_res.loc[terms].copy()\n",
    "cat_type = CategoricalDtype(categories=['No significance', 'p < 0.05', 'p < 0.01', 'p < 0.001'], ordered=True)\n",
    "enrich_res_plot['p-value'] = enrich_res_plot['Adjusted P-value'].apply(p_val_group).astype(cat_type)\n",
    "enrich_results.append(enrich_res_plot)"
   ]
  },
  {
   "cell_type": "code",
   "execution_count": null,
   "id": "28b968f7",
   "metadata": {},
   "outputs": [],
   "source": [
    "mpl.rcdefaults()\n",
    "fig = plt.figure(figsize=(7, 10), dpi=120)\n",
    "\n",
    "ax = sns.scatterplot(\n",
    "    data=enrich_res_plot.reset_index(),\n",
    "    x='cluster_label',\n",
    "    y='Term',\n",
    "    size='num_overlap_genes',\n",
    "    sizes=(20, 250),\n",
    "    hue='p-value',\n",
    "    palette=color_discrete_map\n",
    ")\n",
    "\n",
    "ax.tick_params(labelsize=10)\n",
    "ax.legend(fontsize=15)\n",
    "ax.set_xlabel(\"Cluster label\",fontsize=15)\n",
    "ax.set_ylabel(\"\", fontsize=10)\n",
    "ax.grid(False)\n",
    "ax.set_title(db_name)\n",
    "\n",
    "sns.move_legend(ax, \"upper left\", bbox_to_anchor=(1, 1))"
   ]
  },
  {
   "cell_type": "markdown",
   "id": "a34ad5d9",
   "metadata": {},
   "source": [
    "# Profile visualization"
   ]
  },
  {
   "cell_type": "code",
   "execution_count": null,
   "id": "19d41a3e",
   "metadata": {},
   "outputs": [],
   "source": [
    "specie = 'human'\n",
    "\n",
    "# load data\n",
    "adata_sp = sc.read_h5ad(f'../../data/raw_adata/{specie}.h5ad')\n",
    "adata_sp.obs_names_make_unique()\n",
    "\n",
    "# normalize data\n",
    "sc.pp.normalize_total(adata_sp, target_sum=1e4)\n",
    "sc.pp.log1p(adata_sp)\n",
    "\n",
    "# subsample human-specific genes\n",
    "adata_sp = adata_sp[:, labels.index]\n",
    "\n",
    "# scale data\n",
    "scaled_adata_list = list()\n",
    "for sample in adata_sp.obs.sample_id.unique():\n",
    "    scaled_adata_list.append(sc.pp.scale(adata_sp[adata_sp.obs['sample_id'] == sample], copy=True))\n",
    "\n",
    "scaled_adata = an.concat(scaled_adata_list , merge='same',uns_merge=\"unique\")\n",
    "adata_pb_norm\n",
    "\n",
    "# calculate average levels\n",
    "for cluster in labels.unique():\n",
    "    genes = labels[labels == cluster].index\n",
    "    scaled_adata.obs[f'Cluster{cluster}'] = scaled_adata[:, genes].X.mean(axis=1)"
   ]
  },
  {
   "cell_type": "code",
   "execution_count": null,
   "id": "5748ef76",
   "metadata": {},
   "outputs": [],
   "source": [
    "fig, axes = plt.subplots(5, 7, figsize=(25, 15), gridspec_kw={'wspace': 0.5}, dpi=120)\n",
    "names = scaled_adata.obs.columns[scaled_adata.obs.columns.str.contains('Cluster')].to_list()\n",
    "cmap = mpl.cm.coolwarm\n",
    "norm_dict = {\n",
    "    'Cluster0': {'vmin': -0.3, 'vmax': 0.4},\n",
    "    'Cluster1': {'vmin': -0.4, 'vmax': 0.35},\n",
    "    'Cluster2': {'vmin': -0.6, 'vmax': 0.3},\n",
    "    'Cluster3': {'vmin': -0.6, 'vmax': 0.5},\n",
    "    'Cluster4': {'vmin': -0.4, 'vmax': 0.75},\n",
    "    'Cluster5': {'vmin': -0.5, 'vmax': 0.5}\n",
    "    }\n",
    "\n",
    "sq.pl.spatial_scatter(scaled_adata,\n",
    "                        color='label',\n",
    "                        library_key='sample_id', ncols=5, img=True, size=1.3, cmap=cmap, norm=norm, fig=fig, ax=axes[:, -1])\n",
    "\n",
    "for k, cluster in enumerate(names):\n",
    "    norm = mpl.colors.TwoSlopeNorm(vcenter=0)\n",
    "    sq.pl.spatial_scatter(scaled_adata,\n",
    "                        color=cluster,\n",
    "                        library_key='sample_id', ncols=5, img=True, size=1.3, cmap=cmap, norm=norm, fig=fig, ax=axes[:, k])"
   ]
  },
  {
   "cell_type": "code",
   "execution_count": null,
   "id": "abb583f8",
   "metadata": {},
   "outputs": [],
   "source": [
    "apply_filter(scaled_adata, ['Cluster0', 'Cluster1', 'Cluster2', 'Cluster3', 'Cluster4', 'Cluster5'], 'sample_id', method='wiener')"
   ]
  },
  {
   "cell_type": "code",
   "execution_count": null,
   "id": "9a86c49f",
   "metadata": {},
   "outputs": [],
   "source": [
    "fig, axes = plt.subplots(5, 7, figsize=(25, 15), gridspec_kw={'wspace': 0.5}, dpi=120)\n",
    "names = scaled_adata.obs.columns[scaled_adata.obs.columns.str.contains('Cluster')].to_list()\n",
    "cmap = mpl.cm.coolwarm\n",
    "norm_dict = {\n",
    "    'Cluster0': {'vmin': -0.3, 'vmax': 0.4},\n",
    "    'Cluster1': {'vmin': -0.4, 'vmax': 0.25},\n",
    "    'Cluster2': {'vmin': -0.6, 'vmax': 0.2},\n",
    "    'Cluster3': {'vmin': -0.6, 'vmax': 0.3},\n",
    "    'Cluster4': {'vmin': -0.4, 'vmax': 0.9},\n",
    "    'Cluster5': {'vmin': -0.5, 'vmax': 0.4}\n",
    "    }\n",
    "\n",
    "sq.pl.spatial_scatter(scaled_adata,\n",
    "                        color='label',\n",
    "                        library_key='sample_id', ncols=5, img=True, size=1.3, cmap=cmap, norm=norm, fig=fig, ax=axes[:, -1])\n",
    "\n",
    "for k, cluster in enumerate(norm_dict.keys()):\n",
    "    norm = mpl.colors.TwoSlopeNorm(vcenter=0)\n",
    "    sq.pl.spatial_scatter(scaled_adata,\n",
    "                        color=cluster + '_filtered',\n",
    "                        library_key='sample_id', ncols=5, img=True, size=1.3, cmap=cmap, norm=norm, fig=fig, ax=axes[:, k])"
   ]
  },
  {
   "cell_type": "code",
   "execution_count": null,
   "id": "da8bf117",
   "metadata": {},
   "outputs": [],
   "source": [
    "cmap = mpl.cm.coolwarm\n",
    "norm = mpl.colors.TwoSlopeNorm(vcenter=0)\n",
    "\n",
    "sq.pl.spatial_scatter(scaled_adata,\n",
    "                        color=['Cluster0_filtered', 'Cluster1_filtered', 'Cluster2_filtered', 'Cluster3_filtered', 'Cluster4_filtered', 'Cluster5_filtered', 'label'],\n",
    "                        library_key='sample_id', ncols=7, img=True, size=1.3, cmap='coolwarm')"
   ]
  },
  {
   "cell_type": "code",
   "execution_count": null,
   "id": "2afa739e",
   "metadata": {},
   "outputs": [],
   "source": [
    "apply_filter(scaled_adata, ['Cluster0', 'Cluster1', 'Cluster2', 'Cluster3', 'Cluster4', 'Cluster5'], 'sample_id', method='median', size=5)"
   ]
  },
  {
   "cell_type": "code",
   "execution_count": null,
   "id": "d5551a6c",
   "metadata": {},
   "outputs": [],
   "source": [
    "cmap = mpl.cm.coolwarm\n",
    "norm = mpl.colors.TwoSlopeNorm(vcenter=0)\n",
    "\n",
    "sq.pl.spatial_scatter(scaled_adata,\n",
    "                        color=['Cluster0_filtered', 'Cluster1_filtered', 'Cluster2_filtered', 'Cluster3_filtered', 'Cluster4_filtered', 'Cluster5_filtered', 'label'],\n",
    "                        library_key='sample_id', ncols=7, img=True, size=1.3, cmap='coolwarm', norm=norm)"
   ]
  },
  {
   "cell_type": "code",
   "execution_count": null,
   "id": "e9066d36",
   "metadata": {},
   "outputs": [],
   "source": [
    "apply_filter(scaled_adata, ['Cluster0', 'Cluster1', 'Cluster2', 'Cluster3', 'Cluster4', 'Cluster5'], 'sample_id', method='mean', size=5)"
   ]
  },
  {
   "cell_type": "code",
   "execution_count": null,
   "id": "fa41188c",
   "metadata": {},
   "outputs": [],
   "source": [
    "cmap = mpl.cm.coolwarm\n",
    "norm = mpl.colors.TwoSlopeNorm(vcenter=0)\n",
    "\n",
    "sq.pl.spatial_scatter(scaled_adata,\n",
    "                        color=['Cluster0_filtered', 'Cluster1_filtered', 'Cluster2_filtered', 'Cluster3_filtered', 'Cluster4_filtered', 'Cluster5_filtered', 'label'],\n",
    "                        library_key='sample_id', ncols=7, img=True, size=1.3, cmap='coolwarm', norm=norm)"
   ]
  },
  {
   "cell_type": "code",
   "execution_count": null,
   "id": "69138942",
   "metadata": {},
   "outputs": [],
   "source": [
    "specie = 'macaque'\n",
    "\n",
    "# load data\n",
    "adata_sp = sc.read_h5ad(f'../../data/raw_adata/{specie}.h5ad')\n",
    "adata_sp.obs_names_make_unique()\n",
    "\n",
    "# normalize data\n",
    "sc.pp.normalize_total(adata_sp, target_sum=1e4)\n",
    "sc.pp.log1p(adata_sp)\n",
    "\n",
    "# subsample human-specific genes\n",
    "adata_sp = adata_sp[:, labels.index]\n",
    "\n",
    "# scale data\n",
    "scaled_adata_list = list()\n",
    "for sample in adata_sp.obs.sample_id.unique():\n",
    "    scaled_adata_list.append(sc.pp.scale(adata_sp[adata_sp.obs['sample_id'] == sample], copy=True))\n",
    "\n",
    "scaled_adata = an.concat(scaled_adata_list , merge='same',uns_merge=\"unique\")\n",
    "adata_pb_norm\n",
    "\n",
    "# calculate average levels\n",
    "for cluster in labels.unique():\n",
    "    genes = labels[labels == cluster].index\n",
    "    scaled_adata.obs[f'Cluster{cluster}'] = scaled_adata[:, genes].X.mean(axis=1)"
   ]
  },
  {
   "cell_type": "code",
   "execution_count": null,
   "id": "b27675ba",
   "metadata": {},
   "outputs": [],
   "source": [
    "fig, axes = plt.subplots(4, 7, figsize=(25, 12), gridspec_kw={'wspace': 0.4, 'hspace': 0.2}, dpi=100)\n",
    "names = scaled_adata.obs.columns[scaled_adata.obs.columns.str.contains('Cluster')].to_list()\n",
    "cmap = mpl.cm.coolwarm\n",
    "norm_dict = {\n",
    "    'Cluster0': {'vmin': -0.4, 'vmax': 0.4},\n",
    "    'Cluster1': {'vmin': -0.4, 'vmax': 0.3},\n",
    "    'Cluster2': {'vmin': -0.5, 'vmax': 0.8},\n",
    "    'Cluster3': {'vmin': -0.6, 'vmax': 0.5},\n",
    "    'Cluster4': {'vmin': -0.5, 'vmax': 0.7},\n",
    "    'Cluster5': {'vmin': -0.5, 'vmax': 0.5}\n",
    "    }\n",
    "\n",
    "sq.pl.spatial_scatter(scaled_adata,\n",
    "                        color='label',\n",
    "                        library_key='sample_id', ncols=5, img=True, size=1.3, cmap=cmap, norm=norm, fig=fig, ax=axes[:, -1])\n",
    "\n",
    "for k, cluster in enumerate(names):\n",
    "    norm = mpl.colors.TwoSlopeNorm(vcenter=0)\n",
    "    sq.pl.spatial_scatter(scaled_adata,\n",
    "                        color=cluster,\n",
    "                        library_key='sample_id', ncols=4, img=True, size=1.3, cmap=cmap, norm=norm, fig=fig, ax=axes[:, k])"
   ]
  },
  {
   "cell_type": "code",
   "execution_count": null,
   "id": "2549694e",
   "metadata": {},
   "outputs": [],
   "source": [
    "apply_filter(scaled_adata, ['Cluster0', 'Cluster1', 'Cluster2', 'Cluster3', 'Cluster4', 'Cluster5'], 'sample_id', method='wiener', size=5)"
   ]
  },
  {
   "cell_type": "code",
   "execution_count": null,
   "id": "3265579e",
   "metadata": {},
   "outputs": [],
   "source": [
    "fig, axes = plt.subplots(4, 7, figsize=(25, 15), gridspec_kw={'wspace': 0.5}, dpi=120)\n",
    "names = scaled_adata.obs.columns[scaled_adata.obs.columns.str.contains('Cluster')].to_list()\n",
    "cmap = mpl.cm.coolwarm\n",
    "norm_dict = {\n",
    "    'Cluster0': {'vmin': -0.4, 'vmax': 0.3},\n",
    "    'Cluster1': {'vmin': -0.4, 'vmax': 0.3},\n",
    "    'Cluster2': {'vmin': -0.5, 'vmax': 0.7},\n",
    "    'Cluster3': {'vmin': -0.6, 'vmax': 0.4},\n",
    "    'Cluster4': {'vmin': -0.4, 'vmax': 0.6},\n",
    "    'Cluster5': {'vmin': -0.5, 'vmax': 0.4}\n",
    "    }\n",
    "\n",
    "sq.pl.spatial_scatter(scaled_adata,\n",
    "                        color='label',\n",
    "                        library_key='sample_id', ncols=4, img=True, size=1.3, cmap=cmap, norm=norm, fig=fig, ax=axes[:, -1])\n",
    "\n",
    "for k, cluster in enumerate(norm_dict.keys()):\n",
    "    norm = mpl.colors.TwoSlopeNorm(vcenter=0)\n",
    "    sq.pl.spatial_scatter(scaled_adata,\n",
    "                        color=cluster + '_filtered',\n",
    "                        library_key='sample_id', ncols=4, img=True, size=1.3, cmap=cmap, norm=norm, fig=fig, ax=axes[:, k])"
   ]
  },
  {
   "cell_type": "code",
   "execution_count": null,
   "id": "e13a71fe",
   "metadata": {},
   "outputs": [],
   "source": [
    "cmap = mpl.cm.coolwarm\n",
    "norm = mpl.colors.TwoSlopeNorm(vcenter=0)\n",
    "\n",
    "sq.pl.spatial_scatter(scaled_adata,\n",
    "                        color=['Cluster0_filtered', 'Cluster1_filtered', 'Cluster2_filtered', 'Cluster3_filtered', 'Cluster4_filtered', 'Cluster5_filtered', 'label'],\n",
    "                        library_key='sample_id', ncols=7, img=True, size=1.3, cmap='coolwarm', norm=norm)"
   ]
  },
  {
   "cell_type": "code",
   "execution_count": null,
   "id": "64edacd4",
   "metadata": {},
   "outputs": [],
   "source": [
    "apply_filter(scaled_adata, ['Cluster0', 'Cluster1', 'Cluster2', 'Cluster3', 'Cluster4', 'Cluster5'], 'sample_id', method='median', size=5)"
   ]
  },
  {
   "cell_type": "code",
   "execution_count": null,
   "id": "64bd02cc",
   "metadata": {},
   "outputs": [],
   "source": [
    "cmap = mpl.cm.coolwarm\n",
    "norm = mpl.colors.TwoSlopeNorm(vcenter=0)\n",
    "\n",
    "sq.pl.spatial_scatter(scaled_adata,\n",
    "                        color=['Cluster0_filtered', 'Cluster1_filtered', 'Cluster2_filtered', 'Cluster3_filtered', 'Cluster4_filtered', 'Cluster5_filtered', 'label'],\n",
    "                        library_key='sample_id', ncols=7, img=True, size=1.3, cmap='coolwarm', norm=norm)"
   ]
  },
  {
   "cell_type": "code",
   "execution_count": null,
   "id": "89ffead1",
   "metadata": {},
   "outputs": [],
   "source": [
    "apply_filter(scaled_adata, ['Cluster0', 'Cluster1', 'Cluster2', 'Cluster3', 'Cluster4', 'Cluster5'], 'sample_id', method='mean', size=5)"
   ]
  },
  {
   "cell_type": "code",
   "execution_count": null,
   "id": "f6fbf7dc",
   "metadata": {},
   "outputs": [],
   "source": [
    "cmap = mpl.cm.coolwarm\n",
    "norm = mpl.colors.TwoSlopeNorm(vcenter=0)\n",
    "\n",
    "sq.pl.spatial_scatter(scaled_adata,\n",
    "                        color=['Cluster0_filtered', 'Cluster1_filtered', 'Cluster2_filtered', 'Cluster3_filtered', 'Cluster4_filtered', 'Cluster5_filtered', 'label'],\n",
    "                        library_key='sample_id', ncols=7, img=True, size=1.3, cmap='coolwarm', norm=norm)"
   ]
  }
 ],
 "metadata": {
  "kernelspec": {
   "display_name": "venv",
   "language": "python",
   "name": "python3"
  },
  "language_info": {
   "codemirror_mode": {
    "name": "ipython",
    "version": 3
   },
   "file_extension": ".py",
   "mimetype": "text/x-python",
   "name": "python",
   "nbconvert_exporter": "python",
   "pygments_lexer": "ipython3",
   "version": "3.11.9"
  }
 },
 "nbformat": 4,
 "nbformat_minor": 5
}
