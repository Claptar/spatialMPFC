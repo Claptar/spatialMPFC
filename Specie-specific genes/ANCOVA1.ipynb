{
 "cells": [
  {
   "cell_type": "code",
   "execution_count": 1,
   "id": "819eb0aa-60f8-449c-aa7b-0b7a1d45954b",
   "metadata": {},
   "outputs": [],
   "source": [
    "import warnings\n",
    "import scanpy as sc\n",
    "import anndata as an\n",
    "import pandas as pd\n",
    "import numpy as np\n",
    "import matplotlib as mpl\n",
    "import matplotlib.pyplot as plt\n",
    "import seaborn as sns\n",
    "from urllib import request\n",
    "import json\n",
    "import os\n",
    "from tqdm.notebook import tqdm\n",
    "\n",
    "import statsmodels.api as sm\n",
    "from statsmodels.formula.api import ols\n",
    "from tqdm.notebook import tqdm\n",
    "from statsmodels.stats.multitest import multipletests\n",
    "\n",
    "sc.settings.set_figure_params(dpi=80)\n",
    "#sc.set_figure_params(facecolor=\"white\", figsize=(8, 8))\n",
    "warnings.simplefilter(action='ignore', category=FutureWarning)\n",
    "sc.settings.verbosity = 3"
   ]
  },
  {
   "cell_type": "markdown",
   "id": "006d2874-afab-4c04-8552-34989cccf57d",
   "metadata": {
    "id": "AAvYvli71MwA"
   },
   "source": [
    "# Global variables"
   ]
  },
  {
   "cell_type": "code",
   "execution_count": 2,
   "id": "5d15ec78-d10c-443a-abeb-754a91a26b4e",
   "metadata": {
    "id": "c4f4126f"
   },
   "outputs": [],
   "source": [
    "de_dir_path = '../data/DE/ANOVA_mean/'"
   ]
  },
  {
   "cell_type": "code",
   "execution_count": 3,
   "id": "63b4a96e-8e9e-4e36-8c56-52d11a6fdd6f",
   "metadata": {},
   "outputs": [],
   "source": [
    "layers = ['L1', 'L2', 'L3', 'L4', 'L5', \"L6\", 'WM']"
   ]
  },
  {
   "cell_type": "code",
   "execution_count": 4,
   "id": "850dbbea-68f9-48b7-a3a2-944607ddea2d",
   "metadata": {
    "colab": {
     "base_uri": "https://localhost:8080/"
    },
    "id": "4223c5ff",
    "outputId": "ad670861-e545-419f-b759-280820848391"
   },
   "outputs": [
    {
     "data": {
      "text/plain": [
       "['anova_mamm_mean.csv',\n",
       " 'cluster_spectr_anova_mean_6.csv',\n",
       " 'cluster_spectr_anova_mean_7.csv',\n",
       " 'cluster_spectr_anova_mean_8.csv',\n",
       " 'cluster_spectr_anova_mean_9.csv',\n",
       " 'ttest_mamm_mean.csv']"
      ]
     },
     "execution_count": 4,
     "metadata": {},
     "output_type": "execute_result"
    }
   ],
   "source": [
    "os.listdir(de_dir_path)"
   ]
  },
  {
   "cell_type": "markdown",
   "id": "27666551-ccd2-45a9-9d03-9d9cd9f23cb1",
   "metadata": {},
   "source": [
    "## Load files"
   ]
  },
  {
   "cell_type": "markdown",
   "id": "5ad25d80-6748-4443-acb4-3581a8381cdc",
   "metadata": {
    "id": "22169059"
   },
   "source": [
    "### DE results"
   ]
  },
  {
   "cell_type": "code",
   "execution_count": 5,
   "id": "fffc3368-1063-42db-b3d0-32709a7b5d41",
   "metadata": {
    "colab": {
     "base_uri": "https://localhost:8080/",
     "height": 206
    },
    "id": "ehsiAIF8D61S",
    "outputId": "e0e5605e-4158-412b-eae7-332d6a6a1f97"
   },
   "outputs": [
    {
     "data": {
      "text/html": [
       "<div>\n",
       "<style scoped>\n",
       "    .dataframe tbody tr th:only-of-type {\n",
       "        vertical-align: middle;\n",
       "    }\n",
       "\n",
       "    .dataframe tbody tr th {\n",
       "        vertical-align: top;\n",
       "    }\n",
       "\n",
       "    .dataframe thead th {\n",
       "        text-align: right;\n",
       "    }\n",
       "</style>\n",
       "<table border=\"1\" class=\"dataframe\">\n",
       "  <thead>\n",
       "    <tr style=\"text-align: right;\">\n",
       "      <th></th>\n",
       "      <th>sum_sq</th>\n",
       "      <th>df</th>\n",
       "      <th>F</th>\n",
       "      <th>PR(&gt;F)</th>\n",
       "      <th>p_val_adj</th>\n",
       "    </tr>\n",
       "  </thead>\n",
       "  <tbody>\n",
       "    <tr>\n",
       "      <th>A1BG</th>\n",
       "      <td>0.122578</td>\n",
       "      <td>12.0</td>\n",
       "      <td>2.796490</td>\n",
       "      <td>0.003701</td>\n",
       "      <td>0.010364</td>\n",
       "    </tr>\n",
       "    <tr>\n",
       "      <th>AAAS</th>\n",
       "      <td>0.017527</td>\n",
       "      <td>12.0</td>\n",
       "      <td>0.944161</td>\n",
       "      <td>0.509517</td>\n",
       "      <td>0.596369</td>\n",
       "    </tr>\n",
       "    <tr>\n",
       "      <th>AACS</th>\n",
       "      <td>0.136394</td>\n",
       "      <td>12.0</td>\n",
       "      <td>2.729393</td>\n",
       "      <td>0.004508</td>\n",
       "      <td>0.012212</td>\n",
       "    </tr>\n",
       "    <tr>\n",
       "      <th>AADAT</th>\n",
       "      <td>0.057031</td>\n",
       "      <td>12.0</td>\n",
       "      <td>5.478881</td>\n",
       "      <td>0.000002</td>\n",
       "      <td>0.000016</td>\n",
       "    </tr>\n",
       "    <tr>\n",
       "      <th>AAGAB</th>\n",
       "      <td>0.043359</td>\n",
       "      <td>12.0</td>\n",
       "      <td>2.127609</td>\n",
       "      <td>0.026045</td>\n",
       "      <td>0.053640</td>\n",
       "    </tr>\n",
       "  </tbody>\n",
       "</table>\n",
       "</div>"
      ],
      "text/plain": [
       "         sum_sq    df         F    PR(>F)  p_val_adj\n",
       "A1BG   0.122578  12.0  2.796490  0.003701   0.010364\n",
       "AAAS   0.017527  12.0  0.944161  0.509517   0.596369\n",
       "AACS   0.136394  12.0  2.729393  0.004508   0.012212\n",
       "AADAT  0.057031  12.0  5.478881  0.000002   0.000016\n",
       "AAGAB  0.043359  12.0  2.127609  0.026045   0.053640"
      ]
     },
     "execution_count": 5,
     "metadata": {},
     "output_type": "execute_result"
    }
   ],
   "source": [
    "anova_res = pd.read_csv(de_dir_path + 'anova_mamm_mean.csv', index_col=0)\n",
    "anova_genes = anova_res[anova_res.p_val_adj < 0.05].index\n",
    "anova_res.head()"
   ]
  },
  {
   "cell_type": "code",
   "execution_count": 6,
   "id": "d3045dd9-40c5-4dc6-918b-d07d14a81ab6",
   "metadata": {},
   "outputs": [],
   "source": [
    "n_clusters = 7\n",
    "anova_labels = pd.read_csv(de_dir_path + f'cluster_spectr_anova_mean_{n_clusters}.csv', index_col=0)['0'].sort_values()\n",
    "anova_labels = anova_labels\n",
    "anova_labels.name = 'ANOVA_labels'"
   ]
  },
  {
   "cell_type": "markdown",
   "id": "a703d115-a67c-4870-aa08-e3b3d3e886d1",
   "metadata": {
    "id": "yQ7JjvscKLd4"
   },
   "source": [
    "## Load normalized pseudobulks"
   ]
  },
  {
   "cell_type": "code",
   "execution_count": 7,
   "id": "2fbd5d4d-3056-48de-85ba-9d47bf5a9f33",
   "metadata": {
    "id": "685kKTuvKfog"
   },
   "outputs": [],
   "source": [
    "pb_dir_path = '../data/pseudobulks/'"
   ]
  },
  {
   "cell_type": "code",
   "execution_count": 8,
   "id": "3604a101-7265-4af6-b5c6-69f478d5a6d1",
   "metadata": {
    "colab": {
     "base_uri": "https://localhost:8080/"
    },
    "id": "PlB6qD1yKfoh",
    "outputId": "fd8823fa-4561-4142-c946-aa0d778b4728"
   },
   "outputs": [
    {
     "data": {
      "text/plain": [
       "['4spe_pb_mean_filt.h5ad',\n",
       " '4spe_pb_mean_filt_nor_mean.h5ad',\n",
       " 'pb_age.h5ad',\n",
       " 'pb_mammals.h5ad',\n",
       " 'pb_mammals_filtered.h5ad',\n",
       " 'pb_mammals_samplenorm_mean.h5ad',\n",
       " 'pb_mammals_samplenorm_zscore.h5ad']"
      ]
     },
     "execution_count": 8,
     "metadata": {},
     "output_type": "execute_result"
    }
   ],
   "source": [
    "os.listdir(pb_dir_path)"
   ]
  },
  {
   "cell_type": "code",
   "execution_count": 9,
   "id": "b029cd09-4aa5-47dd-8c8e-f679b1c59bd4",
   "metadata": {},
   "outputs": [
    {
     "data": {
      "text/plain": [
       "AnnData object with n_obs × n_vars = 89 × 9208\n",
       "    obs: 'layer', 'sample_id', 'psbulk_n_cells', 'psbulk_counts', 'condition', 'lib_size', 'log_lib_size'\n",
       "    var: 'feature_types', 'mt', 'hb', 'ribo'\n",
       "    uns: 'log1p', 'pca'\n",
       "    obsm: 'X_pca'\n",
       "    varm: 'PCs'\n",
       "    layers: 'psbulk_props'"
      ]
     },
     "execution_count": 9,
     "metadata": {},
     "output_type": "execute_result"
    }
   ],
   "source": [
    "adata_pb_norm = sc.read_h5ad(pb_dir_path + 'pb_mammals_samplenorm_mean.h5ad')\n",
    "#adata_pb_norm_mean.var = anova_res\n",
    "adata_pb_norm"
   ]
  },
  {
   "cell_type": "code",
   "execution_count": 10,
   "id": "c07e81c2-5cf8-4bb3-bd19-2aee4bd10072",
   "metadata": {},
   "outputs": [
    {
     "data": {
      "text/plain": [
       "9208"
      ]
     },
     "execution_count": 10,
     "metadata": {},
     "output_type": "execute_result"
    }
   ],
   "source": [
    "background_genes = adata_pb_norm.var_names.tolist()\n",
    "len(background_genes)"
   ]
  },
  {
   "cell_type": "markdown",
   "id": "f28865ff-bf45-418f-952a-ca2dc81b0a46",
   "metadata": {},
   "source": [
    "### Create dataframe"
   ]
  },
  {
   "cell_type": "code",
   "execution_count": 161,
   "id": "f82ac5e3-4502-4de3-a5ba-e90c17311f42",
   "metadata": {},
   "outputs": [],
   "source": [
    "df = pd.DataFrame(adata_pb_norm.X, index=adata_pb_norm.obs_names, columns=adata_pb_norm.var_names)"
   ]
  },
  {
   "cell_type": "code",
   "execution_count": 202,
   "id": "a351c47a-c506-48f2-b7a0-d351957188b8",
   "metadata": {},
   "outputs": [],
   "source": [
    "sample_order = dict()\n",
    "for cond in ['human', 'chimp', 'macaque']:\n",
    "    samples = df.loc[df.index.str.contains(cond)].index\n",
    "    order = sorted(samples.tolist(), key=lambda x: x[-2:])\n",
    "    order_laminar = list(filter(lambda x: 'L' in x, order))\n",
    "    order_wm = list(filter(lambda x: 'WM' in x, order))\n",
    "    sample_order[cond] = order_wm + order_laminar\n",
    "sample_order['all'] = sample_order['human'] + sample_order['chimp'] + sample_order['macaque']\n",
    "df = df.loc[sample_order['all']]"
   ]
  },
  {
   "cell_type": "code",
   "execution_count": 203,
   "id": "35a6294b-2e8d-409a-9bf2-d1eb1d391b5d",
   "metadata": {},
   "outputs": [
    {
     "data": {
      "text/html": [
       "<div>\n",
       "<style scoped>\n",
       "    .dataframe tbody tr th:only-of-type {\n",
       "        vertical-align: middle;\n",
       "    }\n",
       "\n",
       "    .dataframe tbody tr th {\n",
       "        vertical-align: top;\n",
       "    }\n",
       "\n",
       "    .dataframe thead th {\n",
       "        text-align: right;\n",
       "    }\n",
       "</style>\n",
       "<table border=\"1\" class=\"dataframe\">\n",
       "  <thead>\n",
       "    <tr style=\"text-align: right;\">\n",
       "      <th></th>\n",
       "      <th>A1BG</th>\n",
       "      <th>AAAS</th>\n",
       "      <th>AACS</th>\n",
       "      <th>AADAT</th>\n",
       "      <th>AAGAB</th>\n",
       "      <th>AAK1</th>\n",
       "      <th>AAMDC</th>\n",
       "      <th>AAMP</th>\n",
       "      <th>AAR2</th>\n",
       "      <th>AARS1</th>\n",
       "      <th>...</th>\n",
       "      <th>ZSWIM5</th>\n",
       "      <th>ZSWIM6</th>\n",
       "      <th>ZSWIM7</th>\n",
       "      <th>ZSWIM8</th>\n",
       "      <th>ZUP1</th>\n",
       "      <th>ZWILCH</th>\n",
       "      <th>ZYG11B</th>\n",
       "      <th>ZYX</th>\n",
       "      <th>ZZEF1</th>\n",
       "      <th>ZZZ3</th>\n",
       "    </tr>\n",
       "  </thead>\n",
       "  <tbody>\n",
       "    <tr>\n",
       "      <th>human_759_WM</th>\n",
       "      <td>-0.065495</td>\n",
       "      <td>0.010434</td>\n",
       "      <td>0.041268</td>\n",
       "      <td>-0.054351</td>\n",
       "      <td>0.025707</td>\n",
       "      <td>-0.072019</td>\n",
       "      <td>-0.019207</td>\n",
       "      <td>0.051644</td>\n",
       "      <td>-0.040637</td>\n",
       "      <td>0.007453</td>\n",
       "      <td>...</td>\n",
       "      <td>0.036042</td>\n",
       "      <td>-0.025797</td>\n",
       "      <td>0.009901</td>\n",
       "      <td>0.071362</td>\n",
       "      <td>-0.083505</td>\n",
       "      <td>0.041762</td>\n",
       "      <td>-0.026634</td>\n",
       "      <td>-0.087689</td>\n",
       "      <td>-0.063893</td>\n",
       "      <td>-0.040384</td>\n",
       "    </tr>\n",
       "    <tr>\n",
       "      <th>human_j12_WM</th>\n",
       "      <td>-0.060239</td>\n",
       "      <td>0.019742</td>\n",
       "      <td>0.025153</td>\n",
       "      <td>-0.066483</td>\n",
       "      <td>-0.044543</td>\n",
       "      <td>0.001885</td>\n",
       "      <td>0.120468</td>\n",
       "      <td>0.044115</td>\n",
       "      <td>-0.005605</td>\n",
       "      <td>0.064853</td>\n",
       "      <td>...</td>\n",
       "      <td>0.008039</td>\n",
       "      <td>-0.011982</td>\n",
       "      <td>-0.000140</td>\n",
       "      <td>0.013841</td>\n",
       "      <td>-0.005179</td>\n",
       "      <td>-0.051615</td>\n",
       "      <td>-0.144635</td>\n",
       "      <td>-0.030077</td>\n",
       "      <td>-0.016105</td>\n",
       "      <td>0.055280</td>\n",
       "    </tr>\n",
       "    <tr>\n",
       "      <th>human_j3_WM</th>\n",
       "      <td>-0.095841</td>\n",
       "      <td>0.030377</td>\n",
       "      <td>-0.028083</td>\n",
       "      <td>-0.100378</td>\n",
       "      <td>-0.011412</td>\n",
       "      <td>0.121080</td>\n",
       "      <td>0.096006</td>\n",
       "      <td>-0.036493</td>\n",
       "      <td>-0.043526</td>\n",
       "      <td>-0.017252</td>\n",
       "      <td>...</td>\n",
       "      <td>-0.025040</td>\n",
       "      <td>0.025672</td>\n",
       "      <td>-0.022279</td>\n",
       "      <td>-0.063037</td>\n",
       "      <td>0.055279</td>\n",
       "      <td>-0.082378</td>\n",
       "      <td>-0.050937</td>\n",
       "      <td>-0.060124</td>\n",
       "      <td>-0.077665</td>\n",
       "      <td>0.020677</td>\n",
       "    </tr>\n",
       "    <tr>\n",
       "      <th>human_j4_WM</th>\n",
       "      <td>-0.091943</td>\n",
       "      <td>0.057763</td>\n",
       "      <td>-0.020194</td>\n",
       "      <td>-0.100982</td>\n",
       "      <td>-0.054054</td>\n",
       "      <td>0.040012</td>\n",
       "      <td>0.081541</td>\n",
       "      <td>-0.023853</td>\n",
       "      <td>0.081220</td>\n",
       "      <td>0.055494</td>\n",
       "      <td>...</td>\n",
       "      <td>-0.031159</td>\n",
       "      <td>-0.014967</td>\n",
       "      <td>-0.042334</td>\n",
       "      <td>0.014476</td>\n",
       "      <td>0.012403</td>\n",
       "      <td>-0.117408</td>\n",
       "      <td>-0.020468</td>\n",
       "      <td>-0.110733</td>\n",
       "      <td>-0.023327</td>\n",
       "      <td>0.078987</td>\n",
       "    </tr>\n",
       "    <tr>\n",
       "      <th>human_j6_WM</th>\n",
       "      <td>-0.078252</td>\n",
       "      <td>-0.015277</td>\n",
       "      <td>0.004524</td>\n",
       "      <td>-0.134850</td>\n",
       "      <td>0.010688</td>\n",
       "      <td>0.078731</td>\n",
       "      <td>-0.073053</td>\n",
       "      <td>0.049893</td>\n",
       "      <td>-0.014778</td>\n",
       "      <td>-0.074468</td>\n",
       "      <td>...</td>\n",
       "      <td>0.052648</td>\n",
       "      <td>-0.099636</td>\n",
       "      <td>0.030391</td>\n",
       "      <td>-0.021561</td>\n",
       "      <td>0.130150</td>\n",
       "      <td>-0.005066</td>\n",
       "      <td>0.020878</td>\n",
       "      <td>-0.112694</td>\n",
       "      <td>-0.059420</td>\n",
       "      <td>0.027191</td>\n",
       "    </tr>\n",
       "  </tbody>\n",
       "</table>\n",
       "<p>5 rows × 9208 columns</p>\n",
       "</div>"
      ],
      "text/plain": [
       "                  A1BG      AAAS      AACS     AADAT     AAGAB      AAK1  \\\n",
       "human_759_WM -0.065495  0.010434  0.041268 -0.054351  0.025707 -0.072019   \n",
       "human_j12_WM -0.060239  0.019742  0.025153 -0.066483 -0.044543  0.001885   \n",
       "human_j3_WM  -0.095841  0.030377 -0.028083 -0.100378 -0.011412  0.121080   \n",
       "human_j4_WM  -0.091943  0.057763 -0.020194 -0.100982 -0.054054  0.040012   \n",
       "human_j6_WM  -0.078252 -0.015277  0.004524 -0.134850  0.010688  0.078731   \n",
       "\n",
       "                 AAMDC      AAMP      AAR2     AARS1  ...    ZSWIM5    ZSWIM6  \\\n",
       "human_759_WM -0.019207  0.051644 -0.040637  0.007453  ...  0.036042 -0.025797   \n",
       "human_j12_WM  0.120468  0.044115 -0.005605  0.064853  ...  0.008039 -0.011982   \n",
       "human_j3_WM   0.096006 -0.036493 -0.043526 -0.017252  ... -0.025040  0.025672   \n",
       "human_j4_WM   0.081541 -0.023853  0.081220  0.055494  ... -0.031159 -0.014967   \n",
       "human_j6_WM  -0.073053  0.049893 -0.014778 -0.074468  ...  0.052648 -0.099636   \n",
       "\n",
       "                ZSWIM7    ZSWIM8      ZUP1    ZWILCH    ZYG11B       ZYX  \\\n",
       "human_759_WM  0.009901  0.071362 -0.083505  0.041762 -0.026634 -0.087689   \n",
       "human_j12_WM -0.000140  0.013841 -0.005179 -0.051615 -0.144635 -0.030077   \n",
       "human_j3_WM  -0.022279 -0.063037  0.055279 -0.082378 -0.050937 -0.060124   \n",
       "human_j4_WM  -0.042334  0.014476  0.012403 -0.117408 -0.020468 -0.110733   \n",
       "human_j6_WM   0.030391 -0.021561  0.130150 -0.005066  0.020878 -0.112694   \n",
       "\n",
       "                 ZZEF1      ZZZ3  \n",
       "human_759_WM -0.063893 -0.040384  \n",
       "human_j12_WM -0.016105  0.055280  \n",
       "human_j3_WM  -0.077665  0.020677  \n",
       "human_j4_WM  -0.023327  0.078987  \n",
       "human_j6_WM  -0.059420  0.027191  \n",
       "\n",
       "[5 rows x 9208 columns]"
      ]
     },
     "execution_count": 203,
     "metadata": {},
     "output_type": "execute_result"
    }
   ],
   "source": [
    "df.head()"
   ]
  },
  {
   "cell_type": "code",
   "execution_count": 204,
   "id": "1e07d1ec-5289-40dd-a0a8-104b39fb34bb",
   "metadata": {},
   "outputs": [],
   "source": [
    "df_cont = df.copy()\n",
    "df_cont['condition'] = adata_pb_norm.obs.condition\n",
    "df_cont['layer'] = adata_pb_norm.obs.layer\n",
    "df_cont['layer'] = df_cont.layer.map(dict(zip(sorted(df_cont.layer.unique()), range(1, 8)))).astype(int)\n",
    "df_cont['intercept'] = 1"
   ]
  },
  {
   "cell_type": "code",
   "execution_count": 205,
   "id": "39892d4b-bddd-4279-8e20-151f3dea82d5",
   "metadata": {},
   "outputs": [],
   "source": [
    "df_cont.columns = df_cont.columns.str.replace('-', '')"
   ]
  },
  {
   "cell_type": "code",
   "execution_count": 207,
   "id": "611bc47a-29c1-4182-807a-007059b5a0dc",
   "metadata": {
    "scrolled": true
   },
   "outputs": [
    {
     "data": {
      "application/vnd.jupyter.widget-view+json": {
       "model_id": "4c37e8159d9f4bbdb23aac1e25c5fc73",
       "version_major": 2,
       "version_minor": 0
      },
      "text/plain": [
       "  0%|          | 0/9208 [00:00<?, ?it/s]"
      ]
     },
     "metadata": {},
     "output_type": "display_data"
    },
    {
     "name": "stderr",
     "output_type": "stream",
     "text": [
      "D:\\Projects\\spatialMPFC\\venv\\lib\\site-packages\\statsmodels\\regression\\linear_model.py:1870: RuntimeWarning: invalid value encountered in double_scalars\n",
      "  return self.mse_model/self.mse_resid\n",
      "D:\\Projects\\spatialMPFC\\venv\\lib\\site-packages\\statsmodels\\regression\\linear_model.py:1870: RuntimeWarning: invalid value encountered in double_scalars\n",
      "  return self.mse_model/self.mse_resid\n",
      "D:\\Projects\\spatialMPFC\\venv\\lib\\site-packages\\statsmodels\\regression\\linear_model.py:1870: RuntimeWarning: invalid value encountered in double_scalars\n",
      "  return self.mse_model/self.mse_resid\n",
      "D:\\Projects\\spatialMPFC\\venv\\lib\\site-packages\\statsmodels\\regression\\linear_model.py:1870: RuntimeWarning: invalid value encountered in double_scalars\n",
      "  return self.mse_model/self.mse_resid\n"
     ]
    },
    {
     "data": {
      "application/vnd.jupyter.widget-view+json": {
       "model_id": "46baf7a90abe4aa1aa17e27e8d4845f5",
       "version_major": 2,
       "version_minor": 0
      },
      "text/plain": [
       "  0%|          | 0/9208 [00:00<?, ?it/s]"
      ]
     },
     "metadata": {},
     "output_type": "display_data"
    },
    {
     "name": "stderr",
     "output_type": "stream",
     "text": [
      "D:\\Projects\\spatialMPFC\\venv\\lib\\site-packages\\statsmodels\\regression\\linear_model.py:1870: RuntimeWarning: invalid value encountered in double_scalars\n",
      "  return self.mse_model/self.mse_resid\n",
      "D:\\Projects\\spatialMPFC\\venv\\lib\\site-packages\\statsmodels\\regression\\linear_model.py:1870: RuntimeWarning: invalid value encountered in double_scalars\n",
      "  return self.mse_model/self.mse_resid\n",
      "D:\\Projects\\spatialMPFC\\venv\\lib\\site-packages\\statsmodels\\regression\\linear_model.py:1870: RuntimeWarning: invalid value encountered in double_scalars\n",
      "  return self.mse_model/self.mse_resid\n",
      "D:\\Projects\\spatialMPFC\\venv\\lib\\site-packages\\statsmodels\\regression\\linear_model.py:1870: RuntimeWarning: invalid value encountered in double_scalars\n",
      "  return self.mse_model/self.mse_resid\n",
      "D:\\Projects\\spatialMPFC\\venv\\lib\\site-packages\\statsmodels\\regression\\linear_model.py:1870: RuntimeWarning: invalid value encountered in double_scalars\n",
      "  return self.mse_model/self.mse_resid\n",
      "D:\\Projects\\spatialMPFC\\venv\\lib\\site-packages\\statsmodels\\regression\\linear_model.py:1870: RuntimeWarning: invalid value encountered in double_scalars\n",
      "  return self.mse_model/self.mse_resid\n",
      "D:\\Projects\\spatialMPFC\\venv\\lib\\site-packages\\statsmodels\\regression\\linear_model.py:1870: RuntimeWarning: invalid value encountered in double_scalars\n",
      "  return self.mse_model/self.mse_resid\n",
      "D:\\Projects\\spatialMPFC\\venv\\lib\\site-packages\\statsmodels\\regression\\linear_model.py:1870: RuntimeWarning: invalid value encountered in double_scalars\n",
      "  return self.mse_model/self.mse_resid\n",
      "D:\\Projects\\spatialMPFC\\venv\\lib\\site-packages\\statsmodels\\regression\\linear_model.py:1870: RuntimeWarning: invalid value encountered in double_scalars\n",
      "  return self.mse_model/self.mse_resid\n",
      "D:\\Projects\\spatialMPFC\\venv\\lib\\site-packages\\statsmodels\\regression\\linear_model.py:1870: RuntimeWarning: invalid value encountered in double_scalars\n",
      "  return self.mse_model/self.mse_resid\n",
      "D:\\Projects\\spatialMPFC\\venv\\lib\\site-packages\\statsmodels\\regression\\linear_model.py:1870: RuntimeWarning: invalid value encountered in double_scalars\n",
      "  return self.mse_model/self.mse_resid\n",
      "D:\\Projects\\spatialMPFC\\venv\\lib\\site-packages\\statsmodels\\regression\\linear_model.py:1870: RuntimeWarning: invalid value encountered in double_scalars\n",
      "  return self.mse_model/self.mse_resid\n",
      "D:\\Projects\\spatialMPFC\\venv\\lib\\site-packages\\statsmodels\\regression\\linear_model.py:1870: RuntimeWarning: invalid value encountered in double_scalars\n",
      "  return self.mse_model/self.mse_resid\n",
      "D:\\Projects\\spatialMPFC\\venv\\lib\\site-packages\\statsmodels\\regression\\linear_model.py:1870: RuntimeWarning: invalid value encountered in double_scalars\n",
      "  return self.mse_model/self.mse_resid\n",
      "D:\\Projects\\spatialMPFC\\venv\\lib\\site-packages\\statsmodels\\regression\\linear_model.py:1870: RuntimeWarning: invalid value encountered in double_scalars\n",
      "  return self.mse_model/self.mse_resid\n",
      "D:\\Projects\\spatialMPFC\\venv\\lib\\site-packages\\statsmodels\\regression\\linear_model.py:1870: RuntimeWarning: invalid value encountered in double_scalars\n",
      "  return self.mse_model/self.mse_resid\n",
      "D:\\Projects\\spatialMPFC\\venv\\lib\\site-packages\\statsmodels\\regression\\linear_model.py:1870: RuntimeWarning: invalid value encountered in double_scalars\n",
      "  return self.mse_model/self.mse_resid\n",
      "D:\\Projects\\spatialMPFC\\venv\\lib\\site-packages\\statsmodels\\regression\\linear_model.py:1870: RuntimeWarning: invalid value encountered in double_scalars\n",
      "  return self.mse_model/self.mse_resid\n",
      "D:\\Projects\\spatialMPFC\\venv\\lib\\site-packages\\statsmodels\\regression\\linear_model.py:1870: RuntimeWarning: invalid value encountered in double_scalars\n",
      "  return self.mse_model/self.mse_resid\n",
      "D:\\Projects\\spatialMPFC\\venv\\lib\\site-packages\\statsmodels\\regression\\linear_model.py:1870: RuntimeWarning: invalid value encountered in double_scalars\n",
      "  return self.mse_model/self.mse_resid\n",
      "D:\\Projects\\spatialMPFC\\venv\\lib\\site-packages\\statsmodels\\regression\\linear_model.py:1870: RuntimeWarning: invalid value encountered in double_scalars\n",
      "  return self.mse_model/self.mse_resid\n",
      "D:\\Projects\\spatialMPFC\\venv\\lib\\site-packages\\statsmodels\\regression\\linear_model.py:1870: RuntimeWarning: invalid value encountered in double_scalars\n",
      "  return self.mse_model/self.mse_resid\n",
      "D:\\Projects\\spatialMPFC\\venv\\lib\\site-packages\\statsmodels\\regression\\linear_model.py:1870: RuntimeWarning: invalid value encountered in double_scalars\n",
      "  return self.mse_model/self.mse_resid\n",
      "D:\\Projects\\spatialMPFC\\venv\\lib\\site-packages\\statsmodels\\regression\\linear_model.py:1870: RuntimeWarning: invalid value encountered in double_scalars\n",
      "  return self.mse_model/self.mse_resid\n",
      "D:\\Projects\\spatialMPFC\\venv\\lib\\site-packages\\statsmodels\\regression\\linear_model.py:1870: RuntimeWarning: invalid value encountered in double_scalars\n",
      "  return self.mse_model/self.mse_resid\n",
      "D:\\Projects\\spatialMPFC\\venv\\lib\\site-packages\\statsmodels\\regression\\linear_model.py:1870: RuntimeWarning: invalid value encountered in double_scalars\n",
      "  return self.mse_model/self.mse_resid\n",
      "D:\\Projects\\spatialMPFC\\venv\\lib\\site-packages\\statsmodels\\regression\\linear_model.py:1870: RuntimeWarning: invalid value encountered in double_scalars\n",
      "  return self.mse_model/self.mse_resid\n",
      "D:\\Projects\\spatialMPFC\\venv\\lib\\site-packages\\statsmodels\\regression\\linear_model.py:1870: RuntimeWarning: invalid value encountered in double_scalars\n",
      "  return self.mse_model/self.mse_resid\n",
      "D:\\Projects\\spatialMPFC\\venv\\lib\\site-packages\\statsmodels\\regression\\linear_model.py:1870: RuntimeWarning: invalid value encountered in double_scalars\n",
      "  return self.mse_model/self.mse_resid\n",
      "D:\\Projects\\spatialMPFC\\venv\\lib\\site-packages\\statsmodels\\regression\\linear_model.py:1870: RuntimeWarning: invalid value encountered in double_scalars\n",
      "  return self.mse_model/self.mse_resid\n",
      "D:\\Projects\\spatialMPFC\\venv\\lib\\site-packages\\statsmodels\\regression\\linear_model.py:1870: RuntimeWarning: invalid value encountered in double_scalars\n",
      "  return self.mse_model/self.mse_resid\n",
      "D:\\Projects\\spatialMPFC\\venv\\lib\\site-packages\\statsmodels\\regression\\linear_model.py:1870: RuntimeWarning: invalid value encountered in double_scalars\n",
      "  return self.mse_model/self.mse_resid\n",
      "D:\\Projects\\spatialMPFC\\venv\\lib\\site-packages\\statsmodels\\regression\\linear_model.py:1870: RuntimeWarning: invalid value encountered in double_scalars\n",
      "  return self.mse_model/self.mse_resid\n",
      "D:\\Projects\\spatialMPFC\\venv\\lib\\site-packages\\statsmodels\\regression\\linear_model.py:1870: RuntimeWarning: invalid value encountered in double_scalars\n",
      "  return self.mse_model/self.mse_resid\n",
      "D:\\Projects\\spatialMPFC\\venv\\lib\\site-packages\\statsmodels\\regression\\linear_model.py:1870: RuntimeWarning: invalid value encountered in double_scalars\n",
      "  return self.mse_model/self.mse_resid\n",
      "D:\\Projects\\spatialMPFC\\venv\\lib\\site-packages\\statsmodels\\regression\\linear_model.py:1870: RuntimeWarning: invalid value encountered in double_scalars\n",
      "  return self.mse_model/self.mse_resid\n",
      "D:\\Projects\\spatialMPFC\\venv\\lib\\site-packages\\statsmodels\\regression\\linear_model.py:1870: RuntimeWarning: invalid value encountered in double_scalars\n",
      "  return self.mse_model/self.mse_resid\n",
      "D:\\Projects\\spatialMPFC\\venv\\lib\\site-packages\\statsmodels\\regression\\linear_model.py:1870: RuntimeWarning: invalid value encountered in double_scalars\n",
      "  return self.mse_model/self.mse_resid\n",
      "D:\\Projects\\spatialMPFC\\venv\\lib\\site-packages\\statsmodels\\regression\\linear_model.py:1870: RuntimeWarning: invalid value encountered in double_scalars\n",
      "  return self.mse_model/self.mse_resid\n",
      "D:\\Projects\\spatialMPFC\\venv\\lib\\site-packages\\statsmodels\\regression\\linear_model.py:1870: RuntimeWarning: invalid value encountered in double_scalars\n",
      "  return self.mse_model/self.mse_resid\n",
      "D:\\Projects\\spatialMPFC\\venv\\lib\\site-packages\\statsmodels\\regression\\linear_model.py:1870: RuntimeWarning: invalid value encountered in double_scalars\n",
      "  return self.mse_model/self.mse_resid\n",
      "D:\\Projects\\spatialMPFC\\venv\\lib\\site-packages\\statsmodels\\regression\\linear_model.py:1870: RuntimeWarning: invalid value encountered in double_scalars\n",
      "  return self.mse_model/self.mse_resid\n",
      "D:\\Projects\\spatialMPFC\\venv\\lib\\site-packages\\statsmodels\\regression\\linear_model.py:1870: RuntimeWarning: invalid value encountered in double_scalars\n",
      "  return self.mse_model/self.mse_resid\n",
      "D:\\Projects\\spatialMPFC\\venv\\lib\\site-packages\\statsmodels\\regression\\linear_model.py:1870: RuntimeWarning: invalid value encountered in double_scalars\n",
      "  return self.mse_model/self.mse_resid\n",
      "D:\\Projects\\spatialMPFC\\venv\\lib\\site-packages\\statsmodels\\regression\\linear_model.py:1870: RuntimeWarning: invalid value encountered in double_scalars\n",
      "  return self.mse_model/self.mse_resid\n",
      "D:\\Projects\\spatialMPFC\\venv\\lib\\site-packages\\statsmodels\\regression\\linear_model.py:1870: RuntimeWarning: invalid value encountered in double_scalars\n",
      "  return self.mse_model/self.mse_resid\n",
      "D:\\Projects\\spatialMPFC\\venv\\lib\\site-packages\\statsmodels\\regression\\linear_model.py:1870: RuntimeWarning: invalid value encountered in double_scalars\n",
      "  return self.mse_model/self.mse_resid\n",
      "D:\\Projects\\spatialMPFC\\venv\\lib\\site-packages\\statsmodels\\regression\\linear_model.py:1870: RuntimeWarning: invalid value encountered in double_scalars\n",
      "  return self.mse_model/self.mse_resid\n",
      "D:\\Projects\\spatialMPFC\\venv\\lib\\site-packages\\statsmodels\\regression\\linear_model.py:1870: RuntimeWarning: invalid value encountered in double_scalars\n",
      "  return self.mse_model/self.mse_resid\n",
      "D:\\Projects\\spatialMPFC\\venv\\lib\\site-packages\\statsmodels\\regression\\linear_model.py:1870: RuntimeWarning: invalid value encountered in double_scalars\n",
      "  return self.mse_model/self.mse_resid\n",
      "D:\\Projects\\spatialMPFC\\venv\\lib\\site-packages\\statsmodels\\regression\\linear_model.py:1870: RuntimeWarning: invalid value encountered in double_scalars\n",
      "  return self.mse_model/self.mse_resid\n",
      "D:\\Projects\\spatialMPFC\\venv\\lib\\site-packages\\statsmodels\\regression\\linear_model.py:1870: RuntimeWarning: invalid value encountered in double_scalars\n",
      "  return self.mse_model/self.mse_resid\n",
      "D:\\Projects\\spatialMPFC\\venv\\lib\\site-packages\\statsmodels\\regression\\linear_model.py:1870: RuntimeWarning: invalid value encountered in double_scalars\n",
      "  return self.mse_model/self.mse_resid\n",
      "D:\\Projects\\spatialMPFC\\venv\\lib\\site-packages\\statsmodels\\regression\\linear_model.py:1870: RuntimeWarning: invalid value encountered in double_scalars\n",
      "  return self.mse_model/self.mse_resid\n",
      "D:\\Projects\\spatialMPFC\\venv\\lib\\site-packages\\statsmodels\\regression\\linear_model.py:1870: RuntimeWarning: invalid value encountered in double_scalars\n",
      "  return self.mse_model/self.mse_resid\n",
      "D:\\Projects\\spatialMPFC\\venv\\lib\\site-packages\\statsmodels\\regression\\linear_model.py:1870: RuntimeWarning: invalid value encountered in double_scalars\n",
      "  return self.mse_model/self.mse_resid\n",
      "D:\\Projects\\spatialMPFC\\venv\\lib\\site-packages\\statsmodels\\regression\\linear_model.py:1870: RuntimeWarning: invalid value encountered in double_scalars\n",
      "  return self.mse_model/self.mse_resid\n",
      "D:\\Projects\\spatialMPFC\\venv\\lib\\site-packages\\statsmodels\\regression\\linear_model.py:1870: RuntimeWarning: invalid value encountered in double_scalars\n",
      "  return self.mse_model/self.mse_resid\n",
      "D:\\Projects\\spatialMPFC\\venv\\lib\\site-packages\\statsmodels\\regression\\linear_model.py:1870: RuntimeWarning: invalid value encountered in double_scalars\n",
      "  return self.mse_model/self.mse_resid\n",
      "D:\\Projects\\spatialMPFC\\venv\\lib\\site-packages\\statsmodels\\regression\\linear_model.py:1870: RuntimeWarning: invalid value encountered in double_scalars\n",
      "  return self.mse_model/self.mse_resid\n",
      "D:\\Projects\\spatialMPFC\\venv\\lib\\site-packages\\statsmodels\\regression\\linear_model.py:1870: RuntimeWarning: invalid value encountered in double_scalars\n",
      "  return self.mse_model/self.mse_resid\n",
      "D:\\Projects\\spatialMPFC\\venv\\lib\\site-packages\\statsmodels\\regression\\linear_model.py:1870: RuntimeWarning: invalid value encountered in double_scalars\n",
      "  return self.mse_model/self.mse_resid\n",
      "D:\\Projects\\spatialMPFC\\venv\\lib\\site-packages\\statsmodels\\regression\\linear_model.py:1870: RuntimeWarning: invalid value encountered in double_scalars\n",
      "  return self.mse_model/self.mse_resid\n",
      "D:\\Projects\\spatialMPFC\\venv\\lib\\site-packages\\statsmodels\\regression\\linear_model.py:1870: RuntimeWarning: invalid value encountered in double_scalars\n",
      "  return self.mse_model/self.mse_resid\n",
      "D:\\Projects\\spatialMPFC\\venv\\lib\\site-packages\\statsmodels\\regression\\linear_model.py:1870: RuntimeWarning: invalid value encountered in double_scalars\n",
      "  return self.mse_model/self.mse_resid\n",
      "D:\\Projects\\spatialMPFC\\venv\\lib\\site-packages\\statsmodels\\regression\\linear_model.py:1870: RuntimeWarning: invalid value encountered in double_scalars\n",
      "  return self.mse_model/self.mse_resid\n",
      "D:\\Projects\\spatialMPFC\\venv\\lib\\site-packages\\statsmodels\\regression\\linear_model.py:1870: RuntimeWarning: invalid value encountered in double_scalars\n",
      "  return self.mse_model/self.mse_resid\n",
      "D:\\Projects\\spatialMPFC\\venv\\lib\\site-packages\\statsmodels\\regression\\linear_model.py:1870: RuntimeWarning: invalid value encountered in double_scalars\n",
      "  return self.mse_model/self.mse_resid\n",
      "D:\\Projects\\spatialMPFC\\venv\\lib\\site-packages\\statsmodels\\regression\\linear_model.py:1870: RuntimeWarning: invalid value encountered in double_scalars\n",
      "  return self.mse_model/self.mse_resid\n",
      "D:\\Projects\\spatialMPFC\\venv\\lib\\site-packages\\statsmodels\\regression\\linear_model.py:1870: RuntimeWarning: invalid value encountered in double_scalars\n",
      "  return self.mse_model/self.mse_resid\n",
      "D:\\Projects\\spatialMPFC\\venv\\lib\\site-packages\\statsmodels\\regression\\linear_model.py:1870: RuntimeWarning: invalid value encountered in double_scalars\n",
      "  return self.mse_model/self.mse_resid\n",
      "D:\\Projects\\spatialMPFC\\venv\\lib\\site-packages\\statsmodels\\regression\\linear_model.py:1870: RuntimeWarning: invalid value encountered in double_scalars\n",
      "  return self.mse_model/self.mse_resid\n",
      "D:\\Projects\\spatialMPFC\\venv\\lib\\site-packages\\statsmodels\\regression\\linear_model.py:1870: RuntimeWarning: invalid value encountered in double_scalars\n",
      "  return self.mse_model/self.mse_resid\n",
      "D:\\Projects\\spatialMPFC\\venv\\lib\\site-packages\\statsmodels\\regression\\linear_model.py:1870: RuntimeWarning: invalid value encountered in double_scalars\n",
      "  return self.mse_model/self.mse_resid\n",
      "D:\\Projects\\spatialMPFC\\venv\\lib\\site-packages\\statsmodels\\regression\\linear_model.py:1870: RuntimeWarning: invalid value encountered in double_scalars\n",
      "  return self.mse_model/self.mse_resid\n",
      "D:\\Projects\\spatialMPFC\\venv\\lib\\site-packages\\statsmodels\\regression\\linear_model.py:1870: RuntimeWarning: invalid value encountered in double_scalars\n",
      "  return self.mse_model/self.mse_resid\n",
      "D:\\Projects\\spatialMPFC\\venv\\lib\\site-packages\\statsmodels\\regression\\linear_model.py:1870: RuntimeWarning: invalid value encountered in double_scalars\n",
      "  return self.mse_model/self.mse_resid\n",
      "D:\\Projects\\spatialMPFC\\venv\\lib\\site-packages\\statsmodels\\regression\\linear_model.py:1870: RuntimeWarning: invalid value encountered in double_scalars\n",
      "  return self.mse_model/self.mse_resid\n",
      "D:\\Projects\\spatialMPFC\\venv\\lib\\site-packages\\statsmodels\\regression\\linear_model.py:1870: RuntimeWarning: invalid value encountered in double_scalars\n",
      "  return self.mse_model/self.mse_resid\n",
      "D:\\Projects\\spatialMPFC\\venv\\lib\\site-packages\\statsmodels\\regression\\linear_model.py:1870: RuntimeWarning: invalid value encountered in double_scalars\n",
      "  return self.mse_model/self.mse_resid\n",
      "D:\\Projects\\spatialMPFC\\venv\\lib\\site-packages\\statsmodels\\regression\\linear_model.py:1870: RuntimeWarning: invalid value encountered in double_scalars\n",
      "  return self.mse_model/self.mse_resid\n",
      "D:\\Projects\\spatialMPFC\\venv\\lib\\site-packages\\statsmodels\\regression\\linear_model.py:1870: RuntimeWarning: invalid value encountered in double_scalars\n",
      "  return self.mse_model/self.mse_resid\n",
      "D:\\Projects\\spatialMPFC\\venv\\lib\\site-packages\\statsmodels\\regression\\linear_model.py:1870: RuntimeWarning: invalid value encountered in double_scalars\n",
      "  return self.mse_model/self.mse_resid\n",
      "D:\\Projects\\spatialMPFC\\venv\\lib\\site-packages\\statsmodels\\regression\\linear_model.py:1870: RuntimeWarning: invalid value encountered in double_scalars\n",
      "  return self.mse_model/self.mse_resid\n",
      "D:\\Projects\\spatialMPFC\\venv\\lib\\site-packages\\statsmodels\\regression\\linear_model.py:1870: RuntimeWarning: invalid value encountered in double_scalars\n",
      "  return self.mse_model/self.mse_resid\n",
      "D:\\Projects\\spatialMPFC\\venv\\lib\\site-packages\\statsmodels\\regression\\linear_model.py:1870: RuntimeWarning: invalid value encountered in double_scalars\n",
      "  return self.mse_model/self.mse_resid\n",
      "D:\\Projects\\spatialMPFC\\venv\\lib\\site-packages\\statsmodels\\regression\\linear_model.py:1870: RuntimeWarning: invalid value encountered in double_scalars\n",
      "  return self.mse_model/self.mse_resid\n",
      "D:\\Projects\\spatialMPFC\\venv\\lib\\site-packages\\statsmodels\\regression\\linear_model.py:1870: RuntimeWarning: invalid value encountered in double_scalars\n",
      "  return self.mse_model/self.mse_resid\n",
      "D:\\Projects\\spatialMPFC\\venv\\lib\\site-packages\\statsmodels\\regression\\linear_model.py:1870: RuntimeWarning: invalid value encountered in double_scalars\n",
      "  return self.mse_model/self.mse_resid\n",
      "D:\\Projects\\spatialMPFC\\venv\\lib\\site-packages\\statsmodels\\regression\\linear_model.py:1870: RuntimeWarning: invalid value encountered in double_scalars\n",
      "  return self.mse_model/self.mse_resid\n",
      "D:\\Projects\\spatialMPFC\\venv\\lib\\site-packages\\statsmodels\\regression\\linear_model.py:1870: RuntimeWarning: invalid value encountered in double_scalars\n",
      "  return self.mse_model/self.mse_resid\n",
      "D:\\Projects\\spatialMPFC\\venv\\lib\\site-packages\\statsmodels\\regression\\linear_model.py:1870: RuntimeWarning: invalid value encountered in double_scalars\n",
      "  return self.mse_model/self.mse_resid\n"
     ]
    },
    {
     "data": {
      "application/vnd.jupyter.widget-view+json": {
       "model_id": "59eff852c0ea4376b687127e3cd91e88",
       "version_major": 2,
       "version_minor": 0
      },
      "text/plain": [
       "  0%|          | 0/9208 [00:00<?, ?it/s]"
      ]
     },
     "metadata": {},
     "output_type": "display_data"
    },
    {
     "name": "stderr",
     "output_type": "stream",
     "text": [
      "D:\\Projects\\spatialMPFC\\venv\\lib\\site-packages\\statsmodels\\regression\\linear_model.py:1870: RuntimeWarning: invalid value encountered in double_scalars\n",
      "  return self.mse_model/self.mse_resid\n",
      "D:\\Projects\\spatialMPFC\\venv\\lib\\site-packages\\statsmodels\\regression\\linear_model.py:1870: RuntimeWarning: invalid value encountered in double_scalars\n",
      "  return self.mse_model/self.mse_resid\n",
      "D:\\Projects\\spatialMPFC\\venv\\lib\\site-packages\\statsmodels\\regression\\linear_model.py:1870: RuntimeWarning: invalid value encountered in double_scalars\n",
      "  return self.mse_model/self.mse_resid\n",
      "D:\\Projects\\spatialMPFC\\venv\\lib\\site-packages\\statsmodels\\regression\\linear_model.py:1870: RuntimeWarning: invalid value encountered in double_scalars\n",
      "  return self.mse_model/self.mse_resid\n",
      "D:\\Projects\\spatialMPFC\\venv\\lib\\site-packages\\statsmodels\\regression\\linear_model.py:1870: RuntimeWarning: invalid value encountered in double_scalars\n",
      "  return self.mse_model/self.mse_resid\n",
      "D:\\Projects\\spatialMPFC\\venv\\lib\\site-packages\\statsmodels\\regression\\linear_model.py:1870: RuntimeWarning: invalid value encountered in double_scalars\n",
      "  return self.mse_model/self.mse_resid\n",
      "D:\\Projects\\spatialMPFC\\venv\\lib\\site-packages\\statsmodels\\regression\\linear_model.py:1870: RuntimeWarning: invalid value encountered in double_scalars\n",
      "  return self.mse_model/self.mse_resid\n",
      "D:\\Projects\\spatialMPFC\\venv\\lib\\site-packages\\statsmodels\\regression\\linear_model.py:1870: RuntimeWarning: invalid value encountered in double_scalars\n",
      "  return self.mse_model/self.mse_resid\n",
      "D:\\Projects\\spatialMPFC\\venv\\lib\\site-packages\\statsmodels\\regression\\linear_model.py:1870: RuntimeWarning: invalid value encountered in double_scalars\n",
      "  return self.mse_model/self.mse_resid\n",
      "D:\\Projects\\spatialMPFC\\venv\\lib\\site-packages\\statsmodels\\regression\\linear_model.py:1870: RuntimeWarning: invalid value encountered in double_scalars\n",
      "  return self.mse_model/self.mse_resid\n",
      "D:\\Projects\\spatialMPFC\\venv\\lib\\site-packages\\statsmodels\\regression\\linear_model.py:1870: RuntimeWarning: invalid value encountered in double_scalars\n",
      "  return self.mse_model/self.mse_resid\n",
      "D:\\Projects\\spatialMPFC\\venv\\lib\\site-packages\\statsmodels\\regression\\linear_model.py:1870: RuntimeWarning: invalid value encountered in double_scalars\n",
      "  return self.mse_model/self.mse_resid\n",
      "D:\\Projects\\spatialMPFC\\venv\\lib\\site-packages\\statsmodels\\regression\\linear_model.py:1870: RuntimeWarning: invalid value encountered in double_scalars\n",
      "  return self.mse_model/self.mse_resid\n",
      "D:\\Projects\\spatialMPFC\\venv\\lib\\site-packages\\statsmodels\\regression\\linear_model.py:1870: RuntimeWarning: invalid value encountered in double_scalars\n",
      "  return self.mse_model/self.mse_resid\n",
      "D:\\Projects\\spatialMPFC\\venv\\lib\\site-packages\\statsmodels\\regression\\linear_model.py:1870: RuntimeWarning: invalid value encountered in double_scalars\n",
      "  return self.mse_model/self.mse_resid\n",
      "D:\\Projects\\spatialMPFC\\venv\\lib\\site-packages\\statsmodels\\regression\\linear_model.py:1870: RuntimeWarning: invalid value encountered in double_scalars\n",
      "  return self.mse_model/self.mse_resid\n",
      "D:\\Projects\\spatialMPFC\\venv\\lib\\site-packages\\statsmodels\\regression\\linear_model.py:1870: RuntimeWarning: invalid value encountered in double_scalars\n",
      "  return self.mse_model/self.mse_resid\n",
      "D:\\Projects\\spatialMPFC\\venv\\lib\\site-packages\\statsmodels\\regression\\linear_model.py:1870: RuntimeWarning: invalid value encountered in double_scalars\n",
      "  return self.mse_model/self.mse_resid\n",
      "D:\\Projects\\spatialMPFC\\venv\\lib\\site-packages\\statsmodels\\regression\\linear_model.py:1870: RuntimeWarning: invalid value encountered in double_scalars\n",
      "  return self.mse_model/self.mse_resid\n",
      "D:\\Projects\\spatialMPFC\\venv\\lib\\site-packages\\statsmodels\\regression\\linear_model.py:1870: RuntimeWarning: invalid value encountered in double_scalars\n",
      "  return self.mse_model/self.mse_resid\n",
      "D:\\Projects\\spatialMPFC\\venv\\lib\\site-packages\\statsmodels\\regression\\linear_model.py:1870: RuntimeWarning: invalid value encountered in double_scalars\n",
      "  return self.mse_model/self.mse_resid\n",
      "D:\\Projects\\spatialMPFC\\venv\\lib\\site-packages\\statsmodels\\regression\\linear_model.py:1870: RuntimeWarning: invalid value encountered in double_scalars\n",
      "  return self.mse_model/self.mse_resid\n",
      "D:\\Projects\\spatialMPFC\\venv\\lib\\site-packages\\statsmodels\\regression\\linear_model.py:1870: RuntimeWarning: invalid value encountered in double_scalars\n",
      "  return self.mse_model/self.mse_resid\n",
      "D:\\Projects\\spatialMPFC\\venv\\lib\\site-packages\\statsmodels\\regression\\linear_model.py:1870: RuntimeWarning: invalid value encountered in double_scalars\n",
      "  return self.mse_model/self.mse_resid\n",
      "D:\\Projects\\spatialMPFC\\venv\\lib\\site-packages\\statsmodels\\regression\\linear_model.py:1870: RuntimeWarning: invalid value encountered in double_scalars\n",
      "  return self.mse_model/self.mse_resid\n",
      "D:\\Projects\\spatialMPFC\\venv\\lib\\site-packages\\statsmodels\\regression\\linear_model.py:1870: RuntimeWarning: invalid value encountered in double_scalars\n",
      "  return self.mse_model/self.mse_resid\n",
      "D:\\Projects\\spatialMPFC\\venv\\lib\\site-packages\\statsmodels\\regression\\linear_model.py:1870: RuntimeWarning: invalid value encountered in double_scalars\n",
      "  return self.mse_model/self.mse_resid\n",
      "D:\\Projects\\spatialMPFC\\venv\\lib\\site-packages\\statsmodels\\regression\\linear_model.py:1870: RuntimeWarning: invalid value encountered in double_scalars\n",
      "  return self.mse_model/self.mse_resid\n",
      "D:\\Projects\\spatialMPFC\\venv\\lib\\site-packages\\statsmodels\\regression\\linear_model.py:1870: RuntimeWarning: invalid value encountered in double_scalars\n",
      "  return self.mse_model/self.mse_resid\n",
      "D:\\Projects\\spatialMPFC\\venv\\lib\\site-packages\\statsmodels\\regression\\linear_model.py:1870: RuntimeWarning: invalid value encountered in double_scalars\n",
      "  return self.mse_model/self.mse_resid\n"
     ]
    }
   ],
   "source": [
    "p_val_dict = dict()\n",
    "for specie in ['human', 'chimp', 'macaque']:\n",
    "    p_val_list = []\n",
    "    for gene in tqdm(df_cont.columns[:-3]):\n",
    "        formula = f'{gene} ~ layer + layer ^ 2 + layer ^ 3'\n",
    "        subs_index = df_cont[df_cont.condition == specie].index\n",
    "        model = ols(formula, data=df_cont, subset=subs_index).fit()\n",
    "        p_val_list.append(model.f_pvalue)\n",
    "    p_val_dict[specie] = p_val_list"
   ]
  },
  {
   "cell_type": "code",
   "execution_count": 213,
   "id": "649df17a-71e7-4717-9b00-0661734cddd6",
   "metadata": {},
   "outputs": [
    {
     "data": {
      "text/html": [
       "<div>\n",
       "<style scoped>\n",
       "    .dataframe tbody tr th:only-of-type {\n",
       "        vertical-align: middle;\n",
       "    }\n",
       "\n",
       "    .dataframe tbody tr th {\n",
       "        vertical-align: top;\n",
       "    }\n",
       "\n",
       "    .dataframe thead th {\n",
       "        text-align: right;\n",
       "    }\n",
       "</style>\n",
       "<table border=\"1\" class=\"dataframe\">\n",
       "  <thead>\n",
       "    <tr style=\"text-align: right;\">\n",
       "      <th></th>\n",
       "      <th>human</th>\n",
       "      <th>chimp</th>\n",
       "      <th>macaque</th>\n",
       "    </tr>\n",
       "  </thead>\n",
       "  <tbody>\n",
       "    <tr>\n",
       "      <th>A1BG</th>\n",
       "      <td>3.470042e-01</td>\n",
       "      <td>0.116883</td>\n",
       "      <td>0.566609</td>\n",
       "    </tr>\n",
       "    <tr>\n",
       "      <th>AAAS</th>\n",
       "      <td>5.520550e-01</td>\n",
       "      <td>0.898117</td>\n",
       "      <td>0.464406</td>\n",
       "    </tr>\n",
       "    <tr>\n",
       "      <th>AACS</th>\n",
       "      <td>1.205666e-03</td>\n",
       "      <td>0.014287</td>\n",
       "      <td>0.318736</td>\n",
       "    </tr>\n",
       "    <tr>\n",
       "      <th>AADAT</th>\n",
       "      <td>6.003434e-07</td>\n",
       "      <td>0.223451</td>\n",
       "      <td>0.017868</td>\n",
       "    </tr>\n",
       "    <tr>\n",
       "      <th>AAGAB</th>\n",
       "      <td>7.315753e-01</td>\n",
       "      <td>0.661344</td>\n",
       "      <td>0.024143</td>\n",
       "    </tr>\n",
       "  </tbody>\n",
       "</table>\n",
       "</div>"
      ],
      "text/plain": [
       "              human     chimp   macaque\n",
       "A1BG   3.470042e-01  0.116883  0.566609\n",
       "AAAS   5.520550e-01  0.898117  0.464406\n",
       "AACS   1.205666e-03  0.014287  0.318736\n",
       "AADAT  6.003434e-07  0.223451  0.017868\n",
       "AAGAB  7.315753e-01  0.661344  0.024143"
      ]
     },
     "execution_count": 213,
     "metadata": {},
     "output_type": "execute_result"
    }
   ],
   "source": [
    "results = pd.DataFrame(p_val_dict, index=df.columns)\n",
    "results.head()"
   ]
  },
  {
   "cell_type": "code",
   "execution_count": 244,
   "id": "2435b147-34cb-42dd-8a1c-53c61b9aaa02",
   "metadata": {},
   "outputs": [
    {
     "data": {
      "application/vnd.jupyter.widget-view+json": {
       "model_id": "f8947ee7c2aa480bb9ac6097c66cfcbf",
       "version_major": 2,
       "version_minor": 0
      },
      "text/plain": [
       "  0%|          | 0/3411 [00:00<?, ?it/s]"
      ]
     },
     "metadata": {},
     "output_type": "display_data"
    },
    {
     "data": {
      "application/vnd.jupyter.widget-view+json": {
       "model_id": "39c83e80ce384a86b6a5c909b86eb759",
       "version_major": 2,
       "version_minor": 0
      },
      "text/plain": [
       "  0%|          | 0/3411 [00:00<?, ?it/s]"
      ]
     },
     "metadata": {},
     "output_type": "display_data"
    },
    {
     "data": {
      "application/vnd.jupyter.widget-view+json": {
       "model_id": "c1ad028812f44f8ea7579c67b7c39870",
       "version_major": 2,
       "version_minor": 0
      },
      "text/plain": [
       "  0%|          | 0/1786 [00:00<?, ?it/s]"
      ]
     },
     "metadata": {},
     "output_type": "display_data"
    },
    {
     "data": {
      "application/vnd.jupyter.widget-view+json": {
       "model_id": "81398ecc752446f8b43a2ef61a0fc54c",
       "version_major": 2,
       "version_minor": 0
      },
      "text/plain": [
       "  0%|          | 0/1786 [00:00<?, ?it/s]"
      ]
     },
     "metadata": {},
     "output_type": "display_data"
    },
    {
     "data": {
      "application/vnd.jupyter.widget-view+json": {
       "model_id": "d83a2bdd4b994b3ab32a2f7be18903de",
       "version_major": 2,
       "version_minor": 0
      },
      "text/plain": [
       "  0%|          | 0/2463 [00:00<?, ?it/s]"
      ]
     },
     "metadata": {},
     "output_type": "display_data"
    },
    {
     "data": {
      "application/vnd.jupyter.widget-view+json": {
       "model_id": "4de5a90f9fbb40599c960573b4474733",
       "version_major": 2,
       "version_minor": 0
      },
      "text/plain": [
       "  0%|          | 0/2463 [00:00<?, ?it/s]"
      ]
     },
     "metadata": {},
     "output_type": "display_data"
    }
   ],
   "source": [
    "from itertools import permutations\n",
    "\n",
    "res_dict = dict()\n",
    "conditions = ['human', 'chimp', 'macaque']\n",
    "permut = list(permutations(conditions, 2))\n",
    "\n",
    "for ref_specie, sec_specie in permut:\n",
    "    res_list = []\n",
    "    not_const_genes = results[results[ref_specie] < 0.05].index\n",
    "    for gene in tqdm(not_const_genes.str.replace('-', '')):\n",
    "        subs_index = df_cont[df_cont.condition.isin([ref_specie, sec_specie])].index\n",
    "        df_cont_sub = df_cont.loc[subs_index].copy()\n",
    "        df_cont_sub.condition = df_cont_sub.condition.astype(str)\n",
    "        \n",
    "        formula1 = f'{gene} ~ layer + layer ^ 2 + layer ^ 3'\n",
    "        model1 = ols(formula, data=df_cont_sub).fit()\n",
    "        \n",
    "        formula2 = f'{gene} ~ (layer + layer ^ 2 + layer ^ 3) * condition'\n",
    "        model2 = ols(formula2, data=df_cont_sub).fit()\n",
    "\n",
    "        res_list.append(model2.compare_f_test(model1))\n",
    "    res_dict[f'{ref_specie}-{sec_specie}'] = pd.DataFrame(res_list, columns=['F-score', 'p-value', 'df'], index=not_const_genes)"
   ]
  },
  {
   "cell_type": "code",
   "execution_count": 247,
   "id": "3928710b-5450-4f0e-b95c-38857b3b17fd",
   "metadata": {},
   "outputs": [
    {
     "data": {
      "text/html": [
       "<div>\n",
       "<style scoped>\n",
       "    .dataframe tbody tr th:only-of-type {\n",
       "        vertical-align: middle;\n",
       "    }\n",
       "\n",
       "    .dataframe tbody tr th {\n",
       "        vertical-align: top;\n",
       "    }\n",
       "\n",
       "    .dataframe thead th {\n",
       "        text-align: right;\n",
       "    }\n",
       "</style>\n",
       "<table border=\"1\" class=\"dataframe\">\n",
       "  <thead>\n",
       "    <tr style=\"text-align: right;\">\n",
       "      <th></th>\n",
       "      <th>F-score</th>\n",
       "      <th>p-value</th>\n",
       "      <th>df</th>\n",
       "    </tr>\n",
       "  </thead>\n",
       "  <tbody>\n",
       "    <tr>\n",
       "      <th>ACADSB</th>\n",
       "      <td>9.203278</td>\n",
       "      <td>1.009170e-05</td>\n",
       "      <td>4.0</td>\n",
       "    </tr>\n",
       "    <tr>\n",
       "      <th>ACP2</th>\n",
       "      <td>15.102067</td>\n",
       "      <td>2.658578e-08</td>\n",
       "      <td>4.0</td>\n",
       "    </tr>\n",
       "    <tr>\n",
       "      <th>ACVR2B</th>\n",
       "      <td>5.262293</td>\n",
       "      <td>1.208149e-03</td>\n",
       "      <td>4.0</td>\n",
       "    </tr>\n",
       "    <tr>\n",
       "      <th>ADRB1</th>\n",
       "      <td>8.332296</td>\n",
       "      <td>2.726132e-05</td>\n",
       "      <td>4.0</td>\n",
       "    </tr>\n",
       "    <tr>\n",
       "      <th>AGPS</th>\n",
       "      <td>6.659328</td>\n",
       "      <td>2.031256e-04</td>\n",
       "      <td>4.0</td>\n",
       "    </tr>\n",
       "    <tr>\n",
       "      <th>...</th>\n",
       "      <td>...</td>\n",
       "      <td>...</td>\n",
       "      <td>...</td>\n",
       "    </tr>\n",
       "    <tr>\n",
       "      <th>ZNF584</th>\n",
       "      <td>8.050107</td>\n",
       "      <td>3.789672e-05</td>\n",
       "      <td>4.0</td>\n",
       "    </tr>\n",
       "    <tr>\n",
       "      <th>ZNF696</th>\n",
       "      <td>3.434350</td>\n",
       "      <td>1.436843e-02</td>\n",
       "      <td>4.0</td>\n",
       "    </tr>\n",
       "    <tr>\n",
       "      <th>ZNF708</th>\n",
       "      <td>4.707737</td>\n",
       "      <td>2.519210e-03</td>\n",
       "      <td>4.0</td>\n",
       "    </tr>\n",
       "    <tr>\n",
       "      <th>ZSCAN26</th>\n",
       "      <td>21.694479</td>\n",
       "      <td>1.205125e-10</td>\n",
       "      <td>4.0</td>\n",
       "    </tr>\n",
       "    <tr>\n",
       "      <th>ZSCAN9</th>\n",
       "      <td>5.125378</td>\n",
       "      <td>1.446443e-03</td>\n",
       "      <td>4.0</td>\n",
       "    </tr>\n",
       "  </tbody>\n",
       "</table>\n",
       "<p>182 rows × 3 columns</p>\n",
       "</div>"
      ],
      "text/plain": [
       "           F-score       p-value   df\n",
       "ACADSB    9.203278  1.009170e-05  4.0\n",
       "ACP2     15.102067  2.658578e-08  4.0\n",
       "ACVR2B    5.262293  1.208149e-03  4.0\n",
       "ADRB1     8.332296  2.726132e-05  4.0\n",
       "AGPS      6.659328  2.031256e-04  4.0\n",
       "...            ...           ...  ...\n",
       "ZNF584    8.050107  3.789672e-05  4.0\n",
       "ZNF696    3.434350  1.436843e-02  4.0\n",
       "ZNF708    4.707737  2.519210e-03  4.0\n",
       "ZSCAN26  21.694479  1.205125e-10  4.0\n",
       "ZSCAN9    5.125378  1.446443e-03  4.0\n",
       "\n",
       "[182 rows x 3 columns]"
      ]
     },
     "execution_count": 247,
     "metadata": {},
     "output_type": "execute_result"
    }
   ],
   "source": [
    "res_df = res_dict['human-chimp']\n",
    "res_df[res_df['p-value'] < 0.05]"
   ]
  },
  {
   "cell_type": "code",
   "execution_count": 250,
   "id": "7b94c2b2-2208-418f-ad1d-da7b7df15900",
   "metadata": {},
   "outputs": [
    {
     "data": {
      "text/html": [
       "<div>\n",
       "<style scoped>\n",
       "    .dataframe tbody tr th:only-of-type {\n",
       "        vertical-align: middle;\n",
       "    }\n",
       "\n",
       "    .dataframe tbody tr th {\n",
       "        vertical-align: top;\n",
       "    }\n",
       "\n",
       "    .dataframe thead th {\n",
       "        text-align: right;\n",
       "    }\n",
       "</style>\n",
       "<table border=\"1\" class=\"dataframe\">\n",
       "  <thead>\n",
       "    <tr style=\"text-align: right;\">\n",
       "      <th></th>\n",
       "      <th>F-score</th>\n",
       "      <th>p-value</th>\n",
       "      <th>df</th>\n",
       "    </tr>\n",
       "  </thead>\n",
       "  <tbody>\n",
       "    <tr>\n",
       "      <th>AADAT</th>\n",
       "      <td>11.797851</td>\n",
       "      <td>5.467371e-07</td>\n",
       "      <td>4.0</td>\n",
       "    </tr>\n",
       "    <tr>\n",
       "      <th>ABT1</th>\n",
       "      <td>2.834464</td>\n",
       "      <td>3.291647e-02</td>\n",
       "      <td>4.0</td>\n",
       "    </tr>\n",
       "    <tr>\n",
       "      <th>ACADSB</th>\n",
       "      <td>2.806383</td>\n",
       "      <td>3.425278e-02</td>\n",
       "      <td>4.0</td>\n",
       "    </tr>\n",
       "    <tr>\n",
       "      <th>ACAP1</th>\n",
       "      <td>30.231716</td>\n",
       "      <td>2.583753e-13</td>\n",
       "      <td>4.0</td>\n",
       "    </tr>\n",
       "    <tr>\n",
       "      <th>ACVR2B</th>\n",
       "      <td>24.755808</td>\n",
       "      <td>9.391408e-12</td>\n",
       "      <td>4.0</td>\n",
       "    </tr>\n",
       "    <tr>\n",
       "      <th>...</th>\n",
       "      <td>...</td>\n",
       "      <td>...</td>\n",
       "      <td>...</td>\n",
       "    </tr>\n",
       "    <tr>\n",
       "      <th>ZNF746</th>\n",
       "      <td>27.557931</td>\n",
       "      <td>1.409289e-12</td>\n",
       "      <td>4.0</td>\n",
       "    </tr>\n",
       "    <tr>\n",
       "      <th>ZNF771</th>\n",
       "      <td>3.822281</td>\n",
       "      <td>8.213229e-03</td>\n",
       "      <td>4.0</td>\n",
       "    </tr>\n",
       "    <tr>\n",
       "      <th>ZNF84</th>\n",
       "      <td>9.541596</td>\n",
       "      <td>6.223484e-06</td>\n",
       "      <td>4.0</td>\n",
       "    </tr>\n",
       "    <tr>\n",
       "      <th>ZSCAN9</th>\n",
       "      <td>21.654566</td>\n",
       "      <td>9.017767e-11</td>\n",
       "      <td>4.0</td>\n",
       "    </tr>\n",
       "    <tr>\n",
       "      <th>ZZEF1</th>\n",
       "      <td>17.157737</td>\n",
       "      <td>3.449508e-09</td>\n",
       "      <td>4.0</td>\n",
       "    </tr>\n",
       "  </tbody>\n",
       "</table>\n",
       "<p>579 rows × 3 columns</p>\n",
       "</div>"
      ],
      "text/plain": [
       "          F-score       p-value   df\n",
       "AADAT   11.797851  5.467371e-07  4.0\n",
       "ABT1     2.834464  3.291647e-02  4.0\n",
       "ACADSB   2.806383  3.425278e-02  4.0\n",
       "ACAP1   30.231716  2.583753e-13  4.0\n",
       "ACVR2B  24.755808  9.391408e-12  4.0\n",
       "...           ...           ...  ...\n",
       "ZNF746  27.557931  1.409289e-12  4.0\n",
       "ZNF771   3.822281  8.213229e-03  4.0\n",
       "ZNF84    9.541596  6.223484e-06  4.0\n",
       "ZSCAN9  21.654566  9.017767e-11  4.0\n",
       "ZZEF1   17.157737  3.449508e-09  4.0\n",
       "\n",
       "[579 rows x 3 columns]"
      ]
     },
     "execution_count": 250,
     "metadata": {},
     "output_type": "execute_result"
    }
   ],
   "source": [
    "res_df = res_dict['human-macaque']\n",
    "res_df[res_df['p-value'] < 0.05]"
   ]
  },
  {
   "cell_type": "code",
   "execution_count": null,
   "id": "581a9ea7-fc69-4b27-a362-0809a0872c36",
   "metadata": {},
   "outputs": [],
   "source": []
  },
  {
   "cell_type": "code",
   "execution_count": 155,
   "id": "ad20dda9-a36f-49c0-8e62-b7e400b9285f",
   "metadata": {},
   "outputs": [],
   "source": [
    "gene = 'SST'\n",
    "formula = f'{gene} ~ C(intercept)'\n",
    "subs_index = df[df.condition == 'human'].index\n",
    "model0 = ols(formula, data=df_cont, subset=subs_index).fit()"
   ]
  },
  {
   "cell_type": "code",
   "execution_count": 156,
   "id": "09b0c5e6-0246-47fd-a55f-694367194e68",
   "metadata": {},
   "outputs": [
    {
     "data": {
      "text/html": [
       "<table class=\"simpletable\">\n",
       "<caption>OLS Regression Results</caption>\n",
       "<tr>\n",
       "  <th>Dep. Variable:</th>           <td>SST</td>       <th>  R-squared:         </th> <td>   0.000</td>\n",
       "</tr>\n",
       "<tr>\n",
       "  <th>Model:</th>                   <td>OLS</td>       <th>  Adj. R-squared:    </th> <td>   0.000</td>\n",
       "</tr>\n",
       "<tr>\n",
       "  <th>Method:</th>             <td>Least Squares</td>  <th>  F-statistic:       </th> <td>     nan</td>\n",
       "</tr>\n",
       "<tr>\n",
       "  <th>Date:</th>             <td>Mon, 16 Oct 2023</td> <th>  Prob (F-statistic):</th>  <td>   nan</td> \n",
       "</tr>\n",
       "<tr>\n",
       "  <th>Time:</th>                 <td>22:32:55</td>     <th>  Log-Likelihood:    </th> <td> -7.1910</td>\n",
       "</tr>\n",
       "<tr>\n",
       "  <th>No. Observations:</th>      <td>    35</td>      <th>  AIC:               </th> <td>   16.38</td>\n",
       "</tr>\n",
       "<tr>\n",
       "  <th>Df Residuals:</th>          <td>    34</td>      <th>  BIC:               </th> <td>   17.94</td>\n",
       "</tr>\n",
       "<tr>\n",
       "  <th>Df Model:</th>              <td>     0</td>      <th>                     </th>     <td> </td>   \n",
       "</tr>\n",
       "<tr>\n",
       "  <th>Covariance Type:</th>      <td>nonrobust</td>    <th>                     </th>     <td> </td>   \n",
       "</tr>\n",
       "</table>\n",
       "<table class=\"simpletable\">\n",
       "<tr>\n",
       "      <td></td>         <th>coef</th>     <th>std err</th>      <th>t</th>      <th>P>|t|</th>  <th>[0.025</th>    <th>0.975]</th>  \n",
       "</tr>\n",
       "<tr>\n",
       "  <th>Intercept</th> <td> 5.705e-08</td> <td>    0.051</td> <td> 1.12e-06</td> <td> 1.000</td> <td>   -0.104</td> <td>    0.104</td>\n",
       "</tr>\n",
       "</table>\n",
       "<table class=\"simpletable\">\n",
       "<tr>\n",
       "  <th>Omnibus:</th>       <td> 2.851</td> <th>  Durbin-Watson:     </th> <td>   1.144</td>\n",
       "</tr>\n",
       "<tr>\n",
       "  <th>Prob(Omnibus):</th> <td> 0.240</td> <th>  Jarque-Bera (JB):  </th> <td>   2.505</td>\n",
       "</tr>\n",
       "<tr>\n",
       "  <th>Skew:</th>          <td> 0.640</td> <th>  Prob(JB):          </th> <td>   0.286</td>\n",
       "</tr>\n",
       "<tr>\n",
       "  <th>Kurtosis:</th>      <td> 2.714</td> <th>  Cond. No.          </th> <td>    1.00</td>\n",
       "</tr>\n",
       "</table><br/><br/>Notes:<br/>[1] Standard Errors assume that the covariance matrix of the errors is correctly specified."
      ],
      "text/latex": [
       "\\begin{center}\n",
       "\\begin{tabular}{lclc}\n",
       "\\toprule\n",
       "\\textbf{Dep. Variable:}    &       SST        & \\textbf{  R-squared:         } &     0.000   \\\\\n",
       "\\textbf{Model:}            &       OLS        & \\textbf{  Adj. R-squared:    } &     0.000   \\\\\n",
       "\\textbf{Method:}           &  Least Squares   & \\textbf{  F-statistic:       } &       nan   \\\\\n",
       "\\textbf{Date:}             & Mon, 16 Oct 2023 & \\textbf{  Prob (F-statistic):} &      nan    \\\\\n",
       "\\textbf{Time:}             &     22:32:55     & \\textbf{  Log-Likelihood:    } &   -7.1910   \\\\\n",
       "\\textbf{No. Observations:} &          35      & \\textbf{  AIC:               } &     16.38   \\\\\n",
       "\\textbf{Df Residuals:}     &          34      & \\textbf{  BIC:               } &     17.94   \\\\\n",
       "\\textbf{Df Model:}         &           0      & \\textbf{                     } &             \\\\\n",
       "\\textbf{Covariance Type:}  &    nonrobust     & \\textbf{                     } &             \\\\\n",
       "\\bottomrule\n",
       "\\end{tabular}\n",
       "\\begin{tabular}{lcccccc}\n",
       "                   & \\textbf{coef} & \\textbf{std err} & \\textbf{t} & \\textbf{P$> |$t$|$} & \\textbf{[0.025} & \\textbf{0.975]}  \\\\\n",
       "\\midrule\n",
       "\\textbf{Intercept} &    5.705e-08  &        0.051     &  1.12e-06  &         1.000        &       -0.104    &        0.104     \\\\\n",
       "\\bottomrule\n",
       "\\end{tabular}\n",
       "\\begin{tabular}{lclc}\n",
       "\\textbf{Omnibus:}       &  2.851 & \\textbf{  Durbin-Watson:     } &    1.144  \\\\\n",
       "\\textbf{Prob(Omnibus):} &  0.240 & \\textbf{  Jarque-Bera (JB):  } &    2.505  \\\\\n",
       "\\textbf{Skew:}          &  0.640 & \\textbf{  Prob(JB):          } &    0.286  \\\\\n",
       "\\textbf{Kurtosis:}      &  2.714 & \\textbf{  Cond. No.          } &     1.00  \\\\\n",
       "\\bottomrule\n",
       "\\end{tabular}\n",
       "%\\caption{OLS Regression Results}\n",
       "\\end{center}\n",
       "\n",
       "Notes: \\newline\n",
       " [1] Standard Errors assume that the covariance matrix of the errors is correctly specified."
      ],
      "text/plain": [
       "<class 'statsmodels.iolib.summary.Summary'>\n",
       "\"\"\"\n",
       "                            OLS Regression Results                            \n",
       "==============================================================================\n",
       "Dep. Variable:                    SST   R-squared:                       0.000\n",
       "Model:                            OLS   Adj. R-squared:                  0.000\n",
       "Method:                 Least Squares   F-statistic:                       nan\n",
       "Date:                Mon, 16 Oct 2023   Prob (F-statistic):                nan\n",
       "Time:                        22:32:55   Log-Likelihood:                -7.1910\n",
       "No. Observations:                  35   AIC:                             16.38\n",
       "Df Residuals:                      34   BIC:                             17.94\n",
       "Df Model:                           0                                         \n",
       "Covariance Type:            nonrobust                                         \n",
       "==============================================================================\n",
       "                 coef    std err          t      P>|t|      [0.025      0.975]\n",
       "------------------------------------------------------------------------------\n",
       "Intercept   5.705e-08      0.051   1.12e-06      1.000      -0.104       0.104\n",
       "==============================================================================\n",
       "Omnibus:                        2.851   Durbin-Watson:                   1.144\n",
       "Prob(Omnibus):                  0.240   Jarque-Bera (JB):                2.505\n",
       "Skew:                           0.640   Prob(JB):                        0.286\n",
       "Kurtosis:                       2.714   Cond. No.                         1.00\n",
       "==============================================================================\n",
       "\n",
       "Notes:\n",
       "[1] Standard Errors assume that the covariance matrix of the errors is correctly specified.\n",
       "\"\"\""
      ]
     },
     "execution_count": 156,
     "metadata": {},
     "output_type": "execute_result"
    }
   ],
   "source": [
    "model0.summary()"
   ]
  },
  {
   "cell_type": "code",
   "execution_count": null,
   "id": "2d61f038-be99-4d71-86f8-8de3fb7b3da0",
   "metadata": {},
   "outputs": [],
   "source": [
    "gene = 'SST'\n",
    "formula = f'{gene} ~ layer'\n",
    "subs_index = df_cont[df_cont.condition == 'human'].index\n",
    "model = ols(formula, data=df_cont, subset=subs_index).fit()"
   ]
  },
  {
   "cell_type": "code",
   "execution_count": 170,
   "id": "8dbf9550-3ddb-49e0-9bb1-8d010b947243",
   "metadata": {},
   "outputs": [
    {
     "data": {
      "text/plain": [
       "0.04935424319597585"
      ]
     },
     "execution_count": 170,
     "metadata": {},
     "output_type": "execute_result"
    }
   ],
   "source": [
    "model.f_pvalue"
   ]
  },
  {
   "cell_type": "code",
   "execution_count": 182,
   "id": "f28baffc-fd26-4888-9eac-f934459f9961",
   "metadata": {},
   "outputs": [],
   "source": [
    "df_cont.columns = df_cont.columns.str.replace('.', '')"
   ]
  },
  {
   "cell_type": "code",
   "execution_count": 188,
   "id": "6d33efdf-894a-4469-a6dc-386bede78cf3",
   "metadata": {},
   "outputs": [
    {
     "data": {
      "application/vnd.jupyter.widget-view+json": {
       "model_id": "943eff83cf7e4453aa33ba353d177833",
       "version_major": 2,
       "version_minor": 0
      },
      "text/plain": [
       "  0%|          | 0/9208 [00:00<?, ?it/s]"
      ]
     },
     "metadata": {},
     "output_type": "display_data"
    },
    {
     "name": "stderr",
     "output_type": "stream",
     "text": [
      "D:\\Projects\\spatialMPFC\\venv\\lib\\site-packages\\statsmodels\\regression\\linear_model.py:1870: RuntimeWarning: invalid value encountered in double_scalars\n",
      "  return self.mse_model/self.mse_resid\n",
      "D:\\Projects\\spatialMPFC\\venv\\lib\\site-packages\\statsmodels\\regression\\linear_model.py:1870: RuntimeWarning: invalid value encountered in double_scalars\n",
      "  return self.mse_model/self.mse_resid\n",
      "D:\\Projects\\spatialMPFC\\venv\\lib\\site-packages\\statsmodels\\regression\\linear_model.py:1870: RuntimeWarning: invalid value encountered in double_scalars\n",
      "  return self.mse_model/self.mse_resid\n",
      "D:\\Projects\\spatialMPFC\\venv\\lib\\site-packages\\statsmodels\\regression\\linear_model.py:1870: RuntimeWarning: invalid value encountered in double_scalars\n",
      "  return self.mse_model/self.mse_resid\n"
     ]
    }
   ],
   "source": [
    "p_val_list = []\n",
    "for gene in tqdm(df_cont.columns[:-3]):\n",
    "    formula = f'{gene} ~ layer + layer ^ 2 + layer ^ 3'\n",
    "    subs_index = df_cont[df_cont.condition == 'human'].index\n",
    "    model = ols(formula, data=df_cont, subset=subs_index).fit()\n",
    "    p_val_list.append(model.f_pvalue)"
   ]
  },
  {
   "cell_type": "code",
   "execution_count": 189,
   "id": "5dc4465d-420e-460b-97a8-c96c360ab291",
   "metadata": {},
   "outputs": [
    {
     "data": {
      "text/plain": [
       "A1BG      0.347004\n",
       "AAAS      0.552055\n",
       "AAGAB     0.731575\n",
       "AAMDC     0.217338\n",
       "AAMP      0.762617\n",
       "            ...   \n",
       "ZSWIM7    0.068975\n",
       "ZSWIM8    0.267062\n",
       "ZUP1      0.196775\n",
       "ZWILCH    0.062732\n",
       "ZZZ3      0.329154\n",
       "Length: 5793, dtype: float64"
      ]
     },
     "execution_count": 189,
     "metadata": {},
     "output_type": "execute_result"
    }
   ],
   "source": [
    "pval_ser = pd.Series(p_val_list, index=df_cont.columns[:-3])\n",
    "pval_ser[pval_ser > 0.05]"
   ]
  },
  {
   "cell_type": "code",
   "execution_count": 191,
   "id": "bf8aaf55-c113-4fe8-abd8-84b7d8136f34",
   "metadata": {},
   "outputs": [
    {
     "data": {
      "text/plain": [
       "(1217.8182043038387, 3.115342411705299e-32, 3.0)"
      ]
     },
     "execution_count": 191,
     "metadata": {},
     "output_type": "execute_result"
    }
   ],
   "source": [
    "model.compare_f_test(model0)"
   ]
  },
  {
   "cell_type": "code",
   "execution_count": 192,
   "id": "313c708a-724a-452c-89eb-eddd481913a4",
   "metadata": {},
   "outputs": [],
   "source": [
    "gene = 'SST'\n",
    "formula = f'{gene} ~ layer'\n",
    "subs_index = df_cont[df_cont.condition == 'human'].index\n",
    "model1 = ols(formula, data=df_cont, subset=subs_index).fit()"
   ]
  },
  {
   "cell_type": "code",
   "execution_count": 194,
   "id": "b7ab6af3-582b-4f34-bbba-9188d5dca71b",
   "metadata": {},
   "outputs": [],
   "source": [
    "gene = 'CCK'\n",
    "formula = f'{gene} ~ layer'\n",
    "subs_index = df_cont[df_cont.condition == 'human'].index\n",
    "model2 = ols(formula, data=df_cont, subset=subs_index).fit()"
   ]
  },
  {
   "cell_type": "code",
   "execution_count": 197,
   "id": "f19a76c5-6626-4486-8762-c231a462426c",
   "metadata": {},
   "outputs": [
    {
     "data": {
      "text/plain": [
       "<class 'statsmodels.stats.contrast.ContrastResults'>\n",
       "<F test: F=50.640950179860326, p=3.768421472488644e-08, df_denom=33, df_num=1>"
      ]
     },
     "execution_count": 197,
     "metadata": {},
     "output_type": "execute_result"
    }
   ],
   "source": [
    "model2.f_test(model1.params)"
   ]
  },
  {
   "cell_type": "code",
   "execution_count": 196,
   "id": "deea330d-2860-46c4-944c-64ee72a5f720",
   "metadata": {},
   "outputs": [
    {
     "data": {
      "text/plain": [
       "<class 'statsmodels.stats.contrast.ContrastResults'>\n",
       "<F test: F=3.4091927801886013, p=0.07381966629107715, df_denom=33, df_num=1>"
      ]
     },
     "execution_count": 196,
     "metadata": {},
     "output_type": "execute_result"
    }
   ],
   "source": [
    "model1.f_test(model2.params)"
   ]
  },
  {
   "cell_type": "code",
   "execution_count": 198,
   "id": "33df9387-cfaf-4018-ac7b-f53445284d80",
   "metadata": {},
   "outputs": [
    {
     "data": {
      "text/plain": [
       "<Axes: xlabel='layer'>"
      ]
     },
     "execution_count": 198,
     "metadata": {},
     "output_type": "execute_result"
    },
    {
     "data": {
      "image/png": "[encoded data removed]",
      "text/plain": [
       "<Figure size 320x320 with 1 Axes>"
      ]
     },
     "metadata": {
      "image/png": {
       "height": 300,
       "width": 304
      }
     },
     "output_type": "display_data"
    }
   ],
   "source": [
    "df_cont.loc[subs_index].groupby('layer')['SST'].mean().plot()\n",
    "df_cont.loc[subs_index].groupby('layer')['CCK'].mean().plot()"
   ]
  }
 ],
 "metadata": {
  "kernelspec": {
   "display_name": "Python 3 (ipykernel)",
   "language": "python",
   "name": "python3"
  },
  "language_info": {
   "codemirror_mode": {
    "name": "ipython",
    "version": 3
   },
   "file_extension": ".py",
   "mimetype": "text/x-python",
   "name": "python",
   "nbconvert_exporter": "python",
   "pygments_lexer": "ipython3",
   "version": "3.10.11"
  }
 },
 "nbformat": 4,
 "nbformat_minor": 5
}
