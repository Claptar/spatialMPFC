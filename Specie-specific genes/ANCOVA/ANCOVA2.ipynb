{
 "cells": [
  {
   "cell_type": "code",
   "execution_count": 1,
   "id": "819eb0aa-60f8-449c-aa7b-0b7a1d45954b",
   "metadata": {},
   "outputs": [],
   "source": [
    "import warnings\n",
    "import scanpy as sc\n",
    "import anndata as an\n",
    "import pandas as pd\n",
    "import numpy as np\n",
    "import matplotlib as mpl\n",
    "import matplotlib.pyplot as plt\n",
    "import seaborn as sns\n",
    "from urllib import request\n",
    "import json\n",
    "import os\n",
    "from tqdm.notebook import tqdm\n",
    "\n",
    "import statsmodels.api as sm\n",
    "from statsmodels.formula.api import ols\n",
    "from tqdm.notebook import tqdm\n",
    "from statsmodels.stats.multitest import multipletests\n",
    "\n",
    "sc.settings.set_figure_params(dpi=80)\n",
    "#sc.set_figure_params(facecolor=\"white\", figsize=(8, 8))\n",
    "warnings.simplefilter(action='ignore', category=FutureWarning)\n",
    "sc.settings.verbosity = 3"
   ]
  },
  {
   "cell_type": "markdown",
   "id": "006d2874-afab-4c04-8552-34989cccf57d",
   "metadata": {
    "id": "AAvYvli71MwA"
   },
   "source": [
    "# Global variables"
   ]
  },
  {
   "cell_type": "code",
   "execution_count": 2,
   "id": "5d15ec78-d10c-443a-abeb-754a91a26b4e",
   "metadata": {
    "id": "c4f4126f"
   },
   "outputs": [],
   "source": [
    "de_dir_path = '../../data/DE/ANOVA_mean/'"
   ]
  },
  {
   "cell_type": "code",
   "execution_count": 3,
   "id": "63b4a96e-8e9e-4e36-8c56-52d11a6fdd6f",
   "metadata": {},
   "outputs": [],
   "source": [
    "layers = ['L1', 'L2', 'L3', 'L4', 'L5', \"L6\", 'WM']"
   ]
  },
  {
   "cell_type": "code",
   "execution_count": 4,
   "id": "850dbbea-68f9-48b7-a3a2-944607ddea2d",
   "metadata": {
    "colab": {
     "base_uri": "https://localhost:8080/"
    },
    "id": "4223c5ff",
    "outputId": "ad670861-e545-419f-b759-280820848391"
   },
   "outputs": [
    {
     "data": {
      "text/plain": [
       "['anova_mamm_mean.csv',\n",
       " 'cluster_spectr_anova_mean_6.csv',\n",
       " 'cluster_spectr_anova_mean_7.csv',\n",
       " 'cluster_spectr_anova_mean_8.csv',\n",
       " 'cluster_spectr_anova_mean_9.csv',\n",
       " 'ttest_mamm_mean.csv']"
      ]
     },
     "execution_count": 4,
     "metadata": {},
     "output_type": "execute_result"
    }
   ],
   "source": [
    "os.listdir(de_dir_path)"
   ]
  },
  {
   "cell_type": "markdown",
   "id": "27666551-ccd2-45a9-9d03-9d9cd9f23cb1",
   "metadata": {},
   "source": [
    "## Load files"
   ]
  },
  {
   "cell_type": "markdown",
   "id": "5ad25d80-6748-4443-acb4-3581a8381cdc",
   "metadata": {
    "id": "22169059"
   },
   "source": [
    "### DE results"
   ]
  },
  {
   "cell_type": "code",
   "execution_count": 5,
   "id": "fffc3368-1063-42db-b3d0-32709a7b5d41",
   "metadata": {
    "colab": {
     "base_uri": "https://localhost:8080/",
     "height": 206
    },
    "id": "ehsiAIF8D61S",
    "outputId": "e0e5605e-4158-412b-eae7-332d6a6a1f97"
   },
   "outputs": [
    {
     "data": {
      "text/html": [
       "<div>\n",
       "<style scoped>\n",
       "    .dataframe tbody tr th:only-of-type {\n",
       "        vertical-align: middle;\n",
       "    }\n",
       "\n",
       "    .dataframe tbody tr th {\n",
       "        vertical-align: top;\n",
       "    }\n",
       "\n",
       "    .dataframe thead th {\n",
       "        text-align: right;\n",
       "    }\n",
       "</style>\n",
       "<table border=\"1\" class=\"dataframe\">\n",
       "  <thead>\n",
       "    <tr style=\"text-align: right;\">\n",
       "      <th></th>\n",
       "      <th>sum_sq</th>\n",
       "      <th>df</th>\n",
       "      <th>F</th>\n",
       "      <th>PR(&gt;F)</th>\n",
       "      <th>p_val_adj</th>\n",
       "    </tr>\n",
       "  </thead>\n",
       "  <tbody>\n",
       "    <tr>\n",
       "      <th>A1BG</th>\n",
       "      <td>0.122578</td>\n",
       "      <td>12.0</td>\n",
       "      <td>2.796490</td>\n",
       "      <td>0.003701</td>\n",
       "      <td>0.010364</td>\n",
       "    </tr>\n",
       "    <tr>\n",
       "      <th>AAAS</th>\n",
       "      <td>0.017527</td>\n",
       "      <td>12.0</td>\n",
       "      <td>0.944161</td>\n",
       "      <td>0.509517</td>\n",
       "      <td>0.596369</td>\n",
       "    </tr>\n",
       "    <tr>\n",
       "      <th>AACS</th>\n",
       "      <td>0.136394</td>\n",
       "      <td>12.0</td>\n",
       "      <td>2.729393</td>\n",
       "      <td>0.004508</td>\n",
       "      <td>0.012212</td>\n",
       "    </tr>\n",
       "    <tr>\n",
       "      <th>AADAT</th>\n",
       "      <td>0.057031</td>\n",
       "      <td>12.0</td>\n",
       "      <td>5.478881</td>\n",
       "      <td>0.000002</td>\n",
       "      <td>0.000016</td>\n",
       "    </tr>\n",
       "    <tr>\n",
       "      <th>AAGAB</th>\n",
       "      <td>0.043359</td>\n",
       "      <td>12.0</td>\n",
       "      <td>2.127609</td>\n",
       "      <td>0.026045</td>\n",
       "      <td>0.053640</td>\n",
       "    </tr>\n",
       "  </tbody>\n",
       "</table>\n",
       "</div>"
      ],
      "text/plain": [
       "         sum_sq    df         F    PR(>F)  p_val_adj\n",
       "A1BG   0.122578  12.0  2.796490  0.003701   0.010364\n",
       "AAAS   0.017527  12.0  0.944161  0.509517   0.596369\n",
       "AACS   0.136394  12.0  2.729393  0.004508   0.012212\n",
       "AADAT  0.057031  12.0  5.478881  0.000002   0.000016\n",
       "AAGAB  0.043359  12.0  2.127609  0.026045   0.053640"
      ]
     },
     "execution_count": 5,
     "metadata": {},
     "output_type": "execute_result"
    }
   ],
   "source": [
    "anova_res = pd.read_csv(de_dir_path + 'anova_mamm_mean.csv', index_col=0)\n",
    "anova_genes = anova_res[anova_res.p_val_adj < 0.05].index\n",
    "anova_res.head()"
   ]
  },
  {
   "cell_type": "code",
   "execution_count": 6,
   "id": "d3045dd9-40c5-4dc6-918b-d07d14a81ab6",
   "metadata": {},
   "outputs": [],
   "source": [
    "n_clusters = 7\n",
    "anova_labels = pd.read_csv(de_dir_path + f'cluster_spectr_anova_mean_{n_clusters}.csv', index_col=0)['0'].sort_values()\n",
    "anova_labels = anova_labels\n",
    "anova_labels.name = 'ANOVA_labels'"
   ]
  },
  {
   "cell_type": "markdown",
   "id": "a703d115-a67c-4870-aa08-e3b3d3e886d1",
   "metadata": {
    "id": "yQ7JjvscKLd4"
   },
   "source": [
    "## Load normalized pseudobulks"
   ]
  },
  {
   "cell_type": "code",
   "execution_count": 7,
   "id": "2fbd5d4d-3056-48de-85ba-9d47bf5a9f33",
   "metadata": {
    "id": "685kKTuvKfog"
   },
   "outputs": [],
   "source": [
    "pb_dir_path = './results/'"
   ]
  },
  {
   "cell_type": "code",
   "execution_count": 8,
   "id": "3604a101-7265-4af6-b5c6-69f478d5a6d1",
   "metadata": {
    "colab": {
     "base_uri": "https://localhost:8080/"
    },
    "id": "PlB6qD1yKfoh",
    "outputId": "fd8823fa-4561-4142-c946-aa0d778b4728"
   },
   "outputs": [
    {
     "data": {
      "text/plain": [
       "['.ipynb_checkpoints',\n",
       " 'ancova_res.pkl',\n",
       " 'chimp_clusters_28.csv',\n",
       " 'chimp_clusters_50.csv',\n",
       " 'chimp_clusters_77.csv',\n",
       " 'gene_selection_df.csv',\n",
       " 'hs_anova_inter_clusters.csv',\n",
       " 'hs_layers.csv',\n",
       " 'hs_prof.csv',\n",
       " 'hs_prof_anova.csv',\n",
       " 'hs_ttest_inter_clusters.csv',\n",
       " 'human_clusters_28.csv',\n",
       " 'human_clusters_50.csv',\n",
       " 'human_clusters_67.csv',\n",
       " 'human_clusters_77.csv',\n",
       " 'human_clusters_ancova.csv',\n",
       " 'hum_spec_onehot.csv',\n",
       " 'l1_distances.pkl',\n",
       " 'macaque_clusters_28.csv',\n",
       " 'macaque_clusters_77.csv',\n",
       " 'mean_norm_clust_allgenes.csv',\n",
       " 'optimal_model_res.pkl',\n",
       " 'pb_mammals_samplenorm_mean_filtered.h5ad',\n",
       " 'specie_specific_genes_tr28.pkl',\n",
       " 'specie_specific_genes_tr35.pkl',\n",
       " 'specie_specific_genes_tr50.pkl',\n",
       " 'specie_specific_genes_tr67.pkl',\n",
       " 'specie_specific_genes_tr77.pkl',\n",
       " 'zscore_norm_clust_allgenes.csv']"
      ]
     },
     "execution_count": 8,
     "metadata": {},
     "output_type": "execute_result"
    }
   ],
   "source": [
    "os.listdir(pb_dir_path)"
   ]
  },
  {
   "cell_type": "code",
   "execution_count": 9,
   "id": "b029cd09-4aa5-47dd-8c8e-f679b1c59bd4",
   "metadata": {},
   "outputs": [
    {
     "data": {
      "text/plain": [
       "AnnData object with n_obs × n_vars = 89 × 5390\n",
       "    obs: 'layer', 'sample_id', 'psbulk_n_cells', 'psbulk_counts', 'condition', 'lib_size', 'log_lib_size'\n",
       "    var: 'feature_types', 'mt', 'hb', 'ribo'\n",
       "    uns: 'log1p', 'pca'\n",
       "    obsm: 'X_pca'\n",
       "    varm: 'PCs'\n",
       "    layers: 'psbulk_props'"
      ]
     },
     "execution_count": 9,
     "metadata": {},
     "output_type": "execute_result"
    }
   ],
   "source": [
    "adata_pb_norm = sc.read_h5ad(pb_dir_path + 'pb_mammals_samplenorm_mean_filtered.h5ad')\n",
    "#adata_pb_norm_mean.var = anova_res\n",
    "adata_pb_norm"
   ]
  },
  {
   "cell_type": "code",
   "execution_count": 10,
   "id": "c07e81c2-5cf8-4bb3-bd19-2aee4bd10072",
   "metadata": {},
   "outputs": [
    {
     "data": {
      "text/plain": [
       "5390"
      ]
     },
     "execution_count": 10,
     "metadata": {},
     "output_type": "execute_result"
    }
   ],
   "source": [
    "background_genes = adata_pb_norm.var_names.tolist()\n",
    "len(background_genes)"
   ]
  },
  {
   "cell_type": "markdown",
   "id": "f28865ff-bf45-418f-952a-ca2dc81b0a46",
   "metadata": {},
   "source": [
    "### Create dataframe"
   ]
  },
  {
   "cell_type": "code",
   "execution_count": 11,
   "id": "f82ac5e3-4502-4de3-a5ba-e90c17311f42",
   "metadata": {},
   "outputs": [],
   "source": [
    "df = pd.DataFrame(adata_pb_norm.X, index=adata_pb_norm.obs_names, columns=adata_pb_norm.var_names)"
   ]
  },
  {
   "cell_type": "code",
   "execution_count": 12,
   "id": "a351c47a-c506-48f2-b7a0-d351957188b8",
   "metadata": {},
   "outputs": [],
   "source": [
    "sample_order = dict()\n",
    "for cond in ['human', 'chimp', 'macaque']:\n",
    "    samples = df.loc[df.index.str.contains(cond)].index\n",
    "    order = sorted(samples.tolist(), key=lambda x: x[-2:])\n",
    "    order_laminar = list(filter(lambda x: 'L' in x, order))\n",
    "    order_wm = list(filter(lambda x: 'WM' in x, order))\n",
    "    sample_order[cond] = order_wm + order_laminar\n",
    "sample_order['all'] = sample_order['human'] + sample_order['chimp'] + sample_order['macaque']\n",
    "df = df.loc[sample_order['all']]"
   ]
  },
  {
   "cell_type": "code",
   "execution_count": 13,
   "id": "35a6294b-2e8d-409a-9bf2-d1eb1d391b5d",
   "metadata": {},
   "outputs": [
    {
     "data": {
      "text/html": [
       "<div>\n",
       "<style scoped>\n",
       "    .dataframe tbody tr th:only-of-type {\n",
       "        vertical-align: middle;\n",
       "    }\n",
       "\n",
       "    .dataframe tbody tr th {\n",
       "        vertical-align: top;\n",
       "    }\n",
       "\n",
       "    .dataframe thead th {\n",
       "        text-align: right;\n",
       "    }\n",
       "</style>\n",
       "<table border=\"1\" class=\"dataframe\">\n",
       "  <thead>\n",
       "    <tr style=\"text-align: right;\">\n",
       "      <th></th>\n",
       "      <th>AACS</th>\n",
       "      <th>AAGAB</th>\n",
       "      <th>AAK1</th>\n",
       "      <th>AAMP</th>\n",
       "      <th>AAR2</th>\n",
       "      <th>AARS1</th>\n",
       "      <th>AARS2</th>\n",
       "      <th>AASDH</th>\n",
       "      <th>AASDHPPT</th>\n",
       "      <th>AATF</th>\n",
       "      <th>...</th>\n",
       "      <th>ZNFX1</th>\n",
       "      <th>ZNHIT3</th>\n",
       "      <th>ZNRD2</th>\n",
       "      <th>ZNRF1</th>\n",
       "      <th>ZPR1</th>\n",
       "      <th>ZRANB2</th>\n",
       "      <th>ZSCAN18</th>\n",
       "      <th>ZSCAN21</th>\n",
       "      <th>ZUP1</th>\n",
       "      <th>ZZZ3</th>\n",
       "    </tr>\n",
       "  </thead>\n",
       "  <tbody>\n",
       "    <tr>\n",
       "      <th>human_759_WM</th>\n",
       "      <td>0.041268</td>\n",
       "      <td>0.025707</td>\n",
       "      <td>-0.072019</td>\n",
       "      <td>0.051644</td>\n",
       "      <td>-0.040637</td>\n",
       "      <td>0.007453</td>\n",
       "      <td>-0.047439</td>\n",
       "      <td>0.013681</td>\n",
       "      <td>-0.112373</td>\n",
       "      <td>-0.027305</td>\n",
       "      <td>...</td>\n",
       "      <td>0.002537</td>\n",
       "      <td>-0.145321</td>\n",
       "      <td>-0.012920</td>\n",
       "      <td>-0.019393</td>\n",
       "      <td>0.010821</td>\n",
       "      <td>0.002873</td>\n",
       "      <td>0.018861</td>\n",
       "      <td>0.032487</td>\n",
       "      <td>-0.083505</td>\n",
       "      <td>-0.040384</td>\n",
       "    </tr>\n",
       "    <tr>\n",
       "      <th>human_j12_WM</th>\n",
       "      <td>0.025153</td>\n",
       "      <td>-0.044543</td>\n",
       "      <td>0.001885</td>\n",
       "      <td>0.044115</td>\n",
       "      <td>-0.005605</td>\n",
       "      <td>0.064853</td>\n",
       "      <td>-0.020012</td>\n",
       "      <td>0.036537</td>\n",
       "      <td>-0.247531</td>\n",
       "      <td>0.059761</td>\n",
       "      <td>...</td>\n",
       "      <td>0.029141</td>\n",
       "      <td>-0.053724</td>\n",
       "      <td>0.029411</td>\n",
       "      <td>-0.080373</td>\n",
       "      <td>-0.068238</td>\n",
       "      <td>-0.011533</td>\n",
       "      <td>-0.072855</td>\n",
       "      <td>-0.043932</td>\n",
       "      <td>-0.005179</td>\n",
       "      <td>0.055280</td>\n",
       "    </tr>\n",
       "    <tr>\n",
       "      <th>human_j3_WM</th>\n",
       "      <td>-0.028083</td>\n",
       "      <td>-0.011412</td>\n",
       "      <td>0.121080</td>\n",
       "      <td>-0.036493</td>\n",
       "      <td>-0.043526</td>\n",
       "      <td>-0.017252</td>\n",
       "      <td>-0.003079</td>\n",
       "      <td>0.047993</td>\n",
       "      <td>-0.150683</td>\n",
       "      <td>0.065300</td>\n",
       "      <td>...</td>\n",
       "      <td>0.026583</td>\n",
       "      <td>-0.017077</td>\n",
       "      <td>0.022215</td>\n",
       "      <td>-0.106516</td>\n",
       "      <td>0.025459</td>\n",
       "      <td>0.008847</td>\n",
       "      <td>-0.013096</td>\n",
       "      <td>-0.029365</td>\n",
       "      <td>0.055279</td>\n",
       "      <td>0.020677</td>\n",
       "    </tr>\n",
       "    <tr>\n",
       "      <th>human_j4_WM</th>\n",
       "      <td>-0.020194</td>\n",
       "      <td>-0.054054</td>\n",
       "      <td>0.040012</td>\n",
       "      <td>-0.023853</td>\n",
       "      <td>0.081220</td>\n",
       "      <td>0.055494</td>\n",
       "      <td>-0.012639</td>\n",
       "      <td>-0.001961</td>\n",
       "      <td>-0.177060</td>\n",
       "      <td>0.061381</td>\n",
       "      <td>...</td>\n",
       "      <td>0.055548</td>\n",
       "      <td>-0.082023</td>\n",
       "      <td>0.017378</td>\n",
       "      <td>-0.073447</td>\n",
       "      <td>0.030231</td>\n",
       "      <td>-0.000191</td>\n",
       "      <td>-0.116543</td>\n",
       "      <td>-0.023978</td>\n",
       "      <td>0.012403</td>\n",
       "      <td>0.078987</td>\n",
       "    </tr>\n",
       "    <tr>\n",
       "      <th>human_j6_WM</th>\n",
       "      <td>0.004524</td>\n",
       "      <td>0.010688</td>\n",
       "      <td>0.078731</td>\n",
       "      <td>0.049893</td>\n",
       "      <td>-0.014778</td>\n",
       "      <td>-0.074468</td>\n",
       "      <td>-0.035236</td>\n",
       "      <td>-0.024390</td>\n",
       "      <td>0.091938</td>\n",
       "      <td>0.022454</td>\n",
       "      <td>...</td>\n",
       "      <td>-0.049726</td>\n",
       "      <td>-0.146974</td>\n",
       "      <td>0.022209</td>\n",
       "      <td>0.003881</td>\n",
       "      <td>0.070576</td>\n",
       "      <td>0.027428</td>\n",
       "      <td>-0.033470</td>\n",
       "      <td>-0.019749</td>\n",
       "      <td>0.130150</td>\n",
       "      <td>0.027191</td>\n",
       "    </tr>\n",
       "  </tbody>\n",
       "</table>\n",
       "<p>5 rows × 5390 columns</p>\n",
       "</div>"
      ],
      "text/plain": [
       "                  AACS     AAGAB      AAK1      AAMP      AAR2     AARS1  \\\n",
       "human_759_WM  0.041268  0.025707 -0.072019  0.051644 -0.040637  0.007453   \n",
       "human_j12_WM  0.025153 -0.044543  0.001885  0.044115 -0.005605  0.064853   \n",
       "human_j3_WM  -0.028083 -0.011412  0.121080 -0.036493 -0.043526 -0.017252   \n",
       "human_j4_WM  -0.020194 -0.054054  0.040012 -0.023853  0.081220  0.055494   \n",
       "human_j6_WM   0.004524  0.010688  0.078731  0.049893 -0.014778 -0.074468   \n",
       "\n",
       "                 AARS2     AASDH  AASDHPPT      AATF  ...     ZNFX1    ZNHIT3  \\\n",
       "human_759_WM -0.047439  0.013681 -0.112373 -0.027305  ...  0.002537 -0.145321   \n",
       "human_j12_WM -0.020012  0.036537 -0.247531  0.059761  ...  0.029141 -0.053724   \n",
       "human_j3_WM  -0.003079  0.047993 -0.150683  0.065300  ...  0.026583 -0.017077   \n",
       "human_j4_WM  -0.012639 -0.001961 -0.177060  0.061381  ...  0.055548 -0.082023   \n",
       "human_j6_WM  -0.035236 -0.024390  0.091938  0.022454  ... -0.049726 -0.146974   \n",
       "\n",
       "                 ZNRD2     ZNRF1      ZPR1    ZRANB2   ZSCAN18   ZSCAN21  \\\n",
       "human_759_WM -0.012920 -0.019393  0.010821  0.002873  0.018861  0.032487   \n",
       "human_j12_WM  0.029411 -0.080373 -0.068238 -0.011533 -0.072855 -0.043932   \n",
       "human_j3_WM   0.022215 -0.106516  0.025459  0.008847 -0.013096 -0.029365   \n",
       "human_j4_WM   0.017378 -0.073447  0.030231 -0.000191 -0.116543 -0.023978   \n",
       "human_j6_WM   0.022209  0.003881  0.070576  0.027428 -0.033470 -0.019749   \n",
       "\n",
       "                  ZUP1      ZZZ3  \n",
       "human_759_WM -0.083505 -0.040384  \n",
       "human_j12_WM -0.005179  0.055280  \n",
       "human_j3_WM   0.055279  0.020677  \n",
       "human_j4_WM   0.012403  0.078987  \n",
       "human_j6_WM   0.130150  0.027191  \n",
       "\n",
       "[5 rows x 5390 columns]"
      ]
     },
     "execution_count": 13,
     "metadata": {},
     "output_type": "execute_result"
    }
   ],
   "source": [
    "df.head()"
   ]
  },
  {
   "cell_type": "markdown",
   "id": "b60854f7-8e0a-419d-b499-a40529196252",
   "metadata": {},
   "source": [
    "### Fit the spline"
   ]
  },
  {
   "cell_type": "code",
   "execution_count": 14,
   "id": "1e07d1ec-5289-40dd-a0a8-104b39fb34bb",
   "metadata": {},
   "outputs": [],
   "source": [
    "df_cont = df.copy()\n",
    "df_cont['condition'] = adata_pb_norm.obs.condition\n",
    "df_cont['layer'] = adata_pb_norm.obs.layer\n",
    "df_cont['layer'] = df_cont.layer.map(dict(zip(sorted(df_cont.layer.unique()), range(1, 8)))).astype(int)\n",
    "#df_cont['intercept'] = 1"
   ]
  },
  {
   "cell_type": "code",
   "execution_count": 15,
   "id": "39892d4b-bddd-4279-8e20-151f3dea82d5",
   "metadata": {},
   "outputs": [],
   "source": [
    "#df_cont.columns = df_cont.columns.str.replace('-', '')"
   ]
  },
  {
   "cell_type": "code",
   "execution_count": 16,
   "id": "66f5c95a-d72f-4a02-a5db-b80d7f59c070",
   "metadata": {},
   "outputs": [],
   "source": [
    "import numpy as np\n",
    "np.random.seed(1234)\n",
    "n = 200\n",
    "def func(x):\n",
    "   return x**3 + x**2 * np.sin(4 * x)\n",
    "x = np.sort(np.random.random_sample(n) * 4 - 2)\n",
    "y = func(x) + np.random.normal(scale=1.5, size=n)"
   ]
  },
  {
   "cell_type": "code",
   "execution_count": 17,
   "id": "83cb91cd-acf8-4e95-976d-3a9d7ebcb7df",
   "metadata": {},
   "outputs": [],
   "source": [
    "from scipy.interpolate import make_smoothing_spline, BSpline\n",
    "spl = make_smoothing_spline(x, y)"
   ]
  },
  {
   "cell_type": "code",
   "execution_count": 18,
   "id": "178a685d-83b4-4924-bf7e-29f645d8aef7",
   "metadata": {},
   "outputs": [
    {
     "data": {
      "image/png": "[encoded data removed]",
      "text/plain": [
       "<Figure size 320x320 with 1 Axes>"
      ]
     },
     "metadata": {
      "image/png": {
       "height": 281,
       "width": 299
      }
     },
     "output_type": "display_data"
    }
   ],
   "source": [
    "grid = np.linspace(x[0], x[-1], 400)\n",
    "plt.plot(grid, spl(grid), label='Spline')\n",
    "plt.plot(grid, func(grid), label='Original function')\n",
    "plt.scatter(x, y, marker='.')\n",
    "plt.legend(loc='best')\n",
    "plt.show()"
   ]
  },
  {
   "cell_type": "code",
   "execution_count": 19,
   "id": "3224fc92-173c-48d2-bda6-da62c3f9f39c",
   "metadata": {},
   "outputs": [],
   "source": [
    "from scipy.interpolate import UnivariateSpline\n",
    "gene = 'AAR2'\n",
    "subs_index = df_cont[df_cont.condition == 'human'].index\n",
    "targ_dataset = df_cont.loc[subs_index].copy().sort_values(by='layer')\n",
    "x = targ_dataset['layer'].values\n",
    "y = targ_dataset[gene].values\n",
    "spl = UnivariateSpline(x, y, k=3)\n",
    "\n",
    "#model = ols(formula, data=df_cont, subset=subs_index).fit()\n",
    "#model_list.append([formula_index, model.f_pvalue])"
   ]
  },
  {
   "cell_type": "code",
   "execution_count": 20,
   "id": "824b0b9d-0c15-4e95-b2fb-f362c955113d",
   "metadata": {},
   "outputs": [],
   "source": [
    "layer_mean = (\n",
    "    targ_dataset\n",
    "    .drop('condition', axis=1)\n",
    "    .groupby('layer')\n",
    "    .mean()[gene]\n",
    ")"
   ]
  },
  {
   "cell_type": "code",
   "execution_count": 21,
   "id": "67d13b84-52c1-4342-a26e-4ebbe47887b0",
   "metadata": {},
   "outputs": [
    {
     "data": {
      "image/png": "[encoded data removed]",
      "text/plain": [
       "<Figure size 320x320 with 1 Axes>"
      ]
     },
     "metadata": {
      "image/png": {
       "height": 281,
       "width": 321
      }
     },
     "output_type": "display_data"
    }
   ],
   "source": [
    "grid = np.linspace(1, 7)\n",
    "plt.plot(grid, spl(grid), label='Spline')\n",
    "plt.plot(x, y, 'o')\n",
    "plt.plot(np.arange(1, 8), layer_mean, 'r-o')\n",
    "#plt.scatter(x, y, marker='.')\n",
    "#plt.legend(loc='best')\n",
    "plt.show()"
   ]
  },
  {
   "cell_type": "code",
   "execution_count": 100,
   "id": "5520d7c6-a965-4fb1-9a2a-e22d967376fd",
   "metadata": {},
   "outputs": [],
   "source": [
    "def fit_spline(df_targ, index, gene, order=3):\n",
    "    \"\"\"\n",
    "    Function to fit a spline and return its residuals\n",
    "    \"\"\"\n",
    "    targ_dataset = df_targ.loc[index].copy().sort_values(by='layer')\n",
    "    x = targ_dataset['layer'].values\n",
    "    y = targ_dataset[gene].values\n",
    "    spline_model = UnivariateSpline(x, y, k=order)\n",
    "    residuals = spline_model.get_residual()\n",
    "    return residuals"
   ]
  },
  {
   "cell_type": "code",
   "execution_count": 102,
   "id": "7b9a3644-4d31-4032-ad36-1ac38a1ebcb8",
   "metadata": {},
   "outputs": [
    {
     "data": {
      "text/plain": [
       "0.1032158198635791"
      ]
     },
     "execution_count": 102,
     "metadata": {},
     "output_type": "execute_result"
    }
   ],
   "source": [
    "gene = 'AAR2'\n",
    "ref_specie, sec_specie = 'human', 'chimp'\n",
    "\n",
    "# fit spline for reference specie\n",
    "ref_index = df_cont[df_cont.condition == ref_specie].index\n",
    "res_ref = fit_spline(df_cont, ref_index, gene)\n",
    "\n",
    "# fit spline for second specie\n",
    "sec_index = df_cont[df_cont.condition == sec_specie].index\n",
    "res_sec = fit_spline(df_cont, sec_index, gene)\n",
    "\n",
    "# fit spline for both species\n",
    "both_index = df_cont[df_cont.condition.isin([ref_specie, sec_specie])].index\n",
    "res_both = fit_spline(df_cont, both_index, gene)\n",
    "\n",
    "# calculate f_stat\n",
    "f_stat = (res_both - res_ref - res_sec) / (res_ref + res_sec)"
   ]
  },
  {
   "cell_type": "code",
   "execution_count": 139,
   "id": "a3e4c134-0899-4480-91be-41c70209907f",
   "metadata": {},
   "outputs": [],
   "source": [
    "def get_perm_distr(df_targ, gene, both_index, ref_size, res_both, n_iters=10000):\n",
    "    fake_f_stat = np.zeros(n_iters)\n",
    "    for i in np.arange(n_iters):\n",
    "        # permute\n",
    "        permutation = np.random.permutation(both_index)\n",
    "        # calculate residuals ref\n",
    "        ref_perm = permutation[:ref_size]\n",
    "        res_ref_perm = fit_spline(df_targ, ref_perm, gene)\n",
    "        # calculate residuals second\n",
    "        sec_perm = permutation[ref_size:]\n",
    "        res_sec_perm = fit_spline(df_targ, sec_perm, gene)\n",
    "        # calculate f-stat\n",
    "        fake_f_stat[i] = (res_both - res_ref_perm - res_sec_perm) / (res_ref_perm + res_sec_perm)\n",
    "    return fake_f_stat"
   ]
  },
  {
   "cell_type": "code",
   "execution_count": 144,
   "id": "6eddeb94-7703-4fc2-b0aa-002ce2e6011e",
   "metadata": {},
   "outputs": [
    {
     "data": {
      "text/plain": [
       "0.281"
      ]
     },
     "execution_count": 144,
     "metadata": {},
     "output_type": "execute_result"
    },
    {
     "data": {
      "image/png": "[encoded data removed]",
      "text/plain": [
       "<Figure size 320x320 with 1 Axes>"
      ]
     },
     "metadata": {
      "image/png": {
       "height": 281,
       "width": 307
      }
     },
     "output_type": "display_data"
    }
   ],
   "source": [
    "n_iters = 5000\n",
    "fake_f_stat = get_perm_distr(df_cont, gene, both_index, ref_index.size, res_both, n_iters=n_iters)\n",
    "permutation_p = np.count_nonzero(fake_f_stat >= f_stat) / n_iters\n",
    "plt.hist(fake_f_stat);\n",
    "permutation_p"
   ]
  },
  {
   "cell_type": "code",
   "execution_count": null,
   "id": "2435b147-34cb-42dd-8a1c-53c61b9aaa02",
   "metadata": {},
   "outputs": [
    {
     "data": {
      "application/vnd.jupyter.widget-view+json": {
       "model_id": "403dc9c3dc7c4cf4bfabfa27b22c85f6",
       "version_major": 2,
       "version_minor": 0
      },
      "text/plain": [
       "  0%|          | 0/5390 [00:00<?, ?it/s]"
      ]
     },
     "metadata": {},
     "output_type": "display_data"
    }
   ],
   "source": [
    "from itertools import permutations, combinations\n",
    "\n",
    "res_dict = dict()\n",
    "conditions = ['human', 'chimp', 'macaque']\n",
    "#permut = list(combinations(conditions, 2))\n",
    "permut = list(combinations(conditions, 2))\n",
    "\n",
    "for ref_specie, sec_specie in permut:\n",
    "    res_list = []\n",
    "    #not_const_genes = results[results[ref_specie] < 0.05].index\n",
    "    for gene in tqdm(df.columns):\n",
    "        # fit spline for ref specie\n",
    "        # fit spline for reference specie\n",
    "        ref_index = df_cont[df_cont.condition == ref_specie].index\n",
    "        res_ref = fit_spline(df_cont, ref_index, gene)\n",
    "        \n",
    "        # fit spline for second specie\n",
    "        sec_index = df_cont[df_cont.condition == sec_specie].index\n",
    "        res_sec = fit_spline(df_cont, sec_index, gene)\n",
    "        \n",
    "        # fit spline for both species\n",
    "        both_index = df_cont[df_cont.condition.isin([ref_specie, sec_specie])].index\n",
    "        res_both = fit_spline(df_cont, both_index, gene)\n",
    "        \n",
    "        # calculate f_stat\n",
    "        f_stat = (res_both - res_ref - res_sec) / (res_ref + res_sec)\n",
    "\n",
    "        # find f-stat distr with permutations\n",
    "        n_iters = 1000\n",
    "        fake_f_stat = get_perm_distr(df_cont, gene, both_index, ref_index.size, res_both, n_iters=n_iters)\n",
    "        permutation_p = np.count_nonzero(fake_f_stat >= f_stat) / n_iters\n",
    "        \n",
    "        # save results \n",
    "        res_list.append([f_stat, permutation_p])\n",
    "    res_dict[f'{ref_specie}-{sec_specie}'] = pd.DataFrame(res_list, columns=['F-score', 'p-value'], index=df.columns)"
   ]
  },
  {
   "cell_type": "code",
   "execution_count": null,
   "id": "cd8df1be-127e-47dc-b0d8-a4270a3937d3",
   "metadata": {},
   "outputs": [],
   "source": [
    "res_dict.keys()"
   ]
  },
  {
   "cell_type": "code",
   "execution_count": null,
   "id": "ef1dfebd-f07e-4e6a-ad07-44e5ef330803",
   "metadata": {},
   "outputs": [],
   "source": [
    "fig, axes = plt.subplots(1, 3,  figsize=(14, 5), gridspec_kw={'hspace': 0.4})\n",
    "\n",
    "for (key, res_df), ax in zip(res_dict.items(), axes.flatten()):\n",
    "    res_df['p-value'].hist(ax=ax)\n",
    "    ax.set_title(key, fontsize=14)"
   ]
  },
  {
   "cell_type": "code",
   "execution_count": null,
   "id": "74728bac-d909-4570-a390-cbf4b348366c",
   "metadata": {},
   "outputs": [],
   "source": [
    "import pickle\n",
    "\n",
    "with open('results/ancova_perm_res.pkl', 'wb') as f:\n",
    "    pickle.dump(res_dict, f)"
   ]
  },
  {
   "cell_type": "markdown",
   "id": "03afb91d-0503-4013-b3ab-8865612d8b08",
   "metadata": {},
   "source": [
    "# Visualise"
   ]
  },
  {
   "cell_type": "code",
   "execution_count": null,
   "id": "0ff8e2b6-e678-4623-98ec-77b3ef0b1cd8",
   "metadata": {},
   "outputs": [],
   "source": [
    "import pickle\n",
    "with open(\"results/ancova_perm_res.pkl\", \"rb\") as file:\n",
    "    ancova_results = pickle.load(file)"
   ]
  },
  {
   "cell_type": "code",
   "execution_count": 158,
   "id": "847de5b8-48c7-4414-a84e-8243f38c341e",
   "metadata": {},
   "outputs": [
    {
     "data": {
      "text/plain": [
       "{'human-chimp': Index(['AAK1', 'ABCC10', 'ABCC5', 'ABLIM3', 'ACHE', 'ACSL1', 'ACTN2', 'ADORA1',\n",
       "        'AGFG1', 'AHI1',\n",
       "        ...\n",
       "        'ZBTB14', 'ZBTB17', 'ZBTB46', 'ZFP37', 'ZFPL1', 'ZMAT2', 'ZMYM2',\n",
       "        'ZMYND8', 'ZNF608', 'ZNF692'],\n",
       "       dtype='object', length=385),\n",
       " 'human-macaque': Index(['AAK1', 'AATK', 'ABTB1', 'ACSBG1', 'ACSL1', 'ACVR1B', 'ADAM11',\n",
       "        'ADGRB2', 'ADPRS', 'AFDN',\n",
       "        ...\n",
       "        'YARS1', 'YWHAE', 'ZBTB18', 'ZBTB46', 'ZFP90', 'ZMYND11', 'ZMYND8',\n",
       "        'ZNF330', 'ZNF33A', 'ZNF827'],\n",
       "       dtype='object', length=660),\n",
       " 'chimp-human': Index(['ABCG4', 'ACSL1', 'ACSS2', 'ACTN2', 'ADORA1', 'AHNAK2', 'AK1', 'AK2',\n",
       "        'AKAP7', 'AKT3',\n",
       "        ...\n",
       "        'WDR37', 'WDR45', 'WDR83', 'ZBTB17', 'ZBTB46', 'ZFAND2B', 'ZFP37',\n",
       "        'ZMYND8', 'ZNF689', 'ZNF692'],\n",
       "       dtype='object', length=325),\n",
       " 'chimp-macaque': Index(['ABCD3', 'ACAD9', 'ACOT13', 'ACTG1', 'ACTN2', 'ADAM19', 'ADGRB1',\n",
       "        'ADPGK', 'AK5', 'AKAP7',\n",
       "        ...\n",
       "        'WIF1', 'WNT7B', 'YLPM1', 'ZBTB17', 'ZBTB4', 'ZFAND2B', 'ZFPL1',\n",
       "        'ZMYND8', 'ZNF184', 'ZNF335'],\n",
       "       dtype='object', length=362),\n",
       " 'macaque-human': Index(['AAGAB', 'AATF', 'AATK', 'ABAT', 'ABCD4', 'ABCG4', 'ABTB1', 'ACAD9',\n",
       "        'ACSBG1', 'ACSL1',\n",
       "        ...\n",
       "        'ZNF184', 'ZNF263', 'ZNF304', 'ZNF326', 'ZNF408', 'ZNF48', 'ZNF575',\n",
       "        'ZNF576', 'ZNF606', 'ZNF689'],\n",
       "       dtype='object', length=965),\n",
       " 'macaque-chimp': Index(['AATK', 'ABAT', 'ABCD4', 'ABLIM3', 'ABTB1', 'ACAD9', 'ACHE', 'ACKR1',\n",
       "        'ACSBG1', 'ACSL1',\n",
       "        ...\n",
       "        'ZNF140', 'ZNF184', 'ZNF304', 'ZNF408', 'ZNF48', 'ZNF576', 'ZNF606',\n",
       "        'ZNF655', 'ZNF689', 'ZNF768'],\n",
       "       dtype='object', length=738)}"
      ]
     },
     "execution_count": 158,
     "metadata": {},
     "output_type": "execute_result"
    }
   ],
   "source": [
    "sign_genes = {key:value[value['p-value'] < 0.05].index for key, value in res_dict.items()}\n",
    "sign_genes"
   ]
  },
  {
   "cell_type": "code",
   "execution_count": 164,
   "id": "75907616-ad1c-4023-b881-011806a614aa",
   "metadata": {},
   "outputs": [
    {
     "data": {
      "text/plain": [
       "(Index(['AAK1', 'AHI1', 'AKT3', 'ALCAM', 'ANXA6', 'APBB2', 'ARHGEF1', 'ASPHD2',\n",
       "        'ATAD1', 'ATP1A3',\n",
       "        ...\n",
       "        'TMEM108', 'TMEM54', 'TMEM59L', 'USP9X', 'VAT1L', 'VGLL4', 'VPS51',\n",
       "        'XPNPEP1', 'YWHAE', 'ZBTB46'],\n",
       "       dtype='object', length=108),\n",
       " 108)"
      ]
     },
     "execution_count": 164,
     "metadata": {},
     "output_type": "execute_result"
    }
   ],
   "source": [
    "hs_genes = sign_genes['human-chimp'].intersection(sign_genes['human-macaque']).difference(sign_genes['chimp-macaque'])\n",
    "hs_genes, hs_genes.size"
   ]
  },
  {
   "cell_type": "code",
   "execution_count": 165,
   "id": "90608b0a-3c0c-4852-b45d-3ae332ab7b03",
   "metadata": {},
   "outputs": [
    {
     "data": {
      "text/plain": [
       "(Index(['ACTN2', 'AKAP7', 'ALKBH5', 'ANKRD29', 'AQP11', 'BMT2', 'BOLA3',\n",
       "        'CDIPT', 'CEP85L', 'COG7', 'COX15', 'CPSF4', 'DNAJC4', 'ECSIT', 'FLII',\n",
       "        'GIPC1', 'GNG7', 'GTPBP1', 'HCCS', 'HSPB11', 'IDH3G', 'KLF3', 'KLHL32',\n",
       "        'LCMT1', 'LDHB', 'LMO3', 'LONP2', 'LYPD6', 'MAFG', 'MAP3K7', 'MCUB',\n",
       "        'MRPL23', 'NR2F6', 'NUP93', 'PIK3R4', 'PIP4K2C', 'PML', 'POP5',\n",
       "        'PPP4R3B', 'PTOV1', 'PTP4A2', 'RARS1', 'RCAN2', 'RCHY1', 'RING1',\n",
       "        'RNF2', 'SAP30BP', 'SDCBP2', 'SEMA3A', 'SETD1B', 'SETDB2', 'SLC4A1AP',\n",
       "        'SMARCA1', 'STARD4', 'SULF1', 'TALDO1', 'TBPL1', 'TM2D1', 'TMCC2',\n",
       "        'TMEM126B', 'TRMT61B', 'TUSC2', 'WDR37', 'WDR83', 'ZBTB17', 'ZFAND2B'],\n",
       "       dtype='object'),\n",
       " 66)"
      ]
     },
     "execution_count": 165,
     "metadata": {},
     "output_type": "execute_result"
    }
   ],
   "source": [
    "cs_genes = sign_genes['chimp-macaque'].intersection(sign_genes['human-chimp']).difference(sign_genes['human-macaque'])\n",
    "cs_genes, cs_genes.size"
   ]
  },
  {
   "cell_type": "code",
   "execution_count": 166,
   "id": "f4df9e5a-15f5-4bed-8e72-8c693deec19f",
   "metadata": {},
   "outputs": [
    {
     "data": {
      "text/plain": [
       "(Index(['AATK', 'ABAT', 'ABCD4', 'ABTB1', 'ACAD9', 'ACSBG1', 'ADAM19', 'ADGRB1',\n",
       "        'AIDA', 'AKR1A1',\n",
       "        ...\n",
       "        'ZDHHC24', 'ZDHHC8', 'ZDHHC9', 'ZNF140', 'ZNF184', 'ZNF304', 'ZNF408',\n",
       "        'ZNF48', 'ZNF576', 'ZNF606'],\n",
       "       dtype='object', length=468),\n",
       " 468)"
      ]
     },
     "execution_count": 166,
     "metadata": {},
     "output_type": "execute_result"
    }
   ],
   "source": [
    "ms_genes = sign_genes['chimp-macaque'].intersection(sign_genes['human-macaque']).difference(sign_genes['human-chimp'])\n",
    "ms_genes, ms_genes.size"
   ]
  }
 ],
 "metadata": {
  "kernelspec": {
   "display_name": "Python 3 (ipykernel)",
   "language": "python",
   "name": "python3"
  },
  "language_info": {
   "codemirror_mode": {
    "name": "ipython",
    "version": 3
   },
   "file_extension": ".py",
   "mimetype": "text/x-python",
   "name": "python",
   "nbconvert_exporter": "python",
   "pygments_lexer": "ipython3",
   "version": "3.10.11"
  }
 },
 "nbformat": 4,
 "nbformat_minor": 5
}
