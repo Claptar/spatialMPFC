{
 "cells": [
  {
   "cell_type": "code",
   "execution_count": 1,
   "id": "819eb0aa-60f8-449c-aa7b-0b7a1d45954b",
   "metadata": {},
   "outputs": [],
   "source": [
    "import warnings\n",
    "import scanpy as sc\n",
    "import anndata as an\n",
    "import pandas as pd\n",
    "import numpy as np\n",
    "import matplotlib as mpl\n",
    "import matplotlib.pyplot as plt\n",
    "import seaborn as sns\n",
    "from urllib import request\n",
    "import json\n",
    "import os\n",
    "from tqdm.notebook import tqdm\n",
    "\n",
    "import statsmodels.api as sm\n",
    "from statsmodels.formula.api import ols\n",
    "from tqdm.notebook import tqdm\n",
    "from statsmodels.stats.multitest import multipletests\n",
    "\n",
    "sc.settings.set_figure_params(dpi=80)\n",
    "#sc.set_figure_params(facecolor=\"white\", figsize=(8, 8))\n",
    "warnings.simplefilter(action='ignore', category=FutureWarning)\n",
    "sc.settings.verbosity = 3"
   ]
  },
  {
   "cell_type": "markdown",
   "id": "006d2874-afab-4c04-8552-34989cccf57d",
   "metadata": {
    "id": "AAvYvli71MwA"
   },
   "source": [
    "# Global variables"
   ]
  },
  {
   "cell_type": "code",
   "execution_count": 2,
   "id": "5d15ec78-d10c-443a-abeb-754a91a26b4e",
   "metadata": {
    "id": "c4f4126f"
   },
   "outputs": [],
   "source": [
    "de_dir_path = '../../data/DE/ANOVA_mean/'"
   ]
  },
  {
   "cell_type": "code",
   "execution_count": 3,
   "id": "63b4a96e-8e9e-4e36-8c56-52d11a6fdd6f",
   "metadata": {},
   "outputs": [],
   "source": [
    "layers = ['L1', 'L2', 'L3', 'L4', 'L5', \"L6\", 'WM']"
   ]
  },
  {
   "cell_type": "code",
   "execution_count": 4,
   "id": "850dbbea-68f9-48b7-a3a2-944607ddea2d",
   "metadata": {
    "colab": {
     "base_uri": "https://localhost:8080/"
    },
    "id": "4223c5ff",
    "outputId": "ad670861-e545-419f-b759-280820848391"
   },
   "outputs": [
    {
     "data": {
      "text/plain": [
       "['anova_mamm_mean.csv',\n",
       " 'cluster_spectr_anova_mean_6.csv',\n",
       " 'cluster_spectr_anova_mean_7.csv',\n",
       " 'cluster_spectr_anova_mean_8.csv',\n",
       " 'cluster_spectr_anova_mean_9.csv',\n",
       " 'ttest_mamm_mean.csv']"
      ]
     },
     "execution_count": 4,
     "metadata": {},
     "output_type": "execute_result"
    }
   ],
   "source": [
    "os.listdir(de_dir_path)"
   ]
  },
  {
   "cell_type": "markdown",
   "id": "27666551-ccd2-45a9-9d03-9d9cd9f23cb1",
   "metadata": {},
   "source": [
    "## Load files"
   ]
  },
  {
   "cell_type": "markdown",
   "id": "5ad25d80-6748-4443-acb4-3581a8381cdc",
   "metadata": {
    "id": "22169059"
   },
   "source": [
    "### DE results"
   ]
  },
  {
   "cell_type": "code",
   "execution_count": 5,
   "id": "fffc3368-1063-42db-b3d0-32709a7b5d41",
   "metadata": {
    "colab": {
     "base_uri": "https://localhost:8080/",
     "height": 206
    },
    "id": "ehsiAIF8D61S",
    "outputId": "e0e5605e-4158-412b-eae7-332d6a6a1f97"
   },
   "outputs": [
    {
     "data": {
      "text/html": [
       "<div>\n",
       "<style scoped>\n",
       "    .dataframe tbody tr th:only-of-type {\n",
       "        vertical-align: middle;\n",
       "    }\n",
       "\n",
       "    .dataframe tbody tr th {\n",
       "        vertical-align: top;\n",
       "    }\n",
       "\n",
       "    .dataframe thead th {\n",
       "        text-align: right;\n",
       "    }\n",
       "</style>\n",
       "<table border=\"1\" class=\"dataframe\">\n",
       "  <thead>\n",
       "    <tr style=\"text-align: right;\">\n",
       "      <th></th>\n",
       "      <th>sum_sq</th>\n",
       "      <th>df</th>\n",
       "      <th>F</th>\n",
       "      <th>PR(&gt;F)</th>\n",
       "      <th>p_val_adj</th>\n",
       "    </tr>\n",
       "  </thead>\n",
       "  <tbody>\n",
       "    <tr>\n",
       "      <th>A1BG</th>\n",
       "      <td>0.122578</td>\n",
       "      <td>12.0</td>\n",
       "      <td>2.796490</td>\n",
       "      <td>0.003701</td>\n",
       "      <td>0.010364</td>\n",
       "    </tr>\n",
       "    <tr>\n",
       "      <th>AAAS</th>\n",
       "      <td>0.017527</td>\n",
       "      <td>12.0</td>\n",
       "      <td>0.944161</td>\n",
       "      <td>0.509517</td>\n",
       "      <td>0.596369</td>\n",
       "    </tr>\n",
       "    <tr>\n",
       "      <th>AACS</th>\n",
       "      <td>0.136394</td>\n",
       "      <td>12.0</td>\n",
       "      <td>2.729393</td>\n",
       "      <td>0.004508</td>\n",
       "      <td>0.012212</td>\n",
       "    </tr>\n",
       "    <tr>\n",
       "      <th>AADAT</th>\n",
       "      <td>0.057031</td>\n",
       "      <td>12.0</td>\n",
       "      <td>5.478881</td>\n",
       "      <td>0.000002</td>\n",
       "      <td>0.000016</td>\n",
       "    </tr>\n",
       "    <tr>\n",
       "      <th>AAGAB</th>\n",
       "      <td>0.043359</td>\n",
       "      <td>12.0</td>\n",
       "      <td>2.127609</td>\n",
       "      <td>0.026045</td>\n",
       "      <td>0.053640</td>\n",
       "    </tr>\n",
       "  </tbody>\n",
       "</table>\n",
       "</div>"
      ],
      "text/plain": [
       "         sum_sq    df         F    PR(>F)  p_val_adj\n",
       "A1BG   0.122578  12.0  2.796490  0.003701   0.010364\n",
       "AAAS   0.017527  12.0  0.944161  0.509517   0.596369\n",
       "AACS   0.136394  12.0  2.729393  0.004508   0.012212\n",
       "AADAT  0.057031  12.0  5.478881  0.000002   0.000016\n",
       "AAGAB  0.043359  12.0  2.127609  0.026045   0.053640"
      ]
     },
     "execution_count": 5,
     "metadata": {},
     "output_type": "execute_result"
    }
   ],
   "source": [
    "anova_res = pd.read_csv(de_dir_path + 'anova_mamm_mean.csv', index_col=0)\n",
    "anova_genes = anova_res[anova_res.p_val_adj < 0.05].index\n",
    "anova_res.head()"
   ]
  },
  {
   "cell_type": "code",
   "execution_count": 6,
   "id": "d3045dd9-40c5-4dc6-918b-d07d14a81ab6",
   "metadata": {},
   "outputs": [],
   "source": [
    "n_clusters = 7\n",
    "anova_labels = pd.read_csv(de_dir_path + f'cluster_spectr_anova_mean_{n_clusters}.csv', index_col=0)['0'].sort_values()\n",
    "anova_labels = anova_labels\n",
    "anova_labels.name = 'ANOVA_labels'"
   ]
  },
  {
   "cell_type": "markdown",
   "id": "a703d115-a67c-4870-aa08-e3b3d3e886d1",
   "metadata": {
    "id": "yQ7JjvscKLd4"
   },
   "source": [
    "## Load normalized pseudobulks"
   ]
  },
  {
   "cell_type": "code",
   "execution_count": 7,
   "id": "2fbd5d4d-3056-48de-85ba-9d47bf5a9f33",
   "metadata": {
    "id": "685kKTuvKfog"
   },
   "outputs": [],
   "source": [
    "pb_dir_path = './results/'"
   ]
  },
  {
   "cell_type": "code",
   "execution_count": 8,
   "id": "3604a101-7265-4af6-b5c6-69f478d5a6d1",
   "metadata": {
    "colab": {
     "base_uri": "https://localhost:8080/"
    },
    "id": "PlB6qD1yKfoh",
    "outputId": "fd8823fa-4561-4142-c946-aa0d778b4728"
   },
   "outputs": [
    {
     "data": {
      "text/plain": [
       "['.ipynb_checkpoints',\n",
       " 'ancova_res.pkl',\n",
       " 'chimp_clusters_28.csv',\n",
       " 'chimp_clusters_50.csv',\n",
       " 'chimp_clusters_77.csv',\n",
       " 'gene_selection_df.csv',\n",
       " 'hs_anova_inter_clusters.csv',\n",
       " 'hs_layers.csv',\n",
       " 'hs_prof.csv',\n",
       " 'hs_prof_anova.csv',\n",
       " 'hs_ttest_inter_clusters.csv',\n",
       " 'human_clusters_28.csv',\n",
       " 'human_clusters_50.csv',\n",
       " 'human_clusters_67.csv',\n",
       " 'human_clusters_77.csv',\n",
       " 'hum_spec_onehot.csv',\n",
       " 'l1_distances.pkl',\n",
       " 'macaque_clusters_28.csv',\n",
       " 'macaque_clusters_77.csv',\n",
       " 'mean_norm_clust_allgenes.csv',\n",
       " 'pb_mammals_samplenorm_mean_filtered.h5ad',\n",
       " 'specie_specific_genes_tr28.pkl',\n",
       " 'specie_specific_genes_tr35.pkl',\n",
       " 'specie_specific_genes_tr50.pkl',\n",
       " 'specie_specific_genes_tr67.pkl',\n",
       " 'specie_specific_genes_tr77.pkl',\n",
       " 'zscore_norm_clust_allgenes.csv']"
      ]
     },
     "execution_count": 8,
     "metadata": {},
     "output_type": "execute_result"
    }
   ],
   "source": [
    "os.listdir(pb_dir_path)"
   ]
  },
  {
   "cell_type": "code",
   "execution_count": 9,
   "id": "b029cd09-4aa5-47dd-8c8e-f679b1c59bd4",
   "metadata": {},
   "outputs": [
    {
     "data": {
      "text/plain": [
       "AnnData object with n_obs × n_vars = 89 × 5390\n",
       "    obs: 'layer', 'sample_id', 'psbulk_n_cells', 'psbulk_counts', 'condition', 'lib_size', 'log_lib_size'\n",
       "    var: 'feature_types', 'mt', 'hb', 'ribo'\n",
       "    uns: 'log1p', 'pca'\n",
       "    obsm: 'X_pca'\n",
       "    varm: 'PCs'\n",
       "    layers: 'psbulk_props'"
      ]
     },
     "execution_count": 9,
     "metadata": {},
     "output_type": "execute_result"
    }
   ],
   "source": [
    "adata_pb_norm = sc.read_h5ad(pb_dir_path + 'pb_mammals_samplenorm_mean_filtered.h5ad')\n",
    "#adata_pb_norm_mean.var = anova_res\n",
    "adata_pb_norm"
   ]
  },
  {
   "cell_type": "code",
   "execution_count": 10,
   "id": "c07e81c2-5cf8-4bb3-bd19-2aee4bd10072",
   "metadata": {},
   "outputs": [
    {
     "data": {
      "text/plain": [
       "5390"
      ]
     },
     "execution_count": 10,
     "metadata": {},
     "output_type": "execute_result"
    }
   ],
   "source": [
    "background_genes = adata_pb_norm.var_names.tolist()\n",
    "len(background_genes)"
   ]
  },
  {
   "cell_type": "markdown",
   "id": "f28865ff-bf45-418f-952a-ca2dc81b0a46",
   "metadata": {},
   "source": [
    "### Create dataframe"
   ]
  },
  {
   "cell_type": "code",
   "execution_count": 11,
   "id": "f82ac5e3-4502-4de3-a5ba-e90c17311f42",
   "metadata": {},
   "outputs": [],
   "source": [
    "df = pd.DataFrame(adata_pb_norm.X, index=adata_pb_norm.obs_names, columns=adata_pb_norm.var_names)"
   ]
  },
  {
   "cell_type": "code",
   "execution_count": 12,
   "id": "a351c47a-c506-48f2-b7a0-d351957188b8",
   "metadata": {},
   "outputs": [],
   "source": [
    "sample_order = dict()\n",
    "for cond in ['human', 'chimp', 'macaque']:\n",
    "    samples = df.loc[df.index.str.contains(cond)].index\n",
    "    order = sorted(samples.tolist(), key=lambda x: x[-2:])\n",
    "    order_laminar = list(filter(lambda x: 'L' in x, order))\n",
    "    order_wm = list(filter(lambda x: 'WM' in x, order))\n",
    "    sample_order[cond] = order_wm + order_laminar\n",
    "sample_order['all'] = sample_order['human'] + sample_order['chimp'] + sample_order['macaque']\n",
    "df = df.loc[sample_order['all']]"
   ]
  },
  {
   "cell_type": "code",
   "execution_count": 13,
   "id": "35a6294b-2e8d-409a-9bf2-d1eb1d391b5d",
   "metadata": {},
   "outputs": [
    {
     "data": {
      "text/html": [
       "<div>\n",
       "<style scoped>\n",
       "    .dataframe tbody tr th:only-of-type {\n",
       "        vertical-align: middle;\n",
       "    }\n",
       "\n",
       "    .dataframe tbody tr th {\n",
       "        vertical-align: top;\n",
       "    }\n",
       "\n",
       "    .dataframe thead th {\n",
       "        text-align: right;\n",
       "    }\n",
       "</style>\n",
       "<table border=\"1\" class=\"dataframe\">\n",
       "  <thead>\n",
       "    <tr style=\"text-align: right;\">\n",
       "      <th></th>\n",
       "      <th>AACS</th>\n",
       "      <th>AAGAB</th>\n",
       "      <th>AAK1</th>\n",
       "      <th>AAMP</th>\n",
       "      <th>AAR2</th>\n",
       "      <th>AARS1</th>\n",
       "      <th>AARS2</th>\n",
       "      <th>AASDH</th>\n",
       "      <th>AASDHPPT</th>\n",
       "      <th>AATF</th>\n",
       "      <th>...</th>\n",
       "      <th>ZNFX1</th>\n",
       "      <th>ZNHIT3</th>\n",
       "      <th>ZNRD2</th>\n",
       "      <th>ZNRF1</th>\n",
       "      <th>ZPR1</th>\n",
       "      <th>ZRANB2</th>\n",
       "      <th>ZSCAN18</th>\n",
       "      <th>ZSCAN21</th>\n",
       "      <th>ZUP1</th>\n",
       "      <th>ZZZ3</th>\n",
       "    </tr>\n",
       "  </thead>\n",
       "  <tbody>\n",
       "    <tr>\n",
       "      <th>human_759_WM</th>\n",
       "      <td>0.041268</td>\n",
       "      <td>0.025707</td>\n",
       "      <td>-0.072019</td>\n",
       "      <td>0.051644</td>\n",
       "      <td>-0.040637</td>\n",
       "      <td>0.007453</td>\n",
       "      <td>-0.047439</td>\n",
       "      <td>0.013681</td>\n",
       "      <td>-0.112373</td>\n",
       "      <td>-0.027305</td>\n",
       "      <td>...</td>\n",
       "      <td>0.002537</td>\n",
       "      <td>-0.145321</td>\n",
       "      <td>-0.012920</td>\n",
       "      <td>-0.019393</td>\n",
       "      <td>0.010821</td>\n",
       "      <td>0.002873</td>\n",
       "      <td>0.018861</td>\n",
       "      <td>0.032487</td>\n",
       "      <td>-0.083505</td>\n",
       "      <td>-0.040384</td>\n",
       "    </tr>\n",
       "    <tr>\n",
       "      <th>human_j12_WM</th>\n",
       "      <td>0.025153</td>\n",
       "      <td>-0.044543</td>\n",
       "      <td>0.001885</td>\n",
       "      <td>0.044115</td>\n",
       "      <td>-0.005605</td>\n",
       "      <td>0.064853</td>\n",
       "      <td>-0.020012</td>\n",
       "      <td>0.036537</td>\n",
       "      <td>-0.247531</td>\n",
       "      <td>0.059761</td>\n",
       "      <td>...</td>\n",
       "      <td>0.029141</td>\n",
       "      <td>-0.053724</td>\n",
       "      <td>0.029411</td>\n",
       "      <td>-0.080373</td>\n",
       "      <td>-0.068238</td>\n",
       "      <td>-0.011533</td>\n",
       "      <td>-0.072855</td>\n",
       "      <td>-0.043932</td>\n",
       "      <td>-0.005179</td>\n",
       "      <td>0.055280</td>\n",
       "    </tr>\n",
       "    <tr>\n",
       "      <th>human_j3_WM</th>\n",
       "      <td>-0.028083</td>\n",
       "      <td>-0.011412</td>\n",
       "      <td>0.121080</td>\n",
       "      <td>-0.036493</td>\n",
       "      <td>-0.043526</td>\n",
       "      <td>-0.017252</td>\n",
       "      <td>-0.003079</td>\n",
       "      <td>0.047993</td>\n",
       "      <td>-0.150683</td>\n",
       "      <td>0.065300</td>\n",
       "      <td>...</td>\n",
       "      <td>0.026583</td>\n",
       "      <td>-0.017077</td>\n",
       "      <td>0.022215</td>\n",
       "      <td>-0.106516</td>\n",
       "      <td>0.025459</td>\n",
       "      <td>0.008847</td>\n",
       "      <td>-0.013096</td>\n",
       "      <td>-0.029365</td>\n",
       "      <td>0.055279</td>\n",
       "      <td>0.020677</td>\n",
       "    </tr>\n",
       "    <tr>\n",
       "      <th>human_j4_WM</th>\n",
       "      <td>-0.020194</td>\n",
       "      <td>-0.054054</td>\n",
       "      <td>0.040012</td>\n",
       "      <td>-0.023853</td>\n",
       "      <td>0.081220</td>\n",
       "      <td>0.055494</td>\n",
       "      <td>-0.012639</td>\n",
       "      <td>-0.001961</td>\n",
       "      <td>-0.177060</td>\n",
       "      <td>0.061381</td>\n",
       "      <td>...</td>\n",
       "      <td>0.055548</td>\n",
       "      <td>-0.082023</td>\n",
       "      <td>0.017378</td>\n",
       "      <td>-0.073447</td>\n",
       "      <td>0.030231</td>\n",
       "      <td>-0.000191</td>\n",
       "      <td>-0.116543</td>\n",
       "      <td>-0.023978</td>\n",
       "      <td>0.012403</td>\n",
       "      <td>0.078987</td>\n",
       "    </tr>\n",
       "    <tr>\n",
       "      <th>human_j6_WM</th>\n",
       "      <td>0.004524</td>\n",
       "      <td>0.010688</td>\n",
       "      <td>0.078731</td>\n",
       "      <td>0.049893</td>\n",
       "      <td>-0.014778</td>\n",
       "      <td>-0.074468</td>\n",
       "      <td>-0.035236</td>\n",
       "      <td>-0.024390</td>\n",
       "      <td>0.091938</td>\n",
       "      <td>0.022454</td>\n",
       "      <td>...</td>\n",
       "      <td>-0.049726</td>\n",
       "      <td>-0.146974</td>\n",
       "      <td>0.022209</td>\n",
       "      <td>0.003881</td>\n",
       "      <td>0.070576</td>\n",
       "      <td>0.027428</td>\n",
       "      <td>-0.033470</td>\n",
       "      <td>-0.019749</td>\n",
       "      <td>0.130150</td>\n",
       "      <td>0.027191</td>\n",
       "    </tr>\n",
       "  </tbody>\n",
       "</table>\n",
       "<p>5 rows × 5390 columns</p>\n",
       "</div>"
      ],
      "text/plain": [
       "                  AACS     AAGAB      AAK1      AAMP      AAR2     AARS1  \\\n",
       "human_759_WM  0.041268  0.025707 -0.072019  0.051644 -0.040637  0.007453   \n",
       "human_j12_WM  0.025153 -0.044543  0.001885  0.044115 -0.005605  0.064853   \n",
       "human_j3_WM  -0.028083 -0.011412  0.121080 -0.036493 -0.043526 -0.017252   \n",
       "human_j4_WM  -0.020194 -0.054054  0.040012 -0.023853  0.081220  0.055494   \n",
       "human_j6_WM   0.004524  0.010688  0.078731  0.049893 -0.014778 -0.074468   \n",
       "\n",
       "                 AARS2     AASDH  AASDHPPT      AATF  ...     ZNFX1    ZNHIT3  \\\n",
       "human_759_WM -0.047439  0.013681 -0.112373 -0.027305  ...  0.002537 -0.145321   \n",
       "human_j12_WM -0.020012  0.036537 -0.247531  0.059761  ...  0.029141 -0.053724   \n",
       "human_j3_WM  -0.003079  0.047993 -0.150683  0.065300  ...  0.026583 -0.017077   \n",
       "human_j4_WM  -0.012639 -0.001961 -0.177060  0.061381  ...  0.055548 -0.082023   \n",
       "human_j6_WM  -0.035236 -0.024390  0.091938  0.022454  ... -0.049726 -0.146974   \n",
       "\n",
       "                 ZNRD2     ZNRF1      ZPR1    ZRANB2   ZSCAN18   ZSCAN21  \\\n",
       "human_759_WM -0.012920 -0.019393  0.010821  0.002873  0.018861  0.032487   \n",
       "human_j12_WM  0.029411 -0.080373 -0.068238 -0.011533 -0.072855 -0.043932   \n",
       "human_j3_WM   0.022215 -0.106516  0.025459  0.008847 -0.013096 -0.029365   \n",
       "human_j4_WM   0.017378 -0.073447  0.030231 -0.000191 -0.116543 -0.023978   \n",
       "human_j6_WM   0.022209  0.003881  0.070576  0.027428 -0.033470 -0.019749   \n",
       "\n",
       "                  ZUP1      ZZZ3  \n",
       "human_759_WM -0.083505 -0.040384  \n",
       "human_j12_WM -0.005179  0.055280  \n",
       "human_j3_WM   0.055279  0.020677  \n",
       "human_j4_WM   0.012403  0.078987  \n",
       "human_j6_WM   0.130150  0.027191  \n",
       "\n",
       "[5 rows x 5390 columns]"
      ]
     },
     "execution_count": 13,
     "metadata": {},
     "output_type": "execute_result"
    }
   ],
   "source": [
    "df.head()"
   ]
  },
  {
   "cell_type": "code",
   "execution_count": 14,
   "id": "1e07d1ec-5289-40dd-a0a8-104b39fb34bb",
   "metadata": {},
   "outputs": [],
   "source": [
    "df_cont = df.copy()\n",
    "df_cont['condition'] = adata_pb_norm.obs.condition\n",
    "df_cont['layer'] = adata_pb_norm.obs.layer\n",
    "df_cont['layer'] = df_cont.layer.map(dict(zip(sorted(df_cont.layer.unique()), range(1, 8)))).astype(int)\n",
    "df_cont['intercept'] = 1"
   ]
  },
  {
   "cell_type": "code",
   "execution_count": 15,
   "id": "39892d4b-bddd-4279-8e20-151f3dea82d5",
   "metadata": {},
   "outputs": [],
   "source": [
    "df_cont.columns = df_cont.columns.str.replace('-', '')"
   ]
  },
  {
   "cell_type": "code",
   "execution_count": 20,
   "id": "611bc47a-29c1-4182-807a-007059b5a0dc",
   "metadata": {
    "scrolled": true
   },
   "outputs": [
    {
     "data": {
      "application/vnd.jupyter.widget-view+json": {
       "model_id": "7c69ee3e86f643d9a61bcc85101ffb7b",
       "version_major": 2,
       "version_minor": 0
      },
      "text/plain": [
       "  0%|          | 0/5390 [00:00<?, ?it/s]"
      ]
     },
     "metadata": {},
     "output_type": "display_data"
    },
    {
     "data": {
      "application/vnd.jupyter.widget-view+json": {
       "model_id": "07b03177bf8341698a55abf4a4adea08",
       "version_major": 2,
       "version_minor": 0
      },
      "text/plain": [
       "  0%|          | 0/5390 [00:00<?, ?it/s]"
      ]
     },
     "metadata": {},
     "output_type": "display_data"
    },
    {
     "data": {
      "application/vnd.jupyter.widget-view+json": {
       "model_id": "a823e2613f4e4b7fadf6d525dafc8585",
       "version_major": 2,
       "version_minor": 0
      },
      "text/plain": [
       "  0%|          | 0/5390 [00:00<?, ?it/s]"
      ]
     },
     "metadata": {},
     "output_type": "display_data"
    }
   ],
   "source": [
    "p_val_dict = dict()\n",
    "for specie in ['human', 'chimp', 'macaque']:\n",
    "    p_val_list = []\n",
    "    for gene in tqdm(df_cont.columns[:-3]):\n",
    "        formula = f'{gene} ~ layer + layer ^ 2 + layer ^ 3'\n",
    "        subs_index = df_cont[df_cont.condition == specie].index\n",
    "        model = ols(formula, data=df_cont, subset=subs_index).fit()\n",
    "        p_val_list.append(model.f_pvalue)\n",
    "    p_val_dict[specie] = p_val_list"
   ]
  },
  {
   "cell_type": "code",
   "execution_count": 21,
   "id": "649df17a-71e7-4717-9b00-0661734cddd6",
   "metadata": {},
   "outputs": [
    {
     "data": {
      "text/html": [
       "<div>\n",
       "<style scoped>\n",
       "    .dataframe tbody tr th:only-of-type {\n",
       "        vertical-align: middle;\n",
       "    }\n",
       "\n",
       "    .dataframe tbody tr th {\n",
       "        vertical-align: top;\n",
       "    }\n",
       "\n",
       "    .dataframe thead th {\n",
       "        text-align: right;\n",
       "    }\n",
       "</style>\n",
       "<table border=\"1\" class=\"dataframe\">\n",
       "  <thead>\n",
       "    <tr style=\"text-align: right;\">\n",
       "      <th></th>\n",
       "      <th>human</th>\n",
       "      <th>chimp</th>\n",
       "      <th>macaque</th>\n",
       "    </tr>\n",
       "  </thead>\n",
       "  <tbody>\n",
       "    <tr>\n",
       "      <th>AACS</th>\n",
       "      <td>0.001206</td>\n",
       "      <td>0.014287</td>\n",
       "      <td>0.318736</td>\n",
       "    </tr>\n",
       "    <tr>\n",
       "      <th>AAGAB</th>\n",
       "      <td>0.731575</td>\n",
       "      <td>0.661344</td>\n",
       "      <td>0.024143</td>\n",
       "    </tr>\n",
       "    <tr>\n",
       "      <th>AAK1</th>\n",
       "      <td>0.000658</td>\n",
       "      <td>0.699175</td>\n",
       "      <td>0.069657</td>\n",
       "    </tr>\n",
       "    <tr>\n",
       "      <th>AAMP</th>\n",
       "      <td>0.762617</td>\n",
       "      <td>0.530339</td>\n",
       "      <td>0.947528</td>\n",
       "    </tr>\n",
       "    <tr>\n",
       "      <th>AAR2</th>\n",
       "      <td>0.312623</td>\n",
       "      <td>0.436571</td>\n",
       "      <td>0.343371</td>\n",
       "    </tr>\n",
       "  </tbody>\n",
       "</table>\n",
       "</div>"
      ],
      "text/plain": [
       "          human     chimp   macaque\n",
       "AACS   0.001206  0.014287  0.318736\n",
       "AAGAB  0.731575  0.661344  0.024143\n",
       "AAK1   0.000658  0.699175  0.069657\n",
       "AAMP   0.762617  0.530339  0.947528\n",
       "AAR2   0.312623  0.436571  0.343371"
      ]
     },
     "execution_count": 21,
     "metadata": {},
     "output_type": "execute_result"
    }
   ],
   "source": [
    "results = pd.DataFrame(p_val_dict, index=df.columns)\n",
    "results.head()"
   ]
  },
  {
   "cell_type": "code",
   "execution_count": 22,
   "id": "52093eee-46f7-4761-82c2-ae374c736266",
   "metadata": {},
   "outputs": [],
   "source": [
    "results.to_csv('results/gene_selection_df.csv')"
   ]
  },
  {
   "cell_type": "code",
   "execution_count": 18,
   "id": "2435b147-34cb-42dd-8a1c-53c61b9aaa02",
   "metadata": {},
   "outputs": [
    {
     "data": {
      "application/vnd.jupyter.widget-view+json": {
       "model_id": "e4168211a1174ecf99ef1dcd962ebf0a",
       "version_major": 2,
       "version_minor": 0
      },
      "text/plain": [
       "  0%|          | 0/5390 [00:00<?, ?it/s]"
      ]
     },
     "metadata": {},
     "output_type": "display_data"
    },
    {
     "data": {
      "application/vnd.jupyter.widget-view+json": {
       "model_id": "3c7ea0cf764e43089879ea0d65444050",
       "version_major": 2,
       "version_minor": 0
      },
      "text/plain": [
       "  0%|          | 0/5390 [00:00<?, ?it/s]"
      ]
     },
     "metadata": {},
     "output_type": "display_data"
    },
    {
     "data": {
      "application/vnd.jupyter.widget-view+json": {
       "model_id": "88b481b68ef6474e98379348685d6e21",
       "version_major": 2,
       "version_minor": 0
      },
      "text/plain": [
       "  0%|          | 0/5390 [00:00<?, ?it/s]"
      ]
     },
     "metadata": {},
     "output_type": "display_data"
    }
   ],
   "source": [
    "from itertools import permutations, combinations\n",
    "\n",
    "res_dict = dict()\n",
    "conditions = ['human', 'chimp', 'macaque']\n",
    "permut = list(combinations(conditions, 2))\n",
    "#permut = list(permutations(conditions, 2))\n",
    "\n",
    "for ref_specie, sec_specie in permut:\n",
    "    res_list = []\n",
    "    #not_const_genes = results[results[ref_specie] < 0.05].index\n",
    "    for gene in tqdm(df_cont.columns[:-3]):\n",
    "        subs_index = df_cont[df_cont.condition.isin([ref_specie, sec_specie])].index\n",
    "        df_cont_sub = df_cont.loc[subs_index].copy()\n",
    "        df_cont_sub.condition = df_cont_sub.condition.astype(str)\n",
    "        \n",
    "        formula1 = f'{gene} ~ layer + layer ^ 2 + layer ^ 3'\n",
    "        model1 = ols(formula1, data=df_cont_sub).fit()\n",
    "        \n",
    "        formula2 = f'{gene} ~ (layer + layer ^ 2 + layer ^ 3) * condition'\n",
    "        model2 = ols(formula2, data=df_cont_sub).fit()\n",
    "\n",
    "        res_list.append(model2.compare_f_test(model1))\n",
    "    res_dict[f'{ref_specie}-{sec_specie}'] = pd.DataFrame(res_list, columns=['F-score', 'p-value', 'df'], index=df.columns)"
   ]
  },
  {
   "cell_type": "code",
   "execution_count": 19,
   "id": "cd8df1be-127e-47dc-b0d8-a4270a3937d3",
   "metadata": {},
   "outputs": [
    {
     "data": {
      "text/plain": [
       "dict_keys(['human-chimp', 'human-macaque', 'chimp-macaque'])"
      ]
     },
     "execution_count": 19,
     "metadata": {},
     "output_type": "execute_result"
    }
   ],
   "source": [
    "res_dict.keys()"
   ]
  },
  {
   "cell_type": "code",
   "execution_count": 20,
   "id": "3928710b-5450-4f0e-b95c-38857b3b17fd",
   "metadata": {},
   "outputs": [
    {
     "data": {
      "text/html": [
       "<div>\n",
       "<style scoped>\n",
       "    .dataframe tbody tr th:only-of-type {\n",
       "        vertical-align: middle;\n",
       "    }\n",
       "\n",
       "    .dataframe tbody tr th {\n",
       "        vertical-align: top;\n",
       "    }\n",
       "\n",
       "    .dataframe thead th {\n",
       "        text-align: right;\n",
       "    }\n",
       "</style>\n",
       "<table border=\"1\" class=\"dataframe\">\n",
       "  <thead>\n",
       "    <tr style=\"text-align: right;\">\n",
       "      <th></th>\n",
       "      <th>F-score</th>\n",
       "      <th>p-value</th>\n",
       "      <th>df</th>\n",
       "    </tr>\n",
       "  </thead>\n",
       "  <tbody>\n",
       "    <tr>\n",
       "      <th>ABCC10</th>\n",
       "      <td>3.348815</td>\n",
       "      <td>0.016188</td>\n",
       "      <td>4.0</td>\n",
       "    </tr>\n",
       "    <tr>\n",
       "      <th>ABCC5</th>\n",
       "      <td>2.899062</td>\n",
       "      <td>0.030411</td>\n",
       "      <td>4.0</td>\n",
       "    </tr>\n",
       "    <tr>\n",
       "      <th>ACBD6</th>\n",
       "      <td>4.649016</td>\n",
       "      <td>0.002725</td>\n",
       "      <td>4.0</td>\n",
       "    </tr>\n",
       "    <tr>\n",
       "      <th>ACSL1</th>\n",
       "      <td>5.076888</td>\n",
       "      <td>0.001542</td>\n",
       "      <td>4.0</td>\n",
       "    </tr>\n",
       "    <tr>\n",
       "      <th>ACTN2</th>\n",
       "      <td>4.385018</td>\n",
       "      <td>0.003890</td>\n",
       "      <td>4.0</td>\n",
       "    </tr>\n",
       "    <tr>\n",
       "      <th>...</th>\n",
       "      <td>...</td>\n",
       "      <td>...</td>\n",
       "      <td>...</td>\n",
       "    </tr>\n",
       "    <tr>\n",
       "      <th>ZFPL1</th>\n",
       "      <td>4.897607</td>\n",
       "      <td>0.001955</td>\n",
       "      <td>4.0</td>\n",
       "    </tr>\n",
       "    <tr>\n",
       "      <th>ZMAT2</th>\n",
       "      <td>2.573140</td>\n",
       "      <td>0.048140</td>\n",
       "      <td>4.0</td>\n",
       "    </tr>\n",
       "    <tr>\n",
       "      <th>ZMYND8</th>\n",
       "      <td>6.765479</td>\n",
       "      <td>0.000178</td>\n",
       "      <td>4.0</td>\n",
       "    </tr>\n",
       "    <tr>\n",
       "      <th>ZNF689</th>\n",
       "      <td>3.276864</td>\n",
       "      <td>0.017900</td>\n",
       "      <td>4.0</td>\n",
       "    </tr>\n",
       "    <tr>\n",
       "      <th>ZNF692</th>\n",
       "      <td>3.860704</td>\n",
       "      <td>0.007960</td>\n",
       "      <td>4.0</td>\n",
       "    </tr>\n",
       "  </tbody>\n",
       "</table>\n",
       "<p>400 rows × 3 columns</p>\n",
       "</div>"
      ],
      "text/plain": [
       "         F-score   p-value   df\n",
       "ABCC10  3.348815  0.016188  4.0\n",
       "ABCC5   2.899062  0.030411  4.0\n",
       "ACBD6   4.649016  0.002725  4.0\n",
       "ACSL1   5.076888  0.001542  4.0\n",
       "ACTN2   4.385018  0.003890  4.0\n",
       "...          ...       ...  ...\n",
       "ZFPL1   4.897607  0.001955  4.0\n",
       "ZMAT2   2.573140  0.048140  4.0\n",
       "ZMYND8  6.765479  0.000178  4.0\n",
       "ZNF689  3.276864  0.017900  4.0\n",
       "ZNF692  3.860704  0.007960  4.0\n",
       "\n",
       "[400 rows x 3 columns]"
      ]
     },
     "execution_count": 20,
     "metadata": {},
     "output_type": "execute_result"
    }
   ],
   "source": [
    "res_df = res_dict['human-chimp']\n",
    "res_df[res_df['p-value'] < 0.05]"
   ]
  },
  {
   "cell_type": "code",
   "execution_count": 21,
   "id": "7b94c2b2-2208-418f-ad1d-da7b7df15900",
   "metadata": {},
   "outputs": [
    {
     "data": {
      "text/html": [
       "<div>\n",
       "<style scoped>\n",
       "    .dataframe tbody tr th:only-of-type {\n",
       "        vertical-align: middle;\n",
       "    }\n",
       "\n",
       "    .dataframe tbody tr th {\n",
       "        vertical-align: top;\n",
       "    }\n",
       "\n",
       "    .dataframe thead th {\n",
       "        text-align: right;\n",
       "    }\n",
       "</style>\n",
       "<table border=\"1\" class=\"dataframe\">\n",
       "  <thead>\n",
       "    <tr style=\"text-align: right;\">\n",
       "      <th></th>\n",
       "      <th>F-score</th>\n",
       "      <th>p-value</th>\n",
       "      <th>df</th>\n",
       "    </tr>\n",
       "  </thead>\n",
       "  <tbody>\n",
       "    <tr>\n",
       "      <th>AAGAB</th>\n",
       "      <td>2.881561</td>\n",
       "      <td>3.079188e-02</td>\n",
       "      <td>4.0</td>\n",
       "    </tr>\n",
       "    <tr>\n",
       "      <th>AAK1</th>\n",
       "      <td>4.516499</td>\n",
       "      <td>3.161344e-03</td>\n",
       "      <td>4.0</td>\n",
       "    </tr>\n",
       "    <tr>\n",
       "      <th>AATF</th>\n",
       "      <td>2.735681</td>\n",
       "      <td>3.786406e-02</td>\n",
       "      <td>4.0</td>\n",
       "    </tr>\n",
       "    <tr>\n",
       "      <th>AATK</th>\n",
       "      <td>15.667631</td>\n",
       "      <td>1.291293e-08</td>\n",
       "      <td>4.0</td>\n",
       "    </tr>\n",
       "    <tr>\n",
       "      <th>ABAT</th>\n",
       "      <td>5.597752</td>\n",
       "      <td>7.466510e-04</td>\n",
       "      <td>4.0</td>\n",
       "    </tr>\n",
       "    <tr>\n",
       "      <th>...</th>\n",
       "      <td>...</td>\n",
       "      <td>...</td>\n",
       "      <td>...</td>\n",
       "    </tr>\n",
       "    <tr>\n",
       "      <th>ZNF575</th>\n",
       "      <td>3.532014</td>\n",
       "      <td>1.231284e-02</td>\n",
       "      <td>4.0</td>\n",
       "    </tr>\n",
       "    <tr>\n",
       "      <th>ZNF576</th>\n",
       "      <td>3.424823</td>\n",
       "      <td>1.430915e-02</td>\n",
       "      <td>4.0</td>\n",
       "    </tr>\n",
       "    <tr>\n",
       "      <th>ZNF655</th>\n",
       "      <td>3.754807</td>\n",
       "      <td>9.021333e-03</td>\n",
       "      <td>4.0</td>\n",
       "    </tr>\n",
       "    <tr>\n",
       "      <th>ZNF689</th>\n",
       "      <td>4.724079</td>\n",
       "      <td>2.386041e-03</td>\n",
       "      <td>4.0</td>\n",
       "    </tr>\n",
       "    <tr>\n",
       "      <th>ZNF768</th>\n",
       "      <td>2.739868</td>\n",
       "      <td>3.763991e-02</td>\n",
       "      <td>4.0</td>\n",
       "    </tr>\n",
       "  </tbody>\n",
       "</table>\n",
       "<p>1041 rows × 3 columns</p>\n",
       "</div>"
      ],
      "text/plain": [
       "          F-score       p-value   df\n",
       "AAGAB    2.881561  3.079188e-02  4.0\n",
       "AAK1     4.516499  3.161344e-03  4.0\n",
       "AATF     2.735681  3.786406e-02  4.0\n",
       "AATK    15.667631  1.291293e-08  4.0\n",
       "ABAT     5.597752  7.466510e-04  4.0\n",
       "...           ...           ...  ...\n",
       "ZNF575   3.532014  1.231284e-02  4.0\n",
       "ZNF576   3.424823  1.430915e-02  4.0\n",
       "ZNF655   3.754807  9.021333e-03  4.0\n",
       "ZNF689   4.724079  2.386041e-03  4.0\n",
       "ZNF768   2.739868  3.763991e-02  4.0\n",
       "\n",
       "[1041 rows x 3 columns]"
      ]
     },
     "execution_count": 21,
     "metadata": {},
     "output_type": "execute_result"
    }
   ],
   "source": [
    "res_df = res_dict['human-macaque']\n",
    "res_df[res_df['p-value'] < 0.05]"
   ]
  },
  {
   "cell_type": "code",
   "execution_count": 22,
   "id": "ef1dfebd-f07e-4e6a-ad07-44e5ef330803",
   "metadata": {},
   "outputs": [
    {
     "data": {
      "text/plain": [
       "<Axes: >"
      ]
     },
     "execution_count": 22,
     "metadata": {},
     "output_type": "execute_result"
    },
    {
     "data": {
      "image/png": "[encoded data removed]",
      "text/plain": [
       "<Figure size 320x320 with 1 Axes>"
      ]
     },
     "metadata": {
      "image/png": {
       "height": 286,
       "width": 311
      }
     },
     "output_type": "display_data"
    }
   ],
   "source": [
    "res_df['p-value'].hist()"
   ]
  },
  {
   "cell_type": "code",
   "execution_count": 23,
   "id": "74728bac-d909-4570-a390-cbf4b348366c",
   "metadata": {},
   "outputs": [],
   "source": [
    "import pickle\n",
    "\n",
    "with open('results/ancova_res.pkl', 'wb') as f:\n",
    "    pickle.dump(res_dict, f)"
   ]
  },
  {
   "cell_type": "markdown",
   "id": "03afb91d-0503-4013-b3ab-8865612d8b08",
   "metadata": {},
   "source": [
    "# Visualise"
   ]
  },
  {
   "cell_type": "code",
   "execution_count": 25,
   "id": "847de5b8-48c7-4414-a84e-8243f38c341e",
   "metadata": {},
   "outputs": [
    {
     "data": {
      "text/plain": [
       "{'human-chimp': Index(['ABCC10', 'ABCC5', 'ACBD6', 'ACSL1', 'ACTN2', 'ADORA1', 'AHNAK2', 'AK1',\n",
       "        'AKAP7', 'AKT3',\n",
       "        ...\n",
       "        'WDR45', 'YWHAE', 'ZBTB17', 'ZBTB46', 'ZFP37', 'ZFPL1', 'ZMAT2',\n",
       "        'ZMYND8', 'ZNF689', 'ZNF692'],\n",
       "       dtype='object', length=400),\n",
       " 'human-macaque': Index(['AAGAB', 'AAK1', 'AATF', 'AATK', 'ABAT', 'ABCC10', 'ABCD3', 'ABCD4',\n",
       "        'ABTB1', 'ACAD9',\n",
       "        ...\n",
       "        'ZNF184', 'ZNF304', 'ZNF330', 'ZNF33A', 'ZNF408', 'ZNF575', 'ZNF576',\n",
       "        'ZNF655', 'ZNF689', 'ZNF768'],\n",
       "       dtype='object', length=1041),\n",
       " 'chimp-macaque': Index(['AATK', 'ABAT', 'ABCD3', 'ABCD4', 'ABLIM3', 'ABTB1', 'ACAD9', 'ACOT13',\n",
       "        'ACSBG1', 'ACSL1',\n",
       "        ...\n",
       "        'ZNF184', 'ZNF304', 'ZNF384', 'ZNF408', 'ZNF48', 'ZNF576', 'ZNF606',\n",
       "        'ZNF655', 'ZNF689', 'ZNF768'],\n",
       "       dtype='object', length=682)}"
      ]
     },
     "execution_count": 25,
     "metadata": {},
     "output_type": "execute_result"
    }
   ],
   "source": [
    "sign_genes = {key:value[value['p-value'] < 0.05].index for key, value in res_dict.items()}\n",
    "sign_genes"
   ]
  },
  {
   "cell_type": "code",
   "execution_count": 28,
   "id": "75907616-ad1c-4023-b881-011806a614aa",
   "metadata": {},
   "outputs": [
    {
     "data": {
      "text/plain": [
       "(Index(['ABCC10', 'ADORA1', 'AHNAK2', 'AKT3', 'ALCAM', 'ANXA6', 'APBB2',\n",
       "        'ARHGAP12', 'ARL1', 'ASAH1', 'ATAD1', 'ATP1A3', 'ATP5F1E', 'BBOF1',\n",
       "        'CABIN1', 'CDC23', 'CDK8', 'CERS5', 'COMMD6', 'DLGAP4', 'DMAP1',\n",
       "        'EIF1B', 'EIF3L', 'EIF4E3', 'EIF4G3', 'ENC1', 'ERG28', 'ETHE1',\n",
       "        'FAM32A', 'FBXW11', 'FGF9', 'FOXP1', 'FYN', 'GNPTAB', 'GTF3C2',\n",
       "        'IGFBP2', 'IGFBP6', 'IGSF21', 'JAM2', 'KEAP1', 'KHDRBS3', 'KIF21B',\n",
       "        'KLHDC8B', 'LIN7B', 'MAU2', 'MAX', 'MRPL50', 'NANS', 'NCAM2', 'NEK4',\n",
       "        'NIM1K', 'NRXN1', 'NRXN2', 'OCIAD2', 'OTUD4', 'PCBP4', 'PCDH9', 'PDIA3',\n",
       "        'PEPD', 'PHYHIP', 'PPP1CB', 'PPP1CC', 'PPP2R5A', 'PPP4C', 'PSME2',\n",
       "        'PTPRK', 'RAB22A', 'RABEP1', 'RALYL', 'RND2', 'RNF40', 'RRM1', 'RRP9',\n",
       "        'SCN3B', 'SCRG1', 'SF3B6', 'SLC6A6', 'SMG7', 'SND1', 'SNX15', 'STAU2',\n",
       "        'SURF2', 'SYNGAP1', 'SYNPR', 'THY1', 'TMEM108', 'TMEM54', 'TMEM59L',\n",
       "        'TTC8', 'VAT1L', 'VGLL4', 'VIPAS39', 'VPS51', 'YWHAE', 'ZBTB46',\n",
       "        'ZMYND8'],\n",
       "       dtype='object'),\n",
       " 96)"
      ]
     },
     "execution_count": 28,
     "metadata": {},
     "output_type": "execute_result"
    }
   ],
   "source": [
    "hs_genes = sign_genes['human-chimp'].intersection(sign_genes['human-macaque']).difference(sign_genes['chimp-macaque'])\n",
    "hs_genes, hs_genes.size"
   ]
  },
  {
   "cell_type": "code",
   "execution_count": 32,
   "id": "90608b0a-3c0c-4852-b45d-3ae332ab7b03",
   "metadata": {},
   "outputs": [
    {
     "data": {
      "text/plain": [
       "(Index(['ACTN2', 'AKAP7', 'ALKBH5', 'ANAPC5', 'AQP11', 'ATG16L1', 'BMT2',\n",
       "        'BOLA3', 'CDIPT', 'CTDNEP1', 'DCLK1', 'DNAJC4', 'DYNC1I2', 'ECSIT',\n",
       "        'FAM76A', 'FLII', 'HCCS', 'HIKESHI', 'HSF1', 'HSPB11', 'LMO3', 'LYPD6',\n",
       "        'MAFG', 'MCUB', 'MRPL23', 'MRPL49', 'MRPS36', 'MYG1', 'NUDCD1', 'NUP93',\n",
       "        'PCYOX1', 'PIK3C2B', 'PIP4K2C', 'PML', 'PTOV1', 'PTP4A2', 'RAC1',\n",
       "        'RCHY1', 'RING1', 'RNF2', 'RRN3', 'RSL24D1', 'SERINC1', 'SF3A2',\n",
       "        'SLC4A1AP', 'STARD4', 'TIAM1', 'TMCC2', 'TMEM126B', 'TMEM130',\n",
       "        'TMEM259', 'TRMT61B', 'UBTF', 'WDR37', 'ZBTB17', 'ZFPL1'],\n",
       "       dtype='object'),\n",
       " 56)"
      ]
     },
     "execution_count": 32,
     "metadata": {},
     "output_type": "execute_result"
    }
   ],
   "source": [
    "cs_genes = sign_genes['chimp-macaque'].intersection(sign_genes['human-chimp']).difference(sign_genes['human-macaque'])\n",
    "cs_genes, cs_genes.size"
   ]
  },
  {
   "cell_type": "code",
   "execution_count": 33,
   "id": "f4df9e5a-15f5-4bed-8e72-8c693deec19f",
   "metadata": {},
   "outputs": [
    {
     "data": {
      "text/plain": [
       "(Index(['AATK', 'ABAT', 'ABCD3', 'ABCD4', 'ABTB1', 'ACAD9', 'ACSBG1', 'ADAM19',\n",
       "        'ADGRB1', 'AIDA',\n",
       "        ...\n",
       "        'WSCD1', 'ZBTB7A', 'ZDHHC9', 'ZNF140', 'ZNF184', 'ZNF304', 'ZNF408',\n",
       "        'ZNF576', 'ZNF655', 'ZNF768'],\n",
       "       dtype='object', length=403),\n",
       " 403)"
      ]
     },
     "execution_count": 33,
     "metadata": {},
     "output_type": "execute_result"
    }
   ],
   "source": [
    "ms_genes = sign_genes['chimp-macaque'].intersection(sign_genes['human-macaque']).difference(sign_genes['human-chimp'])\n",
    "ms_genes, ms_genes.size"
   ]
  }
 ],
 "metadata": {
  "kernelspec": {
   "display_name": "Python 3 (ipykernel)",
   "language": "python",
   "name": "python3"
  },
  "language_info": {
   "codemirror_mode": {
    "name": "ipython",
    "version": 3
   },
   "file_extension": ".py",
   "mimetype": "text/x-python",
   "name": "python",
   "nbconvert_exporter": "python",
   "pygments_lexer": "ipython3",
   "version": "3.10.11"
  }
 },
 "nbformat": 4,
 "nbformat_minor": 5
}
