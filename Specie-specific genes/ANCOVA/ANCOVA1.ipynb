{
 "cells": [
  {
   "cell_type": "code",
   "execution_count": 1,
   "id": "819eb0aa-60f8-449c-aa7b-0b7a1d45954b",
   "metadata": {},
   "outputs": [],
   "source": [
    "import warnings\n",
    "import scanpy as sc\n",
    "import anndata as an\n",
    "import pandas as pd\n",
    "import numpy as np\n",
    "import matplotlib as mpl\n",
    "import matplotlib.pyplot as plt\n",
    "import seaborn as sns\n",
    "from urllib import request\n",
    "import json\n",
    "import os\n",
    "from tqdm.notebook import tqdm\n",
    "\n",
    "import statsmodels.api as sm\n",
    "from statsmodels.formula.api import ols\n",
    "from tqdm.notebook import tqdm\n",
    "from statsmodels.stats.multitest import multipletests\n",
    "\n",
    "sc.settings.set_figure_params(dpi=80)\n",
    "#sc.set_figure_params(facecolor=\"white\", figsize=(8, 8))\n",
    "warnings.simplefilter(action='ignore', category=FutureWarning)\n",
    "sc.settings.verbosity = 3"
   ]
  },
  {
   "cell_type": "markdown",
   "id": "006d2874-afab-4c04-8552-34989cccf57d",
   "metadata": {
    "id": "AAvYvli71MwA"
   },
   "source": [
    "# Global variables"
   ]
  },
  {
   "cell_type": "code",
   "execution_count": 2,
   "id": "5d15ec78-d10c-443a-abeb-754a91a26b4e",
   "metadata": {
    "id": "c4f4126f"
   },
   "outputs": [],
   "source": [
    "de_dir_path = '../../data/DE/ANOVA_mean/'"
   ]
  },
  {
   "cell_type": "code",
   "execution_count": 3,
   "id": "63b4a96e-8e9e-4e36-8c56-52d11a6fdd6f",
   "metadata": {},
   "outputs": [],
   "source": [
    "layers = ['L1', 'L2', 'L3', 'L4', 'L5', \"L6\", 'WM']"
   ]
  },
  {
   "cell_type": "code",
   "execution_count": 4,
   "id": "850dbbea-68f9-48b7-a3a2-944607ddea2d",
   "metadata": {
    "colab": {
     "base_uri": "https://localhost:8080/"
    },
    "id": "4223c5ff",
    "outputId": "ad670861-e545-419f-b759-280820848391"
   },
   "outputs": [
    {
     "data": {
      "text/plain": [
       "['anova_mamm_mean.csv',\n",
       " 'cluster_spectr_anova_mean_6.csv',\n",
       " 'cluster_spectr_anova_mean_7.csv',\n",
       " 'cluster_spectr_anova_mean_8.csv',\n",
       " 'cluster_spectr_anova_mean_9.csv',\n",
       " 'ttest_mamm_mean.csv']"
      ]
     },
     "execution_count": 4,
     "metadata": {},
     "output_type": "execute_result"
    }
   ],
   "source": [
    "os.listdir(de_dir_path)"
   ]
  },
  {
   "cell_type": "markdown",
   "id": "27666551-ccd2-45a9-9d03-9d9cd9f23cb1",
   "metadata": {},
   "source": [
    "## Load files"
   ]
  },
  {
   "cell_type": "markdown",
   "id": "5ad25d80-6748-4443-acb4-3581a8381cdc",
   "metadata": {
    "id": "22169059"
   },
   "source": [
    "### DE results"
   ]
  },
  {
   "cell_type": "code",
   "execution_count": 5,
   "id": "fffc3368-1063-42db-b3d0-32709a7b5d41",
   "metadata": {
    "colab": {
     "base_uri": "https://localhost:8080/",
     "height": 206
    },
    "id": "ehsiAIF8D61S",
    "outputId": "e0e5605e-4158-412b-eae7-332d6a6a1f97"
   },
   "outputs": [
    {
     "data": {
      "text/html": [
       "<div>\n",
       "<style scoped>\n",
       "    .dataframe tbody tr th:only-of-type {\n",
       "        vertical-align: middle;\n",
       "    }\n",
       "\n",
       "    .dataframe tbody tr th {\n",
       "        vertical-align: top;\n",
       "    }\n",
       "\n",
       "    .dataframe thead th {\n",
       "        text-align: right;\n",
       "    }\n",
       "</style>\n",
       "<table border=\"1\" class=\"dataframe\">\n",
       "  <thead>\n",
       "    <tr style=\"text-align: right;\">\n",
       "      <th></th>\n",
       "      <th>sum_sq</th>\n",
       "      <th>df</th>\n",
       "      <th>F</th>\n",
       "      <th>PR(&gt;F)</th>\n",
       "      <th>p_val_adj</th>\n",
       "    </tr>\n",
       "  </thead>\n",
       "  <tbody>\n",
       "    <tr>\n",
       "      <th>A1BG</th>\n",
       "      <td>0.122578</td>\n",
       "      <td>12.0</td>\n",
       "      <td>2.796490</td>\n",
       "      <td>0.003701</td>\n",
       "      <td>0.010364</td>\n",
       "    </tr>\n",
       "    <tr>\n",
       "      <th>AAAS</th>\n",
       "      <td>0.017527</td>\n",
       "      <td>12.0</td>\n",
       "      <td>0.944161</td>\n",
       "      <td>0.509517</td>\n",
       "      <td>0.596369</td>\n",
       "    </tr>\n",
       "    <tr>\n",
       "      <th>AACS</th>\n",
       "      <td>0.136394</td>\n",
       "      <td>12.0</td>\n",
       "      <td>2.729393</td>\n",
       "      <td>0.004508</td>\n",
       "      <td>0.012212</td>\n",
       "    </tr>\n",
       "    <tr>\n",
       "      <th>AADAT</th>\n",
       "      <td>0.057031</td>\n",
       "      <td>12.0</td>\n",
       "      <td>5.478881</td>\n",
       "      <td>0.000002</td>\n",
       "      <td>0.000016</td>\n",
       "    </tr>\n",
       "    <tr>\n",
       "      <th>AAGAB</th>\n",
       "      <td>0.043359</td>\n",
       "      <td>12.0</td>\n",
       "      <td>2.127609</td>\n",
       "      <td>0.026045</td>\n",
       "      <td>0.053640</td>\n",
       "    </tr>\n",
       "  </tbody>\n",
       "</table>\n",
       "</div>"
      ],
      "text/plain": [
       "         sum_sq    df         F    PR(>F)  p_val_adj\n",
       "A1BG   0.122578  12.0  2.796490  0.003701   0.010364\n",
       "AAAS   0.017527  12.0  0.944161  0.509517   0.596369\n",
       "AACS   0.136394  12.0  2.729393  0.004508   0.012212\n",
       "AADAT  0.057031  12.0  5.478881  0.000002   0.000016\n",
       "AAGAB  0.043359  12.0  2.127609  0.026045   0.053640"
      ]
     },
     "execution_count": 5,
     "metadata": {},
     "output_type": "execute_result"
    }
   ],
   "source": [
    "anova_res = pd.read_csv(de_dir_path + 'anova_mamm_mean.csv', index_col=0)\n",
    "anova_genes = anova_res[anova_res.p_val_adj < 0.05].index\n",
    "anova_res.head()"
   ]
  },
  {
   "cell_type": "code",
   "execution_count": 6,
   "id": "d3045dd9-40c5-4dc6-918b-d07d14a81ab6",
   "metadata": {},
   "outputs": [],
   "source": [
    "n_clusters = 7\n",
    "anova_labels = pd.read_csv(de_dir_path + f'cluster_spectr_anova_mean_{n_clusters}.csv', index_col=0)['0'].sort_values()\n",
    "anova_labels = anova_labels\n",
    "anova_labels.name = 'ANOVA_labels'"
   ]
  },
  {
   "cell_type": "markdown",
   "id": "a703d115-a67c-4870-aa08-e3b3d3e886d1",
   "metadata": {
    "id": "yQ7JjvscKLd4"
   },
   "source": [
    "## Load normalized pseudobulks"
   ]
  },
  {
   "cell_type": "code",
   "execution_count": 10,
   "id": "2fbd5d4d-3056-48de-85ba-9d47bf5a9f33",
   "metadata": {
    "id": "685kKTuvKfog"
   },
   "outputs": [],
   "source": [
    "pb_dir_path = './results/'"
   ]
  },
  {
   "cell_type": "code",
   "execution_count": 11,
   "id": "3604a101-7265-4af6-b5c6-69f478d5a6d1",
   "metadata": {
    "colab": {
     "base_uri": "https://localhost:8080/"
    },
    "id": "PlB6qD1yKfoh",
    "outputId": "fd8823fa-4561-4142-c946-aa0d778b4728"
   },
   "outputs": [
    {
     "data": {
      "text/plain": [
       "['.ipynb_checkpoints',\n",
       " 'chimp_clusters_28.csv',\n",
       " 'chimp_clusters_50.csv',\n",
       " 'chimp_clusters_77.csv',\n",
       " 'hs_anova_inter_clusters.csv',\n",
       " 'hs_layers.csv',\n",
       " 'hs_prof.csv',\n",
       " 'hs_prof_anova.csv',\n",
       " 'hs_ttest_inter_clusters.csv',\n",
       " 'human_clusters_28.csv',\n",
       " 'human_clusters_50.csv',\n",
       " 'human_clusters_67.csv',\n",
       " 'human_clusters_77.csv',\n",
       " 'hum_spec_onehot.csv',\n",
       " 'l1_distances.pkl',\n",
       " 'macaque_clusters_28.csv',\n",
       " 'macaque_clusters_77.csv',\n",
       " 'mean_norm_clust_allgenes.csv',\n",
       " 'pb_mammals_samplenorm_mean_filtered.h5ad',\n",
       " 'specie_specific_genes_tr28.pkl',\n",
       " 'specie_specific_genes_tr35.pkl',\n",
       " 'specie_specific_genes_tr50.pkl',\n",
       " 'specie_specific_genes_tr67.pkl',\n",
       " 'specie_specific_genes_tr77.pkl',\n",
       " 'zscore_norm_clust_allgenes.csv']"
      ]
     },
     "execution_count": 11,
     "metadata": {},
     "output_type": "execute_result"
    }
   ],
   "source": [
    "os.listdir(pb_dir_path)"
   ]
  },
  {
   "cell_type": "code",
   "execution_count": 13,
   "id": "b029cd09-4aa5-47dd-8c8e-f679b1c59bd4",
   "metadata": {},
   "outputs": [
    {
     "data": {
      "text/plain": [
       "AnnData object with n_obs × n_vars = 89 × 5390\n",
       "    obs: 'layer', 'sample_id', 'psbulk_n_cells', 'psbulk_counts', 'condition', 'lib_size', 'log_lib_size'\n",
       "    var: 'feature_types', 'mt', 'hb', 'ribo'\n",
       "    uns: 'log1p', 'pca'\n",
       "    obsm: 'X_pca'\n",
       "    varm: 'PCs'\n",
       "    layers: 'psbulk_props'"
      ]
     },
     "execution_count": 13,
     "metadata": {},
     "output_type": "execute_result"
    }
   ],
   "source": [
    "adata_pb_norm = sc.read_h5ad(pb_dir_path + 'pb_mammals_samplenorm_mean_filtered.h5ad')\n",
    "#adata_pb_norm_mean.var = anova_res\n",
    "adata_pb_norm"
   ]
  },
  {
   "cell_type": "code",
   "execution_count": 14,
   "id": "c07e81c2-5cf8-4bb3-bd19-2aee4bd10072",
   "metadata": {},
   "outputs": [
    {
     "data": {
      "text/plain": [
       "5390"
      ]
     },
     "execution_count": 14,
     "metadata": {},
     "output_type": "execute_result"
    }
   ],
   "source": [
    "background_genes = adata_pb_norm.var_names.tolist()\n",
    "len(background_genes)"
   ]
  },
  {
   "cell_type": "markdown",
   "id": "f28865ff-bf45-418f-952a-ca2dc81b0a46",
   "metadata": {},
   "source": [
    "### Create dataframe"
   ]
  },
  {
   "cell_type": "code",
   "execution_count": 15,
   "id": "f82ac5e3-4502-4de3-a5ba-e90c17311f42",
   "metadata": {},
   "outputs": [],
   "source": [
    "df = pd.DataFrame(adata_pb_norm.X, index=adata_pb_norm.obs_names, columns=adata_pb_norm.var_names)"
   ]
  },
  {
   "cell_type": "code",
   "execution_count": 16,
   "id": "a351c47a-c506-48f2-b7a0-d351957188b8",
   "metadata": {},
   "outputs": [],
   "source": [
    "sample_order = dict()\n",
    "for cond in ['human', 'chimp', 'macaque']:\n",
    "    samples = df.loc[df.index.str.contains(cond)].index\n",
    "    order = sorted(samples.tolist(), key=lambda x: x[-2:])\n",
    "    order_laminar = list(filter(lambda x: 'L' in x, order))\n",
    "    order_wm = list(filter(lambda x: 'WM' in x, order))\n",
    "    sample_order[cond] = order_wm + order_laminar\n",
    "sample_order['all'] = sample_order['human'] + sample_order['chimp'] + sample_order['macaque']\n",
    "df = df.loc[sample_order['all']]"
   ]
  },
  {
   "cell_type": "code",
   "execution_count": 17,
   "id": "35a6294b-2e8d-409a-9bf2-d1eb1d391b5d",
   "metadata": {},
   "outputs": [
    {
     "data": {
      "text/html": [
       "<div>\n",
       "<style scoped>\n",
       "    .dataframe tbody tr th:only-of-type {\n",
       "        vertical-align: middle;\n",
       "    }\n",
       "\n",
       "    .dataframe tbody tr th {\n",
       "        vertical-align: top;\n",
       "    }\n",
       "\n",
       "    .dataframe thead th {\n",
       "        text-align: right;\n",
       "    }\n",
       "</style>\n",
       "<table border=\"1\" class=\"dataframe\">\n",
       "  <thead>\n",
       "    <tr style=\"text-align: right;\">\n",
       "      <th></th>\n",
       "      <th>AACS</th>\n",
       "      <th>AAGAB</th>\n",
       "      <th>AAK1</th>\n",
       "      <th>AAMP</th>\n",
       "      <th>AAR2</th>\n",
       "      <th>AARS1</th>\n",
       "      <th>AARS2</th>\n",
       "      <th>AASDH</th>\n",
       "      <th>AASDHPPT</th>\n",
       "      <th>AATF</th>\n",
       "      <th>...</th>\n",
       "      <th>ZNFX1</th>\n",
       "      <th>ZNHIT3</th>\n",
       "      <th>ZNRD2</th>\n",
       "      <th>ZNRF1</th>\n",
       "      <th>ZPR1</th>\n",
       "      <th>ZRANB2</th>\n",
       "      <th>ZSCAN18</th>\n",
       "      <th>ZSCAN21</th>\n",
       "      <th>ZUP1</th>\n",
       "      <th>ZZZ3</th>\n",
       "    </tr>\n",
       "  </thead>\n",
       "  <tbody>\n",
       "    <tr>\n",
       "      <th>human_759_WM</th>\n",
       "      <td>0.041268</td>\n",
       "      <td>0.025707</td>\n",
       "      <td>-0.072019</td>\n",
       "      <td>0.051644</td>\n",
       "      <td>-0.040637</td>\n",
       "      <td>0.007453</td>\n",
       "      <td>-0.047439</td>\n",
       "      <td>0.013681</td>\n",
       "      <td>-0.112373</td>\n",
       "      <td>-0.027305</td>\n",
       "      <td>...</td>\n",
       "      <td>0.002537</td>\n",
       "      <td>-0.145321</td>\n",
       "      <td>-0.012920</td>\n",
       "      <td>-0.019393</td>\n",
       "      <td>0.010821</td>\n",
       "      <td>0.002873</td>\n",
       "      <td>0.018861</td>\n",
       "      <td>0.032487</td>\n",
       "      <td>-0.083505</td>\n",
       "      <td>-0.040384</td>\n",
       "    </tr>\n",
       "    <tr>\n",
       "      <th>human_j12_WM</th>\n",
       "      <td>0.025153</td>\n",
       "      <td>-0.044543</td>\n",
       "      <td>0.001885</td>\n",
       "      <td>0.044115</td>\n",
       "      <td>-0.005605</td>\n",
       "      <td>0.064853</td>\n",
       "      <td>-0.020012</td>\n",
       "      <td>0.036537</td>\n",
       "      <td>-0.247531</td>\n",
       "      <td>0.059761</td>\n",
       "      <td>...</td>\n",
       "      <td>0.029141</td>\n",
       "      <td>-0.053724</td>\n",
       "      <td>0.029411</td>\n",
       "      <td>-0.080373</td>\n",
       "      <td>-0.068238</td>\n",
       "      <td>-0.011533</td>\n",
       "      <td>-0.072855</td>\n",
       "      <td>-0.043932</td>\n",
       "      <td>-0.005179</td>\n",
       "      <td>0.055280</td>\n",
       "    </tr>\n",
       "    <tr>\n",
       "      <th>human_j3_WM</th>\n",
       "      <td>-0.028083</td>\n",
       "      <td>-0.011412</td>\n",
       "      <td>0.121080</td>\n",
       "      <td>-0.036493</td>\n",
       "      <td>-0.043526</td>\n",
       "      <td>-0.017252</td>\n",
       "      <td>-0.003079</td>\n",
       "      <td>0.047993</td>\n",
       "      <td>-0.150683</td>\n",
       "      <td>0.065300</td>\n",
       "      <td>...</td>\n",
       "      <td>0.026583</td>\n",
       "      <td>-0.017077</td>\n",
       "      <td>0.022215</td>\n",
       "      <td>-0.106516</td>\n",
       "      <td>0.025459</td>\n",
       "      <td>0.008847</td>\n",
       "      <td>-0.013096</td>\n",
       "      <td>-0.029365</td>\n",
       "      <td>0.055279</td>\n",
       "      <td>0.020677</td>\n",
       "    </tr>\n",
       "    <tr>\n",
       "      <th>human_j4_WM</th>\n",
       "      <td>-0.020194</td>\n",
       "      <td>-0.054054</td>\n",
       "      <td>0.040012</td>\n",
       "      <td>-0.023853</td>\n",
       "      <td>0.081220</td>\n",
       "      <td>0.055494</td>\n",
       "      <td>-0.012639</td>\n",
       "      <td>-0.001961</td>\n",
       "      <td>-0.177060</td>\n",
       "      <td>0.061381</td>\n",
       "      <td>...</td>\n",
       "      <td>0.055548</td>\n",
       "      <td>-0.082023</td>\n",
       "      <td>0.017378</td>\n",
       "      <td>-0.073447</td>\n",
       "      <td>0.030231</td>\n",
       "      <td>-0.000191</td>\n",
       "      <td>-0.116543</td>\n",
       "      <td>-0.023978</td>\n",
       "      <td>0.012403</td>\n",
       "      <td>0.078987</td>\n",
       "    </tr>\n",
       "    <tr>\n",
       "      <th>human_j6_WM</th>\n",
       "      <td>0.004524</td>\n",
       "      <td>0.010688</td>\n",
       "      <td>0.078731</td>\n",
       "      <td>0.049893</td>\n",
       "      <td>-0.014778</td>\n",
       "      <td>-0.074468</td>\n",
       "      <td>-0.035236</td>\n",
       "      <td>-0.024390</td>\n",
       "      <td>0.091938</td>\n",
       "      <td>0.022454</td>\n",
       "      <td>...</td>\n",
       "      <td>-0.049726</td>\n",
       "      <td>-0.146974</td>\n",
       "      <td>0.022209</td>\n",
       "      <td>0.003881</td>\n",
       "      <td>0.070576</td>\n",
       "      <td>0.027428</td>\n",
       "      <td>-0.033470</td>\n",
       "      <td>-0.019749</td>\n",
       "      <td>0.130150</td>\n",
       "      <td>0.027191</td>\n",
       "    </tr>\n",
       "  </tbody>\n",
       "</table>\n",
       "<p>5 rows × 5390 columns</p>\n",
       "</div>"
      ],
      "text/plain": [
       "                  AACS     AAGAB      AAK1      AAMP      AAR2     AARS1  \\\n",
       "human_759_WM  0.041268  0.025707 -0.072019  0.051644 -0.040637  0.007453   \n",
       "human_j12_WM  0.025153 -0.044543  0.001885  0.044115 -0.005605  0.064853   \n",
       "human_j3_WM  -0.028083 -0.011412  0.121080 -0.036493 -0.043526 -0.017252   \n",
       "human_j4_WM  -0.020194 -0.054054  0.040012 -0.023853  0.081220  0.055494   \n",
       "human_j6_WM   0.004524  0.010688  0.078731  0.049893 -0.014778 -0.074468   \n",
       "\n",
       "                 AARS2     AASDH  AASDHPPT      AATF  ...     ZNFX1    ZNHIT3  \\\n",
       "human_759_WM -0.047439  0.013681 -0.112373 -0.027305  ...  0.002537 -0.145321   \n",
       "human_j12_WM -0.020012  0.036537 -0.247531  0.059761  ...  0.029141 -0.053724   \n",
       "human_j3_WM  -0.003079  0.047993 -0.150683  0.065300  ...  0.026583 -0.017077   \n",
       "human_j4_WM  -0.012639 -0.001961 -0.177060  0.061381  ...  0.055548 -0.082023   \n",
       "human_j6_WM  -0.035236 -0.024390  0.091938  0.022454  ... -0.049726 -0.146974   \n",
       "\n",
       "                 ZNRD2     ZNRF1      ZPR1    ZRANB2   ZSCAN18   ZSCAN21  \\\n",
       "human_759_WM -0.012920 -0.019393  0.010821  0.002873  0.018861  0.032487   \n",
       "human_j12_WM  0.029411 -0.080373 -0.068238 -0.011533 -0.072855 -0.043932   \n",
       "human_j3_WM   0.022215 -0.106516  0.025459  0.008847 -0.013096 -0.029365   \n",
       "human_j4_WM   0.017378 -0.073447  0.030231 -0.000191 -0.116543 -0.023978   \n",
       "human_j6_WM   0.022209  0.003881  0.070576  0.027428 -0.033470 -0.019749   \n",
       "\n",
       "                  ZUP1      ZZZ3  \n",
       "human_759_WM -0.083505 -0.040384  \n",
       "human_j12_WM -0.005179  0.055280  \n",
       "human_j3_WM   0.055279  0.020677  \n",
       "human_j4_WM   0.012403  0.078987  \n",
       "human_j6_WM   0.130150  0.027191  \n",
       "\n",
       "[5 rows x 5390 columns]"
      ]
     },
     "execution_count": 17,
     "metadata": {},
     "output_type": "execute_result"
    }
   ],
   "source": [
    "df.head()"
   ]
  },
  {
   "cell_type": "code",
   "execution_count": 18,
   "id": "1e07d1ec-5289-40dd-a0a8-104b39fb34bb",
   "metadata": {},
   "outputs": [],
   "source": [
    "df_cont = df.copy()\n",
    "df_cont['condition'] = adata_pb_norm.obs.condition\n",
    "df_cont['layer'] = adata_pb_norm.obs.layer\n",
    "df_cont['layer'] = df_cont.layer.map(dict(zip(sorted(df_cont.layer.unique()), range(1, 8)))).astype(int)\n",
    "df_cont['intercept'] = 1"
   ]
  },
  {
   "cell_type": "code",
   "execution_count": 19,
   "id": "39892d4b-bddd-4279-8e20-151f3dea82d5",
   "metadata": {},
   "outputs": [],
   "source": [
    "df_cont.columns = df_cont.columns.str.replace('-', '')"
   ]
  },
  {
   "cell_type": "code",
   "execution_count": 20,
   "id": "611bc47a-29c1-4182-807a-007059b5a0dc",
   "metadata": {
    "scrolled": true
   },
   "outputs": [
    {
     "data": {
      "application/vnd.jupyter.widget-view+json": {
       "model_id": "7c69ee3e86f643d9a61bcc85101ffb7b",
       "version_major": 2,
       "version_minor": 0
      },
      "text/plain": [
       "  0%|          | 0/5390 [00:00<?, ?it/s]"
      ]
     },
     "metadata": {},
     "output_type": "display_data"
    },
    {
     "data": {
      "application/vnd.jupyter.widget-view+json": {
       "model_id": "07b03177bf8341698a55abf4a4adea08",
       "version_major": 2,
       "version_minor": 0
      },
      "text/plain": [
       "  0%|          | 0/5390 [00:00<?, ?it/s]"
      ]
     },
     "metadata": {},
     "output_type": "display_data"
    },
    {
     "data": {
      "application/vnd.jupyter.widget-view+json": {
       "model_id": "a823e2613f4e4b7fadf6d525dafc8585",
       "version_major": 2,
       "version_minor": 0
      },
      "text/plain": [
       "  0%|          | 0/5390 [00:00<?, ?it/s]"
      ]
     },
     "metadata": {},
     "output_type": "display_data"
    }
   ],
   "source": [
    "p_val_dict = dict()\n",
    "for specie in ['human', 'chimp', 'macaque']:\n",
    "    p_val_list = []\n",
    "    for gene in tqdm(df_cont.columns[:-3]):\n",
    "        formula = f'{gene} ~ layer + layer ^ 2 + layer ^ 3'\n",
    "        subs_index = df_cont[df_cont.condition == specie].index\n",
    "        model = ols(formula, data=df_cont, subset=subs_index).fit()\n",
    "        p_val_list.append(model.f_pvalue)\n",
    "    p_val_dict[specie] = p_val_list"
   ]
  },
  {
   "cell_type": "code",
   "execution_count": 21,
   "id": "649df17a-71e7-4717-9b00-0661734cddd6",
   "metadata": {},
   "outputs": [
    {
     "data": {
      "text/html": [
       "<div>\n",
       "<style scoped>\n",
       "    .dataframe tbody tr th:only-of-type {\n",
       "        vertical-align: middle;\n",
       "    }\n",
       "\n",
       "    .dataframe tbody tr th {\n",
       "        vertical-align: top;\n",
       "    }\n",
       "\n",
       "    .dataframe thead th {\n",
       "        text-align: right;\n",
       "    }\n",
       "</style>\n",
       "<table border=\"1\" class=\"dataframe\">\n",
       "  <thead>\n",
       "    <tr style=\"text-align: right;\">\n",
       "      <th></th>\n",
       "      <th>human</th>\n",
       "      <th>chimp</th>\n",
       "      <th>macaque</th>\n",
       "    </tr>\n",
       "  </thead>\n",
       "  <tbody>\n",
       "    <tr>\n",
       "      <th>AACS</th>\n",
       "      <td>0.001206</td>\n",
       "      <td>0.014287</td>\n",
       "      <td>0.318736</td>\n",
       "    </tr>\n",
       "    <tr>\n",
       "      <th>AAGAB</th>\n",
       "      <td>0.731575</td>\n",
       "      <td>0.661344</td>\n",
       "      <td>0.024143</td>\n",
       "    </tr>\n",
       "    <tr>\n",
       "      <th>AAK1</th>\n",
       "      <td>0.000658</td>\n",
       "      <td>0.699175</td>\n",
       "      <td>0.069657</td>\n",
       "    </tr>\n",
       "    <tr>\n",
       "      <th>AAMP</th>\n",
       "      <td>0.762617</td>\n",
       "      <td>0.530339</td>\n",
       "      <td>0.947528</td>\n",
       "    </tr>\n",
       "    <tr>\n",
       "      <th>AAR2</th>\n",
       "      <td>0.312623</td>\n",
       "      <td>0.436571</td>\n",
       "      <td>0.343371</td>\n",
       "    </tr>\n",
       "  </tbody>\n",
       "</table>\n",
       "</div>"
      ],
      "text/plain": [
       "          human     chimp   macaque\n",
       "AACS   0.001206  0.014287  0.318736\n",
       "AAGAB  0.731575  0.661344  0.024143\n",
       "AAK1   0.000658  0.699175  0.069657\n",
       "AAMP   0.762617  0.530339  0.947528\n",
       "AAR2   0.312623  0.436571  0.343371"
      ]
     },
     "execution_count": 21,
     "metadata": {},
     "output_type": "execute_result"
    }
   ],
   "source": [
    "results = pd.DataFrame(p_val_dict, index=df.columns)\n",
    "results.head()"
   ]
  },
  {
   "cell_type": "code",
   "execution_count": 22,
   "id": "52093eee-46f7-4761-82c2-ae374c736266",
   "metadata": {},
   "outputs": [],
   "source": [
    "results.to_csv('gene_selection_df.csv')"
   ]
  },
  {
   "cell_type": "code",
   "execution_count": 24,
   "id": "2435b147-34cb-42dd-8a1c-53c61b9aaa02",
   "metadata": {},
   "outputs": [
    {
     "data": {
      "application/vnd.jupyter.widget-view+json": {
       "model_id": "1e8fa255365a4e899c8bf51c5f7768c0",
       "version_major": 2,
       "version_minor": 0
      },
      "text/plain": [
       "  0%|          | 0/5390 [00:00<?, ?it/s]"
      ]
     },
     "metadata": {},
     "output_type": "display_data"
    },
    {
     "data": {
      "application/vnd.jupyter.widget-view+json": {
       "model_id": "7d54541f970f4c5ba711e7e7c3456a78",
       "version_major": 2,
       "version_minor": 0
      },
      "text/plain": [
       "  0%|          | 0/5390 [00:00<?, ?it/s]"
      ]
     },
     "metadata": {},
     "output_type": "display_data"
    },
    {
     "data": {
      "application/vnd.jupyter.widget-view+json": {
       "model_id": "505c756f910e441bb9ab759614896b26",
       "version_major": 2,
       "version_minor": 0
      },
      "text/plain": [
       "  0%|          | 0/5390 [00:00<?, ?it/s]"
      ]
     },
     "metadata": {},
     "output_type": "display_data"
    },
    {
     "data": {
      "application/vnd.jupyter.widget-view+json": {
       "model_id": "b5ee70e90d7a43e9ab9639578c1930be",
       "version_major": 2,
       "version_minor": 0
      },
      "text/plain": [
       "  0%|          | 0/5390 [00:00<?, ?it/s]"
      ]
     },
     "metadata": {},
     "output_type": "display_data"
    },
    {
     "data": {
      "application/vnd.jupyter.widget-view+json": {
       "model_id": "69f55fa3a543424dbeb664c9bdfa3892",
       "version_major": 2,
       "version_minor": 0
      },
      "text/plain": [
       "  0%|          | 0/5390 [00:00<?, ?it/s]"
      ]
     },
     "metadata": {},
     "output_type": "display_data"
    },
    {
     "data": {
      "application/vnd.jupyter.widget-view+json": {
       "model_id": "706c58dfa8c74dff8a9bd48e02e876ba",
       "version_major": 2,
       "version_minor": 0
      },
      "text/plain": [
       "  0%|          | 0/5390 [00:00<?, ?it/s]"
      ]
     },
     "metadata": {},
     "output_type": "display_data"
    }
   ],
   "source": [
    "from itertools import permutations\n",
    "\n",
    "res_dict = dict()\n",
    "conditions = ['human', 'chimp', 'macaque']\n",
    "permut = list(permutations(conditions, 2))\n",
    "\n",
    "for ref_specie, sec_specie in permut:\n",
    "    res_list = []\n",
    "    not_const_genes = results[results[ref_specie] < 0.05].index\n",
    "    for gene in tqdm(df_cont.columns[:-3]):\n",
    "        subs_index = df_cont[df_cont.condition.isin([ref_specie, sec_specie])].index\n",
    "        df_cont_sub = df_cont.loc[subs_index].copy()\n",
    "        df_cont_sub.condition = df_cont_sub.condition.astype(str)\n",
    "        \n",
    "        formula1 = f'{gene} ~ layer + layer ^ 2 + layer ^ 3'\n",
    "        model1 = ols(formula, data=df_cont_sub).fit()\n",
    "        \n",
    "        formula2 = f'{gene} ~ (layer + layer ^ 2 + layer ^ 3) * condition'\n",
    "        model2 = ols(formula2, data=df_cont_sub).fit()\n",
    "\n",
    "        res_list.append(model2.compare_f_test(model1))\n",
    "    res_dict[f'{ref_specie}-{sec_specie}'] = pd.DataFrame(res_list, columns=['F-score', 'p-value', 'df'], index=df.columns)"
   ]
  },
  {
   "cell_type": "code",
   "execution_count": 25,
   "id": "3928710b-5450-4f0e-b95c-38857b3b17fd",
   "metadata": {},
   "outputs": [
    {
     "data": {
      "text/html": [
       "<div>\n",
       "<style scoped>\n",
       "    .dataframe tbody tr th:only-of-type {\n",
       "        vertical-align: middle;\n",
       "    }\n",
       "\n",
       "    .dataframe tbody tr th {\n",
       "        vertical-align: top;\n",
       "    }\n",
       "\n",
       "    .dataframe thead th {\n",
       "        text-align: right;\n",
       "    }\n",
       "</style>\n",
       "<table border=\"1\" class=\"dataframe\">\n",
       "  <thead>\n",
       "    <tr style=\"text-align: right;\">\n",
       "      <th></th>\n",
       "      <th>F-score</th>\n",
       "      <th>p-value</th>\n",
       "      <th>df</th>\n",
       "    </tr>\n",
       "  </thead>\n",
       "  <tbody>\n",
       "    <tr>\n",
       "      <th>ABCG4</th>\n",
       "      <td>3.147098</td>\n",
       "      <td>0.021465</td>\n",
       "      <td>4.0</td>\n",
       "    </tr>\n",
       "    <tr>\n",
       "      <th>ADAL</th>\n",
       "      <td>3.720984</td>\n",
       "      <td>0.009653</td>\n",
       "      <td>4.0</td>\n",
       "    </tr>\n",
       "    <tr>\n",
       "      <th>ALG12</th>\n",
       "      <td>3.167152</td>\n",
       "      <td>0.020871</td>\n",
       "      <td>4.0</td>\n",
       "    </tr>\n",
       "    <tr>\n",
       "      <th>ANAPC2</th>\n",
       "      <td>11.244549</td>\n",
       "      <td>0.000001</td>\n",
       "      <td>4.0</td>\n",
       "    </tr>\n",
       "    <tr>\n",
       "      <th>ANAPC4</th>\n",
       "      <td>3.458951</td>\n",
       "      <td>0.013885</td>\n",
       "      <td>4.0</td>\n",
       "    </tr>\n",
       "    <tr>\n",
       "      <th>...</th>\n",
       "      <td>...</td>\n",
       "      <td>...</td>\n",
       "      <td>...</td>\n",
       "    </tr>\n",
       "    <tr>\n",
       "      <th>ZNF184</th>\n",
       "      <td>2.744382</td>\n",
       "      <td>0.037813</td>\n",
       "      <td>4.0</td>\n",
       "    </tr>\n",
       "    <tr>\n",
       "      <th>ZNF213</th>\n",
       "      <td>7.805032</td>\n",
       "      <td>0.000051</td>\n",
       "      <td>4.0</td>\n",
       "    </tr>\n",
       "    <tr>\n",
       "      <th>ZNF341</th>\n",
       "      <td>6.125881</td>\n",
       "      <td>0.000397</td>\n",
       "      <td>4.0</td>\n",
       "    </tr>\n",
       "    <tr>\n",
       "      <th>ZNF510</th>\n",
       "      <td>8.514597</td>\n",
       "      <td>0.000022</td>\n",
       "      <td>4.0</td>\n",
       "    </tr>\n",
       "    <tr>\n",
       "      <th>ZNF576</th>\n",
       "      <td>4.888226</td>\n",
       "      <td>0.001980</td>\n",
       "      <td>4.0</td>\n",
       "    </tr>\n",
       "  </tbody>\n",
       "</table>\n",
       "<p>98 rows × 3 columns</p>\n",
       "</div>"
      ],
      "text/plain": [
       "          F-score   p-value   df\n",
       "ABCG4    3.147098  0.021465  4.0\n",
       "ADAL     3.720984  0.009653  4.0\n",
       "ALG12    3.167152  0.020871  4.0\n",
       "ANAPC2  11.244549  0.000001  4.0\n",
       "ANAPC4   3.458951  0.013885  4.0\n",
       "...           ...       ...  ...\n",
       "ZNF184   2.744382  0.037813  4.0\n",
       "ZNF213   7.805032  0.000051  4.0\n",
       "ZNF341   6.125881  0.000397  4.0\n",
       "ZNF510   8.514597  0.000022  4.0\n",
       "ZNF576   4.888226  0.001980  4.0\n",
       "\n",
       "[98 rows x 3 columns]"
      ]
     },
     "execution_count": 25,
     "metadata": {},
     "output_type": "execute_result"
    }
   ],
   "source": [
    "res_df = res_dict['human-chimp']\n",
    "res_df[res_df['p-value'] < 0.05]"
   ]
  },
  {
   "cell_type": "code",
   "execution_count": 26,
   "id": "7b94c2b2-2208-418f-ad1d-da7b7df15900",
   "metadata": {},
   "outputs": [
    {
     "data": {
      "text/html": [
       "<div>\n",
       "<style scoped>\n",
       "    .dataframe tbody tr th:only-of-type {\n",
       "        vertical-align: middle;\n",
       "    }\n",
       "\n",
       "    .dataframe tbody tr th {\n",
       "        vertical-align: top;\n",
       "    }\n",
       "\n",
       "    .dataframe thead th {\n",
       "        text-align: right;\n",
       "    }\n",
       "</style>\n",
       "<table border=\"1\" class=\"dataframe\">\n",
       "  <thead>\n",
       "    <tr style=\"text-align: right;\">\n",
       "      <th></th>\n",
       "      <th>F-score</th>\n",
       "      <th>p-value</th>\n",
       "      <th>df</th>\n",
       "    </tr>\n",
       "  </thead>\n",
       "  <tbody>\n",
       "    <tr>\n",
       "      <th>AAR2</th>\n",
       "      <td>4.282599</td>\n",
       "      <td>4.350855e-03</td>\n",
       "      <td>4.0</td>\n",
       "    </tr>\n",
       "    <tr>\n",
       "      <th>AARS2</th>\n",
       "      <td>10.274217</td>\n",
       "      <td>2.762764e-06</td>\n",
       "      <td>4.0</td>\n",
       "    </tr>\n",
       "    <tr>\n",
       "      <th>AASDH</th>\n",
       "      <td>2.664911</td>\n",
       "      <td>4.186185e-02</td>\n",
       "      <td>4.0</td>\n",
       "    </tr>\n",
       "    <tr>\n",
       "      <th>AATF</th>\n",
       "      <td>2.656381</td>\n",
       "      <td>4.237143e-02</td>\n",
       "      <td>4.0</td>\n",
       "    </tr>\n",
       "    <tr>\n",
       "      <th>ABCB9</th>\n",
       "      <td>6.192262</td>\n",
       "      <td>3.459642e-04</td>\n",
       "      <td>4.0</td>\n",
       "    </tr>\n",
       "    <tr>\n",
       "      <th>...</th>\n",
       "      <td>...</td>\n",
       "      <td>...</td>\n",
       "      <td>...</td>\n",
       "    </tr>\n",
       "    <tr>\n",
       "      <th>ZNF654</th>\n",
       "      <td>14.541034</td>\n",
       "      <td>3.655513e-08</td>\n",
       "      <td>4.0</td>\n",
       "    </tr>\n",
       "    <tr>\n",
       "      <th>ZNF668</th>\n",
       "      <td>6.603258</td>\n",
       "      <td>2.053457e-04</td>\n",
       "      <td>4.0</td>\n",
       "    </tr>\n",
       "    <tr>\n",
       "      <th>ZNF76</th>\n",
       "      <td>11.499081</td>\n",
       "      <td>7.459039e-07</td>\n",
       "      <td>4.0</td>\n",
       "    </tr>\n",
       "    <tr>\n",
       "      <th>ZNF768</th>\n",
       "      <td>11.224491</td>\n",
       "      <td>9.953096e-07</td>\n",
       "      <td>4.0</td>\n",
       "    </tr>\n",
       "    <tr>\n",
       "      <th>ZSCAN21</th>\n",
       "      <td>6.829353</td>\n",
       "      <td>1.546642e-04</td>\n",
       "      <td>4.0</td>\n",
       "    </tr>\n",
       "  </tbody>\n",
       "</table>\n",
       "<p>563 rows × 3 columns</p>\n",
       "</div>"
      ],
      "text/plain": [
       "           F-score       p-value   df\n",
       "AAR2      4.282599  4.350855e-03  4.0\n",
       "AARS2    10.274217  2.762764e-06  4.0\n",
       "AASDH     2.664911  4.186185e-02  4.0\n",
       "AATF      2.656381  4.237143e-02  4.0\n",
       "ABCB9     6.192262  3.459642e-04  4.0\n",
       "...            ...           ...  ...\n",
       "ZNF654   14.541034  3.655513e-08  4.0\n",
       "ZNF668    6.603258  2.053457e-04  4.0\n",
       "ZNF76    11.499081  7.459039e-07  4.0\n",
       "ZNF768   11.224491  9.953096e-07  4.0\n",
       "ZSCAN21   6.829353  1.546642e-04  4.0\n",
       "\n",
       "[563 rows x 3 columns]"
      ]
     },
     "execution_count": 26,
     "metadata": {},
     "output_type": "execute_result"
    }
   ],
   "source": [
    "res_df = res_dict['human-macaque']\n",
    "res_df[res_df['p-value'] < 0.05]"
   ]
  },
  {
   "cell_type": "code",
   "execution_count": 28,
   "id": "ef1dfebd-f07e-4e6a-ad07-44e5ef330803",
   "metadata": {},
   "outputs": [
    {
     "data": {
      "text/plain": [
       "<Axes: >"
      ]
     },
     "execution_count": 28,
     "metadata": {},
     "output_type": "execute_result"
    },
    {
     "data": {
      "image/png": "[encoded data removed]",
      "text/plain": [
       "<Figure size 320x320 with 1 Axes>"
      ]
     },
     "metadata": {
      "image/png": {
       "height": 281,
       "width": 311
      }
     },
     "output_type": "display_data"
    }
   ],
   "source": [
    "res_df['p-value'].hist()"
   ]
  },
  {
   "cell_type": "code",
   "execution_count": 27,
   "id": "74728bac-d909-4570-a390-cbf4b348366c",
   "metadata": {},
   "outputs": [],
   "source": [
    "import pickle\n",
    "\n",
    "with open('results/ancova_res.pkl', 'wb') as f:\n",
    "    pickle.dump(res_dict, f)"
   ]
  },
  {
   "cell_type": "code",
   "execution_count": null,
   "id": "5547184e-129b-4b2e-979e-68152aa4772e",
   "metadata": {},
   "outputs": [],
   "source": []
  }
 ],
 "metadata": {
  "kernelspec": {
   "display_name": "Python 3 (ipykernel)",
   "language": "python",
   "name": "python3"
  },
  "language_info": {
   "codemirror_mode": {
    "name": "ipython",
    "version": 3
   },
   "file_extension": ".py",
   "mimetype": "text/x-python",
   "name": "python",
   "nbconvert_exporter": "python",
   "pygments_lexer": "ipython3",
   "version": "3.10.11"
  }
 },
 "nbformat": 4,
 "nbformat_minor": 5
}
