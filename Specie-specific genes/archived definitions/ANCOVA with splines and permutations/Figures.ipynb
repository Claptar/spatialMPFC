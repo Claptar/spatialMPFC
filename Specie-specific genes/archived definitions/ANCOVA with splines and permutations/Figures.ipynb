{
 "cells": [
  {
   "cell_type": "markdown",
   "id": "5a006674-6c5f-4942-a106-c2e08176ea00",
   "metadata": {
    "id": "roImYnkY0lWf"
   },
   "source": [
    "# Dependencies and files"
   ]
  },
  {
   "cell_type": "markdown",
   "id": "7b5f809f-887e-4935-95c1-f18b6b08bd68",
   "metadata": {
    "id": "S4MUyf2v1Em0"
   },
   "source": [
    "## Install dependencies"
   ]
  },
  {
   "cell_type": "markdown",
   "id": "d3418a6a-6e14-404e-ae8a-16ac5eeca13f",
   "metadata": {
    "id": "baxM7gAy1KGe"
   },
   "source": [
    "## Imports"
   ]
  },
  {
   "cell_type": "code",
   "execution_count": 1,
   "id": "d197c269-a876-4fe6-904d-9ca5515aff89",
   "metadata": {
    "id": "dae9e900"
   },
   "outputs": [],
   "source": [
    "import warnings\n",
    "import scanpy as sc\n",
    "import anndata as an\n",
    "import pandas as pd\n",
    "import numpy as np\n",
    "import matplotlib as mpl\n",
    "import matplotlib.pyplot as plt\n",
    "import seaborn as sns\n",
    "import os\n",
    "\n",
    "import time\n",
    "from tqdm.notebook import tqdm\n",
    "import requests\n",
    "\n",
    "sc.settings.set_figure_params(dpi=80)\n",
    "#sc.set_figure_params(facecolor=\"white\", figsize=(8, 8))\n",
    "warnings.simplefilter(action='ignore', category=FutureWarning)\n",
    "sc.settings.verbosity = 3"
   ]
  },
  {
   "cell_type": "markdown",
   "id": "f9db4d56-1405-418e-9900-0343b17a1dc1",
   "metadata": {
    "id": "AAvYvli71MwA"
   },
   "source": [
    "# Global variables"
   ]
  },
  {
   "cell_type": "code",
   "execution_count": null,
   "id": "bb87e0fc-6800-495c-ae36-fdb13df0e588",
   "metadata": {
    "id": "c4f4126f"
   },
   "outputs": [],
   "source": [
    "de_dir_path = '../../data/DE/ANOVA_mean/'"
   ]
  },
  {
   "cell_type": "code",
   "execution_count": null,
   "id": "fc57ff0a-cc58-4603-8cc3-9b85c5a1c1e2",
   "metadata": {},
   "outputs": [],
   "source": [
    "layers = ['L1', 'L2', 'L3', 'L4', 'L5', \"L6\", 'WM']"
   ]
  },
  {
   "cell_type": "code",
   "execution_count": null,
   "id": "c9a7e22d-8586-424f-b98e-55b07b91d71a",
   "metadata": {},
   "outputs": [],
   "source": [
    "cluster_color = ['red', 'yellow', 'orange', 'green', 'purple', 'blue', 'olive', 'pink', 'brown']"
   ]
  },
  {
   "cell_type": "code",
   "execution_count": null,
   "id": "9c32e63d-8b21-45b8-9667-0b5be9b89fa8",
   "metadata": {
    "colab": {
     "base_uri": "https://localhost:8080/"
    },
    "id": "4223c5ff",
    "outputId": "ad670861-e545-419f-b759-280820848391"
   },
   "outputs": [],
   "source": [
    "os.listdir(de_dir_path)"
   ]
  },
  {
   "cell_type": "markdown",
   "id": "e997fa27-4ac0-4896-9e42-6b49c873a3c9",
   "metadata": {},
   "source": [
    "## Load files"
   ]
  },
  {
   "cell_type": "markdown",
   "id": "3dbec81f-0392-474a-8cef-bc3bfe45aa27",
   "metadata": {
    "id": "22169059"
   },
   "source": [
    "### DE results"
   ]
  },
  {
   "cell_type": "code",
   "execution_count": null,
   "id": "79759b16-1f97-4546-b4a1-cf65182ca2d4",
   "metadata": {
    "colab": {
     "base_uri": "https://localhost:8080/",
     "height": 206
    },
    "id": "ehsiAIF8D61S",
    "outputId": "e0e5605e-4158-412b-eae7-332d6a6a1f97"
   },
   "outputs": [],
   "source": [
    "anova_res = pd.read_csv(de_dir_path + 'anova_mamm_mean.csv', index_col=0)\n",
    "anova_genes = anova_res[anova_res.p_val_adj < 0.05].index\n",
    "anova_res.head()"
   ]
  },
  {
   "cell_type": "code",
   "execution_count": null,
   "id": "ea0f61e2-98c7-4ce7-85df-9a67b9715c3f",
   "metadata": {},
   "outputs": [],
   "source": [
    "n_clusters = 7\n",
    "anova_labels = pd.read_csv(de_dir_path + f'cluster_spectr_anova_mean_{n_clusters}.csv', index_col=0)['0'].sort_values()\n",
    "anova_labels = anova_labels\n",
    "anova_labels.name = 'ANOVA_labels'"
   ]
  },
  {
   "cell_type": "code",
   "execution_count": null,
   "id": "085ed0aa-d525-490f-8951-cf606a085ba3",
   "metadata": {},
   "outputs": [],
   "source": [
    "ancova_labels = pd.read_csv('./results/human_clusters_ancova_01_cos_all_8.csv', index_col=0)['0'].sort_values()\n",
    "ancova_labels"
   ]
  },
  {
   "cell_type": "markdown",
   "id": "ac7c7d1b-1589-40a8-9aa6-b914de853151",
   "metadata": {
    "id": "yQ7JjvscKLd4"
   },
   "source": [
    "## Load normalized pseudobulks"
   ]
  },
  {
   "cell_type": "code",
   "execution_count": null,
   "id": "dee069eb-3e98-40c8-aa18-4422cdf059b0",
   "metadata": {
    "id": "685kKTuvKfog"
   },
   "outputs": [],
   "source": [
    "pb_dir_path = 'results/'"
   ]
  },
  {
   "cell_type": "code",
   "execution_count": null,
   "id": "3c1bdfac-c1ef-4d68-9bb5-95fe4699a68f",
   "metadata": {},
   "outputs": [],
   "source": [
    "adata_pb_norm = sc.read_h5ad(pb_dir_path + 'pb_mammals_samplenorm_mean_filtered.h5ad')\n",
    "#adata_pb_norm_mean.var = anova_res\n",
    "adata_pb_norm"
   ]
  },
  {
   "cell_type": "code",
   "execution_count": null,
   "id": "ad857511-208d-4891-b834-ee54144ef57e",
   "metadata": {},
   "outputs": [],
   "source": [
    "background_genes = adata_pb_norm.var_names.tolist()\n",
    "len(background_genes)"
   ]
  },
  {
   "cell_type": "markdown",
   "id": "70927a57-df95-470f-b647-beb7eb1992d8",
   "metadata": {},
   "source": [
    "## Specie-specific genes"
   ]
  },
  {
   "cell_type": "code",
   "execution_count": null,
   "id": "eaad6d1e-beba-490f-9216-fb5d3b9e3819",
   "metadata": {},
   "outputs": [],
   "source": [
    "model_res = pd.read_csv('results/gene_selection_df.csv', index_col=0)\n",
    "model_res.head()"
   ]
  },
  {
   "cell_type": "code",
   "execution_count": null,
   "id": "d2abbcfb-070a-4d77-9e07-a930026a6c72",
   "metadata": {},
   "outputs": [],
   "source": [
    "import pickle\n",
    "with open(\"results/ancova_perm_res.pkl\", \"rb\") as file:\n",
    "    ancova_results = pickle.load(file)"
   ]
  },
  {
   "cell_type": "code",
   "execution_count": null,
   "id": "da44f9f8-f3ae-4826-8de4-82112a26c993",
   "metadata": {},
   "outputs": [],
   "source": [
    "# import pickle\n",
    "# with open(\"./results/specie_specific_genes_tr50.pkl\", \"rb\") as file:\n",
    "#     genes_dict77 = pickle.load(file)"
   ]
  },
  {
   "cell_type": "code",
   "execution_count": null,
   "id": "4e98f6fa-773b-456e-8ddb-bad2cb5504aa",
   "metadata": {},
   "outputs": [],
   "source": [
    "pval_tr = 0.01\n",
    "sign_genes = {key:value[value['p-value'] < pval_tr].index for key, value in ancova_results.items()}\n",
    "sign_genes"
   ]
  },
  {
   "cell_type": "markdown",
   "id": "a85e4e82-df9e-4267-89eb-28d46b5aa029",
   "metadata": {},
   "source": [
    "Попробуем определить человеко-специфичные гены как $(HC\\bigcap HM)\\setminus CM$"
   ]
  },
  {
   "cell_type": "code",
   "execution_count": null,
   "id": "672bf69d-ac1e-4805-b01d-813c984113c4",
   "metadata": {
    "scrolled": true
   },
   "outputs": [],
   "source": [
    "hs_genes = sign_genes['human-chimp'].intersection(sign_genes['human-macaque']).difference(sign_genes['chimp-macaque'])\n",
    "hs_genes, hs_genes.size"
   ]
  },
  {
   "cell_type": "markdown",
   "id": "1a5ac82d-13cb-42f6-bc99-baf2ef369459",
   "metadata": {},
   "source": [
    "# Clusterisation"
   ]
  },
  {
   "cell_type": "code",
   "execution_count": null,
   "id": "d46b6e1c-876f-4be8-8894-330e453fa436",
   "metadata": {},
   "outputs": [],
   "source": [
    "df = pd.DataFrame(adata_pb_norm.X, index=adata_pb_norm.obs_names, columns=adata_pb_norm.var_names)"
   ]
  },
  {
   "cell_type": "code",
   "execution_count": null,
   "id": "97830a64-c0ef-43d8-94f1-d0136dd00ca5",
   "metadata": {},
   "outputs": [],
   "source": [
    "sample_order = dict()\n",
    "for cond in ['human', 'chimp', 'macaque']:\n",
    "    samples = df.loc[df.index.str.contains(cond)].index\n",
    "    order = sorted(samples.tolist(), key=lambda x: x[-2:])\n",
    "    order_laminar = list(filter(lambda x: 'L' in x, order))\n",
    "    order_wm = list(filter(lambda x: 'WM' in x, order))\n",
    "    sample_order[cond] = order_wm + order_laminar\n",
    "sample_order['all'] = sample_order['human'] + sample_order['chimp'] + sample_order['macaque']\n",
    "df = df.loc[sample_order['all']]\n",
    "df_hs = df[hs_genes].copy()"
   ]
  },
  {
   "cell_type": "code",
   "execution_count": null,
   "id": "48b9a66e-7cb2-486d-b704-b1db9a10d256",
   "metadata": {},
   "outputs": [],
   "source": [
    "cluster_color = ['red', 'yellow', 'orange', 'green', 'purple', 'blue', 'olive', 'pink', 'brown', 'cyan', 'pink', 'violet', 'crimson', 'tab:red', 'tab:green']"
   ]
  },
  {
   "cell_type": "code",
   "execution_count": null,
   "id": "7af2c13b-c8c7-4087-9b2f-1ad775e21740",
   "metadata": {},
   "outputs": [],
   "source": [
    "n_clusters = ancova_labels.unique().size\n",
    "order = ancova_labels.sort_values().index"
   ]
  },
  {
   "cell_type": "code",
   "execution_count": null,
   "id": "e9b26fc3-64a7-4a0c-88b7-384a4b788b9f",
   "metadata": {},
   "outputs": [],
   "source": [
    "colors = cluster_color[:n_clusters]\n",
    "clusters = np.arange(n_clusters)"
   ]
  },
  {
   "cell_type": "code",
   "execution_count": null,
   "id": "034b0aed-0743-4cf5-8059-f06c99e13758",
   "metadata": {},
   "outputs": [],
   "source": [
    "sns.set(font_scale=0.8)"
   ]
  },
  {
   "cell_type": "code",
   "execution_count": null,
   "id": "0bfb6cf2-1000-4613-bfe9-e2298057ec5d",
   "metadata": {},
   "outputs": [],
   "source": [
    "from matplotlib.patches import bbox_artist\n",
    "from mpl_toolkits.axes_grid1 import make_axes_locatable\n",
    "from matplotlib import ticker\n",
    "\n",
    "fig, ax = plt.subplots(figsize=(12, 8))\n",
    "sns.heatmap(df_hs[order], ax=ax, cmap=\"RdBu_r\", vmax=0.3, vmin=-0.3, center=0)\n",
    "divider = make_axes_locatable(ax)\n",
    "cax = divider.append_axes('top', size='2%', pad=0.05)\n",
    "cmap = mpl.colors.ListedColormap(colors)\n",
    "\n",
    "cluster_size = ancova_labels.value_counts().loc[clusters].values\n",
    "cluster_pos = cluster_size.cumsum()\n",
    "bounds = [0] + list(cluster_pos)\n",
    "norm = mpl.colors.BoundaryNorm(bounds, cmap.N)\n",
    "fig.colorbar(\n",
    "    mpl.cm.ScalarMappable(cmap=cmap, norm=norm),\n",
    "    cax=cax,\n",
    "    ticks=bounds,\n",
    "    orientation='horizontal',\n",
    "    spacing='proportional'\n",
    ")\n",
    "cax.xaxis.set_major_locator(ticker.FixedLocator(cluster_pos - cluster_size / 2))\n",
    "cax.xaxis.set_major_formatter(ticker.FixedFormatter(clusters))\n",
    "cax.xaxis.tick_top()"
   ]
  },
  {
   "cell_type": "markdown",
   "id": "584316fc-3d04-4cc7-9edb-64bce3b44c56",
   "metadata": {},
   "source": [
    "## Cluster profiles"
   ]
  },
  {
   "cell_type": "code",
   "execution_count": null,
   "id": "6cae93cc-f22a-44c6-9059-809f837b68d6",
   "metadata": {},
   "outputs": [],
   "source": [
    "df_annotation = df.copy()\n",
    "df_annotation['layer'] = adata_pb_norm.obs.layer\n",
    "df_annotation['condition'] = adata_pb_norm.obs.condition"
   ]
  },
  {
   "cell_type": "code",
   "execution_count": null,
   "id": "46d7b816-d178-4414-9ed1-20149361385e",
   "metadata": {},
   "outputs": [],
   "source": [
    "layer_mean = df_annotation.groupby(['condition', 'layer']).mean()\n",
    "layer_mean.head()"
   ]
  },
  {
   "cell_type": "code",
   "execution_count": null,
   "id": "8b649b18-5ccb-4af2-a8e0-05c0f4bebae4",
   "metadata": {},
   "outputs": [],
   "source": [
    "# fig, axes = plt.subplots(2, 2,  figsize=(14, 3.5 * 2), gridspec_kw={'hspace': 0.4})\n",
    "# for gene, ax in zip(layer_mean.columns, axes.flatten()):\n",
    "#     (\n",
    "#             layer_mean[gene]\n",
    "#             .reorder_levels(['layer', 'condition'])\n",
    "#             .unstack().loc[layers]\n",
    "#             .plot\n",
    "#             .line(color={'human': 'tab:red', 'chimp': 'tab:orange', 'macaque': 'tab:green'}, ax=ax, marker='.')\n",
    "#     )\n",
    "#     ax.grid(False)"
   ]
  },
  {
   "cell_type": "code",
   "execution_count": null,
   "id": "3b16281c-18d0-4ef5-842a-1e7337d809b1",
   "metadata": {},
   "outputs": [],
   "source": [
    "fig, axes = plt.subplots((n_clusters + 1) // 2, 2,  figsize=(14, 3.5 * n_clusters // 2), gridspec_kw={'hspace': 0.4})\n",
    "sns.set(font_scale=1)\n",
    "\n",
    "for label, ax in zip(ancova_labels.unique(), axes.flatten()):\n",
    "    genes = ancova_labels[ancova_labels == label].index.tolist()\n",
    "\n",
    "    (\n",
    "        layer_mean[genes]\n",
    "        .mean(axis=1)\n",
    "        .reorder_levels(['layer', 'condition'])\n",
    "        .unstack().loc[layers]\n",
    "        .plot\n",
    "        .line(color={'human': 'tab:red', 'chimp': 'tab:orange', 'macaque': 'tab:green'}, ax=ax, marker='.')\n",
    "    )\n",
    "    ax.legend(fontsize=10)\n",
    "    ax.set_title(f'Cluster {label}', fontsize=16)\n",
    "    ax.grid(False)\n",
    "    ax.hlines(0, xmin=0, xmax=6, colors='gray', linestyles='dashed')"
   ]
  },
  {
   "cell_type": "code",
   "execution_count": null,
   "id": "9d42d668-520d-4d62-ad89-4a1ec8261f31",
   "metadata": {},
   "outputs": [],
   "source": [
    "grid = np.linspace(1, 7, 400)\n",
    "conditions = ['human', 'chimp', 'macaque']\n",
    "cond_colors = ['tab:red', 'tab:orange', 'tab:green']"
   ]
  },
  {
   "cell_type": "code",
   "execution_count": null,
   "id": "940b3efe-c832-4120-aaf0-7663c01cc647",
   "metadata": {},
   "outputs": [],
   "source": [
    "df_cont = df_annotation.copy()\n",
    "df_cont['layer'] = df_cont.layer.map(dict(zip(sorted(df_cont.layer.unique()), range(1, 8)))).astype(int)"
   ]
  },
  {
   "cell_type": "code",
   "execution_count": null,
   "id": "8551bce5-d623-4b7b-a64e-7eb0f1444e4f",
   "metadata": {},
   "outputs": [],
   "source": [
    "from scipy.interpolate import UnivariateSpline\n",
    "\n",
    "array = np.zeros((grid.size, hs_genes.size))\n",
    "df_list = []\n",
    "\n",
    "for specie in conditions:\n",
    "    for i, gene in enumerate(hs_genes.to_list()):\n",
    "        #fit spline\n",
    "        subs_index = df_cont[df_cont.condition == specie].index\n",
    "        targ_dataset = df_cont.loc[subs_index].copy().sort_values(by='layer')\n",
    "        x = targ_dataset['layer'].values\n",
    "        y = targ_dataset[gene].values\n",
    "        spl = UnivariateSpline(x, y, k=3)\n",
    "        array[:, i] = spl(grid)\n",
    "    df_specie = pd.DataFrame(array, columns=hs_genes)\n",
    "    df_specie['condition'] = specie\n",
    "    df_list.append(df_specie.copy())\n",
    "df_spline = pd.concat(df_list)"
   ]
  },
  {
   "cell_type": "code",
   "execution_count": null,
   "id": "9dc4fe36-acca-43e5-bc1b-dd6e6718e0df",
   "metadata": {},
   "outputs": [],
   "source": [
    "mpl.rcdefaults()\n",
    "fig, axes = plt.subplots((n_clusters + 1) // 2, 2,  figsize=(14, 3.5 * n_clusters // 2), gridspec_kw={'hspace': 0.4})\n",
    "for label, ax in zip(ancova_labels.unique(), axes.flatten()):\n",
    "    genes = ancova_labels[ancova_labels == label].index.tolist()\n",
    "    # plot the splines\n",
    "    df_cluster_spline = df_spline[genes].mean(axis=1).to_frame()\n",
    "    df_cluster_spline['condition'] = df_spline['condition']\n",
    "    df_cluster_spline = df_cluster_spline.pivot(columns='condition', values=0)\n",
    "    df_cluster_spline.index = grid\n",
    "    df_cluster_spline.plot.line(color={'human': 'tab:red', 'chimp': 'tab:orange', 'macaque': 'tab:green'}, ax=ax)\n",
    "\n",
    "    # plot the dots\n",
    "    # df_layers = layer_mean[genes].mean(axis=1).reorder_levels(['layer', 'condition']).unstack().loc[layers][conditions]\n",
    "    # df_layers.index = np.arange(1, 8)\n",
    "    # ax.set_prop_cycle(color=['tab:red', 'tab:orange', 'tab:green'])\n",
    "    # ax.plot(df_layers, 'o', alpha=0.7)\n",
    "    # ax.legend(conditions)\n",
    "    \n",
    "    \n",
    "    ax.legend(fontsize=10, loc=\"upper left\", bbox_to_anchor=(1, 1), prop={\"size\":12})\n",
    "    ax.xaxis.set_major_locator(ticker.FixedLocator(np.arange(1, 8)))\n",
    "    ax.xaxis.set_major_formatter(ticker.FixedFormatter(layers))\n",
    "    \n",
    "    if label % 2 == 0:\n",
    "        ax.get_legend().remove()\n",
    "    ax.set_title(f'Cluster {label}', fontsize=16)\n",
    "    ax.grid(False)\n",
    "    #ax.hlines(0, xmin=1, xmax=6, colors='gray', linestyles='dashed')"
   ]
  },
  {
   "cell_type": "markdown",
   "id": "2422db94-462b-4165-97a8-91c277dca2d6",
   "metadata": {},
   "source": [
    "## All genes"
   ]
  },
  {
   "cell_type": "markdown",
   "id": "2f922037-321a-4bf9-ad18-f5c0ec901c29",
   "metadata": {},
   "source": [
    "### Human"
   ]
  },
  {
   "cell_type": "code",
   "execution_count": null,
   "id": "d4d7da8d-4d99-4767-9625-bf6fc9f26bf0",
   "metadata": {},
   "outputs": [],
   "source": [
    "fig, ax = plt.subplots()\n",
    "\n",
    "gene = 'NCAM2'\n",
    "df_cluster_spline = df_spline[[gene, 'condition']].copy()\n",
    "df_cluster_spline = df_cluster_spline.pivot(columns='condition', values=gene)\n",
    "df_cluster_spline.index = grid\n",
    "df_cluster_spline.plot.line(color={'human': 'tab:red', 'chimp': 'tab:orange', 'macaque': 'tab:green'}, ax=ax)\n",
    "\n",
    "df_cluster_values = df_cont[[gene, 'condition', 'layer']].copy()\n",
    "palette = {'human': 'tab:red', 'chimp': 'tab:orange', 'macaque': 'tab:green'}\n",
    "sns.scatterplot(df_cont, x='layer', y=gene, hue='condition', palette=palette, ax=ax, legend=False, alpha=0.7, marker=\"$\\circ$\", s=200)\n",
    "ax.set_ylabel('')\n",
    "ax.set_title(gene, fontsize=16)\n",
    "#df_cluster_values.plot.scatter(x='layer', y=gene, c='condition', ax=ax, cmap=cmap, colorbar=False, legend=True)\n",
    "#ax.legend(['human', 'chimp', 'macaque'])"
   ]
  },
  {
   "cell_type": "code",
   "execution_count": null,
   "id": "b78c9102-e4b2-4f55-a0ad-be43b44c4337",
   "metadata": {
    "scrolled": true
   },
   "outputs": [],
   "source": [
    "mpl.rcdefaults()\n",
    "\n",
    "for label in ancova_labels.unique():\n",
    "    genes = ancova_labels[ancova_labels == label].index.tolist()\n",
    "    fig, axes = plt.subplots((len(genes) + 3) // 2, 2,  figsize=(14, 3.5 * (len(genes) + 3) // 2), gridspec_kw={'hspace': 0.6})\n",
    "    fig.suptitle(f'Cluster {label}', fontsize=20)\n",
    "\n",
    "    ax = axes[0][0]\n",
    "\n",
    "    df_cluster_spline = df_spline[genes].mean(axis=1).to_frame()\n",
    "    df_cluster_spline['condition'] = df_spline['condition']\n",
    "    df_cluster_spline = df_cluster_spline.pivot(columns='condition', values=0)\n",
    "    df_cluster_spline.index = grid\n",
    "    df_cluster_spline.plot.line(color={'human': 'tab:red', 'chimp': 'tab:orange', 'macaque': 'tab:green'}, ax=ax)\n",
    "\n",
    "    # plot the dots\n",
    "    # df_layers = layer_mean[genes].mean(axis=1).reorder_levels(['layer', 'condition']).unstack().loc[layers][conditions]\n",
    "    # df_layers.index = np.arange(1, 8)\n",
    "    # ax.set_prop_cycle(color=['tab:red', 'tab:orange', 'tab:green'])\n",
    "    # ax.plot(df_layers, 'o', alpha=0.7)\n",
    "    # ax.legend(conditions)\n",
    "    \n",
    "    \n",
    "    ax.legend(fontsize=10, loc=\"upper left\", bbox_to_anchor=(1, 1), prop={\"size\":12})\n",
    "    ax.xaxis.set_major_locator(ticker.FixedLocator(np.arange(1, 8)))\n",
    "    ax.xaxis.set_major_formatter(ticker.FixedFormatter(layers))\n",
    "    \n",
    "    ax.set_title(f'Cluster {label}', fontsize=16)\n",
    "    ax.grid(False)\n",
    "    #ax.hlines(0, xmin=0, xmax=6, colors='gray', linestyles='dashed')\n",
    "    fig.delaxes(axes[0][1])\n",
    "    \n",
    "    \n",
    "    for i, (gene, ax) in tqdm(enumerate(zip(genes, axes.flatten()[2:]))):\n",
    "        df_cluster_spline = df_spline[[gene, 'condition']].copy()\n",
    "        df_cluster_spline = df_cluster_spline.pivot(columns='condition', values=gene)\n",
    "        df_cluster_spline.index = grid\n",
    "        df_cluster_spline.plot.line(color={'human': 'tab:red', 'chimp': 'tab:orange', 'macaque': 'tab:green'}, ax=ax)\n",
    "        \n",
    "        df_cluster_values = df_cont[[gene, 'condition', 'layer']].copy()\n",
    "        palette = {'human': 'tab:red', 'chimp': 'tab:orange', 'macaque': 'tab:green'}\n",
    "        sns.scatterplot(df_cont, x='layer', y=gene, hue='condition', palette=palette, ax=ax, legend=False, alpha=1, marker=\"$\\circ$\", s=100)\n",
    "        ax.set_ylabel('')\n",
    "        \n",
    "        \n",
    "        ax.legend(fontsize=10, loc=\"upper left\", bbox_to_anchor=(1, 1), prop={\"size\":12})\n",
    "        ax.xaxis.set_major_locator(ticker.FixedLocator(np.arange(1, 8)))\n",
    "        ax.xaxis.set_major_formatter(ticker.FixedFormatter(layers))\n",
    "\n",
    "        if i % 2 == 0:\n",
    "            ax.get_legend().remove()\n",
    "    \n",
    "        ax.set_title(f'{gene}', fontsize=16)\n",
    "        ax.grid(False)\n",
    "        #ax.hlines(0, xmin=0, xmax=6, colors='gray', linestyles='dashed')\n",
    "    plt.savefig(f'results/clusters{pval_tr}/hs_genes_splines_{pval_tr}_{n_clusters}_{label}.pdf')"
   ]
  },
  {
   "cell_type": "code",
   "execution_count": null,
   "id": "10ab50e0-fe1f-4f70-bc3f-8b376cbc48a1",
   "metadata": {},
   "outputs": [],
   "source": [
    "import glob\n",
    "from pypdf import PdfMerger\n",
    "\n",
    "pdf_files = glob.glob(f'results/clusters{pval_tr}/hs_genes_splines_{pval_tr}_{n_clusters}*')\n",
    "merger = PdfMerger()\n",
    "for pdf in pdf_files:\n",
    "    merger.append(pdf)\n",
    "merger.write(f\"results/clusters{pval_tr}/hs_genes_splines_{pval_tr}_{n_clusters}_all.pdf\")\n",
    "merger.close()\n",
    "\n",
    "for file in pdf_files:\n",
    "    os.remove(file.replace('\\\\', '/'))"
   ]
  },
  {
   "cell_type": "code",
   "execution_count": null,
   "id": "dd2e81e8-61aa-4d52-bcbd-c0d6452a0e39",
   "metadata": {
    "scrolled": true
   },
   "outputs": [],
   "source": [
    "mpl.rcdefaults()\n",
    "\n",
    "for label in ancova_labels.unique():\n",
    "    genes = ancova_labels[ancova_labels == label].index.tolist()\n",
    "    fig, axes = plt.subplots((len(genes) + 3) // 2, 2,  figsize=(14, 3.5 * (len(genes) + 3) // 2), gridspec_kw={'hspace': 0.6})\n",
    "    fig.suptitle(f'Cluster {label}', fontsize=20)\n",
    "\n",
    "    ax = axes[0][0]\n",
    "\n",
    "    (\n",
    "        layer_mean[genes]\n",
    "        .median(axis=1)\n",
    "        .reorder_levels(['layer', 'condition'])\n",
    "        .unstack().loc[layers]\n",
    "        .plot\n",
    "        .line(color={'human': 'tab:red', 'chimp': 'tab:orange', 'macaque': 'tab:green'}, ax=ax, marker='.')\n",
    "    )\n",
    "    ax.legend(fontsize=10)\n",
    "    ax.set_title(f'Cluster {label}', fontsize=16)\n",
    "    ax.grid(False)\n",
    "    ax.hlines(0, xmin=0, xmax=6, colors='gray', linestyles='dashed')\n",
    "    fig.delaxes(axes[0][1])\n",
    "    \n",
    "    \n",
    "    for gene, ax in tqdm(list(zip(genes, axes.flatten()[2:]))):\n",
    "        (\n",
    "            layer_mean[gene]\n",
    "            .reorder_levels(['layer', 'condition'])\n",
    "            .unstack().loc[layers]\n",
    "            .plot\n",
    "            .line(color={'human': 'tab:red', 'chimp': 'tab:orange', 'macaque': 'tab:green'}, ax=ax, marker='.')\n",
    "        )\n",
    "        ax.legend(fontsize=10)\n",
    "        ax.set_title(f'{gene}', fontsize=16)\n",
    "        ax.grid(False)\n",
    "        ax.hlines(0, xmin=0, xmax=6, colors='gray', linestyles='dashed')\n",
    "    plt.savefig(f'results/clusters{pval_tr}/hs_genes_cluster_{pval_tr}_{n_clusters}_{label}.pdf')"
   ]
  },
  {
   "cell_type": "code",
   "execution_count": null,
   "id": "1ec308eb-2907-47d5-af7e-0d41a030d677",
   "metadata": {},
   "outputs": [],
   "source": [
    "import glob\n",
    "from pypdf import PdfMerger\n",
    "\n",
    "pdf_files = glob.glob(f'results/clusters{pval_tr}/hs_genes_cluster_{pval_tr}_{n_clusters}*')\n",
    "merger = PdfMerger()\n",
    "for pdf in pdf_files:\n",
    "    merger.append(pdf)\n",
    "merger.write(f\"results/clusters{pval_tr}/hs_genes_cluster_{pval_tr}_{n_clusters}_all.pdf\")\n",
    "merger.close()\n",
    "\n",
    "for file in pdf_files:\n",
    "    os.remove(file.replace('\\\\', '/'))"
   ]
  },
  {
   "cell_type": "markdown",
   "id": "54c29d28-6342-4379-9f1f-1fb01aade820",
   "metadata": {},
   "source": [
    "## Levels of genes"
   ]
  },
  {
   "cell_type": "code",
   "execution_count": null,
   "id": "99f7f008-f8c4-4969-bb47-6555999cc7c7",
   "metadata": {},
   "outputs": [],
   "source": [
    "hs_genes"
   ]
  },
  {
   "cell_type": "code",
   "execution_count": null,
   "id": "717bf1b4-b7d6-4f82-ad71-6512a45aa960",
   "metadata": {},
   "outputs": [],
   "source": [
    "pretty_genes = ['PHACTR3', 'MARCKS', 'LPL', 'COTL1', 'GRM3', 'SCD5', 'EIF3F', 'EEF1G', 'NOL10', 'RAB3GAP1', 'ZMYND8', 'GNPTAB','NRXN1',\n",
    "                'NRXN2', 'KIF21B', 'STAU2', 'GNAZ', 'FOXP1', 'AKT3', 'SYNGAP1', 'ZBTB18', 'DYNLL2', 'CPNE6', 'OTUD4','LINGO1', 'SCN3B',\n",
    "                'ATAD1', 'PPP2R2C', 'APLP2', 'NCAM2', 'SLC38A10', 'ASAP2', 'FAM171B', 'RBM23', 'ID2', 'ETFB', 'ENC1', 'EIF1B']"
   ]
  },
  {
   "cell_type": "code",
   "execution_count": null,
   "id": "fea762d3-ee25-4d81-8c0e-be0d5f0980b3",
   "metadata": {},
   "outputs": [],
   "source": [
    "pb_dir_path = '../../data/pseudobulks/'"
   ]
  },
  {
   "cell_type": "code",
   "execution_count": null,
   "id": "ef320468-1f27-4991-a9f9-2bf5e5c1ad09",
   "metadata": {},
   "outputs": [],
   "source": [
    "adata_pb = sc.read_h5ad(pb_dir_path + 'pb_mammals_filtered.h5ad')\n",
    "adata_pb"
   ]
  },
  {
   "cell_type": "code",
   "execution_count": null,
   "id": "08c53d08-6495-4088-9eaa-5d1ea4c91396",
   "metadata": {},
   "outputs": [],
   "source": [
    "sc.pp.normalize_total(adata_pb, target_sum=1e4)\n",
    "sc.pp.log1p(adata_pb)"
   ]
  },
  {
   "cell_type": "code",
   "execution_count": null,
   "id": "5e01b915-861e-4a3e-8140-c4745cd8557d",
   "metadata": {},
   "outputs": [],
   "source": [
    "df_pb = pd.DataFrame(adata_pb.X, index=adata_pb.obs_names, columns=adata_pb.var_names)"
   ]
  },
  {
   "cell_type": "code",
   "execution_count": null,
   "id": "d93a1d9e-e169-4823-8c85-d9948f4b0d4d",
   "metadata": {},
   "outputs": [],
   "source": [
    "df_pb = df_pb.loc[sample_order['all']]\n",
    "#df_hs = df[hs_genes].copy()"
   ]
  },
  {
   "cell_type": "code",
   "execution_count": null,
   "id": "142acdb4-d912-4153-bd3e-215157b08bea",
   "metadata": {},
   "outputs": [],
   "source": [
    "df_annotation_pb = df_pb.copy()\n",
    "df_annotation_pb['layer'] = adata_pb.obs.layer\n",
    "df_annotation_pb['condition'] = adata_pb.obs.condition"
   ]
  },
  {
   "cell_type": "code",
   "execution_count": null,
   "id": "91b175ab-1389-4297-be54-b86401ad9d8d",
   "metadata": {},
   "outputs": [],
   "source": [
    "sns.histplot(df_annotation_pb[df_annotation_pb.condition == 'human'].iloc[:, :-2].mean(axis=0))"
   ]
  },
  {
   "cell_type": "code",
   "execution_count": null,
   "id": "f9a90066-569e-4c98-96ba-afb4fce0e7a9",
   "metadata": {},
   "outputs": [],
   "source": [
    "layer_mean_pb = df_annotation_pb.groupby(['condition', 'layer']).mean()\n",
    "layer_mean_pb.head()"
   ]
  },
  {
   "cell_type": "code",
   "execution_count": null,
   "id": "03dd577d-d12b-4cb4-a21b-5ec94bd803cd",
   "metadata": {
    "scrolled": true
   },
   "outputs": [],
   "source": [
    "mpl.rcdefaults()\n",
    "\n",
    "#gene_labels = ancova_labels.loc[pretty_genes]\n",
    "gene_labels = ancova_labels\n",
    "\n",
    "\n",
    "for label in gene_labels.unique():\n",
    "    genes = gene_labels[gene_labels == label].index.tolist()\n",
    "    fig, axes = plt.subplots((len(genes) + 1), 2,  figsize=(14, 3.5 * (len(genes) + 1)), gridspec_kw={'hspace': 0.6})\n",
    "    fig.suptitle(f'Cluster {label}', fontsize=20)\n",
    "\n",
    "    ax = axes[0][0]\n",
    "\n",
    "    (\n",
    "        layer_mean[genes]\n",
    "        .median(axis=1)\n",
    "        .reorder_levels(['layer', 'condition'])\n",
    "        .unstack().loc[layers]\n",
    "        .plot\n",
    "        .line(color={'human': 'tab:red', 'chimp': 'tab:orange', 'macaque': 'tab:green'}, ax=ax, marker='.')\n",
    "    )\n",
    "    ax.legend(fontsize=10)\n",
    "    ax.set_title(f'Cluster {label}', fontsize=16)\n",
    "    ax.grid(False)\n",
    "    #ax.hlines(0, xmin=0, xmax=6, colors='gray', linestyles='dashed')\n",
    "    fig.delaxes(axes[0][1])\n",
    "    \n",
    "    \n",
    "    for i, gene in tqdm(enumerate(genes)):\n",
    "        (\n",
    "            layer_mean[gene]\n",
    "            .reorder_levels(['layer', 'condition'])\n",
    "            .unstack().loc[layers]\n",
    "            .plot\n",
    "            .line(color={'human': 'tab:red', 'chimp': 'tab:orange', 'macaque': 'tab:green'}, ax=axes[i + 1, 0], marker='.')\n",
    "        )\n",
    "        axes[i + 1, 0].legend(fontsize=10)\n",
    "        axes[i + 1, 0].set_title(f'{gene}', fontsize=16)\n",
    "        axes[i + 1, 0].grid(False)\n",
    "        axes[i + 1, 0].hlines(0, xmin=0, xmax=6, colors='gray', linestyles='dashed')\n",
    "\n",
    "        (\n",
    "            layer_mean_pb[gene]\n",
    "            .reorder_levels(['layer', 'condition'])\n",
    "            .unstack().loc[layers]\n",
    "            .plot\n",
    "            .line(color={'human': 'tab:red', 'chimp': 'tab:orange', 'macaque': 'tab:green'}, ax=axes[i + 1, 1], marker='.')\n",
    "        )\n",
    "        axes[i + 1, 1].legend(fontsize=10)\n",
    "        axes[i + 1, 1].set_title(f'{gene} Log(CP10K)', fontsize=16)\n",
    "        axes[i + 1, 1].grid(False)\n",
    "        #axes[i + 1, 1].hlines(0, xmin=0, xmax=6, colors='gray', linestyles='dashed')\n",
    "    plt.savefig(f'results/clusters{pval_tr}/hs_genes_levels_{pval_tr}_cluster_{n_clusters}_{label}.pdf')"
   ]
  },
  {
   "cell_type": "code",
   "execution_count": null,
   "id": "fea63cba-8472-4ad0-862a-087b3bafbe96",
   "metadata": {},
   "outputs": [],
   "source": [
    "import glob\n",
    "from pypdf import PdfMerger\n",
    "\n",
    "pdf_files = glob.glob(f'results/clusters{pval_tr}/hs_genes_levels_{pval_tr}_cluster_{n_clusters}*')\n",
    "merger = PdfMerger()\n",
    "for pdf in pdf_files:\n",
    "    merger.append(pdf)\n",
    "merger.write(f\"results/clusters{pval_tr}/hs_genes_levels_{pval_tr}_cluster_{n_clusters}_all.pdf\")\n",
    "merger.close()\n",
    "\n",
    "for file in pdf_files:\n",
    "    os.remove(file.replace('\\\\', '/'))"
   ]
  },
  {
   "cell_type": "code",
   "execution_count": null,
   "id": "0c6b5b01-803d-41ee-a6f1-79bc9d27f3b4",
   "metadata": {},
   "outputs": [],
   "source": [
    "df_cont_pb = df_annotation_pb.copy()\n",
    "df_cont_pb['layer'] = df_cont_pb.layer.map(dict(zip(sorted(df_cont_pb.layer.unique()), range(1, 8)))).astype(int)"
   ]
  },
  {
   "cell_type": "code",
   "execution_count": null,
   "id": "d302f515-7067-41da-b655-60c747c3ca9a",
   "metadata": {},
   "outputs": [],
   "source": [
    "from scipy.interpolate import UnivariateSpline\n",
    "\n",
    "array = np.zeros((grid.size, hs_genes.size))\n",
    "df_list = []\n",
    "\n",
    "for specie in conditions:\n",
    "    for i, gene in enumerate(hs_genes.to_list()):\n",
    "        #fit spline\n",
    "        subs_index = df_cont_pb[df_cont_pb.condition == specie].index\n",
    "        targ_dataset = df_cont_pb.loc[subs_index].copy().sort_values(by='layer')\n",
    "        x = targ_dataset['layer'].values\n",
    "        y = targ_dataset[gene].values\n",
    "        spl = UnivariateSpline(x, y, k=3)\n",
    "        array[:, i] = spl(grid)\n",
    "    df_specie = pd.DataFrame(array, columns=hs_genes)\n",
    "    df_specie['condition'] = specie\n",
    "    df_list.append(df_specie.copy())\n",
    "df_spline_pb = pd.concat(df_list)"
   ]
  },
  {
   "cell_type": "code",
   "execution_count": null,
   "id": "34927e1c-aee6-4741-b19f-9cccc26af8a3",
   "metadata": {
    "scrolled": true
   },
   "outputs": [],
   "source": [
    "mpl.rcdefaults()\n",
    "gene_labels = ancova_labels\n",
    "\n",
    "\n",
    "for label in gene_labels.unique():\n",
    "    genes = gene_labels[gene_labels == label].index.tolist()\n",
    "    fig, axes = plt.subplots((len(genes) + 1), 2,  figsize=(14, 3.5 * (len(genes) + 1)), gridspec_kw={'hspace': 0.6})\n",
    "    fig.suptitle(f'Cluster {label}', fontsize=20)\n",
    "\n",
    "    ax = axes[0][0]\n",
    "\n",
    "    df_cluster_spline = df_spline[genes].mean(axis=1).to_frame()\n",
    "    df_cluster_spline['condition'] = df_spline['condition']\n",
    "    df_cluster_spline = df_cluster_spline.pivot(columns='condition', values=0)\n",
    "    df_cluster_spline.index = grid\n",
    "    df_cluster_spline.plot.line(color={'human': 'tab:red', 'chimp': 'tab:orange', 'macaque': 'tab:green'}, ax=ax)\n",
    "\n",
    "    # plot the dots\n",
    "    # df_layers = layer_mean[genes].mean(axis=1).reorder_levels(['layer', 'condition']).unstack().loc[layers][conditions]\n",
    "    # df_layers.index = np.arange(1, 8)\n",
    "    # ax.set_prop_cycle(color=['tab:red', 'tab:orange', 'tab:green'])\n",
    "    # ax.plot(df_layers, 'o', alpha=0.7)\n",
    "    # ax.legend(conditions)\n",
    "    \n",
    "    \n",
    "    ax.legend(fontsize=10, loc=\"upper left\", bbox_to_anchor=(1, 1), prop={\"size\":12})\n",
    "    ax.xaxis.set_major_locator(ticker.FixedLocator(np.arange(1, 8)))\n",
    "    ax.xaxis.set_major_formatter(ticker.FixedFormatter(layers))\n",
    "    ax.set_title(f'Cluster {label}', fontsize=16)\n",
    "    ax.grid(False)\n",
    "    #ax.hlines(0, xmin=0, xmax=6, colors='gray', linestyles='dashed')\n",
    "    fig.delaxes(axes[0][1])\n",
    "    \n",
    "    \n",
    "    for i, gene in tqdm(enumerate(genes)):\n",
    "        df_cluster_spline = df_spline[[gene, 'condition']].copy()\n",
    "        df_cluster_spline = df_cluster_spline.pivot(columns='condition', values=gene)\n",
    "        df_cluster_spline.index = grid\n",
    "        df_cluster_spline.plot.line(color={'human': 'tab:red', 'chimp': 'tab:orange', 'macaque': 'tab:green'}, ax=axes[i + 1, 0])\n",
    "        \n",
    "        df_cluster_values = df_cont[[gene, 'condition', 'layer']].copy()\n",
    "        palette = {'human': 'tab:red', 'chimp': 'tab:orange', 'macaque': 'tab:green'}\n",
    "        sns.scatterplot(df_cont, x='layer', y=gene, hue='condition', palette=palette, ax=axes[i + 1, 0], legend=False, alpha=1, marker=\"$\\circ$\", s=100)\n",
    "        axes[i + 1, 0].set_ylabel('')\n",
    "        \n",
    "        \n",
    "        axes[i + 1, 0].legend(fontsize=10, loc=\"upper left\", bbox_to_anchor=(1, 1), prop={\"size\":12})\n",
    "        axes[i + 1, 0].set_title(f'{gene}', fontsize=16)\n",
    "        axes[i + 1, 0].xaxis.set_major_locator(ticker.FixedLocator(np.arange(1, 8)))\n",
    "        axes[i + 1, 0].xaxis.set_major_formatter(ticker.FixedFormatter(layers))\n",
    "        axes[i + 1, 0].get_legend().remove()\n",
    "\n",
    "\n",
    "        df_cluster_spline = df_spline_pb[[gene, 'condition']].copy()\n",
    "        df_cluster_spline = df_cluster_spline.pivot(columns='condition', values=gene)\n",
    "        df_cluster_spline.index = grid\n",
    "        df_cluster_spline.plot.line(color={'human': 'tab:red', 'chimp': 'tab:orange', 'macaque': 'tab:green'}, ax=axes[i + 1, 1])\n",
    "        \n",
    "        df_cluster_values = df_cont_pb[[gene, 'condition', 'layer']].copy()\n",
    "        palette = {'human': 'tab:red', 'chimp': 'tab:orange', 'macaque': 'tab:green'}\n",
    "        sns.scatterplot(df_cont_pb, x='layer', y=gene, hue='condition', palette=palette, ax=axes[i + 1, 1], legend=False, alpha=1, marker=\"$\\circ$\", s=100)\n",
    "        axes[i + 1, 1].set_ylabel('')\n",
    "        \n",
    "        \n",
    "        axes[i + 1, 1].legend(fontsize=10, loc=\"upper left\", bbox_to_anchor=(1, 1), prop={\"size\":10})\n",
    "        axes[i + 1, 1].set_title(f'{gene} Log(CP10K)', fontsize=16)\n",
    "        axes[i + 1, 1].xaxis.set_major_locator(ticker.FixedLocator(np.arange(1, 8)))\n",
    "        axes[i + 1, 1].xaxis.set_major_formatter(ticker.FixedFormatter(layers))\n",
    "        \n",
    "        #axes[i + 1, 1].hlines(0, xmin=0, xmax=6, colors='gray', linestyles='dashed')\n",
    "    plt.savefig(f'results/clusters{pval_tr}/hs_genes_levels_splines_{pval_tr}_cluster_{n_clusters}_{label}.pdf')"
   ]
  },
  {
   "cell_type": "code",
   "execution_count": null,
   "id": "f15e9448-a44a-48fd-926e-7b6469068b31",
   "metadata": {},
   "outputs": [],
   "source": [
    "import glob\n",
    "from pypdf import PdfMerger\n",
    "\n",
    "pdf_files = glob.glob(f'results/clusters{pval_tr}/hs_genes_levels_splines_{pval_tr}_cluster_{n_clusters}*')\n",
    "merger = PdfMerger()\n",
    "for pdf in pdf_files:\n",
    "    merger.append(pdf)\n",
    "merger.write(f\"results/clusters{pval_tr}/hs_genes_levels_splines_{pval_tr}_cluster_{n_clusters}_all.pdf\")\n",
    "merger.close()\n",
    "\n",
    "for file in pdf_files:\n",
    "    os.remove(file.replace('\\\\', '/'))"
   ]
  },
  {
   "cell_type": "markdown",
   "id": "634f1730-9b4b-44b4-ac9f-748c3d0d5119",
   "metadata": {},
   "source": [
    "# Slides"
   ]
  },
  {
   "cell_type": "code",
   "execution_count": null,
   "id": "eee585db-31c4-4998-8985-185afa01c100",
   "metadata": {},
   "outputs": [],
   "source": [
    "import squidpy as sq"
   ]
  },
  {
   "cell_type": "markdown",
   "id": "56b2c1e8-cce7-4aec-8b14-f50f20ed5e1e",
   "metadata": {},
   "source": [
    "## All spots"
   ]
  },
  {
   "cell_type": "code",
   "execution_count": null,
   "id": "9449aa96-1848-4b54-93e9-53de38f113da",
   "metadata": {},
   "outputs": [],
   "source": [
    "adata_human = sc.read_h5ad('../../data/raw_adata/human.h5ad')\n",
    "adata_human.obs_names_make_unique()\n",
    "adata_human"
   ]
  },
  {
   "cell_type": "code",
   "execution_count": null,
   "id": "e413bc3c-0aec-475a-a8f8-b2bca28f477a",
   "metadata": {},
   "outputs": [],
   "source": [
    "pretty_genes = ['PHACTR3', 'MARCKS', 'LPL', 'NRXN1', 'NRXN2']"
   ]
  },
  {
   "cell_type": "code",
   "execution_count": null,
   "id": "b267e24b-5fb1-47d8-b1d6-5396054cfd3a",
   "metadata": {},
   "outputs": [],
   "source": [
    "sc.pp.normalize_total(adata_human, target_sum=1e4)\n",
    "sc.pp.log1p(adata_human)"
   ]
  },
  {
   "cell_type": "code",
   "execution_count": null,
   "id": "4714058a-87cb-4b61-8a8f-15a403a1edb8",
   "metadata": {},
   "outputs": [],
   "source": [
    "import matplotlib\n",
    "matplotlib.rcdefaults()"
   ]
  },
  {
   "cell_type": "code",
   "execution_count": null,
   "id": "e5e02adb-fa7c-4df4-b5c9-1d653f4865b8",
   "metadata": {},
   "outputs": [],
   "source": [
    "cmap = matplotlib.cm.viridis\n",
    "norm = matplotlib.colors.Normalize(vmin=0.5, vmax=2.5, clip=True)"
   ]
  },
  {
   "cell_type": "code",
   "execution_count": null,
   "id": "ea4098cd-8bd8-4f8b-bd1b-5bc88009e565",
   "metadata": {
    "scrolled": true
   },
   "outputs": [],
   "source": [
    "#fig, axes = plt.subplots(5, 1, figsize=(6, 15), gridspec_kw={'hspace': 0.5})\n",
    "cmap = matplotlib.cm.viridis\n",
    "norm = matplotlib.colors.Normalize(vmin=0.5, vmax=2.5, clip=True)\n",
    "\n",
    "gene = 'LPL'\n",
    "sq.pl.spatial_scatter(adata_human,\n",
    "                      color=[gene, 'label'],\n",
    "                      library_key='sample_id', ncols=2, img=True, size=1.3, save=f'human_{gene}.pdf', norm=norm)"
   ]
  },
  {
   "cell_type": "code",
   "execution_count": null,
   "id": "8b01f64d-f55a-4959-b972-b33153543215",
   "metadata": {
    "scrolled": true
   },
   "outputs": [],
   "source": [
    "#fig, axes = plt.subplots(5, 1, figsize=(6, 15), gridspec_kw={'hspace': 0.5})\n",
    "cmap = matplotlib.cm.viridis\n",
    "norm = matplotlib.colors.Normalize(vmin=0, vmax=3, clip=True)\n",
    "\n",
    "gene = 'EIF1B'\n",
    "sq.pl.spatial_scatter(adata_human,\n",
    "                      color=[gene, 'label'],\n",
    "                      library_key='sample_id', ncols=2, img=True, size=1.3, save=f'human_{gene}.pdf', norm=norm)"
   ]
  },
  {
   "cell_type": "code",
   "execution_count": null,
   "id": "4f916ebc-5e6d-40c4-9da8-40c4b433227f",
   "metadata": {
    "scrolled": true
   },
   "outputs": [],
   "source": [
    "#fig, axes = plt.subplots(5, 1, figsize=(6, 15), gridspec_kw={'hspace': 0.5})\n",
    "cmap = matplotlib.cm.viridis\n",
    "norm = matplotlib.colors.Normalize(vmin=0, vmax=2, clip=True)\n",
    "\n",
    "gene = 'NCAM2'\n",
    "sq.pl.spatial_scatter(adata_human,\n",
    "                      color=[gene, 'label'],\n",
    "                      library_key='sample_id', ncols=2, img=True, size=1.3, save=f'human_{gene}.pdf', norm=norm)"
   ]
  },
  {
   "cell_type": "code",
   "execution_count": null,
   "id": "67ae2826-ae30-46d2-8419-5cb9be7756e3",
   "metadata": {},
   "outputs": [],
   "source": [
    "#fig, axes = plt.subplots(5, 1, figsize=(6, 15), gridspec_kw={'hspace': 0.5})\n",
    "cmap = matplotlib.cm.viridis\n",
    "norm = matplotlib.colors.Normalize(vmin=0, vmax=2.5, clip=True)\n",
    "\n",
    "gene = 'FOXP1'\n",
    "sq.pl.spatial_scatter(adata_human,\n",
    "                      color=[gene, 'label'],\n",
    "                      library_key='sample_id', ncols=2, img=True, size=1.3, save=f'human_{gene}.pdf', norm=norm)"
   ]
  },
  {
   "cell_type": "code",
   "execution_count": null,
   "id": "904f8598-0b02-4e70-8278-299824a6ec4a",
   "metadata": {},
   "outputs": [],
   "source": [
    "adata_chimp = sc.read_h5ad('../../data/raw_adata/chimp.h5ad')\n",
    "adata_chimp.obs_names_make_unique()\n",
    "adata_chimp"
   ]
  },
  {
   "cell_type": "code",
   "execution_count": null,
   "id": "6a07ee63-ecbe-4aac-96fb-5f07b9ee2a69",
   "metadata": {},
   "outputs": [],
   "source": [
    "sc.pp.normalize_total(adata_chimp, target_sum=1e4)\n",
    "sc.pp.log1p(adata_chimp)"
   ]
  },
  {
   "cell_type": "code",
   "execution_count": null,
   "id": "7f13e43e-19a9-4654-9ffc-8a232ba74eae",
   "metadata": {
    "scrolled": true
   },
   "outputs": [],
   "source": [
    "cmap = matplotlib.cm.viridis\n",
    "norm = matplotlib.colors.Normalize(vmin=0.5, vmax=2.5, clip=True)\n",
    "\n",
    "gene = 'LPL'\n",
    "sq.pl.spatial_scatter(adata_chimp,\n",
    "                      color=[gene, 'label'],\n",
    "                      library_key='sample_id', ncols=2, img=True, size=1.3, save=f'chimp_{gene}.pdf', norm=norm)"
   ]
  },
  {
   "cell_type": "code",
   "execution_count": null,
   "id": "2452b6bc-3bf2-48d5-bff3-f7a91a3b2d3b",
   "metadata": {
    "scrolled": true
   },
   "outputs": [],
   "source": [
    "cmap = matplotlib.cm.viridis\n",
    "norm = matplotlib.colors.Normalize(vmin=0.5, vmax=2.5, clip=True)\n",
    "\n",
    "gene = 'EIF1B'\n",
    "sq.pl.spatial_scatter(adata_chimp,\n",
    "                      color=[gene, 'label'],\n",
    "                      library_key='sample_id', ncols=2, img=True, size=1.3, save=f'chimp_{gene}.pdf', norm=norm)"
   ]
  },
  {
   "cell_type": "code",
   "execution_count": null,
   "id": "5bf3cca2-273e-41d7-af31-968dfb972a70",
   "metadata": {
    "scrolled": true
   },
   "outputs": [],
   "source": [
    "cmap = matplotlib.cm.viridis\n",
    "norm = matplotlib.colors.Normalize(vmin=0, vmax=2, clip=True)\n",
    "\n",
    "gene = 'NCAM2'\n",
    "sq.pl.spatial_scatter(adata_chimp,\n",
    "                      color=[gene, 'label'],\n",
    "                      library_key='sample_id', ncols=2, img=True, size=1.3, save=f'chimp_{gene}.pdf', norm=norm)"
   ]
  },
  {
   "cell_type": "code",
   "execution_count": null,
   "id": "6cf10617-6fce-4c74-91bd-d673e7ce5a3f",
   "metadata": {
    "scrolled": true
   },
   "outputs": [],
   "source": [
    "cmap = matplotlib.cm.viridis\n",
    "norm = matplotlib.colors.Normalize(vmin=0, vmax=2, clip=True)\n",
    "\n",
    "gene = 'FOXP1'\n",
    "sq.pl.spatial_scatter(adata_chimp,\n",
    "                      color=[gene, 'label'],\n",
    "                      library_key='sample_id', ncols=2, img=True, size=1.3, save=f'chimp_{gene}.pdf', norm=norm)"
   ]
  },
  {
   "cell_type": "code",
   "execution_count": null,
   "id": "d8db2445-3b13-4737-a16c-6d0f13e54d8c",
   "metadata": {},
   "outputs": [],
   "source": [
    "adata_macaque = sc.read_h5ad('../../data/raw_adata/macaque.h5ad')\n",
    "adata_macaque.obs_names_make_unique()\n",
    "adata_macaque"
   ]
  },
  {
   "cell_type": "code",
   "execution_count": null,
   "id": "6225fa83-5a1c-4a52-8a6c-6504b26f6817",
   "metadata": {},
   "outputs": [],
   "source": [
    "sc.pp.normalize_total(adata_macaque, target_sum=1e4)\n",
    "sc.pp.log1p(adata_macaque)"
   ]
  },
  {
   "cell_type": "code",
   "execution_count": null,
   "id": "ca084495-2b38-40ae-adf2-d8413492123a",
   "metadata": {
    "scrolled": true
   },
   "outputs": [],
   "source": [
    "cmap = matplotlib.cm.viridis\n",
    "norm = matplotlib.colors.Normalize(vmin=0, vmax=2, clip=True)\n",
    "\n",
    "gene = 'LPL'\n",
    "sq.pl.spatial_scatter(adata_macaque,\n",
    "                      color=[gene, 'label'],\n",
    "                      library_key='sample_id', ncols=2, img=True, size=1.3, save=f'macaque_{gene}.pdf', norm=norm)"
   ]
  },
  {
   "cell_type": "code",
   "execution_count": null,
   "id": "00d4ac29-cc53-4434-b69a-15abb7ab749b",
   "metadata": {
    "scrolled": true
   },
   "outputs": [],
   "source": [
    "cmap = matplotlib.cm.viridis\n",
    "norm = matplotlib.colors.Normalize(vmin=0, vmax=3, clip=True)\n",
    "\n",
    "gene = 'EIF1B'\n",
    "sq.pl.spatial_scatter(adata_macaque,\n",
    "                      color=[gene, 'label'],\n",
    "                      library_key='sample_id', ncols=2, img=True, size=1.3, save=f'macaque_{gene}.pdf', norm=norm)"
   ]
  },
  {
   "cell_type": "code",
   "execution_count": null,
   "id": "215847d9-f1b1-434c-90b8-20b99bf4d816",
   "metadata": {
    "scrolled": true
   },
   "outputs": [],
   "source": [
    "cmap = matplotlib.cm.viridis\n",
    "norm = matplotlib.colors.Normalize(vmin=0, vmax=2, clip=True)\n",
    "\n",
    "gene = 'NCAM2'\n",
    "sq.pl.spatial_scatter(adata_macaque,\n",
    "                      color=[gene, 'label'],\n",
    "                      library_key='sample_id', ncols=2, img=True, size=1.3, save=f'macaque_{gene}.pdf', norm=norm)"
   ]
  },
  {
   "cell_type": "code",
   "execution_count": null,
   "id": "3e177777-ad37-46ff-b1cd-7fe0f6364614",
   "metadata": {
    "scrolled": true
   },
   "outputs": [],
   "source": [
    "cmap = matplotlib.cm.viridis\n",
    "norm = matplotlib.colors.Normalize(vmin=0, vmax=2, clip=True)\n",
    "\n",
    "gene = 'FOXP1'\n",
    "sq.pl.spatial_scatter(adata_macaque,\n",
    "                      color=[gene, 'label'],\n",
    "                      library_key='sample_id', ncols=2, img=True, size=1.3, save=f'macaque_{gene}.pdf', norm=norm)"
   ]
  },
  {
   "cell_type": "code",
   "execution_count": null,
   "id": "7c871411-f459-451b-b64a-d6747a045053",
   "metadata": {},
   "outputs": [],
   "source": [
    "pretty_genes = ['LPL', 'EIF1B', 'NCAM2', 'FOXP1']"
   ]
  },
  {
   "cell_type": "code",
   "execution_count": null,
   "id": "0ccfa8ac-6381-45b8-86f2-266616d1211e",
   "metadata": {},
   "outputs": [],
   "source": [
    "import glob\n",
    "from pypdf import PdfMerger\n",
    "\n",
    "for gene in pretty_genes:\n",
    "    pdf_files = glob.glob(f'figures/*{gene}.pdf')\n",
    "    merger = PdfMerger()\n",
    "    for pdf in pdf_files:\n",
    "        merger.append(pdf)\n",
    "    merger.write(f\"figures/{gene}_all.pdf\")\n",
    "    merger.close()"
   ]
  },
  {
   "cell_type": "code",
   "execution_count": null,
   "id": "e7cdb51f-2de2-4d97-bc59-b2bfa761d933",
   "metadata": {},
   "outputs": [],
   "source": [
    "pdf_files = glob.glob(f'figures/*all.pdf')\n",
    "merger = PdfMerger()\n",
    "for pdf in pdf_files:\n",
    "    merger.append(pdf)\n",
    "merger.write(f\"figures/pretty_genes_all.pdf\")\n",
    "merger.close()"
   ]
  },
  {
   "cell_type": "markdown",
   "id": "73fe9986-efa9-453b-b5d4-87b9790765c5",
   "metadata": {},
   "source": [
    "## Filtered"
   ]
  },
  {
   "cell_type": "code",
   "execution_count": null,
   "id": "b77635e3-e758-4355-bff6-f668332851e3",
   "metadata": {},
   "outputs": [],
   "source": [
    "adata_human = sc.read_h5ad('../../data/filtered_adata/human.h5ad')\n",
    "adata_human.obs_names_make_unique()\n",
    "adata_human"
   ]
  },
  {
   "cell_type": "code",
   "execution_count": null,
   "id": "37a99050-f587-4d7d-9869-68ca92a59058",
   "metadata": {},
   "outputs": [],
   "source": [
    "pretty_genes = ['PHACTR3', 'MARCKS', 'LPL', 'NRXN1', 'NRXN2']"
   ]
  },
  {
   "cell_type": "code",
   "execution_count": null,
   "id": "891d9295-ed4e-4f2e-95df-d71253971764",
   "metadata": {},
   "outputs": [],
   "source": [
    "sc.pp.normalize_total(adata_human, target_sum=1e4)\n",
    "sc.pp.log1p(adata_human)"
   ]
  },
  {
   "cell_type": "code",
   "execution_count": null,
   "id": "0e0b5962-0d70-44c7-9aad-1dd30c92c8ea",
   "metadata": {},
   "outputs": [],
   "source": [
    "sq.pl.spatial_scatter(adata_human,\n",
    "                      color=['LPL', 'FOXP1', 'NCAM2', 'label'],\n",
    "                      library_key='sample_id', ncols=4, img=True, size=1.3, save='human_filtered_pretty_genes.pdf', norm=norm)"
   ]
  },
  {
   "cell_type": "code",
   "execution_count": null,
   "id": "5f63ae67-9d84-4eb3-a60f-ac4ad3353cc8",
   "metadata": {},
   "outputs": [],
   "source": [
    "adata_chimp = sc.read_h5ad('../../data/filtered_adata/chimp.h5ad')\n",
    "adata_chimp.obs_names_make_unique()\n",
    "adata_chimp"
   ]
  },
  {
   "cell_type": "code",
   "execution_count": null,
   "id": "2ca6030c-4abc-4501-9555-30622c5214a0",
   "metadata": {},
   "outputs": [],
   "source": [
    "sc.pp.normalize_total(adata_chimp, target_sum=1e4)\n",
    "sc.pp.log1p(adata_chimp)"
   ]
  },
  {
   "cell_type": "code",
   "execution_count": null,
   "id": "db6f2258-ffb6-42a0-962e-f3ce26180220",
   "metadata": {},
   "outputs": [],
   "source": [
    "sq.pl.spatial_scatter(adata_chimp,\n",
    "                      color=['LPL', 'FOXP1', 'NCAM2', 'label'],\n",
    "                      library_key='sample_id', ncols=4, img=True, size=1.3, save='chimp_filtered_pretty_genes.pdf', norm=norm)"
   ]
  },
  {
   "cell_type": "code",
   "execution_count": null,
   "id": "8584ca08-f7fd-40fb-8124-a468bfd8518e",
   "metadata": {},
   "outputs": [],
   "source": [
    "adata_macaque = sc.read_h5ad('../../data/filtered_adata/macaque.h5ad')\n",
    "adata_macaque.obs_names_make_unique()\n",
    "adata_macaque"
   ]
  },
  {
   "cell_type": "code",
   "execution_count": null,
   "id": "41cc85a4-8758-4c8d-8537-be24c536a651",
   "metadata": {},
   "outputs": [],
   "source": [
    "sc.pp.normalize_total(adata_macaque, target_sum=1e4)\n",
    "sc.pp.log1p(adata_macaque)"
   ]
  },
  {
   "cell_type": "code",
   "execution_count": null,
   "id": "6d31c68a-9cc2-408e-9393-b0bd85d845e4",
   "metadata": {},
   "outputs": [],
   "source": [
    "sq.pl.spatial_scatter(adata_macaque,\n",
    "                      color=['LPL', 'FOXP1', 'NCAM2', 'label'],\n",
    "                      library_key='sample_id', ncols=4, img=True, size=1.3, save='macaque_filtered_pretty_genes.pdf', norm=norm)"
   ]
  }
 ],
 "metadata": {
  "kernelspec": {
   "display_name": "Python 3 (ipykernel)",
   "language": "python",
   "name": "python3"
  },
  "language_info": {
   "codemirror_mode": {
    "name": "ipython",
    "version": 3
   },
   "file_extension": ".py",
   "mimetype": "text/x-python",
   "name": "python",
   "nbconvert_exporter": "python",
   "pygments_lexer": "ipython3",
   "version": "3.10.11"
  }
 },
 "nbformat": 4,
 "nbformat_minor": 5
}
