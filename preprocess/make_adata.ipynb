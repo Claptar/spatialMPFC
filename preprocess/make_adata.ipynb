{
 "cells": [
  {
   "cell_type": "code",
   "execution_count": 1,
   "metadata": {},
   "outputs": [],
   "source": [
    "import os\n",
    "import scanpy as sc\n",
    "import squidpy as sq\n",
    "import anndata as an\n",
    "import pandas as pd"
   ]
  },
  {
   "cell_type": "markdown",
   "metadata": {},
   "source": [
    "## Create AnnData objects with layer annotation"
   ]
  },
  {
   "cell_type": "markdown",
   "metadata": {},
   "source": [
    "### Human"
   ]
  },
  {
   "cell_type": "code",
   "execution_count": null,
   "metadata": {},
   "outputs": [
    {
     "data": {
      "text/plain": [
       "['human_759', 'human_j12', 'human_j3', 'human_j4', 'human_j6']"
      ]
     },
     "execution_count": 2,
     "metadata": {},
     "output_type": "execute_result"
    }
   ],
   "source": [
    "# Define paths and get sample_ids\n",
    "obj_list = list()\n",
    "file_list = os.listdir('data/raw_spatial_data/human/')\n",
    "file_list"
   ]
  },
  {
   "cell_type": "code",
   "execution_count": null,
   "metadata": {},
   "outputs": [],
   "source": [
    "os.makedirs('data', exist_ok=True)\n",
    "os.makedirs('data/anndata_objects', exist_ok=True)\n",
    "os.makedirs('data/anndata_objects/human', exist_ok=True)"
   ]
  },
  {
   "cell_type": "code",
   "execution_count": null,
   "metadata": {},
   "outputs": [],
   "source": [
    "# Read each table and append to our list\n",
    "for file in file_list:\n",
    "    print(file)\n",
    "    # load annotation\n",
    "    ann = pd.read_csv('data/clusters/' + file + '.csv', index_col=0)\n",
    "    ann.columns = ['label']\n",
    "    # load spatial data\n",
    "    tmp = sc.read_visium('data/raw_spatial_data/human/'+ file)\n",
    "    tmp.var_names_make_unique()\n",
    "    # adding label data\n",
    "    tmp.obs['label'] = ann.label\n",
    "    tmp.obs['sample_id'] = file\n",
    "    # checking spatial key and sample_id\n",
    "    spatial_key = next(iter(tmp.uns['spatial']))\n",
    "    if spatial_key != file:\n",
    "        tmp.uns['spatial'][file] = tmp.uns['spatial'].pop(spatial_key)\n",
    "    tmp.write_h5ad(f'data/anndata_objects/human/{file}.h5ad')\n",
    "    obj_list.append(tmp)"
   ]
  },
  {
   "cell_type": "markdown",
   "metadata": {},
   "source": [
    "### Concat AnnData objects"
   ]
  },
  {
   "cell_type": "code",
   "execution_count": 8,
   "metadata": {},
   "outputs": [
    {
     "name": "stderr",
     "output_type": "stream",
     "text": [
      "C:\\Users\\aleks\\anaconda3\\envs\\scanorama39\\lib\\site-packages\\anndata\\_core\\anndata.py:1828: UserWarning: Observation names are not unique. To make them unique, call `.obs_names_make_unique`.\n",
      "  utils.warn_names_duplicates(\"obs\")\n"
     ]
    }
   ],
   "source": [
    "adata = an.concat( obj_list , merge='same',uns_merge=\"unique\" )\n",
    "adata.var_names_make_unique()"
   ]
  },
  {
   "cell_type": "code",
   "execution_count": 9,
   "metadata": {},
   "outputs": [
    {
     "data": {
      "text/plain": [
       "dict_keys(['human_759', 'human_j12', 'human_j3', 'human_j4', 'human_j6'])"
      ]
     },
     "execution_count": 9,
     "metadata": {},
     "output_type": "execute_result"
    }
   ],
   "source": [
    "adata.uns['spatial'].keys()"
   ]
  },
  {
   "cell_type": "markdown",
   "metadata": {},
   "source": [
    "### Save AnnData object"
   ]
  },
  {
   "cell_type": "code",
   "execution_count": null,
   "metadata": {},
   "outputs": [],
   "source": [
    "adata.write_h5ad('data/anndata_objects/human/human.h5ad')"
   ]
  },
  {
   "cell_type": "markdown",
   "metadata": {},
   "source": [
    "### Chimp"
   ]
  },
  {
   "cell_type": "code",
   "execution_count": null,
   "metadata": {},
   "outputs": [
    {
     "data": {
      "text/plain": [
       "['chimp_11454', 'chimp_13302', 'chimp_13309', 'chimp_j11', 'chimp_j8']"
      ]
     },
     "execution_count": 11,
     "metadata": {},
     "output_type": "execute_result"
    }
   ],
   "source": [
    "# Define paths and get sample_ids\n",
    "obj_list = list()\n",
    "file_list = os.listdir('data/raw_spatial_data/chimp/')\n",
    "file_list"
   ]
  },
  {
   "cell_type": "code",
   "execution_count": null,
   "metadata": {},
   "outputs": [],
   "source": [
    "os.makedirs('data', exist_ok=True)\n",
    "os.makedirs('data/anndata_objects', exist_ok=True)\n",
    "os.makedirs('data/anndata_objects/chimp', exist_ok=True)"
   ]
  },
  {
   "cell_type": "code",
   "execution_count": null,
   "metadata": {},
   "outputs": [],
   "source": [
    "# Read each table and append to our list\n",
    "for file in file_list:\n",
    "    print(file)\n",
    "    ann = pd.read_csv('data/clusters/' + file + '.csv', index_col=0)\n",
    "    ann.columns = ['label']\n",
    "    tmp = sc.read_visium('data/raw_spatial_data/chimp/'+ file)\n",
    "    tmp.var_names_make_unique()\n",
    "    tmp.obs['label'] = ann.label\n",
    "    tmp.obs['sample_id'] = file\n",
    "    spatial_key = next(iter(tmp.uns['spatial']))\n",
    "    if spatial_key != file:\n",
    "        tmp.uns['spatial'][file] = tmp.uns['spatial'].pop(spatial_key)\n",
    "    tmp.write_h5ad(f'data/anndata_objects/chimp/{file}.h5ad')\n",
    "    obj_list.append(tmp)"
   ]
  },
  {
   "cell_type": "markdown",
   "metadata": {},
   "source": [
    "### Concat AnnData objects"
   ]
  },
  {
   "cell_type": "code",
   "execution_count": 14,
   "metadata": {},
   "outputs": [
    {
     "name": "stderr",
     "output_type": "stream",
     "text": [
      "C:\\Users\\aleks\\anaconda3\\envs\\scanorama39\\lib\\site-packages\\anndata\\_core\\anndata.py:1828: UserWarning: Observation names are not unique. To make them unique, call `.obs_names_make_unique`.\n",
      "  utils.warn_names_duplicates(\"obs\")\n"
     ]
    }
   ],
   "source": [
    "adata = an.concat( obj_list , merge='same',uns_merge=\"unique\" )\n",
    "adata.var_names_make_unique()"
   ]
  },
  {
   "cell_type": "code",
   "execution_count": 15,
   "metadata": {},
   "outputs": [
    {
     "data": {
      "text/plain": [
       "dict_keys(['chimp_11454', 'chimp_13302', 'chimp_13309', 'chimp_j11', 'chimp_j8'])"
      ]
     },
     "execution_count": 15,
     "metadata": {},
     "output_type": "execute_result"
    }
   ],
   "source": [
    "adata.uns['spatial'].keys()"
   ]
  },
  {
   "cell_type": "markdown",
   "metadata": {},
   "source": [
    "### Save AnnData object"
   ]
  },
  {
   "cell_type": "code",
   "execution_count": null,
   "metadata": {},
   "outputs": [],
   "source": [
    "adata.write_h5ad('data/anndata_objects/chimp/chimp.h5ad')"
   ]
  },
  {
   "cell_type": "markdown",
   "metadata": {},
   "source": [
    "### Macaque"
   ]
  },
  {
   "cell_type": "code",
   "execution_count": null,
   "metadata": {},
   "outputs": [
    {
     "data": {
      "text/plain": [
       "['macaque_0701', 'macaque_0703', 'macaque_0704', 'macaque_nb0904']"
      ]
     },
     "execution_count": 15,
     "metadata": {},
     "output_type": "execute_result"
    }
   ],
   "source": [
    "# Define paths and get sample_ids\n",
    "obj_list = list()\n",
    "file_list = os.listdir('data/raw_spatial_data/macaque/')\n",
    "file_list"
   ]
  },
  {
   "cell_type": "code",
   "execution_count": null,
   "metadata": {},
   "outputs": [],
   "source": [
    "os.makedirs('data', exist_ok=True)\n",
    "os.makedirs('data/anndata_objects', exist_ok=True)\n",
    "os.makedirs('data/anndata_objects/macaque', exist_ok=True)"
   ]
  },
  {
   "cell_type": "code",
   "execution_count": null,
   "metadata": {},
   "outputs": [],
   "source": [
    "# Read each table and append to our list\n",
    "for file in file_list:\n",
    "    print(file)\n",
    "    if file == 'macaque_0701':\n",
    "        ann = pd.read_csv('data/clusters/M_0701_relabeled.csv', index_col=0)\n",
    "    else:\n",
    "        ann = pd.read_csv('data/clusters/' + file + '.csv', index_col=0)\n",
    "    ann.columns = ['label']\n",
    "    tmp = sc.read_visium('data/raw_spatial_data/macaque/'+ file)\n",
    "    tmp.var_names_make_unique()\n",
    "    tmp.obs['label'] = ann.label\n",
    "    tmp.obs['sample_id'] = file\n",
    "    spatial_key = next(iter(tmp.uns['spatial']))\n",
    "    if spatial_key != file:\n",
    "        tmp.uns['spatial'][file] = tmp.uns['spatial'].pop(spatial_key)\n",
    "    tmp.write_h5ad(f'data/anndata_objects/macaque/{file}.h5ad')\n",
    "    obj_list.append(tmp)"
   ]
  },
  {
   "cell_type": "markdown",
   "metadata": {},
   "source": [
    "### Concat AnnData objects"
   ]
  },
  {
   "cell_type": "code",
   "execution_count": null,
   "metadata": {},
   "outputs": [],
   "source": [
    "adata = an.concat( obj_list, merge='same', uns_merge=\"unique\" )\n",
    "adata.var_names_make_unique()"
   ]
  },
  {
   "cell_type": "code",
   "execution_count": 19,
   "metadata": {},
   "outputs": [
    {
     "data": {
      "text/plain": [
       "dict_keys(['macaque_0701', 'macaque_0703', 'macaque_0704', 'macaque_nb0904'])"
      ]
     },
     "execution_count": 19,
     "metadata": {},
     "output_type": "execute_result"
    }
   ],
   "source": [
    "adata.uns['spatial'].keys()"
   ]
  },
  {
   "cell_type": "markdown",
   "metadata": {},
   "source": [
    "### Save AnnData object"
   ]
  },
  {
   "cell_type": "code",
   "execution_count": null,
   "metadata": {},
   "outputs": [],
   "source": [
    "adata.write_h5ad('data/anndata_objects/macaque/macaque.h5ad')"
   ]
  },
  {
   "cell_type": "markdown",
   "metadata": {},
   "source": [
    "### Spatial_LIBD"
   ]
  },
  {
   "cell_type": "code",
   "execution_count": null,
   "metadata": {},
   "outputs": [
    {
     "data": {
      "text/plain": [
       "['151507',\n",
       " '151508',\n",
       " '151509',\n",
       " '151510',\n",
       " '151669',\n",
       " '151670',\n",
       " '151671',\n",
       " '151672',\n",
       " '151673',\n",
       " '151674',\n",
       " '151675',\n",
       " '151676']"
      ]
     },
     "execution_count": 25,
     "metadata": {},
     "output_type": "execute_result"
    }
   ],
   "source": [
    "# Define paths and get sample_ids\n",
    "obj_list = list()\n",
    "file_list = os.listdir('data/raw_spatial_data/spatial_libd_human')\n",
    "file_list = file_list[:-1]\n",
    "file_list"
   ]
  },
  {
   "cell_type": "code",
   "execution_count": null,
   "metadata": {},
   "outputs": [],
   "source": [
    "os.makedirs('data', exist_ok=True)\n",
    "os.makedirs('data/anndata_objects', exist_ok=True)\n",
    "os.makedirs('data/anndata_objects/spatial_libd_human', exist_ok=True)"
   ]
  },
  {
   "cell_type": "code",
   "execution_count": null,
   "metadata": {},
   "outputs": [],
   "source": [
    "# Read each table and append to our list\n",
    "for file in file_list:\n",
    "    print(file)\n",
    "    ann = pd.read_csv('data/clusters/spatial_LIBD.tsv', index_col=0, sep='\\t', header=None, names=['sample_id', 'label'])\n",
    "    ann = ann[ann.sample_id == int(file)]\n",
    "    tmp = sc.read_visium('data/raw_spatial_data/spatial_libd_human/'+ file)\n",
    "    tmp.var_names_make_unique()\n",
    "    tmp.obs['label'] = ann.label\n",
    "    tmp.obs['sample_id'] = file\n",
    "    tmp.write_h5ad(f'data/anndata_objects/spatial_libd_human/{file}.h5ad')\n",
    "    obj_list.append(tmp)"
   ]
  },
  {
   "cell_type": "markdown",
   "metadata": {},
   "source": [
    "### Concat AnnData objects"
   ]
  },
  {
   "cell_type": "code",
   "execution_count": 28,
   "metadata": {},
   "outputs": [
    {
     "name": "stderr",
     "output_type": "stream",
     "text": [
      "C:\\Users\\aleks\\anaconda3\\envs\\scanorama39\\lib\\site-packages\\anndata\\_core\\anndata.py:1828: UserWarning: Observation names are not unique. To make them unique, call `.obs_names_make_unique`.\n",
      "  utils.warn_names_duplicates(\"obs\")\n"
     ]
    }
   ],
   "source": [
    "adata = an.concat( obj_list , merge='same',uns_merge=\"unique\" )\n",
    "adata.var_names_make_unique()"
   ]
  },
  {
   "cell_type": "code",
   "execution_count": 29,
   "metadata": {},
   "outputs": [
    {
     "data": {
      "text/plain": [
       "dict_keys(['151507', '151508', '151509', '151510', '151669', '151670', '151671', '151672', '151673', '151674', '151675', '151676'])"
      ]
     },
     "execution_count": 29,
     "metadata": {},
     "output_type": "execute_result"
    }
   ],
   "source": [
    "adata.uns['spatial'].keys()"
   ]
  },
  {
   "cell_type": "markdown",
   "metadata": {},
   "source": [
    "### Save AnnData object"
   ]
  },
  {
   "cell_type": "code",
   "execution_count": null,
   "metadata": {},
   "outputs": [],
   "source": [
    "adata.write_h5ad('data/anndata_objects/spatial_libd_human/spatial_libd_human.h5ad')"
   ]
  }
 ],
 "metadata": {
  "kernelspec": {
   "display_name": "venv",
   "language": "python",
   "name": "python3"
  },
  "language_info": {
   "codemirror_mode": {
    "name": "ipython",
    "version": 3
   },
   "file_extension": ".py",
   "mimetype": "text/x-python",
   "name": "python",
   "nbconvert_exporter": "python",
   "pygments_lexer": "ipython3",
   "version": "3.11.9"
  }
 },
 "nbformat": 4,
 "nbformat_minor": 1
}
