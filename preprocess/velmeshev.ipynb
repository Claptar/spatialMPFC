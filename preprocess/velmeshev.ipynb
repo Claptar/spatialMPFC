{
 "cells": [
  {
   "cell_type": "markdown",
   "id": "ffc77559",
   "metadata": {},
   "source": [
    "We want to load the following dataset from UCSC Cell Browser\n",
    "\n",
    "- **Lab:** Kriegstein\n",
    "- **Publication:** Velmeshev et al. Science. 2019.\n",
    "- **PubMed Abstract:** 31097668\n",
    "- **NCBI Bioproject:** PRJNA434002\n",
    "- **Submitted by:** Dmitry Velmeshev (2019-10-18), Version 3\n",
    "- **Direct link to this plot for manuscripts:** [https://autism.cells.ucsc.edu](https://autism.cells.ucsc.edu)\n",
    "\n",
    "<u>Filelinks:</u>\n",
    "- **Matrix**: [exprMatrix.tsv.gz](https://cells.ucsc.edu/autism/exprMatrix.tsv.gz). Values in matrix are: 10x UMI counts from cellranger, log2-transformed\n",
    "- **Raw count matrix:** [rawMatrix.zip](https://cells.ucsc.edu/autism/rawMatrix.zip). Matrix with raw read counts, includes a copy of the meta data\n",
    "- **Cell meta annotations:** [meta.tsv](https://cells.ucsc.edu/autism/meta.tsv)\n",
    "- **Dimensionality reduction coordinates:** [tSNE.coords.tsv.gz](https://cells.ucsc.edu/autism/tSNE.coords.tsv.gz)"
   ]
  },
  {
   "cell_type": "markdown",
   "id": "6e1c0c79",
   "metadata": {},
   "source": [
    "# Global environment"
   ]
  },
  {
   "cell_type": "markdown",
   "id": "46f6205b",
   "metadata": {},
   "source": [
    "## Imports"
   ]
  },
  {
   "cell_type": "code",
   "execution_count": 1,
   "id": "1b8a6a22",
   "metadata": {},
   "outputs": [],
   "source": [
    "import scanpy as sc"
   ]
  },
  {
   "cell_type": "markdown",
   "id": "b5fe5623",
   "metadata": {},
   "source": [
    "## Load data"
   ]
  },
  {
   "cell_type": "code",
   "execution_count": 2,
   "id": "7a685118",
   "metadata": {},
   "outputs": [
    {
     "ename": "",
     "evalue": "",
     "output_type": "error",
     "traceback": [
      "\u001b[1;31mThe Kernel crashed while executing code in the current cell or a previous cell. \n",
      "\u001b[1;31mPlease review the code in the cell(s) to identify a possible cause of the failure. \n",
      "\u001b[1;31mClick <a href='https://aka.ms/vscodeJupyterKernelCrash'>here</a> for more info. \n",
      "\u001b[1;31mView Jupyter <a href='command:jupyter.viewOutput'>log</a> for further details."
     ]
    },
    {
     "ename": "",
     "evalue": "",
     "output_type": "error",
     "traceback": [
      "\u001b[1;31mCanceled future for execute_request message before replies were done"
     ]
    },
    {
     "ename": "",
     "evalue": "",
     "output_type": "error",
     "traceback": [
      "\u001b[1;31mCanceled future for execute_request message before replies were done. \n",
      "\u001b[1;31mView Jupyter <a href='command:jupyter.viewOutput'>log</a> for further details."
     ]
    }
   ],
   "source": [
    "filepath = \"data/velmeshev\"\n",
    "adata = sc.read_10x_mtx(filepath)\n",
    "adata"
   ]
  }
 ],
 "metadata": {
  "kernelspec": {
   "display_name": "Python 3 (ipykernel)",
   "language": "python",
   "name": "python3"
  },
  "language_info": {
   "codemirror_mode": {
    "name": "ipython",
    "version": 3
   },
   "file_extension": ".py",
   "mimetype": "text/x-python",
   "name": "python",
   "nbconvert_exporter": "python",
   "pygments_lexer": "ipython3",
   "version": "3.11.13"
  }
 },
 "nbformat": 4,
 "nbformat_minor": 5
}
