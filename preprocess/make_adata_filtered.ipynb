{
 "cells": [
  {
   "cell_type": "code",
   "execution_count": 1,
   "metadata": {
    "scrolled": true
   },
   "outputs": [],
   "source": [
    "import os\n",
    "import scanpy as sc\n",
    "import squidpy as sq\n",
    "import anndata as an\n",
    "import pandas as pd"
   ]
  },
  {
   "cell_type": "markdown",
   "metadata": {},
   "source": [
    "## Create AnnData objects with layer annotation"
   ]
  },
  {
   "cell_type": "markdown",
   "metadata": {},
   "source": [
    "### Human"
   ]
  },
  {
   "cell_type": "code",
   "execution_count": 18,
   "metadata": {},
   "outputs": [
    {
     "data": {
      "text/plain": [
       "['human_759.h5ad',\n",
       " 'human_j12.h5ad',\n",
       " 'human_j3.h5ad',\n",
       " 'human_j4.h5ad',\n",
       " 'human_j6.h5ad']"
      ]
     },
     "execution_count": 18,
     "metadata": {},
     "output_type": "execute_result"
    }
   ],
   "source": [
    "# Define paths and get sample_ids\n",
    "obj_list = list()\n",
    "file_list = os.listdir('results/filtered_samples/human')\n",
    "file_list"
   ]
  },
  {
   "cell_type": "code",
   "execution_count": 19,
   "metadata": {},
   "outputs": [
    {
     "name": "stdout",
     "output_type": "stream",
     "text": [
      "human_759.h5ad\n",
      "human_j12.h5ad\n",
      "human_j3.h5ad\n",
      "human_j4.h5ad\n",
      "human_j6.h5ad\n"
     ]
    }
   ],
   "source": [
    "# Read each table and append to our list\n",
    "for file in file_list:\n",
    "    print(file)\n",
    "    # load annotation\n",
    "    tmp = sc.read_h5ad('results/filtered_samples/human/'+ file)\n",
    "    tmp.var_names_make_unique()\n",
    "    # checking spatial key and sample_id\n",
    "    spatial_key = next(iter(tmp.uns['spatial']))\n",
    "    if spatial_key != file.replace('.h5ad', ''):\n",
    "        tmp.uns['spatial'][file.replace('.h5ad', '')] = tmp.uns['spatial'].pop(spatial_key)\n",
    "    obj_list.append(tmp)"
   ]
  },
  {
   "cell_type": "markdown",
   "metadata": {},
   "source": [
    "### Concat AnnData objects"
   ]
  },
  {
   "cell_type": "code",
   "execution_count": 20,
   "metadata": {},
   "outputs": [
    {
     "name": "stderr",
     "output_type": "stream",
     "text": [
      "C:\\Users\\aleks\\anaconda3\\envs\\scanorama39\\lib\\site-packages\\anndata\\_core\\anndata.py:1828: UserWarning: Observation names are not unique. To make them unique, call `.obs_names_make_unique`.\n",
      "  utils.warn_names_duplicates(\"obs\")\n"
     ]
    }
   ],
   "source": [
    "adata = an.concat(obj_list , merge='same',uns_merge=\"unique\" )\n",
    "adata.var_names_make_unique()"
   ]
  },
  {
   "cell_type": "code",
   "execution_count": 21,
   "metadata": {},
   "outputs": [
    {
     "data": {
      "text/plain": [
       "dict_keys(['human_759', 'human_j12', 'human_j3', 'human_j4', 'human_j6'])"
      ]
     },
     "execution_count": 21,
     "metadata": {},
     "output_type": "execute_result"
    }
   ],
   "source": [
    "adata.uns['spatial'].keys()"
   ]
  },
  {
   "cell_type": "markdown",
   "metadata": {},
   "source": [
    "### Save AnnData object"
   ]
  },
  {
   "cell_type": "code",
   "execution_count": 22,
   "metadata": {},
   "outputs": [],
   "source": [
    "adata.write_h5ad('results/filtered_samples/human/human.h5ad')"
   ]
  },
  {
   "cell_type": "markdown",
   "metadata": {},
   "source": [
    "### Chimp"
   ]
  },
  {
   "cell_type": "code",
   "execution_count": 24,
   "metadata": {},
   "outputs": [
    {
     "data": {
      "text/plain": [
       "['chimp_11454.h5ad',\n",
       " 'chimp_13302.h5ad',\n",
       " 'chimp_13309.h5ad',\n",
       " 'chimp_j11.h5ad',\n",
       " 'chimp_j8.h5ad']"
      ]
     },
     "execution_count": 24,
     "metadata": {},
     "output_type": "execute_result"
    }
   ],
   "source": [
    "# Define paths and get sample_ids\n",
    "obj_list = list()\n",
    "file_list = os.listdir('results/filtered_samples/chimp/')\n",
    "file_list"
   ]
  },
  {
   "cell_type": "code",
   "execution_count": 25,
   "metadata": {},
   "outputs": [
    {
     "name": "stdout",
     "output_type": "stream",
     "text": [
      "chimp_11454.h5ad\n",
      "chimp_13302.h5ad\n",
      "chimp_13309.h5ad\n",
      "chimp_j11.h5ad\n",
      "chimp_j8.h5ad\n"
     ]
    }
   ],
   "source": [
    "# Read each table and append to our list\n",
    "for file in file_list:\n",
    "    print(file)\n",
    "    # load annotation\n",
    "    tmp = sc.read_h5ad('results/filtered_samples/chimp/'+ file)\n",
    "    tmp.var_names_make_unique()\n",
    "    # checking spatial key and sample_id\n",
    "    spatial_key = next(iter(tmp.uns['spatial']))\n",
    "    if spatial_key != file.replace('.h5ad', ''):\n",
    "        tmp.uns['spatial'][file.replace('.h5ad', '')] = tmp.uns['spatial'].pop(spatial_key)\n",
    "    obj_list.append(tmp)"
   ]
  },
  {
   "cell_type": "markdown",
   "metadata": {},
   "source": [
    "### Concat AnnData objects"
   ]
  },
  {
   "cell_type": "code",
   "execution_count": 26,
   "metadata": {},
   "outputs": [
    {
     "name": "stderr",
     "output_type": "stream",
     "text": [
      "C:\\Users\\aleks\\anaconda3\\envs\\scanorama39\\lib\\site-packages\\anndata\\_core\\anndata.py:1828: UserWarning: Observation names are not unique. To make them unique, call `.obs_names_make_unique`.\n",
      "  utils.warn_names_duplicates(\"obs\")\n"
     ]
    }
   ],
   "source": [
    "adata = an.concat( obj_list , merge='same',uns_merge=\"unique\" )\n",
    "adata.var_names_make_unique()"
   ]
  },
  {
   "cell_type": "code",
   "execution_count": 27,
   "metadata": {},
   "outputs": [
    {
     "data": {
      "text/plain": [
       "dict_keys(['chimp_11454', 'chimp_13302', 'chimp_13309', 'chimp_j11', 'chimp_j8'])"
      ]
     },
     "execution_count": 27,
     "metadata": {},
     "output_type": "execute_result"
    }
   ],
   "source": [
    "adata.uns['spatial'].keys()"
   ]
  },
  {
   "cell_type": "markdown",
   "metadata": {},
   "source": [
    "### Save AnnData object"
   ]
  },
  {
   "cell_type": "code",
   "execution_count": 28,
   "metadata": {},
   "outputs": [],
   "source": [
    "adata.write_h5ad('results/filtered_samples/chimp/chimp.h5ad')"
   ]
  },
  {
   "cell_type": "markdown",
   "metadata": {},
   "source": [
    "### Macaque"
   ]
  },
  {
   "cell_type": "code",
   "execution_count": 2,
   "metadata": {},
   "outputs": [
    {
     "data": {
      "text/plain": [
       "['macaque_0701.h5ad',\n",
       " 'macaque_0703.h5ad',\n",
       " 'macaque_0704.h5ad',\n",
       " 'macaque_nb0904.h5ad']"
      ]
     },
     "execution_count": 2,
     "metadata": {},
     "output_type": "execute_result"
    }
   ],
   "source": [
    "# Define paths and get sample_ids\n",
    "obj_list = list()\n",
    "file_list = os.listdir('../QC/macaque/results/filtered_samples/macaque/')\n",
    "file_list"
   ]
  },
  {
   "cell_type": "code",
   "execution_count": 3,
   "metadata": {},
   "outputs": [
    {
     "name": "stdout",
     "output_type": "stream",
     "text": [
      "macaque_0701.h5ad\n",
      "macaque_0703.h5ad\n",
      "macaque_0704.h5ad\n",
      "macaque_nb0904.h5ad\n"
     ]
    }
   ],
   "source": [
    "# Read each table and append to our list\n",
    "for file in file_list:\n",
    "    print(file)\n",
    "    # load annotation\n",
    "    tmp = sc.read_h5ad('../QC/macaque/results/filtered_samples/macaque/'+ file)\n",
    "    tmp.var_names_make_unique()\n",
    "    # checking spatial key and sample_id\n",
    "    spatial_key = next(iter(tmp.uns['spatial']))\n",
    "    if spatial_key != file.replace('.h5ad', ''):\n",
    "        tmp.uns['spatial'][file.replace('.h5ad', '')] = tmp.uns['spatial'].pop(spatial_key)\n",
    "    obj_list.append(tmp)"
   ]
  },
  {
   "cell_type": "markdown",
   "metadata": {},
   "source": [
    "### Concat AnnData objects"
   ]
  },
  {
   "cell_type": "code",
   "execution_count": 4,
   "metadata": {},
   "outputs": [
    {
     "name": "stderr",
     "output_type": "stream",
     "text": [
      "c:\\projects\\spatialMPFC\\venv\\Lib\\site-packages\\anndata\\_core\\anndata.py:1818: UserWarning: Observation names are not unique. To make them unique, call `.obs_names_make_unique`.\n",
      "  utils.warn_names_duplicates(\"obs\")\n"
     ]
    }
   ],
   "source": [
    "adata = an.concat( obj_list , merge='same',uns_merge=\"unique\" )\n",
    "adata.var_names_make_unique()"
   ]
  },
  {
   "cell_type": "code",
   "execution_count": 5,
   "metadata": {},
   "outputs": [
    {
     "data": {
      "text/plain": [
       "dict_keys(['macaque_0701', 'macaque_0703', 'macaque_0704', 'macaque_nb0904'])"
      ]
     },
     "execution_count": 5,
     "metadata": {},
     "output_type": "execute_result"
    }
   ],
   "source": [
    "adata.uns['spatial'].keys()"
   ]
  },
  {
   "cell_type": "markdown",
   "metadata": {},
   "source": [
    "### Save AnnData object"
   ]
  },
  {
   "cell_type": "code",
   "execution_count": 6,
   "metadata": {},
   "outputs": [],
   "source": [
    "adata.write_h5ad('../data/filtered_adata/macaque_new.h5ad')"
   ]
  },
  {
   "cell_type": "markdown",
   "metadata": {},
   "source": [
    "### Spatial_LIBD"
   ]
  },
  {
   "cell_type": "code",
   "execution_count": 36,
   "metadata": {},
   "outputs": [
    {
     "data": {
      "text/plain": [
       "['151507.h5ad',\n",
       " '151508.h5ad',\n",
       " '151509.h5ad',\n",
       " '151510.h5ad',\n",
       " '151669.h5ad',\n",
       " '151670.h5ad',\n",
       " '151671.h5ad',\n",
       " '151672.h5ad',\n",
       " '151673.h5ad',\n",
       " '151674.h5ad',\n",
       " '151675.h5ad',\n",
       " '151676.h5ad']"
      ]
     },
     "execution_count": 36,
     "metadata": {},
     "output_type": "execute_result"
    }
   ],
   "source": [
    "# Define paths and get sample_ids\n",
    "obj_list = list()\n",
    "file_list = os.listdir('results/filtered_samples/libd/')\n",
    "file_list"
   ]
  },
  {
   "cell_type": "code",
   "execution_count": 37,
   "metadata": {},
   "outputs": [
    {
     "name": "stdout",
     "output_type": "stream",
     "text": [
      "151507.h5ad\n",
      "151508.h5ad\n",
      "151509.h5ad\n",
      "151510.h5ad\n",
      "151669.h5ad\n",
      "151670.h5ad\n",
      "151671.h5ad\n",
      "151672.h5ad\n",
      "151673.h5ad\n",
      "151674.h5ad\n",
      "151675.h5ad\n",
      "151676.h5ad\n"
     ]
    }
   ],
   "source": [
    "# Read each table and append to our list\n",
    "for file in file_list:\n",
    "    print(file)\n",
    "    # load annotation\n",
    "    tmp = sc.read_h5ad('results/filtered_samples/libd/'+ file)\n",
    "    tmp.var_names_make_unique()\n",
    "    # checking spatial key and sample_id\n",
    "    spatial_key = next(iter(tmp.uns['spatial']))\n",
    "    if spatial_key != file.replace('.h5ad', ''):\n",
    "        tmp.uns['spatial'][file.replace('.h5ad', '')] = tmp.uns['spatial'].pop(spatial_key)\n",
    "    obj_list.append(tmp)"
   ]
  },
  {
   "cell_type": "markdown",
   "metadata": {},
   "source": [
    "### Concat AnnData objects"
   ]
  },
  {
   "cell_type": "code",
   "execution_count": 38,
   "metadata": {},
   "outputs": [
    {
     "name": "stderr",
     "output_type": "stream",
     "text": [
      "C:\\Users\\aleks\\anaconda3\\envs\\scanorama39\\lib\\site-packages\\anndata\\_core\\anndata.py:1828: UserWarning: Observation names are not unique. To make them unique, call `.obs_names_make_unique`.\n",
      "  utils.warn_names_duplicates(\"obs\")\n"
     ]
    }
   ],
   "source": [
    "adata = an.concat( obj_list , merge='same',uns_merge=\"unique\" )\n",
    "adata.var_names_make_unique()"
   ]
  },
  {
   "cell_type": "code",
   "execution_count": 39,
   "metadata": {},
   "outputs": [
    {
     "data": {
      "text/plain": [
       "dict_keys(['151507', '151508', '151509', '151510', '151669', '151670', '151671', '151672', '151673', '151674', '151675', '151676'])"
      ]
     },
     "execution_count": 39,
     "metadata": {},
     "output_type": "execute_result"
    }
   ],
   "source": [
    "adata.uns['spatial'].keys()"
   ]
  },
  {
   "cell_type": "markdown",
   "metadata": {},
   "source": [
    "### Save AnnData object"
   ]
  },
  {
   "cell_type": "code",
   "execution_count": 40,
   "metadata": {},
   "outputs": [],
   "source": [
    "adata.write_h5ad('results/filtered_samples/libd/spatial_libd_human.h5ad')"
   ]
  }
 ],
 "metadata": {
  "kernelspec": {
   "display_name": "venv",
   "language": "python",
   "name": "python3"
  },
  "language_info": {
   "codemirror_mode": {
    "name": "ipython",
    "version": 3
   },
   "file_extension": ".py",
   "mimetype": "text/x-python",
   "name": "python",
   "nbconvert_exporter": "python",
   "pygments_lexer": "ipython3",
   "version": "3.11.9"
  }
 },
 "nbformat": 4,
 "nbformat_minor": 1
}
