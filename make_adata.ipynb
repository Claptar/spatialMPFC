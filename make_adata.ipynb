{
 "cells": [
  {
   "cell_type": "code",
   "execution_count": 1,
   "metadata": {},
   "outputs": [],
   "source": [
    "import os\n",
    "import scanpy as sc\n",
    "import squidpy as sq\n",
    "import anndata as an\n",
    "import pandas as pd"
   ]
  },
  {
   "cell_type": "markdown",
   "metadata": {},
   "source": [
    "### Распаковка tar.gz файла"
   ]
  },
  {
   "cell_type": "code",
   "execution_count": 2,
   "metadata": {},
   "outputs": [
    {
     "ename": "KeyboardInterrupt",
     "evalue": "",
     "output_type": "error",
     "traceback": [
      "\u001B[1;31m---------------------------------------------------------------------------\u001B[0m",
      "\u001B[1;31mKeyboardInterrupt\u001B[0m                         Traceback (most recent call last)",
      "Cell \u001B[1;32mIn [2], line 6\u001B[0m\n\u001B[0;32m      4\u001B[0m file \u001B[38;5;241m=\u001B[39m tarfile\u001B[38;5;241m.\u001B[39mopen(\u001B[38;5;124m'\u001B[39m\u001B[38;5;124mtar_data/macaque.tar.gz\u001B[39m\u001B[38;5;124m'\u001B[39m)\n\u001B[0;32m      5\u001B[0m \u001B[38;5;66;03m# extracting file\u001B[39;00m\n\u001B[1;32m----> 6\u001B[0m \u001B[43mfile\u001B[49m\u001B[38;5;241;43m.\u001B[39;49m\u001B[43mextractall\u001B[49m\u001B[43m(\u001B[49m\u001B[38;5;124;43m'\u001B[39;49m\u001B[38;5;124;43mdata/spatial_data/\u001B[39;49m\u001B[38;5;124;43m'\u001B[39;49m\u001B[43m)\u001B[49m\n\u001B[0;32m      7\u001B[0m file\u001B[38;5;241m.\u001B[39mclose()\n",
      "File \u001B[1;32m~\\anaconda3\\envs\\scanorama39\\lib\\tarfile.py:2045\u001B[0m, in \u001B[0;36mTarFile.extractall\u001B[1;34m(self, path, members, numeric_owner)\u001B[0m\n\u001B[0;32m   2043\u001B[0m         tarinfo\u001B[38;5;241m.\u001B[39mmode \u001B[38;5;241m=\u001B[39m \u001B[38;5;241m0o700\u001B[39m\n\u001B[0;32m   2044\u001B[0m     \u001B[38;5;66;03m# Do not set_attrs directories, as we will do that further down\u001B[39;00m\n\u001B[1;32m-> 2045\u001B[0m     \u001B[38;5;28;43mself\u001B[39;49m\u001B[38;5;241;43m.\u001B[39;49m\u001B[43mextract\u001B[49m\u001B[43m(\u001B[49m\u001B[43mtarinfo\u001B[49m\u001B[43m,\u001B[49m\u001B[43m \u001B[49m\u001B[43mpath\u001B[49m\u001B[43m,\u001B[49m\u001B[43m \u001B[49m\u001B[43mset_attrs\u001B[49m\u001B[38;5;241;43m=\u001B[39;49m\u001B[38;5;129;43;01mnot\u001B[39;49;00m\u001B[43m \u001B[49m\u001B[43mtarinfo\u001B[49m\u001B[38;5;241;43m.\u001B[39;49m\u001B[43misdir\u001B[49m\u001B[43m(\u001B[49m\u001B[43m)\u001B[49m\u001B[43m,\u001B[49m\n\u001B[0;32m   2046\u001B[0m \u001B[43m                 \u001B[49m\u001B[43mnumeric_owner\u001B[49m\u001B[38;5;241;43m=\u001B[39;49m\u001B[43mnumeric_owner\u001B[49m\u001B[43m)\u001B[49m\n\u001B[0;32m   2048\u001B[0m \u001B[38;5;66;03m# Reverse sort directories.\u001B[39;00m\n\u001B[0;32m   2049\u001B[0m directories\u001B[38;5;241m.\u001B[39msort(key\u001B[38;5;241m=\u001B[39m\u001B[38;5;28;01mlambda\u001B[39;00m a: a\u001B[38;5;241m.\u001B[39mname)\n",
      "File \u001B[1;32m~\\anaconda3\\envs\\scanorama39\\lib\\tarfile.py:2086\u001B[0m, in \u001B[0;36mTarFile.extract\u001B[1;34m(self, member, path, set_attrs, numeric_owner)\u001B[0m\n\u001B[0;32m   2083\u001B[0m     tarinfo\u001B[38;5;241m.\u001B[39m_link_target \u001B[38;5;241m=\u001B[39m os\u001B[38;5;241m.\u001B[39mpath\u001B[38;5;241m.\u001B[39mjoin(path, tarinfo\u001B[38;5;241m.\u001B[39mlinkname)\n\u001B[0;32m   2085\u001B[0m \u001B[38;5;28;01mtry\u001B[39;00m:\n\u001B[1;32m-> 2086\u001B[0m     \u001B[38;5;28;43mself\u001B[39;49m\u001B[38;5;241;43m.\u001B[39;49m\u001B[43m_extract_member\u001B[49m\u001B[43m(\u001B[49m\u001B[43mtarinfo\u001B[49m\u001B[43m,\u001B[49m\u001B[43m \u001B[49m\u001B[43mos\u001B[49m\u001B[38;5;241;43m.\u001B[39;49m\u001B[43mpath\u001B[49m\u001B[38;5;241;43m.\u001B[39;49m\u001B[43mjoin\u001B[49m\u001B[43m(\u001B[49m\u001B[43mpath\u001B[49m\u001B[43m,\u001B[49m\u001B[43m \u001B[49m\u001B[43mtarinfo\u001B[49m\u001B[38;5;241;43m.\u001B[39;49m\u001B[43mname\u001B[49m\u001B[43m)\u001B[49m\u001B[43m,\u001B[49m\n\u001B[0;32m   2087\u001B[0m \u001B[43m                         \u001B[49m\u001B[43mset_attrs\u001B[49m\u001B[38;5;241;43m=\u001B[39;49m\u001B[43mset_attrs\u001B[49m\u001B[43m,\u001B[49m\n\u001B[0;32m   2088\u001B[0m \u001B[43m                         \u001B[49m\u001B[43mnumeric_owner\u001B[49m\u001B[38;5;241;43m=\u001B[39;49m\u001B[43mnumeric_owner\u001B[49m\u001B[43m)\u001B[49m\n\u001B[0;32m   2089\u001B[0m \u001B[38;5;28;01mexcept\u001B[39;00m \u001B[38;5;167;01mOSError\u001B[39;00m \u001B[38;5;28;01mas\u001B[39;00m e:\n\u001B[0;32m   2090\u001B[0m     \u001B[38;5;28;01mif\u001B[39;00m \u001B[38;5;28mself\u001B[39m\u001B[38;5;241m.\u001B[39merrorlevel \u001B[38;5;241m>\u001B[39m \u001B[38;5;241m0\u001B[39m:\n",
      "File \u001B[1;32m~\\anaconda3\\envs\\scanorama39\\lib\\tarfile.py:2159\u001B[0m, in \u001B[0;36mTarFile._extract_member\u001B[1;34m(self, tarinfo, targetpath, set_attrs, numeric_owner)\u001B[0m\n\u001B[0;32m   2156\u001B[0m     \u001B[38;5;28mself\u001B[39m\u001B[38;5;241m.\u001B[39m_dbg(\u001B[38;5;241m1\u001B[39m, tarinfo\u001B[38;5;241m.\u001B[39mname)\n\u001B[0;32m   2158\u001B[0m \u001B[38;5;28;01mif\u001B[39;00m tarinfo\u001B[38;5;241m.\u001B[39misreg():\n\u001B[1;32m-> 2159\u001B[0m     \u001B[38;5;28;43mself\u001B[39;49m\u001B[38;5;241;43m.\u001B[39;49m\u001B[43mmakefile\u001B[49m\u001B[43m(\u001B[49m\u001B[43mtarinfo\u001B[49m\u001B[43m,\u001B[49m\u001B[43m \u001B[49m\u001B[43mtargetpath\u001B[49m\u001B[43m)\u001B[49m\n\u001B[0;32m   2160\u001B[0m \u001B[38;5;28;01melif\u001B[39;00m tarinfo\u001B[38;5;241m.\u001B[39misdir():\n\u001B[0;32m   2161\u001B[0m     \u001B[38;5;28mself\u001B[39m\u001B[38;5;241m.\u001B[39mmakedir(tarinfo, targetpath)\n",
      "File \u001B[1;32m~\\anaconda3\\envs\\scanorama39\\lib\\tarfile.py:2208\u001B[0m, in \u001B[0;36mTarFile.makefile\u001B[1;34m(self, tarinfo, targetpath)\u001B[0m\n\u001B[0;32m   2206\u001B[0m     target\u001B[38;5;241m.\u001B[39mtruncate()\n\u001B[0;32m   2207\u001B[0m \u001B[38;5;28;01melse\u001B[39;00m:\n\u001B[1;32m-> 2208\u001B[0m     \u001B[43mcopyfileobj\u001B[49m\u001B[43m(\u001B[49m\u001B[43msource\u001B[49m\u001B[43m,\u001B[49m\u001B[43m \u001B[49m\u001B[43mtarget\u001B[49m\u001B[43m,\u001B[49m\u001B[43m \u001B[49m\u001B[43mtarinfo\u001B[49m\u001B[38;5;241;43m.\u001B[39;49m\u001B[43msize\u001B[49m\u001B[43m,\u001B[49m\u001B[43m \u001B[49m\u001B[43mReadError\u001B[49m\u001B[43m,\u001B[49m\u001B[43m \u001B[49m\u001B[43mbufsize\u001B[49m\u001B[43m)\u001B[49m\n",
      "File \u001B[1;32m~\\anaconda3\\envs\\scanorama39\\lib\\tarfile.py:247\u001B[0m, in \u001B[0;36mcopyfileobj\u001B[1;34m(src, dst, length, exception, bufsize)\u001B[0m\n\u001B[0;32m    245\u001B[0m blocks, remainder \u001B[38;5;241m=\u001B[39m \u001B[38;5;28mdivmod\u001B[39m(length, bufsize)\n\u001B[0;32m    246\u001B[0m \u001B[38;5;28;01mfor\u001B[39;00m b \u001B[38;5;129;01min\u001B[39;00m \u001B[38;5;28mrange\u001B[39m(blocks):\n\u001B[1;32m--> 247\u001B[0m     buf \u001B[38;5;241m=\u001B[39m \u001B[43msrc\u001B[49m\u001B[38;5;241;43m.\u001B[39;49m\u001B[43mread\u001B[49m\u001B[43m(\u001B[49m\u001B[43mbufsize\u001B[49m\u001B[43m)\u001B[49m\n\u001B[0;32m    248\u001B[0m     \u001B[38;5;28;01mif\u001B[39;00m \u001B[38;5;28mlen\u001B[39m(buf) \u001B[38;5;241m<\u001B[39m bufsize:\n\u001B[0;32m    249\u001B[0m         \u001B[38;5;28;01mraise\u001B[39;00m exception(\u001B[38;5;124m\"\u001B[39m\u001B[38;5;124munexpected end of data\u001B[39m\u001B[38;5;124m\"\u001B[39m)\n",
      "\u001B[1;31mKeyboardInterrupt\u001B[0m: "
     ]
    }
   ],
   "source": [
    "import tarfile\n",
    "\n",
    "# open file\n",
    "#file = tarfile.open('tar_data/macaque.tar.gz')\n",
    "# extracting file\n",
    "#file.extractall('data/spatial_data/')\n",
    "#file.close()"
   ]
  },
  {
   "cell_type": "markdown",
   "metadata": {},
   "source": [
    "## Объединим файлы с разметкой и сохраним в anndata objects"
   ]
  },
  {
   "cell_type": "markdown",
   "metadata": {},
   "source": [
    "### Human"
   ]
  },
  {
   "cell_type": "code",
   "execution_count": 8,
   "metadata": {},
   "outputs": [
    {
     "data": {
      "text/plain": "['human_759', 'human_j12', 'human_j3', 'human_j4', 'human_j6']"
     },
     "execution_count": 8,
     "metadata": {},
     "output_type": "execute_result"
    }
   ],
   "source": [
    "# Define paths and get sample_ids\n",
    "obj_list = list()\n",
    "file_list = os.listdir('data/raw_spatial_data/human/')\n",
    "file_list"
   ]
  },
  {
   "cell_type": "code",
   "execution_count": 9,
   "outputs": [],
   "source": [
    "os.makedirs('data', exist_ok=True)\n",
    "os.makedirs('data/anndata_objects', exist_ok=True)\n",
    "os.makedirs('data/anndata_objects/human', exist_ok=True)"
   ],
   "metadata": {
    "collapsed": false
   }
  },
  {
   "cell_type": "code",
   "execution_count": 10,
   "metadata": {},
   "outputs": [
    {
     "name": "stdout",
     "output_type": "stream",
     "text": [
      "human_759\n"
     ]
    },
    {
     "name": "stderr",
     "output_type": "stream",
     "text": [
      "C:\\Users\\aleks\\anaconda3\\envs\\scanorama39\\lib\\site-packages\\anndata\\_core\\anndata.py:1830: UserWarning: Variable names are not unique. To make them unique, call `.var_names_make_unique`.\n",
      "  utils.warn_names_duplicates(\"var\")\n"
     ]
    },
    {
     "name": "stdout",
     "output_type": "stream",
     "text": [
      "human_j12\n"
     ]
    },
    {
     "name": "stderr",
     "output_type": "stream",
     "text": [
      "C:\\Users\\aleks\\anaconda3\\envs\\scanorama39\\lib\\site-packages\\anndata\\_core\\anndata.py:1830: UserWarning: Variable names are not unique. To make them unique, call `.var_names_make_unique`.\n",
      "  utils.warn_names_duplicates(\"var\")\n"
     ]
    },
    {
     "name": "stdout",
     "output_type": "stream",
     "text": [
      "human_j3\n"
     ]
    },
    {
     "name": "stderr",
     "output_type": "stream",
     "text": [
      "C:\\Users\\aleks\\anaconda3\\envs\\scanorama39\\lib\\site-packages\\anndata\\_core\\anndata.py:1830: UserWarning: Variable names are not unique. To make them unique, call `.var_names_make_unique`.\n",
      "  utils.warn_names_duplicates(\"var\")\n"
     ]
    },
    {
     "name": "stdout",
     "output_type": "stream",
     "text": [
      "human_j4\n"
     ]
    },
    {
     "name": "stderr",
     "output_type": "stream",
     "text": [
      "C:\\Users\\aleks\\anaconda3\\envs\\scanorama39\\lib\\site-packages\\anndata\\_core\\anndata.py:1830: UserWarning: Variable names are not unique. To make them unique, call `.var_names_make_unique`.\n",
      "  utils.warn_names_duplicates(\"var\")\n"
     ]
    },
    {
     "name": "stdout",
     "output_type": "stream",
     "text": [
      "human_j6\n"
     ]
    },
    {
     "name": "stderr",
     "output_type": "stream",
     "text": [
      "C:\\Users\\aleks\\anaconda3\\envs\\scanorama39\\lib\\site-packages\\anndata\\_core\\anndata.py:1830: UserWarning: Variable names are not unique. To make them unique, call `.var_names_make_unique`.\n",
      "  utils.warn_names_duplicates(\"var\")\n"
     ]
    }
   ],
   "source": [
    "# Read each table and append to our list\n",
    "for file in file_list:\n",
    "    print(file)\n",
    "    ann = pd.read_csv('data/clusters/' + file + '.csv', index_col=0)\n",
    "    ann.columns = ['label']\n",
    "    tmp = sc.read_visium('data/raw_spatial_data/human/'+ file)\n",
    "    tmp.var_names_make_unique()\n",
    "    tmp.obs['label'] = ann.label\n",
    "    tmp.obs['sample_id'] = file\n",
    "    tmp.write_h5ad(f'data/anndata_objects/human/{file}.h5ad')\n",
    "    obj_list.append(tmp)"
   ]
  },
  {
   "cell_type": "markdown",
   "metadata": {},
   "source": [
    "### Объединим anndata объекты"
   ]
  },
  {
   "cell_type": "code",
   "execution_count": 11,
   "metadata": {},
   "outputs": [
    {
     "name": "stderr",
     "output_type": "stream",
     "text": [
      "C:\\Users\\aleks\\anaconda3\\envs\\scanorama39\\lib\\site-packages\\anndata\\_core\\anndata.py:1828: UserWarning: Observation names are not unique. To make them unique, call `.obs_names_make_unique`.\n",
      "  utils.warn_names_duplicates(\"obs\")\n"
     ]
    }
   ],
   "source": [
    "adata = an.concat( obj_list , merge='same',uns_merge=\"unique\" )\n",
    "adata.var_names_make_unique()"
   ]
  },
  {
   "cell_type": "code",
   "execution_count": 12,
   "metadata": {},
   "outputs": [
    {
     "data": {
      "text/plain": "dict_keys(['759', 'human_j12', 'human_j3', 'human_j4', 'human_j6'])"
     },
     "execution_count": 12,
     "metadata": {},
     "output_type": "execute_result"
    }
   ],
   "source": [
    "adata.uns['spatial'].keys()"
   ]
  },
  {
   "cell_type": "markdown",
   "metadata": {},
   "source": [
    "### Сохраним файлы"
   ]
  },
  {
   "cell_type": "code",
   "execution_count": 13,
   "metadata": {},
   "outputs": [],
   "source": [
    "adata.write_h5ad('data/anndata_objects/human/human.h5ad')"
   ]
  },
  {
   "cell_type": "markdown",
   "metadata": {},
   "source": [
    "### Chimp"
   ]
  },
  {
   "cell_type": "code",
   "execution_count": 15,
   "metadata": {},
   "outputs": [
    {
     "data": {
      "text/plain": "['chimp_11454', 'chimp_13302', 'chimp_13309', 'chimp_j11', 'chimp_j8']"
     },
     "execution_count": 15,
     "metadata": {},
     "output_type": "execute_result"
    }
   ],
   "source": [
    "# Define paths and get sample_ids\n",
    "obj_list = list()\n",
    "file_list = os.listdir('data/raw_spatial_data/chimp/')\n",
    "file_list"
   ]
  },
  {
   "cell_type": "code",
   "execution_count": 16,
   "outputs": [],
   "source": [
    "os.makedirs('data', exist_ok=True)\n",
    "os.makedirs('data/anndata_objects', exist_ok=True)\n",
    "os.makedirs('data/anndata_objects/chimp', exist_ok=True)"
   ],
   "metadata": {
    "collapsed": false
   }
  },
  {
   "cell_type": "code",
   "execution_count": 17,
   "metadata": {},
   "outputs": [
    {
     "name": "stdout",
     "output_type": "stream",
     "text": [
      "chimp_11454\n"
     ]
    },
    {
     "name": "stderr",
     "output_type": "stream",
     "text": [
      "C:\\Users\\aleks\\anaconda3\\envs\\scanorama39\\lib\\site-packages\\anndata\\_core\\anndata.py:1830: UserWarning: Variable names are not unique. To make them unique, call `.var_names_make_unique`.\n",
      "  utils.warn_names_duplicates(\"var\")\n"
     ]
    },
    {
     "name": "stdout",
     "output_type": "stream",
     "text": [
      "chimp_13302\n"
     ]
    },
    {
     "name": "stderr",
     "output_type": "stream",
     "text": [
      "C:\\Users\\aleks\\anaconda3\\envs\\scanorama39\\lib\\site-packages\\anndata\\_core\\anndata.py:1830: UserWarning: Variable names are not unique. To make them unique, call `.var_names_make_unique`.\n",
      "  utils.warn_names_duplicates(\"var\")\n"
     ]
    },
    {
     "name": "stdout",
     "output_type": "stream",
     "text": [
      "chimp_13309\n"
     ]
    },
    {
     "name": "stderr",
     "output_type": "stream",
     "text": [
      "C:\\Users\\aleks\\anaconda3\\envs\\scanorama39\\lib\\site-packages\\anndata\\_core\\anndata.py:1830: UserWarning: Variable names are not unique. To make them unique, call `.var_names_make_unique`.\n",
      "  utils.warn_names_duplicates(\"var\")\n"
     ]
    },
    {
     "name": "stdout",
     "output_type": "stream",
     "text": [
      "chimp_j11\n"
     ]
    },
    {
     "name": "stderr",
     "output_type": "stream",
     "text": [
      "C:\\Users\\aleks\\anaconda3\\envs\\scanorama39\\lib\\site-packages\\anndata\\_core\\anndata.py:1830: UserWarning: Variable names are not unique. To make them unique, call `.var_names_make_unique`.\n",
      "  utils.warn_names_duplicates(\"var\")\n"
     ]
    },
    {
     "name": "stdout",
     "output_type": "stream",
     "text": [
      "chimp_j8\n"
     ]
    },
    {
     "name": "stderr",
     "output_type": "stream",
     "text": [
      "C:\\Users\\aleks\\anaconda3\\envs\\scanorama39\\lib\\site-packages\\anndata\\_core\\anndata.py:1830: UserWarning: Variable names are not unique. To make them unique, call `.var_names_make_unique`.\n",
      "  utils.warn_names_duplicates(\"var\")\n"
     ]
    }
   ],
   "source": [
    "# Read each table and append to our list\n",
    "for file in file_list:\n",
    "    print(file)\n",
    "    ann = pd.read_csv('data/clusters/' + file + '.csv', index_col=0)\n",
    "    ann.columns = ['label']\n",
    "    tmp = sc.read_visium('data/raw_spatial_data/chimp/'+ file)\n",
    "    tmp.var_names_make_unique()\n",
    "    tmp.obs['label'] = ann.label\n",
    "    tmp.obs['sample_id'] = file\n",
    "    tmp.write_h5ad(f'data/anndata_objects/chimp/{file}.h5ad')\n",
    "    obj_list.append(tmp)"
   ]
  },
  {
   "cell_type": "markdown",
   "metadata": {},
   "source": [
    "### Объединим anndata объекты"
   ]
  },
  {
   "cell_type": "code",
   "execution_count": 18,
   "metadata": {},
   "outputs": [
    {
     "name": "stderr",
     "output_type": "stream",
     "text": [
      "C:\\Users\\aleks\\anaconda3\\envs\\scanorama39\\lib\\site-packages\\anndata\\_core\\anndata.py:1828: UserWarning: Observation names are not unique. To make them unique, call `.obs_names_make_unique`.\n",
      "  utils.warn_names_duplicates(\"obs\")\n"
     ]
    }
   ],
   "source": [
    "adata = an.concat( obj_list , merge='same',uns_merge=\"unique\" )\n",
    "adata.var_names_make_unique()"
   ]
  },
  {
   "cell_type": "code",
   "execution_count": 19,
   "metadata": {},
   "outputs": [
    {
     "data": {
      "text/plain": "dict_keys(['11454', 'chimp_13302', 'chimp_13309', 'chimp_j11', 'chimp_j8'])"
     },
     "execution_count": 19,
     "metadata": {},
     "output_type": "execute_result"
    }
   ],
   "source": [
    "adata.uns['spatial'].keys()"
   ]
  },
  {
   "cell_type": "code",
   "execution_count": 20,
   "metadata": {},
   "outputs": [],
   "source": [
    "adata.uns['spatial']['chimp_11454'] = adata.uns['spatial'].pop('11454')"
   ]
  },
  {
   "cell_type": "code",
   "execution_count": 21,
   "metadata": {},
   "outputs": [
    {
     "data": {
      "text/plain": "dict_keys(['chimp_13302', 'chimp_13309', 'chimp_j11', 'chimp_j8', 'chimp_11454'])"
     },
     "execution_count": 21,
     "metadata": {},
     "output_type": "execute_result"
    }
   ],
   "source": [
    "adata.uns['spatial'].keys()"
   ]
  },
  {
   "cell_type": "markdown",
   "metadata": {},
   "source": [
    "### Сохраним файлы"
   ]
  },
  {
   "cell_type": "code",
   "execution_count": 22,
   "metadata": {},
   "outputs": [],
   "source": [
    "adata.write_h5ad('data/anndata_objects/chimp/chimp.h5ad')"
   ]
  },
  {
   "cell_type": "markdown",
   "metadata": {},
   "source": [
    "### Macaque"
   ]
  },
  {
   "cell_type": "code",
   "execution_count": 24,
   "metadata": {},
   "outputs": [
    {
     "data": {
      "text/plain": "['macaque_0701', 'macaque_0703', 'macaque_0704', 'macaque_nb0904']"
     },
     "execution_count": 24,
     "metadata": {},
     "output_type": "execute_result"
    }
   ],
   "source": [
    "# Define paths and get sample_ids\n",
    "obj_list = list()\n",
    "file_list = os.listdir('data/raw_spatial_data/macaque/')\n",
    "file_list"
   ]
  },
  {
   "cell_type": "code",
   "execution_count": 25,
   "outputs": [],
   "source": [
    "os.makedirs('data', exist_ok=True)\n",
    "os.makedirs('data/anndata_objects', exist_ok=True)\n",
    "os.makedirs('data/anndata_objects/macaque', exist_ok=True)"
   ],
   "metadata": {
    "collapsed": false
   }
  },
  {
   "cell_type": "code",
   "execution_count": 26,
   "metadata": {},
   "outputs": [
    {
     "name": "stdout",
     "output_type": "stream",
     "text": [
      "macaque_0701\n"
     ]
    },
    {
     "name": "stderr",
     "output_type": "stream",
     "text": [
      "C:\\Users\\aleks\\anaconda3\\envs\\scanorama39\\lib\\site-packages\\anndata\\_core\\anndata.py:1830: UserWarning: Variable names are not unique. To make them unique, call `.var_names_make_unique`.\n",
      "  utils.warn_names_duplicates(\"var\")\n"
     ]
    },
    {
     "name": "stdout",
     "output_type": "stream",
     "text": [
      "macaque_0703\n"
     ]
    },
    {
     "name": "stderr",
     "output_type": "stream",
     "text": [
      "C:\\Users\\aleks\\anaconda3\\envs\\scanorama39\\lib\\site-packages\\anndata\\_core\\anndata.py:1830: UserWarning: Variable names are not unique. To make them unique, call `.var_names_make_unique`.\n",
      "  utils.warn_names_duplicates(\"var\")\n"
     ]
    },
    {
     "name": "stdout",
     "output_type": "stream",
     "text": [
      "macaque_0704\n"
     ]
    },
    {
     "name": "stderr",
     "output_type": "stream",
     "text": [
      "C:\\Users\\aleks\\anaconda3\\envs\\scanorama39\\lib\\site-packages\\anndata\\_core\\anndata.py:1830: UserWarning: Variable names are not unique. To make them unique, call `.var_names_make_unique`.\n",
      "  utils.warn_names_duplicates(\"var\")\n"
     ]
    },
    {
     "name": "stdout",
     "output_type": "stream",
     "text": [
      "macaque_nb0904\n"
     ]
    },
    {
     "name": "stderr",
     "output_type": "stream",
     "text": [
      "C:\\Users\\aleks\\anaconda3\\envs\\scanorama39\\lib\\site-packages\\anndata\\_core\\anndata.py:1830: UserWarning: Variable names are not unique. To make them unique, call `.var_names_make_unique`.\n",
      "  utils.warn_names_duplicates(\"var\")\n"
     ]
    }
   ],
   "source": [
    "# Read each table and append to our list\n",
    "for file in file_list:\n",
    "    print(file)\n",
    "    ann = pd.read_csv('data/clusters/' + file + '.csv', index_col=0)\n",
    "    ann.columns = ['label']\n",
    "    tmp = sc.read_visium('data/raw_spatial_data/macaque/'+ file)\n",
    "    tmp.var_names_make_unique()\n",
    "    tmp.obs['label'] = ann.label\n",
    "    tmp.obs['sample_id'] = file\n",
    "    tmp.write_h5ad(f'data/anndata_objects/macaque/{file}.h5ad')\n",
    "    obj_list.append(tmp)"
   ]
  },
  {
   "cell_type": "markdown",
   "metadata": {},
   "source": [
    "### Объединим anndata объекты"
   ]
  },
  {
   "cell_type": "code",
   "execution_count": 27,
   "metadata": {},
   "outputs": [
    {
     "name": "stderr",
     "output_type": "stream",
     "text": [
      "C:\\Users\\aleks\\anaconda3\\envs\\scanorama39\\lib\\site-packages\\anndata\\_core\\anndata.py:1828: UserWarning: Observation names are not unique. To make them unique, call `.obs_names_make_unique`.\n",
      "  utils.warn_names_duplicates(\"obs\")\n"
     ]
    }
   ],
   "source": [
    "adata = an.concat( obj_list , merge='same',uns_merge=\"unique\" )\n",
    "adata.var_names_make_unique()"
   ]
  },
  {
   "cell_type": "code",
   "execution_count": 28,
   "metadata": {},
   "outputs": [
    {
     "data": {
      "text/plain": "dict_keys(['macaque_0701', 'macaque_0703', 'macaque_0704', 'macaque_nb0904_rotated'])"
     },
     "execution_count": 28,
     "metadata": {},
     "output_type": "execute_result"
    }
   ],
   "source": [
    "adata.uns['spatial'].keys()"
   ]
  },
  {
   "cell_type": "code",
   "execution_count": 29,
   "metadata": {},
   "outputs": [],
   "source": [
    "adata.uns['spatial']['macaque_nb0904'] = adata.uns['spatial'].pop('macaque_nb0904_rotated')"
   ]
  },
  {
   "cell_type": "code",
   "execution_count": 30,
   "metadata": {},
   "outputs": [
    {
     "data": {
      "text/plain": "dict_keys(['macaque_0701', 'macaque_0703', 'macaque_0704', 'macaque_nb0904'])"
     },
     "execution_count": 30,
     "metadata": {},
     "output_type": "execute_result"
    }
   ],
   "source": [
    "adata.uns['spatial'].keys()"
   ]
  },
  {
   "cell_type": "markdown",
   "metadata": {},
   "source": [
    "### Сохраним файлы"
   ]
  },
  {
   "cell_type": "code",
   "execution_count": 31,
   "metadata": {},
   "outputs": [],
   "source": [
    "adata.write_h5ad('data/anndata_objects/macaque/macaque.h5ad')"
   ]
  }
 ],
 "metadata": {
  "kernelspec": {
   "display_name": "Python 3 (ipykernel)",
   "language": "python",
   "name": "python3"
  },
  "language_info": {
   "codemirror_mode": {
    "name": "ipython",
    "version": 3
   },
   "file_extension": ".py",
   "mimetype": "text/x-python",
   "name": "python",
   "nbconvert_exporter": "python",
   "pygments_lexer": "ipython3",
   "version": "3.9.13"
  }
 },
 "nbformat": 4,
 "nbformat_minor": 1
}
