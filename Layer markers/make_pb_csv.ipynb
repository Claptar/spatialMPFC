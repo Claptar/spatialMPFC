{
 "cells": [
  {
   "cell_type": "code",
   "execution_count": 1,
   "metadata": {},
   "outputs": [],
   "source": [
    "import warnings\n",
    "import scanpy as sc\n",
    "import anndata as an\n",
    "import pandas as pd\n",
    "import numpy as np\n",
    "import matplotlib as mpl\n",
    "import matplotlib.pyplot as plt\n",
    "import seaborn as sns\n",
    "\n",
    "\n",
    "import os\n",
    "from tqdm.notebook import tqdm\n",
    "\n",
    "sc.settings.set_figure_params(dpi=80)\n",
    "#sc.set_figure_params(facecolor=\"white\", figsize=(8, 8))\n",
    "warnings.simplefilter(action='ignore', category=FutureWarning)\n",
    "sc.settings.verbosity = 3"
   ]
  },
  {
   "cell_type": "markdown",
   "metadata": {},
   "source": [
    "# Global variables"
   ]
  },
  {
   "cell_type": "code",
   "execution_count": 8,
   "metadata": {},
   "outputs": [],
   "source": [
    "os.makedirs('results', exist_ok=True)"
   ]
  },
  {
   "cell_type": "markdown",
   "metadata": {},
   "source": [
    "## Load pseudobulk files"
   ]
  },
  {
   "cell_type": "code",
   "execution_count": 5,
   "metadata": {},
   "outputs": [],
   "source": [
    "pb_dir_path = '../data/pseudobulks/'"
   ]
  },
  {
   "cell_type": "code",
   "execution_count": 6,
   "metadata": {},
   "outputs": [
    {
     "data": {
      "text/plain": [
       "['4spe_pb_mean_filt.h5ad',\n",
       " '4spe_pb_mean_filt_nor_mean.h5ad',\n",
       " 'pb_age.h5ad',\n",
       " 'pb_age_sample_norm.h5ad',\n",
       " 'pb_mammals.h5ad',\n",
       " 'pb_mammals_filtered.h5ad',\n",
       " 'pb_mammals_samplenorm_mean.h5ad',\n",
       " 'pb_mammals_samplenorm_mean_filtered.h5ad',\n",
       " 'pb_mammals_samplenorm_zscore.h5ad']"
      ]
     },
     "execution_count": 6,
     "metadata": {},
     "output_type": "execute_result"
    }
   ],
   "source": [
    "os.listdir('../data/pseudobulks/')"
   ]
  },
  {
   "cell_type": "code",
   "execution_count": 9,
   "metadata": {},
   "outputs": [
    {
     "data": {
      "text/plain": [
       "AnnData object with n_obs × n_vars = 94 × 14963\n",
       "    obs: 'layer', 'sample_id', 'psbulk_n_cells', 'psbulk_counts', 'condition'\n",
       "    var: 'feature_types', 'mt', 'hb', 'ribo'\n",
       "    layers: 'psbulk_props'"
      ]
     },
     "execution_count": 9,
     "metadata": {},
     "output_type": "execute_result"
    }
   ],
   "source": [
    "adata_pb= sc.read_h5ad(pb_dir_path + 'pb_mammals.h5ad')\n",
    "adata_pb"
   ]
  },
  {
   "cell_type": "markdown",
   "metadata": {},
   "source": [
    "## Create pseudobulk .csv files"
   ]
  },
  {
   "cell_type": "markdown",
   "metadata": {},
   "source": [
    "Let's create `.csv` file with expressions"
   ]
  },
  {
   "cell_type": "code",
   "execution_count": 16,
   "metadata": {},
   "outputs": [
    {
     "data": {
      "text/html": [
       "<div>\n",
       "<style scoped>\n",
       "    .dataframe tbody tr th:only-of-type {\n",
       "        vertical-align: middle;\n",
       "    }\n",
       "\n",
       "    .dataframe tbody tr th {\n",
       "        vertical-align: top;\n",
       "    }\n",
       "\n",
       "    .dataframe thead th {\n",
       "        text-align: right;\n",
       "    }\n",
       "</style>\n",
       "<table border=\"1\" class=\"dataframe\">\n",
       "  <thead>\n",
       "    <tr style=\"text-align: right;\">\n",
       "      <th></th>\n",
       "      <th>chimp_11454_L1</th>\n",
       "      <th>chimp_13309_L1</th>\n",
       "      <th>chimp_j8_L1</th>\n",
       "      <th>human_759_L1</th>\n",
       "      <th>human_j12_L1</th>\n",
       "      <th>human_j3_L1</th>\n",
       "      <th>human_j4_L1</th>\n",
       "      <th>human_j6_L1</th>\n",
       "      <th>macaque_0701_L1</th>\n",
       "      <th>macaque_0703_L1</th>\n",
       "      <th>...</th>\n",
       "      <th>chimp_j8_WM</th>\n",
       "      <th>human_759_WM</th>\n",
       "      <th>human_j12_WM</th>\n",
       "      <th>human_j3_WM</th>\n",
       "      <th>human_j4_WM</th>\n",
       "      <th>human_j6_WM</th>\n",
       "      <th>macaque_0701_WM</th>\n",
       "      <th>macaque_0703_WM</th>\n",
       "      <th>macaque_0704_WM</th>\n",
       "      <th>macaque_nb0904_WM</th>\n",
       "    </tr>\n",
       "  </thead>\n",
       "  <tbody>\n",
       "    <tr>\n",
       "      <th>A1BG</th>\n",
       "      <td>0.024752</td>\n",
       "      <td>0.004975</td>\n",
       "      <td>0.032663</td>\n",
       "      <td>0.144</td>\n",
       "      <td>0.145015</td>\n",
       "      <td>0.190909</td>\n",
       "      <td>0.252101</td>\n",
       "      <td>0.067164</td>\n",
       "      <td>0.003497</td>\n",
       "      <td>0.000000</td>\n",
       "      <td>...</td>\n",
       "      <td>0.012605</td>\n",
       "      <td>0.186047</td>\n",
       "      <td>0.061433</td>\n",
       "      <td>0.122390</td>\n",
       "      <td>0.090780</td>\n",
       "      <td>0.048913</td>\n",
       "      <td>0.000000</td>\n",
       "      <td>0.000000</td>\n",
       "      <td>0.000000</td>\n",
       "      <td>0.011364</td>\n",
       "    </tr>\n",
       "    <tr>\n",
       "      <th>A1CF</th>\n",
       "      <td>0.000000</td>\n",
       "      <td>0.000000</td>\n",
       "      <td>0.000000</td>\n",
       "      <td>0.002</td>\n",
       "      <td>0.000000</td>\n",
       "      <td>0.000000</td>\n",
       "      <td>0.008403</td>\n",
       "      <td>0.000000</td>\n",
       "      <td>0.000000</td>\n",
       "      <td>0.000000</td>\n",
       "      <td>...</td>\n",
       "      <td>0.000000</td>\n",
       "      <td>0.000000</td>\n",
       "      <td>0.000000</td>\n",
       "      <td>0.000000</td>\n",
       "      <td>0.001418</td>\n",
       "      <td>0.000000</td>\n",
       "      <td>0.000000</td>\n",
       "      <td>0.000000</td>\n",
       "      <td>0.000000</td>\n",
       "      <td>0.000000</td>\n",
       "    </tr>\n",
       "    <tr>\n",
       "      <th>A2ML1</th>\n",
       "      <td>0.000000</td>\n",
       "      <td>0.000000</td>\n",
       "      <td>0.007538</td>\n",
       "      <td>0.010</td>\n",
       "      <td>0.000000</td>\n",
       "      <td>0.000000</td>\n",
       "      <td>0.000000</td>\n",
       "      <td>0.000000</td>\n",
       "      <td>0.000000</td>\n",
       "      <td>0.000000</td>\n",
       "      <td>...</td>\n",
       "      <td>0.000000</td>\n",
       "      <td>0.003876</td>\n",
       "      <td>0.000683</td>\n",
       "      <td>0.001440</td>\n",
       "      <td>0.000000</td>\n",
       "      <td>0.004076</td>\n",
       "      <td>0.000000</td>\n",
       "      <td>0.000000</td>\n",
       "      <td>0.000000</td>\n",
       "      <td>0.000000</td>\n",
       "    </tr>\n",
       "    <tr>\n",
       "      <th>A4GALT</th>\n",
       "      <td>0.000000</td>\n",
       "      <td>0.000000</td>\n",
       "      <td>0.000000</td>\n",
       "      <td>0.004</td>\n",
       "      <td>0.009063</td>\n",
       "      <td>0.000000</td>\n",
       "      <td>0.000000</td>\n",
       "      <td>0.014925</td>\n",
       "      <td>0.034965</td>\n",
       "      <td>0.010204</td>\n",
       "      <td>...</td>\n",
       "      <td>0.000000</td>\n",
       "      <td>0.000000</td>\n",
       "      <td>0.002730</td>\n",
       "      <td>0.006479</td>\n",
       "      <td>0.002837</td>\n",
       "      <td>0.004076</td>\n",
       "      <td>0.037037</td>\n",
       "      <td>0.019048</td>\n",
       "      <td>0.025974</td>\n",
       "      <td>0.011364</td>\n",
       "    </tr>\n",
       "    <tr>\n",
       "      <th>AAAS</th>\n",
       "      <td>0.059406</td>\n",
       "      <td>0.019900</td>\n",
       "      <td>0.050251</td>\n",
       "      <td>0.056</td>\n",
       "      <td>0.048338</td>\n",
       "      <td>0.036364</td>\n",
       "      <td>0.063025</td>\n",
       "      <td>0.074627</td>\n",
       "      <td>0.066434</td>\n",
       "      <td>0.035714</td>\n",
       "      <td>...</td>\n",
       "      <td>0.028011</td>\n",
       "      <td>0.034884</td>\n",
       "      <td>0.025256</td>\n",
       "      <td>0.030238</td>\n",
       "      <td>0.034043</td>\n",
       "      <td>0.033967</td>\n",
       "      <td>0.018519</td>\n",
       "      <td>0.042857</td>\n",
       "      <td>0.025974</td>\n",
       "      <td>0.000000</td>\n",
       "    </tr>\n",
       "  </tbody>\n",
       "</table>\n",
       "<p>5 rows × 94 columns</p>\n",
       "</div>"
      ],
      "text/plain": [
       "        chimp_11454_L1  chimp_13309_L1  chimp_j8_L1  human_759_L1  \\\n",
       "A1BG          0.024752        0.004975     0.032663         0.144   \n",
       "A1CF          0.000000        0.000000     0.000000         0.002   \n",
       "A2ML1         0.000000        0.000000     0.007538         0.010   \n",
       "A4GALT        0.000000        0.000000     0.000000         0.004   \n",
       "AAAS          0.059406        0.019900     0.050251         0.056   \n",
       "\n",
       "        human_j12_L1  human_j3_L1  human_j4_L1  human_j6_L1  macaque_0701_L1  \\\n",
       "A1BG        0.145015     0.190909     0.252101     0.067164         0.003497   \n",
       "A1CF        0.000000     0.000000     0.008403     0.000000         0.000000   \n",
       "A2ML1       0.000000     0.000000     0.000000     0.000000         0.000000   \n",
       "A4GALT      0.009063     0.000000     0.000000     0.014925         0.034965   \n",
       "AAAS        0.048338     0.036364     0.063025     0.074627         0.066434   \n",
       "\n",
       "        macaque_0703_L1  ...  chimp_j8_WM  human_759_WM  human_j12_WM  \\\n",
       "A1BG           0.000000  ...     0.012605      0.186047      0.061433   \n",
       "A1CF           0.000000  ...     0.000000      0.000000      0.000000   \n",
       "A2ML1          0.000000  ...     0.000000      0.003876      0.000683   \n",
       "A4GALT         0.010204  ...     0.000000      0.000000      0.002730   \n",
       "AAAS           0.035714  ...     0.028011      0.034884      0.025256   \n",
       "\n",
       "        human_j3_WM  human_j4_WM  human_j6_WM  macaque_0701_WM  \\\n",
       "A1BG       0.122390     0.090780     0.048913         0.000000   \n",
       "A1CF       0.000000     0.001418     0.000000         0.000000   \n",
       "A2ML1      0.001440     0.000000     0.004076         0.000000   \n",
       "A4GALT     0.006479     0.002837     0.004076         0.037037   \n",
       "AAAS       0.030238     0.034043     0.033967         0.018519   \n",
       "\n",
       "        macaque_0703_WM  macaque_0704_WM  macaque_nb0904_WM  \n",
       "A1BG           0.000000         0.000000           0.011364  \n",
       "A1CF           0.000000         0.000000           0.000000  \n",
       "A2ML1          0.000000         0.000000           0.000000  \n",
       "A4GALT         0.019048         0.025974           0.011364  \n",
       "AAAS           0.042857         0.025974           0.000000  \n",
       "\n",
       "[5 rows x 94 columns]"
      ]
     },
     "execution_count": 16,
     "metadata": {},
     "output_type": "execute_result"
    }
   ],
   "source": [
    "expression_df = pd.DataFrame(adata_pb.X.T, index=adata_pb.var_names, columns=adata_pb.obs_names)\n",
    "expression_df.head()"
   ]
  },
  {
   "cell_type": "code",
   "execution_count": 17,
   "metadata": {},
   "outputs": [],
   "source": [
    "expression_df.to_csv('results/expression.csv')"
   ]
  },
  {
   "cell_type": "markdown",
   "metadata": {},
   "source": [
    "In the same way let's create `.csv` file with annotation"
   ]
  },
  {
   "cell_type": "code",
   "execution_count": 21,
   "metadata": {},
   "outputs": [
    {
     "data": {
      "text/html": [
       "<div>\n",
       "<style scoped>\n",
       "    .dataframe tbody tr th:only-of-type {\n",
       "        vertical-align: middle;\n",
       "    }\n",
       "\n",
       "    .dataframe tbody tr th {\n",
       "        vertical-align: top;\n",
       "    }\n",
       "\n",
       "    .dataframe thead th {\n",
       "        text-align: right;\n",
       "    }\n",
       "</style>\n",
       "<table border=\"1\" class=\"dataframe\">\n",
       "  <thead>\n",
       "    <tr style=\"text-align: right;\">\n",
       "      <th></th>\n",
       "      <th>layer</th>\n",
       "      <th>sample_id</th>\n",
       "      <th>psbulk_n_cells</th>\n",
       "      <th>psbulk_counts</th>\n",
       "      <th>condition</th>\n",
       "    </tr>\n",
       "  </thead>\n",
       "  <tbody>\n",
       "    <tr>\n",
       "      <th>chimp_11454_L1</th>\n",
       "      <td>L1</td>\n",
       "      <td>chimp_11454</td>\n",
       "      <td>202.0</td>\n",
       "      <td>360976.0</td>\n",
       "      <td>chimp</td>\n",
       "    </tr>\n",
       "    <tr>\n",
       "      <th>chimp_13309_L1</th>\n",
       "      <td>L1</td>\n",
       "      <td>chimp_13309</td>\n",
       "      <td>201.0</td>\n",
       "      <td>313326.0</td>\n",
       "      <td>chimp</td>\n",
       "    </tr>\n",
       "    <tr>\n",
       "      <th>chimp_j8_L1</th>\n",
       "      <td>L1</td>\n",
       "      <td>chimp_j8</td>\n",
       "      <td>398.0</td>\n",
       "      <td>862771.0</td>\n",
       "      <td>chimp</td>\n",
       "    </tr>\n",
       "    <tr>\n",
       "      <th>human_759_L1</th>\n",
       "      <td>L1</td>\n",
       "      <td>human_759</td>\n",
       "      <td>500.0</td>\n",
       "      <td>961453.0</td>\n",
       "      <td>human</td>\n",
       "    </tr>\n",
       "    <tr>\n",
       "      <th>human_j12_L1</th>\n",
       "      <td>L1</td>\n",
       "      <td>human_j12</td>\n",
       "      <td>331.0</td>\n",
       "      <td>827957.0</td>\n",
       "      <td>human</td>\n",
       "    </tr>\n",
       "  </tbody>\n",
       "</table>\n",
       "</div>"
      ],
      "text/plain": [
       "               layer    sample_id  psbulk_n_cells  psbulk_counts condition\n",
       "chimp_11454_L1    L1  chimp_11454           202.0       360976.0     chimp\n",
       "chimp_13309_L1    L1  chimp_13309           201.0       313326.0     chimp\n",
       "chimp_j8_L1       L1     chimp_j8           398.0       862771.0     chimp\n",
       "human_759_L1      L1    human_759           500.0       961453.0     human\n",
       "human_j12_L1      L1    human_j12           331.0       827957.0     human"
      ]
     },
     "execution_count": 21,
     "metadata": {},
     "output_type": "execute_result"
    }
   ],
   "source": [
    "adata_pb.obs.head()"
   ]
  },
  {
   "cell_type": "code",
   "execution_count": 20,
   "metadata": {},
   "outputs": [],
   "source": [
    "adata_pb.obs.to_csv('results/annotation.csv')"
   ]
  }
 ],
 "metadata": {
  "kernelspec": {
   "display_name": "venv",
   "language": "python",
   "name": "python3"
  },
  "language_info": {
   "codemirror_mode": {
    "name": "ipython",
    "version": 3
   },
   "file_extension": ".py",
   "mimetype": "text/x-python",
   "name": "python",
   "nbconvert_exporter": "python",
   "pygments_lexer": "ipython3",
   "version": "3.10.11"
  }
 },
 "nbformat": 4,
 "nbformat_minor": 2
}
