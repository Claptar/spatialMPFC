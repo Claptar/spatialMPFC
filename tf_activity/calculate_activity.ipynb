{
 "cells": [
  {
   "cell_type": "markdown",
   "id": "0aab8729",
   "metadata": {},
   "source": [
    "# Dependencies and files"
   ]
  },
  {
   "cell_type": "markdown",
   "id": "4c6b2c68",
   "metadata": {},
   "source": [
    "## Imports"
   ]
  },
  {
   "cell_type": "code",
   "execution_count": 1,
   "id": "55e6469e",
   "metadata": {},
   "outputs": [],
   "source": [
    "import warnings\n",
    "import scanpy as sc\n",
    "import anndata as an\n",
    "import pandas as pd\n",
    "import numpy as np\n",
    "import matplotlib as mpl\n",
    "import matplotlib.pyplot as plt\n",
    "import seaborn as sns\n",
    "import os\n",
    "import decoupler as dc\n",
    "from statsmodels.stats.multitest import multipletests\n",
    "\n",
    "import time\n",
    "from tqdm.notebook import tqdm\n",
    "import requests\n",
    "\n",
    "sc.settings.set_figure_params(dpi=80)\n",
    "#sc.set_figure_params(facecolor=\"white\", figsize=(8, 8))\n",
    "warnings.simplefilter(action='ignore', category=FutureWarning)\n",
    "sc.settings.verbosity = 3"
   ]
  },
  {
   "cell_type": "markdown",
   "id": "e73d977a",
   "metadata": {},
   "source": [
    "# Global variables"
   ]
  },
  {
   "cell_type": "code",
   "execution_count": 2,
   "id": "3e1f221a",
   "metadata": {},
   "outputs": [],
   "source": [
    "datadir = \"data/tf_activity\"\n",
    "os.makedirs(datadir, exist_ok=True)"
   ]
  },
  {
   "cell_type": "markdown",
   "id": "44851c84",
   "metadata": {},
   "source": [
    "# Load files"
   ]
  },
  {
   "cell_type": "markdown",
   "id": "f5afd8b5",
   "metadata": {},
   "source": [
    "## Load pseudobulk"
   ]
  },
  {
   "cell_type": "code",
   "execution_count": 3,
   "id": "4a391771",
   "metadata": {},
   "outputs": [],
   "source": [
    "pb_dir_path = 'data/pseudobulks/'"
   ]
  },
  {
   "cell_type": "code",
   "execution_count": 4,
   "id": "a532e1e8",
   "metadata": {},
   "outputs": [
    {
     "data": {
      "text/plain": [
       "AnnData object with n_obs × n_vars = 89 × 9209\n",
       "    obs: 'layer', 'sample_id', 'psbulk_cells', 'psbulk_counts', 'condition', 'lib_size', 'log_lib_size'\n",
       "    var: 'feature_types', 'mt', 'hb', 'ribo'\n",
       "    uns: 'X_pca_mean_norm', 'condition_colors', 'layer_colors', 'log1p', 'pca'\n",
       "    obsm: 'X_pca', 'X_pca_mean_norm'\n",
       "    varm: 'PCs', 'X_pca_mean_norm'\n",
       "    layers: 'counts', 'mean_norm', 'psbulk_props'"
      ]
     },
     "execution_count": 4,
     "metadata": {},
     "output_type": "execute_result"
    }
   ],
   "source": [
    "adata_pb = sc.read_h5ad(pb_dir_path + 'pseudobulk_all_mammals.h5ad')\n",
    "#adata_pb_norm_mean.var = anova_res\n",
    "adata_pb"
   ]
  },
  {
   "cell_type": "markdown",
   "id": "e0706bd0",
   "metadata": {},
   "source": [
    "# Calculate activity"
   ]
  },
  {
   "cell_type": "markdown",
   "id": "d0362c1a",
   "metadata": {},
   "source": [
    "Retrieve CollecTRI gene regulatory network"
   ]
  },
  {
   "cell_type": "code",
   "execution_count": 5,
   "id": "8af18c33",
   "metadata": {},
   "outputs": [
    {
     "data": {
      "text/html": [
       "<div>\n",
       "<style scoped>\n",
       "    .dataframe tbody tr th:only-of-type {\n",
       "        vertical-align: middle;\n",
       "    }\n",
       "\n",
       "    .dataframe tbody tr th {\n",
       "        vertical-align: top;\n",
       "    }\n",
       "\n",
       "    .dataframe thead th {\n",
       "        text-align: right;\n",
       "    }\n",
       "</style>\n",
       "<table border=\"1\" class=\"dataframe\">\n",
       "  <thead>\n",
       "    <tr style=\"text-align: right;\">\n",
       "      <th></th>\n",
       "      <th>source</th>\n",
       "      <th>target</th>\n",
       "      <th>weight</th>\n",
       "      <th>resources</th>\n",
       "      <th>references</th>\n",
       "      <th>sign_decision</th>\n",
       "    </tr>\n",
       "  </thead>\n",
       "  <tbody>\n",
       "    <tr>\n",
       "      <th>0</th>\n",
       "      <td>MYC</td>\n",
       "      <td>TERT</td>\n",
       "      <td>1.0</td>\n",
       "      <td>DoRothEA-A;ExTRI;HTRI;NTNU.Curated;Pavlidis202...</td>\n",
       "      <td>10022128;10491298;10606235;10637317;10723141;1...</td>\n",
       "      <td>PMID</td>\n",
       "    </tr>\n",
       "    <tr>\n",
       "      <th>1</th>\n",
       "      <td>SPI1</td>\n",
       "      <td>BGLAP</td>\n",
       "      <td>1.0</td>\n",
       "      <td>ExTRI</td>\n",
       "      <td>10022617</td>\n",
       "      <td>default activation</td>\n",
       "    </tr>\n",
       "    <tr>\n",
       "      <th>2</th>\n",
       "      <td>SMAD3</td>\n",
       "      <td>JUN</td>\n",
       "      <td>1.0</td>\n",
       "      <td>ExTRI;NTNU.Curated;TFactS;TRRUST</td>\n",
       "      <td>10022869;12374795</td>\n",
       "      <td>PMID</td>\n",
       "    </tr>\n",
       "    <tr>\n",
       "      <th>3</th>\n",
       "      <td>SMAD4</td>\n",
       "      <td>JUN</td>\n",
       "      <td>1.0</td>\n",
       "      <td>ExTRI;NTNU.Curated;TFactS;TRRUST</td>\n",
       "      <td>10022869;12374795</td>\n",
       "      <td>PMID</td>\n",
       "    </tr>\n",
       "    <tr>\n",
       "      <th>4</th>\n",
       "      <td>STAT5A</td>\n",
       "      <td>IL2</td>\n",
       "      <td>1.0</td>\n",
       "      <td>ExTRI</td>\n",
       "      <td>10022878;11435608;17182565;17911616;22854263;2...</td>\n",
       "      <td>default activation</td>\n",
       "    </tr>\n",
       "  </tbody>\n",
       "</table>\n",
       "</div>"
      ],
      "text/plain": [
       "   source target  weight                                          resources  \\\n",
       "0     MYC   TERT     1.0  DoRothEA-A;ExTRI;HTRI;NTNU.Curated;Pavlidis202...   \n",
       "1    SPI1  BGLAP     1.0                                              ExTRI   \n",
       "2   SMAD3    JUN     1.0                   ExTRI;NTNU.Curated;TFactS;TRRUST   \n",
       "3   SMAD4    JUN     1.0                   ExTRI;NTNU.Curated;TFactS;TRRUST   \n",
       "4  STAT5A    IL2     1.0                                              ExTRI   \n",
       "\n",
       "                                          references       sign_decision  \n",
       "0  10022128;10491298;10606235;10637317;10723141;1...                PMID  \n",
       "1                                           10022617  default activation  \n",
       "2                                  10022869;12374795                PMID  \n",
       "3                                  10022869;12374795                PMID  \n",
       "4  10022878;11435608;17182565;17911616;22854263;2...  default activation  "
      ]
     },
     "execution_count": 5,
     "metadata": {},
     "output_type": "execute_result"
    }
   ],
   "source": [
    "collectri = dc.op.collectri(organism='human')\n",
    "collectri.head()"
   ]
  },
  {
   "cell_type": "code",
   "execution_count": 6,
   "id": "b31a9751",
   "metadata": {},
   "outputs": [
    {
     "name": "stderr",
     "output_type": "stream",
     "text": [
      "2025-06-11 23:30:56 | [INFO] ulm - Running ulm\n",
      "2025-06-11 23:30:56 | [INFO] Extracted omics mat with 89 rows (observations) and 9209 columns (features)\n",
      "2025-06-11 23:30:56 | [INFO] Network adjacency matrix has 3288 unique features and 549 unique sources\n",
      "2025-06-11 23:30:56 | [INFO] ulm - fitting 549 univariate models of 9209 observations (targets) with 9207 degrees of freedom\n",
      "2025-06-11 23:30:57 | [INFO] ulm - adjusting p-values by FDR\n",
      "2025-06-11 23:30:57 | [INFO] ulm - done\n"
     ]
    }
   ],
   "source": [
    "# Infer pathway activities with ulm\n",
    "dc.mt.ulm(\n",
    "    adata_pb,\n",
    "    net=collectri,\n",
    "    verbose=True\n",
    ")"
   ]
  },
  {
   "cell_type": "code",
   "execution_count": 7,
   "id": "e6b3f388",
   "metadata": {},
   "outputs": [
    {
     "data": {
      "text/plain": [
       "AnnData object with n_obs × n_vars = 89 × 549\n",
       "    obs: 'layer', 'sample_id', 'psbulk_cells', 'psbulk_counts', 'condition', 'lib_size', 'log_lib_size'\n",
       "    uns: 'X_pca_mean_norm', 'condition_colors', 'layer_colors', 'log1p', 'pca'\n",
       "    obsm: 'X_pca', 'X_pca_mean_norm', 'score_ulm', 'padj_ulm'"
      ]
     },
     "execution_count": 7,
     "metadata": {},
     "output_type": "execute_result"
    }
   ],
   "source": [
    "acts = dc.pp.get_obsm(adata_pb, key='score_ulm')\n",
    "acts"
   ]
  },
  {
   "cell_type": "markdown",
   "id": "f762b5be",
   "metadata": {},
   "source": [
    "## Save results"
   ]
  },
  {
   "cell_type": "code",
   "execution_count": 8,
   "id": "273295b9",
   "metadata": {},
   "outputs": [
    {
     "data": {
      "text/html": [
       "<div>\n",
       "<style scoped>\n",
       "    .dataframe tbody tr th:only-of-type {\n",
       "        vertical-align: middle;\n",
       "    }\n",
       "\n",
       "    .dataframe tbody tr th {\n",
       "        vertical-align: top;\n",
       "    }\n",
       "\n",
       "    .dataframe thead th {\n",
       "        text-align: right;\n",
       "    }\n",
       "</style>\n",
       "<table border=\"1\" class=\"dataframe\">\n",
       "  <thead>\n",
       "    <tr style=\"text-align: right;\">\n",
       "      <th></th>\n",
       "      <th>layer</th>\n",
       "      <th>sample_id</th>\n",
       "      <th>psbulk_cells</th>\n",
       "      <th>psbulk_counts</th>\n",
       "      <th>condition</th>\n",
       "      <th>lib_size</th>\n",
       "      <th>log_lib_size</th>\n",
       "      <th>layer_c</th>\n",
       "    </tr>\n",
       "  </thead>\n",
       "  <tbody>\n",
       "    <tr>\n",
       "      <th>human_759_L1</th>\n",
       "      <td>L1</td>\n",
       "      <td>human_759</td>\n",
       "      <td>500.0</td>\n",
       "      <td>1400502.0</td>\n",
       "      <td>human</td>\n",
       "      <td>2801.004000</td>\n",
       "      <td>7.937733</td>\n",
       "      <td>1</td>\n",
       "    </tr>\n",
       "    <tr>\n",
       "      <th>human_j12_L1</th>\n",
       "      <td>L1</td>\n",
       "      <td>human_j12</td>\n",
       "      <td>331.0</td>\n",
       "      <td>1168612.0</td>\n",
       "      <td>human</td>\n",
       "      <td>3530.549849</td>\n",
       "      <td>8.169209</td>\n",
       "      <td>1</td>\n",
       "    </tr>\n",
       "    <tr>\n",
       "      <th>human_j3_L1</th>\n",
       "      <td>L1</td>\n",
       "      <td>human_j3</td>\n",
       "      <td>110.0</td>\n",
       "      <td>536103.0</td>\n",
       "      <td>human</td>\n",
       "      <td>4873.663636</td>\n",
       "      <td>8.491601</td>\n",
       "      <td>1</td>\n",
       "    </tr>\n",
       "    <tr>\n",
       "      <th>human_j4_L1</th>\n",
       "      <td>L1</td>\n",
       "      <td>human_j4</td>\n",
       "      <td>238.0</td>\n",
       "      <td>1038124.0</td>\n",
       "      <td>human</td>\n",
       "      <td>4361.865546</td>\n",
       "      <td>8.380655</td>\n",
       "      <td>1</td>\n",
       "    </tr>\n",
       "    <tr>\n",
       "      <th>human_j6_L1</th>\n",
       "      <td>L1</td>\n",
       "      <td>human_j6</td>\n",
       "      <td>134.0</td>\n",
       "      <td>339404.0</td>\n",
       "      <td>human</td>\n",
       "      <td>2532.865672</td>\n",
       "      <td>7.837107</td>\n",
       "      <td>1</td>\n",
       "    </tr>\n",
       "  </tbody>\n",
       "</table>\n",
       "</div>"
      ],
      "text/plain": [
       "             layer  sample_id  psbulk_cells  psbulk_counts condition  \\\n",
       "human_759_L1    L1  human_759         500.0      1400502.0     human   \n",
       "human_j12_L1    L1  human_j12         331.0      1168612.0     human   \n",
       "human_j3_L1     L1   human_j3         110.0       536103.0     human   \n",
       "human_j4_L1     L1   human_j4         238.0      1038124.0     human   \n",
       "human_j6_L1     L1   human_j6         134.0       339404.0     human   \n",
       "\n",
       "                 lib_size  log_lib_size layer_c  \n",
       "human_759_L1  2801.004000      7.937733       1  \n",
       "human_j12_L1  3530.549849      8.169209       1  \n",
       "human_j3_L1   4873.663636      8.491601       1  \n",
       "human_j4_L1   4361.865546      8.380655       1  \n",
       "human_j6_L1   2532.865672      7.837107       1  "
      ]
     },
     "execution_count": 8,
     "metadata": {},
     "output_type": "execute_result"
    }
   ],
   "source": [
    "cont_dict = {\n",
    "    'L1': 1,\n",
    "    'L2': 2,\n",
    "    'L3': 3,\n",
    "    'L4': 4,\n",
    "    'L5': 5,\n",
    "    'L6': 6,\n",
    "    'WM': 7\n",
    "}\n",
    "\n",
    "acts.obs['layer_c'] = acts.obs['layer'].map(cont_dict)\n",
    "acts.obs.head()"
   ]
  },
  {
   "cell_type": "code",
   "execution_count": 9,
   "id": "860142e9",
   "metadata": {},
   "outputs": [],
   "source": [
    "act_df = pd.DataFrame(acts.X, index=acts.obs_names, columns=acts.var_names)\n",
    "act_df.T.to_csv('data/tf_activity/activations.csv')\n",
    "acts.obs.to_csv('data/tf_activity/annotation.csv')"
   ]
  },
  {
   "cell_type": "code",
   "execution_count": 10,
   "id": "0af3fc18",
   "metadata": {},
   "outputs": [],
   "source": [
    "acts.write_h5ad('data/tf_activity/activity.h5ad')"
   ]
  }
 ],
 "metadata": {
  "kernelspec": {
   "display_name": "Python 3 (ipykernel)",
   "language": "python",
   "name": "python3"
  },
  "language_info": {
   "codemirror_mode": {
    "name": "ipython",
    "version": 3
   },
   "file_extension": ".py",
   "mimetype": "text/x-python",
   "name": "python",
   "nbconvert_exporter": "python",
   "pygments_lexer": "ipython3",
   "version": "3.11.13"
  }
 },
 "nbformat": 4,
 "nbformat_minor": 5
}
