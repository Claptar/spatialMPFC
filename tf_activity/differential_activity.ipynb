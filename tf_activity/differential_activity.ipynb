{
  "cells": [
    {
      "cell_type": "code",
      "execution_count": 1,
      "metadata": {
        "colab": {
          "base_uri": "https://localhost:8080/"
        },
        "id": "R1fai4yPYZvG",
        "outputId": "72c24737-357d-4e52-ea73-8f4934bba1d4",
        "vscode": {
          "languageId": "r"
        }
      },
      "outputs": [
        {
          "name": "stderr",
          "output_type": "stream",
          "text": [
            "Loading required package: splines\n",
            "\n"
          ]
        }
      ],
      "source": [
        "require(splines)\n",
        "require(stats)"
      ]
    },
    {
      "cell_type": "code",
      "execution_count": 2,
      "metadata": {
        "colab": {
          "base_uri": "https://localhost:8080/",
          "height": 275
        },
        "id": "CNUPPHERYluL",
        "outputId": "9e409851-a308-46b9-9f71-7e2f4ea0ad46",
        "vscode": {
          "languageId": "r"
        }
      },
      "outputs": [
        {
          "data": {
            "text/html": [
              "<table class=\"dataframe\">\n",
              "<caption>A matrix: 6 × 549 of type dbl</caption>\n",
              "<thead>\n",
              "\t<tr><th></th><th scope=col>AHR</th><th scope=col>AIRE</th><th scope=col>AP1</th><th scope=col>APEX1</th><th scope=col>AR</th><th scope=col>ARID4A</th><th scope=col>ARID4B</th><th scope=col>ARNT</th><th scope=col>ARX</th><th scope=col>ASCL1</th><th scope=col>⋯</th><th scope=col>ZNF331</th><th scope=col>ZNF350</th><th scope=col>ZNF354C</th><th scope=col>ZNF362</th><th scope=col>ZNF382</th><th scope=col>ZNF384</th><th scope=col>ZNF436</th><th scope=col>ZNF699</th><th scope=col>ZNF76</th><th scope=col>ZNF91</th></tr>\n",
              "</thead>\n",
              "<tbody>\n",
              "\t<tr><th scope=row>human_759_L1</th><td>0.67627008</td><td>1.1627055</td><td>5.707020</td><td> 0.272136586</td><td>4.716855</td><td>-0.7447058</td><td>0.4448113</td><td>-0.2206688</td><td>1.2596353</td><td> 0.1293131</td><td>⋯</td><td>-2.062938</td><td>-0.34457461</td><td>-0.2630262</td><td>0.59802399</td><td>-1.1516971</td><td> 0.9260869</td><td>1.1376373</td><td>2.337185</td><td>0.7043411</td><td>-1.0409607</td></tr>\n",
              "\t<tr><th scope=row>human_j12_L1</th><td>1.85235907</td><td>2.1440383</td><td>5.108610</td><td>-0.001887422</td><td>5.102747</td><td>-0.5543906</td><td>0.1685959</td><td> 0.5161325</td><td>1.6554498</td><td> 0.4924631</td><td>⋯</td><td>-1.760618</td><td>-0.44958932</td><td>-0.5314432</td><td>1.30651999</td><td>-1.2371470</td><td>-0.1639048</td><td>0.9536692</td><td>3.117587</td><td>0.9100560</td><td>-0.9133224</td></tr>\n",
              "\t<tr><th scope=row>human_j3_L1</th><td>0.51025961</td><td>1.0172759</td><td>3.644221</td><td>-0.344000313</td><td>4.751144</td><td> 0.1398408</td><td>0.3225986</td><td>-0.3334291</td><td>1.0750981</td><td>-0.1400602</td><td>⋯</td><td>-2.295994</td><td>-0.19502681</td><td>-1.2690388</td><td>0.08634817</td><td>-0.3444295</td><td>-0.8907076</td><td>1.2896657</td><td>1.299068</td><td>1.0678970</td><td>-1.3379550</td></tr>\n",
              "\t<tr><th scope=row>human_j4_L1</th><td>0.04831810</td><td>0.6770507</td><td>4.109690</td><td>-0.186377209</td><td>4.185399</td><td>-0.5530666</td><td>0.4286519</td><td>-0.2997726</td><td>1.8092138</td><td> 0.6595985</td><td>⋯</td><td>-2.139637</td><td>-0.08521200</td><td>-0.9159596</td><td>0.71748794</td><td>-0.9959501</td><td>-0.9426331</td><td>1.2371402</td><td>2.232823</td><td>0.8958876</td><td>-1.6055851</td></tr>\n",
              "\t<tr><th scope=row>human_j6_L1</th><td>2.04143066</td><td>1.8973564</td><td>5.707409</td><td> 1.053681315</td><td>5.672564</td><td>-0.1654767</td><td>0.4023635</td><td> 0.3620508</td><td>0.9587113</td><td> 1.2832946</td><td>⋯</td><td>-1.851868</td><td>-0.09633481</td><td>-0.6260540</td><td>0.36506096</td><td>-0.6109608</td><td> 0.4073422</td><td>1.4372751</td><td>2.182601</td><td>0.7449757</td><td>-0.8453445</td></tr>\n",
              "\t<tr><th scope=row>human_759_L2</th><td>0.06959788</td><td>0.7247312</td><td>3.994979</td><td>-0.089913926</td><td>4.414277</td><td>-0.5820003</td><td>0.5647768</td><td>-0.5575016</td><td>1.6250301</td><td>-0.1416416</td><td>⋯</td><td>-2.149431</td><td>-0.44140318</td><td>-0.7171661</td><td>0.16064742</td><td> 0.1208465</td><td>-0.6699648</td><td>1.3579426</td><td>2.015566</td><td>0.7705942</td><td>-1.1618477</td></tr>\n",
              "</tbody>\n",
              "</table>\n"
            ],
            "text/latex": [
              "A matrix: 6 × 549 of type dbl\n",
              "\\begin{tabular}{r|lllllllllllllllllllll}\n",
              "  & AHR & AIRE & AP1 & APEX1 & AR & ARID4A & ARID4B & ARNT & ARX & ASCL1 & ⋯ & ZNF331 & ZNF350 & ZNF354C & ZNF362 & ZNF382 & ZNF384 & ZNF436 & ZNF699 & ZNF76 & ZNF91\\\\\n",
              "\\hline\n",
              "\thuman\\_759\\_L1 & 0.67627008 & 1.1627055 & 5.707020 &  0.272136586 & 4.716855 & -0.7447058 & 0.4448113 & -0.2206688 & 1.2596353 &  0.1293131 & ⋯ & -2.062938 & -0.34457461 & -0.2630262 & 0.59802399 & -1.1516971 &  0.9260869 & 1.1376373 & 2.337185 & 0.7043411 & -1.0409607\\\\\n",
              "\thuman\\_j12\\_L1 & 1.85235907 & 2.1440383 & 5.108610 & -0.001887422 & 5.102747 & -0.5543906 & 0.1685959 &  0.5161325 & 1.6554498 &  0.4924631 & ⋯ & -1.760618 & -0.44958932 & -0.5314432 & 1.30651999 & -1.2371470 & -0.1639048 & 0.9536692 & 3.117587 & 0.9100560 & -0.9133224\\\\\n",
              "\thuman\\_j3\\_L1 & 0.51025961 & 1.0172759 & 3.644221 & -0.344000313 & 4.751144 &  0.1398408 & 0.3225986 & -0.3334291 & 1.0750981 & -0.1400602 & ⋯ & -2.295994 & -0.19502681 & -1.2690388 & 0.08634817 & -0.3444295 & -0.8907076 & 1.2896657 & 1.299068 & 1.0678970 & -1.3379550\\\\\n",
              "\thuman\\_j4\\_L1 & 0.04831810 & 0.6770507 & 4.109690 & -0.186377209 & 4.185399 & -0.5530666 & 0.4286519 & -0.2997726 & 1.8092138 &  0.6595985 & ⋯ & -2.139637 & -0.08521200 & -0.9159596 & 0.71748794 & -0.9959501 & -0.9426331 & 1.2371402 & 2.232823 & 0.8958876 & -1.6055851\\\\\n",
              "\thuman\\_j6\\_L1 & 2.04143066 & 1.8973564 & 5.707409 &  1.053681315 & 5.672564 & -0.1654767 & 0.4023635 &  0.3620508 & 0.9587113 &  1.2832946 & ⋯ & -1.851868 & -0.09633481 & -0.6260540 & 0.36506096 & -0.6109608 &  0.4073422 & 1.4372751 & 2.182601 & 0.7449757 & -0.8453445\\\\\n",
              "\thuman\\_759\\_L2 & 0.06959788 & 0.7247312 & 3.994979 & -0.089913926 & 4.414277 & -0.5820003 & 0.5647768 & -0.5575016 & 1.6250301 & -0.1416416 & ⋯ & -2.149431 & -0.44140318 & -0.7171661 & 0.16064742 &  0.1208465 & -0.6699648 & 1.3579426 & 2.015566 & 0.7705942 & -1.1618477\\\\\n",
              "\\end{tabular}\n"
            ],
            "text/markdown": [
              "\n",
              "A matrix: 6 × 549 of type dbl\n",
              "\n",
              "| <!--/--> | AHR | AIRE | AP1 | APEX1 | AR | ARID4A | ARID4B | ARNT | ARX | ASCL1 | ⋯ | ZNF331 | ZNF350 | ZNF354C | ZNF362 | ZNF382 | ZNF384 | ZNF436 | ZNF699 | ZNF76 | ZNF91 |\n",
              "|---|---|---|---|---|---|---|---|---|---|---|---|---|---|---|---|---|---|---|---|---|---|\n",
              "| human_759_L1 | 0.67627008 | 1.1627055 | 5.707020 |  0.272136586 | 4.716855 | -0.7447058 | 0.4448113 | -0.2206688 | 1.2596353 |  0.1293131 | ⋯ | -2.062938 | -0.34457461 | -0.2630262 | 0.59802399 | -1.1516971 |  0.9260869 | 1.1376373 | 2.337185 | 0.7043411 | -1.0409607 |\n",
              "| human_j12_L1 | 1.85235907 | 2.1440383 | 5.108610 | -0.001887422 | 5.102747 | -0.5543906 | 0.1685959 |  0.5161325 | 1.6554498 |  0.4924631 | ⋯ | -1.760618 | -0.44958932 | -0.5314432 | 1.30651999 | -1.2371470 | -0.1639048 | 0.9536692 | 3.117587 | 0.9100560 | -0.9133224 |\n",
              "| human_j3_L1 | 0.51025961 | 1.0172759 | 3.644221 | -0.344000313 | 4.751144 |  0.1398408 | 0.3225986 | -0.3334291 | 1.0750981 | -0.1400602 | ⋯ | -2.295994 | -0.19502681 | -1.2690388 | 0.08634817 | -0.3444295 | -0.8907076 | 1.2896657 | 1.299068 | 1.0678970 | -1.3379550 |\n",
              "| human_j4_L1 | 0.04831810 | 0.6770507 | 4.109690 | -0.186377209 | 4.185399 | -0.5530666 | 0.4286519 | -0.2997726 | 1.8092138 |  0.6595985 | ⋯ | -2.139637 | -0.08521200 | -0.9159596 | 0.71748794 | -0.9959501 | -0.9426331 | 1.2371402 | 2.232823 | 0.8958876 | -1.6055851 |\n",
              "| human_j6_L1 | 2.04143066 | 1.8973564 | 5.707409 |  1.053681315 | 5.672564 | -0.1654767 | 0.4023635 |  0.3620508 | 0.9587113 |  1.2832946 | ⋯ | -1.851868 | -0.09633481 | -0.6260540 | 0.36506096 | -0.6109608 |  0.4073422 | 1.4372751 | 2.182601 | 0.7449757 | -0.8453445 |\n",
              "| human_759_L2 | 0.06959788 | 0.7247312 | 3.994979 | -0.089913926 | 4.414277 | -0.5820003 | 0.5647768 | -0.5575016 | 1.6250301 | -0.1416416 | ⋯ | -2.149431 | -0.44140318 | -0.7171661 | 0.16064742 |  0.1208465 | -0.6699648 | 1.3579426 | 2.015566 | 0.7705942 | -1.1618477 |\n",
              "\n"
            ],
            "text/plain": [
              "             AHR        AIRE      AP1      APEX1        AR       ARID4A    \n",
              "human_759_L1 0.67627008 1.1627055 5.707020  0.272136586 4.716855 -0.7447058\n",
              "human_j12_L1 1.85235907 2.1440383 5.108610 -0.001887422 5.102747 -0.5543906\n",
              "human_j3_L1  0.51025961 1.0172759 3.644221 -0.344000313 4.751144  0.1398408\n",
              "human_j4_L1  0.04831810 0.6770507 4.109690 -0.186377209 4.185399 -0.5530666\n",
              "human_j6_L1  2.04143066 1.8973564 5.707409  1.053681315 5.672564 -0.1654767\n",
              "human_759_L2 0.06959788 0.7247312 3.994979 -0.089913926 4.414277 -0.5820003\n",
              "             ARID4B    ARNT       ARX       ASCL1      ⋯ ZNF331    ZNF350     \n",
              "human_759_L1 0.4448113 -0.2206688 1.2596353  0.1293131 ⋯ -2.062938 -0.34457461\n",
              "human_j12_L1 0.1685959  0.5161325 1.6554498  0.4924631 ⋯ -1.760618 -0.44958932\n",
              "human_j3_L1  0.3225986 -0.3334291 1.0750981 -0.1400602 ⋯ -2.295994 -0.19502681\n",
              "human_j4_L1  0.4286519 -0.2997726 1.8092138  0.6595985 ⋯ -2.139637 -0.08521200\n",
              "human_j6_L1  0.4023635  0.3620508 0.9587113  1.2832946 ⋯ -1.851868 -0.09633481\n",
              "human_759_L2 0.5647768 -0.5575016 1.6250301 -0.1416416 ⋯ -2.149431 -0.44140318\n",
              "             ZNF354C    ZNF362     ZNF382     ZNF384     ZNF436    ZNF699  \n",
              "human_759_L1 -0.2630262 0.59802399 -1.1516971  0.9260869 1.1376373 2.337185\n",
              "human_j12_L1 -0.5314432 1.30651999 -1.2371470 -0.1639048 0.9536692 3.117587\n",
              "human_j3_L1  -1.2690388 0.08634817 -0.3444295 -0.8907076 1.2896657 1.299068\n",
              "human_j4_L1  -0.9159596 0.71748794 -0.9959501 -0.9426331 1.2371402 2.232823\n",
              "human_j6_L1  -0.6260540 0.36506096 -0.6109608  0.4073422 1.4372751 2.182601\n",
              "human_759_L2 -0.7171661 0.16064742  0.1208465 -0.6699648 1.3579426 2.015566\n",
              "             ZNF76     ZNF91     \n",
              "human_759_L1 0.7043411 -1.0409607\n",
              "human_j12_L1 0.9100560 -0.9133224\n",
              "human_j3_L1  1.0678970 -1.3379550\n",
              "human_j4_L1  0.8958876 -1.6055851\n",
              "human_j6_L1  0.7449757 -0.8453445\n",
              "human_759_L2 0.7705942 -1.1618477"
            ]
          },
          "metadata": {},
          "output_type": "display_data"
        }
      ],
      "source": [
        "activations <- t(read.csv(\"data/tf_activity/activations.csv\", row.names=1))\n",
        "#activations <- dat[order(dat$temperature, decreasing = FALSE), ]\n",
        "head(activations)"
      ]
    },
    {
      "cell_type": "code",
      "execution_count": 3,
      "metadata": {
        "colab": {
          "base_uri": "https://localhost:8080/",
          "height": 286
        },
        "id": "2IYThnceZHTo",
        "outputId": "5dca4054-f67f-4a6e-ff34-39ae456e5d0c",
        "vscode": {
          "languageId": "r"
        }
      },
      "outputs": [
        {
          "data": {
            "text/html": [
              "<table class=\"dataframe\">\n",
              "<caption>A data.frame: 6 × 8</caption>\n",
              "<thead>\n",
              "\t<tr><th></th><th scope=col>layer</th><th scope=col>sample_id</th><th scope=col>psbulk_cells</th><th scope=col>psbulk_counts</th><th scope=col>condition</th><th scope=col>lib_size</th><th scope=col>log_lib_size</th><th scope=col>layer_c</th></tr>\n",
              "\t<tr><th></th><th scope=col>&lt;chr&gt;</th><th scope=col>&lt;chr&gt;</th><th scope=col>&lt;dbl&gt;</th><th scope=col>&lt;dbl&gt;</th><th scope=col>&lt;chr&gt;</th><th scope=col>&lt;dbl&gt;</th><th scope=col>&lt;dbl&gt;</th><th scope=col>&lt;int&gt;</th></tr>\n",
              "</thead>\n",
              "<tbody>\n",
              "\t<tr><th scope=row>human_759_L1</th><td>L1</td><td>human_759</td><td>500</td><td>1400502</td><td>human</td><td>2801.004</td><td>7.937733</td><td>1</td></tr>\n",
              "\t<tr><th scope=row>human_j12_L1</th><td>L1</td><td>human_j12</td><td>331</td><td>1168612</td><td>human</td><td>3530.550</td><td>8.169209</td><td>1</td></tr>\n",
              "\t<tr><th scope=row>human_j3_L1</th><td>L1</td><td>human_j3 </td><td>110</td><td> 536103</td><td>human</td><td>4873.664</td><td>8.491601</td><td>1</td></tr>\n",
              "\t<tr><th scope=row>human_j4_L1</th><td>L1</td><td>human_j4 </td><td>238</td><td>1038124</td><td>human</td><td>4361.866</td><td>8.380655</td><td>1</td></tr>\n",
              "\t<tr><th scope=row>human_j6_L1</th><td>L1</td><td>human_j6 </td><td>134</td><td> 339404</td><td>human</td><td>2532.866</td><td>7.837107</td><td>1</td></tr>\n",
              "\t<tr><th scope=row>human_759_L2</th><td>L2</td><td>human_759</td><td>406</td><td>1962071</td><td>human</td><td>4832.687</td><td>8.483158</td><td>2</td></tr>\n",
              "</tbody>\n",
              "</table>\n"
            ],
            "text/latex": [
              "A data.frame: 6 × 8\n",
              "\\begin{tabular}{r|llllllll}\n",
              "  & layer & sample\\_id & psbulk\\_cells & psbulk\\_counts & condition & lib\\_size & log\\_lib\\_size & layer\\_c\\\\\n",
              "  & <chr> & <chr> & <dbl> & <dbl> & <chr> & <dbl> & <dbl> & <int>\\\\\n",
              "\\hline\n",
              "\thuman\\_759\\_L1 & L1 & human\\_759 & 500 & 1400502 & human & 2801.004 & 7.937733 & 1\\\\\n",
              "\thuman\\_j12\\_L1 & L1 & human\\_j12 & 331 & 1168612 & human & 3530.550 & 8.169209 & 1\\\\\n",
              "\thuman\\_j3\\_L1 & L1 & human\\_j3  & 110 &  536103 & human & 4873.664 & 8.491601 & 1\\\\\n",
              "\thuman\\_j4\\_L1 & L1 & human\\_j4  & 238 & 1038124 & human & 4361.866 & 8.380655 & 1\\\\\n",
              "\thuman\\_j6\\_L1 & L1 & human\\_j6  & 134 &  339404 & human & 2532.866 & 7.837107 & 1\\\\\n",
              "\thuman\\_759\\_L2 & L2 & human\\_759 & 406 & 1962071 & human & 4832.687 & 8.483158 & 2\\\\\n",
              "\\end{tabular}\n"
            ],
            "text/markdown": [
              "\n",
              "A data.frame: 6 × 8\n",
              "\n",
              "| <!--/--> | layer &lt;chr&gt; | sample_id &lt;chr&gt; | psbulk_cells &lt;dbl&gt; | psbulk_counts &lt;dbl&gt; | condition &lt;chr&gt; | lib_size &lt;dbl&gt; | log_lib_size &lt;dbl&gt; | layer_c &lt;int&gt; |\n",
              "|---|---|---|---|---|---|---|---|---|\n",
              "| human_759_L1 | L1 | human_759 | 500 | 1400502 | human | 2801.004 | 7.937733 | 1 |\n",
              "| human_j12_L1 | L1 | human_j12 | 331 | 1168612 | human | 3530.550 | 8.169209 | 1 |\n",
              "| human_j3_L1 | L1 | human_j3  | 110 |  536103 | human | 4873.664 | 8.491601 | 1 |\n",
              "| human_j4_L1 | L1 | human_j4  | 238 | 1038124 | human | 4361.866 | 8.380655 | 1 |\n",
              "| human_j6_L1 | L1 | human_j6  | 134 |  339404 | human | 2532.866 | 7.837107 | 1 |\n",
              "| human_759_L2 | L2 | human_759 | 406 | 1962071 | human | 4832.687 | 8.483158 | 2 |\n",
              "\n"
            ],
            "text/plain": [
              "             layer sample_id psbulk_cells psbulk_counts condition lib_size\n",
              "human_759_L1 L1    human_759 500          1400502       human     2801.004\n",
              "human_j12_L1 L1    human_j12 331          1168612       human     3530.550\n",
              "human_j3_L1  L1    human_j3  110           536103       human     4873.664\n",
              "human_j4_L1  L1    human_j4  238          1038124       human     4361.866\n",
              "human_j6_L1  L1    human_j6  134           339404       human     2532.866\n",
              "human_759_L2 L2    human_759 406          1962071       human     4832.687\n",
              "             log_lib_size layer_c\n",
              "human_759_L1 7.937733     1      \n",
              "human_j12_L1 8.169209     1      \n",
              "human_j3_L1  8.491601     1      \n",
              "human_j4_L1  8.380655     1      \n",
              "human_j6_L1  7.837107     1      \n",
              "human_759_L2 8.483158     2      "
            ]
          },
          "metadata": {},
          "output_type": "display_data"
        }
      ],
      "source": [
        "annotation <- read.csv(\"data/tf_activity/annotation.csv\", row.names=1)\n",
        "#activations <- dat[order(dat$temperature, decreasing = FALSE), ]\n",
        "head(annotation)"
      ]
    },
    {
      "cell_type": "code",
      "execution_count": 4,
      "metadata": {
        "colab": {
          "base_uri": "https://localhost:8080/",
          "height": 306
        },
        "id": "_iDXXEexZa0P",
        "outputId": "9fc865d2-adea-480a-dd43-e8d27ccf5ad8",
        "vscode": {
          "languageId": "r"
        }
      },
      "outputs": [
        {
          "data": {
            "text/html": [
              "<table class=\"dataframe\">\n",
              "<caption>A data.frame: 6 × 557</caption>\n",
              "<thead>\n",
              "\t<tr><th></th><th scope=col>layer</th><th scope=col>sample_id</th><th scope=col>psbulk_cells</th><th scope=col>psbulk_counts</th><th scope=col>condition</th><th scope=col>lib_size</th><th scope=col>log_lib_size</th><th scope=col>layer_c</th><th scope=col>AHR</th><th scope=col>AIRE</th><th scope=col>⋯</th><th scope=col>ZNF331</th><th scope=col>ZNF350</th><th scope=col>ZNF354C</th><th scope=col>ZNF362</th><th scope=col>ZNF382</th><th scope=col>ZNF384</th><th scope=col>ZNF436</th><th scope=col>ZNF699</th><th scope=col>ZNF76</th><th scope=col>ZNF91</th></tr>\n",
              "\t<tr><th></th><th scope=col>&lt;chr&gt;</th><th scope=col>&lt;chr&gt;</th><th scope=col>&lt;dbl&gt;</th><th scope=col>&lt;dbl&gt;</th><th scope=col>&lt;chr&gt;</th><th scope=col>&lt;dbl&gt;</th><th scope=col>&lt;dbl&gt;</th><th scope=col>&lt;int&gt;</th><th scope=col>&lt;dbl&gt;</th><th scope=col>&lt;dbl&gt;</th><th scope=col>⋯</th><th scope=col>&lt;dbl&gt;</th><th scope=col>&lt;dbl&gt;</th><th scope=col>&lt;dbl&gt;</th><th scope=col>&lt;dbl&gt;</th><th scope=col>&lt;dbl&gt;</th><th scope=col>&lt;dbl&gt;</th><th scope=col>&lt;dbl&gt;</th><th scope=col>&lt;dbl&gt;</th><th scope=col>&lt;dbl&gt;</th><th scope=col>&lt;dbl&gt;</th></tr>\n",
              "</thead>\n",
              "<tbody>\n",
              "\t<tr><th scope=row>human_759_L1</th><td>L1</td><td>human_759</td><td>500</td><td>1400502</td><td>human</td><td>2801.004</td><td>7.937733</td><td>1</td><td>0.67627008</td><td>1.1627055</td><td>⋯</td><td>-2.062938</td><td>-0.34457461</td><td>-0.2630262</td><td>0.59802399</td><td>-1.1516971</td><td> 0.9260869</td><td>1.1376373</td><td>2.337185</td><td>0.7043411</td><td>-1.0409607</td></tr>\n",
              "\t<tr><th scope=row>human_j12_L1</th><td>L1</td><td>human_j12</td><td>331</td><td>1168612</td><td>human</td><td>3530.550</td><td>8.169209</td><td>1</td><td>1.85235907</td><td>2.1440383</td><td>⋯</td><td>-1.760618</td><td>-0.44958932</td><td>-0.5314432</td><td>1.30651999</td><td>-1.2371470</td><td>-0.1639048</td><td>0.9536692</td><td>3.117587</td><td>0.9100560</td><td>-0.9133224</td></tr>\n",
              "\t<tr><th scope=row>human_j3_L1</th><td>L1</td><td>human_j3 </td><td>110</td><td> 536103</td><td>human</td><td>4873.664</td><td>8.491601</td><td>1</td><td>0.51025961</td><td>1.0172759</td><td>⋯</td><td>-2.295994</td><td>-0.19502681</td><td>-1.2690388</td><td>0.08634817</td><td>-0.3444295</td><td>-0.8907076</td><td>1.2896657</td><td>1.299068</td><td>1.0678970</td><td>-1.3379550</td></tr>\n",
              "\t<tr><th scope=row>human_j4_L1</th><td>L1</td><td>human_j4 </td><td>238</td><td>1038124</td><td>human</td><td>4361.866</td><td>8.380655</td><td>1</td><td>0.04831810</td><td>0.6770507</td><td>⋯</td><td>-2.139637</td><td>-0.08521200</td><td>-0.9159596</td><td>0.71748794</td><td>-0.9959501</td><td>-0.9426331</td><td>1.2371402</td><td>2.232823</td><td>0.8958876</td><td>-1.6055851</td></tr>\n",
              "\t<tr><th scope=row>human_j6_L1</th><td>L1</td><td>human_j6 </td><td>134</td><td> 339404</td><td>human</td><td>2532.866</td><td>7.837107</td><td>1</td><td>2.04143066</td><td>1.8973564</td><td>⋯</td><td>-1.851868</td><td>-0.09633481</td><td>-0.6260540</td><td>0.36506096</td><td>-0.6109608</td><td> 0.4073422</td><td>1.4372751</td><td>2.182601</td><td>0.7449757</td><td>-0.8453445</td></tr>\n",
              "\t<tr><th scope=row>human_759_L2</th><td>L2</td><td>human_759</td><td>406</td><td>1962071</td><td>human</td><td>4832.687</td><td>8.483158</td><td>2</td><td>0.06959788</td><td>0.7247312</td><td>⋯</td><td>-2.149431</td><td>-0.44140318</td><td>-0.7171661</td><td>0.16064742</td><td> 0.1208465</td><td>-0.6699648</td><td>1.3579426</td><td>2.015566</td><td>0.7705942</td><td>-1.1618477</td></tr>\n",
              "</tbody>\n",
              "</table>\n"
            ],
            "text/latex": [
              "A data.frame: 6 × 557\n",
              "\\begin{tabular}{r|lllllllllllllllllllll}\n",
              "  & layer & sample\\_id & psbulk\\_cells & psbulk\\_counts & condition & lib\\_size & log\\_lib\\_size & layer\\_c & AHR & AIRE & ⋯ & ZNF331 & ZNF350 & ZNF354C & ZNF362 & ZNF382 & ZNF384 & ZNF436 & ZNF699 & ZNF76 & ZNF91\\\\\n",
              "  & <chr> & <chr> & <dbl> & <dbl> & <chr> & <dbl> & <dbl> & <int> & <dbl> & <dbl> & ⋯ & <dbl> & <dbl> & <dbl> & <dbl> & <dbl> & <dbl> & <dbl> & <dbl> & <dbl> & <dbl>\\\\\n",
              "\\hline\n",
              "\thuman\\_759\\_L1 & L1 & human\\_759 & 500 & 1400502 & human & 2801.004 & 7.937733 & 1 & 0.67627008 & 1.1627055 & ⋯ & -2.062938 & -0.34457461 & -0.2630262 & 0.59802399 & -1.1516971 &  0.9260869 & 1.1376373 & 2.337185 & 0.7043411 & -1.0409607\\\\\n",
              "\thuman\\_j12\\_L1 & L1 & human\\_j12 & 331 & 1168612 & human & 3530.550 & 8.169209 & 1 & 1.85235907 & 2.1440383 & ⋯ & -1.760618 & -0.44958932 & -0.5314432 & 1.30651999 & -1.2371470 & -0.1639048 & 0.9536692 & 3.117587 & 0.9100560 & -0.9133224\\\\\n",
              "\thuman\\_j3\\_L1 & L1 & human\\_j3  & 110 &  536103 & human & 4873.664 & 8.491601 & 1 & 0.51025961 & 1.0172759 & ⋯ & -2.295994 & -0.19502681 & -1.2690388 & 0.08634817 & -0.3444295 & -0.8907076 & 1.2896657 & 1.299068 & 1.0678970 & -1.3379550\\\\\n",
              "\thuman\\_j4\\_L1 & L1 & human\\_j4  & 238 & 1038124 & human & 4361.866 & 8.380655 & 1 & 0.04831810 & 0.6770507 & ⋯ & -2.139637 & -0.08521200 & -0.9159596 & 0.71748794 & -0.9959501 & -0.9426331 & 1.2371402 & 2.232823 & 0.8958876 & -1.6055851\\\\\n",
              "\thuman\\_j6\\_L1 & L1 & human\\_j6  & 134 &  339404 & human & 2532.866 & 7.837107 & 1 & 2.04143066 & 1.8973564 & ⋯ & -1.851868 & -0.09633481 & -0.6260540 & 0.36506096 & -0.6109608 &  0.4073422 & 1.4372751 & 2.182601 & 0.7449757 & -0.8453445\\\\\n",
              "\thuman\\_759\\_L2 & L2 & human\\_759 & 406 & 1962071 & human & 4832.687 & 8.483158 & 2 & 0.06959788 & 0.7247312 & ⋯ & -2.149431 & -0.44140318 & -0.7171661 & 0.16064742 &  0.1208465 & -0.6699648 & 1.3579426 & 2.015566 & 0.7705942 & -1.1618477\\\\\n",
              "\\end{tabular}\n"
            ],
            "text/markdown": [
              "\n",
              "A data.frame: 6 × 557\n",
              "\n",
              "| <!--/--> | layer &lt;chr&gt; | sample_id &lt;chr&gt; | psbulk_cells &lt;dbl&gt; | psbulk_counts &lt;dbl&gt; | condition &lt;chr&gt; | lib_size &lt;dbl&gt; | log_lib_size &lt;dbl&gt; | layer_c &lt;int&gt; | AHR &lt;dbl&gt; | AIRE &lt;dbl&gt; | ⋯ ⋯ | ZNF331 &lt;dbl&gt; | ZNF350 &lt;dbl&gt; | ZNF354C &lt;dbl&gt; | ZNF362 &lt;dbl&gt; | ZNF382 &lt;dbl&gt; | ZNF384 &lt;dbl&gt; | ZNF436 &lt;dbl&gt; | ZNF699 &lt;dbl&gt; | ZNF76 &lt;dbl&gt; | ZNF91 &lt;dbl&gt; |\n",
              "|---|---|---|---|---|---|---|---|---|---|---|---|---|---|---|---|---|---|---|---|---|---|\n",
              "| human_759_L1 | L1 | human_759 | 500 | 1400502 | human | 2801.004 | 7.937733 | 1 | 0.67627008 | 1.1627055 | ⋯ | -2.062938 | -0.34457461 | -0.2630262 | 0.59802399 | -1.1516971 |  0.9260869 | 1.1376373 | 2.337185 | 0.7043411 | -1.0409607 |\n",
              "| human_j12_L1 | L1 | human_j12 | 331 | 1168612 | human | 3530.550 | 8.169209 | 1 | 1.85235907 | 2.1440383 | ⋯ | -1.760618 | -0.44958932 | -0.5314432 | 1.30651999 | -1.2371470 | -0.1639048 | 0.9536692 | 3.117587 | 0.9100560 | -0.9133224 |\n",
              "| human_j3_L1 | L1 | human_j3  | 110 |  536103 | human | 4873.664 | 8.491601 | 1 | 0.51025961 | 1.0172759 | ⋯ | -2.295994 | -0.19502681 | -1.2690388 | 0.08634817 | -0.3444295 | -0.8907076 | 1.2896657 | 1.299068 | 1.0678970 | -1.3379550 |\n",
              "| human_j4_L1 | L1 | human_j4  | 238 | 1038124 | human | 4361.866 | 8.380655 | 1 | 0.04831810 | 0.6770507 | ⋯ | -2.139637 | -0.08521200 | -0.9159596 | 0.71748794 | -0.9959501 | -0.9426331 | 1.2371402 | 2.232823 | 0.8958876 | -1.6055851 |\n",
              "| human_j6_L1 | L1 | human_j6  | 134 |  339404 | human | 2532.866 | 7.837107 | 1 | 2.04143066 | 1.8973564 | ⋯ | -1.851868 | -0.09633481 | -0.6260540 | 0.36506096 | -0.6109608 |  0.4073422 | 1.4372751 | 2.182601 | 0.7449757 | -0.8453445 |\n",
              "| human_759_L2 | L2 | human_759 | 406 | 1962071 | human | 4832.687 | 8.483158 | 2 | 0.06959788 | 0.7247312 | ⋯ | -2.149431 | -0.44140318 | -0.7171661 | 0.16064742 |  0.1208465 | -0.6699648 | 1.3579426 | 2.015566 | 0.7705942 | -1.1618477 |\n",
              "\n"
            ],
            "text/plain": [
              "             layer sample_id psbulk_cells psbulk_counts condition lib_size\n",
              "human_759_L1 L1    human_759 500          1400502       human     2801.004\n",
              "human_j12_L1 L1    human_j12 331          1168612       human     3530.550\n",
              "human_j3_L1  L1    human_j3  110           536103       human     4873.664\n",
              "human_j4_L1  L1    human_j4  238          1038124       human     4361.866\n",
              "human_j6_L1  L1    human_j6  134           339404       human     2532.866\n",
              "human_759_L2 L2    human_759 406          1962071       human     4832.687\n",
              "             log_lib_size layer_c AHR        AIRE      ⋯ ZNF331    ZNF350     \n",
              "human_759_L1 7.937733     1       0.67627008 1.1627055 ⋯ -2.062938 -0.34457461\n",
              "human_j12_L1 8.169209     1       1.85235907 2.1440383 ⋯ -1.760618 -0.44958932\n",
              "human_j3_L1  8.491601     1       0.51025961 1.0172759 ⋯ -2.295994 -0.19502681\n",
              "human_j4_L1  8.380655     1       0.04831810 0.6770507 ⋯ -2.139637 -0.08521200\n",
              "human_j6_L1  7.837107     1       2.04143066 1.8973564 ⋯ -1.851868 -0.09633481\n",
              "human_759_L2 8.483158     2       0.06959788 0.7247312 ⋯ -2.149431 -0.44140318\n",
              "             ZNF354C    ZNF362     ZNF382     ZNF384     ZNF436    ZNF699  \n",
              "human_759_L1 -0.2630262 0.59802399 -1.1516971  0.9260869 1.1376373 2.337185\n",
              "human_j12_L1 -0.5314432 1.30651999 -1.2371470 -0.1639048 0.9536692 3.117587\n",
              "human_j3_L1  -1.2690388 0.08634817 -0.3444295 -0.8907076 1.2896657 1.299068\n",
              "human_j4_L1  -0.9159596 0.71748794 -0.9959501 -0.9426331 1.2371402 2.232823\n",
              "human_j6_L1  -0.6260540 0.36506096 -0.6109608  0.4073422 1.4372751 2.182601\n",
              "human_759_L2 -0.7171661 0.16064742  0.1208465 -0.6699648 1.3579426 2.015566\n",
              "             ZNF76     ZNF91     \n",
              "human_759_L1 0.7043411 -1.0409607\n",
              "human_j12_L1 0.9100560 -0.9133224\n",
              "human_j3_L1  1.0678970 -1.3379550\n",
              "human_j4_L1  0.8958876 -1.6055851\n",
              "human_j6_L1  0.7449757 -0.8453445\n",
              "human_759_L2 0.7705942 -1.1618477"
            ]
          },
          "metadata": {},
          "output_type": "display_data"
        }
      ],
      "source": [
        "merge_df <- cbind(annotation, activations)\n",
        "head(merge_df)"
      ]
    },
    {
      "cell_type": "code",
      "execution_count": 5,
      "metadata": {
        "colab": {
          "base_uri": "https://localhost:8080/",
          "height": 398
        },
        "id": "JvVWBNvVgyoo",
        "outputId": "d5633264-1e13-4ec9-9028-ec46297d82ee",
        "vscode": {
          "languageId": "r"
        }
      },
      "outputs": [
        {
          "data": {
            "text/html": [
              "<table class=\"dataframe\">\n",
              "<caption>A matrix: 10 × 2 of type dbl</caption>\n",
              "<thead>\n",
              "\t<tr><th></th><th scope=col>one</th><th scope=col>two</th></tr>\n",
              "</thead>\n",
              "<tbody>\n",
              "\t<tr><th scope=row>col</th><td>1</td><td>2</td></tr>\n",
              "\t<tr><th scope=row>col</th><td>1</td><td>2</td></tr>\n",
              "\t<tr><th scope=row>col</th><td>1</td><td>2</td></tr>\n",
              "\t<tr><th scope=row>col</th><td>1</td><td>2</td></tr>\n",
              "\t<tr><th scope=row>col</th><td>1</td><td>2</td></tr>\n",
              "\t<tr><th scope=row>col</th><td>1</td><td>2</td></tr>\n",
              "\t<tr><th scope=row>col</th><td>1</td><td>2</td></tr>\n",
              "\t<tr><th scope=row>col</th><td>1</td><td>2</td></tr>\n",
              "\t<tr><th scope=row>col</th><td>1</td><td>2</td></tr>\n",
              "\t<tr><th scope=row>col</th><td>1</td><td>2</td></tr>\n",
              "</tbody>\n",
              "</table>\n"
            ],
            "text/latex": [
              "A matrix: 10 × 2 of type dbl\n",
              "\\begin{tabular}{r|ll}\n",
              "  & one & two\\\\\n",
              "\\hline\n",
              "\tcol & 1 & 2\\\\\n",
              "\tcol & 1 & 2\\\\\n",
              "\tcol & 1 & 2\\\\\n",
              "\tcol & 1 & 2\\\\\n",
              "\tcol & 1 & 2\\\\\n",
              "\tcol & 1 & 2\\\\\n",
              "\tcol & 1 & 2\\\\\n",
              "\tcol & 1 & 2\\\\\n",
              "\tcol & 1 & 2\\\\\n",
              "\tcol & 1 & 2\\\\\n",
              "\\end{tabular}\n"
            ],
            "text/markdown": [
              "\n",
              "A matrix: 10 × 2 of type dbl\n",
              "\n",
              "| <!--/--> | one | two |\n",
              "|---|---|---|\n",
              "| col | 1 | 2 |\n",
              "| col | 1 | 2 |\n",
              "| col | 1 | 2 |\n",
              "| col | 1 | 2 |\n",
              "| col | 1 | 2 |\n",
              "| col | 1 | 2 |\n",
              "| col | 1 | 2 |\n",
              "| col | 1 | 2 |\n",
              "| col | 1 | 2 |\n",
              "| col | 1 | 2 |\n",
              "\n"
            ],
            "text/plain": [
              "    one two\n",
              "col 1   2  \n",
              "col 1   2  \n",
              "col 1   2  \n",
              "col 1   2  \n",
              "col 1   2  \n",
              "col 1   2  \n",
              "col 1   2  \n",
              "col 1   2  \n",
              "col 1   2  \n",
              "col 1   2  "
            ]
          },
          "metadata": {},
          "output_type": "display_data"
        }
      ],
      "source": [
        "one <- rep(1, 10)\n",
        "names(one) <- rep('col', 10)\n",
        "\n",
        "two <- rep(2, 10)\n",
        "names(one) <- rep('col', 10)\n",
        "\n",
        "cbind(one, two)"
      ]
    },
    {
      "cell_type": "code",
      "execution_count": 6,
      "metadata": {
        "id": "F7EXfx8mZt2f",
        "vscode": {
          "languageId": "r"
        }
      },
      "outputs": [],
      "source": [
        "groups <- c('human', 'macaque')\n",
        "\n",
        "gene_num <- length(colnames(activations))\n",
        "f_value <- rep(-1.0, gene_num)\n",
        "names(f_value) <- colnames(activations)\n",
        "p_value <- rep(-1.0, gene_num)\n",
        "names(p_value) <- colnames(activations)\n",
        "\n",
        "for (name in colnames(activations)) {\n",
        "    comparison_df <- merge_df[(merge_df$condition == groups[1]) | (merge_df$condition == groups[2]), ]\n",
        "    comparison_df['target'] <- comparison_df[name]\n",
        "    model <- lm(target ~ sample_id + ns(layer_c, df=3) + condition:ns(layer_c, df=3), data=comparison_df)\n",
        "    anova_res <- anova(model)\n",
        "    p_value[name] <- anova_res['ns(layer_c, df = 3):condition', 'Pr(>F)']\n",
        "    f_value[name] <- anova_res['ns(layer_c, df = 3):condition', 'F value']\n",
        "}\n",
        "\n",
        "res_df <- cbind(p_value, f_value)\n",
        "colnames(res_df) <- c('p_value', 'F')\n",
        "\n",
        "write.csv(res_df, file='data/tf_activity/activation_comp_human_macaque.csv')"
      ]
    },
    {
      "cell_type": "code",
      "execution_count": 7,
      "metadata": {
        "colab": {
          "base_uri": "https://localhost:8080/",
          "height": 437
        },
        "id": "z9PLwlMckx54",
        "outputId": "6697675e-41ab-4deb-d4a4-4fdd190863e6",
        "vscode": {
          "languageId": "r"
        }
      },
      "outputs": [
        {
          "data": {
            "image/png": "[encoded data removed]",
            "text/plain": [
              "Plot with title “Histogram of res_df[, \"p_value\"]”"
            ]
          },
          "metadata": {
            "image/png": {
              "height": 420,
              "width": 420
            }
          },
          "output_type": "display_data"
        }
      ],
      "source": [
        "hist(res_df[,'p_value'])"
      ]
    },
    {
      "cell_type": "code",
      "execution_count": 8,
      "metadata": {
        "id": "S03nDgSRkcaN",
        "vscode": {
          "languageId": "r"
        }
      },
      "outputs": [],
      "source": [
        "groups <- c('human', 'chimp')\n",
        "\n",
        "gene_num <- length(colnames(activations))\n",
        "f_value <- rep(-1.0, gene_num)\n",
        "names(f_value) <- colnames(activations)\n",
        "p_value <- rep(-1.0, gene_num)\n",
        "names(p_value) <- colnames(activations)\n",
        "\n",
        "for (name in colnames(activations)) {\n",
        "    comparison_df <- merge_df[(merge_df$condition == groups[1]) | (merge_df$condition == groups[2]), ]\n",
        "    comparison_df['target'] <- comparison_df[name]\n",
        "    model <- lm(target ~ sample_id + ns(layer_c, df=3) + condition:ns(layer_c, df=3), data=comparison_df)\n",
        "    anova_res <- anova(model)\n",
        "    p_value[name] <- anova_res['ns(layer_c, df = 3):condition', 'Pr(>F)']\n",
        "    f_value[name] <- anova_res['ns(layer_c, df = 3):condition', 'F value']\n",
        "}\n",
        "\n",
        "res_df <- cbind(p_value, f_value)\n",
        "colnames(res_df) <- c('p_value', 'F')\n",
        "\n",
        "write.csv(res_df, file='data/tf_activity/activation_comp_human_chimp.csv')"
      ]
    },
    {
      "cell_type": "code",
      "execution_count": 9,
      "metadata": {
        "colab": {
          "base_uri": "https://localhost:8080/",
          "height": 437
        },
        "id": "CwgkiqtBk_Tu",
        "outputId": "2d82035d-869d-4404-b50d-d4664b7e7f72",
        "vscode": {
          "languageId": "r"
        }
      },
      "outputs": [
        {
          "data": {
            "image/png": "[encoded data removed]",
            "text/plain": [
              "Plot with title “Histogram of res_df[, \"p_value\"]”"
            ]
          },
          "metadata": {
            "image/png": {
              "height": 420,
              "width": 420
            }
          },
          "output_type": "display_data"
        }
      ],
      "source": [
        "hist(res_df[,'p_value'])"
      ]
    },
    {
      "cell_type": "code",
      "execution_count": 10,
      "metadata": {
        "id": "P3ItiI17kl1u",
        "vscode": {
          "languageId": "r"
        }
      },
      "outputs": [],
      "source": [
        "groups <- c('chimp', 'macaque')\n",
        "\n",
        "gene_num <- length(colnames(activations))\n",
        "f_value <- rep(-1.0, gene_num)\n",
        "names(f_value) <- colnames(activations)\n",
        "p_value <- rep(-1.0, gene_num)\n",
        "names(p_value) <- colnames(activations)\n",
        "\n",
        "for (name in colnames(activations)) {\n",
        "    comparison_df <- merge_df[(merge_df$condition == groups[1]) | (merge_df$condition == groups[2]), ]\n",
        "    comparison_df['target'] <- comparison_df[name]\n",
        "    model <- lm(target ~ sample_id + ns(layer_c, df=3) + condition:ns(layer_c, df=3), data=comparison_df)\n",
        "    anova_res <- anova(model)\n",
        "    p_value[name] <- anova_res['ns(layer_c, df = 3):condition', 'Pr(>F)']\n",
        "    f_value[name] <- anova_res['ns(layer_c, df = 3):condition', 'F value']\n",
        "}\n",
        "\n",
        "res_df <- cbind(p_value, f_value)\n",
        "colnames(res_df) <- c('p_value', 'F')\n",
        "\n",
        "write.csv(res_df, file='data/tf_activity/activation_comp_chimp_macaque.csv')"
      ]
    },
    {
      "cell_type": "code",
      "execution_count": 11,
      "metadata": {
        "colab": {
          "base_uri": "https://localhost:8080/",
          "height": 437
        },
        "id": "wckroDTDk_z4",
        "outputId": "e198fa4d-6443-40b3-d382-27f2b0cc13ca",
        "vscode": {
          "languageId": "r"
        }
      },
      "outputs": [
        {
          "data": {
            "image/png": "[encoded data removed]",
            "text/plain": [
              "Plot with title “Histogram of res_df[, \"p_value\"]”"
            ]
          },
          "metadata": {
            "image/png": {
              "height": 420,
              "width": 420
            }
          },
          "output_type": "display_data"
        }
      ],
      "source": [
        "hist(res_df[,'p_value'])"
      ]
    }
  ],
  "metadata": {
    "colab": {
      "provenance": []
    },
    "kernelspec": {
      "display_name": "R",
      "language": "R",
      "name": "ir"
    },
    "language_info": {
      "codemirror_mode": "r",
      "file_extension": ".r",
      "mimetype": "text/x-r-source",
      "name": "R",
      "pygments_lexer": "r",
      "version": "4.4.0"
    }
  },
  "nbformat": 4,
  "nbformat_minor": 0
}
